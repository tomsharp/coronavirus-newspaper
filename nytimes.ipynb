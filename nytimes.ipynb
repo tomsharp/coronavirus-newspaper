{
 "cells": [
  {
   "cell_type": "code",
   "execution_count": 1,
   "metadata": {},
   "outputs": [],
   "source": [
    "import newspaper\n",
    "import requests\n",
    "from bs4 import BeautifulSoup\n",
    "from selenium import webdriver\n",
    "import sqlite3\n",
    "import pandas as pd\n",
    "import time\n",
    "from datetime import datetime"
   ]
  },
  {
   "cell_type": "code",
   "execution_count": 2,
   "metadata": {},
   "outputs": [],
   "source": [
    "def update_articles_table(links, site):\n",
    "    bad_links = []\n",
    "    with sqlite3.connect('data/newspaper.db') as conn:\n",
    "        c = conn.cursor()\n",
    "        for link in links:\n",
    "            c.execute(\"\"\"SELECT link\n",
    "                        FROM articles\n",
    "                        WHERE link=\"{}\"\n",
    "                        \"\"\".format(link))\n",
    "            \n",
    "            result = c.fetchone()\n",
    "            if result:\n",
    "                print(\"link already exists: {}\".format(link))\n",
    "                bad_links.append(link)\n",
    "            else:\n",
    "                c.execute(\"INSERT INTO articles VALUES (?, ?)\", (site, link))\n",
    "                conn.commit()\n",
    "        return bad_links "
   ]
  },
  {
   "cell_type": "code",
   "execution_count": 5,
   "metadata": {},
   "outputs": [],
   "source": [
    "def scrape_nytimes_links(end_date, start_date, driver):\n",
    "    url = 'https://www.nytimes.com/search?dropmab=false&endDate={}&query=coronavirus&sort=newest&startDate={}&types=article'.format(end_date, start_date)\n",
    "    driver.get(url)\n",
    "\n",
    "    # calculate n_clicks required\n",
    "    p = driver.find_element_by_tag_name('p')\n",
    "    n_articles = int(p.text.split('Showing ')[1].split(' results for')[0])\n",
    "    n_clicks = (n_articles-1)//10\n",
    "    print(\"click required:\", n_clicks)\n",
    "    \n",
    "    \n",
    "    global_links = []\n",
    "    for i in range(n_clicks+1+1):\n",
    "    \n",
    "        print(\"Click #:\", i)\n",
    "\n",
    "        # find list tags, grab links \n",
    "        els = driver.find_elements_by_tag_name('li')\n",
    "        links = []\n",
    "        for el in els:\n",
    "            try:\n",
    "                a = el.find_element_by_tag_name('a')\n",
    "                href = a.get_attribute('href')\n",
    "            except:\n",
    "                print(\"bad element, no <a> tag:\", el)\n",
    "            link = href.split('?searchResultPosition')[0]\n",
    "            links.append(link)\n",
    "\n",
    "        # cut off links in footer of page\n",
    "        cut_index = [i for i, link in enumerate(links) if link == 'https://www.nytimes.com/'][0]\n",
    "        links = links[:cut_index]\n",
    "        links = [l for l in links if l not in global_links]\n",
    "        global_links.append(links)\n",
    "\n",
    "        # update db\n",
    "        update_articles_table(links, 'nytimes')\n",
    "\n",
    "        # find and click 'show more' button\n",
    "        buttons = driver.find_elements_by_tag_name('button')\n",
    "        button = [b for b in buttons if b.text=='SHOW MORE'][0]\n",
    "        button.click()\n",
    "\n",
    "        # sleep \n",
    "        now = datetime.now()\n",
    "        current_time = now.strftime(\"%H:%M:%S\")\n",
    "        print('sleeping... {}'.format(current_time))\n",
    "        time.sleep(60)"
   ]
  },
  {
   "cell_type": "code",
   "execution_count": 5,
   "metadata": {},
   "outputs": [],
   "source": [
    "g = []\n",
    "l = [1,2,3]\n",
    "g.extend(l)"
   ]
  },
  {
   "cell_type": "code",
   "execution_count": 7,
   "metadata": {},
   "outputs": [],
   "source": [
    "g.extend(l)"
   ]
  },
  {
   "cell_type": "code",
   "execution_count": 8,
   "metadata": {},
   "outputs": [
    {
     "data": {
      "text/plain": [
       "[1, 2, 3, 1, 2, 3]"
      ]
     },
     "execution_count": 8,
     "metadata": {},
     "output_type": "execute_result"
    }
   ],
   "source": [
    "g"
   ]
  }
 ],
 "metadata": {
  "kernelspec": {
   "display_name": "Python 3",
   "language": "python",
   "name": "python3"
  },
  "language_info": {
   "codemirror_mode": {
    "name": "ipython",
    "version": 3
   },
   "file_extension": ".py",
   "mimetype": "text/x-python",
   "name": "python",
   "nbconvert_exporter": "python",
   "pygments_lexer": "ipython3",
   "version": "3.7.4"
  }
 },
 "nbformat": 4,
 "nbformat_minor": 2
}
