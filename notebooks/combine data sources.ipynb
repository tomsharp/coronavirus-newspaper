{
 "cells": [
  {
   "cell_type": "code",
   "execution_count": 27,
   "metadata": {},
   "outputs": [],
   "source": [
    "import pandas as pd\n",
    "import numpy as np\n",
    "from datetime import datetime\n",
    "import plotly.express as px\n",
    "import plotly.graph_objects as go\n",
    "from plotly.subplots import make_subplots"
   ]
  },
  {
   "cell_type": "markdown",
   "metadata": {},
   "source": [
    "## Combine and Tidy Data Sources"
   ]
  },
  {
   "cell_type": "code",
   "execution_count": 28,
   "metadata": {},
   "outputs": [],
   "source": [
    "djia = pd.read_csv(\"data/^DJI.csv\")\n",
    "confirmed = pd.read_csv(\"data/time_series_19-covid-Confirmed.csv\")\n",
    "deaths = pd.read_csv(\"data/time_series_19-covid-Deaths.csv\")\n",
    "recovered = pd.read_csv(\"data/time_series_19-covid-Recovered.csv\")"
   ]
  },
  {
   "cell_type": "code",
   "execution_count": 29,
   "metadata": {},
   "outputs": [],
   "source": [
    "djia = djia[djia['Date'] >= '2020-01-01']\n",
    "djia['Date']=djia['Date'].apply(lambda x: datetime.strptime(x, '%Y-%m-%d'))"
   ]
  },
  {
   "cell_type": "code",
   "execution_count": 30,
   "metadata": {},
   "outputs": [],
   "source": [
    "# tidy 3 dfs\n",
    "melt_ids = ['Province/State', 'Country/Region', 'Lat', 'Long']\n",
    "\n",
    "tidy_confirmed = confirmed.melt(id_vars=melt_ids, \n",
    "                               value_vars=[c for c in confirmed.columns \\\n",
    "                                           if c not in ['Province/State', 'Country/Region', 'Lat', 'Long']], \n",
    "                               var_name='Date', value_name='Confirmed')\n",
    "\n",
    "tidy_deaths = deaths.melt(id_vars=melt_ids, \n",
    "                               value_vars=[c for c in confirmed.columns \\\n",
    "                                           if c not in ['Province/State', 'Country/Region', 'Lat', 'Long']], \n",
    "                               var_name='Date', value_name='Deaths')\n",
    "\n",
    "tidy_recovered = recovered.melt(id_vars=melt_ids, \n",
    "                                value_vars=[c for c in confirmed.columns \\\n",
    "                                           if c not in ['Province/State', 'Country/Region', 'Lat', 'Long']], \n",
    "                                var_name='Date', value_name='Recovered')\n",
    "\n",
    "\n",
    "# merge 3 dfs\n",
    "melt_ids.append('Date')\n",
    "df = pd.merge(pd.merge(tidy_confirmed, tidy_deaths, on=melt_ids), \n",
    "                         tidy_recovered, on=melt_ids)\n",
    "\n",
    "# tidy merged df\n",
    "tidy_df = df.melt(id_vars=melt_ids, \n",
    "                  value_vars=['Confirmed', 'Deaths', 'Recovered'],\n",
    "                  var_name='Type', \n",
    "                  value_name='Count')\n",
    "\n",
    "# format date col\n",
    "tidy_df['Date']=tidy_df['Date'].apply(lambda x: datetime.strptime(x, '%m/%d/%y'))"
   ]
  },
  {
   "cell_type": "markdown",
   "metadata": {},
   "source": [
    "## Plot"
   ]
  },
  {
   "cell_type": "code",
   "execution_count": 31,
   "metadata": {},
   "outputs": [],
   "source": [
    "# counts by country/region\n",
    "tidy_df = tidy_df.drop(['Lat', 'Long'],axis=1).groupby(['Country/Region', 'Type', 'Date']).sum().reset_index()\n",
    "\n",
    "# counts by US/Non-US\n",
    "tidy_df['US'] = tidy_df['Country/Region'] == 'US'\n",
    "tidy_df['US'].replace(True, 'US', inplace=True)\n",
    "tidy_df['US'].replace(False, 'Non-US', inplace=True)\n",
    "tidy_df = tidy_df.groupby(['US', 'Date', 'Type']).sum().reset_index()"
   ]
  },
  {
   "cell_type": "code",
   "execution_count": 32,
   "metadata": {},
   "outputs": [],
   "source": [
    "# merge djia \n",
    "tidy_df = tidy_df.merge(djia, how='left', on='Date')"
   ]
  },
  {
   "cell_type": "code",
   "execution_count": 33,
   "metadata": {},
   "outputs": [
    {
     "data": {
      "text/html": [
       "<div>\n",
       "<style scoped>\n",
       "    .dataframe tbody tr th:only-of-type {\n",
       "        vertical-align: middle;\n",
       "    }\n",
       "\n",
       "    .dataframe tbody tr th {\n",
       "        vertical-align: top;\n",
       "    }\n",
       "\n",
       "    .dataframe thead th {\n",
       "        text-align: right;\n",
       "    }\n",
       "</style>\n",
       "<table border=\"1\" class=\"dataframe\">\n",
       "  <thead>\n",
       "    <tr style=\"text-align: right;\">\n",
       "      <th></th>\n",
       "      <th>US</th>\n",
       "      <th>Date</th>\n",
       "      <th>Type</th>\n",
       "      <th>Count</th>\n",
       "      <th>Open</th>\n",
       "      <th>High</th>\n",
       "      <th>Low</th>\n",
       "      <th>Close</th>\n",
       "      <th>Adj Close</th>\n",
       "      <th>Volume</th>\n",
       "    </tr>\n",
       "  </thead>\n",
       "  <tbody>\n",
       "    <tr>\n",
       "      <td>62</td>\n",
       "      <td>Non-US</td>\n",
       "      <td>2020-02-11</td>\n",
       "      <td>Recovered</td>\n",
       "      <td>4680</td>\n",
       "      <td>29390.710938</td>\n",
       "      <td>29415.390625</td>\n",
       "      <td>29210.470703</td>\n",
       "      <td>29276.339844</td>\n",
       "      <td>29276.339844</td>\n",
       "      <td>279540000.0</td>\n",
       "    </tr>\n",
       "    <tr>\n",
       "      <td>215</td>\n",
       "      <td>US</td>\n",
       "      <td>2020-02-16</td>\n",
       "      <td>Recovered</td>\n",
       "      <td>3</td>\n",
       "      <td>NaN</td>\n",
       "      <td>NaN</td>\n",
       "      <td>NaN</td>\n",
       "      <td>NaN</td>\n",
       "      <td>NaN</td>\n",
       "      <td>NaN</td>\n",
       "    </tr>\n",
       "    <tr>\n",
       "      <td>55</td>\n",
       "      <td>Non-US</td>\n",
       "      <td>2020-02-09</td>\n",
       "      <td>Deaths</td>\n",
       "      <td>906</td>\n",
       "      <td>NaN</td>\n",
       "      <td>NaN</td>\n",
       "      <td>NaN</td>\n",
       "      <td>NaN</td>\n",
       "      <td>NaN</td>\n",
       "      <td>NaN</td>\n",
       "    </tr>\n",
       "    <tr>\n",
       "      <td>194</td>\n",
       "      <td>US</td>\n",
       "      <td>2020-02-09</td>\n",
       "      <td>Recovered</td>\n",
       "      <td>3</td>\n",
       "      <td>NaN</td>\n",
       "      <td>NaN</td>\n",
       "      <td>NaN</td>\n",
       "      <td>NaN</td>\n",
       "      <td>NaN</td>\n",
       "      <td>NaN</td>\n",
       "    </tr>\n",
       "    <tr>\n",
       "      <td>10</td>\n",
       "      <td>Non-US</td>\n",
       "      <td>2020-01-25</td>\n",
       "      <td>Deaths</td>\n",
       "      <td>42</td>\n",
       "      <td>NaN</td>\n",
       "      <td>NaN</td>\n",
       "      <td>NaN</td>\n",
       "      <td>NaN</td>\n",
       "      <td>NaN</td>\n",
       "      <td>NaN</td>\n",
       "    </tr>\n",
       "  </tbody>\n",
       "</table>\n",
       "</div>"
      ],
      "text/plain": [
       "         US       Date       Type  Count          Open          High  \\\n",
       "62   Non-US 2020-02-11  Recovered   4680  29390.710938  29415.390625   \n",
       "215      US 2020-02-16  Recovered      3           NaN           NaN   \n",
       "55   Non-US 2020-02-09     Deaths    906           NaN           NaN   \n",
       "194      US 2020-02-09  Recovered      3           NaN           NaN   \n",
       "10   Non-US 2020-01-25     Deaths     42           NaN           NaN   \n",
       "\n",
       "              Low         Close     Adj Close       Volume  \n",
       "62   29210.470703  29276.339844  29276.339844  279540000.0  \n",
       "215           NaN           NaN           NaN          NaN  \n",
       "55            NaN           NaN           NaN          NaN  \n",
       "194           NaN           NaN           NaN          NaN  \n",
       "10            NaN           NaN           NaN          NaN  "
      ]
     },
     "execution_count": 33,
     "metadata": {},
     "output_type": "execute_result"
    }
   ],
   "source": [
    "tidy_df.sample(5)"
   ]
  },
  {
   "cell_type": "code",
   "execution_count": 34,
   "metadata": {},
   "outputs": [
    {
     "data": {
      "application/vnd.plotly.v1+json": {
       "config": {
        "plotlyServerURL": "https://plot.ly"
       },
       "data": [
        {
         "mode": "markers",
         "name": "US-Confirmed",
         "type": "scatter",
         "x": [
          1,
          1,
          2,
          2,
          5,
          5,
          5,
          5,
          5,
          7,
          8,
          8,
          11,
          11,
          12,
          12,
          12,
          12,
          12,
          12,
          13,
          13,
          15,
          15,
          15,
          15,
          15,
          15,
          15,
          15,
          35,
          35,
          35,
          53,
          53,
          59,
          60,
          62,
          70,
          76,
          101,
          121,
          152,
          220,
          277,
          417
         ],
         "xaxis": "x",
         "y": [
          29186.269531,
          29160.089844,
          28989.730469,
          null,
          null,
          28535.800781,
          28722.849608999997,
          28734.449219,
          28859.439452999995,
          28256.029297000005,
          null,
          null,
          28399.810547000005,
          28807.630858999997,
          29290.849608999997,
          29379.769531,
          29102.509766000003,
          null,
          null,
          29276.820313,
          29276.339844,
          29551.419922000005,
          29423.310547000005,
          29398.080077999995,
          null,
          null,
          null,
          29232.189452999995,
          29348.029297000005,
          29219.980469,
          28992.410156,
          null,
          null,
          27960.800781,
          27081.359375,
          26957.589844,
          25766.640625,
          25409.359375,
          null,
          null,
          26703.320313,
          25917.410156,
          27090.859375,
          26121.279297,
          25864.779297,
          null
         ],
         "yaxis": "y"
        },
        {
         "mode": "markers",
         "name": "Non-US-Confirmed",
         "type": "scatter",
         "x": [
          554,
          652,
          939,
          1432,
          2113,
          2922,
          5573,
          6161,
          8229,
          9920,
          12030,
          16779,
          19870,
          23881,
          27624,
          30806,
          34380,
          37109,
          40139,
          42751,
          44790,
          45209,
          60355,
          66872,
          69017,
          71211,
          73245,
          75123,
          75626,
          76184,
          76808,
          78564,
          78950,
          79517,
          80362,
          81338,
          82696,
          84060,
          85943,
          88295,
          90208,
          92722,
          94971,
          97665,
          101522,
          105419
         ],
         "xaxis": "x2",
         "y": [
          29186.269531,
          29160.089844,
          28989.730469,
          null,
          null,
          28535.800781,
          28722.849608999997,
          28734.449219,
          28859.439452999995,
          28256.029297000005,
          null,
          null,
          28399.810547000005,
          28807.630858999997,
          29290.849608999997,
          29379.769531,
          29102.509766000003,
          null,
          null,
          29276.820313,
          29276.339844,
          29551.419922000005,
          29423.310547000005,
          29398.080077999995,
          null,
          null,
          null,
          29232.189452999995,
          29348.029297000005,
          29219.980469,
          28992.410156,
          null,
          null,
          27960.800781,
          27081.359375,
          26957.589844,
          25766.640625,
          25409.359375,
          null,
          null,
          26703.320313,
          25917.410156,
          27090.859375,
          26121.279297,
          25864.779297,
          null
         ],
         "yaxis": "y2"
        },
        {
         "mode": "markers",
         "name": "US-Deaths",
         "type": "scatter",
         "x": [
          0,
          0,
          0,
          0,
          0,
          0,
          0,
          0,
          0,
          0,
          0,
          0,
          0,
          0,
          0,
          0,
          0,
          0,
          0,
          0,
          0,
          0,
          0,
          0,
          0,
          0,
          0,
          0,
          0,
          0,
          0,
          0,
          0,
          0,
          0,
          0,
          0,
          0,
          1,
          1,
          6,
          7,
          11,
          12,
          14,
          17
         ],
         "xaxis": "x3",
         "y": [
          29186.269531,
          29160.089844,
          28989.730469,
          null,
          null,
          28535.800781,
          28722.849608999997,
          28734.449219,
          28859.439452999995,
          28256.029297000005,
          null,
          null,
          28399.810547000005,
          28807.630858999997,
          29290.849608999997,
          29379.769531,
          29102.509766000003,
          null,
          null,
          29276.820313,
          29276.339844,
          29551.419922000005,
          29423.310547000005,
          29398.080077999995,
          null,
          null,
          null,
          29232.189452999995,
          29348.029297000005,
          29219.980469,
          28992.410156,
          null,
          null,
          27960.800781,
          27081.359375,
          26957.589844,
          25766.640625,
          25409.359375,
          null,
          null,
          26703.320313,
          25917.410156,
          27090.859375,
          26121.279297,
          25864.779297,
          null
         ],
         "yaxis": "y3"
        },
        {
         "mode": "markers",
         "name": "Non-US-Deaths",
         "type": "scatter",
         "x": [
          17,
          18,
          26,
          42,
          56,
          82,
          131,
          133,
          171,
          213,
          259,
          362,
          426,
          492,
          564,
          634,
          719,
          806,
          906,
          1013,
          1113,
          1118,
          1371,
          1523,
          1666,
          1770,
          1868,
          2007,
          2122,
          2247,
          2251,
          2458,
          2469,
          2629,
          2708,
          2770,
          2814,
          2872,
          2940,
          2995,
          3079,
          3153,
          3243,
          3336,
          3446,
          3541
         ],
         "xaxis": "x4",
         "y": [
          29186.269531,
          29160.089844,
          28989.730469,
          null,
          null,
          28535.800781,
          28722.849608999997,
          28734.449219,
          28859.439452999995,
          28256.029297000005,
          null,
          null,
          28399.810547000005,
          28807.630858999997,
          29290.849608999997,
          29379.769531,
          29102.509766000003,
          null,
          null,
          29276.820313,
          29276.339844,
          29551.419922000005,
          29423.310547000005,
          29398.080077999995,
          null,
          null,
          null,
          29232.189452999995,
          29348.029297000005,
          29219.980469,
          28992.410156,
          null,
          null,
          27960.800781,
          27081.359375,
          26957.589844,
          25766.640625,
          25409.359375,
          null,
          null,
          26703.320313,
          25917.410156,
          27090.859375,
          26121.279297,
          25864.779297,
          null
         ],
         "yaxis": "y4"
        },
        {
         "mode": "markers",
         "name": "US-Recovered",
         "type": "scatter",
         "x": [
          0,
          0,
          0,
          0,
          0,
          0,
          0,
          0,
          0,
          0,
          0,
          0,
          0,
          0,
          0,
          0,
          0,
          0,
          3,
          3,
          3,
          3,
          3,
          3,
          3,
          3,
          3,
          3,
          3,
          3,
          5,
          5,
          5,
          5,
          6,
          6,
          6,
          7,
          7,
          7,
          7,
          8,
          8,
          8,
          8,
          8
         ],
         "xaxis": "x5",
         "y": [
          29186.269531,
          29160.089844,
          28989.730469,
          null,
          null,
          28535.800781,
          28722.849608999997,
          28734.449219,
          28859.439452999995,
          28256.029297000005,
          null,
          null,
          28399.810547000005,
          28807.630858999997,
          29290.849608999997,
          29379.769531,
          29102.509766000003,
          null,
          null,
          29276.820313,
          29276.339844,
          29551.419922000005,
          29423.310547000005,
          29398.080077999995,
          null,
          null,
          null,
          29232.189452999995,
          29348.029297000005,
          29219.980469,
          28992.410156,
          null,
          null,
          27960.800781,
          27081.359375,
          26957.589844,
          25766.640625,
          25409.359375,
          null,
          null,
          26703.320313,
          25917.410156,
          27090.859375,
          26121.279297,
          25864.779297,
          null
         ],
         "yaxis": "y5"
        },
        {
         "mode": "markers",
         "name": "Non-US-Recovered",
         "type": "scatter",
         "x": [
          28,
          30,
          36,
          39,
          52,
          61,
          107,
          126,
          143,
          222,
          284,
          472,
          623,
          852,
          1124,
          1487,
          2011,
          2616,
          3241,
          3943,
          4680,
          5147,
          6292,
          8055,
          9392,
          10862,
          12580,
          14349,
          16118,
          18174,
          18885,
          22881,
          23389,
          25222,
          27899,
          30378,
          33271,
          36704,
          39775,
          42709,
          45595,
          48221,
          51163,
          53789,
          55858,
          58351
         ],
         "xaxis": "x6",
         "y": [
          29186.269531,
          29160.089844,
          28989.730469,
          null,
          null,
          28535.800781,
          28722.849608999997,
          28734.449219,
          28859.439452999995,
          28256.029297000005,
          null,
          null,
          28399.810547000005,
          28807.630858999997,
          29290.849608999997,
          29379.769531,
          29102.509766000003,
          null,
          null,
          29276.820313,
          29276.339844,
          29551.419922000005,
          29423.310547000005,
          29398.080077999995,
          null,
          null,
          null,
          29232.189452999995,
          29348.029297000005,
          29219.980469,
          28992.410156,
          null,
          null,
          27960.800781,
          27081.359375,
          26957.589844,
          25766.640625,
          25409.359375,
          null,
          null,
          26703.320313,
          25917.410156,
          27090.859375,
          26121.279297,
          25864.779297,
          null
         ],
         "yaxis": "y6"
        }
       ],
       "layout": {
        "template": {
         "data": {
          "bar": [
           {
            "error_x": {
             "color": "#2a3f5f"
            },
            "error_y": {
             "color": "#2a3f5f"
            },
            "marker": {
             "line": {
              "color": "#E5ECF6",
              "width": 0.5
             }
            },
            "type": "bar"
           }
          ],
          "barpolar": [
           {
            "marker": {
             "line": {
              "color": "#E5ECF6",
              "width": 0.5
             }
            },
            "type": "barpolar"
           }
          ],
          "carpet": [
           {
            "aaxis": {
             "endlinecolor": "#2a3f5f",
             "gridcolor": "white",
             "linecolor": "white",
             "minorgridcolor": "white",
             "startlinecolor": "#2a3f5f"
            },
            "baxis": {
             "endlinecolor": "#2a3f5f",
             "gridcolor": "white",
             "linecolor": "white",
             "minorgridcolor": "white",
             "startlinecolor": "#2a3f5f"
            },
            "type": "carpet"
           }
          ],
          "choropleth": [
           {
            "colorbar": {
             "outlinewidth": 0,
             "ticks": ""
            },
            "type": "choropleth"
           }
          ],
          "contour": [
           {
            "colorbar": {
             "outlinewidth": 0,
             "ticks": ""
            },
            "colorscale": [
             [
              0,
              "#0d0887"
             ],
             [
              0.1111111111111111,
              "#46039f"
             ],
             [
              0.2222222222222222,
              "#7201a8"
             ],
             [
              0.3333333333333333,
              "#9c179e"
             ],
             [
              0.4444444444444444,
              "#bd3786"
             ],
             [
              0.5555555555555556,
              "#d8576b"
             ],
             [
              0.6666666666666666,
              "#ed7953"
             ],
             [
              0.7777777777777778,
              "#fb9f3a"
             ],
             [
              0.8888888888888888,
              "#fdca26"
             ],
             [
              1,
              "#f0f921"
             ]
            ],
            "type": "contour"
           }
          ],
          "contourcarpet": [
           {
            "colorbar": {
             "outlinewidth": 0,
             "ticks": ""
            },
            "type": "contourcarpet"
           }
          ],
          "heatmap": [
           {
            "colorbar": {
             "outlinewidth": 0,
             "ticks": ""
            },
            "colorscale": [
             [
              0,
              "#0d0887"
             ],
             [
              0.1111111111111111,
              "#46039f"
             ],
             [
              0.2222222222222222,
              "#7201a8"
             ],
             [
              0.3333333333333333,
              "#9c179e"
             ],
             [
              0.4444444444444444,
              "#bd3786"
             ],
             [
              0.5555555555555556,
              "#d8576b"
             ],
             [
              0.6666666666666666,
              "#ed7953"
             ],
             [
              0.7777777777777778,
              "#fb9f3a"
             ],
             [
              0.8888888888888888,
              "#fdca26"
             ],
             [
              1,
              "#f0f921"
             ]
            ],
            "type": "heatmap"
           }
          ],
          "heatmapgl": [
           {
            "colorbar": {
             "outlinewidth": 0,
             "ticks": ""
            },
            "colorscale": [
             [
              0,
              "#0d0887"
             ],
             [
              0.1111111111111111,
              "#46039f"
             ],
             [
              0.2222222222222222,
              "#7201a8"
             ],
             [
              0.3333333333333333,
              "#9c179e"
             ],
             [
              0.4444444444444444,
              "#bd3786"
             ],
             [
              0.5555555555555556,
              "#d8576b"
             ],
             [
              0.6666666666666666,
              "#ed7953"
             ],
             [
              0.7777777777777778,
              "#fb9f3a"
             ],
             [
              0.8888888888888888,
              "#fdca26"
             ],
             [
              1,
              "#f0f921"
             ]
            ],
            "type": "heatmapgl"
           }
          ],
          "histogram": [
           {
            "marker": {
             "colorbar": {
              "outlinewidth": 0,
              "ticks": ""
             }
            },
            "type": "histogram"
           }
          ],
          "histogram2d": [
           {
            "colorbar": {
             "outlinewidth": 0,
             "ticks": ""
            },
            "colorscale": [
             [
              0,
              "#0d0887"
             ],
             [
              0.1111111111111111,
              "#46039f"
             ],
             [
              0.2222222222222222,
              "#7201a8"
             ],
             [
              0.3333333333333333,
              "#9c179e"
             ],
             [
              0.4444444444444444,
              "#bd3786"
             ],
             [
              0.5555555555555556,
              "#d8576b"
             ],
             [
              0.6666666666666666,
              "#ed7953"
             ],
             [
              0.7777777777777778,
              "#fb9f3a"
             ],
             [
              0.8888888888888888,
              "#fdca26"
             ],
             [
              1,
              "#f0f921"
             ]
            ],
            "type": "histogram2d"
           }
          ],
          "histogram2dcontour": [
           {
            "colorbar": {
             "outlinewidth": 0,
             "ticks": ""
            },
            "colorscale": [
             [
              0,
              "#0d0887"
             ],
             [
              0.1111111111111111,
              "#46039f"
             ],
             [
              0.2222222222222222,
              "#7201a8"
             ],
             [
              0.3333333333333333,
              "#9c179e"
             ],
             [
              0.4444444444444444,
              "#bd3786"
             ],
             [
              0.5555555555555556,
              "#d8576b"
             ],
             [
              0.6666666666666666,
              "#ed7953"
             ],
             [
              0.7777777777777778,
              "#fb9f3a"
             ],
             [
              0.8888888888888888,
              "#fdca26"
             ],
             [
              1,
              "#f0f921"
             ]
            ],
            "type": "histogram2dcontour"
           }
          ],
          "mesh3d": [
           {
            "colorbar": {
             "outlinewidth": 0,
             "ticks": ""
            },
            "type": "mesh3d"
           }
          ],
          "parcoords": [
           {
            "line": {
             "colorbar": {
              "outlinewidth": 0,
              "ticks": ""
             }
            },
            "type": "parcoords"
           }
          ],
          "pie": [
           {
            "automargin": true,
            "type": "pie"
           }
          ],
          "scatter": [
           {
            "marker": {
             "colorbar": {
              "outlinewidth": 0,
              "ticks": ""
             }
            },
            "type": "scatter"
           }
          ],
          "scatter3d": [
           {
            "line": {
             "colorbar": {
              "outlinewidth": 0,
              "ticks": ""
             }
            },
            "marker": {
             "colorbar": {
              "outlinewidth": 0,
              "ticks": ""
             }
            },
            "type": "scatter3d"
           }
          ],
          "scattercarpet": [
           {
            "marker": {
             "colorbar": {
              "outlinewidth": 0,
              "ticks": ""
             }
            },
            "type": "scattercarpet"
           }
          ],
          "scattergeo": [
           {
            "marker": {
             "colorbar": {
              "outlinewidth": 0,
              "ticks": ""
             }
            },
            "type": "scattergeo"
           }
          ],
          "scattergl": [
           {
            "marker": {
             "colorbar": {
              "outlinewidth": 0,
              "ticks": ""
             }
            },
            "type": "scattergl"
           }
          ],
          "scattermapbox": [
           {
            "marker": {
             "colorbar": {
              "outlinewidth": 0,
              "ticks": ""
             }
            },
            "type": "scattermapbox"
           }
          ],
          "scatterpolar": [
           {
            "marker": {
             "colorbar": {
              "outlinewidth": 0,
              "ticks": ""
             }
            },
            "type": "scatterpolar"
           }
          ],
          "scatterpolargl": [
           {
            "marker": {
             "colorbar": {
              "outlinewidth": 0,
              "ticks": ""
             }
            },
            "type": "scatterpolargl"
           }
          ],
          "scatterternary": [
           {
            "marker": {
             "colorbar": {
              "outlinewidth": 0,
              "ticks": ""
             }
            },
            "type": "scatterternary"
           }
          ],
          "surface": [
           {
            "colorbar": {
             "outlinewidth": 0,
             "ticks": ""
            },
            "colorscale": [
             [
              0,
              "#0d0887"
             ],
             [
              0.1111111111111111,
              "#46039f"
             ],
             [
              0.2222222222222222,
              "#7201a8"
             ],
             [
              0.3333333333333333,
              "#9c179e"
             ],
             [
              0.4444444444444444,
              "#bd3786"
             ],
             [
              0.5555555555555556,
              "#d8576b"
             ],
             [
              0.6666666666666666,
              "#ed7953"
             ],
             [
              0.7777777777777778,
              "#fb9f3a"
             ],
             [
              0.8888888888888888,
              "#fdca26"
             ],
             [
              1,
              "#f0f921"
             ]
            ],
            "type": "surface"
           }
          ],
          "table": [
           {
            "cells": {
             "fill": {
              "color": "#EBF0F8"
             },
             "line": {
              "color": "white"
             }
            },
            "header": {
             "fill": {
              "color": "#C8D4E3"
             },
             "line": {
              "color": "white"
             }
            },
            "type": "table"
           }
          ]
         },
         "layout": {
          "annotationdefaults": {
           "arrowcolor": "#2a3f5f",
           "arrowhead": 0,
           "arrowwidth": 1
          },
          "coloraxis": {
           "colorbar": {
            "outlinewidth": 0,
            "ticks": ""
           }
          },
          "colorscale": {
           "diverging": [
            [
             0,
             "#8e0152"
            ],
            [
             0.1,
             "#c51b7d"
            ],
            [
             0.2,
             "#de77ae"
            ],
            [
             0.3,
             "#f1b6da"
            ],
            [
             0.4,
             "#fde0ef"
            ],
            [
             0.5,
             "#f7f7f7"
            ],
            [
             0.6,
             "#e6f5d0"
            ],
            [
             0.7,
             "#b8e186"
            ],
            [
             0.8,
             "#7fbc41"
            ],
            [
             0.9,
             "#4d9221"
            ],
            [
             1,
             "#276419"
            ]
           ],
           "sequential": [
            [
             0,
             "#0d0887"
            ],
            [
             0.1111111111111111,
             "#46039f"
            ],
            [
             0.2222222222222222,
             "#7201a8"
            ],
            [
             0.3333333333333333,
             "#9c179e"
            ],
            [
             0.4444444444444444,
             "#bd3786"
            ],
            [
             0.5555555555555556,
             "#d8576b"
            ],
            [
             0.6666666666666666,
             "#ed7953"
            ],
            [
             0.7777777777777778,
             "#fb9f3a"
            ],
            [
             0.8888888888888888,
             "#fdca26"
            ],
            [
             1,
             "#f0f921"
            ]
           ],
           "sequentialminus": [
            [
             0,
             "#0d0887"
            ],
            [
             0.1111111111111111,
             "#46039f"
            ],
            [
             0.2222222222222222,
             "#7201a8"
            ],
            [
             0.3333333333333333,
             "#9c179e"
            ],
            [
             0.4444444444444444,
             "#bd3786"
            ],
            [
             0.5555555555555556,
             "#d8576b"
            ],
            [
             0.6666666666666666,
             "#ed7953"
            ],
            [
             0.7777777777777778,
             "#fb9f3a"
            ],
            [
             0.8888888888888888,
             "#fdca26"
            ],
            [
             1,
             "#f0f921"
            ]
           ]
          },
          "colorway": [
           "#636efa",
           "#EF553B",
           "#00cc96",
           "#ab63fa",
           "#FFA15A",
           "#19d3f3",
           "#FF6692",
           "#B6E880",
           "#FF97FF",
           "#FECB52"
          ],
          "font": {
           "color": "#2a3f5f"
          },
          "geo": {
           "bgcolor": "white",
           "lakecolor": "white",
           "landcolor": "#E5ECF6",
           "showlakes": true,
           "showland": true,
           "subunitcolor": "white"
          },
          "hoverlabel": {
           "align": "left"
          },
          "hovermode": "closest",
          "mapbox": {
           "style": "light"
          },
          "paper_bgcolor": "white",
          "plot_bgcolor": "#E5ECF6",
          "polar": {
           "angularaxis": {
            "gridcolor": "white",
            "linecolor": "white",
            "ticks": ""
           },
           "bgcolor": "#E5ECF6",
           "radialaxis": {
            "gridcolor": "white",
            "linecolor": "white",
            "ticks": ""
           }
          },
          "scene": {
           "xaxis": {
            "backgroundcolor": "#E5ECF6",
            "gridcolor": "white",
            "gridwidth": 2,
            "linecolor": "white",
            "showbackground": true,
            "ticks": "",
            "zerolinecolor": "white"
           },
           "yaxis": {
            "backgroundcolor": "#E5ECF6",
            "gridcolor": "white",
            "gridwidth": 2,
            "linecolor": "white",
            "showbackground": true,
            "ticks": "",
            "zerolinecolor": "white"
           },
           "zaxis": {
            "backgroundcolor": "#E5ECF6",
            "gridcolor": "white",
            "gridwidth": 2,
            "linecolor": "white",
            "showbackground": true,
            "ticks": "",
            "zerolinecolor": "white"
           }
          },
          "shapedefaults": {
           "line": {
            "color": "#2a3f5f"
           }
          },
          "ternary": {
           "aaxis": {
            "gridcolor": "white",
            "linecolor": "white",
            "ticks": ""
           },
           "baxis": {
            "gridcolor": "white",
            "linecolor": "white",
            "ticks": ""
           },
           "bgcolor": "#E5ECF6",
           "caxis": {
            "gridcolor": "white",
            "linecolor": "white",
            "ticks": ""
           }
          },
          "title": {
           "x": 0.05
          },
          "xaxis": {
           "automargin": true,
           "gridcolor": "white",
           "linecolor": "white",
           "ticks": "",
           "title": {
            "standoff": 15
           },
           "zerolinecolor": "white",
           "zerolinewidth": 2
          },
          "yaxis": {
           "automargin": true,
           "gridcolor": "white",
           "linecolor": "white",
           "ticks": "",
           "title": {
            "standoff": 15
           },
           "zerolinecolor": "white",
           "zerolinewidth": 2
          }
         }
        },
        "xaxis": {
         "anchor": "y",
         "domain": [
          0,
          0.45
         ]
        },
        "xaxis2": {
         "anchor": "y2",
         "domain": [
          0.55,
          1
         ]
        },
        "xaxis3": {
         "anchor": "y3",
         "domain": [
          0,
          0.45
         ]
        },
        "xaxis4": {
         "anchor": "y4",
         "domain": [
          0.55,
          1
         ]
        },
        "xaxis5": {
         "anchor": "y5",
         "domain": [
          0,
          0.45
         ]
        },
        "xaxis6": {
         "anchor": "y6",
         "domain": [
          0.55,
          1
         ]
        },
        "yaxis": {
         "anchor": "x",
         "domain": [
          0.7333333333333333,
          1
         ]
        },
        "yaxis2": {
         "anchor": "x2",
         "domain": [
          0.7333333333333333,
          1
         ]
        },
        "yaxis3": {
         "anchor": "x3",
         "domain": [
          0.36666666666666664,
          0.6333333333333333
         ]
        },
        "yaxis4": {
         "anchor": "x4",
         "domain": [
          0.36666666666666664,
          0.6333333333333333
         ]
        },
        "yaxis5": {
         "anchor": "x5",
         "domain": [
          0,
          0.26666666666666666
         ]
        },
        "yaxis6": {
         "anchor": "x6",
         "domain": [
          0,
          0.26666666666666666
         ]
        }
       }
      },
      "text/html": [
       "<div>\n",
       "        \n",
       "        \n",
       "            <div id=\"5c50eab7-a815-4c2d-9d1d-24d8989ebf2d\" class=\"plotly-graph-div\" style=\"height:525px; width:100%;\"></div>\n",
       "            <script type=\"text/javascript\">\n",
       "                require([\"plotly\"], function(Plotly) {\n",
       "                    window.PLOTLYENV=window.PLOTLYENV || {};\n",
       "                    \n",
       "                if (document.getElementById(\"5c50eab7-a815-4c2d-9d1d-24d8989ebf2d\")) {\n",
       "                    Plotly.newPlot(\n",
       "                        '5c50eab7-a815-4c2d-9d1d-24d8989ebf2d',\n",
       "                        [{\"mode\": \"markers\", \"name\": \"US-Confirmed\", \"type\": \"scatter\", \"x\": [1, 1, 2, 2, 5, 5, 5, 5, 5, 7, 8, 8, 11, 11, 12, 12, 12, 12, 12, 12, 13, 13, 15, 15, 15, 15, 15, 15, 15, 15, 35, 35, 35, 53, 53, 59, 60, 62, 70, 76, 101, 121, 152, 220, 277, 417], \"xaxis\": \"x\", \"y\": [29186.269531, 29160.089844, 28989.730469, null, null, 28535.800781, 28722.849608999997, 28734.449219, 28859.439452999995, 28256.029297000005, null, null, 28399.810547000005, 28807.630858999997, 29290.849608999997, 29379.769531, 29102.509766000003, null, null, 29276.820313, 29276.339844, 29551.419922000005, 29423.310547000005, 29398.080077999995, null, null, null, 29232.189452999995, 29348.029297000005, 29219.980469, 28992.410156, null, null, 27960.800781, 27081.359375, 26957.589844, 25766.640625, 25409.359375, null, null, 26703.320313, 25917.410156, 27090.859375, 26121.279297, 25864.779297, null], \"yaxis\": \"y\"}, {\"mode\": \"markers\", \"name\": \"Non-US-Confirmed\", \"type\": \"scatter\", \"x\": [554, 652, 939, 1432, 2113, 2922, 5573, 6161, 8229, 9920, 12030, 16779, 19870, 23881, 27624, 30806, 34380, 37109, 40139, 42751, 44790, 45209, 60355, 66872, 69017, 71211, 73245, 75123, 75626, 76184, 76808, 78564, 78950, 79517, 80362, 81338, 82696, 84060, 85943, 88295, 90208, 92722, 94971, 97665, 101522, 105419], \"xaxis\": \"x2\", \"y\": [29186.269531, 29160.089844, 28989.730469, null, null, 28535.800781, 28722.849608999997, 28734.449219, 28859.439452999995, 28256.029297000005, null, null, 28399.810547000005, 28807.630858999997, 29290.849608999997, 29379.769531, 29102.509766000003, null, null, 29276.820313, 29276.339844, 29551.419922000005, 29423.310547000005, 29398.080077999995, null, null, null, 29232.189452999995, 29348.029297000005, 29219.980469, 28992.410156, null, null, 27960.800781, 27081.359375, 26957.589844, 25766.640625, 25409.359375, null, null, 26703.320313, 25917.410156, 27090.859375, 26121.279297, 25864.779297, null], \"yaxis\": \"y2\"}, {\"mode\": \"markers\", \"name\": \"US-Deaths\", \"type\": \"scatter\", \"x\": [0, 0, 0, 0, 0, 0, 0, 0, 0, 0, 0, 0, 0, 0, 0, 0, 0, 0, 0, 0, 0, 0, 0, 0, 0, 0, 0, 0, 0, 0, 0, 0, 0, 0, 0, 0, 0, 0, 1, 1, 6, 7, 11, 12, 14, 17], \"xaxis\": \"x3\", \"y\": [29186.269531, 29160.089844, 28989.730469, null, null, 28535.800781, 28722.849608999997, 28734.449219, 28859.439452999995, 28256.029297000005, null, null, 28399.810547000005, 28807.630858999997, 29290.849608999997, 29379.769531, 29102.509766000003, null, null, 29276.820313, 29276.339844, 29551.419922000005, 29423.310547000005, 29398.080077999995, null, null, null, 29232.189452999995, 29348.029297000005, 29219.980469, 28992.410156, null, null, 27960.800781, 27081.359375, 26957.589844, 25766.640625, 25409.359375, null, null, 26703.320313, 25917.410156, 27090.859375, 26121.279297, 25864.779297, null], \"yaxis\": \"y3\"}, {\"mode\": \"markers\", \"name\": \"Non-US-Deaths\", \"type\": \"scatter\", \"x\": [17, 18, 26, 42, 56, 82, 131, 133, 171, 213, 259, 362, 426, 492, 564, 634, 719, 806, 906, 1013, 1113, 1118, 1371, 1523, 1666, 1770, 1868, 2007, 2122, 2247, 2251, 2458, 2469, 2629, 2708, 2770, 2814, 2872, 2940, 2995, 3079, 3153, 3243, 3336, 3446, 3541], \"xaxis\": \"x4\", \"y\": [29186.269531, 29160.089844, 28989.730469, null, null, 28535.800781, 28722.849608999997, 28734.449219, 28859.439452999995, 28256.029297000005, null, null, 28399.810547000005, 28807.630858999997, 29290.849608999997, 29379.769531, 29102.509766000003, null, null, 29276.820313, 29276.339844, 29551.419922000005, 29423.310547000005, 29398.080077999995, null, null, null, 29232.189452999995, 29348.029297000005, 29219.980469, 28992.410156, null, null, 27960.800781, 27081.359375, 26957.589844, 25766.640625, 25409.359375, null, null, 26703.320313, 25917.410156, 27090.859375, 26121.279297, 25864.779297, null], \"yaxis\": \"y4\"}, {\"mode\": \"markers\", \"name\": \"US-Recovered\", \"type\": \"scatter\", \"x\": [0, 0, 0, 0, 0, 0, 0, 0, 0, 0, 0, 0, 0, 0, 0, 0, 0, 0, 3, 3, 3, 3, 3, 3, 3, 3, 3, 3, 3, 3, 5, 5, 5, 5, 6, 6, 6, 7, 7, 7, 7, 8, 8, 8, 8, 8], \"xaxis\": \"x5\", \"y\": [29186.269531, 29160.089844, 28989.730469, null, null, 28535.800781, 28722.849608999997, 28734.449219, 28859.439452999995, 28256.029297000005, null, null, 28399.810547000005, 28807.630858999997, 29290.849608999997, 29379.769531, 29102.509766000003, null, null, 29276.820313, 29276.339844, 29551.419922000005, 29423.310547000005, 29398.080077999995, null, null, null, 29232.189452999995, 29348.029297000005, 29219.980469, 28992.410156, null, null, 27960.800781, 27081.359375, 26957.589844, 25766.640625, 25409.359375, null, null, 26703.320313, 25917.410156, 27090.859375, 26121.279297, 25864.779297, null], \"yaxis\": \"y5\"}, {\"mode\": \"markers\", \"name\": \"Non-US-Recovered\", \"type\": \"scatter\", \"x\": [28, 30, 36, 39, 52, 61, 107, 126, 143, 222, 284, 472, 623, 852, 1124, 1487, 2011, 2616, 3241, 3943, 4680, 5147, 6292, 8055, 9392, 10862, 12580, 14349, 16118, 18174, 18885, 22881, 23389, 25222, 27899, 30378, 33271, 36704, 39775, 42709, 45595, 48221, 51163, 53789, 55858, 58351], \"xaxis\": \"x6\", \"y\": [29186.269531, 29160.089844, 28989.730469, null, null, 28535.800781, 28722.849608999997, 28734.449219, 28859.439452999995, 28256.029297000005, null, null, 28399.810547000005, 28807.630858999997, 29290.849608999997, 29379.769531, 29102.509766000003, null, null, 29276.820313, 29276.339844, 29551.419922000005, 29423.310547000005, 29398.080077999995, null, null, null, 29232.189452999995, 29348.029297000005, 29219.980469, 28992.410156, null, null, 27960.800781, 27081.359375, 26957.589844, 25766.640625, 25409.359375, null, null, 26703.320313, 25917.410156, 27090.859375, 26121.279297, 25864.779297, null], \"yaxis\": \"y6\"}],\n",
       "                        {\"template\": {\"data\": {\"bar\": [{\"error_x\": {\"color\": \"#2a3f5f\"}, \"error_y\": {\"color\": \"#2a3f5f\"}, \"marker\": {\"line\": {\"color\": \"#E5ECF6\", \"width\": 0.5}}, \"type\": \"bar\"}], \"barpolar\": [{\"marker\": {\"line\": {\"color\": \"#E5ECF6\", \"width\": 0.5}}, \"type\": \"barpolar\"}], \"carpet\": [{\"aaxis\": {\"endlinecolor\": \"#2a3f5f\", \"gridcolor\": \"white\", \"linecolor\": \"white\", \"minorgridcolor\": \"white\", \"startlinecolor\": \"#2a3f5f\"}, \"baxis\": {\"endlinecolor\": \"#2a3f5f\", \"gridcolor\": \"white\", \"linecolor\": \"white\", \"minorgridcolor\": \"white\", \"startlinecolor\": \"#2a3f5f\"}, \"type\": \"carpet\"}], \"choropleth\": [{\"colorbar\": {\"outlinewidth\": 0, \"ticks\": \"\"}, \"type\": \"choropleth\"}], \"contour\": [{\"colorbar\": {\"outlinewidth\": 0, \"ticks\": \"\"}, \"colorscale\": [[0.0, \"#0d0887\"], [0.1111111111111111, \"#46039f\"], [0.2222222222222222, \"#7201a8\"], [0.3333333333333333, \"#9c179e\"], [0.4444444444444444, \"#bd3786\"], [0.5555555555555556, \"#d8576b\"], [0.6666666666666666, \"#ed7953\"], [0.7777777777777778, \"#fb9f3a\"], [0.8888888888888888, \"#fdca26\"], [1.0, \"#f0f921\"]], \"type\": \"contour\"}], \"contourcarpet\": [{\"colorbar\": {\"outlinewidth\": 0, \"ticks\": \"\"}, \"type\": \"contourcarpet\"}], \"heatmap\": [{\"colorbar\": {\"outlinewidth\": 0, \"ticks\": \"\"}, \"colorscale\": [[0.0, \"#0d0887\"], [0.1111111111111111, \"#46039f\"], [0.2222222222222222, \"#7201a8\"], [0.3333333333333333, \"#9c179e\"], [0.4444444444444444, \"#bd3786\"], [0.5555555555555556, \"#d8576b\"], [0.6666666666666666, \"#ed7953\"], [0.7777777777777778, \"#fb9f3a\"], [0.8888888888888888, \"#fdca26\"], [1.0, \"#f0f921\"]], \"type\": \"heatmap\"}], \"heatmapgl\": [{\"colorbar\": {\"outlinewidth\": 0, \"ticks\": \"\"}, \"colorscale\": [[0.0, \"#0d0887\"], [0.1111111111111111, \"#46039f\"], [0.2222222222222222, \"#7201a8\"], [0.3333333333333333, \"#9c179e\"], [0.4444444444444444, \"#bd3786\"], [0.5555555555555556, \"#d8576b\"], [0.6666666666666666, \"#ed7953\"], [0.7777777777777778, \"#fb9f3a\"], [0.8888888888888888, \"#fdca26\"], [1.0, \"#f0f921\"]], \"type\": \"heatmapgl\"}], \"histogram\": [{\"marker\": {\"colorbar\": {\"outlinewidth\": 0, \"ticks\": \"\"}}, \"type\": \"histogram\"}], \"histogram2d\": [{\"colorbar\": {\"outlinewidth\": 0, \"ticks\": \"\"}, \"colorscale\": [[0.0, \"#0d0887\"], [0.1111111111111111, \"#46039f\"], [0.2222222222222222, \"#7201a8\"], [0.3333333333333333, \"#9c179e\"], [0.4444444444444444, \"#bd3786\"], [0.5555555555555556, \"#d8576b\"], [0.6666666666666666, \"#ed7953\"], [0.7777777777777778, \"#fb9f3a\"], [0.8888888888888888, \"#fdca26\"], [1.0, \"#f0f921\"]], \"type\": \"histogram2d\"}], \"histogram2dcontour\": [{\"colorbar\": {\"outlinewidth\": 0, \"ticks\": \"\"}, \"colorscale\": [[0.0, \"#0d0887\"], [0.1111111111111111, \"#46039f\"], [0.2222222222222222, \"#7201a8\"], [0.3333333333333333, \"#9c179e\"], [0.4444444444444444, \"#bd3786\"], [0.5555555555555556, \"#d8576b\"], [0.6666666666666666, \"#ed7953\"], [0.7777777777777778, \"#fb9f3a\"], [0.8888888888888888, \"#fdca26\"], [1.0, \"#f0f921\"]], \"type\": \"histogram2dcontour\"}], \"mesh3d\": [{\"colorbar\": {\"outlinewidth\": 0, \"ticks\": \"\"}, \"type\": \"mesh3d\"}], \"parcoords\": [{\"line\": {\"colorbar\": {\"outlinewidth\": 0, \"ticks\": \"\"}}, \"type\": \"parcoords\"}], \"pie\": [{\"automargin\": true, \"type\": \"pie\"}], \"scatter\": [{\"marker\": {\"colorbar\": {\"outlinewidth\": 0, \"ticks\": \"\"}}, \"type\": \"scatter\"}], \"scatter3d\": [{\"line\": {\"colorbar\": {\"outlinewidth\": 0, \"ticks\": \"\"}}, \"marker\": {\"colorbar\": {\"outlinewidth\": 0, \"ticks\": \"\"}}, \"type\": \"scatter3d\"}], \"scattercarpet\": [{\"marker\": {\"colorbar\": {\"outlinewidth\": 0, \"ticks\": \"\"}}, \"type\": \"scattercarpet\"}], \"scattergeo\": [{\"marker\": {\"colorbar\": {\"outlinewidth\": 0, \"ticks\": \"\"}}, \"type\": \"scattergeo\"}], \"scattergl\": [{\"marker\": {\"colorbar\": {\"outlinewidth\": 0, \"ticks\": \"\"}}, \"type\": \"scattergl\"}], \"scattermapbox\": [{\"marker\": {\"colorbar\": {\"outlinewidth\": 0, \"ticks\": \"\"}}, \"type\": \"scattermapbox\"}], \"scatterpolar\": [{\"marker\": {\"colorbar\": {\"outlinewidth\": 0, \"ticks\": \"\"}}, \"type\": \"scatterpolar\"}], \"scatterpolargl\": [{\"marker\": {\"colorbar\": {\"outlinewidth\": 0, \"ticks\": \"\"}}, \"type\": \"scatterpolargl\"}], \"scatterternary\": [{\"marker\": {\"colorbar\": {\"outlinewidth\": 0, \"ticks\": \"\"}}, \"type\": \"scatterternary\"}], \"surface\": [{\"colorbar\": {\"outlinewidth\": 0, \"ticks\": \"\"}, \"colorscale\": [[0.0, \"#0d0887\"], [0.1111111111111111, \"#46039f\"], [0.2222222222222222, \"#7201a8\"], [0.3333333333333333, \"#9c179e\"], [0.4444444444444444, \"#bd3786\"], [0.5555555555555556, \"#d8576b\"], [0.6666666666666666, \"#ed7953\"], [0.7777777777777778, \"#fb9f3a\"], [0.8888888888888888, \"#fdca26\"], [1.0, \"#f0f921\"]], \"type\": \"surface\"}], \"table\": [{\"cells\": {\"fill\": {\"color\": \"#EBF0F8\"}, \"line\": {\"color\": \"white\"}}, \"header\": {\"fill\": {\"color\": \"#C8D4E3\"}, \"line\": {\"color\": \"white\"}}, \"type\": \"table\"}]}, \"layout\": {\"annotationdefaults\": {\"arrowcolor\": \"#2a3f5f\", \"arrowhead\": 0, \"arrowwidth\": 1}, \"coloraxis\": {\"colorbar\": {\"outlinewidth\": 0, \"ticks\": \"\"}}, \"colorscale\": {\"diverging\": [[0, \"#8e0152\"], [0.1, \"#c51b7d\"], [0.2, \"#de77ae\"], [0.3, \"#f1b6da\"], [0.4, \"#fde0ef\"], [0.5, \"#f7f7f7\"], [0.6, \"#e6f5d0\"], [0.7, \"#b8e186\"], [0.8, \"#7fbc41\"], [0.9, \"#4d9221\"], [1, \"#276419\"]], \"sequential\": [[0.0, \"#0d0887\"], [0.1111111111111111, \"#46039f\"], [0.2222222222222222, \"#7201a8\"], [0.3333333333333333, \"#9c179e\"], [0.4444444444444444, \"#bd3786\"], [0.5555555555555556, \"#d8576b\"], [0.6666666666666666, \"#ed7953\"], [0.7777777777777778, \"#fb9f3a\"], [0.8888888888888888, \"#fdca26\"], [1.0, \"#f0f921\"]], \"sequentialminus\": [[0.0, \"#0d0887\"], [0.1111111111111111, \"#46039f\"], [0.2222222222222222, \"#7201a8\"], [0.3333333333333333, \"#9c179e\"], [0.4444444444444444, \"#bd3786\"], [0.5555555555555556, \"#d8576b\"], [0.6666666666666666, \"#ed7953\"], [0.7777777777777778, \"#fb9f3a\"], [0.8888888888888888, \"#fdca26\"], [1.0, \"#f0f921\"]]}, \"colorway\": [\"#636efa\", \"#EF553B\", \"#00cc96\", \"#ab63fa\", \"#FFA15A\", \"#19d3f3\", \"#FF6692\", \"#B6E880\", \"#FF97FF\", \"#FECB52\"], \"font\": {\"color\": \"#2a3f5f\"}, \"geo\": {\"bgcolor\": \"white\", \"lakecolor\": \"white\", \"landcolor\": \"#E5ECF6\", \"showlakes\": true, \"showland\": true, \"subunitcolor\": \"white\"}, \"hoverlabel\": {\"align\": \"left\"}, \"hovermode\": \"closest\", \"mapbox\": {\"style\": \"light\"}, \"paper_bgcolor\": \"white\", \"plot_bgcolor\": \"#E5ECF6\", \"polar\": {\"angularaxis\": {\"gridcolor\": \"white\", \"linecolor\": \"white\", \"ticks\": \"\"}, \"bgcolor\": \"#E5ECF6\", \"radialaxis\": {\"gridcolor\": \"white\", \"linecolor\": \"white\", \"ticks\": \"\"}}, \"scene\": {\"xaxis\": {\"backgroundcolor\": \"#E5ECF6\", \"gridcolor\": \"white\", \"gridwidth\": 2, \"linecolor\": \"white\", \"showbackground\": true, \"ticks\": \"\", \"zerolinecolor\": \"white\"}, \"yaxis\": {\"backgroundcolor\": \"#E5ECF6\", \"gridcolor\": \"white\", \"gridwidth\": 2, \"linecolor\": \"white\", \"showbackground\": true, \"ticks\": \"\", \"zerolinecolor\": \"white\"}, \"zaxis\": {\"backgroundcolor\": \"#E5ECF6\", \"gridcolor\": \"white\", \"gridwidth\": 2, \"linecolor\": \"white\", \"showbackground\": true, \"ticks\": \"\", \"zerolinecolor\": \"white\"}}, \"shapedefaults\": {\"line\": {\"color\": \"#2a3f5f\"}}, \"ternary\": {\"aaxis\": {\"gridcolor\": \"white\", \"linecolor\": \"white\", \"ticks\": \"\"}, \"baxis\": {\"gridcolor\": \"white\", \"linecolor\": \"white\", \"ticks\": \"\"}, \"bgcolor\": \"#E5ECF6\", \"caxis\": {\"gridcolor\": \"white\", \"linecolor\": \"white\", \"ticks\": \"\"}}, \"title\": {\"x\": 0.05}, \"xaxis\": {\"automargin\": true, \"gridcolor\": \"white\", \"linecolor\": \"white\", \"ticks\": \"\", \"title\": {\"standoff\": 15}, \"zerolinecolor\": \"white\", \"zerolinewidth\": 2}, \"yaxis\": {\"automargin\": true, \"gridcolor\": \"white\", \"linecolor\": \"white\", \"ticks\": \"\", \"title\": {\"standoff\": 15}, \"zerolinecolor\": \"white\", \"zerolinewidth\": 2}}}, \"xaxis\": {\"anchor\": \"y\", \"domain\": [0.0, 0.45]}, \"xaxis2\": {\"anchor\": \"y2\", \"domain\": [0.55, 1.0]}, \"xaxis3\": {\"anchor\": \"y3\", \"domain\": [0.0, 0.45]}, \"xaxis4\": {\"anchor\": \"y4\", \"domain\": [0.55, 1.0]}, \"xaxis5\": {\"anchor\": \"y5\", \"domain\": [0.0, 0.45]}, \"xaxis6\": {\"anchor\": \"y6\", \"domain\": [0.55, 1.0]}, \"yaxis\": {\"anchor\": \"x\", \"domain\": [0.7333333333333333, 1.0]}, \"yaxis2\": {\"anchor\": \"x2\", \"domain\": [0.7333333333333333, 1.0]}, \"yaxis3\": {\"anchor\": \"x3\", \"domain\": [0.36666666666666664, 0.6333333333333333]}, \"yaxis4\": {\"anchor\": \"x4\", \"domain\": [0.36666666666666664, 0.6333333333333333]}, \"yaxis5\": {\"anchor\": \"x5\", \"domain\": [0.0, 0.26666666666666666]}, \"yaxis6\": {\"anchor\": \"x6\", \"domain\": [0.0, 0.26666666666666666]}},\n",
       "                        {\"responsive\": true}\n",
       "                    ).then(function(){\n",
       "                            \n",
       "var gd = document.getElementById('5c50eab7-a815-4c2d-9d1d-24d8989ebf2d');\n",
       "var x = new MutationObserver(function (mutations, observer) {{\n",
       "        var display = window.getComputedStyle(gd).display;\n",
       "        if (!display || display === 'none') {{\n",
       "            console.log([gd, 'removed!']);\n",
       "            Plotly.purge(gd);\n",
       "            observer.disconnect();\n",
       "        }}\n",
       "}});\n",
       "\n",
       "// Listen for the removal of the full notebook cells\n",
       "var notebookContainer = gd.closest('#notebook-container');\n",
       "if (notebookContainer) {{\n",
       "    x.observe(notebookContainer, {childList: true});\n",
       "}}\n",
       "\n",
       "// Listen for the clearing of the current output cell\n",
       "var outputEl = gd.closest('.output');\n",
       "if (outputEl) {{\n",
       "    x.observe(outputEl, {childList: true});\n",
       "}}\n",
       "\n",
       "                        })\n",
       "                };\n",
       "                });\n",
       "            </script>\n",
       "        </div>"
      ]
     },
     "metadata": {},
     "output_type": "display_data"
    }
   ],
   "source": [
    "fig = make_subplots(rows=3, cols=2)\n",
    "for i, case_type in enumerate(['Confirmed', 'Deaths', 'Recovered']):\n",
    "    for j, loc in enumerate(['US','Non-US']):\n",
    "        plot_df = tidy_df[(tidy_df['Type']==case_type)&(tidy_df['US']==loc)]\n",
    "        fig.add_trace(\n",
    "            go.Scatter(x=plot_df['Count'], y=plot_df['Adj Close'], \n",
    "                       mode='markers', \n",
    "                       name=\"{}-{}\".format(loc,case_type)\n",
    "            ),\n",
    "            row=i+1, col=j+1\n",
    "        )\n",
    "        \n",
    "fig.show()"
   ]
  },
  {
   "cell_type": "code",
   "execution_count": 35,
   "metadata": {},
   "outputs": [
    {
     "data": {
      "application/vnd.plotly.v1+json": {
       "config": {
        "plotlyServerURL": "https://plot.ly"
       },
       "data": [
        {
         "hoverlabel": {
          "namelength": 0
         },
         "hovertemplate": "Count=%{x}<br>Adj Close=%{y}",
         "legendgroup": "",
         "marker": {
          "color": "#636efa",
          "symbol": "circle"
         },
         "mode": "markers",
         "name": "",
         "showlegend": false,
         "type": "scatter",
         "x": [
          554,
          652,
          939,
          1432,
          2113,
          2922,
          5573,
          6161,
          8229,
          9920,
          12030,
          16779,
          19870,
          23881,
          27624,
          30806,
          34380,
          37109,
          40139,
          42751,
          44790,
          45209,
          60355,
          66872,
          69017,
          71211,
          73245,
          75123,
          75626,
          76184,
          76808,
          78564,
          78950,
          79517,
          80362,
          81338,
          82696,
          84060,
          85943,
          88295,
          90208,
          92722,
          94971,
          97665,
          101522,
          105419
         ],
         "xaxis": "x",
         "y": [
          29186.269531,
          29160.089844,
          28989.730469,
          null,
          null,
          28535.800781,
          28722.849608999997,
          28734.449219,
          28859.439452999995,
          28256.029297000005,
          null,
          null,
          28399.810547000005,
          28807.630858999997,
          29290.849608999997,
          29379.769531,
          29102.509766000003,
          null,
          null,
          29276.820313,
          29276.339844,
          29551.419922000005,
          29423.310547000005,
          29398.080077999995,
          null,
          null,
          null,
          29232.189452999995,
          29348.029297000005,
          29219.980469,
          28992.410156,
          null,
          null,
          27960.800781,
          27081.359375,
          26957.589844,
          25766.640625,
          25409.359375,
          null,
          null,
          26703.320313,
          25917.410156,
          27090.859375,
          26121.279297,
          25864.779297,
          null
         ],
         "yaxis": "y"
        }
       ],
       "layout": {
        "legend": {
         "tracegroupgap": 0
        },
        "template": {
         "data": {
          "bar": [
           {
            "error_x": {
             "color": "#2a3f5f"
            },
            "error_y": {
             "color": "#2a3f5f"
            },
            "marker": {
             "line": {
              "color": "#E5ECF6",
              "width": 0.5
             }
            },
            "type": "bar"
           }
          ],
          "barpolar": [
           {
            "marker": {
             "line": {
              "color": "#E5ECF6",
              "width": 0.5
             }
            },
            "type": "barpolar"
           }
          ],
          "carpet": [
           {
            "aaxis": {
             "endlinecolor": "#2a3f5f",
             "gridcolor": "white",
             "linecolor": "white",
             "minorgridcolor": "white",
             "startlinecolor": "#2a3f5f"
            },
            "baxis": {
             "endlinecolor": "#2a3f5f",
             "gridcolor": "white",
             "linecolor": "white",
             "minorgridcolor": "white",
             "startlinecolor": "#2a3f5f"
            },
            "type": "carpet"
           }
          ],
          "choropleth": [
           {
            "colorbar": {
             "outlinewidth": 0,
             "ticks": ""
            },
            "type": "choropleth"
           }
          ],
          "contour": [
           {
            "colorbar": {
             "outlinewidth": 0,
             "ticks": ""
            },
            "colorscale": [
             [
              0,
              "#0d0887"
             ],
             [
              0.1111111111111111,
              "#46039f"
             ],
             [
              0.2222222222222222,
              "#7201a8"
             ],
             [
              0.3333333333333333,
              "#9c179e"
             ],
             [
              0.4444444444444444,
              "#bd3786"
             ],
             [
              0.5555555555555556,
              "#d8576b"
             ],
             [
              0.6666666666666666,
              "#ed7953"
             ],
             [
              0.7777777777777778,
              "#fb9f3a"
             ],
             [
              0.8888888888888888,
              "#fdca26"
             ],
             [
              1,
              "#f0f921"
             ]
            ],
            "type": "contour"
           }
          ],
          "contourcarpet": [
           {
            "colorbar": {
             "outlinewidth": 0,
             "ticks": ""
            },
            "type": "contourcarpet"
           }
          ],
          "heatmap": [
           {
            "colorbar": {
             "outlinewidth": 0,
             "ticks": ""
            },
            "colorscale": [
             [
              0,
              "#0d0887"
             ],
             [
              0.1111111111111111,
              "#46039f"
             ],
             [
              0.2222222222222222,
              "#7201a8"
             ],
             [
              0.3333333333333333,
              "#9c179e"
             ],
             [
              0.4444444444444444,
              "#bd3786"
             ],
             [
              0.5555555555555556,
              "#d8576b"
             ],
             [
              0.6666666666666666,
              "#ed7953"
             ],
             [
              0.7777777777777778,
              "#fb9f3a"
             ],
             [
              0.8888888888888888,
              "#fdca26"
             ],
             [
              1,
              "#f0f921"
             ]
            ],
            "type": "heatmap"
           }
          ],
          "heatmapgl": [
           {
            "colorbar": {
             "outlinewidth": 0,
             "ticks": ""
            },
            "colorscale": [
             [
              0,
              "#0d0887"
             ],
             [
              0.1111111111111111,
              "#46039f"
             ],
             [
              0.2222222222222222,
              "#7201a8"
             ],
             [
              0.3333333333333333,
              "#9c179e"
             ],
             [
              0.4444444444444444,
              "#bd3786"
             ],
             [
              0.5555555555555556,
              "#d8576b"
             ],
             [
              0.6666666666666666,
              "#ed7953"
             ],
             [
              0.7777777777777778,
              "#fb9f3a"
             ],
             [
              0.8888888888888888,
              "#fdca26"
             ],
             [
              1,
              "#f0f921"
             ]
            ],
            "type": "heatmapgl"
           }
          ],
          "histogram": [
           {
            "marker": {
             "colorbar": {
              "outlinewidth": 0,
              "ticks": ""
             }
            },
            "type": "histogram"
           }
          ],
          "histogram2d": [
           {
            "colorbar": {
             "outlinewidth": 0,
             "ticks": ""
            },
            "colorscale": [
             [
              0,
              "#0d0887"
             ],
             [
              0.1111111111111111,
              "#46039f"
             ],
             [
              0.2222222222222222,
              "#7201a8"
             ],
             [
              0.3333333333333333,
              "#9c179e"
             ],
             [
              0.4444444444444444,
              "#bd3786"
             ],
             [
              0.5555555555555556,
              "#d8576b"
             ],
             [
              0.6666666666666666,
              "#ed7953"
             ],
             [
              0.7777777777777778,
              "#fb9f3a"
             ],
             [
              0.8888888888888888,
              "#fdca26"
             ],
             [
              1,
              "#f0f921"
             ]
            ],
            "type": "histogram2d"
           }
          ],
          "histogram2dcontour": [
           {
            "colorbar": {
             "outlinewidth": 0,
             "ticks": ""
            },
            "colorscale": [
             [
              0,
              "#0d0887"
             ],
             [
              0.1111111111111111,
              "#46039f"
             ],
             [
              0.2222222222222222,
              "#7201a8"
             ],
             [
              0.3333333333333333,
              "#9c179e"
             ],
             [
              0.4444444444444444,
              "#bd3786"
             ],
             [
              0.5555555555555556,
              "#d8576b"
             ],
             [
              0.6666666666666666,
              "#ed7953"
             ],
             [
              0.7777777777777778,
              "#fb9f3a"
             ],
             [
              0.8888888888888888,
              "#fdca26"
             ],
             [
              1,
              "#f0f921"
             ]
            ],
            "type": "histogram2dcontour"
           }
          ],
          "mesh3d": [
           {
            "colorbar": {
             "outlinewidth": 0,
             "ticks": ""
            },
            "type": "mesh3d"
           }
          ],
          "parcoords": [
           {
            "line": {
             "colorbar": {
              "outlinewidth": 0,
              "ticks": ""
             }
            },
            "type": "parcoords"
           }
          ],
          "pie": [
           {
            "automargin": true,
            "type": "pie"
           }
          ],
          "scatter": [
           {
            "marker": {
             "colorbar": {
              "outlinewidth": 0,
              "ticks": ""
             }
            },
            "type": "scatter"
           }
          ],
          "scatter3d": [
           {
            "line": {
             "colorbar": {
              "outlinewidth": 0,
              "ticks": ""
             }
            },
            "marker": {
             "colorbar": {
              "outlinewidth": 0,
              "ticks": ""
             }
            },
            "type": "scatter3d"
           }
          ],
          "scattercarpet": [
           {
            "marker": {
             "colorbar": {
              "outlinewidth": 0,
              "ticks": ""
             }
            },
            "type": "scattercarpet"
           }
          ],
          "scattergeo": [
           {
            "marker": {
             "colorbar": {
              "outlinewidth": 0,
              "ticks": ""
             }
            },
            "type": "scattergeo"
           }
          ],
          "scattergl": [
           {
            "marker": {
             "colorbar": {
              "outlinewidth": 0,
              "ticks": ""
             }
            },
            "type": "scattergl"
           }
          ],
          "scattermapbox": [
           {
            "marker": {
             "colorbar": {
              "outlinewidth": 0,
              "ticks": ""
             }
            },
            "type": "scattermapbox"
           }
          ],
          "scatterpolar": [
           {
            "marker": {
             "colorbar": {
              "outlinewidth": 0,
              "ticks": ""
             }
            },
            "type": "scatterpolar"
           }
          ],
          "scatterpolargl": [
           {
            "marker": {
             "colorbar": {
              "outlinewidth": 0,
              "ticks": ""
             }
            },
            "type": "scatterpolargl"
           }
          ],
          "scatterternary": [
           {
            "marker": {
             "colorbar": {
              "outlinewidth": 0,
              "ticks": ""
             }
            },
            "type": "scatterternary"
           }
          ],
          "surface": [
           {
            "colorbar": {
             "outlinewidth": 0,
             "ticks": ""
            },
            "colorscale": [
             [
              0,
              "#0d0887"
             ],
             [
              0.1111111111111111,
              "#46039f"
             ],
             [
              0.2222222222222222,
              "#7201a8"
             ],
             [
              0.3333333333333333,
              "#9c179e"
             ],
             [
              0.4444444444444444,
              "#bd3786"
             ],
             [
              0.5555555555555556,
              "#d8576b"
             ],
             [
              0.6666666666666666,
              "#ed7953"
             ],
             [
              0.7777777777777778,
              "#fb9f3a"
             ],
             [
              0.8888888888888888,
              "#fdca26"
             ],
             [
              1,
              "#f0f921"
             ]
            ],
            "type": "surface"
           }
          ],
          "table": [
           {
            "cells": {
             "fill": {
              "color": "#EBF0F8"
             },
             "line": {
              "color": "white"
             }
            },
            "header": {
             "fill": {
              "color": "#C8D4E3"
             },
             "line": {
              "color": "white"
             }
            },
            "type": "table"
           }
          ]
         },
         "layout": {
          "annotationdefaults": {
           "arrowcolor": "#2a3f5f",
           "arrowhead": 0,
           "arrowwidth": 1
          },
          "coloraxis": {
           "colorbar": {
            "outlinewidth": 0,
            "ticks": ""
           }
          },
          "colorscale": {
           "diverging": [
            [
             0,
             "#8e0152"
            ],
            [
             0.1,
             "#c51b7d"
            ],
            [
             0.2,
             "#de77ae"
            ],
            [
             0.3,
             "#f1b6da"
            ],
            [
             0.4,
             "#fde0ef"
            ],
            [
             0.5,
             "#f7f7f7"
            ],
            [
             0.6,
             "#e6f5d0"
            ],
            [
             0.7,
             "#b8e186"
            ],
            [
             0.8,
             "#7fbc41"
            ],
            [
             0.9,
             "#4d9221"
            ],
            [
             1,
             "#276419"
            ]
           ],
           "sequential": [
            [
             0,
             "#0d0887"
            ],
            [
             0.1111111111111111,
             "#46039f"
            ],
            [
             0.2222222222222222,
             "#7201a8"
            ],
            [
             0.3333333333333333,
             "#9c179e"
            ],
            [
             0.4444444444444444,
             "#bd3786"
            ],
            [
             0.5555555555555556,
             "#d8576b"
            ],
            [
             0.6666666666666666,
             "#ed7953"
            ],
            [
             0.7777777777777778,
             "#fb9f3a"
            ],
            [
             0.8888888888888888,
             "#fdca26"
            ],
            [
             1,
             "#f0f921"
            ]
           ],
           "sequentialminus": [
            [
             0,
             "#0d0887"
            ],
            [
             0.1111111111111111,
             "#46039f"
            ],
            [
             0.2222222222222222,
             "#7201a8"
            ],
            [
             0.3333333333333333,
             "#9c179e"
            ],
            [
             0.4444444444444444,
             "#bd3786"
            ],
            [
             0.5555555555555556,
             "#d8576b"
            ],
            [
             0.6666666666666666,
             "#ed7953"
            ],
            [
             0.7777777777777778,
             "#fb9f3a"
            ],
            [
             0.8888888888888888,
             "#fdca26"
            ],
            [
             1,
             "#f0f921"
            ]
           ]
          },
          "colorway": [
           "#636efa",
           "#EF553B",
           "#00cc96",
           "#ab63fa",
           "#FFA15A",
           "#19d3f3",
           "#FF6692",
           "#B6E880",
           "#FF97FF",
           "#FECB52"
          ],
          "font": {
           "color": "#2a3f5f"
          },
          "geo": {
           "bgcolor": "white",
           "lakecolor": "white",
           "landcolor": "#E5ECF6",
           "showlakes": true,
           "showland": true,
           "subunitcolor": "white"
          },
          "hoverlabel": {
           "align": "left"
          },
          "hovermode": "closest",
          "mapbox": {
           "style": "light"
          },
          "paper_bgcolor": "white",
          "plot_bgcolor": "#E5ECF6",
          "polar": {
           "angularaxis": {
            "gridcolor": "white",
            "linecolor": "white",
            "ticks": ""
           },
           "bgcolor": "#E5ECF6",
           "radialaxis": {
            "gridcolor": "white",
            "linecolor": "white",
            "ticks": ""
           }
          },
          "scene": {
           "xaxis": {
            "backgroundcolor": "#E5ECF6",
            "gridcolor": "white",
            "gridwidth": 2,
            "linecolor": "white",
            "showbackground": true,
            "ticks": "",
            "zerolinecolor": "white"
           },
           "yaxis": {
            "backgroundcolor": "#E5ECF6",
            "gridcolor": "white",
            "gridwidth": 2,
            "linecolor": "white",
            "showbackground": true,
            "ticks": "",
            "zerolinecolor": "white"
           },
           "zaxis": {
            "backgroundcolor": "#E5ECF6",
            "gridcolor": "white",
            "gridwidth": 2,
            "linecolor": "white",
            "showbackground": true,
            "ticks": "",
            "zerolinecolor": "white"
           }
          },
          "shapedefaults": {
           "line": {
            "color": "#2a3f5f"
           }
          },
          "ternary": {
           "aaxis": {
            "gridcolor": "white",
            "linecolor": "white",
            "ticks": ""
           },
           "baxis": {
            "gridcolor": "white",
            "linecolor": "white",
            "ticks": ""
           },
           "bgcolor": "#E5ECF6",
           "caxis": {
            "gridcolor": "white",
            "linecolor": "white",
            "ticks": ""
           }
          },
          "title": {
           "x": 0.05
          },
          "xaxis": {
           "automargin": true,
           "gridcolor": "white",
           "linecolor": "white",
           "ticks": "",
           "title": {
            "standoff": 15
           },
           "zerolinecolor": "white",
           "zerolinewidth": 2
          },
          "yaxis": {
           "automargin": true,
           "gridcolor": "white",
           "linecolor": "white",
           "ticks": "",
           "title": {
            "standoff": 15
           },
           "zerolinecolor": "white",
           "zerolinewidth": 2
          }
         }
        },
        "title": {
         "text": "DJIA vs Confirmed Non-US Cases"
        },
        "xaxis": {
         "anchor": "y",
         "domain": [
          0,
          1
         ],
         "title": {
          "text": "Count"
         }
        },
        "yaxis": {
         "anchor": "x",
         "domain": [
          0,
          1
         ],
         "title": {
          "text": "Adj Close"
         }
        }
       }
      },
      "text/html": [
       "<div>\n",
       "        \n",
       "        \n",
       "            <div id=\"48ded6e3-8196-4f74-82ad-522db807b2c7\" class=\"plotly-graph-div\" style=\"height:525px; width:100%;\"></div>\n",
       "            <script type=\"text/javascript\">\n",
       "                require([\"plotly\"], function(Plotly) {\n",
       "                    window.PLOTLYENV=window.PLOTLYENV || {};\n",
       "                    \n",
       "                if (document.getElementById(\"48ded6e3-8196-4f74-82ad-522db807b2c7\")) {\n",
       "                    Plotly.newPlot(\n",
       "                        '48ded6e3-8196-4f74-82ad-522db807b2c7',\n",
       "                        [{\"hoverlabel\": {\"namelength\": 0}, \"hovertemplate\": \"Count=%{x}<br>Adj Close=%{y}\", \"legendgroup\": \"\", \"marker\": {\"color\": \"#636efa\", \"symbol\": \"circle\"}, \"mode\": \"markers\", \"name\": \"\", \"showlegend\": false, \"type\": \"scatter\", \"x\": [554, 652, 939, 1432, 2113, 2922, 5573, 6161, 8229, 9920, 12030, 16779, 19870, 23881, 27624, 30806, 34380, 37109, 40139, 42751, 44790, 45209, 60355, 66872, 69017, 71211, 73245, 75123, 75626, 76184, 76808, 78564, 78950, 79517, 80362, 81338, 82696, 84060, 85943, 88295, 90208, 92722, 94971, 97665, 101522, 105419], \"xaxis\": \"x\", \"y\": [29186.269531, 29160.089844, 28989.730469, null, null, 28535.800781, 28722.849608999997, 28734.449219, 28859.439452999995, 28256.029297000005, null, null, 28399.810547000005, 28807.630858999997, 29290.849608999997, 29379.769531, 29102.509766000003, null, null, 29276.820313, 29276.339844, 29551.419922000005, 29423.310547000005, 29398.080077999995, null, null, null, 29232.189452999995, 29348.029297000005, 29219.980469, 28992.410156, null, null, 27960.800781, 27081.359375, 26957.589844, 25766.640625, 25409.359375, null, null, 26703.320313, 25917.410156, 27090.859375, 26121.279297, 25864.779297, null], \"yaxis\": \"y\"}],\n",
       "                        {\"legend\": {\"tracegroupgap\": 0}, \"template\": {\"data\": {\"bar\": [{\"error_x\": {\"color\": \"#2a3f5f\"}, \"error_y\": {\"color\": \"#2a3f5f\"}, \"marker\": {\"line\": {\"color\": \"#E5ECF6\", \"width\": 0.5}}, \"type\": \"bar\"}], \"barpolar\": [{\"marker\": {\"line\": {\"color\": \"#E5ECF6\", \"width\": 0.5}}, \"type\": \"barpolar\"}], \"carpet\": [{\"aaxis\": {\"endlinecolor\": \"#2a3f5f\", \"gridcolor\": \"white\", \"linecolor\": \"white\", \"minorgridcolor\": \"white\", \"startlinecolor\": \"#2a3f5f\"}, \"baxis\": {\"endlinecolor\": \"#2a3f5f\", \"gridcolor\": \"white\", \"linecolor\": \"white\", \"minorgridcolor\": \"white\", \"startlinecolor\": \"#2a3f5f\"}, \"type\": \"carpet\"}], \"choropleth\": [{\"colorbar\": {\"outlinewidth\": 0, \"ticks\": \"\"}, \"type\": \"choropleth\"}], \"contour\": [{\"colorbar\": {\"outlinewidth\": 0, \"ticks\": \"\"}, \"colorscale\": [[0.0, \"#0d0887\"], [0.1111111111111111, \"#46039f\"], [0.2222222222222222, \"#7201a8\"], [0.3333333333333333, \"#9c179e\"], [0.4444444444444444, \"#bd3786\"], [0.5555555555555556, \"#d8576b\"], [0.6666666666666666, \"#ed7953\"], [0.7777777777777778, \"#fb9f3a\"], [0.8888888888888888, \"#fdca26\"], [1.0, \"#f0f921\"]], \"type\": \"contour\"}], \"contourcarpet\": [{\"colorbar\": {\"outlinewidth\": 0, \"ticks\": \"\"}, \"type\": \"contourcarpet\"}], \"heatmap\": [{\"colorbar\": {\"outlinewidth\": 0, \"ticks\": \"\"}, \"colorscale\": [[0.0, \"#0d0887\"], [0.1111111111111111, \"#46039f\"], [0.2222222222222222, \"#7201a8\"], [0.3333333333333333, \"#9c179e\"], [0.4444444444444444, \"#bd3786\"], [0.5555555555555556, \"#d8576b\"], [0.6666666666666666, \"#ed7953\"], [0.7777777777777778, \"#fb9f3a\"], [0.8888888888888888, \"#fdca26\"], [1.0, \"#f0f921\"]], \"type\": \"heatmap\"}], \"heatmapgl\": [{\"colorbar\": {\"outlinewidth\": 0, \"ticks\": \"\"}, \"colorscale\": [[0.0, \"#0d0887\"], [0.1111111111111111, \"#46039f\"], [0.2222222222222222, \"#7201a8\"], [0.3333333333333333, \"#9c179e\"], [0.4444444444444444, \"#bd3786\"], [0.5555555555555556, \"#d8576b\"], [0.6666666666666666, \"#ed7953\"], [0.7777777777777778, \"#fb9f3a\"], [0.8888888888888888, \"#fdca26\"], [1.0, \"#f0f921\"]], \"type\": \"heatmapgl\"}], \"histogram\": [{\"marker\": {\"colorbar\": {\"outlinewidth\": 0, \"ticks\": \"\"}}, \"type\": \"histogram\"}], \"histogram2d\": [{\"colorbar\": {\"outlinewidth\": 0, \"ticks\": \"\"}, \"colorscale\": [[0.0, \"#0d0887\"], [0.1111111111111111, \"#46039f\"], [0.2222222222222222, \"#7201a8\"], [0.3333333333333333, \"#9c179e\"], [0.4444444444444444, \"#bd3786\"], [0.5555555555555556, \"#d8576b\"], [0.6666666666666666, \"#ed7953\"], [0.7777777777777778, \"#fb9f3a\"], [0.8888888888888888, \"#fdca26\"], [1.0, \"#f0f921\"]], \"type\": \"histogram2d\"}], \"histogram2dcontour\": [{\"colorbar\": {\"outlinewidth\": 0, \"ticks\": \"\"}, \"colorscale\": [[0.0, \"#0d0887\"], [0.1111111111111111, \"#46039f\"], [0.2222222222222222, \"#7201a8\"], [0.3333333333333333, \"#9c179e\"], [0.4444444444444444, \"#bd3786\"], [0.5555555555555556, \"#d8576b\"], [0.6666666666666666, \"#ed7953\"], [0.7777777777777778, \"#fb9f3a\"], [0.8888888888888888, \"#fdca26\"], [1.0, \"#f0f921\"]], \"type\": \"histogram2dcontour\"}], \"mesh3d\": [{\"colorbar\": {\"outlinewidth\": 0, \"ticks\": \"\"}, \"type\": \"mesh3d\"}], \"parcoords\": [{\"line\": {\"colorbar\": {\"outlinewidth\": 0, \"ticks\": \"\"}}, \"type\": \"parcoords\"}], \"pie\": [{\"automargin\": true, \"type\": \"pie\"}], \"scatter\": [{\"marker\": {\"colorbar\": {\"outlinewidth\": 0, \"ticks\": \"\"}}, \"type\": \"scatter\"}], \"scatter3d\": [{\"line\": {\"colorbar\": {\"outlinewidth\": 0, \"ticks\": \"\"}}, \"marker\": {\"colorbar\": {\"outlinewidth\": 0, \"ticks\": \"\"}}, \"type\": \"scatter3d\"}], \"scattercarpet\": [{\"marker\": {\"colorbar\": {\"outlinewidth\": 0, \"ticks\": \"\"}}, \"type\": \"scattercarpet\"}], \"scattergeo\": [{\"marker\": {\"colorbar\": {\"outlinewidth\": 0, \"ticks\": \"\"}}, \"type\": \"scattergeo\"}], \"scattergl\": [{\"marker\": {\"colorbar\": {\"outlinewidth\": 0, \"ticks\": \"\"}}, \"type\": \"scattergl\"}], \"scattermapbox\": [{\"marker\": {\"colorbar\": {\"outlinewidth\": 0, \"ticks\": \"\"}}, \"type\": \"scattermapbox\"}], \"scatterpolar\": [{\"marker\": {\"colorbar\": {\"outlinewidth\": 0, \"ticks\": \"\"}}, \"type\": \"scatterpolar\"}], \"scatterpolargl\": [{\"marker\": {\"colorbar\": {\"outlinewidth\": 0, \"ticks\": \"\"}}, \"type\": \"scatterpolargl\"}], \"scatterternary\": [{\"marker\": {\"colorbar\": {\"outlinewidth\": 0, \"ticks\": \"\"}}, \"type\": \"scatterternary\"}], \"surface\": [{\"colorbar\": {\"outlinewidth\": 0, \"ticks\": \"\"}, \"colorscale\": [[0.0, \"#0d0887\"], [0.1111111111111111, \"#46039f\"], [0.2222222222222222, \"#7201a8\"], [0.3333333333333333, \"#9c179e\"], [0.4444444444444444, \"#bd3786\"], [0.5555555555555556, \"#d8576b\"], [0.6666666666666666, \"#ed7953\"], [0.7777777777777778, \"#fb9f3a\"], [0.8888888888888888, \"#fdca26\"], [1.0, \"#f0f921\"]], \"type\": \"surface\"}], \"table\": [{\"cells\": {\"fill\": {\"color\": \"#EBF0F8\"}, \"line\": {\"color\": \"white\"}}, \"header\": {\"fill\": {\"color\": \"#C8D4E3\"}, \"line\": {\"color\": \"white\"}}, \"type\": \"table\"}]}, \"layout\": {\"annotationdefaults\": {\"arrowcolor\": \"#2a3f5f\", \"arrowhead\": 0, \"arrowwidth\": 1}, \"coloraxis\": {\"colorbar\": {\"outlinewidth\": 0, \"ticks\": \"\"}}, \"colorscale\": {\"diverging\": [[0, \"#8e0152\"], [0.1, \"#c51b7d\"], [0.2, \"#de77ae\"], [0.3, \"#f1b6da\"], [0.4, \"#fde0ef\"], [0.5, \"#f7f7f7\"], [0.6, \"#e6f5d0\"], [0.7, \"#b8e186\"], [0.8, \"#7fbc41\"], [0.9, \"#4d9221\"], [1, \"#276419\"]], \"sequential\": [[0.0, \"#0d0887\"], [0.1111111111111111, \"#46039f\"], [0.2222222222222222, \"#7201a8\"], [0.3333333333333333, \"#9c179e\"], [0.4444444444444444, \"#bd3786\"], [0.5555555555555556, \"#d8576b\"], [0.6666666666666666, \"#ed7953\"], [0.7777777777777778, \"#fb9f3a\"], [0.8888888888888888, \"#fdca26\"], [1.0, \"#f0f921\"]], \"sequentialminus\": [[0.0, \"#0d0887\"], [0.1111111111111111, \"#46039f\"], [0.2222222222222222, \"#7201a8\"], [0.3333333333333333, \"#9c179e\"], [0.4444444444444444, \"#bd3786\"], [0.5555555555555556, \"#d8576b\"], [0.6666666666666666, \"#ed7953\"], [0.7777777777777778, \"#fb9f3a\"], [0.8888888888888888, \"#fdca26\"], [1.0, \"#f0f921\"]]}, \"colorway\": [\"#636efa\", \"#EF553B\", \"#00cc96\", \"#ab63fa\", \"#FFA15A\", \"#19d3f3\", \"#FF6692\", \"#B6E880\", \"#FF97FF\", \"#FECB52\"], \"font\": {\"color\": \"#2a3f5f\"}, \"geo\": {\"bgcolor\": \"white\", \"lakecolor\": \"white\", \"landcolor\": \"#E5ECF6\", \"showlakes\": true, \"showland\": true, \"subunitcolor\": \"white\"}, \"hoverlabel\": {\"align\": \"left\"}, \"hovermode\": \"closest\", \"mapbox\": {\"style\": \"light\"}, \"paper_bgcolor\": \"white\", \"plot_bgcolor\": \"#E5ECF6\", \"polar\": {\"angularaxis\": {\"gridcolor\": \"white\", \"linecolor\": \"white\", \"ticks\": \"\"}, \"bgcolor\": \"#E5ECF6\", \"radialaxis\": {\"gridcolor\": \"white\", \"linecolor\": \"white\", \"ticks\": \"\"}}, \"scene\": {\"xaxis\": {\"backgroundcolor\": \"#E5ECF6\", \"gridcolor\": \"white\", \"gridwidth\": 2, \"linecolor\": \"white\", \"showbackground\": true, \"ticks\": \"\", \"zerolinecolor\": \"white\"}, \"yaxis\": {\"backgroundcolor\": \"#E5ECF6\", \"gridcolor\": \"white\", \"gridwidth\": 2, \"linecolor\": \"white\", \"showbackground\": true, \"ticks\": \"\", \"zerolinecolor\": \"white\"}, \"zaxis\": {\"backgroundcolor\": \"#E5ECF6\", \"gridcolor\": \"white\", \"gridwidth\": 2, \"linecolor\": \"white\", \"showbackground\": true, \"ticks\": \"\", \"zerolinecolor\": \"white\"}}, \"shapedefaults\": {\"line\": {\"color\": \"#2a3f5f\"}}, \"ternary\": {\"aaxis\": {\"gridcolor\": \"white\", \"linecolor\": \"white\", \"ticks\": \"\"}, \"baxis\": {\"gridcolor\": \"white\", \"linecolor\": \"white\", \"ticks\": \"\"}, \"bgcolor\": \"#E5ECF6\", \"caxis\": {\"gridcolor\": \"white\", \"linecolor\": \"white\", \"ticks\": \"\"}}, \"title\": {\"x\": 0.05}, \"xaxis\": {\"automargin\": true, \"gridcolor\": \"white\", \"linecolor\": \"white\", \"ticks\": \"\", \"title\": {\"standoff\": 15}, \"zerolinecolor\": \"white\", \"zerolinewidth\": 2}, \"yaxis\": {\"automargin\": true, \"gridcolor\": \"white\", \"linecolor\": \"white\", \"ticks\": \"\", \"title\": {\"standoff\": 15}, \"zerolinecolor\": \"white\", \"zerolinewidth\": 2}}}, \"title\": {\"text\": \"DJIA vs Confirmed Non-US Cases\"}, \"xaxis\": {\"anchor\": \"y\", \"domain\": [0.0, 1.0], \"title\": {\"text\": \"Count\"}}, \"yaxis\": {\"anchor\": \"x\", \"domain\": [0.0, 1.0], \"title\": {\"text\": \"Adj Close\"}}},\n",
       "                        {\"responsive\": true}\n",
       "                    ).then(function(){\n",
       "                            \n",
       "var gd = document.getElementById('48ded6e3-8196-4f74-82ad-522db807b2c7');\n",
       "var x = new MutationObserver(function (mutations, observer) {{\n",
       "        var display = window.getComputedStyle(gd).display;\n",
       "        if (!display || display === 'none') {{\n",
       "            console.log([gd, 'removed!']);\n",
       "            Plotly.purge(gd);\n",
       "            observer.disconnect();\n",
       "        }}\n",
       "}});\n",
       "\n",
       "// Listen for the removal of the full notebook cells\n",
       "var notebookContainer = gd.closest('#notebook-container');\n",
       "if (notebookContainer) {{\n",
       "    x.observe(notebookContainer, {childList: true});\n",
       "}}\n",
       "\n",
       "// Listen for the clearing of the current output cell\n",
       "var outputEl = gd.closest('.output');\n",
       "if (outputEl) {{\n",
       "    x.observe(outputEl, {childList: true});\n",
       "}}\n",
       "\n",
       "                        })\n",
       "                };\n",
       "                });\n",
       "            </script>\n",
       "        </div>"
      ]
     },
     "metadata": {},
     "output_type": "display_data"
    }
   ],
   "source": [
    "plot_df = tidy_df[(tidy_df['Type']=='Confirmed')&(tidy_df['US']=='Non-US')]\n",
    "\n",
    "px.scatter(plot_df, x='Count', y='Adj Close', title='DJIA vs Confirmed Non-US Cases')"
   ]
  },
  {
   "cell_type": "code",
   "execution_count": 36,
   "metadata": {},
   "outputs": [
    {
     "data": {
      "application/vnd.plotly.v1+json": {
       "config": {
        "plotlyServerURL": "https://plot.ly"
       },
       "data": [
        {
         "hoverlabel": {
          "namelength": 0
         },
         "hovertemplate": "Count=%{x}<br>Adj Close=%{y}",
         "legendgroup": "",
         "marker": {
          "color": "#636efa",
          "symbol": "circle"
         },
         "mode": "markers",
         "name": "",
         "showlegend": false,
         "type": "scatter",
         "x": [
          28,
          30,
          36,
          39,
          52,
          61,
          107,
          126,
          143,
          222,
          284,
          472,
          623,
          852,
          1124,
          1487,
          2011,
          2616,
          3241,
          3943,
          4680,
          5147,
          6292,
          8055,
          9392,
          10862,
          12580,
          14349,
          16118,
          18174,
          18885,
          22881,
          23389,
          25222,
          27899,
          30378,
          33271,
          36704,
          39775,
          42709,
          45595,
          48221,
          51163,
          53789,
          55858,
          58351
         ],
         "xaxis": "x",
         "y": [
          29186.269531,
          29160.089844,
          28989.730469,
          null,
          null,
          28535.800781,
          28722.849608999997,
          28734.449219,
          28859.439452999995,
          28256.029297000005,
          null,
          null,
          28399.810547000005,
          28807.630858999997,
          29290.849608999997,
          29379.769531,
          29102.509766000003,
          null,
          null,
          29276.820313,
          29276.339844,
          29551.419922000005,
          29423.310547000005,
          29398.080077999995,
          null,
          null,
          null,
          29232.189452999995,
          29348.029297000005,
          29219.980469,
          28992.410156,
          null,
          null,
          27960.800781,
          27081.359375,
          26957.589844,
          25766.640625,
          25409.359375,
          null,
          null,
          26703.320313,
          25917.410156,
          27090.859375,
          26121.279297,
          25864.779297,
          null
         ],
         "yaxis": "y"
        }
       ],
       "layout": {
        "legend": {
         "tracegroupgap": 0
        },
        "template": {
         "data": {
          "bar": [
           {
            "error_x": {
             "color": "#2a3f5f"
            },
            "error_y": {
             "color": "#2a3f5f"
            },
            "marker": {
             "line": {
              "color": "#E5ECF6",
              "width": 0.5
             }
            },
            "type": "bar"
           }
          ],
          "barpolar": [
           {
            "marker": {
             "line": {
              "color": "#E5ECF6",
              "width": 0.5
             }
            },
            "type": "barpolar"
           }
          ],
          "carpet": [
           {
            "aaxis": {
             "endlinecolor": "#2a3f5f",
             "gridcolor": "white",
             "linecolor": "white",
             "minorgridcolor": "white",
             "startlinecolor": "#2a3f5f"
            },
            "baxis": {
             "endlinecolor": "#2a3f5f",
             "gridcolor": "white",
             "linecolor": "white",
             "minorgridcolor": "white",
             "startlinecolor": "#2a3f5f"
            },
            "type": "carpet"
           }
          ],
          "choropleth": [
           {
            "colorbar": {
             "outlinewidth": 0,
             "ticks": ""
            },
            "type": "choropleth"
           }
          ],
          "contour": [
           {
            "colorbar": {
             "outlinewidth": 0,
             "ticks": ""
            },
            "colorscale": [
             [
              0,
              "#0d0887"
             ],
             [
              0.1111111111111111,
              "#46039f"
             ],
             [
              0.2222222222222222,
              "#7201a8"
             ],
             [
              0.3333333333333333,
              "#9c179e"
             ],
             [
              0.4444444444444444,
              "#bd3786"
             ],
             [
              0.5555555555555556,
              "#d8576b"
             ],
             [
              0.6666666666666666,
              "#ed7953"
             ],
             [
              0.7777777777777778,
              "#fb9f3a"
             ],
             [
              0.8888888888888888,
              "#fdca26"
             ],
             [
              1,
              "#f0f921"
             ]
            ],
            "type": "contour"
           }
          ],
          "contourcarpet": [
           {
            "colorbar": {
             "outlinewidth": 0,
             "ticks": ""
            },
            "type": "contourcarpet"
           }
          ],
          "heatmap": [
           {
            "colorbar": {
             "outlinewidth": 0,
             "ticks": ""
            },
            "colorscale": [
             [
              0,
              "#0d0887"
             ],
             [
              0.1111111111111111,
              "#46039f"
             ],
             [
              0.2222222222222222,
              "#7201a8"
             ],
             [
              0.3333333333333333,
              "#9c179e"
             ],
             [
              0.4444444444444444,
              "#bd3786"
             ],
             [
              0.5555555555555556,
              "#d8576b"
             ],
             [
              0.6666666666666666,
              "#ed7953"
             ],
             [
              0.7777777777777778,
              "#fb9f3a"
             ],
             [
              0.8888888888888888,
              "#fdca26"
             ],
             [
              1,
              "#f0f921"
             ]
            ],
            "type": "heatmap"
           }
          ],
          "heatmapgl": [
           {
            "colorbar": {
             "outlinewidth": 0,
             "ticks": ""
            },
            "colorscale": [
             [
              0,
              "#0d0887"
             ],
             [
              0.1111111111111111,
              "#46039f"
             ],
             [
              0.2222222222222222,
              "#7201a8"
             ],
             [
              0.3333333333333333,
              "#9c179e"
             ],
             [
              0.4444444444444444,
              "#bd3786"
             ],
             [
              0.5555555555555556,
              "#d8576b"
             ],
             [
              0.6666666666666666,
              "#ed7953"
             ],
             [
              0.7777777777777778,
              "#fb9f3a"
             ],
             [
              0.8888888888888888,
              "#fdca26"
             ],
             [
              1,
              "#f0f921"
             ]
            ],
            "type": "heatmapgl"
           }
          ],
          "histogram": [
           {
            "marker": {
             "colorbar": {
              "outlinewidth": 0,
              "ticks": ""
             }
            },
            "type": "histogram"
           }
          ],
          "histogram2d": [
           {
            "colorbar": {
             "outlinewidth": 0,
             "ticks": ""
            },
            "colorscale": [
             [
              0,
              "#0d0887"
             ],
             [
              0.1111111111111111,
              "#46039f"
             ],
             [
              0.2222222222222222,
              "#7201a8"
             ],
             [
              0.3333333333333333,
              "#9c179e"
             ],
             [
              0.4444444444444444,
              "#bd3786"
             ],
             [
              0.5555555555555556,
              "#d8576b"
             ],
             [
              0.6666666666666666,
              "#ed7953"
             ],
             [
              0.7777777777777778,
              "#fb9f3a"
             ],
             [
              0.8888888888888888,
              "#fdca26"
             ],
             [
              1,
              "#f0f921"
             ]
            ],
            "type": "histogram2d"
           }
          ],
          "histogram2dcontour": [
           {
            "colorbar": {
             "outlinewidth": 0,
             "ticks": ""
            },
            "colorscale": [
             [
              0,
              "#0d0887"
             ],
             [
              0.1111111111111111,
              "#46039f"
             ],
             [
              0.2222222222222222,
              "#7201a8"
             ],
             [
              0.3333333333333333,
              "#9c179e"
             ],
             [
              0.4444444444444444,
              "#bd3786"
             ],
             [
              0.5555555555555556,
              "#d8576b"
             ],
             [
              0.6666666666666666,
              "#ed7953"
             ],
             [
              0.7777777777777778,
              "#fb9f3a"
             ],
             [
              0.8888888888888888,
              "#fdca26"
             ],
             [
              1,
              "#f0f921"
             ]
            ],
            "type": "histogram2dcontour"
           }
          ],
          "mesh3d": [
           {
            "colorbar": {
             "outlinewidth": 0,
             "ticks": ""
            },
            "type": "mesh3d"
           }
          ],
          "parcoords": [
           {
            "line": {
             "colorbar": {
              "outlinewidth": 0,
              "ticks": ""
             }
            },
            "type": "parcoords"
           }
          ],
          "pie": [
           {
            "automargin": true,
            "type": "pie"
           }
          ],
          "scatter": [
           {
            "marker": {
             "colorbar": {
              "outlinewidth": 0,
              "ticks": ""
             }
            },
            "type": "scatter"
           }
          ],
          "scatter3d": [
           {
            "line": {
             "colorbar": {
              "outlinewidth": 0,
              "ticks": ""
             }
            },
            "marker": {
             "colorbar": {
              "outlinewidth": 0,
              "ticks": ""
             }
            },
            "type": "scatter3d"
           }
          ],
          "scattercarpet": [
           {
            "marker": {
             "colorbar": {
              "outlinewidth": 0,
              "ticks": ""
             }
            },
            "type": "scattercarpet"
           }
          ],
          "scattergeo": [
           {
            "marker": {
             "colorbar": {
              "outlinewidth": 0,
              "ticks": ""
             }
            },
            "type": "scattergeo"
           }
          ],
          "scattergl": [
           {
            "marker": {
             "colorbar": {
              "outlinewidth": 0,
              "ticks": ""
             }
            },
            "type": "scattergl"
           }
          ],
          "scattermapbox": [
           {
            "marker": {
             "colorbar": {
              "outlinewidth": 0,
              "ticks": ""
             }
            },
            "type": "scattermapbox"
           }
          ],
          "scatterpolar": [
           {
            "marker": {
             "colorbar": {
              "outlinewidth": 0,
              "ticks": ""
             }
            },
            "type": "scatterpolar"
           }
          ],
          "scatterpolargl": [
           {
            "marker": {
             "colorbar": {
              "outlinewidth": 0,
              "ticks": ""
             }
            },
            "type": "scatterpolargl"
           }
          ],
          "scatterternary": [
           {
            "marker": {
             "colorbar": {
              "outlinewidth": 0,
              "ticks": ""
             }
            },
            "type": "scatterternary"
           }
          ],
          "surface": [
           {
            "colorbar": {
             "outlinewidth": 0,
             "ticks": ""
            },
            "colorscale": [
             [
              0,
              "#0d0887"
             ],
             [
              0.1111111111111111,
              "#46039f"
             ],
             [
              0.2222222222222222,
              "#7201a8"
             ],
             [
              0.3333333333333333,
              "#9c179e"
             ],
             [
              0.4444444444444444,
              "#bd3786"
             ],
             [
              0.5555555555555556,
              "#d8576b"
             ],
             [
              0.6666666666666666,
              "#ed7953"
             ],
             [
              0.7777777777777778,
              "#fb9f3a"
             ],
             [
              0.8888888888888888,
              "#fdca26"
             ],
             [
              1,
              "#f0f921"
             ]
            ],
            "type": "surface"
           }
          ],
          "table": [
           {
            "cells": {
             "fill": {
              "color": "#EBF0F8"
             },
             "line": {
              "color": "white"
             }
            },
            "header": {
             "fill": {
              "color": "#C8D4E3"
             },
             "line": {
              "color": "white"
             }
            },
            "type": "table"
           }
          ]
         },
         "layout": {
          "annotationdefaults": {
           "arrowcolor": "#2a3f5f",
           "arrowhead": 0,
           "arrowwidth": 1
          },
          "coloraxis": {
           "colorbar": {
            "outlinewidth": 0,
            "ticks": ""
           }
          },
          "colorscale": {
           "diverging": [
            [
             0,
             "#8e0152"
            ],
            [
             0.1,
             "#c51b7d"
            ],
            [
             0.2,
             "#de77ae"
            ],
            [
             0.3,
             "#f1b6da"
            ],
            [
             0.4,
             "#fde0ef"
            ],
            [
             0.5,
             "#f7f7f7"
            ],
            [
             0.6,
             "#e6f5d0"
            ],
            [
             0.7,
             "#b8e186"
            ],
            [
             0.8,
             "#7fbc41"
            ],
            [
             0.9,
             "#4d9221"
            ],
            [
             1,
             "#276419"
            ]
           ],
           "sequential": [
            [
             0,
             "#0d0887"
            ],
            [
             0.1111111111111111,
             "#46039f"
            ],
            [
             0.2222222222222222,
             "#7201a8"
            ],
            [
             0.3333333333333333,
             "#9c179e"
            ],
            [
             0.4444444444444444,
             "#bd3786"
            ],
            [
             0.5555555555555556,
             "#d8576b"
            ],
            [
             0.6666666666666666,
             "#ed7953"
            ],
            [
             0.7777777777777778,
             "#fb9f3a"
            ],
            [
             0.8888888888888888,
             "#fdca26"
            ],
            [
             1,
             "#f0f921"
            ]
           ],
           "sequentialminus": [
            [
             0,
             "#0d0887"
            ],
            [
             0.1111111111111111,
             "#46039f"
            ],
            [
             0.2222222222222222,
             "#7201a8"
            ],
            [
             0.3333333333333333,
             "#9c179e"
            ],
            [
             0.4444444444444444,
             "#bd3786"
            ],
            [
             0.5555555555555556,
             "#d8576b"
            ],
            [
             0.6666666666666666,
             "#ed7953"
            ],
            [
             0.7777777777777778,
             "#fb9f3a"
            ],
            [
             0.8888888888888888,
             "#fdca26"
            ],
            [
             1,
             "#f0f921"
            ]
           ]
          },
          "colorway": [
           "#636efa",
           "#EF553B",
           "#00cc96",
           "#ab63fa",
           "#FFA15A",
           "#19d3f3",
           "#FF6692",
           "#B6E880",
           "#FF97FF",
           "#FECB52"
          ],
          "font": {
           "color": "#2a3f5f"
          },
          "geo": {
           "bgcolor": "white",
           "lakecolor": "white",
           "landcolor": "#E5ECF6",
           "showlakes": true,
           "showland": true,
           "subunitcolor": "white"
          },
          "hoverlabel": {
           "align": "left"
          },
          "hovermode": "closest",
          "mapbox": {
           "style": "light"
          },
          "paper_bgcolor": "white",
          "plot_bgcolor": "#E5ECF6",
          "polar": {
           "angularaxis": {
            "gridcolor": "white",
            "linecolor": "white",
            "ticks": ""
           },
           "bgcolor": "#E5ECF6",
           "radialaxis": {
            "gridcolor": "white",
            "linecolor": "white",
            "ticks": ""
           }
          },
          "scene": {
           "xaxis": {
            "backgroundcolor": "#E5ECF6",
            "gridcolor": "white",
            "gridwidth": 2,
            "linecolor": "white",
            "showbackground": true,
            "ticks": "",
            "zerolinecolor": "white"
           },
           "yaxis": {
            "backgroundcolor": "#E5ECF6",
            "gridcolor": "white",
            "gridwidth": 2,
            "linecolor": "white",
            "showbackground": true,
            "ticks": "",
            "zerolinecolor": "white"
           },
           "zaxis": {
            "backgroundcolor": "#E5ECF6",
            "gridcolor": "white",
            "gridwidth": 2,
            "linecolor": "white",
            "showbackground": true,
            "ticks": "",
            "zerolinecolor": "white"
           }
          },
          "shapedefaults": {
           "line": {
            "color": "#2a3f5f"
           }
          },
          "ternary": {
           "aaxis": {
            "gridcolor": "white",
            "linecolor": "white",
            "ticks": ""
           },
           "baxis": {
            "gridcolor": "white",
            "linecolor": "white",
            "ticks": ""
           },
           "bgcolor": "#E5ECF6",
           "caxis": {
            "gridcolor": "white",
            "linecolor": "white",
            "ticks": ""
           }
          },
          "title": {
           "x": 0.05
          },
          "xaxis": {
           "automargin": true,
           "gridcolor": "white",
           "linecolor": "white",
           "ticks": "",
           "title": {
            "standoff": 15
           },
           "zerolinecolor": "white",
           "zerolinewidth": 2
          },
          "yaxis": {
           "automargin": true,
           "gridcolor": "white",
           "linecolor": "white",
           "ticks": "",
           "title": {
            "standoff": 15
           },
           "zerolinecolor": "white",
           "zerolinewidth": 2
          }
         }
        },
        "title": {
         "text": "DJIA vs Recovered Non-US Cases"
        },
        "xaxis": {
         "anchor": "y",
         "domain": [
          0,
          1
         ],
         "title": {
          "text": "Count"
         }
        },
        "yaxis": {
         "anchor": "x",
         "domain": [
          0,
          1
         ],
         "title": {
          "text": "Adj Close"
         }
        }
       }
      },
      "text/html": [
       "<div>\n",
       "        \n",
       "        \n",
       "            <div id=\"46272d70-fe78-4441-990a-d704db0be8ab\" class=\"plotly-graph-div\" style=\"height:525px; width:100%;\"></div>\n",
       "            <script type=\"text/javascript\">\n",
       "                require([\"plotly\"], function(Plotly) {\n",
       "                    window.PLOTLYENV=window.PLOTLYENV || {};\n",
       "                    \n",
       "                if (document.getElementById(\"46272d70-fe78-4441-990a-d704db0be8ab\")) {\n",
       "                    Plotly.newPlot(\n",
       "                        '46272d70-fe78-4441-990a-d704db0be8ab',\n",
       "                        [{\"hoverlabel\": {\"namelength\": 0}, \"hovertemplate\": \"Count=%{x}<br>Adj Close=%{y}\", \"legendgroup\": \"\", \"marker\": {\"color\": \"#636efa\", \"symbol\": \"circle\"}, \"mode\": \"markers\", \"name\": \"\", \"showlegend\": false, \"type\": \"scatter\", \"x\": [28, 30, 36, 39, 52, 61, 107, 126, 143, 222, 284, 472, 623, 852, 1124, 1487, 2011, 2616, 3241, 3943, 4680, 5147, 6292, 8055, 9392, 10862, 12580, 14349, 16118, 18174, 18885, 22881, 23389, 25222, 27899, 30378, 33271, 36704, 39775, 42709, 45595, 48221, 51163, 53789, 55858, 58351], \"xaxis\": \"x\", \"y\": [29186.269531, 29160.089844, 28989.730469, null, null, 28535.800781, 28722.849608999997, 28734.449219, 28859.439452999995, 28256.029297000005, null, null, 28399.810547000005, 28807.630858999997, 29290.849608999997, 29379.769531, 29102.509766000003, null, null, 29276.820313, 29276.339844, 29551.419922000005, 29423.310547000005, 29398.080077999995, null, null, null, 29232.189452999995, 29348.029297000005, 29219.980469, 28992.410156, null, null, 27960.800781, 27081.359375, 26957.589844, 25766.640625, 25409.359375, null, null, 26703.320313, 25917.410156, 27090.859375, 26121.279297, 25864.779297, null], \"yaxis\": \"y\"}],\n",
       "                        {\"legend\": {\"tracegroupgap\": 0}, \"template\": {\"data\": {\"bar\": [{\"error_x\": {\"color\": \"#2a3f5f\"}, \"error_y\": {\"color\": \"#2a3f5f\"}, \"marker\": {\"line\": {\"color\": \"#E5ECF6\", \"width\": 0.5}}, \"type\": \"bar\"}], \"barpolar\": [{\"marker\": {\"line\": {\"color\": \"#E5ECF6\", \"width\": 0.5}}, \"type\": \"barpolar\"}], \"carpet\": [{\"aaxis\": {\"endlinecolor\": \"#2a3f5f\", \"gridcolor\": \"white\", \"linecolor\": \"white\", \"minorgridcolor\": \"white\", \"startlinecolor\": \"#2a3f5f\"}, \"baxis\": {\"endlinecolor\": \"#2a3f5f\", \"gridcolor\": \"white\", \"linecolor\": \"white\", \"minorgridcolor\": \"white\", \"startlinecolor\": \"#2a3f5f\"}, \"type\": \"carpet\"}], \"choropleth\": [{\"colorbar\": {\"outlinewidth\": 0, \"ticks\": \"\"}, \"type\": \"choropleth\"}], \"contour\": [{\"colorbar\": {\"outlinewidth\": 0, \"ticks\": \"\"}, \"colorscale\": [[0.0, \"#0d0887\"], [0.1111111111111111, \"#46039f\"], [0.2222222222222222, \"#7201a8\"], [0.3333333333333333, \"#9c179e\"], [0.4444444444444444, \"#bd3786\"], [0.5555555555555556, \"#d8576b\"], [0.6666666666666666, \"#ed7953\"], [0.7777777777777778, \"#fb9f3a\"], [0.8888888888888888, \"#fdca26\"], [1.0, \"#f0f921\"]], \"type\": \"contour\"}], \"contourcarpet\": [{\"colorbar\": {\"outlinewidth\": 0, \"ticks\": \"\"}, \"type\": \"contourcarpet\"}], \"heatmap\": [{\"colorbar\": {\"outlinewidth\": 0, \"ticks\": \"\"}, \"colorscale\": [[0.0, \"#0d0887\"], [0.1111111111111111, \"#46039f\"], [0.2222222222222222, \"#7201a8\"], [0.3333333333333333, \"#9c179e\"], [0.4444444444444444, \"#bd3786\"], [0.5555555555555556, \"#d8576b\"], [0.6666666666666666, \"#ed7953\"], [0.7777777777777778, \"#fb9f3a\"], [0.8888888888888888, \"#fdca26\"], [1.0, \"#f0f921\"]], \"type\": \"heatmap\"}], \"heatmapgl\": [{\"colorbar\": {\"outlinewidth\": 0, \"ticks\": \"\"}, \"colorscale\": [[0.0, \"#0d0887\"], [0.1111111111111111, \"#46039f\"], [0.2222222222222222, \"#7201a8\"], [0.3333333333333333, \"#9c179e\"], [0.4444444444444444, \"#bd3786\"], [0.5555555555555556, \"#d8576b\"], [0.6666666666666666, \"#ed7953\"], [0.7777777777777778, \"#fb9f3a\"], [0.8888888888888888, \"#fdca26\"], [1.0, \"#f0f921\"]], \"type\": \"heatmapgl\"}], \"histogram\": [{\"marker\": {\"colorbar\": {\"outlinewidth\": 0, \"ticks\": \"\"}}, \"type\": \"histogram\"}], \"histogram2d\": [{\"colorbar\": {\"outlinewidth\": 0, \"ticks\": \"\"}, \"colorscale\": [[0.0, \"#0d0887\"], [0.1111111111111111, \"#46039f\"], [0.2222222222222222, \"#7201a8\"], [0.3333333333333333, \"#9c179e\"], [0.4444444444444444, \"#bd3786\"], [0.5555555555555556, \"#d8576b\"], [0.6666666666666666, \"#ed7953\"], [0.7777777777777778, \"#fb9f3a\"], [0.8888888888888888, \"#fdca26\"], [1.0, \"#f0f921\"]], \"type\": \"histogram2d\"}], \"histogram2dcontour\": [{\"colorbar\": {\"outlinewidth\": 0, \"ticks\": \"\"}, \"colorscale\": [[0.0, \"#0d0887\"], [0.1111111111111111, \"#46039f\"], [0.2222222222222222, \"#7201a8\"], [0.3333333333333333, \"#9c179e\"], [0.4444444444444444, \"#bd3786\"], [0.5555555555555556, \"#d8576b\"], [0.6666666666666666, \"#ed7953\"], [0.7777777777777778, \"#fb9f3a\"], [0.8888888888888888, \"#fdca26\"], [1.0, \"#f0f921\"]], \"type\": \"histogram2dcontour\"}], \"mesh3d\": [{\"colorbar\": {\"outlinewidth\": 0, \"ticks\": \"\"}, \"type\": \"mesh3d\"}], \"parcoords\": [{\"line\": {\"colorbar\": {\"outlinewidth\": 0, \"ticks\": \"\"}}, \"type\": \"parcoords\"}], \"pie\": [{\"automargin\": true, \"type\": \"pie\"}], \"scatter\": [{\"marker\": {\"colorbar\": {\"outlinewidth\": 0, \"ticks\": \"\"}}, \"type\": \"scatter\"}], \"scatter3d\": [{\"line\": {\"colorbar\": {\"outlinewidth\": 0, \"ticks\": \"\"}}, \"marker\": {\"colorbar\": {\"outlinewidth\": 0, \"ticks\": \"\"}}, \"type\": \"scatter3d\"}], \"scattercarpet\": [{\"marker\": {\"colorbar\": {\"outlinewidth\": 0, \"ticks\": \"\"}}, \"type\": \"scattercarpet\"}], \"scattergeo\": [{\"marker\": {\"colorbar\": {\"outlinewidth\": 0, \"ticks\": \"\"}}, \"type\": \"scattergeo\"}], \"scattergl\": [{\"marker\": {\"colorbar\": {\"outlinewidth\": 0, \"ticks\": \"\"}}, \"type\": \"scattergl\"}], \"scattermapbox\": [{\"marker\": {\"colorbar\": {\"outlinewidth\": 0, \"ticks\": \"\"}}, \"type\": \"scattermapbox\"}], \"scatterpolar\": [{\"marker\": {\"colorbar\": {\"outlinewidth\": 0, \"ticks\": \"\"}}, \"type\": \"scatterpolar\"}], \"scatterpolargl\": [{\"marker\": {\"colorbar\": {\"outlinewidth\": 0, \"ticks\": \"\"}}, \"type\": \"scatterpolargl\"}], \"scatterternary\": [{\"marker\": {\"colorbar\": {\"outlinewidth\": 0, \"ticks\": \"\"}}, \"type\": \"scatterternary\"}], \"surface\": [{\"colorbar\": {\"outlinewidth\": 0, \"ticks\": \"\"}, \"colorscale\": [[0.0, \"#0d0887\"], [0.1111111111111111, \"#46039f\"], [0.2222222222222222, \"#7201a8\"], [0.3333333333333333, \"#9c179e\"], [0.4444444444444444, \"#bd3786\"], [0.5555555555555556, \"#d8576b\"], [0.6666666666666666, \"#ed7953\"], [0.7777777777777778, \"#fb9f3a\"], [0.8888888888888888, \"#fdca26\"], [1.0, \"#f0f921\"]], \"type\": \"surface\"}], \"table\": [{\"cells\": {\"fill\": {\"color\": \"#EBF0F8\"}, \"line\": {\"color\": \"white\"}}, \"header\": {\"fill\": {\"color\": \"#C8D4E3\"}, \"line\": {\"color\": \"white\"}}, \"type\": \"table\"}]}, \"layout\": {\"annotationdefaults\": {\"arrowcolor\": \"#2a3f5f\", \"arrowhead\": 0, \"arrowwidth\": 1}, \"coloraxis\": {\"colorbar\": {\"outlinewidth\": 0, \"ticks\": \"\"}}, \"colorscale\": {\"diverging\": [[0, \"#8e0152\"], [0.1, \"#c51b7d\"], [0.2, \"#de77ae\"], [0.3, \"#f1b6da\"], [0.4, \"#fde0ef\"], [0.5, \"#f7f7f7\"], [0.6, \"#e6f5d0\"], [0.7, \"#b8e186\"], [0.8, \"#7fbc41\"], [0.9, \"#4d9221\"], [1, \"#276419\"]], \"sequential\": [[0.0, \"#0d0887\"], [0.1111111111111111, \"#46039f\"], [0.2222222222222222, \"#7201a8\"], [0.3333333333333333, \"#9c179e\"], [0.4444444444444444, \"#bd3786\"], [0.5555555555555556, \"#d8576b\"], [0.6666666666666666, \"#ed7953\"], [0.7777777777777778, \"#fb9f3a\"], [0.8888888888888888, \"#fdca26\"], [1.0, \"#f0f921\"]], \"sequentialminus\": [[0.0, \"#0d0887\"], [0.1111111111111111, \"#46039f\"], [0.2222222222222222, \"#7201a8\"], [0.3333333333333333, \"#9c179e\"], [0.4444444444444444, \"#bd3786\"], [0.5555555555555556, \"#d8576b\"], [0.6666666666666666, \"#ed7953\"], [0.7777777777777778, \"#fb9f3a\"], [0.8888888888888888, \"#fdca26\"], [1.0, \"#f0f921\"]]}, \"colorway\": [\"#636efa\", \"#EF553B\", \"#00cc96\", \"#ab63fa\", \"#FFA15A\", \"#19d3f3\", \"#FF6692\", \"#B6E880\", \"#FF97FF\", \"#FECB52\"], \"font\": {\"color\": \"#2a3f5f\"}, \"geo\": {\"bgcolor\": \"white\", \"lakecolor\": \"white\", \"landcolor\": \"#E5ECF6\", \"showlakes\": true, \"showland\": true, \"subunitcolor\": \"white\"}, \"hoverlabel\": {\"align\": \"left\"}, \"hovermode\": \"closest\", \"mapbox\": {\"style\": \"light\"}, \"paper_bgcolor\": \"white\", \"plot_bgcolor\": \"#E5ECF6\", \"polar\": {\"angularaxis\": {\"gridcolor\": \"white\", \"linecolor\": \"white\", \"ticks\": \"\"}, \"bgcolor\": \"#E5ECF6\", \"radialaxis\": {\"gridcolor\": \"white\", \"linecolor\": \"white\", \"ticks\": \"\"}}, \"scene\": {\"xaxis\": {\"backgroundcolor\": \"#E5ECF6\", \"gridcolor\": \"white\", \"gridwidth\": 2, \"linecolor\": \"white\", \"showbackground\": true, \"ticks\": \"\", \"zerolinecolor\": \"white\"}, \"yaxis\": {\"backgroundcolor\": \"#E5ECF6\", \"gridcolor\": \"white\", \"gridwidth\": 2, \"linecolor\": \"white\", \"showbackground\": true, \"ticks\": \"\", \"zerolinecolor\": \"white\"}, \"zaxis\": {\"backgroundcolor\": \"#E5ECF6\", \"gridcolor\": \"white\", \"gridwidth\": 2, \"linecolor\": \"white\", \"showbackground\": true, \"ticks\": \"\", \"zerolinecolor\": \"white\"}}, \"shapedefaults\": {\"line\": {\"color\": \"#2a3f5f\"}}, \"ternary\": {\"aaxis\": {\"gridcolor\": \"white\", \"linecolor\": \"white\", \"ticks\": \"\"}, \"baxis\": {\"gridcolor\": \"white\", \"linecolor\": \"white\", \"ticks\": \"\"}, \"bgcolor\": \"#E5ECF6\", \"caxis\": {\"gridcolor\": \"white\", \"linecolor\": \"white\", \"ticks\": \"\"}}, \"title\": {\"x\": 0.05}, \"xaxis\": {\"automargin\": true, \"gridcolor\": \"white\", \"linecolor\": \"white\", \"ticks\": \"\", \"title\": {\"standoff\": 15}, \"zerolinecolor\": \"white\", \"zerolinewidth\": 2}, \"yaxis\": {\"automargin\": true, \"gridcolor\": \"white\", \"linecolor\": \"white\", \"ticks\": \"\", \"title\": {\"standoff\": 15}, \"zerolinecolor\": \"white\", \"zerolinewidth\": 2}}}, \"title\": {\"text\": \"DJIA vs Recovered Non-US Cases\"}, \"xaxis\": {\"anchor\": \"y\", \"domain\": [0.0, 1.0], \"title\": {\"text\": \"Count\"}}, \"yaxis\": {\"anchor\": \"x\", \"domain\": [0.0, 1.0], \"title\": {\"text\": \"Adj Close\"}}},\n",
       "                        {\"responsive\": true}\n",
       "                    ).then(function(){\n",
       "                            \n",
       "var gd = document.getElementById('46272d70-fe78-4441-990a-d704db0be8ab');\n",
       "var x = new MutationObserver(function (mutations, observer) {{\n",
       "        var display = window.getComputedStyle(gd).display;\n",
       "        if (!display || display === 'none') {{\n",
       "            console.log([gd, 'removed!']);\n",
       "            Plotly.purge(gd);\n",
       "            observer.disconnect();\n",
       "        }}\n",
       "}});\n",
       "\n",
       "// Listen for the removal of the full notebook cells\n",
       "var notebookContainer = gd.closest('#notebook-container');\n",
       "if (notebookContainer) {{\n",
       "    x.observe(notebookContainer, {childList: true});\n",
       "}}\n",
       "\n",
       "// Listen for the clearing of the current output cell\n",
       "var outputEl = gd.closest('.output');\n",
       "if (outputEl) {{\n",
       "    x.observe(outputEl, {childList: true});\n",
       "}}\n",
       "\n",
       "                        })\n",
       "                };\n",
       "                });\n",
       "            </script>\n",
       "        </div>"
      ]
     },
     "metadata": {},
     "output_type": "display_data"
    }
   ],
   "source": [
    "plot_df = tidy_df[(tidy_df['Type']=='Recovered')&(tidy_df['US']=='Non-US')]\n",
    "\n",
    "px.scatter(plot_df, x='Count', y='Adj Close', title='DJIA vs Recovered Non-US Cases')"
   ]
  },
  {
   "cell_type": "code",
   "execution_count": 37,
   "metadata": {},
   "outputs": [
    {
     "data": {
      "application/vnd.plotly.v1+json": {
       "config": {
        "plotlyServerURL": "https://plot.ly"
       },
       "data": [
        {
         "hoverlabel": {
          "namelength": 0
         },
         "hovertemplate": "Count=%{x}<br>Adj Close=%{y}",
         "legendgroup": "",
         "marker": {
          "color": "#636efa",
          "symbol": "circle"
         },
         "mode": "markers",
         "name": "",
         "showlegend": false,
         "type": "scatter",
         "x": [
          17,
          18,
          26,
          42,
          56,
          82,
          131,
          133,
          171,
          213,
          259,
          362,
          426,
          492,
          564,
          634,
          719,
          806,
          906,
          1013,
          1113,
          1118,
          1371,
          1523,
          1666,
          1770,
          1868,
          2007,
          2122,
          2247,
          2251,
          2458,
          2469,
          2629,
          2708,
          2770,
          2814,
          2872,
          2940,
          2995,
          3079,
          3153,
          3243,
          3336,
          3446,
          3541
         ],
         "xaxis": "x",
         "y": [
          29186.269531,
          29160.089844,
          28989.730469,
          null,
          null,
          28535.800781,
          28722.849608999997,
          28734.449219,
          28859.439452999995,
          28256.029297000005,
          null,
          null,
          28399.810547000005,
          28807.630858999997,
          29290.849608999997,
          29379.769531,
          29102.509766000003,
          null,
          null,
          29276.820313,
          29276.339844,
          29551.419922000005,
          29423.310547000005,
          29398.080077999995,
          null,
          null,
          null,
          29232.189452999995,
          29348.029297000005,
          29219.980469,
          28992.410156,
          null,
          null,
          27960.800781,
          27081.359375,
          26957.589844,
          25766.640625,
          25409.359375,
          null,
          null,
          26703.320313,
          25917.410156,
          27090.859375,
          26121.279297,
          25864.779297,
          null
         ],
         "yaxis": "y"
        }
       ],
       "layout": {
        "legend": {
         "tracegroupgap": 0
        },
        "template": {
         "data": {
          "bar": [
           {
            "error_x": {
             "color": "#2a3f5f"
            },
            "error_y": {
             "color": "#2a3f5f"
            },
            "marker": {
             "line": {
              "color": "#E5ECF6",
              "width": 0.5
             }
            },
            "type": "bar"
           }
          ],
          "barpolar": [
           {
            "marker": {
             "line": {
              "color": "#E5ECF6",
              "width": 0.5
             }
            },
            "type": "barpolar"
           }
          ],
          "carpet": [
           {
            "aaxis": {
             "endlinecolor": "#2a3f5f",
             "gridcolor": "white",
             "linecolor": "white",
             "minorgridcolor": "white",
             "startlinecolor": "#2a3f5f"
            },
            "baxis": {
             "endlinecolor": "#2a3f5f",
             "gridcolor": "white",
             "linecolor": "white",
             "minorgridcolor": "white",
             "startlinecolor": "#2a3f5f"
            },
            "type": "carpet"
           }
          ],
          "choropleth": [
           {
            "colorbar": {
             "outlinewidth": 0,
             "ticks": ""
            },
            "type": "choropleth"
           }
          ],
          "contour": [
           {
            "colorbar": {
             "outlinewidth": 0,
             "ticks": ""
            },
            "colorscale": [
             [
              0,
              "#0d0887"
             ],
             [
              0.1111111111111111,
              "#46039f"
             ],
             [
              0.2222222222222222,
              "#7201a8"
             ],
             [
              0.3333333333333333,
              "#9c179e"
             ],
             [
              0.4444444444444444,
              "#bd3786"
             ],
             [
              0.5555555555555556,
              "#d8576b"
             ],
             [
              0.6666666666666666,
              "#ed7953"
             ],
             [
              0.7777777777777778,
              "#fb9f3a"
             ],
             [
              0.8888888888888888,
              "#fdca26"
             ],
             [
              1,
              "#f0f921"
             ]
            ],
            "type": "contour"
           }
          ],
          "contourcarpet": [
           {
            "colorbar": {
             "outlinewidth": 0,
             "ticks": ""
            },
            "type": "contourcarpet"
           }
          ],
          "heatmap": [
           {
            "colorbar": {
             "outlinewidth": 0,
             "ticks": ""
            },
            "colorscale": [
             [
              0,
              "#0d0887"
             ],
             [
              0.1111111111111111,
              "#46039f"
             ],
             [
              0.2222222222222222,
              "#7201a8"
             ],
             [
              0.3333333333333333,
              "#9c179e"
             ],
             [
              0.4444444444444444,
              "#bd3786"
             ],
             [
              0.5555555555555556,
              "#d8576b"
             ],
             [
              0.6666666666666666,
              "#ed7953"
             ],
             [
              0.7777777777777778,
              "#fb9f3a"
             ],
             [
              0.8888888888888888,
              "#fdca26"
             ],
             [
              1,
              "#f0f921"
             ]
            ],
            "type": "heatmap"
           }
          ],
          "heatmapgl": [
           {
            "colorbar": {
             "outlinewidth": 0,
             "ticks": ""
            },
            "colorscale": [
             [
              0,
              "#0d0887"
             ],
             [
              0.1111111111111111,
              "#46039f"
             ],
             [
              0.2222222222222222,
              "#7201a8"
             ],
             [
              0.3333333333333333,
              "#9c179e"
             ],
             [
              0.4444444444444444,
              "#bd3786"
             ],
             [
              0.5555555555555556,
              "#d8576b"
             ],
             [
              0.6666666666666666,
              "#ed7953"
             ],
             [
              0.7777777777777778,
              "#fb9f3a"
             ],
             [
              0.8888888888888888,
              "#fdca26"
             ],
             [
              1,
              "#f0f921"
             ]
            ],
            "type": "heatmapgl"
           }
          ],
          "histogram": [
           {
            "marker": {
             "colorbar": {
              "outlinewidth": 0,
              "ticks": ""
             }
            },
            "type": "histogram"
           }
          ],
          "histogram2d": [
           {
            "colorbar": {
             "outlinewidth": 0,
             "ticks": ""
            },
            "colorscale": [
             [
              0,
              "#0d0887"
             ],
             [
              0.1111111111111111,
              "#46039f"
             ],
             [
              0.2222222222222222,
              "#7201a8"
             ],
             [
              0.3333333333333333,
              "#9c179e"
             ],
             [
              0.4444444444444444,
              "#bd3786"
             ],
             [
              0.5555555555555556,
              "#d8576b"
             ],
             [
              0.6666666666666666,
              "#ed7953"
             ],
             [
              0.7777777777777778,
              "#fb9f3a"
             ],
             [
              0.8888888888888888,
              "#fdca26"
             ],
             [
              1,
              "#f0f921"
             ]
            ],
            "type": "histogram2d"
           }
          ],
          "histogram2dcontour": [
           {
            "colorbar": {
             "outlinewidth": 0,
             "ticks": ""
            },
            "colorscale": [
             [
              0,
              "#0d0887"
             ],
             [
              0.1111111111111111,
              "#46039f"
             ],
             [
              0.2222222222222222,
              "#7201a8"
             ],
             [
              0.3333333333333333,
              "#9c179e"
             ],
             [
              0.4444444444444444,
              "#bd3786"
             ],
             [
              0.5555555555555556,
              "#d8576b"
             ],
             [
              0.6666666666666666,
              "#ed7953"
             ],
             [
              0.7777777777777778,
              "#fb9f3a"
             ],
             [
              0.8888888888888888,
              "#fdca26"
             ],
             [
              1,
              "#f0f921"
             ]
            ],
            "type": "histogram2dcontour"
           }
          ],
          "mesh3d": [
           {
            "colorbar": {
             "outlinewidth": 0,
             "ticks": ""
            },
            "type": "mesh3d"
           }
          ],
          "parcoords": [
           {
            "line": {
             "colorbar": {
              "outlinewidth": 0,
              "ticks": ""
             }
            },
            "type": "parcoords"
           }
          ],
          "pie": [
           {
            "automargin": true,
            "type": "pie"
           }
          ],
          "scatter": [
           {
            "marker": {
             "colorbar": {
              "outlinewidth": 0,
              "ticks": ""
             }
            },
            "type": "scatter"
           }
          ],
          "scatter3d": [
           {
            "line": {
             "colorbar": {
              "outlinewidth": 0,
              "ticks": ""
             }
            },
            "marker": {
             "colorbar": {
              "outlinewidth": 0,
              "ticks": ""
             }
            },
            "type": "scatter3d"
           }
          ],
          "scattercarpet": [
           {
            "marker": {
             "colorbar": {
              "outlinewidth": 0,
              "ticks": ""
             }
            },
            "type": "scattercarpet"
           }
          ],
          "scattergeo": [
           {
            "marker": {
             "colorbar": {
              "outlinewidth": 0,
              "ticks": ""
             }
            },
            "type": "scattergeo"
           }
          ],
          "scattergl": [
           {
            "marker": {
             "colorbar": {
              "outlinewidth": 0,
              "ticks": ""
             }
            },
            "type": "scattergl"
           }
          ],
          "scattermapbox": [
           {
            "marker": {
             "colorbar": {
              "outlinewidth": 0,
              "ticks": ""
             }
            },
            "type": "scattermapbox"
           }
          ],
          "scatterpolar": [
           {
            "marker": {
             "colorbar": {
              "outlinewidth": 0,
              "ticks": ""
             }
            },
            "type": "scatterpolar"
           }
          ],
          "scatterpolargl": [
           {
            "marker": {
             "colorbar": {
              "outlinewidth": 0,
              "ticks": ""
             }
            },
            "type": "scatterpolargl"
           }
          ],
          "scatterternary": [
           {
            "marker": {
             "colorbar": {
              "outlinewidth": 0,
              "ticks": ""
             }
            },
            "type": "scatterternary"
           }
          ],
          "surface": [
           {
            "colorbar": {
             "outlinewidth": 0,
             "ticks": ""
            },
            "colorscale": [
             [
              0,
              "#0d0887"
             ],
             [
              0.1111111111111111,
              "#46039f"
             ],
             [
              0.2222222222222222,
              "#7201a8"
             ],
             [
              0.3333333333333333,
              "#9c179e"
             ],
             [
              0.4444444444444444,
              "#bd3786"
             ],
             [
              0.5555555555555556,
              "#d8576b"
             ],
             [
              0.6666666666666666,
              "#ed7953"
             ],
             [
              0.7777777777777778,
              "#fb9f3a"
             ],
             [
              0.8888888888888888,
              "#fdca26"
             ],
             [
              1,
              "#f0f921"
             ]
            ],
            "type": "surface"
           }
          ],
          "table": [
           {
            "cells": {
             "fill": {
              "color": "#EBF0F8"
             },
             "line": {
              "color": "white"
             }
            },
            "header": {
             "fill": {
              "color": "#C8D4E3"
             },
             "line": {
              "color": "white"
             }
            },
            "type": "table"
           }
          ]
         },
         "layout": {
          "annotationdefaults": {
           "arrowcolor": "#2a3f5f",
           "arrowhead": 0,
           "arrowwidth": 1
          },
          "coloraxis": {
           "colorbar": {
            "outlinewidth": 0,
            "ticks": ""
           }
          },
          "colorscale": {
           "diverging": [
            [
             0,
             "#8e0152"
            ],
            [
             0.1,
             "#c51b7d"
            ],
            [
             0.2,
             "#de77ae"
            ],
            [
             0.3,
             "#f1b6da"
            ],
            [
             0.4,
             "#fde0ef"
            ],
            [
             0.5,
             "#f7f7f7"
            ],
            [
             0.6,
             "#e6f5d0"
            ],
            [
             0.7,
             "#b8e186"
            ],
            [
             0.8,
             "#7fbc41"
            ],
            [
             0.9,
             "#4d9221"
            ],
            [
             1,
             "#276419"
            ]
           ],
           "sequential": [
            [
             0,
             "#0d0887"
            ],
            [
             0.1111111111111111,
             "#46039f"
            ],
            [
             0.2222222222222222,
             "#7201a8"
            ],
            [
             0.3333333333333333,
             "#9c179e"
            ],
            [
             0.4444444444444444,
             "#bd3786"
            ],
            [
             0.5555555555555556,
             "#d8576b"
            ],
            [
             0.6666666666666666,
             "#ed7953"
            ],
            [
             0.7777777777777778,
             "#fb9f3a"
            ],
            [
             0.8888888888888888,
             "#fdca26"
            ],
            [
             1,
             "#f0f921"
            ]
           ],
           "sequentialminus": [
            [
             0,
             "#0d0887"
            ],
            [
             0.1111111111111111,
             "#46039f"
            ],
            [
             0.2222222222222222,
             "#7201a8"
            ],
            [
             0.3333333333333333,
             "#9c179e"
            ],
            [
             0.4444444444444444,
             "#bd3786"
            ],
            [
             0.5555555555555556,
             "#d8576b"
            ],
            [
             0.6666666666666666,
             "#ed7953"
            ],
            [
             0.7777777777777778,
             "#fb9f3a"
            ],
            [
             0.8888888888888888,
             "#fdca26"
            ],
            [
             1,
             "#f0f921"
            ]
           ]
          },
          "colorway": [
           "#636efa",
           "#EF553B",
           "#00cc96",
           "#ab63fa",
           "#FFA15A",
           "#19d3f3",
           "#FF6692",
           "#B6E880",
           "#FF97FF",
           "#FECB52"
          ],
          "font": {
           "color": "#2a3f5f"
          },
          "geo": {
           "bgcolor": "white",
           "lakecolor": "white",
           "landcolor": "#E5ECF6",
           "showlakes": true,
           "showland": true,
           "subunitcolor": "white"
          },
          "hoverlabel": {
           "align": "left"
          },
          "hovermode": "closest",
          "mapbox": {
           "style": "light"
          },
          "paper_bgcolor": "white",
          "plot_bgcolor": "#E5ECF6",
          "polar": {
           "angularaxis": {
            "gridcolor": "white",
            "linecolor": "white",
            "ticks": ""
           },
           "bgcolor": "#E5ECF6",
           "radialaxis": {
            "gridcolor": "white",
            "linecolor": "white",
            "ticks": ""
           }
          },
          "scene": {
           "xaxis": {
            "backgroundcolor": "#E5ECF6",
            "gridcolor": "white",
            "gridwidth": 2,
            "linecolor": "white",
            "showbackground": true,
            "ticks": "",
            "zerolinecolor": "white"
           },
           "yaxis": {
            "backgroundcolor": "#E5ECF6",
            "gridcolor": "white",
            "gridwidth": 2,
            "linecolor": "white",
            "showbackground": true,
            "ticks": "",
            "zerolinecolor": "white"
           },
           "zaxis": {
            "backgroundcolor": "#E5ECF6",
            "gridcolor": "white",
            "gridwidth": 2,
            "linecolor": "white",
            "showbackground": true,
            "ticks": "",
            "zerolinecolor": "white"
           }
          },
          "shapedefaults": {
           "line": {
            "color": "#2a3f5f"
           }
          },
          "ternary": {
           "aaxis": {
            "gridcolor": "white",
            "linecolor": "white",
            "ticks": ""
           },
           "baxis": {
            "gridcolor": "white",
            "linecolor": "white",
            "ticks": ""
           },
           "bgcolor": "#E5ECF6",
           "caxis": {
            "gridcolor": "white",
            "linecolor": "white",
            "ticks": ""
           }
          },
          "title": {
           "x": 0.05
          },
          "xaxis": {
           "automargin": true,
           "gridcolor": "white",
           "linecolor": "white",
           "ticks": "",
           "title": {
            "standoff": 15
           },
           "zerolinecolor": "white",
           "zerolinewidth": 2
          },
          "yaxis": {
           "automargin": true,
           "gridcolor": "white",
           "linecolor": "white",
           "ticks": "",
           "title": {
            "standoff": 15
           },
           "zerolinecolor": "white",
           "zerolinewidth": 2
          }
         }
        },
        "title": {
         "text": "DJIA vs Deaths Non-US Cases"
        },
        "xaxis": {
         "anchor": "y",
         "domain": [
          0,
          1
         ],
         "title": {
          "text": "Count"
         }
        },
        "yaxis": {
         "anchor": "x",
         "domain": [
          0,
          1
         ],
         "title": {
          "text": "Adj Close"
         }
        }
       }
      },
      "text/html": [
       "<div>\n",
       "        \n",
       "        \n",
       "            <div id=\"4c479ef2-6020-4665-826b-c263e2684e25\" class=\"plotly-graph-div\" style=\"height:525px; width:100%;\"></div>\n",
       "            <script type=\"text/javascript\">\n",
       "                require([\"plotly\"], function(Plotly) {\n",
       "                    window.PLOTLYENV=window.PLOTLYENV || {};\n",
       "                    \n",
       "                if (document.getElementById(\"4c479ef2-6020-4665-826b-c263e2684e25\")) {\n",
       "                    Plotly.newPlot(\n",
       "                        '4c479ef2-6020-4665-826b-c263e2684e25',\n",
       "                        [{\"hoverlabel\": {\"namelength\": 0}, \"hovertemplate\": \"Count=%{x}<br>Adj Close=%{y}\", \"legendgroup\": \"\", \"marker\": {\"color\": \"#636efa\", \"symbol\": \"circle\"}, \"mode\": \"markers\", \"name\": \"\", \"showlegend\": false, \"type\": \"scatter\", \"x\": [17, 18, 26, 42, 56, 82, 131, 133, 171, 213, 259, 362, 426, 492, 564, 634, 719, 806, 906, 1013, 1113, 1118, 1371, 1523, 1666, 1770, 1868, 2007, 2122, 2247, 2251, 2458, 2469, 2629, 2708, 2770, 2814, 2872, 2940, 2995, 3079, 3153, 3243, 3336, 3446, 3541], \"xaxis\": \"x\", \"y\": [29186.269531, 29160.089844, 28989.730469, null, null, 28535.800781, 28722.849608999997, 28734.449219, 28859.439452999995, 28256.029297000005, null, null, 28399.810547000005, 28807.630858999997, 29290.849608999997, 29379.769531, 29102.509766000003, null, null, 29276.820313, 29276.339844, 29551.419922000005, 29423.310547000005, 29398.080077999995, null, null, null, 29232.189452999995, 29348.029297000005, 29219.980469, 28992.410156, null, null, 27960.800781, 27081.359375, 26957.589844, 25766.640625, 25409.359375, null, null, 26703.320313, 25917.410156, 27090.859375, 26121.279297, 25864.779297, null], \"yaxis\": \"y\"}],\n",
       "                        {\"legend\": {\"tracegroupgap\": 0}, \"template\": {\"data\": {\"bar\": [{\"error_x\": {\"color\": \"#2a3f5f\"}, \"error_y\": {\"color\": \"#2a3f5f\"}, \"marker\": {\"line\": {\"color\": \"#E5ECF6\", \"width\": 0.5}}, \"type\": \"bar\"}], \"barpolar\": [{\"marker\": {\"line\": {\"color\": \"#E5ECF6\", \"width\": 0.5}}, \"type\": \"barpolar\"}], \"carpet\": [{\"aaxis\": {\"endlinecolor\": \"#2a3f5f\", \"gridcolor\": \"white\", \"linecolor\": \"white\", \"minorgridcolor\": \"white\", \"startlinecolor\": \"#2a3f5f\"}, \"baxis\": {\"endlinecolor\": \"#2a3f5f\", \"gridcolor\": \"white\", \"linecolor\": \"white\", \"minorgridcolor\": \"white\", \"startlinecolor\": \"#2a3f5f\"}, \"type\": \"carpet\"}], \"choropleth\": [{\"colorbar\": {\"outlinewidth\": 0, \"ticks\": \"\"}, \"type\": \"choropleth\"}], \"contour\": [{\"colorbar\": {\"outlinewidth\": 0, \"ticks\": \"\"}, \"colorscale\": [[0.0, \"#0d0887\"], [0.1111111111111111, \"#46039f\"], [0.2222222222222222, \"#7201a8\"], [0.3333333333333333, \"#9c179e\"], [0.4444444444444444, \"#bd3786\"], [0.5555555555555556, \"#d8576b\"], [0.6666666666666666, \"#ed7953\"], [0.7777777777777778, \"#fb9f3a\"], [0.8888888888888888, \"#fdca26\"], [1.0, \"#f0f921\"]], \"type\": \"contour\"}], \"contourcarpet\": [{\"colorbar\": {\"outlinewidth\": 0, \"ticks\": \"\"}, \"type\": \"contourcarpet\"}], \"heatmap\": [{\"colorbar\": {\"outlinewidth\": 0, \"ticks\": \"\"}, \"colorscale\": [[0.0, \"#0d0887\"], [0.1111111111111111, \"#46039f\"], [0.2222222222222222, \"#7201a8\"], [0.3333333333333333, \"#9c179e\"], [0.4444444444444444, \"#bd3786\"], [0.5555555555555556, \"#d8576b\"], [0.6666666666666666, \"#ed7953\"], [0.7777777777777778, \"#fb9f3a\"], [0.8888888888888888, \"#fdca26\"], [1.0, \"#f0f921\"]], \"type\": \"heatmap\"}], \"heatmapgl\": [{\"colorbar\": {\"outlinewidth\": 0, \"ticks\": \"\"}, \"colorscale\": [[0.0, \"#0d0887\"], [0.1111111111111111, \"#46039f\"], [0.2222222222222222, \"#7201a8\"], [0.3333333333333333, \"#9c179e\"], [0.4444444444444444, \"#bd3786\"], [0.5555555555555556, \"#d8576b\"], [0.6666666666666666, \"#ed7953\"], [0.7777777777777778, \"#fb9f3a\"], [0.8888888888888888, \"#fdca26\"], [1.0, \"#f0f921\"]], \"type\": \"heatmapgl\"}], \"histogram\": [{\"marker\": {\"colorbar\": {\"outlinewidth\": 0, \"ticks\": \"\"}}, \"type\": \"histogram\"}], \"histogram2d\": [{\"colorbar\": {\"outlinewidth\": 0, \"ticks\": \"\"}, \"colorscale\": [[0.0, \"#0d0887\"], [0.1111111111111111, \"#46039f\"], [0.2222222222222222, \"#7201a8\"], [0.3333333333333333, \"#9c179e\"], [0.4444444444444444, \"#bd3786\"], [0.5555555555555556, \"#d8576b\"], [0.6666666666666666, \"#ed7953\"], [0.7777777777777778, \"#fb9f3a\"], [0.8888888888888888, \"#fdca26\"], [1.0, \"#f0f921\"]], \"type\": \"histogram2d\"}], \"histogram2dcontour\": [{\"colorbar\": {\"outlinewidth\": 0, \"ticks\": \"\"}, \"colorscale\": [[0.0, \"#0d0887\"], [0.1111111111111111, \"#46039f\"], [0.2222222222222222, \"#7201a8\"], [0.3333333333333333, \"#9c179e\"], [0.4444444444444444, \"#bd3786\"], [0.5555555555555556, \"#d8576b\"], [0.6666666666666666, \"#ed7953\"], [0.7777777777777778, \"#fb9f3a\"], [0.8888888888888888, \"#fdca26\"], [1.0, \"#f0f921\"]], \"type\": \"histogram2dcontour\"}], \"mesh3d\": [{\"colorbar\": {\"outlinewidth\": 0, \"ticks\": \"\"}, \"type\": \"mesh3d\"}], \"parcoords\": [{\"line\": {\"colorbar\": {\"outlinewidth\": 0, \"ticks\": \"\"}}, \"type\": \"parcoords\"}], \"pie\": [{\"automargin\": true, \"type\": \"pie\"}], \"scatter\": [{\"marker\": {\"colorbar\": {\"outlinewidth\": 0, \"ticks\": \"\"}}, \"type\": \"scatter\"}], \"scatter3d\": [{\"line\": {\"colorbar\": {\"outlinewidth\": 0, \"ticks\": \"\"}}, \"marker\": {\"colorbar\": {\"outlinewidth\": 0, \"ticks\": \"\"}}, \"type\": \"scatter3d\"}], \"scattercarpet\": [{\"marker\": {\"colorbar\": {\"outlinewidth\": 0, \"ticks\": \"\"}}, \"type\": \"scattercarpet\"}], \"scattergeo\": [{\"marker\": {\"colorbar\": {\"outlinewidth\": 0, \"ticks\": \"\"}}, \"type\": \"scattergeo\"}], \"scattergl\": [{\"marker\": {\"colorbar\": {\"outlinewidth\": 0, \"ticks\": \"\"}}, \"type\": \"scattergl\"}], \"scattermapbox\": [{\"marker\": {\"colorbar\": {\"outlinewidth\": 0, \"ticks\": \"\"}}, \"type\": \"scattermapbox\"}], \"scatterpolar\": [{\"marker\": {\"colorbar\": {\"outlinewidth\": 0, \"ticks\": \"\"}}, \"type\": \"scatterpolar\"}], \"scatterpolargl\": [{\"marker\": {\"colorbar\": {\"outlinewidth\": 0, \"ticks\": \"\"}}, \"type\": \"scatterpolargl\"}], \"scatterternary\": [{\"marker\": {\"colorbar\": {\"outlinewidth\": 0, \"ticks\": \"\"}}, \"type\": \"scatterternary\"}], \"surface\": [{\"colorbar\": {\"outlinewidth\": 0, \"ticks\": \"\"}, \"colorscale\": [[0.0, \"#0d0887\"], [0.1111111111111111, \"#46039f\"], [0.2222222222222222, \"#7201a8\"], [0.3333333333333333, \"#9c179e\"], [0.4444444444444444, \"#bd3786\"], [0.5555555555555556, \"#d8576b\"], [0.6666666666666666, \"#ed7953\"], [0.7777777777777778, \"#fb9f3a\"], [0.8888888888888888, \"#fdca26\"], [1.0, \"#f0f921\"]], \"type\": \"surface\"}], \"table\": [{\"cells\": {\"fill\": {\"color\": \"#EBF0F8\"}, \"line\": {\"color\": \"white\"}}, \"header\": {\"fill\": {\"color\": \"#C8D4E3\"}, \"line\": {\"color\": \"white\"}}, \"type\": \"table\"}]}, \"layout\": {\"annotationdefaults\": {\"arrowcolor\": \"#2a3f5f\", \"arrowhead\": 0, \"arrowwidth\": 1}, \"coloraxis\": {\"colorbar\": {\"outlinewidth\": 0, \"ticks\": \"\"}}, \"colorscale\": {\"diverging\": [[0, \"#8e0152\"], [0.1, \"#c51b7d\"], [0.2, \"#de77ae\"], [0.3, \"#f1b6da\"], [0.4, \"#fde0ef\"], [0.5, \"#f7f7f7\"], [0.6, \"#e6f5d0\"], [0.7, \"#b8e186\"], [0.8, \"#7fbc41\"], [0.9, \"#4d9221\"], [1, \"#276419\"]], \"sequential\": [[0.0, \"#0d0887\"], [0.1111111111111111, \"#46039f\"], [0.2222222222222222, \"#7201a8\"], [0.3333333333333333, \"#9c179e\"], [0.4444444444444444, \"#bd3786\"], [0.5555555555555556, \"#d8576b\"], [0.6666666666666666, \"#ed7953\"], [0.7777777777777778, \"#fb9f3a\"], [0.8888888888888888, \"#fdca26\"], [1.0, \"#f0f921\"]], \"sequentialminus\": [[0.0, \"#0d0887\"], [0.1111111111111111, \"#46039f\"], [0.2222222222222222, \"#7201a8\"], [0.3333333333333333, \"#9c179e\"], [0.4444444444444444, \"#bd3786\"], [0.5555555555555556, \"#d8576b\"], [0.6666666666666666, \"#ed7953\"], [0.7777777777777778, \"#fb9f3a\"], [0.8888888888888888, \"#fdca26\"], [1.0, \"#f0f921\"]]}, \"colorway\": [\"#636efa\", \"#EF553B\", \"#00cc96\", \"#ab63fa\", \"#FFA15A\", \"#19d3f3\", \"#FF6692\", \"#B6E880\", \"#FF97FF\", \"#FECB52\"], \"font\": {\"color\": \"#2a3f5f\"}, \"geo\": {\"bgcolor\": \"white\", \"lakecolor\": \"white\", \"landcolor\": \"#E5ECF6\", \"showlakes\": true, \"showland\": true, \"subunitcolor\": \"white\"}, \"hoverlabel\": {\"align\": \"left\"}, \"hovermode\": \"closest\", \"mapbox\": {\"style\": \"light\"}, \"paper_bgcolor\": \"white\", \"plot_bgcolor\": \"#E5ECF6\", \"polar\": {\"angularaxis\": {\"gridcolor\": \"white\", \"linecolor\": \"white\", \"ticks\": \"\"}, \"bgcolor\": \"#E5ECF6\", \"radialaxis\": {\"gridcolor\": \"white\", \"linecolor\": \"white\", \"ticks\": \"\"}}, \"scene\": {\"xaxis\": {\"backgroundcolor\": \"#E5ECF6\", \"gridcolor\": \"white\", \"gridwidth\": 2, \"linecolor\": \"white\", \"showbackground\": true, \"ticks\": \"\", \"zerolinecolor\": \"white\"}, \"yaxis\": {\"backgroundcolor\": \"#E5ECF6\", \"gridcolor\": \"white\", \"gridwidth\": 2, \"linecolor\": \"white\", \"showbackground\": true, \"ticks\": \"\", \"zerolinecolor\": \"white\"}, \"zaxis\": {\"backgroundcolor\": \"#E5ECF6\", \"gridcolor\": \"white\", \"gridwidth\": 2, \"linecolor\": \"white\", \"showbackground\": true, \"ticks\": \"\", \"zerolinecolor\": \"white\"}}, \"shapedefaults\": {\"line\": {\"color\": \"#2a3f5f\"}}, \"ternary\": {\"aaxis\": {\"gridcolor\": \"white\", \"linecolor\": \"white\", \"ticks\": \"\"}, \"baxis\": {\"gridcolor\": \"white\", \"linecolor\": \"white\", \"ticks\": \"\"}, \"bgcolor\": \"#E5ECF6\", \"caxis\": {\"gridcolor\": \"white\", \"linecolor\": \"white\", \"ticks\": \"\"}}, \"title\": {\"x\": 0.05}, \"xaxis\": {\"automargin\": true, \"gridcolor\": \"white\", \"linecolor\": \"white\", \"ticks\": \"\", \"title\": {\"standoff\": 15}, \"zerolinecolor\": \"white\", \"zerolinewidth\": 2}, \"yaxis\": {\"automargin\": true, \"gridcolor\": \"white\", \"linecolor\": \"white\", \"ticks\": \"\", \"title\": {\"standoff\": 15}, \"zerolinecolor\": \"white\", \"zerolinewidth\": 2}}}, \"title\": {\"text\": \"DJIA vs Deaths Non-US Cases\"}, \"xaxis\": {\"anchor\": \"y\", \"domain\": [0.0, 1.0], \"title\": {\"text\": \"Count\"}}, \"yaxis\": {\"anchor\": \"x\", \"domain\": [0.0, 1.0], \"title\": {\"text\": \"Adj Close\"}}},\n",
       "                        {\"responsive\": true}\n",
       "                    ).then(function(){\n",
       "                            \n",
       "var gd = document.getElementById('4c479ef2-6020-4665-826b-c263e2684e25');\n",
       "var x = new MutationObserver(function (mutations, observer) {{\n",
       "        var display = window.getComputedStyle(gd).display;\n",
       "        if (!display || display === 'none') {{\n",
       "            console.log([gd, 'removed!']);\n",
       "            Plotly.purge(gd);\n",
       "            observer.disconnect();\n",
       "        }}\n",
       "}});\n",
       "\n",
       "// Listen for the removal of the full notebook cells\n",
       "var notebookContainer = gd.closest('#notebook-container');\n",
       "if (notebookContainer) {{\n",
       "    x.observe(notebookContainer, {childList: true});\n",
       "}}\n",
       "\n",
       "// Listen for the clearing of the current output cell\n",
       "var outputEl = gd.closest('.output');\n",
       "if (outputEl) {{\n",
       "    x.observe(outputEl, {childList: true});\n",
       "}}\n",
       "\n",
       "                        })\n",
       "                };\n",
       "                });\n",
       "            </script>\n",
       "        </div>"
      ]
     },
     "metadata": {},
     "output_type": "display_data"
    }
   ],
   "source": [
    "plot_df = tidy_df[(tidy_df['Type']=='Deaths')&(tidy_df['US']=='Non-US')]\n",
    "\n",
    "px.scatter(plot_df, x='Count', y='Adj Close', title='DJIA vs Deaths Non-US Cases')"
   ]
  },
  {
   "cell_type": "code",
   "execution_count": 38,
   "metadata": {},
   "outputs": [
    {
     "data": {
      "application/vnd.plotly.v1+json": {
       "config": {
        "plotlyServerURL": "https://plot.ly"
       },
       "data": [
        {
         "hoverlabel": {
          "namelength": 0
         },
         "hovertemplate": "Count=%{x}<br>Adj Close=%{y}",
         "legendgroup": "",
         "marker": {
          "color": "#636efa",
          "symbol": "circle"
         },
         "mode": "markers",
         "name": "",
         "showlegend": false,
         "type": "scatter",
         "x": [
          1,
          1,
          2,
          2,
          5,
          5,
          5,
          5,
          5,
          7,
          8,
          8,
          11,
          11,
          12,
          12,
          12,
          12,
          12,
          12,
          13,
          13,
          15,
          15,
          15,
          15,
          15,
          15,
          15,
          15,
          35,
          35,
          35,
          53,
          53,
          59,
          60,
          62,
          70,
          76,
          101,
          121,
          152,
          220,
          277,
          417
         ],
         "xaxis": "x",
         "y": [
          29186.269531,
          29160.089844,
          28989.730469,
          null,
          null,
          28535.800781,
          28722.849608999997,
          28734.449219,
          28859.439452999995,
          28256.029297000005,
          null,
          null,
          28399.810547000005,
          28807.630858999997,
          29290.849608999997,
          29379.769531,
          29102.509766000003,
          null,
          null,
          29276.820313,
          29276.339844,
          29551.419922000005,
          29423.310547000005,
          29398.080077999995,
          null,
          null,
          null,
          29232.189452999995,
          29348.029297000005,
          29219.980469,
          28992.410156,
          null,
          null,
          27960.800781,
          27081.359375,
          26957.589844,
          25766.640625,
          25409.359375,
          null,
          null,
          26703.320313,
          25917.410156,
          27090.859375,
          26121.279297,
          25864.779297,
          null
         ],
         "yaxis": "y"
        }
       ],
       "layout": {
        "legend": {
         "tracegroupgap": 0
        },
        "template": {
         "data": {
          "bar": [
           {
            "error_x": {
             "color": "#2a3f5f"
            },
            "error_y": {
             "color": "#2a3f5f"
            },
            "marker": {
             "line": {
              "color": "#E5ECF6",
              "width": 0.5
             }
            },
            "type": "bar"
           }
          ],
          "barpolar": [
           {
            "marker": {
             "line": {
              "color": "#E5ECF6",
              "width": 0.5
             }
            },
            "type": "barpolar"
           }
          ],
          "carpet": [
           {
            "aaxis": {
             "endlinecolor": "#2a3f5f",
             "gridcolor": "white",
             "linecolor": "white",
             "minorgridcolor": "white",
             "startlinecolor": "#2a3f5f"
            },
            "baxis": {
             "endlinecolor": "#2a3f5f",
             "gridcolor": "white",
             "linecolor": "white",
             "minorgridcolor": "white",
             "startlinecolor": "#2a3f5f"
            },
            "type": "carpet"
           }
          ],
          "choropleth": [
           {
            "colorbar": {
             "outlinewidth": 0,
             "ticks": ""
            },
            "type": "choropleth"
           }
          ],
          "contour": [
           {
            "colorbar": {
             "outlinewidth": 0,
             "ticks": ""
            },
            "colorscale": [
             [
              0,
              "#0d0887"
             ],
             [
              0.1111111111111111,
              "#46039f"
             ],
             [
              0.2222222222222222,
              "#7201a8"
             ],
             [
              0.3333333333333333,
              "#9c179e"
             ],
             [
              0.4444444444444444,
              "#bd3786"
             ],
             [
              0.5555555555555556,
              "#d8576b"
             ],
             [
              0.6666666666666666,
              "#ed7953"
             ],
             [
              0.7777777777777778,
              "#fb9f3a"
             ],
             [
              0.8888888888888888,
              "#fdca26"
             ],
             [
              1,
              "#f0f921"
             ]
            ],
            "type": "contour"
           }
          ],
          "contourcarpet": [
           {
            "colorbar": {
             "outlinewidth": 0,
             "ticks": ""
            },
            "type": "contourcarpet"
           }
          ],
          "heatmap": [
           {
            "colorbar": {
             "outlinewidth": 0,
             "ticks": ""
            },
            "colorscale": [
             [
              0,
              "#0d0887"
             ],
             [
              0.1111111111111111,
              "#46039f"
             ],
             [
              0.2222222222222222,
              "#7201a8"
             ],
             [
              0.3333333333333333,
              "#9c179e"
             ],
             [
              0.4444444444444444,
              "#bd3786"
             ],
             [
              0.5555555555555556,
              "#d8576b"
             ],
             [
              0.6666666666666666,
              "#ed7953"
             ],
             [
              0.7777777777777778,
              "#fb9f3a"
             ],
             [
              0.8888888888888888,
              "#fdca26"
             ],
             [
              1,
              "#f0f921"
             ]
            ],
            "type": "heatmap"
           }
          ],
          "heatmapgl": [
           {
            "colorbar": {
             "outlinewidth": 0,
             "ticks": ""
            },
            "colorscale": [
             [
              0,
              "#0d0887"
             ],
             [
              0.1111111111111111,
              "#46039f"
             ],
             [
              0.2222222222222222,
              "#7201a8"
             ],
             [
              0.3333333333333333,
              "#9c179e"
             ],
             [
              0.4444444444444444,
              "#bd3786"
             ],
             [
              0.5555555555555556,
              "#d8576b"
             ],
             [
              0.6666666666666666,
              "#ed7953"
             ],
             [
              0.7777777777777778,
              "#fb9f3a"
             ],
             [
              0.8888888888888888,
              "#fdca26"
             ],
             [
              1,
              "#f0f921"
             ]
            ],
            "type": "heatmapgl"
           }
          ],
          "histogram": [
           {
            "marker": {
             "colorbar": {
              "outlinewidth": 0,
              "ticks": ""
             }
            },
            "type": "histogram"
           }
          ],
          "histogram2d": [
           {
            "colorbar": {
             "outlinewidth": 0,
             "ticks": ""
            },
            "colorscale": [
             [
              0,
              "#0d0887"
             ],
             [
              0.1111111111111111,
              "#46039f"
             ],
             [
              0.2222222222222222,
              "#7201a8"
             ],
             [
              0.3333333333333333,
              "#9c179e"
             ],
             [
              0.4444444444444444,
              "#bd3786"
             ],
             [
              0.5555555555555556,
              "#d8576b"
             ],
             [
              0.6666666666666666,
              "#ed7953"
             ],
             [
              0.7777777777777778,
              "#fb9f3a"
             ],
             [
              0.8888888888888888,
              "#fdca26"
             ],
             [
              1,
              "#f0f921"
             ]
            ],
            "type": "histogram2d"
           }
          ],
          "histogram2dcontour": [
           {
            "colorbar": {
             "outlinewidth": 0,
             "ticks": ""
            },
            "colorscale": [
             [
              0,
              "#0d0887"
             ],
             [
              0.1111111111111111,
              "#46039f"
             ],
             [
              0.2222222222222222,
              "#7201a8"
             ],
             [
              0.3333333333333333,
              "#9c179e"
             ],
             [
              0.4444444444444444,
              "#bd3786"
             ],
             [
              0.5555555555555556,
              "#d8576b"
             ],
             [
              0.6666666666666666,
              "#ed7953"
             ],
             [
              0.7777777777777778,
              "#fb9f3a"
             ],
             [
              0.8888888888888888,
              "#fdca26"
             ],
             [
              1,
              "#f0f921"
             ]
            ],
            "type": "histogram2dcontour"
           }
          ],
          "mesh3d": [
           {
            "colorbar": {
             "outlinewidth": 0,
             "ticks": ""
            },
            "type": "mesh3d"
           }
          ],
          "parcoords": [
           {
            "line": {
             "colorbar": {
              "outlinewidth": 0,
              "ticks": ""
             }
            },
            "type": "parcoords"
           }
          ],
          "pie": [
           {
            "automargin": true,
            "type": "pie"
           }
          ],
          "scatter": [
           {
            "marker": {
             "colorbar": {
              "outlinewidth": 0,
              "ticks": ""
             }
            },
            "type": "scatter"
           }
          ],
          "scatter3d": [
           {
            "line": {
             "colorbar": {
              "outlinewidth": 0,
              "ticks": ""
             }
            },
            "marker": {
             "colorbar": {
              "outlinewidth": 0,
              "ticks": ""
             }
            },
            "type": "scatter3d"
           }
          ],
          "scattercarpet": [
           {
            "marker": {
             "colorbar": {
              "outlinewidth": 0,
              "ticks": ""
             }
            },
            "type": "scattercarpet"
           }
          ],
          "scattergeo": [
           {
            "marker": {
             "colorbar": {
              "outlinewidth": 0,
              "ticks": ""
             }
            },
            "type": "scattergeo"
           }
          ],
          "scattergl": [
           {
            "marker": {
             "colorbar": {
              "outlinewidth": 0,
              "ticks": ""
             }
            },
            "type": "scattergl"
           }
          ],
          "scattermapbox": [
           {
            "marker": {
             "colorbar": {
              "outlinewidth": 0,
              "ticks": ""
             }
            },
            "type": "scattermapbox"
           }
          ],
          "scatterpolar": [
           {
            "marker": {
             "colorbar": {
              "outlinewidth": 0,
              "ticks": ""
             }
            },
            "type": "scatterpolar"
           }
          ],
          "scatterpolargl": [
           {
            "marker": {
             "colorbar": {
              "outlinewidth": 0,
              "ticks": ""
             }
            },
            "type": "scatterpolargl"
           }
          ],
          "scatterternary": [
           {
            "marker": {
             "colorbar": {
              "outlinewidth": 0,
              "ticks": ""
             }
            },
            "type": "scatterternary"
           }
          ],
          "surface": [
           {
            "colorbar": {
             "outlinewidth": 0,
             "ticks": ""
            },
            "colorscale": [
             [
              0,
              "#0d0887"
             ],
             [
              0.1111111111111111,
              "#46039f"
             ],
             [
              0.2222222222222222,
              "#7201a8"
             ],
             [
              0.3333333333333333,
              "#9c179e"
             ],
             [
              0.4444444444444444,
              "#bd3786"
             ],
             [
              0.5555555555555556,
              "#d8576b"
             ],
             [
              0.6666666666666666,
              "#ed7953"
             ],
             [
              0.7777777777777778,
              "#fb9f3a"
             ],
             [
              0.8888888888888888,
              "#fdca26"
             ],
             [
              1,
              "#f0f921"
             ]
            ],
            "type": "surface"
           }
          ],
          "table": [
           {
            "cells": {
             "fill": {
              "color": "#EBF0F8"
             },
             "line": {
              "color": "white"
             }
            },
            "header": {
             "fill": {
              "color": "#C8D4E3"
             },
             "line": {
              "color": "white"
             }
            },
            "type": "table"
           }
          ]
         },
         "layout": {
          "annotationdefaults": {
           "arrowcolor": "#2a3f5f",
           "arrowhead": 0,
           "arrowwidth": 1
          },
          "coloraxis": {
           "colorbar": {
            "outlinewidth": 0,
            "ticks": ""
           }
          },
          "colorscale": {
           "diverging": [
            [
             0,
             "#8e0152"
            ],
            [
             0.1,
             "#c51b7d"
            ],
            [
             0.2,
             "#de77ae"
            ],
            [
             0.3,
             "#f1b6da"
            ],
            [
             0.4,
             "#fde0ef"
            ],
            [
             0.5,
             "#f7f7f7"
            ],
            [
             0.6,
             "#e6f5d0"
            ],
            [
             0.7,
             "#b8e186"
            ],
            [
             0.8,
             "#7fbc41"
            ],
            [
             0.9,
             "#4d9221"
            ],
            [
             1,
             "#276419"
            ]
           ],
           "sequential": [
            [
             0,
             "#0d0887"
            ],
            [
             0.1111111111111111,
             "#46039f"
            ],
            [
             0.2222222222222222,
             "#7201a8"
            ],
            [
             0.3333333333333333,
             "#9c179e"
            ],
            [
             0.4444444444444444,
             "#bd3786"
            ],
            [
             0.5555555555555556,
             "#d8576b"
            ],
            [
             0.6666666666666666,
             "#ed7953"
            ],
            [
             0.7777777777777778,
             "#fb9f3a"
            ],
            [
             0.8888888888888888,
             "#fdca26"
            ],
            [
             1,
             "#f0f921"
            ]
           ],
           "sequentialminus": [
            [
             0,
             "#0d0887"
            ],
            [
             0.1111111111111111,
             "#46039f"
            ],
            [
             0.2222222222222222,
             "#7201a8"
            ],
            [
             0.3333333333333333,
             "#9c179e"
            ],
            [
             0.4444444444444444,
             "#bd3786"
            ],
            [
             0.5555555555555556,
             "#d8576b"
            ],
            [
             0.6666666666666666,
             "#ed7953"
            ],
            [
             0.7777777777777778,
             "#fb9f3a"
            ],
            [
             0.8888888888888888,
             "#fdca26"
            ],
            [
             1,
             "#f0f921"
            ]
           ]
          },
          "colorway": [
           "#636efa",
           "#EF553B",
           "#00cc96",
           "#ab63fa",
           "#FFA15A",
           "#19d3f3",
           "#FF6692",
           "#B6E880",
           "#FF97FF",
           "#FECB52"
          ],
          "font": {
           "color": "#2a3f5f"
          },
          "geo": {
           "bgcolor": "white",
           "lakecolor": "white",
           "landcolor": "#E5ECF6",
           "showlakes": true,
           "showland": true,
           "subunitcolor": "white"
          },
          "hoverlabel": {
           "align": "left"
          },
          "hovermode": "closest",
          "mapbox": {
           "style": "light"
          },
          "paper_bgcolor": "white",
          "plot_bgcolor": "#E5ECF6",
          "polar": {
           "angularaxis": {
            "gridcolor": "white",
            "linecolor": "white",
            "ticks": ""
           },
           "bgcolor": "#E5ECF6",
           "radialaxis": {
            "gridcolor": "white",
            "linecolor": "white",
            "ticks": ""
           }
          },
          "scene": {
           "xaxis": {
            "backgroundcolor": "#E5ECF6",
            "gridcolor": "white",
            "gridwidth": 2,
            "linecolor": "white",
            "showbackground": true,
            "ticks": "",
            "zerolinecolor": "white"
           },
           "yaxis": {
            "backgroundcolor": "#E5ECF6",
            "gridcolor": "white",
            "gridwidth": 2,
            "linecolor": "white",
            "showbackground": true,
            "ticks": "",
            "zerolinecolor": "white"
           },
           "zaxis": {
            "backgroundcolor": "#E5ECF6",
            "gridcolor": "white",
            "gridwidth": 2,
            "linecolor": "white",
            "showbackground": true,
            "ticks": "",
            "zerolinecolor": "white"
           }
          },
          "shapedefaults": {
           "line": {
            "color": "#2a3f5f"
           }
          },
          "ternary": {
           "aaxis": {
            "gridcolor": "white",
            "linecolor": "white",
            "ticks": ""
           },
           "baxis": {
            "gridcolor": "white",
            "linecolor": "white",
            "ticks": ""
           },
           "bgcolor": "#E5ECF6",
           "caxis": {
            "gridcolor": "white",
            "linecolor": "white",
            "ticks": ""
           }
          },
          "title": {
           "x": 0.05
          },
          "xaxis": {
           "automargin": true,
           "gridcolor": "white",
           "linecolor": "white",
           "ticks": "",
           "title": {
            "standoff": 15
           },
           "zerolinecolor": "white",
           "zerolinewidth": 2
          },
          "yaxis": {
           "automargin": true,
           "gridcolor": "white",
           "linecolor": "white",
           "ticks": "",
           "title": {
            "standoff": 15
           },
           "zerolinecolor": "white",
           "zerolinewidth": 2
          }
         }
        },
        "title": {
         "text": "DJIA vs Confirmed US Cases"
        },
        "xaxis": {
         "anchor": "y",
         "domain": [
          0,
          1
         ],
         "title": {
          "text": "Count"
         }
        },
        "yaxis": {
         "anchor": "x",
         "domain": [
          0,
          1
         ],
         "title": {
          "text": "Adj Close"
         }
        }
       }
      },
      "text/html": [
       "<div>\n",
       "        \n",
       "        \n",
       "            <div id=\"b6071c42-843d-4042-a065-d4981fe30231\" class=\"plotly-graph-div\" style=\"height:525px; width:100%;\"></div>\n",
       "            <script type=\"text/javascript\">\n",
       "                require([\"plotly\"], function(Plotly) {\n",
       "                    window.PLOTLYENV=window.PLOTLYENV || {};\n",
       "                    \n",
       "                if (document.getElementById(\"b6071c42-843d-4042-a065-d4981fe30231\")) {\n",
       "                    Plotly.newPlot(\n",
       "                        'b6071c42-843d-4042-a065-d4981fe30231',\n",
       "                        [{\"hoverlabel\": {\"namelength\": 0}, \"hovertemplate\": \"Count=%{x}<br>Adj Close=%{y}\", \"legendgroup\": \"\", \"marker\": {\"color\": \"#636efa\", \"symbol\": \"circle\"}, \"mode\": \"markers\", \"name\": \"\", \"showlegend\": false, \"type\": \"scatter\", \"x\": [1, 1, 2, 2, 5, 5, 5, 5, 5, 7, 8, 8, 11, 11, 12, 12, 12, 12, 12, 12, 13, 13, 15, 15, 15, 15, 15, 15, 15, 15, 35, 35, 35, 53, 53, 59, 60, 62, 70, 76, 101, 121, 152, 220, 277, 417], \"xaxis\": \"x\", \"y\": [29186.269531, 29160.089844, 28989.730469, null, null, 28535.800781, 28722.849608999997, 28734.449219, 28859.439452999995, 28256.029297000005, null, null, 28399.810547000005, 28807.630858999997, 29290.849608999997, 29379.769531, 29102.509766000003, null, null, 29276.820313, 29276.339844, 29551.419922000005, 29423.310547000005, 29398.080077999995, null, null, null, 29232.189452999995, 29348.029297000005, 29219.980469, 28992.410156, null, null, 27960.800781, 27081.359375, 26957.589844, 25766.640625, 25409.359375, null, null, 26703.320313, 25917.410156, 27090.859375, 26121.279297, 25864.779297, null], \"yaxis\": \"y\"}],\n",
       "                        {\"legend\": {\"tracegroupgap\": 0}, \"template\": {\"data\": {\"bar\": [{\"error_x\": {\"color\": \"#2a3f5f\"}, \"error_y\": {\"color\": \"#2a3f5f\"}, \"marker\": {\"line\": {\"color\": \"#E5ECF6\", \"width\": 0.5}}, \"type\": \"bar\"}], \"barpolar\": [{\"marker\": {\"line\": {\"color\": \"#E5ECF6\", \"width\": 0.5}}, \"type\": \"barpolar\"}], \"carpet\": [{\"aaxis\": {\"endlinecolor\": \"#2a3f5f\", \"gridcolor\": \"white\", \"linecolor\": \"white\", \"minorgridcolor\": \"white\", \"startlinecolor\": \"#2a3f5f\"}, \"baxis\": {\"endlinecolor\": \"#2a3f5f\", \"gridcolor\": \"white\", \"linecolor\": \"white\", \"minorgridcolor\": \"white\", \"startlinecolor\": \"#2a3f5f\"}, \"type\": \"carpet\"}], \"choropleth\": [{\"colorbar\": {\"outlinewidth\": 0, \"ticks\": \"\"}, \"type\": \"choropleth\"}], \"contour\": [{\"colorbar\": {\"outlinewidth\": 0, \"ticks\": \"\"}, \"colorscale\": [[0.0, \"#0d0887\"], [0.1111111111111111, \"#46039f\"], [0.2222222222222222, \"#7201a8\"], [0.3333333333333333, \"#9c179e\"], [0.4444444444444444, \"#bd3786\"], [0.5555555555555556, \"#d8576b\"], [0.6666666666666666, \"#ed7953\"], [0.7777777777777778, \"#fb9f3a\"], [0.8888888888888888, \"#fdca26\"], [1.0, \"#f0f921\"]], \"type\": \"contour\"}], \"contourcarpet\": [{\"colorbar\": {\"outlinewidth\": 0, \"ticks\": \"\"}, \"type\": \"contourcarpet\"}], \"heatmap\": [{\"colorbar\": {\"outlinewidth\": 0, \"ticks\": \"\"}, \"colorscale\": [[0.0, \"#0d0887\"], [0.1111111111111111, \"#46039f\"], [0.2222222222222222, \"#7201a8\"], [0.3333333333333333, \"#9c179e\"], [0.4444444444444444, \"#bd3786\"], [0.5555555555555556, \"#d8576b\"], [0.6666666666666666, \"#ed7953\"], [0.7777777777777778, \"#fb9f3a\"], [0.8888888888888888, \"#fdca26\"], [1.0, \"#f0f921\"]], \"type\": \"heatmap\"}], \"heatmapgl\": [{\"colorbar\": {\"outlinewidth\": 0, \"ticks\": \"\"}, \"colorscale\": [[0.0, \"#0d0887\"], [0.1111111111111111, \"#46039f\"], [0.2222222222222222, \"#7201a8\"], [0.3333333333333333, \"#9c179e\"], [0.4444444444444444, \"#bd3786\"], [0.5555555555555556, \"#d8576b\"], [0.6666666666666666, \"#ed7953\"], [0.7777777777777778, \"#fb9f3a\"], [0.8888888888888888, \"#fdca26\"], [1.0, \"#f0f921\"]], \"type\": \"heatmapgl\"}], \"histogram\": [{\"marker\": {\"colorbar\": {\"outlinewidth\": 0, \"ticks\": \"\"}}, \"type\": \"histogram\"}], \"histogram2d\": [{\"colorbar\": {\"outlinewidth\": 0, \"ticks\": \"\"}, \"colorscale\": [[0.0, \"#0d0887\"], [0.1111111111111111, \"#46039f\"], [0.2222222222222222, \"#7201a8\"], [0.3333333333333333, \"#9c179e\"], [0.4444444444444444, \"#bd3786\"], [0.5555555555555556, \"#d8576b\"], [0.6666666666666666, \"#ed7953\"], [0.7777777777777778, \"#fb9f3a\"], [0.8888888888888888, \"#fdca26\"], [1.0, \"#f0f921\"]], \"type\": \"histogram2d\"}], \"histogram2dcontour\": [{\"colorbar\": {\"outlinewidth\": 0, \"ticks\": \"\"}, \"colorscale\": [[0.0, \"#0d0887\"], [0.1111111111111111, \"#46039f\"], [0.2222222222222222, \"#7201a8\"], [0.3333333333333333, \"#9c179e\"], [0.4444444444444444, \"#bd3786\"], [0.5555555555555556, \"#d8576b\"], [0.6666666666666666, \"#ed7953\"], [0.7777777777777778, \"#fb9f3a\"], [0.8888888888888888, \"#fdca26\"], [1.0, \"#f0f921\"]], \"type\": \"histogram2dcontour\"}], \"mesh3d\": [{\"colorbar\": {\"outlinewidth\": 0, \"ticks\": \"\"}, \"type\": \"mesh3d\"}], \"parcoords\": [{\"line\": {\"colorbar\": {\"outlinewidth\": 0, \"ticks\": \"\"}}, \"type\": \"parcoords\"}], \"pie\": [{\"automargin\": true, \"type\": \"pie\"}], \"scatter\": [{\"marker\": {\"colorbar\": {\"outlinewidth\": 0, \"ticks\": \"\"}}, \"type\": \"scatter\"}], \"scatter3d\": [{\"line\": {\"colorbar\": {\"outlinewidth\": 0, \"ticks\": \"\"}}, \"marker\": {\"colorbar\": {\"outlinewidth\": 0, \"ticks\": \"\"}}, \"type\": \"scatter3d\"}], \"scattercarpet\": [{\"marker\": {\"colorbar\": {\"outlinewidth\": 0, \"ticks\": \"\"}}, \"type\": \"scattercarpet\"}], \"scattergeo\": [{\"marker\": {\"colorbar\": {\"outlinewidth\": 0, \"ticks\": \"\"}}, \"type\": \"scattergeo\"}], \"scattergl\": [{\"marker\": {\"colorbar\": {\"outlinewidth\": 0, \"ticks\": \"\"}}, \"type\": \"scattergl\"}], \"scattermapbox\": [{\"marker\": {\"colorbar\": {\"outlinewidth\": 0, \"ticks\": \"\"}}, \"type\": \"scattermapbox\"}], \"scatterpolar\": [{\"marker\": {\"colorbar\": {\"outlinewidth\": 0, \"ticks\": \"\"}}, \"type\": \"scatterpolar\"}], \"scatterpolargl\": [{\"marker\": {\"colorbar\": {\"outlinewidth\": 0, \"ticks\": \"\"}}, \"type\": \"scatterpolargl\"}], \"scatterternary\": [{\"marker\": {\"colorbar\": {\"outlinewidth\": 0, \"ticks\": \"\"}}, \"type\": \"scatterternary\"}], \"surface\": [{\"colorbar\": {\"outlinewidth\": 0, \"ticks\": \"\"}, \"colorscale\": [[0.0, \"#0d0887\"], [0.1111111111111111, \"#46039f\"], [0.2222222222222222, \"#7201a8\"], [0.3333333333333333, \"#9c179e\"], [0.4444444444444444, \"#bd3786\"], [0.5555555555555556, \"#d8576b\"], [0.6666666666666666, \"#ed7953\"], [0.7777777777777778, \"#fb9f3a\"], [0.8888888888888888, \"#fdca26\"], [1.0, \"#f0f921\"]], \"type\": \"surface\"}], \"table\": [{\"cells\": {\"fill\": {\"color\": \"#EBF0F8\"}, \"line\": {\"color\": \"white\"}}, \"header\": {\"fill\": {\"color\": \"#C8D4E3\"}, \"line\": {\"color\": \"white\"}}, \"type\": \"table\"}]}, \"layout\": {\"annotationdefaults\": {\"arrowcolor\": \"#2a3f5f\", \"arrowhead\": 0, \"arrowwidth\": 1}, \"coloraxis\": {\"colorbar\": {\"outlinewidth\": 0, \"ticks\": \"\"}}, \"colorscale\": {\"diverging\": [[0, \"#8e0152\"], [0.1, \"#c51b7d\"], [0.2, \"#de77ae\"], [0.3, \"#f1b6da\"], [0.4, \"#fde0ef\"], [0.5, \"#f7f7f7\"], [0.6, \"#e6f5d0\"], [0.7, \"#b8e186\"], [0.8, \"#7fbc41\"], [0.9, \"#4d9221\"], [1, \"#276419\"]], \"sequential\": [[0.0, \"#0d0887\"], [0.1111111111111111, \"#46039f\"], [0.2222222222222222, \"#7201a8\"], [0.3333333333333333, \"#9c179e\"], [0.4444444444444444, \"#bd3786\"], [0.5555555555555556, \"#d8576b\"], [0.6666666666666666, \"#ed7953\"], [0.7777777777777778, \"#fb9f3a\"], [0.8888888888888888, \"#fdca26\"], [1.0, \"#f0f921\"]], \"sequentialminus\": [[0.0, \"#0d0887\"], [0.1111111111111111, \"#46039f\"], [0.2222222222222222, \"#7201a8\"], [0.3333333333333333, \"#9c179e\"], [0.4444444444444444, \"#bd3786\"], [0.5555555555555556, \"#d8576b\"], [0.6666666666666666, \"#ed7953\"], [0.7777777777777778, \"#fb9f3a\"], [0.8888888888888888, \"#fdca26\"], [1.0, \"#f0f921\"]]}, \"colorway\": [\"#636efa\", \"#EF553B\", \"#00cc96\", \"#ab63fa\", \"#FFA15A\", \"#19d3f3\", \"#FF6692\", \"#B6E880\", \"#FF97FF\", \"#FECB52\"], \"font\": {\"color\": \"#2a3f5f\"}, \"geo\": {\"bgcolor\": \"white\", \"lakecolor\": \"white\", \"landcolor\": \"#E5ECF6\", \"showlakes\": true, \"showland\": true, \"subunitcolor\": \"white\"}, \"hoverlabel\": {\"align\": \"left\"}, \"hovermode\": \"closest\", \"mapbox\": {\"style\": \"light\"}, \"paper_bgcolor\": \"white\", \"plot_bgcolor\": \"#E5ECF6\", \"polar\": {\"angularaxis\": {\"gridcolor\": \"white\", \"linecolor\": \"white\", \"ticks\": \"\"}, \"bgcolor\": \"#E5ECF6\", \"radialaxis\": {\"gridcolor\": \"white\", \"linecolor\": \"white\", \"ticks\": \"\"}}, \"scene\": {\"xaxis\": {\"backgroundcolor\": \"#E5ECF6\", \"gridcolor\": \"white\", \"gridwidth\": 2, \"linecolor\": \"white\", \"showbackground\": true, \"ticks\": \"\", \"zerolinecolor\": \"white\"}, \"yaxis\": {\"backgroundcolor\": \"#E5ECF6\", \"gridcolor\": \"white\", \"gridwidth\": 2, \"linecolor\": \"white\", \"showbackground\": true, \"ticks\": \"\", \"zerolinecolor\": \"white\"}, \"zaxis\": {\"backgroundcolor\": \"#E5ECF6\", \"gridcolor\": \"white\", \"gridwidth\": 2, \"linecolor\": \"white\", \"showbackground\": true, \"ticks\": \"\", \"zerolinecolor\": \"white\"}}, \"shapedefaults\": {\"line\": {\"color\": \"#2a3f5f\"}}, \"ternary\": {\"aaxis\": {\"gridcolor\": \"white\", \"linecolor\": \"white\", \"ticks\": \"\"}, \"baxis\": {\"gridcolor\": \"white\", \"linecolor\": \"white\", \"ticks\": \"\"}, \"bgcolor\": \"#E5ECF6\", \"caxis\": {\"gridcolor\": \"white\", \"linecolor\": \"white\", \"ticks\": \"\"}}, \"title\": {\"x\": 0.05}, \"xaxis\": {\"automargin\": true, \"gridcolor\": \"white\", \"linecolor\": \"white\", \"ticks\": \"\", \"title\": {\"standoff\": 15}, \"zerolinecolor\": \"white\", \"zerolinewidth\": 2}, \"yaxis\": {\"automargin\": true, \"gridcolor\": \"white\", \"linecolor\": \"white\", \"ticks\": \"\", \"title\": {\"standoff\": 15}, \"zerolinecolor\": \"white\", \"zerolinewidth\": 2}}}, \"title\": {\"text\": \"DJIA vs Confirmed US Cases\"}, \"xaxis\": {\"anchor\": \"y\", \"domain\": [0.0, 1.0], \"title\": {\"text\": \"Count\"}}, \"yaxis\": {\"anchor\": \"x\", \"domain\": [0.0, 1.0], \"title\": {\"text\": \"Adj Close\"}}},\n",
       "                        {\"responsive\": true}\n",
       "                    ).then(function(){\n",
       "                            \n",
       "var gd = document.getElementById('b6071c42-843d-4042-a065-d4981fe30231');\n",
       "var x = new MutationObserver(function (mutations, observer) {{\n",
       "        var display = window.getComputedStyle(gd).display;\n",
       "        if (!display || display === 'none') {{\n",
       "            console.log([gd, 'removed!']);\n",
       "            Plotly.purge(gd);\n",
       "            observer.disconnect();\n",
       "        }}\n",
       "}});\n",
       "\n",
       "// Listen for the removal of the full notebook cells\n",
       "var notebookContainer = gd.closest('#notebook-container');\n",
       "if (notebookContainer) {{\n",
       "    x.observe(notebookContainer, {childList: true});\n",
       "}}\n",
       "\n",
       "// Listen for the clearing of the current output cell\n",
       "var outputEl = gd.closest('.output');\n",
       "if (outputEl) {{\n",
       "    x.observe(outputEl, {childList: true});\n",
       "}}\n",
       "\n",
       "                        })\n",
       "                };\n",
       "                });\n",
       "            </script>\n",
       "        </div>"
      ]
     },
     "metadata": {},
     "output_type": "display_data"
    }
   ],
   "source": [
    "plot_df = tidy_df[(tidy_df['Type']=='Confirmed')&(tidy_df['US']=='US')]\n",
    "\n",
    "px.scatter(plot_df, x='Count', y='Adj Close', title='DJIA vs Confirmed US Cases')"
   ]
  },
  {
   "cell_type": "code",
   "execution_count": 39,
   "metadata": {},
   "outputs": [
    {
     "data": {
      "application/vnd.plotly.v1+json": {
       "config": {
        "plotlyServerURL": "https://plot.ly"
       },
       "data": [
        {
         "hoverlabel": {
          "namelength": 0
         },
         "hovertemplate": "Count=%{x}<br>Adj Close=%{y}",
         "legendgroup": "",
         "marker": {
          "color": "#636efa",
          "symbol": "circle"
         },
         "mode": "markers",
         "name": "",
         "showlegend": false,
         "type": "scatter",
         "x": [
          0,
          0,
          0,
          0,
          0,
          0,
          0,
          0,
          0,
          0,
          0,
          0,
          0,
          0,
          0,
          0,
          0,
          0,
          3,
          3,
          3,
          3,
          3,
          3,
          3,
          3,
          3,
          3,
          3,
          3,
          5,
          5,
          5,
          5,
          6,
          6,
          6,
          7,
          7,
          7,
          7,
          8,
          8,
          8,
          8,
          8
         ],
         "xaxis": "x",
         "y": [
          29186.269531,
          29160.089844,
          28989.730469,
          null,
          null,
          28535.800781,
          28722.849608999997,
          28734.449219,
          28859.439452999995,
          28256.029297000005,
          null,
          null,
          28399.810547000005,
          28807.630858999997,
          29290.849608999997,
          29379.769531,
          29102.509766000003,
          null,
          null,
          29276.820313,
          29276.339844,
          29551.419922000005,
          29423.310547000005,
          29398.080077999995,
          null,
          null,
          null,
          29232.189452999995,
          29348.029297000005,
          29219.980469,
          28992.410156,
          null,
          null,
          27960.800781,
          27081.359375,
          26957.589844,
          25766.640625,
          25409.359375,
          null,
          null,
          26703.320313,
          25917.410156,
          27090.859375,
          26121.279297,
          25864.779297,
          null
         ],
         "yaxis": "y"
        }
       ],
       "layout": {
        "legend": {
         "tracegroupgap": 0
        },
        "template": {
         "data": {
          "bar": [
           {
            "error_x": {
             "color": "#2a3f5f"
            },
            "error_y": {
             "color": "#2a3f5f"
            },
            "marker": {
             "line": {
              "color": "#E5ECF6",
              "width": 0.5
             }
            },
            "type": "bar"
           }
          ],
          "barpolar": [
           {
            "marker": {
             "line": {
              "color": "#E5ECF6",
              "width": 0.5
             }
            },
            "type": "barpolar"
           }
          ],
          "carpet": [
           {
            "aaxis": {
             "endlinecolor": "#2a3f5f",
             "gridcolor": "white",
             "linecolor": "white",
             "minorgridcolor": "white",
             "startlinecolor": "#2a3f5f"
            },
            "baxis": {
             "endlinecolor": "#2a3f5f",
             "gridcolor": "white",
             "linecolor": "white",
             "minorgridcolor": "white",
             "startlinecolor": "#2a3f5f"
            },
            "type": "carpet"
           }
          ],
          "choropleth": [
           {
            "colorbar": {
             "outlinewidth": 0,
             "ticks": ""
            },
            "type": "choropleth"
           }
          ],
          "contour": [
           {
            "colorbar": {
             "outlinewidth": 0,
             "ticks": ""
            },
            "colorscale": [
             [
              0,
              "#0d0887"
             ],
             [
              0.1111111111111111,
              "#46039f"
             ],
             [
              0.2222222222222222,
              "#7201a8"
             ],
             [
              0.3333333333333333,
              "#9c179e"
             ],
             [
              0.4444444444444444,
              "#bd3786"
             ],
             [
              0.5555555555555556,
              "#d8576b"
             ],
             [
              0.6666666666666666,
              "#ed7953"
             ],
             [
              0.7777777777777778,
              "#fb9f3a"
             ],
             [
              0.8888888888888888,
              "#fdca26"
             ],
             [
              1,
              "#f0f921"
             ]
            ],
            "type": "contour"
           }
          ],
          "contourcarpet": [
           {
            "colorbar": {
             "outlinewidth": 0,
             "ticks": ""
            },
            "type": "contourcarpet"
           }
          ],
          "heatmap": [
           {
            "colorbar": {
             "outlinewidth": 0,
             "ticks": ""
            },
            "colorscale": [
             [
              0,
              "#0d0887"
             ],
             [
              0.1111111111111111,
              "#46039f"
             ],
             [
              0.2222222222222222,
              "#7201a8"
             ],
             [
              0.3333333333333333,
              "#9c179e"
             ],
             [
              0.4444444444444444,
              "#bd3786"
             ],
             [
              0.5555555555555556,
              "#d8576b"
             ],
             [
              0.6666666666666666,
              "#ed7953"
             ],
             [
              0.7777777777777778,
              "#fb9f3a"
             ],
             [
              0.8888888888888888,
              "#fdca26"
             ],
             [
              1,
              "#f0f921"
             ]
            ],
            "type": "heatmap"
           }
          ],
          "heatmapgl": [
           {
            "colorbar": {
             "outlinewidth": 0,
             "ticks": ""
            },
            "colorscale": [
             [
              0,
              "#0d0887"
             ],
             [
              0.1111111111111111,
              "#46039f"
             ],
             [
              0.2222222222222222,
              "#7201a8"
             ],
             [
              0.3333333333333333,
              "#9c179e"
             ],
             [
              0.4444444444444444,
              "#bd3786"
             ],
             [
              0.5555555555555556,
              "#d8576b"
             ],
             [
              0.6666666666666666,
              "#ed7953"
             ],
             [
              0.7777777777777778,
              "#fb9f3a"
             ],
             [
              0.8888888888888888,
              "#fdca26"
             ],
             [
              1,
              "#f0f921"
             ]
            ],
            "type": "heatmapgl"
           }
          ],
          "histogram": [
           {
            "marker": {
             "colorbar": {
              "outlinewidth": 0,
              "ticks": ""
             }
            },
            "type": "histogram"
           }
          ],
          "histogram2d": [
           {
            "colorbar": {
             "outlinewidth": 0,
             "ticks": ""
            },
            "colorscale": [
             [
              0,
              "#0d0887"
             ],
             [
              0.1111111111111111,
              "#46039f"
             ],
             [
              0.2222222222222222,
              "#7201a8"
             ],
             [
              0.3333333333333333,
              "#9c179e"
             ],
             [
              0.4444444444444444,
              "#bd3786"
             ],
             [
              0.5555555555555556,
              "#d8576b"
             ],
             [
              0.6666666666666666,
              "#ed7953"
             ],
             [
              0.7777777777777778,
              "#fb9f3a"
             ],
             [
              0.8888888888888888,
              "#fdca26"
             ],
             [
              1,
              "#f0f921"
             ]
            ],
            "type": "histogram2d"
           }
          ],
          "histogram2dcontour": [
           {
            "colorbar": {
             "outlinewidth": 0,
             "ticks": ""
            },
            "colorscale": [
             [
              0,
              "#0d0887"
             ],
             [
              0.1111111111111111,
              "#46039f"
             ],
             [
              0.2222222222222222,
              "#7201a8"
             ],
             [
              0.3333333333333333,
              "#9c179e"
             ],
             [
              0.4444444444444444,
              "#bd3786"
             ],
             [
              0.5555555555555556,
              "#d8576b"
             ],
             [
              0.6666666666666666,
              "#ed7953"
             ],
             [
              0.7777777777777778,
              "#fb9f3a"
             ],
             [
              0.8888888888888888,
              "#fdca26"
             ],
             [
              1,
              "#f0f921"
             ]
            ],
            "type": "histogram2dcontour"
           }
          ],
          "mesh3d": [
           {
            "colorbar": {
             "outlinewidth": 0,
             "ticks": ""
            },
            "type": "mesh3d"
           }
          ],
          "parcoords": [
           {
            "line": {
             "colorbar": {
              "outlinewidth": 0,
              "ticks": ""
             }
            },
            "type": "parcoords"
           }
          ],
          "pie": [
           {
            "automargin": true,
            "type": "pie"
           }
          ],
          "scatter": [
           {
            "marker": {
             "colorbar": {
              "outlinewidth": 0,
              "ticks": ""
             }
            },
            "type": "scatter"
           }
          ],
          "scatter3d": [
           {
            "line": {
             "colorbar": {
              "outlinewidth": 0,
              "ticks": ""
             }
            },
            "marker": {
             "colorbar": {
              "outlinewidth": 0,
              "ticks": ""
             }
            },
            "type": "scatter3d"
           }
          ],
          "scattercarpet": [
           {
            "marker": {
             "colorbar": {
              "outlinewidth": 0,
              "ticks": ""
             }
            },
            "type": "scattercarpet"
           }
          ],
          "scattergeo": [
           {
            "marker": {
             "colorbar": {
              "outlinewidth": 0,
              "ticks": ""
             }
            },
            "type": "scattergeo"
           }
          ],
          "scattergl": [
           {
            "marker": {
             "colorbar": {
              "outlinewidth": 0,
              "ticks": ""
             }
            },
            "type": "scattergl"
           }
          ],
          "scattermapbox": [
           {
            "marker": {
             "colorbar": {
              "outlinewidth": 0,
              "ticks": ""
             }
            },
            "type": "scattermapbox"
           }
          ],
          "scatterpolar": [
           {
            "marker": {
             "colorbar": {
              "outlinewidth": 0,
              "ticks": ""
             }
            },
            "type": "scatterpolar"
           }
          ],
          "scatterpolargl": [
           {
            "marker": {
             "colorbar": {
              "outlinewidth": 0,
              "ticks": ""
             }
            },
            "type": "scatterpolargl"
           }
          ],
          "scatterternary": [
           {
            "marker": {
             "colorbar": {
              "outlinewidth": 0,
              "ticks": ""
             }
            },
            "type": "scatterternary"
           }
          ],
          "surface": [
           {
            "colorbar": {
             "outlinewidth": 0,
             "ticks": ""
            },
            "colorscale": [
             [
              0,
              "#0d0887"
             ],
             [
              0.1111111111111111,
              "#46039f"
             ],
             [
              0.2222222222222222,
              "#7201a8"
             ],
             [
              0.3333333333333333,
              "#9c179e"
             ],
             [
              0.4444444444444444,
              "#bd3786"
             ],
             [
              0.5555555555555556,
              "#d8576b"
             ],
             [
              0.6666666666666666,
              "#ed7953"
             ],
             [
              0.7777777777777778,
              "#fb9f3a"
             ],
             [
              0.8888888888888888,
              "#fdca26"
             ],
             [
              1,
              "#f0f921"
             ]
            ],
            "type": "surface"
           }
          ],
          "table": [
           {
            "cells": {
             "fill": {
              "color": "#EBF0F8"
             },
             "line": {
              "color": "white"
             }
            },
            "header": {
             "fill": {
              "color": "#C8D4E3"
             },
             "line": {
              "color": "white"
             }
            },
            "type": "table"
           }
          ]
         },
         "layout": {
          "annotationdefaults": {
           "arrowcolor": "#2a3f5f",
           "arrowhead": 0,
           "arrowwidth": 1
          },
          "coloraxis": {
           "colorbar": {
            "outlinewidth": 0,
            "ticks": ""
           }
          },
          "colorscale": {
           "diverging": [
            [
             0,
             "#8e0152"
            ],
            [
             0.1,
             "#c51b7d"
            ],
            [
             0.2,
             "#de77ae"
            ],
            [
             0.3,
             "#f1b6da"
            ],
            [
             0.4,
             "#fde0ef"
            ],
            [
             0.5,
             "#f7f7f7"
            ],
            [
             0.6,
             "#e6f5d0"
            ],
            [
             0.7,
             "#b8e186"
            ],
            [
             0.8,
             "#7fbc41"
            ],
            [
             0.9,
             "#4d9221"
            ],
            [
             1,
             "#276419"
            ]
           ],
           "sequential": [
            [
             0,
             "#0d0887"
            ],
            [
             0.1111111111111111,
             "#46039f"
            ],
            [
             0.2222222222222222,
             "#7201a8"
            ],
            [
             0.3333333333333333,
             "#9c179e"
            ],
            [
             0.4444444444444444,
             "#bd3786"
            ],
            [
             0.5555555555555556,
             "#d8576b"
            ],
            [
             0.6666666666666666,
             "#ed7953"
            ],
            [
             0.7777777777777778,
             "#fb9f3a"
            ],
            [
             0.8888888888888888,
             "#fdca26"
            ],
            [
             1,
             "#f0f921"
            ]
           ],
           "sequentialminus": [
            [
             0,
             "#0d0887"
            ],
            [
             0.1111111111111111,
             "#46039f"
            ],
            [
             0.2222222222222222,
             "#7201a8"
            ],
            [
             0.3333333333333333,
             "#9c179e"
            ],
            [
             0.4444444444444444,
             "#bd3786"
            ],
            [
             0.5555555555555556,
             "#d8576b"
            ],
            [
             0.6666666666666666,
             "#ed7953"
            ],
            [
             0.7777777777777778,
             "#fb9f3a"
            ],
            [
             0.8888888888888888,
             "#fdca26"
            ],
            [
             1,
             "#f0f921"
            ]
           ]
          },
          "colorway": [
           "#636efa",
           "#EF553B",
           "#00cc96",
           "#ab63fa",
           "#FFA15A",
           "#19d3f3",
           "#FF6692",
           "#B6E880",
           "#FF97FF",
           "#FECB52"
          ],
          "font": {
           "color": "#2a3f5f"
          },
          "geo": {
           "bgcolor": "white",
           "lakecolor": "white",
           "landcolor": "#E5ECF6",
           "showlakes": true,
           "showland": true,
           "subunitcolor": "white"
          },
          "hoverlabel": {
           "align": "left"
          },
          "hovermode": "closest",
          "mapbox": {
           "style": "light"
          },
          "paper_bgcolor": "white",
          "plot_bgcolor": "#E5ECF6",
          "polar": {
           "angularaxis": {
            "gridcolor": "white",
            "linecolor": "white",
            "ticks": ""
           },
           "bgcolor": "#E5ECF6",
           "radialaxis": {
            "gridcolor": "white",
            "linecolor": "white",
            "ticks": ""
           }
          },
          "scene": {
           "xaxis": {
            "backgroundcolor": "#E5ECF6",
            "gridcolor": "white",
            "gridwidth": 2,
            "linecolor": "white",
            "showbackground": true,
            "ticks": "",
            "zerolinecolor": "white"
           },
           "yaxis": {
            "backgroundcolor": "#E5ECF6",
            "gridcolor": "white",
            "gridwidth": 2,
            "linecolor": "white",
            "showbackground": true,
            "ticks": "",
            "zerolinecolor": "white"
           },
           "zaxis": {
            "backgroundcolor": "#E5ECF6",
            "gridcolor": "white",
            "gridwidth": 2,
            "linecolor": "white",
            "showbackground": true,
            "ticks": "",
            "zerolinecolor": "white"
           }
          },
          "shapedefaults": {
           "line": {
            "color": "#2a3f5f"
           }
          },
          "ternary": {
           "aaxis": {
            "gridcolor": "white",
            "linecolor": "white",
            "ticks": ""
           },
           "baxis": {
            "gridcolor": "white",
            "linecolor": "white",
            "ticks": ""
           },
           "bgcolor": "#E5ECF6",
           "caxis": {
            "gridcolor": "white",
            "linecolor": "white",
            "ticks": ""
           }
          },
          "title": {
           "x": 0.05
          },
          "xaxis": {
           "automargin": true,
           "gridcolor": "white",
           "linecolor": "white",
           "ticks": "",
           "title": {
            "standoff": 15
           },
           "zerolinecolor": "white",
           "zerolinewidth": 2
          },
          "yaxis": {
           "automargin": true,
           "gridcolor": "white",
           "linecolor": "white",
           "ticks": "",
           "title": {
            "standoff": 15
           },
           "zerolinecolor": "white",
           "zerolinewidth": 2
          }
         }
        },
        "title": {
         "text": "DJIA vs Recovered US Cases"
        },
        "xaxis": {
         "anchor": "y",
         "domain": [
          0,
          1
         ],
         "title": {
          "text": "Count"
         }
        },
        "yaxis": {
         "anchor": "x",
         "domain": [
          0,
          1
         ],
         "title": {
          "text": "Adj Close"
         }
        }
       }
      },
      "text/html": [
       "<div>\n",
       "        \n",
       "        \n",
       "            <div id=\"0e67c54b-f11a-423a-bc4e-1529c62a5142\" class=\"plotly-graph-div\" style=\"height:525px; width:100%;\"></div>\n",
       "            <script type=\"text/javascript\">\n",
       "                require([\"plotly\"], function(Plotly) {\n",
       "                    window.PLOTLYENV=window.PLOTLYENV || {};\n",
       "                    \n",
       "                if (document.getElementById(\"0e67c54b-f11a-423a-bc4e-1529c62a5142\")) {\n",
       "                    Plotly.newPlot(\n",
       "                        '0e67c54b-f11a-423a-bc4e-1529c62a5142',\n",
       "                        [{\"hoverlabel\": {\"namelength\": 0}, \"hovertemplate\": \"Count=%{x}<br>Adj Close=%{y}\", \"legendgroup\": \"\", \"marker\": {\"color\": \"#636efa\", \"symbol\": \"circle\"}, \"mode\": \"markers\", \"name\": \"\", \"showlegend\": false, \"type\": \"scatter\", \"x\": [0, 0, 0, 0, 0, 0, 0, 0, 0, 0, 0, 0, 0, 0, 0, 0, 0, 0, 3, 3, 3, 3, 3, 3, 3, 3, 3, 3, 3, 3, 5, 5, 5, 5, 6, 6, 6, 7, 7, 7, 7, 8, 8, 8, 8, 8], \"xaxis\": \"x\", \"y\": [29186.269531, 29160.089844, 28989.730469, null, null, 28535.800781, 28722.849608999997, 28734.449219, 28859.439452999995, 28256.029297000005, null, null, 28399.810547000005, 28807.630858999997, 29290.849608999997, 29379.769531, 29102.509766000003, null, null, 29276.820313, 29276.339844, 29551.419922000005, 29423.310547000005, 29398.080077999995, null, null, null, 29232.189452999995, 29348.029297000005, 29219.980469, 28992.410156, null, null, 27960.800781, 27081.359375, 26957.589844, 25766.640625, 25409.359375, null, null, 26703.320313, 25917.410156, 27090.859375, 26121.279297, 25864.779297, null], \"yaxis\": \"y\"}],\n",
       "                        {\"legend\": {\"tracegroupgap\": 0}, \"template\": {\"data\": {\"bar\": [{\"error_x\": {\"color\": \"#2a3f5f\"}, \"error_y\": {\"color\": \"#2a3f5f\"}, \"marker\": {\"line\": {\"color\": \"#E5ECF6\", \"width\": 0.5}}, \"type\": \"bar\"}], \"barpolar\": [{\"marker\": {\"line\": {\"color\": \"#E5ECF6\", \"width\": 0.5}}, \"type\": \"barpolar\"}], \"carpet\": [{\"aaxis\": {\"endlinecolor\": \"#2a3f5f\", \"gridcolor\": \"white\", \"linecolor\": \"white\", \"minorgridcolor\": \"white\", \"startlinecolor\": \"#2a3f5f\"}, \"baxis\": {\"endlinecolor\": \"#2a3f5f\", \"gridcolor\": \"white\", \"linecolor\": \"white\", \"minorgridcolor\": \"white\", \"startlinecolor\": \"#2a3f5f\"}, \"type\": \"carpet\"}], \"choropleth\": [{\"colorbar\": {\"outlinewidth\": 0, \"ticks\": \"\"}, \"type\": \"choropleth\"}], \"contour\": [{\"colorbar\": {\"outlinewidth\": 0, \"ticks\": \"\"}, \"colorscale\": [[0.0, \"#0d0887\"], [0.1111111111111111, \"#46039f\"], [0.2222222222222222, \"#7201a8\"], [0.3333333333333333, \"#9c179e\"], [0.4444444444444444, \"#bd3786\"], [0.5555555555555556, \"#d8576b\"], [0.6666666666666666, \"#ed7953\"], [0.7777777777777778, \"#fb9f3a\"], [0.8888888888888888, \"#fdca26\"], [1.0, \"#f0f921\"]], \"type\": \"contour\"}], \"contourcarpet\": [{\"colorbar\": {\"outlinewidth\": 0, \"ticks\": \"\"}, \"type\": \"contourcarpet\"}], \"heatmap\": [{\"colorbar\": {\"outlinewidth\": 0, \"ticks\": \"\"}, \"colorscale\": [[0.0, \"#0d0887\"], [0.1111111111111111, \"#46039f\"], [0.2222222222222222, \"#7201a8\"], [0.3333333333333333, \"#9c179e\"], [0.4444444444444444, \"#bd3786\"], [0.5555555555555556, \"#d8576b\"], [0.6666666666666666, \"#ed7953\"], [0.7777777777777778, \"#fb9f3a\"], [0.8888888888888888, \"#fdca26\"], [1.0, \"#f0f921\"]], \"type\": \"heatmap\"}], \"heatmapgl\": [{\"colorbar\": {\"outlinewidth\": 0, \"ticks\": \"\"}, \"colorscale\": [[0.0, \"#0d0887\"], [0.1111111111111111, \"#46039f\"], [0.2222222222222222, \"#7201a8\"], [0.3333333333333333, \"#9c179e\"], [0.4444444444444444, \"#bd3786\"], [0.5555555555555556, \"#d8576b\"], [0.6666666666666666, \"#ed7953\"], [0.7777777777777778, \"#fb9f3a\"], [0.8888888888888888, \"#fdca26\"], [1.0, \"#f0f921\"]], \"type\": \"heatmapgl\"}], \"histogram\": [{\"marker\": {\"colorbar\": {\"outlinewidth\": 0, \"ticks\": \"\"}}, \"type\": \"histogram\"}], \"histogram2d\": [{\"colorbar\": {\"outlinewidth\": 0, \"ticks\": \"\"}, \"colorscale\": [[0.0, \"#0d0887\"], [0.1111111111111111, \"#46039f\"], [0.2222222222222222, \"#7201a8\"], [0.3333333333333333, \"#9c179e\"], [0.4444444444444444, \"#bd3786\"], [0.5555555555555556, \"#d8576b\"], [0.6666666666666666, \"#ed7953\"], [0.7777777777777778, \"#fb9f3a\"], [0.8888888888888888, \"#fdca26\"], [1.0, \"#f0f921\"]], \"type\": \"histogram2d\"}], \"histogram2dcontour\": [{\"colorbar\": {\"outlinewidth\": 0, \"ticks\": \"\"}, \"colorscale\": [[0.0, \"#0d0887\"], [0.1111111111111111, \"#46039f\"], [0.2222222222222222, \"#7201a8\"], [0.3333333333333333, \"#9c179e\"], [0.4444444444444444, \"#bd3786\"], [0.5555555555555556, \"#d8576b\"], [0.6666666666666666, \"#ed7953\"], [0.7777777777777778, \"#fb9f3a\"], [0.8888888888888888, \"#fdca26\"], [1.0, \"#f0f921\"]], \"type\": \"histogram2dcontour\"}], \"mesh3d\": [{\"colorbar\": {\"outlinewidth\": 0, \"ticks\": \"\"}, \"type\": \"mesh3d\"}], \"parcoords\": [{\"line\": {\"colorbar\": {\"outlinewidth\": 0, \"ticks\": \"\"}}, \"type\": \"parcoords\"}], \"pie\": [{\"automargin\": true, \"type\": \"pie\"}], \"scatter\": [{\"marker\": {\"colorbar\": {\"outlinewidth\": 0, \"ticks\": \"\"}}, \"type\": \"scatter\"}], \"scatter3d\": [{\"line\": {\"colorbar\": {\"outlinewidth\": 0, \"ticks\": \"\"}}, \"marker\": {\"colorbar\": {\"outlinewidth\": 0, \"ticks\": \"\"}}, \"type\": \"scatter3d\"}], \"scattercarpet\": [{\"marker\": {\"colorbar\": {\"outlinewidth\": 0, \"ticks\": \"\"}}, \"type\": \"scattercarpet\"}], \"scattergeo\": [{\"marker\": {\"colorbar\": {\"outlinewidth\": 0, \"ticks\": \"\"}}, \"type\": \"scattergeo\"}], \"scattergl\": [{\"marker\": {\"colorbar\": {\"outlinewidth\": 0, \"ticks\": \"\"}}, \"type\": \"scattergl\"}], \"scattermapbox\": [{\"marker\": {\"colorbar\": {\"outlinewidth\": 0, \"ticks\": \"\"}}, \"type\": \"scattermapbox\"}], \"scatterpolar\": [{\"marker\": {\"colorbar\": {\"outlinewidth\": 0, \"ticks\": \"\"}}, \"type\": \"scatterpolar\"}], \"scatterpolargl\": [{\"marker\": {\"colorbar\": {\"outlinewidth\": 0, \"ticks\": \"\"}}, \"type\": \"scatterpolargl\"}], \"scatterternary\": [{\"marker\": {\"colorbar\": {\"outlinewidth\": 0, \"ticks\": \"\"}}, \"type\": \"scatterternary\"}], \"surface\": [{\"colorbar\": {\"outlinewidth\": 0, \"ticks\": \"\"}, \"colorscale\": [[0.0, \"#0d0887\"], [0.1111111111111111, \"#46039f\"], [0.2222222222222222, \"#7201a8\"], [0.3333333333333333, \"#9c179e\"], [0.4444444444444444, \"#bd3786\"], [0.5555555555555556, \"#d8576b\"], [0.6666666666666666, \"#ed7953\"], [0.7777777777777778, \"#fb9f3a\"], [0.8888888888888888, \"#fdca26\"], [1.0, \"#f0f921\"]], \"type\": \"surface\"}], \"table\": [{\"cells\": {\"fill\": {\"color\": \"#EBF0F8\"}, \"line\": {\"color\": \"white\"}}, \"header\": {\"fill\": {\"color\": \"#C8D4E3\"}, \"line\": {\"color\": \"white\"}}, \"type\": \"table\"}]}, \"layout\": {\"annotationdefaults\": {\"arrowcolor\": \"#2a3f5f\", \"arrowhead\": 0, \"arrowwidth\": 1}, \"coloraxis\": {\"colorbar\": {\"outlinewidth\": 0, \"ticks\": \"\"}}, \"colorscale\": {\"diverging\": [[0, \"#8e0152\"], [0.1, \"#c51b7d\"], [0.2, \"#de77ae\"], [0.3, \"#f1b6da\"], [0.4, \"#fde0ef\"], [0.5, \"#f7f7f7\"], [0.6, \"#e6f5d0\"], [0.7, \"#b8e186\"], [0.8, \"#7fbc41\"], [0.9, \"#4d9221\"], [1, \"#276419\"]], \"sequential\": [[0.0, \"#0d0887\"], [0.1111111111111111, \"#46039f\"], [0.2222222222222222, \"#7201a8\"], [0.3333333333333333, \"#9c179e\"], [0.4444444444444444, \"#bd3786\"], [0.5555555555555556, \"#d8576b\"], [0.6666666666666666, \"#ed7953\"], [0.7777777777777778, \"#fb9f3a\"], [0.8888888888888888, \"#fdca26\"], [1.0, \"#f0f921\"]], \"sequentialminus\": [[0.0, \"#0d0887\"], [0.1111111111111111, \"#46039f\"], [0.2222222222222222, \"#7201a8\"], [0.3333333333333333, \"#9c179e\"], [0.4444444444444444, \"#bd3786\"], [0.5555555555555556, \"#d8576b\"], [0.6666666666666666, \"#ed7953\"], [0.7777777777777778, \"#fb9f3a\"], [0.8888888888888888, \"#fdca26\"], [1.0, \"#f0f921\"]]}, \"colorway\": [\"#636efa\", \"#EF553B\", \"#00cc96\", \"#ab63fa\", \"#FFA15A\", \"#19d3f3\", \"#FF6692\", \"#B6E880\", \"#FF97FF\", \"#FECB52\"], \"font\": {\"color\": \"#2a3f5f\"}, \"geo\": {\"bgcolor\": \"white\", \"lakecolor\": \"white\", \"landcolor\": \"#E5ECF6\", \"showlakes\": true, \"showland\": true, \"subunitcolor\": \"white\"}, \"hoverlabel\": {\"align\": \"left\"}, \"hovermode\": \"closest\", \"mapbox\": {\"style\": \"light\"}, \"paper_bgcolor\": \"white\", \"plot_bgcolor\": \"#E5ECF6\", \"polar\": {\"angularaxis\": {\"gridcolor\": \"white\", \"linecolor\": \"white\", \"ticks\": \"\"}, \"bgcolor\": \"#E5ECF6\", \"radialaxis\": {\"gridcolor\": \"white\", \"linecolor\": \"white\", \"ticks\": \"\"}}, \"scene\": {\"xaxis\": {\"backgroundcolor\": \"#E5ECF6\", \"gridcolor\": \"white\", \"gridwidth\": 2, \"linecolor\": \"white\", \"showbackground\": true, \"ticks\": \"\", \"zerolinecolor\": \"white\"}, \"yaxis\": {\"backgroundcolor\": \"#E5ECF6\", \"gridcolor\": \"white\", \"gridwidth\": 2, \"linecolor\": \"white\", \"showbackground\": true, \"ticks\": \"\", \"zerolinecolor\": \"white\"}, \"zaxis\": {\"backgroundcolor\": \"#E5ECF6\", \"gridcolor\": \"white\", \"gridwidth\": 2, \"linecolor\": \"white\", \"showbackground\": true, \"ticks\": \"\", \"zerolinecolor\": \"white\"}}, \"shapedefaults\": {\"line\": {\"color\": \"#2a3f5f\"}}, \"ternary\": {\"aaxis\": {\"gridcolor\": \"white\", \"linecolor\": \"white\", \"ticks\": \"\"}, \"baxis\": {\"gridcolor\": \"white\", \"linecolor\": \"white\", \"ticks\": \"\"}, \"bgcolor\": \"#E5ECF6\", \"caxis\": {\"gridcolor\": \"white\", \"linecolor\": \"white\", \"ticks\": \"\"}}, \"title\": {\"x\": 0.05}, \"xaxis\": {\"automargin\": true, \"gridcolor\": \"white\", \"linecolor\": \"white\", \"ticks\": \"\", \"title\": {\"standoff\": 15}, \"zerolinecolor\": \"white\", \"zerolinewidth\": 2}, \"yaxis\": {\"automargin\": true, \"gridcolor\": \"white\", \"linecolor\": \"white\", \"ticks\": \"\", \"title\": {\"standoff\": 15}, \"zerolinecolor\": \"white\", \"zerolinewidth\": 2}}}, \"title\": {\"text\": \"DJIA vs Recovered US Cases\"}, \"xaxis\": {\"anchor\": \"y\", \"domain\": [0.0, 1.0], \"title\": {\"text\": \"Count\"}}, \"yaxis\": {\"anchor\": \"x\", \"domain\": [0.0, 1.0], \"title\": {\"text\": \"Adj Close\"}}},\n",
       "                        {\"responsive\": true}\n",
       "                    ).then(function(){\n",
       "                            \n",
       "var gd = document.getElementById('0e67c54b-f11a-423a-bc4e-1529c62a5142');\n",
       "var x = new MutationObserver(function (mutations, observer) {{\n",
       "        var display = window.getComputedStyle(gd).display;\n",
       "        if (!display || display === 'none') {{\n",
       "            console.log([gd, 'removed!']);\n",
       "            Plotly.purge(gd);\n",
       "            observer.disconnect();\n",
       "        }}\n",
       "}});\n",
       "\n",
       "// Listen for the removal of the full notebook cells\n",
       "var notebookContainer = gd.closest('#notebook-container');\n",
       "if (notebookContainer) {{\n",
       "    x.observe(notebookContainer, {childList: true});\n",
       "}}\n",
       "\n",
       "// Listen for the clearing of the current output cell\n",
       "var outputEl = gd.closest('.output');\n",
       "if (outputEl) {{\n",
       "    x.observe(outputEl, {childList: true});\n",
       "}}\n",
       "\n",
       "                        })\n",
       "                };\n",
       "                });\n",
       "            </script>\n",
       "        </div>"
      ]
     },
     "metadata": {},
     "output_type": "display_data"
    }
   ],
   "source": [
    "plot_df = tidy_df[(tidy_df['Type']=='Recovered')&(tidy_df['US']=='US')]\n",
    "\n",
    "px.scatter(plot_df, x='Count', y='Adj Close', title='DJIA vs Recovered US Cases')"
   ]
  },
  {
   "cell_type": "code",
   "execution_count": 40,
   "metadata": {
    "scrolled": false
   },
   "outputs": [
    {
     "data": {
      "application/vnd.plotly.v1+json": {
       "config": {
        "plotlyServerURL": "https://plot.ly"
       },
       "data": [
        {
         "hoverlabel": {
          "namelength": 0
         },
         "hovertemplate": "Count=%{x}<br>Adj Close=%{y}",
         "legendgroup": "",
         "marker": {
          "color": "#636efa",
          "symbol": "circle"
         },
         "mode": "markers",
         "name": "",
         "showlegend": false,
         "type": "scatter",
         "x": [
          0,
          0,
          0,
          0,
          0,
          0,
          0,
          0,
          0,
          0,
          0,
          0,
          0,
          0,
          0,
          0,
          0,
          0,
          0,
          0,
          0,
          0,
          0,
          0,
          0,
          0,
          0,
          0,
          0,
          0,
          0,
          0,
          0,
          0,
          0,
          0,
          0,
          0,
          1,
          1,
          6,
          7,
          11,
          12,
          14,
          17
         ],
         "xaxis": "x",
         "y": [
          29186.269531,
          29160.089844,
          28989.730469,
          null,
          null,
          28535.800781,
          28722.849608999997,
          28734.449219,
          28859.439452999995,
          28256.029297000005,
          null,
          null,
          28399.810547000005,
          28807.630858999997,
          29290.849608999997,
          29379.769531,
          29102.509766000003,
          null,
          null,
          29276.820313,
          29276.339844,
          29551.419922000005,
          29423.310547000005,
          29398.080077999995,
          null,
          null,
          null,
          29232.189452999995,
          29348.029297000005,
          29219.980469,
          28992.410156,
          null,
          null,
          27960.800781,
          27081.359375,
          26957.589844,
          25766.640625,
          25409.359375,
          null,
          null,
          26703.320313,
          25917.410156,
          27090.859375,
          26121.279297,
          25864.779297,
          null
         ],
         "yaxis": "y"
        }
       ],
       "layout": {
        "legend": {
         "tracegroupgap": 0
        },
        "template": {
         "data": {
          "bar": [
           {
            "error_x": {
             "color": "#2a3f5f"
            },
            "error_y": {
             "color": "#2a3f5f"
            },
            "marker": {
             "line": {
              "color": "#E5ECF6",
              "width": 0.5
             }
            },
            "type": "bar"
           }
          ],
          "barpolar": [
           {
            "marker": {
             "line": {
              "color": "#E5ECF6",
              "width": 0.5
             }
            },
            "type": "barpolar"
           }
          ],
          "carpet": [
           {
            "aaxis": {
             "endlinecolor": "#2a3f5f",
             "gridcolor": "white",
             "linecolor": "white",
             "minorgridcolor": "white",
             "startlinecolor": "#2a3f5f"
            },
            "baxis": {
             "endlinecolor": "#2a3f5f",
             "gridcolor": "white",
             "linecolor": "white",
             "minorgridcolor": "white",
             "startlinecolor": "#2a3f5f"
            },
            "type": "carpet"
           }
          ],
          "choropleth": [
           {
            "colorbar": {
             "outlinewidth": 0,
             "ticks": ""
            },
            "type": "choropleth"
           }
          ],
          "contour": [
           {
            "colorbar": {
             "outlinewidth": 0,
             "ticks": ""
            },
            "colorscale": [
             [
              0,
              "#0d0887"
             ],
             [
              0.1111111111111111,
              "#46039f"
             ],
             [
              0.2222222222222222,
              "#7201a8"
             ],
             [
              0.3333333333333333,
              "#9c179e"
             ],
             [
              0.4444444444444444,
              "#bd3786"
             ],
             [
              0.5555555555555556,
              "#d8576b"
             ],
             [
              0.6666666666666666,
              "#ed7953"
             ],
             [
              0.7777777777777778,
              "#fb9f3a"
             ],
             [
              0.8888888888888888,
              "#fdca26"
             ],
             [
              1,
              "#f0f921"
             ]
            ],
            "type": "contour"
           }
          ],
          "contourcarpet": [
           {
            "colorbar": {
             "outlinewidth": 0,
             "ticks": ""
            },
            "type": "contourcarpet"
           }
          ],
          "heatmap": [
           {
            "colorbar": {
             "outlinewidth": 0,
             "ticks": ""
            },
            "colorscale": [
             [
              0,
              "#0d0887"
             ],
             [
              0.1111111111111111,
              "#46039f"
             ],
             [
              0.2222222222222222,
              "#7201a8"
             ],
             [
              0.3333333333333333,
              "#9c179e"
             ],
             [
              0.4444444444444444,
              "#bd3786"
             ],
             [
              0.5555555555555556,
              "#d8576b"
             ],
             [
              0.6666666666666666,
              "#ed7953"
             ],
             [
              0.7777777777777778,
              "#fb9f3a"
             ],
             [
              0.8888888888888888,
              "#fdca26"
             ],
             [
              1,
              "#f0f921"
             ]
            ],
            "type": "heatmap"
           }
          ],
          "heatmapgl": [
           {
            "colorbar": {
             "outlinewidth": 0,
             "ticks": ""
            },
            "colorscale": [
             [
              0,
              "#0d0887"
             ],
             [
              0.1111111111111111,
              "#46039f"
             ],
             [
              0.2222222222222222,
              "#7201a8"
             ],
             [
              0.3333333333333333,
              "#9c179e"
             ],
             [
              0.4444444444444444,
              "#bd3786"
             ],
             [
              0.5555555555555556,
              "#d8576b"
             ],
             [
              0.6666666666666666,
              "#ed7953"
             ],
             [
              0.7777777777777778,
              "#fb9f3a"
             ],
             [
              0.8888888888888888,
              "#fdca26"
             ],
             [
              1,
              "#f0f921"
             ]
            ],
            "type": "heatmapgl"
           }
          ],
          "histogram": [
           {
            "marker": {
             "colorbar": {
              "outlinewidth": 0,
              "ticks": ""
             }
            },
            "type": "histogram"
           }
          ],
          "histogram2d": [
           {
            "colorbar": {
             "outlinewidth": 0,
             "ticks": ""
            },
            "colorscale": [
             [
              0,
              "#0d0887"
             ],
             [
              0.1111111111111111,
              "#46039f"
             ],
             [
              0.2222222222222222,
              "#7201a8"
             ],
             [
              0.3333333333333333,
              "#9c179e"
             ],
             [
              0.4444444444444444,
              "#bd3786"
             ],
             [
              0.5555555555555556,
              "#d8576b"
             ],
             [
              0.6666666666666666,
              "#ed7953"
             ],
             [
              0.7777777777777778,
              "#fb9f3a"
             ],
             [
              0.8888888888888888,
              "#fdca26"
             ],
             [
              1,
              "#f0f921"
             ]
            ],
            "type": "histogram2d"
           }
          ],
          "histogram2dcontour": [
           {
            "colorbar": {
             "outlinewidth": 0,
             "ticks": ""
            },
            "colorscale": [
             [
              0,
              "#0d0887"
             ],
             [
              0.1111111111111111,
              "#46039f"
             ],
             [
              0.2222222222222222,
              "#7201a8"
             ],
             [
              0.3333333333333333,
              "#9c179e"
             ],
             [
              0.4444444444444444,
              "#bd3786"
             ],
             [
              0.5555555555555556,
              "#d8576b"
             ],
             [
              0.6666666666666666,
              "#ed7953"
             ],
             [
              0.7777777777777778,
              "#fb9f3a"
             ],
             [
              0.8888888888888888,
              "#fdca26"
             ],
             [
              1,
              "#f0f921"
             ]
            ],
            "type": "histogram2dcontour"
           }
          ],
          "mesh3d": [
           {
            "colorbar": {
             "outlinewidth": 0,
             "ticks": ""
            },
            "type": "mesh3d"
           }
          ],
          "parcoords": [
           {
            "line": {
             "colorbar": {
              "outlinewidth": 0,
              "ticks": ""
             }
            },
            "type": "parcoords"
           }
          ],
          "pie": [
           {
            "automargin": true,
            "type": "pie"
           }
          ],
          "scatter": [
           {
            "marker": {
             "colorbar": {
              "outlinewidth": 0,
              "ticks": ""
             }
            },
            "type": "scatter"
           }
          ],
          "scatter3d": [
           {
            "line": {
             "colorbar": {
              "outlinewidth": 0,
              "ticks": ""
             }
            },
            "marker": {
             "colorbar": {
              "outlinewidth": 0,
              "ticks": ""
             }
            },
            "type": "scatter3d"
           }
          ],
          "scattercarpet": [
           {
            "marker": {
             "colorbar": {
              "outlinewidth": 0,
              "ticks": ""
             }
            },
            "type": "scattercarpet"
           }
          ],
          "scattergeo": [
           {
            "marker": {
             "colorbar": {
              "outlinewidth": 0,
              "ticks": ""
             }
            },
            "type": "scattergeo"
           }
          ],
          "scattergl": [
           {
            "marker": {
             "colorbar": {
              "outlinewidth": 0,
              "ticks": ""
             }
            },
            "type": "scattergl"
           }
          ],
          "scattermapbox": [
           {
            "marker": {
             "colorbar": {
              "outlinewidth": 0,
              "ticks": ""
             }
            },
            "type": "scattermapbox"
           }
          ],
          "scatterpolar": [
           {
            "marker": {
             "colorbar": {
              "outlinewidth": 0,
              "ticks": ""
             }
            },
            "type": "scatterpolar"
           }
          ],
          "scatterpolargl": [
           {
            "marker": {
             "colorbar": {
              "outlinewidth": 0,
              "ticks": ""
             }
            },
            "type": "scatterpolargl"
           }
          ],
          "scatterternary": [
           {
            "marker": {
             "colorbar": {
              "outlinewidth": 0,
              "ticks": ""
             }
            },
            "type": "scatterternary"
           }
          ],
          "surface": [
           {
            "colorbar": {
             "outlinewidth": 0,
             "ticks": ""
            },
            "colorscale": [
             [
              0,
              "#0d0887"
             ],
             [
              0.1111111111111111,
              "#46039f"
             ],
             [
              0.2222222222222222,
              "#7201a8"
             ],
             [
              0.3333333333333333,
              "#9c179e"
             ],
             [
              0.4444444444444444,
              "#bd3786"
             ],
             [
              0.5555555555555556,
              "#d8576b"
             ],
             [
              0.6666666666666666,
              "#ed7953"
             ],
             [
              0.7777777777777778,
              "#fb9f3a"
             ],
             [
              0.8888888888888888,
              "#fdca26"
             ],
             [
              1,
              "#f0f921"
             ]
            ],
            "type": "surface"
           }
          ],
          "table": [
           {
            "cells": {
             "fill": {
              "color": "#EBF0F8"
             },
             "line": {
              "color": "white"
             }
            },
            "header": {
             "fill": {
              "color": "#C8D4E3"
             },
             "line": {
              "color": "white"
             }
            },
            "type": "table"
           }
          ]
         },
         "layout": {
          "annotationdefaults": {
           "arrowcolor": "#2a3f5f",
           "arrowhead": 0,
           "arrowwidth": 1
          },
          "coloraxis": {
           "colorbar": {
            "outlinewidth": 0,
            "ticks": ""
           }
          },
          "colorscale": {
           "diverging": [
            [
             0,
             "#8e0152"
            ],
            [
             0.1,
             "#c51b7d"
            ],
            [
             0.2,
             "#de77ae"
            ],
            [
             0.3,
             "#f1b6da"
            ],
            [
             0.4,
             "#fde0ef"
            ],
            [
             0.5,
             "#f7f7f7"
            ],
            [
             0.6,
             "#e6f5d0"
            ],
            [
             0.7,
             "#b8e186"
            ],
            [
             0.8,
             "#7fbc41"
            ],
            [
             0.9,
             "#4d9221"
            ],
            [
             1,
             "#276419"
            ]
           ],
           "sequential": [
            [
             0,
             "#0d0887"
            ],
            [
             0.1111111111111111,
             "#46039f"
            ],
            [
             0.2222222222222222,
             "#7201a8"
            ],
            [
             0.3333333333333333,
             "#9c179e"
            ],
            [
             0.4444444444444444,
             "#bd3786"
            ],
            [
             0.5555555555555556,
             "#d8576b"
            ],
            [
             0.6666666666666666,
             "#ed7953"
            ],
            [
             0.7777777777777778,
             "#fb9f3a"
            ],
            [
             0.8888888888888888,
             "#fdca26"
            ],
            [
             1,
             "#f0f921"
            ]
           ],
           "sequentialminus": [
            [
             0,
             "#0d0887"
            ],
            [
             0.1111111111111111,
             "#46039f"
            ],
            [
             0.2222222222222222,
             "#7201a8"
            ],
            [
             0.3333333333333333,
             "#9c179e"
            ],
            [
             0.4444444444444444,
             "#bd3786"
            ],
            [
             0.5555555555555556,
             "#d8576b"
            ],
            [
             0.6666666666666666,
             "#ed7953"
            ],
            [
             0.7777777777777778,
             "#fb9f3a"
            ],
            [
             0.8888888888888888,
             "#fdca26"
            ],
            [
             1,
             "#f0f921"
            ]
           ]
          },
          "colorway": [
           "#636efa",
           "#EF553B",
           "#00cc96",
           "#ab63fa",
           "#FFA15A",
           "#19d3f3",
           "#FF6692",
           "#B6E880",
           "#FF97FF",
           "#FECB52"
          ],
          "font": {
           "color": "#2a3f5f"
          },
          "geo": {
           "bgcolor": "white",
           "lakecolor": "white",
           "landcolor": "#E5ECF6",
           "showlakes": true,
           "showland": true,
           "subunitcolor": "white"
          },
          "hoverlabel": {
           "align": "left"
          },
          "hovermode": "closest",
          "mapbox": {
           "style": "light"
          },
          "paper_bgcolor": "white",
          "plot_bgcolor": "#E5ECF6",
          "polar": {
           "angularaxis": {
            "gridcolor": "white",
            "linecolor": "white",
            "ticks": ""
           },
           "bgcolor": "#E5ECF6",
           "radialaxis": {
            "gridcolor": "white",
            "linecolor": "white",
            "ticks": ""
           }
          },
          "scene": {
           "xaxis": {
            "backgroundcolor": "#E5ECF6",
            "gridcolor": "white",
            "gridwidth": 2,
            "linecolor": "white",
            "showbackground": true,
            "ticks": "",
            "zerolinecolor": "white"
           },
           "yaxis": {
            "backgroundcolor": "#E5ECF6",
            "gridcolor": "white",
            "gridwidth": 2,
            "linecolor": "white",
            "showbackground": true,
            "ticks": "",
            "zerolinecolor": "white"
           },
           "zaxis": {
            "backgroundcolor": "#E5ECF6",
            "gridcolor": "white",
            "gridwidth": 2,
            "linecolor": "white",
            "showbackground": true,
            "ticks": "",
            "zerolinecolor": "white"
           }
          },
          "shapedefaults": {
           "line": {
            "color": "#2a3f5f"
           }
          },
          "ternary": {
           "aaxis": {
            "gridcolor": "white",
            "linecolor": "white",
            "ticks": ""
           },
           "baxis": {
            "gridcolor": "white",
            "linecolor": "white",
            "ticks": ""
           },
           "bgcolor": "#E5ECF6",
           "caxis": {
            "gridcolor": "white",
            "linecolor": "white",
            "ticks": ""
           }
          },
          "title": {
           "x": 0.05
          },
          "xaxis": {
           "automargin": true,
           "gridcolor": "white",
           "linecolor": "white",
           "ticks": "",
           "title": {
            "standoff": 15
           },
           "zerolinecolor": "white",
           "zerolinewidth": 2
          },
          "yaxis": {
           "automargin": true,
           "gridcolor": "white",
           "linecolor": "white",
           "ticks": "",
           "title": {
            "standoff": 15
           },
           "zerolinecolor": "white",
           "zerolinewidth": 2
          }
         }
        },
        "title": {
         "text": "DJIA vs Deaths US Cases"
        },
        "xaxis": {
         "anchor": "y",
         "domain": [
          0,
          1
         ],
         "title": {
          "text": "Count"
         }
        },
        "yaxis": {
         "anchor": "x",
         "domain": [
          0,
          1
         ],
         "title": {
          "text": "Adj Close"
         }
        }
       }
      },
      "text/html": [
       "<div>\n",
       "        \n",
       "        \n",
       "            <div id=\"ec9dc9b8-4eb3-4ea8-8d55-c96e49bb06c7\" class=\"plotly-graph-div\" style=\"height:525px; width:100%;\"></div>\n",
       "            <script type=\"text/javascript\">\n",
       "                require([\"plotly\"], function(Plotly) {\n",
       "                    window.PLOTLYENV=window.PLOTLYENV || {};\n",
       "                    \n",
       "                if (document.getElementById(\"ec9dc9b8-4eb3-4ea8-8d55-c96e49bb06c7\")) {\n",
       "                    Plotly.newPlot(\n",
       "                        'ec9dc9b8-4eb3-4ea8-8d55-c96e49bb06c7',\n",
       "                        [{\"hoverlabel\": {\"namelength\": 0}, \"hovertemplate\": \"Count=%{x}<br>Adj Close=%{y}\", \"legendgroup\": \"\", \"marker\": {\"color\": \"#636efa\", \"symbol\": \"circle\"}, \"mode\": \"markers\", \"name\": \"\", \"showlegend\": false, \"type\": \"scatter\", \"x\": [0, 0, 0, 0, 0, 0, 0, 0, 0, 0, 0, 0, 0, 0, 0, 0, 0, 0, 0, 0, 0, 0, 0, 0, 0, 0, 0, 0, 0, 0, 0, 0, 0, 0, 0, 0, 0, 0, 1, 1, 6, 7, 11, 12, 14, 17], \"xaxis\": \"x\", \"y\": [29186.269531, 29160.089844, 28989.730469, null, null, 28535.800781, 28722.849608999997, 28734.449219, 28859.439452999995, 28256.029297000005, null, null, 28399.810547000005, 28807.630858999997, 29290.849608999997, 29379.769531, 29102.509766000003, null, null, 29276.820313, 29276.339844, 29551.419922000005, 29423.310547000005, 29398.080077999995, null, null, null, 29232.189452999995, 29348.029297000005, 29219.980469, 28992.410156, null, null, 27960.800781, 27081.359375, 26957.589844, 25766.640625, 25409.359375, null, null, 26703.320313, 25917.410156, 27090.859375, 26121.279297, 25864.779297, null], \"yaxis\": \"y\"}],\n",
       "                        {\"legend\": {\"tracegroupgap\": 0}, \"template\": {\"data\": {\"bar\": [{\"error_x\": {\"color\": \"#2a3f5f\"}, \"error_y\": {\"color\": \"#2a3f5f\"}, \"marker\": {\"line\": {\"color\": \"#E5ECF6\", \"width\": 0.5}}, \"type\": \"bar\"}], \"barpolar\": [{\"marker\": {\"line\": {\"color\": \"#E5ECF6\", \"width\": 0.5}}, \"type\": \"barpolar\"}], \"carpet\": [{\"aaxis\": {\"endlinecolor\": \"#2a3f5f\", \"gridcolor\": \"white\", \"linecolor\": \"white\", \"minorgridcolor\": \"white\", \"startlinecolor\": \"#2a3f5f\"}, \"baxis\": {\"endlinecolor\": \"#2a3f5f\", \"gridcolor\": \"white\", \"linecolor\": \"white\", \"minorgridcolor\": \"white\", \"startlinecolor\": \"#2a3f5f\"}, \"type\": \"carpet\"}], \"choropleth\": [{\"colorbar\": {\"outlinewidth\": 0, \"ticks\": \"\"}, \"type\": \"choropleth\"}], \"contour\": [{\"colorbar\": {\"outlinewidth\": 0, \"ticks\": \"\"}, \"colorscale\": [[0.0, \"#0d0887\"], [0.1111111111111111, \"#46039f\"], [0.2222222222222222, \"#7201a8\"], [0.3333333333333333, \"#9c179e\"], [0.4444444444444444, \"#bd3786\"], [0.5555555555555556, \"#d8576b\"], [0.6666666666666666, \"#ed7953\"], [0.7777777777777778, \"#fb9f3a\"], [0.8888888888888888, \"#fdca26\"], [1.0, \"#f0f921\"]], \"type\": \"contour\"}], \"contourcarpet\": [{\"colorbar\": {\"outlinewidth\": 0, \"ticks\": \"\"}, \"type\": \"contourcarpet\"}], \"heatmap\": [{\"colorbar\": {\"outlinewidth\": 0, \"ticks\": \"\"}, \"colorscale\": [[0.0, \"#0d0887\"], [0.1111111111111111, \"#46039f\"], [0.2222222222222222, \"#7201a8\"], [0.3333333333333333, \"#9c179e\"], [0.4444444444444444, \"#bd3786\"], [0.5555555555555556, \"#d8576b\"], [0.6666666666666666, \"#ed7953\"], [0.7777777777777778, \"#fb9f3a\"], [0.8888888888888888, \"#fdca26\"], [1.0, \"#f0f921\"]], \"type\": \"heatmap\"}], \"heatmapgl\": [{\"colorbar\": {\"outlinewidth\": 0, \"ticks\": \"\"}, \"colorscale\": [[0.0, \"#0d0887\"], [0.1111111111111111, \"#46039f\"], [0.2222222222222222, \"#7201a8\"], [0.3333333333333333, \"#9c179e\"], [0.4444444444444444, \"#bd3786\"], [0.5555555555555556, \"#d8576b\"], [0.6666666666666666, \"#ed7953\"], [0.7777777777777778, \"#fb9f3a\"], [0.8888888888888888, \"#fdca26\"], [1.0, \"#f0f921\"]], \"type\": \"heatmapgl\"}], \"histogram\": [{\"marker\": {\"colorbar\": {\"outlinewidth\": 0, \"ticks\": \"\"}}, \"type\": \"histogram\"}], \"histogram2d\": [{\"colorbar\": {\"outlinewidth\": 0, \"ticks\": \"\"}, \"colorscale\": [[0.0, \"#0d0887\"], [0.1111111111111111, \"#46039f\"], [0.2222222222222222, \"#7201a8\"], [0.3333333333333333, \"#9c179e\"], [0.4444444444444444, \"#bd3786\"], [0.5555555555555556, \"#d8576b\"], [0.6666666666666666, \"#ed7953\"], [0.7777777777777778, \"#fb9f3a\"], [0.8888888888888888, \"#fdca26\"], [1.0, \"#f0f921\"]], \"type\": \"histogram2d\"}], \"histogram2dcontour\": [{\"colorbar\": {\"outlinewidth\": 0, \"ticks\": \"\"}, \"colorscale\": [[0.0, \"#0d0887\"], [0.1111111111111111, \"#46039f\"], [0.2222222222222222, \"#7201a8\"], [0.3333333333333333, \"#9c179e\"], [0.4444444444444444, \"#bd3786\"], [0.5555555555555556, \"#d8576b\"], [0.6666666666666666, \"#ed7953\"], [0.7777777777777778, \"#fb9f3a\"], [0.8888888888888888, \"#fdca26\"], [1.0, \"#f0f921\"]], \"type\": \"histogram2dcontour\"}], \"mesh3d\": [{\"colorbar\": {\"outlinewidth\": 0, \"ticks\": \"\"}, \"type\": \"mesh3d\"}], \"parcoords\": [{\"line\": {\"colorbar\": {\"outlinewidth\": 0, \"ticks\": \"\"}}, \"type\": \"parcoords\"}], \"pie\": [{\"automargin\": true, \"type\": \"pie\"}], \"scatter\": [{\"marker\": {\"colorbar\": {\"outlinewidth\": 0, \"ticks\": \"\"}}, \"type\": \"scatter\"}], \"scatter3d\": [{\"line\": {\"colorbar\": {\"outlinewidth\": 0, \"ticks\": \"\"}}, \"marker\": {\"colorbar\": {\"outlinewidth\": 0, \"ticks\": \"\"}}, \"type\": \"scatter3d\"}], \"scattercarpet\": [{\"marker\": {\"colorbar\": {\"outlinewidth\": 0, \"ticks\": \"\"}}, \"type\": \"scattercarpet\"}], \"scattergeo\": [{\"marker\": {\"colorbar\": {\"outlinewidth\": 0, \"ticks\": \"\"}}, \"type\": \"scattergeo\"}], \"scattergl\": [{\"marker\": {\"colorbar\": {\"outlinewidth\": 0, \"ticks\": \"\"}}, \"type\": \"scattergl\"}], \"scattermapbox\": [{\"marker\": {\"colorbar\": {\"outlinewidth\": 0, \"ticks\": \"\"}}, \"type\": \"scattermapbox\"}], \"scatterpolar\": [{\"marker\": {\"colorbar\": {\"outlinewidth\": 0, \"ticks\": \"\"}}, \"type\": \"scatterpolar\"}], \"scatterpolargl\": [{\"marker\": {\"colorbar\": {\"outlinewidth\": 0, \"ticks\": \"\"}}, \"type\": \"scatterpolargl\"}], \"scatterternary\": [{\"marker\": {\"colorbar\": {\"outlinewidth\": 0, \"ticks\": \"\"}}, \"type\": \"scatterternary\"}], \"surface\": [{\"colorbar\": {\"outlinewidth\": 0, \"ticks\": \"\"}, \"colorscale\": [[0.0, \"#0d0887\"], [0.1111111111111111, \"#46039f\"], [0.2222222222222222, \"#7201a8\"], [0.3333333333333333, \"#9c179e\"], [0.4444444444444444, \"#bd3786\"], [0.5555555555555556, \"#d8576b\"], [0.6666666666666666, \"#ed7953\"], [0.7777777777777778, \"#fb9f3a\"], [0.8888888888888888, \"#fdca26\"], [1.0, \"#f0f921\"]], \"type\": \"surface\"}], \"table\": [{\"cells\": {\"fill\": {\"color\": \"#EBF0F8\"}, \"line\": {\"color\": \"white\"}}, \"header\": {\"fill\": {\"color\": \"#C8D4E3\"}, \"line\": {\"color\": \"white\"}}, \"type\": \"table\"}]}, \"layout\": {\"annotationdefaults\": {\"arrowcolor\": \"#2a3f5f\", \"arrowhead\": 0, \"arrowwidth\": 1}, \"coloraxis\": {\"colorbar\": {\"outlinewidth\": 0, \"ticks\": \"\"}}, \"colorscale\": {\"diverging\": [[0, \"#8e0152\"], [0.1, \"#c51b7d\"], [0.2, \"#de77ae\"], [0.3, \"#f1b6da\"], [0.4, \"#fde0ef\"], [0.5, \"#f7f7f7\"], [0.6, \"#e6f5d0\"], [0.7, \"#b8e186\"], [0.8, \"#7fbc41\"], [0.9, \"#4d9221\"], [1, \"#276419\"]], \"sequential\": [[0.0, \"#0d0887\"], [0.1111111111111111, \"#46039f\"], [0.2222222222222222, \"#7201a8\"], [0.3333333333333333, \"#9c179e\"], [0.4444444444444444, \"#bd3786\"], [0.5555555555555556, \"#d8576b\"], [0.6666666666666666, \"#ed7953\"], [0.7777777777777778, \"#fb9f3a\"], [0.8888888888888888, \"#fdca26\"], [1.0, \"#f0f921\"]], \"sequentialminus\": [[0.0, \"#0d0887\"], [0.1111111111111111, \"#46039f\"], [0.2222222222222222, \"#7201a8\"], [0.3333333333333333, \"#9c179e\"], [0.4444444444444444, \"#bd3786\"], [0.5555555555555556, \"#d8576b\"], [0.6666666666666666, \"#ed7953\"], [0.7777777777777778, \"#fb9f3a\"], [0.8888888888888888, \"#fdca26\"], [1.0, \"#f0f921\"]]}, \"colorway\": [\"#636efa\", \"#EF553B\", \"#00cc96\", \"#ab63fa\", \"#FFA15A\", \"#19d3f3\", \"#FF6692\", \"#B6E880\", \"#FF97FF\", \"#FECB52\"], \"font\": {\"color\": \"#2a3f5f\"}, \"geo\": {\"bgcolor\": \"white\", \"lakecolor\": \"white\", \"landcolor\": \"#E5ECF6\", \"showlakes\": true, \"showland\": true, \"subunitcolor\": \"white\"}, \"hoverlabel\": {\"align\": \"left\"}, \"hovermode\": \"closest\", \"mapbox\": {\"style\": \"light\"}, \"paper_bgcolor\": \"white\", \"plot_bgcolor\": \"#E5ECF6\", \"polar\": {\"angularaxis\": {\"gridcolor\": \"white\", \"linecolor\": \"white\", \"ticks\": \"\"}, \"bgcolor\": \"#E5ECF6\", \"radialaxis\": {\"gridcolor\": \"white\", \"linecolor\": \"white\", \"ticks\": \"\"}}, \"scene\": {\"xaxis\": {\"backgroundcolor\": \"#E5ECF6\", \"gridcolor\": \"white\", \"gridwidth\": 2, \"linecolor\": \"white\", \"showbackground\": true, \"ticks\": \"\", \"zerolinecolor\": \"white\"}, \"yaxis\": {\"backgroundcolor\": \"#E5ECF6\", \"gridcolor\": \"white\", \"gridwidth\": 2, \"linecolor\": \"white\", \"showbackground\": true, \"ticks\": \"\", \"zerolinecolor\": \"white\"}, \"zaxis\": {\"backgroundcolor\": \"#E5ECF6\", \"gridcolor\": \"white\", \"gridwidth\": 2, \"linecolor\": \"white\", \"showbackground\": true, \"ticks\": \"\", \"zerolinecolor\": \"white\"}}, \"shapedefaults\": {\"line\": {\"color\": \"#2a3f5f\"}}, \"ternary\": {\"aaxis\": {\"gridcolor\": \"white\", \"linecolor\": \"white\", \"ticks\": \"\"}, \"baxis\": {\"gridcolor\": \"white\", \"linecolor\": \"white\", \"ticks\": \"\"}, \"bgcolor\": \"#E5ECF6\", \"caxis\": {\"gridcolor\": \"white\", \"linecolor\": \"white\", \"ticks\": \"\"}}, \"title\": {\"x\": 0.05}, \"xaxis\": {\"automargin\": true, \"gridcolor\": \"white\", \"linecolor\": \"white\", \"ticks\": \"\", \"title\": {\"standoff\": 15}, \"zerolinecolor\": \"white\", \"zerolinewidth\": 2}, \"yaxis\": {\"automargin\": true, \"gridcolor\": \"white\", \"linecolor\": \"white\", \"ticks\": \"\", \"title\": {\"standoff\": 15}, \"zerolinecolor\": \"white\", \"zerolinewidth\": 2}}}, \"title\": {\"text\": \"DJIA vs Deaths US Cases\"}, \"xaxis\": {\"anchor\": \"y\", \"domain\": [0.0, 1.0], \"title\": {\"text\": \"Count\"}}, \"yaxis\": {\"anchor\": \"x\", \"domain\": [0.0, 1.0], \"title\": {\"text\": \"Adj Close\"}}},\n",
       "                        {\"responsive\": true}\n",
       "                    ).then(function(){\n",
       "                            \n",
       "var gd = document.getElementById('ec9dc9b8-4eb3-4ea8-8d55-c96e49bb06c7');\n",
       "var x = new MutationObserver(function (mutations, observer) {{\n",
       "        var display = window.getComputedStyle(gd).display;\n",
       "        if (!display || display === 'none') {{\n",
       "            console.log([gd, 'removed!']);\n",
       "            Plotly.purge(gd);\n",
       "            observer.disconnect();\n",
       "        }}\n",
       "}});\n",
       "\n",
       "// Listen for the removal of the full notebook cells\n",
       "var notebookContainer = gd.closest('#notebook-container');\n",
       "if (notebookContainer) {{\n",
       "    x.observe(notebookContainer, {childList: true});\n",
       "}}\n",
       "\n",
       "// Listen for the clearing of the current output cell\n",
       "var outputEl = gd.closest('.output');\n",
       "if (outputEl) {{\n",
       "    x.observe(outputEl, {childList: true});\n",
       "}}\n",
       "\n",
       "                        })\n",
       "                };\n",
       "                });\n",
       "            </script>\n",
       "        </div>"
      ]
     },
     "metadata": {},
     "output_type": "display_data"
    }
   ],
   "source": [
    "plot_df = tidy_df[(tidy_df['Type']=='Deaths')&(tidy_df['US']=='US')]\n",
    "\n",
    "px.scatter(plot_df, x='Count', y='Adj Close', title='DJIA vs Deaths US Cases')"
   ]
  },
  {
   "cell_type": "code",
   "execution_count": null,
   "metadata": {},
   "outputs": [],
   "source": []
  },
  {
   "cell_type": "code",
   "execution_count": null,
   "metadata": {},
   "outputs": [],
   "source": []
  },
  {
   "cell_type": "code",
   "execution_count": 60,
   "metadata": {},
   "outputs": [
    {
     "data": {
      "application/vnd.plotly.v1+json": {
       "config": {
        "plotlyServerURL": "https://plot.ly"
       },
       "data": [
        {
         "mode": "markers",
         "name": "# Cases",
         "type": "scatter",
         "x": [
          "2020-01-22T00:00:00",
          "2020-01-23T00:00:00",
          "2020-01-24T00:00:00",
          "2020-01-25T00:00:00",
          "2020-01-26T00:00:00",
          "2020-01-27T00:00:00",
          "2020-01-28T00:00:00",
          "2020-01-29T00:00:00",
          "2020-01-30T00:00:00",
          "2020-01-31T00:00:00",
          "2020-02-01T00:00:00",
          "2020-02-02T00:00:00",
          "2020-02-03T00:00:00",
          "2020-02-04T00:00:00",
          "2020-02-05T00:00:00",
          "2020-02-06T00:00:00",
          "2020-02-07T00:00:00",
          "2020-02-08T00:00:00",
          "2020-02-09T00:00:00",
          "2020-02-10T00:00:00",
          "2020-02-11T00:00:00",
          "2020-02-12T00:00:00",
          "2020-02-13T00:00:00",
          "2020-02-14T00:00:00",
          "2020-02-15T00:00:00",
          "2020-02-16T00:00:00",
          "2020-02-17T00:00:00",
          "2020-02-18T00:00:00",
          "2020-02-19T00:00:00",
          "2020-02-20T00:00:00",
          "2020-02-21T00:00:00",
          "2020-02-22T00:00:00",
          "2020-02-23T00:00:00",
          "2020-02-24T00:00:00",
          "2020-02-25T00:00:00",
          "2020-02-26T00:00:00",
          "2020-02-27T00:00:00",
          "2020-02-28T00:00:00",
          "2020-02-29T00:00:00",
          "2020-03-01T00:00:00",
          "2020-03-02T00:00:00",
          "2020-03-03T00:00:00",
          "2020-03-04T00:00:00",
          "2020-03-05T00:00:00",
          "2020-03-06T00:00:00",
          "2020-03-07T00:00:00"
         ],
         "xaxis": "x",
         "y": [
          1,
          1,
          2,
          2,
          5,
          5,
          5,
          5,
          5,
          7,
          8,
          8,
          11,
          11,
          12,
          12,
          12,
          12,
          12,
          12,
          13,
          13,
          15,
          15,
          15,
          15,
          15,
          15,
          15,
          15,
          35,
          35,
          35,
          53,
          53,
          59,
          60,
          62,
          70,
          76,
          101,
          121,
          152,
          220,
          277,
          417
         ],
         "yaxis": "y"
        },
        {
         "mode": "markers",
         "name": "DJIA Close",
         "type": "scatter",
         "x": [
          "2020-01-22T00:00:00",
          "2020-01-23T00:00:00",
          "2020-01-24T00:00:00",
          "2020-01-25T00:00:00",
          "2020-01-26T00:00:00",
          "2020-01-27T00:00:00",
          "2020-01-28T00:00:00",
          "2020-01-29T00:00:00",
          "2020-01-30T00:00:00",
          "2020-01-31T00:00:00",
          "2020-02-01T00:00:00",
          "2020-02-02T00:00:00",
          "2020-02-03T00:00:00",
          "2020-02-04T00:00:00",
          "2020-02-05T00:00:00",
          "2020-02-06T00:00:00",
          "2020-02-07T00:00:00",
          "2020-02-08T00:00:00",
          "2020-02-09T00:00:00",
          "2020-02-10T00:00:00",
          "2020-02-11T00:00:00",
          "2020-02-12T00:00:00",
          "2020-02-13T00:00:00",
          "2020-02-14T00:00:00",
          "2020-02-15T00:00:00",
          "2020-02-16T00:00:00",
          "2020-02-17T00:00:00",
          "2020-02-18T00:00:00",
          "2020-02-19T00:00:00",
          "2020-02-20T00:00:00",
          "2020-02-21T00:00:00",
          "2020-02-22T00:00:00",
          "2020-02-23T00:00:00",
          "2020-02-24T00:00:00",
          "2020-02-25T00:00:00",
          "2020-02-26T00:00:00",
          "2020-02-27T00:00:00",
          "2020-02-28T00:00:00",
          "2020-02-29T00:00:00",
          "2020-03-01T00:00:00",
          "2020-03-02T00:00:00",
          "2020-03-03T00:00:00",
          "2020-03-04T00:00:00",
          "2020-03-05T00:00:00",
          "2020-03-06T00:00:00",
          "2020-03-07T00:00:00"
         ],
         "xaxis": "x",
         "y": [
          29186.269531,
          29160.089844,
          28989.730469,
          null,
          null,
          28535.800781,
          28722.849608999997,
          28734.449219,
          28859.439452999995,
          28256.029297000005,
          null,
          null,
          28399.810547000005,
          28807.630858999997,
          29290.849608999997,
          29379.769531,
          29102.509766000003,
          null,
          null,
          29276.820313,
          29276.339844,
          29551.419922000005,
          29423.310547000005,
          29398.080077999995,
          null,
          null,
          null,
          29232.189452999995,
          29348.029297000005,
          29219.980469,
          28992.410156,
          null,
          null,
          27960.800781,
          27081.359375,
          26957.589844,
          25766.640625,
          25409.359375,
          null,
          null,
          26703.320313,
          25917.410156,
          27090.859375,
          26121.279297,
          25864.779297,
          null
         ],
         "yaxis": "y2"
        },
        {
         "mode": "markers",
         "name": "DJIA Open",
         "type": "scatter",
         "x": [
          "2020-01-22T00:00:00",
          "2020-01-23T00:00:00",
          "2020-01-24T00:00:00",
          "2020-01-25T00:00:00",
          "2020-01-26T00:00:00",
          "2020-01-27T00:00:00",
          "2020-01-28T00:00:00",
          "2020-01-29T00:00:00",
          "2020-01-30T00:00:00",
          "2020-01-31T00:00:00",
          "2020-02-01T00:00:00",
          "2020-02-02T00:00:00",
          "2020-02-03T00:00:00",
          "2020-02-04T00:00:00",
          "2020-02-05T00:00:00",
          "2020-02-06T00:00:00",
          "2020-02-07T00:00:00",
          "2020-02-08T00:00:00",
          "2020-02-09T00:00:00",
          "2020-02-10T00:00:00",
          "2020-02-11T00:00:00",
          "2020-02-12T00:00:00",
          "2020-02-13T00:00:00",
          "2020-02-14T00:00:00",
          "2020-02-15T00:00:00",
          "2020-02-16T00:00:00",
          "2020-02-17T00:00:00",
          "2020-02-18T00:00:00",
          "2020-02-19T00:00:00",
          "2020-02-20T00:00:00",
          "2020-02-21T00:00:00",
          "2020-02-22T00:00:00",
          "2020-02-23T00:00:00",
          "2020-02-24T00:00:00",
          "2020-02-25T00:00:00",
          "2020-02-26T00:00:00",
          "2020-02-27T00:00:00",
          "2020-02-28T00:00:00",
          "2020-02-29T00:00:00",
          "2020-03-01T00:00:00",
          "2020-03-02T00:00:00",
          "2020-03-03T00:00:00",
          "2020-03-04T00:00:00",
          "2020-03-05T00:00:00",
          "2020-03-06T00:00:00",
          "2020-03-07T00:00:00"
         ],
         "xaxis": "x",
         "y": [
          29263.630858999997,
          29111.019531,
          29230.390625,
          null,
          null,
          28542.490233999997,
          28594.279297000005,
          28820.529297000005,
          28640.160156,
          28813.039063,
          null,
          null,
          28319.650391000003,
          28696.740233999997,
          29048.730469,
          29388.580077999995,
          29286.919922000005,
          null,
          null,
          28995.660156,
          29390.710938,
          29406.75,
          29436.029297000005,
          29440.470702999995,
          null,
          null,
          null,
          29282.779297000005,
          29312.699219,
          29296.25,
          29146.529297000005,
          null,
          null,
          28402.929688,
          28037.650391000003,
          27159.460938,
          26526,
          25270.830078,
          null,
          null,
          25590.509766,
          26762.470703,
          26383.679688,
          26671.919922,
          25457.210938,
          null
         ],
         "yaxis": "y2"
        }
       ],
       "layout": {
        "template": {
         "data": {
          "bar": [
           {
            "error_x": {
             "color": "#2a3f5f"
            },
            "error_y": {
             "color": "#2a3f5f"
            },
            "marker": {
             "line": {
              "color": "#E5ECF6",
              "width": 0.5
             }
            },
            "type": "bar"
           }
          ],
          "barpolar": [
           {
            "marker": {
             "line": {
              "color": "#E5ECF6",
              "width": 0.5
             }
            },
            "type": "barpolar"
           }
          ],
          "carpet": [
           {
            "aaxis": {
             "endlinecolor": "#2a3f5f",
             "gridcolor": "white",
             "linecolor": "white",
             "minorgridcolor": "white",
             "startlinecolor": "#2a3f5f"
            },
            "baxis": {
             "endlinecolor": "#2a3f5f",
             "gridcolor": "white",
             "linecolor": "white",
             "minorgridcolor": "white",
             "startlinecolor": "#2a3f5f"
            },
            "type": "carpet"
           }
          ],
          "choropleth": [
           {
            "colorbar": {
             "outlinewidth": 0,
             "ticks": ""
            },
            "type": "choropleth"
           }
          ],
          "contour": [
           {
            "colorbar": {
             "outlinewidth": 0,
             "ticks": ""
            },
            "colorscale": [
             [
              0,
              "#0d0887"
             ],
             [
              0.1111111111111111,
              "#46039f"
             ],
             [
              0.2222222222222222,
              "#7201a8"
             ],
             [
              0.3333333333333333,
              "#9c179e"
             ],
             [
              0.4444444444444444,
              "#bd3786"
             ],
             [
              0.5555555555555556,
              "#d8576b"
             ],
             [
              0.6666666666666666,
              "#ed7953"
             ],
             [
              0.7777777777777778,
              "#fb9f3a"
             ],
             [
              0.8888888888888888,
              "#fdca26"
             ],
             [
              1,
              "#f0f921"
             ]
            ],
            "type": "contour"
           }
          ],
          "contourcarpet": [
           {
            "colorbar": {
             "outlinewidth": 0,
             "ticks": ""
            },
            "type": "contourcarpet"
           }
          ],
          "heatmap": [
           {
            "colorbar": {
             "outlinewidth": 0,
             "ticks": ""
            },
            "colorscale": [
             [
              0,
              "#0d0887"
             ],
             [
              0.1111111111111111,
              "#46039f"
             ],
             [
              0.2222222222222222,
              "#7201a8"
             ],
             [
              0.3333333333333333,
              "#9c179e"
             ],
             [
              0.4444444444444444,
              "#bd3786"
             ],
             [
              0.5555555555555556,
              "#d8576b"
             ],
             [
              0.6666666666666666,
              "#ed7953"
             ],
             [
              0.7777777777777778,
              "#fb9f3a"
             ],
             [
              0.8888888888888888,
              "#fdca26"
             ],
             [
              1,
              "#f0f921"
             ]
            ],
            "type": "heatmap"
           }
          ],
          "heatmapgl": [
           {
            "colorbar": {
             "outlinewidth": 0,
             "ticks": ""
            },
            "colorscale": [
             [
              0,
              "#0d0887"
             ],
             [
              0.1111111111111111,
              "#46039f"
             ],
             [
              0.2222222222222222,
              "#7201a8"
             ],
             [
              0.3333333333333333,
              "#9c179e"
             ],
             [
              0.4444444444444444,
              "#bd3786"
             ],
             [
              0.5555555555555556,
              "#d8576b"
             ],
             [
              0.6666666666666666,
              "#ed7953"
             ],
             [
              0.7777777777777778,
              "#fb9f3a"
             ],
             [
              0.8888888888888888,
              "#fdca26"
             ],
             [
              1,
              "#f0f921"
             ]
            ],
            "type": "heatmapgl"
           }
          ],
          "histogram": [
           {
            "marker": {
             "colorbar": {
              "outlinewidth": 0,
              "ticks": ""
             }
            },
            "type": "histogram"
           }
          ],
          "histogram2d": [
           {
            "colorbar": {
             "outlinewidth": 0,
             "ticks": ""
            },
            "colorscale": [
             [
              0,
              "#0d0887"
             ],
             [
              0.1111111111111111,
              "#46039f"
             ],
             [
              0.2222222222222222,
              "#7201a8"
             ],
             [
              0.3333333333333333,
              "#9c179e"
             ],
             [
              0.4444444444444444,
              "#bd3786"
             ],
             [
              0.5555555555555556,
              "#d8576b"
             ],
             [
              0.6666666666666666,
              "#ed7953"
             ],
             [
              0.7777777777777778,
              "#fb9f3a"
             ],
             [
              0.8888888888888888,
              "#fdca26"
             ],
             [
              1,
              "#f0f921"
             ]
            ],
            "type": "histogram2d"
           }
          ],
          "histogram2dcontour": [
           {
            "colorbar": {
             "outlinewidth": 0,
             "ticks": ""
            },
            "colorscale": [
             [
              0,
              "#0d0887"
             ],
             [
              0.1111111111111111,
              "#46039f"
             ],
             [
              0.2222222222222222,
              "#7201a8"
             ],
             [
              0.3333333333333333,
              "#9c179e"
             ],
             [
              0.4444444444444444,
              "#bd3786"
             ],
             [
              0.5555555555555556,
              "#d8576b"
             ],
             [
              0.6666666666666666,
              "#ed7953"
             ],
             [
              0.7777777777777778,
              "#fb9f3a"
             ],
             [
              0.8888888888888888,
              "#fdca26"
             ],
             [
              1,
              "#f0f921"
             ]
            ],
            "type": "histogram2dcontour"
           }
          ],
          "mesh3d": [
           {
            "colorbar": {
             "outlinewidth": 0,
             "ticks": ""
            },
            "type": "mesh3d"
           }
          ],
          "parcoords": [
           {
            "line": {
             "colorbar": {
              "outlinewidth": 0,
              "ticks": ""
             }
            },
            "type": "parcoords"
           }
          ],
          "pie": [
           {
            "automargin": true,
            "type": "pie"
           }
          ],
          "scatter": [
           {
            "marker": {
             "colorbar": {
              "outlinewidth": 0,
              "ticks": ""
             }
            },
            "type": "scatter"
           }
          ],
          "scatter3d": [
           {
            "line": {
             "colorbar": {
              "outlinewidth": 0,
              "ticks": ""
             }
            },
            "marker": {
             "colorbar": {
              "outlinewidth": 0,
              "ticks": ""
             }
            },
            "type": "scatter3d"
           }
          ],
          "scattercarpet": [
           {
            "marker": {
             "colorbar": {
              "outlinewidth": 0,
              "ticks": ""
             }
            },
            "type": "scattercarpet"
           }
          ],
          "scattergeo": [
           {
            "marker": {
             "colorbar": {
              "outlinewidth": 0,
              "ticks": ""
             }
            },
            "type": "scattergeo"
           }
          ],
          "scattergl": [
           {
            "marker": {
             "colorbar": {
              "outlinewidth": 0,
              "ticks": ""
             }
            },
            "type": "scattergl"
           }
          ],
          "scattermapbox": [
           {
            "marker": {
             "colorbar": {
              "outlinewidth": 0,
              "ticks": ""
             }
            },
            "type": "scattermapbox"
           }
          ],
          "scatterpolar": [
           {
            "marker": {
             "colorbar": {
              "outlinewidth": 0,
              "ticks": ""
             }
            },
            "type": "scatterpolar"
           }
          ],
          "scatterpolargl": [
           {
            "marker": {
             "colorbar": {
              "outlinewidth": 0,
              "ticks": ""
             }
            },
            "type": "scatterpolargl"
           }
          ],
          "scatterternary": [
           {
            "marker": {
             "colorbar": {
              "outlinewidth": 0,
              "ticks": ""
             }
            },
            "type": "scatterternary"
           }
          ],
          "surface": [
           {
            "colorbar": {
             "outlinewidth": 0,
             "ticks": ""
            },
            "colorscale": [
             [
              0,
              "#0d0887"
             ],
             [
              0.1111111111111111,
              "#46039f"
             ],
             [
              0.2222222222222222,
              "#7201a8"
             ],
             [
              0.3333333333333333,
              "#9c179e"
             ],
             [
              0.4444444444444444,
              "#bd3786"
             ],
             [
              0.5555555555555556,
              "#d8576b"
             ],
             [
              0.6666666666666666,
              "#ed7953"
             ],
             [
              0.7777777777777778,
              "#fb9f3a"
             ],
             [
              0.8888888888888888,
              "#fdca26"
             ],
             [
              1,
              "#f0f921"
             ]
            ],
            "type": "surface"
           }
          ],
          "table": [
           {
            "cells": {
             "fill": {
              "color": "#EBF0F8"
             },
             "line": {
              "color": "white"
             }
            },
            "header": {
             "fill": {
              "color": "#C8D4E3"
             },
             "line": {
              "color": "white"
             }
            },
            "type": "table"
           }
          ]
         },
         "layout": {
          "annotationdefaults": {
           "arrowcolor": "#2a3f5f",
           "arrowhead": 0,
           "arrowwidth": 1
          },
          "coloraxis": {
           "colorbar": {
            "outlinewidth": 0,
            "ticks": ""
           }
          },
          "colorscale": {
           "diverging": [
            [
             0,
             "#8e0152"
            ],
            [
             0.1,
             "#c51b7d"
            ],
            [
             0.2,
             "#de77ae"
            ],
            [
             0.3,
             "#f1b6da"
            ],
            [
             0.4,
             "#fde0ef"
            ],
            [
             0.5,
             "#f7f7f7"
            ],
            [
             0.6,
             "#e6f5d0"
            ],
            [
             0.7,
             "#b8e186"
            ],
            [
             0.8,
             "#7fbc41"
            ],
            [
             0.9,
             "#4d9221"
            ],
            [
             1,
             "#276419"
            ]
           ],
           "sequential": [
            [
             0,
             "#0d0887"
            ],
            [
             0.1111111111111111,
             "#46039f"
            ],
            [
             0.2222222222222222,
             "#7201a8"
            ],
            [
             0.3333333333333333,
             "#9c179e"
            ],
            [
             0.4444444444444444,
             "#bd3786"
            ],
            [
             0.5555555555555556,
             "#d8576b"
            ],
            [
             0.6666666666666666,
             "#ed7953"
            ],
            [
             0.7777777777777778,
             "#fb9f3a"
            ],
            [
             0.8888888888888888,
             "#fdca26"
            ],
            [
             1,
             "#f0f921"
            ]
           ],
           "sequentialminus": [
            [
             0,
             "#0d0887"
            ],
            [
             0.1111111111111111,
             "#46039f"
            ],
            [
             0.2222222222222222,
             "#7201a8"
            ],
            [
             0.3333333333333333,
             "#9c179e"
            ],
            [
             0.4444444444444444,
             "#bd3786"
            ],
            [
             0.5555555555555556,
             "#d8576b"
            ],
            [
             0.6666666666666666,
             "#ed7953"
            ],
            [
             0.7777777777777778,
             "#fb9f3a"
            ],
            [
             0.8888888888888888,
             "#fdca26"
            ],
            [
             1,
             "#f0f921"
            ]
           ]
          },
          "colorway": [
           "#636efa",
           "#EF553B",
           "#00cc96",
           "#ab63fa",
           "#FFA15A",
           "#19d3f3",
           "#FF6692",
           "#B6E880",
           "#FF97FF",
           "#FECB52"
          ],
          "font": {
           "color": "#2a3f5f"
          },
          "geo": {
           "bgcolor": "white",
           "lakecolor": "white",
           "landcolor": "#E5ECF6",
           "showlakes": true,
           "showland": true,
           "subunitcolor": "white"
          },
          "hoverlabel": {
           "align": "left"
          },
          "hovermode": "closest",
          "mapbox": {
           "style": "light"
          },
          "paper_bgcolor": "white",
          "plot_bgcolor": "#E5ECF6",
          "polar": {
           "angularaxis": {
            "gridcolor": "white",
            "linecolor": "white",
            "ticks": ""
           },
           "bgcolor": "#E5ECF6",
           "radialaxis": {
            "gridcolor": "white",
            "linecolor": "white",
            "ticks": ""
           }
          },
          "scene": {
           "xaxis": {
            "backgroundcolor": "#E5ECF6",
            "gridcolor": "white",
            "gridwidth": 2,
            "linecolor": "white",
            "showbackground": true,
            "ticks": "",
            "zerolinecolor": "white"
           },
           "yaxis": {
            "backgroundcolor": "#E5ECF6",
            "gridcolor": "white",
            "gridwidth": 2,
            "linecolor": "white",
            "showbackground": true,
            "ticks": "",
            "zerolinecolor": "white"
           },
           "zaxis": {
            "backgroundcolor": "#E5ECF6",
            "gridcolor": "white",
            "gridwidth": 2,
            "linecolor": "white",
            "showbackground": true,
            "ticks": "",
            "zerolinecolor": "white"
           }
          },
          "shapedefaults": {
           "line": {
            "color": "#2a3f5f"
           }
          },
          "ternary": {
           "aaxis": {
            "gridcolor": "white",
            "linecolor": "white",
            "ticks": ""
           },
           "baxis": {
            "gridcolor": "white",
            "linecolor": "white",
            "ticks": ""
           },
           "bgcolor": "#E5ECF6",
           "caxis": {
            "gridcolor": "white",
            "linecolor": "white",
            "ticks": ""
           }
          },
          "title": {
           "x": 0.05
          },
          "xaxis": {
           "automargin": true,
           "gridcolor": "white",
           "linecolor": "white",
           "ticks": "",
           "title": {
            "standoff": 15
           },
           "zerolinecolor": "white",
           "zerolinewidth": 2
          },
          "yaxis": {
           "automargin": true,
           "gridcolor": "white",
           "linecolor": "white",
           "ticks": "",
           "title": {
            "standoff": 15
           },
           "zerolinecolor": "white",
           "zerolinewidth": 2
          }
         }
        },
        "title": {
         "text": "Confirmed, US"
        },
        "xaxis": {
         "anchor": "y",
         "domain": [
          0,
          0.94
         ]
        },
        "yaxis": {
         "anchor": "x",
         "domain": [
          0,
          1
         ]
        },
        "yaxis2": {
         "anchor": "x",
         "overlaying": "y",
         "side": "right"
        }
       }
      },
      "text/html": [
       "<div>\n",
       "        \n",
       "        \n",
       "            <div id=\"8479515a-85a5-4023-a835-0c2e71dc8ebe\" class=\"plotly-graph-div\" style=\"height:525px; width:100%;\"></div>\n",
       "            <script type=\"text/javascript\">\n",
       "                require([\"plotly\"], function(Plotly) {\n",
       "                    window.PLOTLYENV=window.PLOTLYENV || {};\n",
       "                    \n",
       "                if (document.getElementById(\"8479515a-85a5-4023-a835-0c2e71dc8ebe\")) {\n",
       "                    Plotly.newPlot(\n",
       "                        '8479515a-85a5-4023-a835-0c2e71dc8ebe',\n",
       "                        [{\"mode\": \"markers\", \"name\": \"# Cases\", \"type\": \"scatter\", \"x\": [\"2020-01-22T00:00:00\", \"2020-01-23T00:00:00\", \"2020-01-24T00:00:00\", \"2020-01-25T00:00:00\", \"2020-01-26T00:00:00\", \"2020-01-27T00:00:00\", \"2020-01-28T00:00:00\", \"2020-01-29T00:00:00\", \"2020-01-30T00:00:00\", \"2020-01-31T00:00:00\", \"2020-02-01T00:00:00\", \"2020-02-02T00:00:00\", \"2020-02-03T00:00:00\", \"2020-02-04T00:00:00\", \"2020-02-05T00:00:00\", \"2020-02-06T00:00:00\", \"2020-02-07T00:00:00\", \"2020-02-08T00:00:00\", \"2020-02-09T00:00:00\", \"2020-02-10T00:00:00\", \"2020-02-11T00:00:00\", \"2020-02-12T00:00:00\", \"2020-02-13T00:00:00\", \"2020-02-14T00:00:00\", \"2020-02-15T00:00:00\", \"2020-02-16T00:00:00\", \"2020-02-17T00:00:00\", \"2020-02-18T00:00:00\", \"2020-02-19T00:00:00\", \"2020-02-20T00:00:00\", \"2020-02-21T00:00:00\", \"2020-02-22T00:00:00\", \"2020-02-23T00:00:00\", \"2020-02-24T00:00:00\", \"2020-02-25T00:00:00\", \"2020-02-26T00:00:00\", \"2020-02-27T00:00:00\", \"2020-02-28T00:00:00\", \"2020-02-29T00:00:00\", \"2020-03-01T00:00:00\", \"2020-03-02T00:00:00\", \"2020-03-03T00:00:00\", \"2020-03-04T00:00:00\", \"2020-03-05T00:00:00\", \"2020-03-06T00:00:00\", \"2020-03-07T00:00:00\"], \"xaxis\": \"x\", \"y\": [1, 1, 2, 2, 5, 5, 5, 5, 5, 7, 8, 8, 11, 11, 12, 12, 12, 12, 12, 12, 13, 13, 15, 15, 15, 15, 15, 15, 15, 15, 35, 35, 35, 53, 53, 59, 60, 62, 70, 76, 101, 121, 152, 220, 277, 417], \"yaxis\": \"y\"}, {\"mode\": \"markers\", \"name\": \"DJIA Close\", \"type\": \"scatter\", \"x\": [\"2020-01-22T00:00:00\", \"2020-01-23T00:00:00\", \"2020-01-24T00:00:00\", \"2020-01-25T00:00:00\", \"2020-01-26T00:00:00\", \"2020-01-27T00:00:00\", \"2020-01-28T00:00:00\", \"2020-01-29T00:00:00\", \"2020-01-30T00:00:00\", \"2020-01-31T00:00:00\", \"2020-02-01T00:00:00\", \"2020-02-02T00:00:00\", \"2020-02-03T00:00:00\", \"2020-02-04T00:00:00\", \"2020-02-05T00:00:00\", \"2020-02-06T00:00:00\", \"2020-02-07T00:00:00\", \"2020-02-08T00:00:00\", \"2020-02-09T00:00:00\", \"2020-02-10T00:00:00\", \"2020-02-11T00:00:00\", \"2020-02-12T00:00:00\", \"2020-02-13T00:00:00\", \"2020-02-14T00:00:00\", \"2020-02-15T00:00:00\", \"2020-02-16T00:00:00\", \"2020-02-17T00:00:00\", \"2020-02-18T00:00:00\", \"2020-02-19T00:00:00\", \"2020-02-20T00:00:00\", \"2020-02-21T00:00:00\", \"2020-02-22T00:00:00\", \"2020-02-23T00:00:00\", \"2020-02-24T00:00:00\", \"2020-02-25T00:00:00\", \"2020-02-26T00:00:00\", \"2020-02-27T00:00:00\", \"2020-02-28T00:00:00\", \"2020-02-29T00:00:00\", \"2020-03-01T00:00:00\", \"2020-03-02T00:00:00\", \"2020-03-03T00:00:00\", \"2020-03-04T00:00:00\", \"2020-03-05T00:00:00\", \"2020-03-06T00:00:00\", \"2020-03-07T00:00:00\"], \"xaxis\": \"x\", \"y\": [29186.269531, 29160.089844, 28989.730469, null, null, 28535.800781, 28722.849608999997, 28734.449219, 28859.439452999995, 28256.029297000005, null, null, 28399.810547000005, 28807.630858999997, 29290.849608999997, 29379.769531, 29102.509766000003, null, null, 29276.820313, 29276.339844, 29551.419922000005, 29423.310547000005, 29398.080077999995, null, null, null, 29232.189452999995, 29348.029297000005, 29219.980469, 28992.410156, null, null, 27960.800781, 27081.359375, 26957.589844, 25766.640625, 25409.359375, null, null, 26703.320313, 25917.410156, 27090.859375, 26121.279297, 25864.779297, null], \"yaxis\": \"y2\"}, {\"mode\": \"markers\", \"name\": \"DJIA Open\", \"type\": \"scatter\", \"x\": [\"2020-01-22T00:00:00\", \"2020-01-23T00:00:00\", \"2020-01-24T00:00:00\", \"2020-01-25T00:00:00\", \"2020-01-26T00:00:00\", \"2020-01-27T00:00:00\", \"2020-01-28T00:00:00\", \"2020-01-29T00:00:00\", \"2020-01-30T00:00:00\", \"2020-01-31T00:00:00\", \"2020-02-01T00:00:00\", \"2020-02-02T00:00:00\", \"2020-02-03T00:00:00\", \"2020-02-04T00:00:00\", \"2020-02-05T00:00:00\", \"2020-02-06T00:00:00\", \"2020-02-07T00:00:00\", \"2020-02-08T00:00:00\", \"2020-02-09T00:00:00\", \"2020-02-10T00:00:00\", \"2020-02-11T00:00:00\", \"2020-02-12T00:00:00\", \"2020-02-13T00:00:00\", \"2020-02-14T00:00:00\", \"2020-02-15T00:00:00\", \"2020-02-16T00:00:00\", \"2020-02-17T00:00:00\", \"2020-02-18T00:00:00\", \"2020-02-19T00:00:00\", \"2020-02-20T00:00:00\", \"2020-02-21T00:00:00\", \"2020-02-22T00:00:00\", \"2020-02-23T00:00:00\", \"2020-02-24T00:00:00\", \"2020-02-25T00:00:00\", \"2020-02-26T00:00:00\", \"2020-02-27T00:00:00\", \"2020-02-28T00:00:00\", \"2020-02-29T00:00:00\", \"2020-03-01T00:00:00\", \"2020-03-02T00:00:00\", \"2020-03-03T00:00:00\", \"2020-03-04T00:00:00\", \"2020-03-05T00:00:00\", \"2020-03-06T00:00:00\", \"2020-03-07T00:00:00\"], \"xaxis\": \"x\", \"y\": [29263.630858999997, 29111.019531, 29230.390625, null, null, 28542.490233999997, 28594.279297000005, 28820.529297000005, 28640.160156, 28813.039063, null, null, 28319.650391000003, 28696.740233999997, 29048.730469, 29388.580077999995, 29286.919922000005, null, null, 28995.660156, 29390.710938, 29406.75, 29436.029297000005, 29440.470702999995, null, null, null, 29282.779297000005, 29312.699219, 29296.25, 29146.529297000005, null, null, 28402.929688, 28037.650391000003, 27159.460938, 26526.0, 25270.830078, null, null, 25590.509766, 26762.470703, 26383.679688, 26671.919922, 25457.210938, null], \"yaxis\": \"y2\"}],\n",
       "                        {\"template\": {\"data\": {\"bar\": [{\"error_x\": {\"color\": \"#2a3f5f\"}, \"error_y\": {\"color\": \"#2a3f5f\"}, \"marker\": {\"line\": {\"color\": \"#E5ECF6\", \"width\": 0.5}}, \"type\": \"bar\"}], \"barpolar\": [{\"marker\": {\"line\": {\"color\": \"#E5ECF6\", \"width\": 0.5}}, \"type\": \"barpolar\"}], \"carpet\": [{\"aaxis\": {\"endlinecolor\": \"#2a3f5f\", \"gridcolor\": \"white\", \"linecolor\": \"white\", \"minorgridcolor\": \"white\", \"startlinecolor\": \"#2a3f5f\"}, \"baxis\": {\"endlinecolor\": \"#2a3f5f\", \"gridcolor\": \"white\", \"linecolor\": \"white\", \"minorgridcolor\": \"white\", \"startlinecolor\": \"#2a3f5f\"}, \"type\": \"carpet\"}], \"choropleth\": [{\"colorbar\": {\"outlinewidth\": 0, \"ticks\": \"\"}, \"type\": \"choropleth\"}], \"contour\": [{\"colorbar\": {\"outlinewidth\": 0, \"ticks\": \"\"}, \"colorscale\": [[0.0, \"#0d0887\"], [0.1111111111111111, \"#46039f\"], [0.2222222222222222, \"#7201a8\"], [0.3333333333333333, \"#9c179e\"], [0.4444444444444444, \"#bd3786\"], [0.5555555555555556, \"#d8576b\"], [0.6666666666666666, \"#ed7953\"], [0.7777777777777778, \"#fb9f3a\"], [0.8888888888888888, \"#fdca26\"], [1.0, \"#f0f921\"]], \"type\": \"contour\"}], \"contourcarpet\": [{\"colorbar\": {\"outlinewidth\": 0, \"ticks\": \"\"}, \"type\": \"contourcarpet\"}], \"heatmap\": [{\"colorbar\": {\"outlinewidth\": 0, \"ticks\": \"\"}, \"colorscale\": [[0.0, \"#0d0887\"], [0.1111111111111111, \"#46039f\"], [0.2222222222222222, \"#7201a8\"], [0.3333333333333333, \"#9c179e\"], [0.4444444444444444, \"#bd3786\"], [0.5555555555555556, \"#d8576b\"], [0.6666666666666666, \"#ed7953\"], [0.7777777777777778, \"#fb9f3a\"], [0.8888888888888888, \"#fdca26\"], [1.0, \"#f0f921\"]], \"type\": \"heatmap\"}], \"heatmapgl\": [{\"colorbar\": {\"outlinewidth\": 0, \"ticks\": \"\"}, \"colorscale\": [[0.0, \"#0d0887\"], [0.1111111111111111, \"#46039f\"], [0.2222222222222222, \"#7201a8\"], [0.3333333333333333, \"#9c179e\"], [0.4444444444444444, \"#bd3786\"], [0.5555555555555556, \"#d8576b\"], [0.6666666666666666, \"#ed7953\"], [0.7777777777777778, \"#fb9f3a\"], [0.8888888888888888, \"#fdca26\"], [1.0, \"#f0f921\"]], \"type\": \"heatmapgl\"}], \"histogram\": [{\"marker\": {\"colorbar\": {\"outlinewidth\": 0, \"ticks\": \"\"}}, \"type\": \"histogram\"}], \"histogram2d\": [{\"colorbar\": {\"outlinewidth\": 0, \"ticks\": \"\"}, \"colorscale\": [[0.0, \"#0d0887\"], [0.1111111111111111, \"#46039f\"], [0.2222222222222222, \"#7201a8\"], [0.3333333333333333, \"#9c179e\"], [0.4444444444444444, \"#bd3786\"], [0.5555555555555556, \"#d8576b\"], [0.6666666666666666, \"#ed7953\"], [0.7777777777777778, \"#fb9f3a\"], [0.8888888888888888, \"#fdca26\"], [1.0, \"#f0f921\"]], \"type\": \"histogram2d\"}], \"histogram2dcontour\": [{\"colorbar\": {\"outlinewidth\": 0, \"ticks\": \"\"}, \"colorscale\": [[0.0, \"#0d0887\"], [0.1111111111111111, \"#46039f\"], [0.2222222222222222, \"#7201a8\"], [0.3333333333333333, \"#9c179e\"], [0.4444444444444444, \"#bd3786\"], [0.5555555555555556, \"#d8576b\"], [0.6666666666666666, \"#ed7953\"], [0.7777777777777778, \"#fb9f3a\"], [0.8888888888888888, \"#fdca26\"], [1.0, \"#f0f921\"]], \"type\": \"histogram2dcontour\"}], \"mesh3d\": [{\"colorbar\": {\"outlinewidth\": 0, \"ticks\": \"\"}, \"type\": \"mesh3d\"}], \"parcoords\": [{\"line\": {\"colorbar\": {\"outlinewidth\": 0, \"ticks\": \"\"}}, \"type\": \"parcoords\"}], \"pie\": [{\"automargin\": true, \"type\": \"pie\"}], \"scatter\": [{\"marker\": {\"colorbar\": {\"outlinewidth\": 0, \"ticks\": \"\"}}, \"type\": \"scatter\"}], \"scatter3d\": [{\"line\": {\"colorbar\": {\"outlinewidth\": 0, \"ticks\": \"\"}}, \"marker\": {\"colorbar\": {\"outlinewidth\": 0, \"ticks\": \"\"}}, \"type\": \"scatter3d\"}], \"scattercarpet\": [{\"marker\": {\"colorbar\": {\"outlinewidth\": 0, \"ticks\": \"\"}}, \"type\": \"scattercarpet\"}], \"scattergeo\": [{\"marker\": {\"colorbar\": {\"outlinewidth\": 0, \"ticks\": \"\"}}, \"type\": \"scattergeo\"}], \"scattergl\": [{\"marker\": {\"colorbar\": {\"outlinewidth\": 0, \"ticks\": \"\"}}, \"type\": \"scattergl\"}], \"scattermapbox\": [{\"marker\": {\"colorbar\": {\"outlinewidth\": 0, \"ticks\": \"\"}}, \"type\": \"scattermapbox\"}], \"scatterpolar\": [{\"marker\": {\"colorbar\": {\"outlinewidth\": 0, \"ticks\": \"\"}}, \"type\": \"scatterpolar\"}], \"scatterpolargl\": [{\"marker\": {\"colorbar\": {\"outlinewidth\": 0, \"ticks\": \"\"}}, \"type\": \"scatterpolargl\"}], \"scatterternary\": [{\"marker\": {\"colorbar\": {\"outlinewidth\": 0, \"ticks\": \"\"}}, \"type\": \"scatterternary\"}], \"surface\": [{\"colorbar\": {\"outlinewidth\": 0, \"ticks\": \"\"}, \"colorscale\": [[0.0, \"#0d0887\"], [0.1111111111111111, \"#46039f\"], [0.2222222222222222, \"#7201a8\"], [0.3333333333333333, \"#9c179e\"], [0.4444444444444444, \"#bd3786\"], [0.5555555555555556, \"#d8576b\"], [0.6666666666666666, \"#ed7953\"], [0.7777777777777778, \"#fb9f3a\"], [0.8888888888888888, \"#fdca26\"], [1.0, \"#f0f921\"]], \"type\": \"surface\"}], \"table\": [{\"cells\": {\"fill\": {\"color\": \"#EBF0F8\"}, \"line\": {\"color\": \"white\"}}, \"header\": {\"fill\": {\"color\": \"#C8D4E3\"}, \"line\": {\"color\": \"white\"}}, \"type\": \"table\"}]}, \"layout\": {\"annotationdefaults\": {\"arrowcolor\": \"#2a3f5f\", \"arrowhead\": 0, \"arrowwidth\": 1}, \"coloraxis\": {\"colorbar\": {\"outlinewidth\": 0, \"ticks\": \"\"}}, \"colorscale\": {\"diverging\": [[0, \"#8e0152\"], [0.1, \"#c51b7d\"], [0.2, \"#de77ae\"], [0.3, \"#f1b6da\"], [0.4, \"#fde0ef\"], [0.5, \"#f7f7f7\"], [0.6, \"#e6f5d0\"], [0.7, \"#b8e186\"], [0.8, \"#7fbc41\"], [0.9, \"#4d9221\"], [1, \"#276419\"]], \"sequential\": [[0.0, \"#0d0887\"], [0.1111111111111111, \"#46039f\"], [0.2222222222222222, \"#7201a8\"], [0.3333333333333333, \"#9c179e\"], [0.4444444444444444, \"#bd3786\"], [0.5555555555555556, \"#d8576b\"], [0.6666666666666666, \"#ed7953\"], [0.7777777777777778, \"#fb9f3a\"], [0.8888888888888888, \"#fdca26\"], [1.0, \"#f0f921\"]], \"sequentialminus\": [[0.0, \"#0d0887\"], [0.1111111111111111, \"#46039f\"], [0.2222222222222222, \"#7201a8\"], [0.3333333333333333, \"#9c179e\"], [0.4444444444444444, \"#bd3786\"], [0.5555555555555556, \"#d8576b\"], [0.6666666666666666, \"#ed7953\"], [0.7777777777777778, \"#fb9f3a\"], [0.8888888888888888, \"#fdca26\"], [1.0, \"#f0f921\"]]}, \"colorway\": [\"#636efa\", \"#EF553B\", \"#00cc96\", \"#ab63fa\", \"#FFA15A\", \"#19d3f3\", \"#FF6692\", \"#B6E880\", \"#FF97FF\", \"#FECB52\"], \"font\": {\"color\": \"#2a3f5f\"}, \"geo\": {\"bgcolor\": \"white\", \"lakecolor\": \"white\", \"landcolor\": \"#E5ECF6\", \"showlakes\": true, \"showland\": true, \"subunitcolor\": \"white\"}, \"hoverlabel\": {\"align\": \"left\"}, \"hovermode\": \"closest\", \"mapbox\": {\"style\": \"light\"}, \"paper_bgcolor\": \"white\", \"plot_bgcolor\": \"#E5ECF6\", \"polar\": {\"angularaxis\": {\"gridcolor\": \"white\", \"linecolor\": \"white\", \"ticks\": \"\"}, \"bgcolor\": \"#E5ECF6\", \"radialaxis\": {\"gridcolor\": \"white\", \"linecolor\": \"white\", \"ticks\": \"\"}}, \"scene\": {\"xaxis\": {\"backgroundcolor\": \"#E5ECF6\", \"gridcolor\": \"white\", \"gridwidth\": 2, \"linecolor\": \"white\", \"showbackground\": true, \"ticks\": \"\", \"zerolinecolor\": \"white\"}, \"yaxis\": {\"backgroundcolor\": \"#E5ECF6\", \"gridcolor\": \"white\", \"gridwidth\": 2, \"linecolor\": \"white\", \"showbackground\": true, \"ticks\": \"\", \"zerolinecolor\": \"white\"}, \"zaxis\": {\"backgroundcolor\": \"#E5ECF6\", \"gridcolor\": \"white\", \"gridwidth\": 2, \"linecolor\": \"white\", \"showbackground\": true, \"ticks\": \"\", \"zerolinecolor\": \"white\"}}, \"shapedefaults\": {\"line\": {\"color\": \"#2a3f5f\"}}, \"ternary\": {\"aaxis\": {\"gridcolor\": \"white\", \"linecolor\": \"white\", \"ticks\": \"\"}, \"baxis\": {\"gridcolor\": \"white\", \"linecolor\": \"white\", \"ticks\": \"\"}, \"bgcolor\": \"#E5ECF6\", \"caxis\": {\"gridcolor\": \"white\", \"linecolor\": \"white\", \"ticks\": \"\"}}, \"title\": {\"x\": 0.05}, \"xaxis\": {\"automargin\": true, \"gridcolor\": \"white\", \"linecolor\": \"white\", \"ticks\": \"\", \"title\": {\"standoff\": 15}, \"zerolinecolor\": \"white\", \"zerolinewidth\": 2}, \"yaxis\": {\"automargin\": true, \"gridcolor\": \"white\", \"linecolor\": \"white\", \"ticks\": \"\", \"title\": {\"standoff\": 15}, \"zerolinecolor\": \"white\", \"zerolinewidth\": 2}}}, \"title\": {\"text\": \"Confirmed, US\"}, \"xaxis\": {\"anchor\": \"y\", \"domain\": [0.0, 0.94]}, \"yaxis\": {\"anchor\": \"x\", \"domain\": [0.0, 1.0]}, \"yaxis2\": {\"anchor\": \"x\", \"overlaying\": \"y\", \"side\": \"right\"}},\n",
       "                        {\"responsive\": true}\n",
       "                    ).then(function(){\n",
       "                            \n",
       "var gd = document.getElementById('8479515a-85a5-4023-a835-0c2e71dc8ebe');\n",
       "var x = new MutationObserver(function (mutations, observer) {{\n",
       "        var display = window.getComputedStyle(gd).display;\n",
       "        if (!display || display === 'none') {{\n",
       "            console.log([gd, 'removed!']);\n",
       "            Plotly.purge(gd);\n",
       "            observer.disconnect();\n",
       "        }}\n",
       "}});\n",
       "\n",
       "// Listen for the removal of the full notebook cells\n",
       "var notebookContainer = gd.closest('#notebook-container');\n",
       "if (notebookContainer) {{\n",
       "    x.observe(notebookContainer, {childList: true});\n",
       "}}\n",
       "\n",
       "// Listen for the clearing of the current output cell\n",
       "var outputEl = gd.closest('.output');\n",
       "if (outputEl) {{\n",
       "    x.observe(outputEl, {childList: true});\n",
       "}}\n",
       "\n",
       "                        })\n",
       "                };\n",
       "                });\n",
       "            </script>\n",
       "        </div>"
      ]
     },
     "metadata": {},
     "output_type": "display_data"
    }
   ],
   "source": [
    "loc = 'US'\n",
    "case_type = 'Confirmed'\n",
    "\n",
    "plot_df = tidy_df[(tidy_df['US']==loc)&(tidy_df['Type']==case_type)]\n",
    "\n",
    "\n",
    "fig = make_subplots(specs=[[{\"secondary_y\": True}]])\n",
    "fig.add_trace(\n",
    "    go.Scatter(x=plot_df['Date'], y=plot_df['Count'], mode='markers', name='# Cases'),\n",
    "    secondary_y=False,\n",
    ")\n",
    "fig.add_trace(\n",
    "    go.Scatter(x=plot_df['Date'], y=plot_df['Close'], mode='markers', name='DJIA Close'),\n",
    "    secondary_y=True,\n",
    ")\n",
    "fig.add_trace(\n",
    "    go.Scatter(x=plot_df['Date'], y=plot_df['Open'], mode='markers', name='DJIA Open'),\n",
    "    secondary_y=True,\n",
    ")\n",
    "\n",
    "fig.update_layout(\n",
    "    title=\"{}, {}\".format(case_type, loc)\n",
    ")"
   ]
  },
  {
   "cell_type": "code",
   "execution_count": 61,
   "metadata": {},
   "outputs": [
    {
     "data": {
      "application/vnd.plotly.v1+json": {
       "config": {
        "plotlyServerURL": "https://plot.ly"
       },
       "data": [
        {
         "mode": "markers",
         "name": "# Cases",
         "type": "scatter",
         "x": [
          "2020-01-22T00:00:00",
          "2020-01-23T00:00:00",
          "2020-01-24T00:00:00",
          "2020-01-25T00:00:00",
          "2020-01-26T00:00:00",
          "2020-01-27T00:00:00",
          "2020-01-28T00:00:00",
          "2020-01-29T00:00:00",
          "2020-01-30T00:00:00",
          "2020-01-31T00:00:00",
          "2020-02-01T00:00:00",
          "2020-02-02T00:00:00",
          "2020-02-03T00:00:00",
          "2020-02-04T00:00:00",
          "2020-02-05T00:00:00",
          "2020-02-06T00:00:00",
          "2020-02-07T00:00:00",
          "2020-02-08T00:00:00",
          "2020-02-09T00:00:00",
          "2020-02-10T00:00:00",
          "2020-02-11T00:00:00",
          "2020-02-12T00:00:00",
          "2020-02-13T00:00:00",
          "2020-02-14T00:00:00",
          "2020-02-15T00:00:00",
          "2020-02-16T00:00:00",
          "2020-02-17T00:00:00",
          "2020-02-18T00:00:00",
          "2020-02-19T00:00:00",
          "2020-02-20T00:00:00",
          "2020-02-21T00:00:00",
          "2020-02-22T00:00:00",
          "2020-02-23T00:00:00",
          "2020-02-24T00:00:00",
          "2020-02-25T00:00:00",
          "2020-02-26T00:00:00",
          "2020-02-27T00:00:00",
          "2020-02-28T00:00:00",
          "2020-02-29T00:00:00",
          "2020-03-01T00:00:00",
          "2020-03-02T00:00:00",
          "2020-03-03T00:00:00",
          "2020-03-04T00:00:00",
          "2020-03-05T00:00:00",
          "2020-03-06T00:00:00",
          "2020-03-07T00:00:00"
         ],
         "xaxis": "x",
         "y": [
          0,
          0,
          0,
          0,
          0,
          0,
          0,
          0,
          0,
          0,
          0,
          0,
          0,
          0,
          0,
          0,
          0,
          0,
          0,
          0,
          0,
          0,
          0,
          0,
          0,
          0,
          0,
          0,
          0,
          0,
          0,
          0,
          0,
          0,
          0,
          0,
          0,
          0,
          1,
          1,
          6,
          7,
          11,
          12,
          14,
          17
         ],
         "yaxis": "y"
        },
        {
         "mode": "markers",
         "name": "DJIA Close",
         "type": "scatter",
         "x": [
          "2020-01-22T00:00:00",
          "2020-01-23T00:00:00",
          "2020-01-24T00:00:00",
          "2020-01-25T00:00:00",
          "2020-01-26T00:00:00",
          "2020-01-27T00:00:00",
          "2020-01-28T00:00:00",
          "2020-01-29T00:00:00",
          "2020-01-30T00:00:00",
          "2020-01-31T00:00:00",
          "2020-02-01T00:00:00",
          "2020-02-02T00:00:00",
          "2020-02-03T00:00:00",
          "2020-02-04T00:00:00",
          "2020-02-05T00:00:00",
          "2020-02-06T00:00:00",
          "2020-02-07T00:00:00",
          "2020-02-08T00:00:00",
          "2020-02-09T00:00:00",
          "2020-02-10T00:00:00",
          "2020-02-11T00:00:00",
          "2020-02-12T00:00:00",
          "2020-02-13T00:00:00",
          "2020-02-14T00:00:00",
          "2020-02-15T00:00:00",
          "2020-02-16T00:00:00",
          "2020-02-17T00:00:00",
          "2020-02-18T00:00:00",
          "2020-02-19T00:00:00",
          "2020-02-20T00:00:00",
          "2020-02-21T00:00:00",
          "2020-02-22T00:00:00",
          "2020-02-23T00:00:00",
          "2020-02-24T00:00:00",
          "2020-02-25T00:00:00",
          "2020-02-26T00:00:00",
          "2020-02-27T00:00:00",
          "2020-02-28T00:00:00",
          "2020-02-29T00:00:00",
          "2020-03-01T00:00:00",
          "2020-03-02T00:00:00",
          "2020-03-03T00:00:00",
          "2020-03-04T00:00:00",
          "2020-03-05T00:00:00",
          "2020-03-06T00:00:00",
          "2020-03-07T00:00:00"
         ],
         "xaxis": "x",
         "y": [
          29186.269531,
          29160.089844,
          28989.730469,
          null,
          null,
          28535.800781,
          28722.849608999997,
          28734.449219,
          28859.439452999995,
          28256.029297000005,
          null,
          null,
          28399.810547000005,
          28807.630858999997,
          29290.849608999997,
          29379.769531,
          29102.509766000003,
          null,
          null,
          29276.820313,
          29276.339844,
          29551.419922000005,
          29423.310547000005,
          29398.080077999995,
          null,
          null,
          null,
          29232.189452999995,
          29348.029297000005,
          29219.980469,
          28992.410156,
          null,
          null,
          27960.800781,
          27081.359375,
          26957.589844,
          25766.640625,
          25409.359375,
          null,
          null,
          26703.320313,
          25917.410156,
          27090.859375,
          26121.279297,
          25864.779297,
          null
         ],
         "yaxis": "y2"
        },
        {
         "mode": "markers",
         "name": "DJIA Open",
         "type": "scatter",
         "x": [
          "2020-01-22T00:00:00",
          "2020-01-23T00:00:00",
          "2020-01-24T00:00:00",
          "2020-01-25T00:00:00",
          "2020-01-26T00:00:00",
          "2020-01-27T00:00:00",
          "2020-01-28T00:00:00",
          "2020-01-29T00:00:00",
          "2020-01-30T00:00:00",
          "2020-01-31T00:00:00",
          "2020-02-01T00:00:00",
          "2020-02-02T00:00:00",
          "2020-02-03T00:00:00",
          "2020-02-04T00:00:00",
          "2020-02-05T00:00:00",
          "2020-02-06T00:00:00",
          "2020-02-07T00:00:00",
          "2020-02-08T00:00:00",
          "2020-02-09T00:00:00",
          "2020-02-10T00:00:00",
          "2020-02-11T00:00:00",
          "2020-02-12T00:00:00",
          "2020-02-13T00:00:00",
          "2020-02-14T00:00:00",
          "2020-02-15T00:00:00",
          "2020-02-16T00:00:00",
          "2020-02-17T00:00:00",
          "2020-02-18T00:00:00",
          "2020-02-19T00:00:00",
          "2020-02-20T00:00:00",
          "2020-02-21T00:00:00",
          "2020-02-22T00:00:00",
          "2020-02-23T00:00:00",
          "2020-02-24T00:00:00",
          "2020-02-25T00:00:00",
          "2020-02-26T00:00:00",
          "2020-02-27T00:00:00",
          "2020-02-28T00:00:00",
          "2020-02-29T00:00:00",
          "2020-03-01T00:00:00",
          "2020-03-02T00:00:00",
          "2020-03-03T00:00:00",
          "2020-03-04T00:00:00",
          "2020-03-05T00:00:00",
          "2020-03-06T00:00:00",
          "2020-03-07T00:00:00"
         ],
         "xaxis": "x",
         "y": [
          29263.630858999997,
          29111.019531,
          29230.390625,
          null,
          null,
          28542.490233999997,
          28594.279297000005,
          28820.529297000005,
          28640.160156,
          28813.039063,
          null,
          null,
          28319.650391000003,
          28696.740233999997,
          29048.730469,
          29388.580077999995,
          29286.919922000005,
          null,
          null,
          28995.660156,
          29390.710938,
          29406.75,
          29436.029297000005,
          29440.470702999995,
          null,
          null,
          null,
          29282.779297000005,
          29312.699219,
          29296.25,
          29146.529297000005,
          null,
          null,
          28402.929688,
          28037.650391000003,
          27159.460938,
          26526,
          25270.830078,
          null,
          null,
          25590.509766,
          26762.470703,
          26383.679688,
          26671.919922,
          25457.210938,
          null
         ],
         "yaxis": "y2"
        }
       ],
       "layout": {
        "template": {
         "data": {
          "bar": [
           {
            "error_x": {
             "color": "#2a3f5f"
            },
            "error_y": {
             "color": "#2a3f5f"
            },
            "marker": {
             "line": {
              "color": "#E5ECF6",
              "width": 0.5
             }
            },
            "type": "bar"
           }
          ],
          "barpolar": [
           {
            "marker": {
             "line": {
              "color": "#E5ECF6",
              "width": 0.5
             }
            },
            "type": "barpolar"
           }
          ],
          "carpet": [
           {
            "aaxis": {
             "endlinecolor": "#2a3f5f",
             "gridcolor": "white",
             "linecolor": "white",
             "minorgridcolor": "white",
             "startlinecolor": "#2a3f5f"
            },
            "baxis": {
             "endlinecolor": "#2a3f5f",
             "gridcolor": "white",
             "linecolor": "white",
             "minorgridcolor": "white",
             "startlinecolor": "#2a3f5f"
            },
            "type": "carpet"
           }
          ],
          "choropleth": [
           {
            "colorbar": {
             "outlinewidth": 0,
             "ticks": ""
            },
            "type": "choropleth"
           }
          ],
          "contour": [
           {
            "colorbar": {
             "outlinewidth": 0,
             "ticks": ""
            },
            "colorscale": [
             [
              0,
              "#0d0887"
             ],
             [
              0.1111111111111111,
              "#46039f"
             ],
             [
              0.2222222222222222,
              "#7201a8"
             ],
             [
              0.3333333333333333,
              "#9c179e"
             ],
             [
              0.4444444444444444,
              "#bd3786"
             ],
             [
              0.5555555555555556,
              "#d8576b"
             ],
             [
              0.6666666666666666,
              "#ed7953"
             ],
             [
              0.7777777777777778,
              "#fb9f3a"
             ],
             [
              0.8888888888888888,
              "#fdca26"
             ],
             [
              1,
              "#f0f921"
             ]
            ],
            "type": "contour"
           }
          ],
          "contourcarpet": [
           {
            "colorbar": {
             "outlinewidth": 0,
             "ticks": ""
            },
            "type": "contourcarpet"
           }
          ],
          "heatmap": [
           {
            "colorbar": {
             "outlinewidth": 0,
             "ticks": ""
            },
            "colorscale": [
             [
              0,
              "#0d0887"
             ],
             [
              0.1111111111111111,
              "#46039f"
             ],
             [
              0.2222222222222222,
              "#7201a8"
             ],
             [
              0.3333333333333333,
              "#9c179e"
             ],
             [
              0.4444444444444444,
              "#bd3786"
             ],
             [
              0.5555555555555556,
              "#d8576b"
             ],
             [
              0.6666666666666666,
              "#ed7953"
             ],
             [
              0.7777777777777778,
              "#fb9f3a"
             ],
             [
              0.8888888888888888,
              "#fdca26"
             ],
             [
              1,
              "#f0f921"
             ]
            ],
            "type": "heatmap"
           }
          ],
          "heatmapgl": [
           {
            "colorbar": {
             "outlinewidth": 0,
             "ticks": ""
            },
            "colorscale": [
             [
              0,
              "#0d0887"
             ],
             [
              0.1111111111111111,
              "#46039f"
             ],
             [
              0.2222222222222222,
              "#7201a8"
             ],
             [
              0.3333333333333333,
              "#9c179e"
             ],
             [
              0.4444444444444444,
              "#bd3786"
             ],
             [
              0.5555555555555556,
              "#d8576b"
             ],
             [
              0.6666666666666666,
              "#ed7953"
             ],
             [
              0.7777777777777778,
              "#fb9f3a"
             ],
             [
              0.8888888888888888,
              "#fdca26"
             ],
             [
              1,
              "#f0f921"
             ]
            ],
            "type": "heatmapgl"
           }
          ],
          "histogram": [
           {
            "marker": {
             "colorbar": {
              "outlinewidth": 0,
              "ticks": ""
             }
            },
            "type": "histogram"
           }
          ],
          "histogram2d": [
           {
            "colorbar": {
             "outlinewidth": 0,
             "ticks": ""
            },
            "colorscale": [
             [
              0,
              "#0d0887"
             ],
             [
              0.1111111111111111,
              "#46039f"
             ],
             [
              0.2222222222222222,
              "#7201a8"
             ],
             [
              0.3333333333333333,
              "#9c179e"
             ],
             [
              0.4444444444444444,
              "#bd3786"
             ],
             [
              0.5555555555555556,
              "#d8576b"
             ],
             [
              0.6666666666666666,
              "#ed7953"
             ],
             [
              0.7777777777777778,
              "#fb9f3a"
             ],
             [
              0.8888888888888888,
              "#fdca26"
             ],
             [
              1,
              "#f0f921"
             ]
            ],
            "type": "histogram2d"
           }
          ],
          "histogram2dcontour": [
           {
            "colorbar": {
             "outlinewidth": 0,
             "ticks": ""
            },
            "colorscale": [
             [
              0,
              "#0d0887"
             ],
             [
              0.1111111111111111,
              "#46039f"
             ],
             [
              0.2222222222222222,
              "#7201a8"
             ],
             [
              0.3333333333333333,
              "#9c179e"
             ],
             [
              0.4444444444444444,
              "#bd3786"
             ],
             [
              0.5555555555555556,
              "#d8576b"
             ],
             [
              0.6666666666666666,
              "#ed7953"
             ],
             [
              0.7777777777777778,
              "#fb9f3a"
             ],
             [
              0.8888888888888888,
              "#fdca26"
             ],
             [
              1,
              "#f0f921"
             ]
            ],
            "type": "histogram2dcontour"
           }
          ],
          "mesh3d": [
           {
            "colorbar": {
             "outlinewidth": 0,
             "ticks": ""
            },
            "type": "mesh3d"
           }
          ],
          "parcoords": [
           {
            "line": {
             "colorbar": {
              "outlinewidth": 0,
              "ticks": ""
             }
            },
            "type": "parcoords"
           }
          ],
          "pie": [
           {
            "automargin": true,
            "type": "pie"
           }
          ],
          "scatter": [
           {
            "marker": {
             "colorbar": {
              "outlinewidth": 0,
              "ticks": ""
             }
            },
            "type": "scatter"
           }
          ],
          "scatter3d": [
           {
            "line": {
             "colorbar": {
              "outlinewidth": 0,
              "ticks": ""
             }
            },
            "marker": {
             "colorbar": {
              "outlinewidth": 0,
              "ticks": ""
             }
            },
            "type": "scatter3d"
           }
          ],
          "scattercarpet": [
           {
            "marker": {
             "colorbar": {
              "outlinewidth": 0,
              "ticks": ""
             }
            },
            "type": "scattercarpet"
           }
          ],
          "scattergeo": [
           {
            "marker": {
             "colorbar": {
              "outlinewidth": 0,
              "ticks": ""
             }
            },
            "type": "scattergeo"
           }
          ],
          "scattergl": [
           {
            "marker": {
             "colorbar": {
              "outlinewidth": 0,
              "ticks": ""
             }
            },
            "type": "scattergl"
           }
          ],
          "scattermapbox": [
           {
            "marker": {
             "colorbar": {
              "outlinewidth": 0,
              "ticks": ""
             }
            },
            "type": "scattermapbox"
           }
          ],
          "scatterpolar": [
           {
            "marker": {
             "colorbar": {
              "outlinewidth": 0,
              "ticks": ""
             }
            },
            "type": "scatterpolar"
           }
          ],
          "scatterpolargl": [
           {
            "marker": {
             "colorbar": {
              "outlinewidth": 0,
              "ticks": ""
             }
            },
            "type": "scatterpolargl"
           }
          ],
          "scatterternary": [
           {
            "marker": {
             "colorbar": {
              "outlinewidth": 0,
              "ticks": ""
             }
            },
            "type": "scatterternary"
           }
          ],
          "surface": [
           {
            "colorbar": {
             "outlinewidth": 0,
             "ticks": ""
            },
            "colorscale": [
             [
              0,
              "#0d0887"
             ],
             [
              0.1111111111111111,
              "#46039f"
             ],
             [
              0.2222222222222222,
              "#7201a8"
             ],
             [
              0.3333333333333333,
              "#9c179e"
             ],
             [
              0.4444444444444444,
              "#bd3786"
             ],
             [
              0.5555555555555556,
              "#d8576b"
             ],
             [
              0.6666666666666666,
              "#ed7953"
             ],
             [
              0.7777777777777778,
              "#fb9f3a"
             ],
             [
              0.8888888888888888,
              "#fdca26"
             ],
             [
              1,
              "#f0f921"
             ]
            ],
            "type": "surface"
           }
          ],
          "table": [
           {
            "cells": {
             "fill": {
              "color": "#EBF0F8"
             },
             "line": {
              "color": "white"
             }
            },
            "header": {
             "fill": {
              "color": "#C8D4E3"
             },
             "line": {
              "color": "white"
             }
            },
            "type": "table"
           }
          ]
         },
         "layout": {
          "annotationdefaults": {
           "arrowcolor": "#2a3f5f",
           "arrowhead": 0,
           "arrowwidth": 1
          },
          "coloraxis": {
           "colorbar": {
            "outlinewidth": 0,
            "ticks": ""
           }
          },
          "colorscale": {
           "diverging": [
            [
             0,
             "#8e0152"
            ],
            [
             0.1,
             "#c51b7d"
            ],
            [
             0.2,
             "#de77ae"
            ],
            [
             0.3,
             "#f1b6da"
            ],
            [
             0.4,
             "#fde0ef"
            ],
            [
             0.5,
             "#f7f7f7"
            ],
            [
             0.6,
             "#e6f5d0"
            ],
            [
             0.7,
             "#b8e186"
            ],
            [
             0.8,
             "#7fbc41"
            ],
            [
             0.9,
             "#4d9221"
            ],
            [
             1,
             "#276419"
            ]
           ],
           "sequential": [
            [
             0,
             "#0d0887"
            ],
            [
             0.1111111111111111,
             "#46039f"
            ],
            [
             0.2222222222222222,
             "#7201a8"
            ],
            [
             0.3333333333333333,
             "#9c179e"
            ],
            [
             0.4444444444444444,
             "#bd3786"
            ],
            [
             0.5555555555555556,
             "#d8576b"
            ],
            [
             0.6666666666666666,
             "#ed7953"
            ],
            [
             0.7777777777777778,
             "#fb9f3a"
            ],
            [
             0.8888888888888888,
             "#fdca26"
            ],
            [
             1,
             "#f0f921"
            ]
           ],
           "sequentialminus": [
            [
             0,
             "#0d0887"
            ],
            [
             0.1111111111111111,
             "#46039f"
            ],
            [
             0.2222222222222222,
             "#7201a8"
            ],
            [
             0.3333333333333333,
             "#9c179e"
            ],
            [
             0.4444444444444444,
             "#bd3786"
            ],
            [
             0.5555555555555556,
             "#d8576b"
            ],
            [
             0.6666666666666666,
             "#ed7953"
            ],
            [
             0.7777777777777778,
             "#fb9f3a"
            ],
            [
             0.8888888888888888,
             "#fdca26"
            ],
            [
             1,
             "#f0f921"
            ]
           ]
          },
          "colorway": [
           "#636efa",
           "#EF553B",
           "#00cc96",
           "#ab63fa",
           "#FFA15A",
           "#19d3f3",
           "#FF6692",
           "#B6E880",
           "#FF97FF",
           "#FECB52"
          ],
          "font": {
           "color": "#2a3f5f"
          },
          "geo": {
           "bgcolor": "white",
           "lakecolor": "white",
           "landcolor": "#E5ECF6",
           "showlakes": true,
           "showland": true,
           "subunitcolor": "white"
          },
          "hoverlabel": {
           "align": "left"
          },
          "hovermode": "closest",
          "mapbox": {
           "style": "light"
          },
          "paper_bgcolor": "white",
          "plot_bgcolor": "#E5ECF6",
          "polar": {
           "angularaxis": {
            "gridcolor": "white",
            "linecolor": "white",
            "ticks": ""
           },
           "bgcolor": "#E5ECF6",
           "radialaxis": {
            "gridcolor": "white",
            "linecolor": "white",
            "ticks": ""
           }
          },
          "scene": {
           "xaxis": {
            "backgroundcolor": "#E5ECF6",
            "gridcolor": "white",
            "gridwidth": 2,
            "linecolor": "white",
            "showbackground": true,
            "ticks": "",
            "zerolinecolor": "white"
           },
           "yaxis": {
            "backgroundcolor": "#E5ECF6",
            "gridcolor": "white",
            "gridwidth": 2,
            "linecolor": "white",
            "showbackground": true,
            "ticks": "",
            "zerolinecolor": "white"
           },
           "zaxis": {
            "backgroundcolor": "#E5ECF6",
            "gridcolor": "white",
            "gridwidth": 2,
            "linecolor": "white",
            "showbackground": true,
            "ticks": "",
            "zerolinecolor": "white"
           }
          },
          "shapedefaults": {
           "line": {
            "color": "#2a3f5f"
           }
          },
          "ternary": {
           "aaxis": {
            "gridcolor": "white",
            "linecolor": "white",
            "ticks": ""
           },
           "baxis": {
            "gridcolor": "white",
            "linecolor": "white",
            "ticks": ""
           },
           "bgcolor": "#E5ECF6",
           "caxis": {
            "gridcolor": "white",
            "linecolor": "white",
            "ticks": ""
           }
          },
          "title": {
           "x": 0.05
          },
          "xaxis": {
           "automargin": true,
           "gridcolor": "white",
           "linecolor": "white",
           "ticks": "",
           "title": {
            "standoff": 15
           },
           "zerolinecolor": "white",
           "zerolinewidth": 2
          },
          "yaxis": {
           "automargin": true,
           "gridcolor": "white",
           "linecolor": "white",
           "ticks": "",
           "title": {
            "standoff": 15
           },
           "zerolinecolor": "white",
           "zerolinewidth": 2
          }
         }
        },
        "title": {
         "text": "Deaths, US"
        },
        "xaxis": {
         "anchor": "y",
         "domain": [
          0,
          0.94
         ]
        },
        "yaxis": {
         "anchor": "x",
         "domain": [
          0,
          1
         ]
        },
        "yaxis2": {
         "anchor": "x",
         "overlaying": "y",
         "side": "right"
        }
       }
      },
      "text/html": [
       "<div>\n",
       "        \n",
       "        \n",
       "            <div id=\"ea367f19-c2a8-4c84-975b-4b410635a368\" class=\"plotly-graph-div\" style=\"height:525px; width:100%;\"></div>\n",
       "            <script type=\"text/javascript\">\n",
       "                require([\"plotly\"], function(Plotly) {\n",
       "                    window.PLOTLYENV=window.PLOTLYENV || {};\n",
       "                    \n",
       "                if (document.getElementById(\"ea367f19-c2a8-4c84-975b-4b410635a368\")) {\n",
       "                    Plotly.newPlot(\n",
       "                        'ea367f19-c2a8-4c84-975b-4b410635a368',\n",
       "                        [{\"mode\": \"markers\", \"name\": \"# Cases\", \"type\": \"scatter\", \"x\": [\"2020-01-22T00:00:00\", \"2020-01-23T00:00:00\", \"2020-01-24T00:00:00\", \"2020-01-25T00:00:00\", \"2020-01-26T00:00:00\", \"2020-01-27T00:00:00\", \"2020-01-28T00:00:00\", \"2020-01-29T00:00:00\", \"2020-01-30T00:00:00\", \"2020-01-31T00:00:00\", \"2020-02-01T00:00:00\", \"2020-02-02T00:00:00\", \"2020-02-03T00:00:00\", \"2020-02-04T00:00:00\", \"2020-02-05T00:00:00\", \"2020-02-06T00:00:00\", \"2020-02-07T00:00:00\", \"2020-02-08T00:00:00\", \"2020-02-09T00:00:00\", \"2020-02-10T00:00:00\", \"2020-02-11T00:00:00\", \"2020-02-12T00:00:00\", \"2020-02-13T00:00:00\", \"2020-02-14T00:00:00\", \"2020-02-15T00:00:00\", \"2020-02-16T00:00:00\", \"2020-02-17T00:00:00\", \"2020-02-18T00:00:00\", \"2020-02-19T00:00:00\", \"2020-02-20T00:00:00\", \"2020-02-21T00:00:00\", \"2020-02-22T00:00:00\", \"2020-02-23T00:00:00\", \"2020-02-24T00:00:00\", \"2020-02-25T00:00:00\", \"2020-02-26T00:00:00\", \"2020-02-27T00:00:00\", \"2020-02-28T00:00:00\", \"2020-02-29T00:00:00\", \"2020-03-01T00:00:00\", \"2020-03-02T00:00:00\", \"2020-03-03T00:00:00\", \"2020-03-04T00:00:00\", \"2020-03-05T00:00:00\", \"2020-03-06T00:00:00\", \"2020-03-07T00:00:00\"], \"xaxis\": \"x\", \"y\": [0, 0, 0, 0, 0, 0, 0, 0, 0, 0, 0, 0, 0, 0, 0, 0, 0, 0, 0, 0, 0, 0, 0, 0, 0, 0, 0, 0, 0, 0, 0, 0, 0, 0, 0, 0, 0, 0, 1, 1, 6, 7, 11, 12, 14, 17], \"yaxis\": \"y\"}, {\"mode\": \"markers\", \"name\": \"DJIA Close\", \"type\": \"scatter\", \"x\": [\"2020-01-22T00:00:00\", \"2020-01-23T00:00:00\", \"2020-01-24T00:00:00\", \"2020-01-25T00:00:00\", \"2020-01-26T00:00:00\", \"2020-01-27T00:00:00\", \"2020-01-28T00:00:00\", \"2020-01-29T00:00:00\", \"2020-01-30T00:00:00\", \"2020-01-31T00:00:00\", \"2020-02-01T00:00:00\", \"2020-02-02T00:00:00\", \"2020-02-03T00:00:00\", \"2020-02-04T00:00:00\", \"2020-02-05T00:00:00\", \"2020-02-06T00:00:00\", \"2020-02-07T00:00:00\", \"2020-02-08T00:00:00\", \"2020-02-09T00:00:00\", \"2020-02-10T00:00:00\", \"2020-02-11T00:00:00\", \"2020-02-12T00:00:00\", \"2020-02-13T00:00:00\", \"2020-02-14T00:00:00\", \"2020-02-15T00:00:00\", \"2020-02-16T00:00:00\", \"2020-02-17T00:00:00\", \"2020-02-18T00:00:00\", \"2020-02-19T00:00:00\", \"2020-02-20T00:00:00\", \"2020-02-21T00:00:00\", \"2020-02-22T00:00:00\", \"2020-02-23T00:00:00\", \"2020-02-24T00:00:00\", \"2020-02-25T00:00:00\", \"2020-02-26T00:00:00\", \"2020-02-27T00:00:00\", \"2020-02-28T00:00:00\", \"2020-02-29T00:00:00\", \"2020-03-01T00:00:00\", \"2020-03-02T00:00:00\", \"2020-03-03T00:00:00\", \"2020-03-04T00:00:00\", \"2020-03-05T00:00:00\", \"2020-03-06T00:00:00\", \"2020-03-07T00:00:00\"], \"xaxis\": \"x\", \"y\": [29186.269531, 29160.089844, 28989.730469, null, null, 28535.800781, 28722.849608999997, 28734.449219, 28859.439452999995, 28256.029297000005, null, null, 28399.810547000005, 28807.630858999997, 29290.849608999997, 29379.769531, 29102.509766000003, null, null, 29276.820313, 29276.339844, 29551.419922000005, 29423.310547000005, 29398.080077999995, null, null, null, 29232.189452999995, 29348.029297000005, 29219.980469, 28992.410156, null, null, 27960.800781, 27081.359375, 26957.589844, 25766.640625, 25409.359375, null, null, 26703.320313, 25917.410156, 27090.859375, 26121.279297, 25864.779297, null], \"yaxis\": \"y2\"}, {\"mode\": \"markers\", \"name\": \"DJIA Open\", \"type\": \"scatter\", \"x\": [\"2020-01-22T00:00:00\", \"2020-01-23T00:00:00\", \"2020-01-24T00:00:00\", \"2020-01-25T00:00:00\", \"2020-01-26T00:00:00\", \"2020-01-27T00:00:00\", \"2020-01-28T00:00:00\", \"2020-01-29T00:00:00\", \"2020-01-30T00:00:00\", \"2020-01-31T00:00:00\", \"2020-02-01T00:00:00\", \"2020-02-02T00:00:00\", \"2020-02-03T00:00:00\", \"2020-02-04T00:00:00\", \"2020-02-05T00:00:00\", \"2020-02-06T00:00:00\", \"2020-02-07T00:00:00\", \"2020-02-08T00:00:00\", \"2020-02-09T00:00:00\", \"2020-02-10T00:00:00\", \"2020-02-11T00:00:00\", \"2020-02-12T00:00:00\", \"2020-02-13T00:00:00\", \"2020-02-14T00:00:00\", \"2020-02-15T00:00:00\", \"2020-02-16T00:00:00\", \"2020-02-17T00:00:00\", \"2020-02-18T00:00:00\", \"2020-02-19T00:00:00\", \"2020-02-20T00:00:00\", \"2020-02-21T00:00:00\", \"2020-02-22T00:00:00\", \"2020-02-23T00:00:00\", \"2020-02-24T00:00:00\", \"2020-02-25T00:00:00\", \"2020-02-26T00:00:00\", \"2020-02-27T00:00:00\", \"2020-02-28T00:00:00\", \"2020-02-29T00:00:00\", \"2020-03-01T00:00:00\", \"2020-03-02T00:00:00\", \"2020-03-03T00:00:00\", \"2020-03-04T00:00:00\", \"2020-03-05T00:00:00\", \"2020-03-06T00:00:00\", \"2020-03-07T00:00:00\"], \"xaxis\": \"x\", \"y\": [29263.630858999997, 29111.019531, 29230.390625, null, null, 28542.490233999997, 28594.279297000005, 28820.529297000005, 28640.160156, 28813.039063, null, null, 28319.650391000003, 28696.740233999997, 29048.730469, 29388.580077999995, 29286.919922000005, null, null, 28995.660156, 29390.710938, 29406.75, 29436.029297000005, 29440.470702999995, null, null, null, 29282.779297000005, 29312.699219, 29296.25, 29146.529297000005, null, null, 28402.929688, 28037.650391000003, 27159.460938, 26526.0, 25270.830078, null, null, 25590.509766, 26762.470703, 26383.679688, 26671.919922, 25457.210938, null], \"yaxis\": \"y2\"}],\n",
       "                        {\"template\": {\"data\": {\"bar\": [{\"error_x\": {\"color\": \"#2a3f5f\"}, \"error_y\": {\"color\": \"#2a3f5f\"}, \"marker\": {\"line\": {\"color\": \"#E5ECF6\", \"width\": 0.5}}, \"type\": \"bar\"}], \"barpolar\": [{\"marker\": {\"line\": {\"color\": \"#E5ECF6\", \"width\": 0.5}}, \"type\": \"barpolar\"}], \"carpet\": [{\"aaxis\": {\"endlinecolor\": \"#2a3f5f\", \"gridcolor\": \"white\", \"linecolor\": \"white\", \"minorgridcolor\": \"white\", \"startlinecolor\": \"#2a3f5f\"}, \"baxis\": {\"endlinecolor\": \"#2a3f5f\", \"gridcolor\": \"white\", \"linecolor\": \"white\", \"minorgridcolor\": \"white\", \"startlinecolor\": \"#2a3f5f\"}, \"type\": \"carpet\"}], \"choropleth\": [{\"colorbar\": {\"outlinewidth\": 0, \"ticks\": \"\"}, \"type\": \"choropleth\"}], \"contour\": [{\"colorbar\": {\"outlinewidth\": 0, \"ticks\": \"\"}, \"colorscale\": [[0.0, \"#0d0887\"], [0.1111111111111111, \"#46039f\"], [0.2222222222222222, \"#7201a8\"], [0.3333333333333333, \"#9c179e\"], [0.4444444444444444, \"#bd3786\"], [0.5555555555555556, \"#d8576b\"], [0.6666666666666666, \"#ed7953\"], [0.7777777777777778, \"#fb9f3a\"], [0.8888888888888888, \"#fdca26\"], [1.0, \"#f0f921\"]], \"type\": \"contour\"}], \"contourcarpet\": [{\"colorbar\": {\"outlinewidth\": 0, \"ticks\": \"\"}, \"type\": \"contourcarpet\"}], \"heatmap\": [{\"colorbar\": {\"outlinewidth\": 0, \"ticks\": \"\"}, \"colorscale\": [[0.0, \"#0d0887\"], [0.1111111111111111, \"#46039f\"], [0.2222222222222222, \"#7201a8\"], [0.3333333333333333, \"#9c179e\"], [0.4444444444444444, \"#bd3786\"], [0.5555555555555556, \"#d8576b\"], [0.6666666666666666, \"#ed7953\"], [0.7777777777777778, \"#fb9f3a\"], [0.8888888888888888, \"#fdca26\"], [1.0, \"#f0f921\"]], \"type\": \"heatmap\"}], \"heatmapgl\": [{\"colorbar\": {\"outlinewidth\": 0, \"ticks\": \"\"}, \"colorscale\": [[0.0, \"#0d0887\"], [0.1111111111111111, \"#46039f\"], [0.2222222222222222, \"#7201a8\"], [0.3333333333333333, \"#9c179e\"], [0.4444444444444444, \"#bd3786\"], [0.5555555555555556, \"#d8576b\"], [0.6666666666666666, \"#ed7953\"], [0.7777777777777778, \"#fb9f3a\"], [0.8888888888888888, \"#fdca26\"], [1.0, \"#f0f921\"]], \"type\": \"heatmapgl\"}], \"histogram\": [{\"marker\": {\"colorbar\": {\"outlinewidth\": 0, \"ticks\": \"\"}}, \"type\": \"histogram\"}], \"histogram2d\": [{\"colorbar\": {\"outlinewidth\": 0, \"ticks\": \"\"}, \"colorscale\": [[0.0, \"#0d0887\"], [0.1111111111111111, \"#46039f\"], [0.2222222222222222, \"#7201a8\"], [0.3333333333333333, \"#9c179e\"], [0.4444444444444444, \"#bd3786\"], [0.5555555555555556, \"#d8576b\"], [0.6666666666666666, \"#ed7953\"], [0.7777777777777778, \"#fb9f3a\"], [0.8888888888888888, \"#fdca26\"], [1.0, \"#f0f921\"]], \"type\": \"histogram2d\"}], \"histogram2dcontour\": [{\"colorbar\": {\"outlinewidth\": 0, \"ticks\": \"\"}, \"colorscale\": [[0.0, \"#0d0887\"], [0.1111111111111111, \"#46039f\"], [0.2222222222222222, \"#7201a8\"], [0.3333333333333333, \"#9c179e\"], [0.4444444444444444, \"#bd3786\"], [0.5555555555555556, \"#d8576b\"], [0.6666666666666666, \"#ed7953\"], [0.7777777777777778, \"#fb9f3a\"], [0.8888888888888888, \"#fdca26\"], [1.0, \"#f0f921\"]], \"type\": \"histogram2dcontour\"}], \"mesh3d\": [{\"colorbar\": {\"outlinewidth\": 0, \"ticks\": \"\"}, \"type\": \"mesh3d\"}], \"parcoords\": [{\"line\": {\"colorbar\": {\"outlinewidth\": 0, \"ticks\": \"\"}}, \"type\": \"parcoords\"}], \"pie\": [{\"automargin\": true, \"type\": \"pie\"}], \"scatter\": [{\"marker\": {\"colorbar\": {\"outlinewidth\": 0, \"ticks\": \"\"}}, \"type\": \"scatter\"}], \"scatter3d\": [{\"line\": {\"colorbar\": {\"outlinewidth\": 0, \"ticks\": \"\"}}, \"marker\": {\"colorbar\": {\"outlinewidth\": 0, \"ticks\": \"\"}}, \"type\": \"scatter3d\"}], \"scattercarpet\": [{\"marker\": {\"colorbar\": {\"outlinewidth\": 0, \"ticks\": \"\"}}, \"type\": \"scattercarpet\"}], \"scattergeo\": [{\"marker\": {\"colorbar\": {\"outlinewidth\": 0, \"ticks\": \"\"}}, \"type\": \"scattergeo\"}], \"scattergl\": [{\"marker\": {\"colorbar\": {\"outlinewidth\": 0, \"ticks\": \"\"}}, \"type\": \"scattergl\"}], \"scattermapbox\": [{\"marker\": {\"colorbar\": {\"outlinewidth\": 0, \"ticks\": \"\"}}, \"type\": \"scattermapbox\"}], \"scatterpolar\": [{\"marker\": {\"colorbar\": {\"outlinewidth\": 0, \"ticks\": \"\"}}, \"type\": \"scatterpolar\"}], \"scatterpolargl\": [{\"marker\": {\"colorbar\": {\"outlinewidth\": 0, \"ticks\": \"\"}}, \"type\": \"scatterpolargl\"}], \"scatterternary\": [{\"marker\": {\"colorbar\": {\"outlinewidth\": 0, \"ticks\": \"\"}}, \"type\": \"scatterternary\"}], \"surface\": [{\"colorbar\": {\"outlinewidth\": 0, \"ticks\": \"\"}, \"colorscale\": [[0.0, \"#0d0887\"], [0.1111111111111111, \"#46039f\"], [0.2222222222222222, \"#7201a8\"], [0.3333333333333333, \"#9c179e\"], [0.4444444444444444, \"#bd3786\"], [0.5555555555555556, \"#d8576b\"], [0.6666666666666666, \"#ed7953\"], [0.7777777777777778, \"#fb9f3a\"], [0.8888888888888888, \"#fdca26\"], [1.0, \"#f0f921\"]], \"type\": \"surface\"}], \"table\": [{\"cells\": {\"fill\": {\"color\": \"#EBF0F8\"}, \"line\": {\"color\": \"white\"}}, \"header\": {\"fill\": {\"color\": \"#C8D4E3\"}, \"line\": {\"color\": \"white\"}}, \"type\": \"table\"}]}, \"layout\": {\"annotationdefaults\": {\"arrowcolor\": \"#2a3f5f\", \"arrowhead\": 0, \"arrowwidth\": 1}, \"coloraxis\": {\"colorbar\": {\"outlinewidth\": 0, \"ticks\": \"\"}}, \"colorscale\": {\"diverging\": [[0, \"#8e0152\"], [0.1, \"#c51b7d\"], [0.2, \"#de77ae\"], [0.3, \"#f1b6da\"], [0.4, \"#fde0ef\"], [0.5, \"#f7f7f7\"], [0.6, \"#e6f5d0\"], [0.7, \"#b8e186\"], [0.8, \"#7fbc41\"], [0.9, \"#4d9221\"], [1, \"#276419\"]], \"sequential\": [[0.0, \"#0d0887\"], [0.1111111111111111, \"#46039f\"], [0.2222222222222222, \"#7201a8\"], [0.3333333333333333, \"#9c179e\"], [0.4444444444444444, \"#bd3786\"], [0.5555555555555556, \"#d8576b\"], [0.6666666666666666, \"#ed7953\"], [0.7777777777777778, \"#fb9f3a\"], [0.8888888888888888, \"#fdca26\"], [1.0, \"#f0f921\"]], \"sequentialminus\": [[0.0, \"#0d0887\"], [0.1111111111111111, \"#46039f\"], [0.2222222222222222, \"#7201a8\"], [0.3333333333333333, \"#9c179e\"], [0.4444444444444444, \"#bd3786\"], [0.5555555555555556, \"#d8576b\"], [0.6666666666666666, \"#ed7953\"], [0.7777777777777778, \"#fb9f3a\"], [0.8888888888888888, \"#fdca26\"], [1.0, \"#f0f921\"]]}, \"colorway\": [\"#636efa\", \"#EF553B\", \"#00cc96\", \"#ab63fa\", \"#FFA15A\", \"#19d3f3\", \"#FF6692\", \"#B6E880\", \"#FF97FF\", \"#FECB52\"], \"font\": {\"color\": \"#2a3f5f\"}, \"geo\": {\"bgcolor\": \"white\", \"lakecolor\": \"white\", \"landcolor\": \"#E5ECF6\", \"showlakes\": true, \"showland\": true, \"subunitcolor\": \"white\"}, \"hoverlabel\": {\"align\": \"left\"}, \"hovermode\": \"closest\", \"mapbox\": {\"style\": \"light\"}, \"paper_bgcolor\": \"white\", \"plot_bgcolor\": \"#E5ECF6\", \"polar\": {\"angularaxis\": {\"gridcolor\": \"white\", \"linecolor\": \"white\", \"ticks\": \"\"}, \"bgcolor\": \"#E5ECF6\", \"radialaxis\": {\"gridcolor\": \"white\", \"linecolor\": \"white\", \"ticks\": \"\"}}, \"scene\": {\"xaxis\": {\"backgroundcolor\": \"#E5ECF6\", \"gridcolor\": \"white\", \"gridwidth\": 2, \"linecolor\": \"white\", \"showbackground\": true, \"ticks\": \"\", \"zerolinecolor\": \"white\"}, \"yaxis\": {\"backgroundcolor\": \"#E5ECF6\", \"gridcolor\": \"white\", \"gridwidth\": 2, \"linecolor\": \"white\", \"showbackground\": true, \"ticks\": \"\", \"zerolinecolor\": \"white\"}, \"zaxis\": {\"backgroundcolor\": \"#E5ECF6\", \"gridcolor\": \"white\", \"gridwidth\": 2, \"linecolor\": \"white\", \"showbackground\": true, \"ticks\": \"\", \"zerolinecolor\": \"white\"}}, \"shapedefaults\": {\"line\": {\"color\": \"#2a3f5f\"}}, \"ternary\": {\"aaxis\": {\"gridcolor\": \"white\", \"linecolor\": \"white\", \"ticks\": \"\"}, \"baxis\": {\"gridcolor\": \"white\", \"linecolor\": \"white\", \"ticks\": \"\"}, \"bgcolor\": \"#E5ECF6\", \"caxis\": {\"gridcolor\": \"white\", \"linecolor\": \"white\", \"ticks\": \"\"}}, \"title\": {\"x\": 0.05}, \"xaxis\": {\"automargin\": true, \"gridcolor\": \"white\", \"linecolor\": \"white\", \"ticks\": \"\", \"title\": {\"standoff\": 15}, \"zerolinecolor\": \"white\", \"zerolinewidth\": 2}, \"yaxis\": {\"automargin\": true, \"gridcolor\": \"white\", \"linecolor\": \"white\", \"ticks\": \"\", \"title\": {\"standoff\": 15}, \"zerolinecolor\": \"white\", \"zerolinewidth\": 2}}}, \"title\": {\"text\": \"Deaths, US\"}, \"xaxis\": {\"anchor\": \"y\", \"domain\": [0.0, 0.94]}, \"yaxis\": {\"anchor\": \"x\", \"domain\": [0.0, 1.0]}, \"yaxis2\": {\"anchor\": \"x\", \"overlaying\": \"y\", \"side\": \"right\"}},\n",
       "                        {\"responsive\": true}\n",
       "                    ).then(function(){\n",
       "                            \n",
       "var gd = document.getElementById('ea367f19-c2a8-4c84-975b-4b410635a368');\n",
       "var x = new MutationObserver(function (mutations, observer) {{\n",
       "        var display = window.getComputedStyle(gd).display;\n",
       "        if (!display || display === 'none') {{\n",
       "            console.log([gd, 'removed!']);\n",
       "            Plotly.purge(gd);\n",
       "            observer.disconnect();\n",
       "        }}\n",
       "}});\n",
       "\n",
       "// Listen for the removal of the full notebook cells\n",
       "var notebookContainer = gd.closest('#notebook-container');\n",
       "if (notebookContainer) {{\n",
       "    x.observe(notebookContainer, {childList: true});\n",
       "}}\n",
       "\n",
       "// Listen for the clearing of the current output cell\n",
       "var outputEl = gd.closest('.output');\n",
       "if (outputEl) {{\n",
       "    x.observe(outputEl, {childList: true});\n",
       "}}\n",
       "\n",
       "                        })\n",
       "                };\n",
       "                });\n",
       "            </script>\n",
       "        </div>"
      ]
     },
     "metadata": {},
     "output_type": "display_data"
    }
   ],
   "source": [
    "loc = 'US'\n",
    "case_type = 'Deaths'\n",
    "\n",
    "plot_df = tidy_df[(tidy_df['US']==loc)&(tidy_df['Type']==case_type)]\n",
    "\n",
    "\n",
    "fig = make_subplots(specs=[[{\"secondary_y\": True}]])\n",
    "fig.add_trace(\n",
    "    go.Scatter(x=plot_df['Date'], y=plot_df['Count'], mode='markers', name='# Cases'),\n",
    "    secondary_y=False,\n",
    ")\n",
    "fig.add_trace(\n",
    "    go.Scatter(x=plot_df['Date'], y=plot_df['Close'], mode='markers', name='DJIA Close'),\n",
    "    secondary_y=True,\n",
    ")\n",
    "fig.add_trace(\n",
    "    go.Scatter(x=plot_df['Date'], y=plot_df['Open'], mode='markers', name='DJIA Open'),\n",
    "    secondary_y=True,\n",
    ")\n",
    "\n",
    "fig.update_layout(\n",
    "    title=\"{}, {}\".format(case_type, loc)\n",
    ")"
   ]
  },
  {
   "cell_type": "code",
   "execution_count": 65,
   "metadata": {},
   "outputs": [
    {
     "data": {
      "application/vnd.plotly.v1+json": {
       "config": {
        "plotlyServerURL": "https://plot.ly"
       },
       "data": [
        {
         "mode": "markers",
         "name": "# Cases",
         "type": "scatter",
         "x": [
          "2020-01-22T00:00:00",
          "2020-01-23T00:00:00",
          "2020-01-24T00:00:00",
          "2020-01-25T00:00:00",
          "2020-01-26T00:00:00",
          "2020-01-27T00:00:00",
          "2020-01-28T00:00:00",
          "2020-01-29T00:00:00",
          "2020-01-30T00:00:00",
          "2020-01-31T00:00:00",
          "2020-02-01T00:00:00",
          "2020-02-02T00:00:00",
          "2020-02-03T00:00:00",
          "2020-02-04T00:00:00",
          "2020-02-05T00:00:00",
          "2020-02-06T00:00:00",
          "2020-02-07T00:00:00",
          "2020-02-08T00:00:00",
          "2020-02-09T00:00:00",
          "2020-02-10T00:00:00",
          "2020-02-11T00:00:00",
          "2020-02-12T00:00:00",
          "2020-02-13T00:00:00",
          "2020-02-14T00:00:00",
          "2020-02-15T00:00:00",
          "2020-02-16T00:00:00",
          "2020-02-17T00:00:00",
          "2020-02-18T00:00:00",
          "2020-02-19T00:00:00",
          "2020-02-20T00:00:00",
          "2020-02-21T00:00:00",
          "2020-02-22T00:00:00",
          "2020-02-23T00:00:00",
          "2020-02-24T00:00:00",
          "2020-02-25T00:00:00",
          "2020-02-26T00:00:00",
          "2020-02-27T00:00:00",
          "2020-02-28T00:00:00",
          "2020-02-29T00:00:00",
          "2020-03-01T00:00:00",
          "2020-03-02T00:00:00",
          "2020-03-03T00:00:00",
          "2020-03-04T00:00:00",
          "2020-03-05T00:00:00",
          "2020-03-06T00:00:00",
          "2020-03-07T00:00:00"
         ],
         "xaxis": "x",
         "y": [
          0,
          0,
          0,
          0,
          0,
          0,
          0,
          0,
          0,
          0,
          0,
          0,
          0,
          0,
          0,
          0,
          0,
          0,
          3,
          3,
          3,
          3,
          3,
          3,
          3,
          3,
          3,
          3,
          3,
          3,
          5,
          5,
          5,
          5,
          6,
          6,
          6,
          7,
          7,
          7,
          7,
          8,
          8,
          8,
          8,
          8
         ],
         "yaxis": "y"
        },
        {
         "mode": "markers",
         "name": "DJIA Close",
         "type": "scatter",
         "x": [
          "2020-01-22T00:00:00",
          "2020-01-23T00:00:00",
          "2020-01-24T00:00:00",
          "2020-01-25T00:00:00",
          "2020-01-26T00:00:00",
          "2020-01-27T00:00:00",
          "2020-01-28T00:00:00",
          "2020-01-29T00:00:00",
          "2020-01-30T00:00:00",
          "2020-01-31T00:00:00",
          "2020-02-01T00:00:00",
          "2020-02-02T00:00:00",
          "2020-02-03T00:00:00",
          "2020-02-04T00:00:00",
          "2020-02-05T00:00:00",
          "2020-02-06T00:00:00",
          "2020-02-07T00:00:00",
          "2020-02-08T00:00:00",
          "2020-02-09T00:00:00",
          "2020-02-10T00:00:00",
          "2020-02-11T00:00:00",
          "2020-02-12T00:00:00",
          "2020-02-13T00:00:00",
          "2020-02-14T00:00:00",
          "2020-02-15T00:00:00",
          "2020-02-16T00:00:00",
          "2020-02-17T00:00:00",
          "2020-02-18T00:00:00",
          "2020-02-19T00:00:00",
          "2020-02-20T00:00:00",
          "2020-02-21T00:00:00",
          "2020-02-22T00:00:00",
          "2020-02-23T00:00:00",
          "2020-02-24T00:00:00",
          "2020-02-25T00:00:00",
          "2020-02-26T00:00:00",
          "2020-02-27T00:00:00",
          "2020-02-28T00:00:00",
          "2020-02-29T00:00:00",
          "2020-03-01T00:00:00",
          "2020-03-02T00:00:00",
          "2020-03-03T00:00:00",
          "2020-03-04T00:00:00",
          "2020-03-05T00:00:00",
          "2020-03-06T00:00:00",
          "2020-03-07T00:00:00"
         ],
         "xaxis": "x",
         "y": [
          29186.269531,
          29160.089844,
          28989.730469,
          null,
          null,
          28535.800781,
          28722.849608999997,
          28734.449219,
          28859.439452999995,
          28256.029297000005,
          null,
          null,
          28399.810547000005,
          28807.630858999997,
          29290.849608999997,
          29379.769531,
          29102.509766000003,
          null,
          null,
          29276.820313,
          29276.339844,
          29551.419922000005,
          29423.310547000005,
          29398.080077999995,
          null,
          null,
          null,
          29232.189452999995,
          29348.029297000005,
          29219.980469,
          28992.410156,
          null,
          null,
          27960.800781,
          27081.359375,
          26957.589844,
          25766.640625,
          25409.359375,
          null,
          null,
          26703.320313,
          25917.410156,
          27090.859375,
          26121.279297,
          25864.779297,
          null
         ],
         "yaxis": "y2"
        },
        {
         "mode": "markers",
         "name": "DJIA Open",
         "type": "scatter",
         "x": [
          "2020-01-22T00:00:00",
          "2020-01-23T00:00:00",
          "2020-01-24T00:00:00",
          "2020-01-25T00:00:00",
          "2020-01-26T00:00:00",
          "2020-01-27T00:00:00",
          "2020-01-28T00:00:00",
          "2020-01-29T00:00:00",
          "2020-01-30T00:00:00",
          "2020-01-31T00:00:00",
          "2020-02-01T00:00:00",
          "2020-02-02T00:00:00",
          "2020-02-03T00:00:00",
          "2020-02-04T00:00:00",
          "2020-02-05T00:00:00",
          "2020-02-06T00:00:00",
          "2020-02-07T00:00:00",
          "2020-02-08T00:00:00",
          "2020-02-09T00:00:00",
          "2020-02-10T00:00:00",
          "2020-02-11T00:00:00",
          "2020-02-12T00:00:00",
          "2020-02-13T00:00:00",
          "2020-02-14T00:00:00",
          "2020-02-15T00:00:00",
          "2020-02-16T00:00:00",
          "2020-02-17T00:00:00",
          "2020-02-18T00:00:00",
          "2020-02-19T00:00:00",
          "2020-02-20T00:00:00",
          "2020-02-21T00:00:00",
          "2020-02-22T00:00:00",
          "2020-02-23T00:00:00",
          "2020-02-24T00:00:00",
          "2020-02-25T00:00:00",
          "2020-02-26T00:00:00",
          "2020-02-27T00:00:00",
          "2020-02-28T00:00:00",
          "2020-02-29T00:00:00",
          "2020-03-01T00:00:00",
          "2020-03-02T00:00:00",
          "2020-03-03T00:00:00",
          "2020-03-04T00:00:00",
          "2020-03-05T00:00:00",
          "2020-03-06T00:00:00",
          "2020-03-07T00:00:00"
         ],
         "xaxis": "x",
         "y": [
          29263.630858999997,
          29111.019531,
          29230.390625,
          null,
          null,
          28542.490233999997,
          28594.279297000005,
          28820.529297000005,
          28640.160156,
          28813.039063,
          null,
          null,
          28319.650391000003,
          28696.740233999997,
          29048.730469,
          29388.580077999995,
          29286.919922000005,
          null,
          null,
          28995.660156,
          29390.710938,
          29406.75,
          29436.029297000005,
          29440.470702999995,
          null,
          null,
          null,
          29282.779297000005,
          29312.699219,
          29296.25,
          29146.529297000005,
          null,
          null,
          28402.929688,
          28037.650391000003,
          27159.460938,
          26526,
          25270.830078,
          null,
          null,
          25590.509766,
          26762.470703,
          26383.679688,
          26671.919922,
          25457.210938,
          null
         ],
         "yaxis": "y2"
        }
       ],
       "layout": {
        "template": {
         "data": {
          "bar": [
           {
            "error_x": {
             "color": "#2a3f5f"
            },
            "error_y": {
             "color": "#2a3f5f"
            },
            "marker": {
             "line": {
              "color": "#E5ECF6",
              "width": 0.5
             }
            },
            "type": "bar"
           }
          ],
          "barpolar": [
           {
            "marker": {
             "line": {
              "color": "#E5ECF6",
              "width": 0.5
             }
            },
            "type": "barpolar"
           }
          ],
          "carpet": [
           {
            "aaxis": {
             "endlinecolor": "#2a3f5f",
             "gridcolor": "white",
             "linecolor": "white",
             "minorgridcolor": "white",
             "startlinecolor": "#2a3f5f"
            },
            "baxis": {
             "endlinecolor": "#2a3f5f",
             "gridcolor": "white",
             "linecolor": "white",
             "minorgridcolor": "white",
             "startlinecolor": "#2a3f5f"
            },
            "type": "carpet"
           }
          ],
          "choropleth": [
           {
            "colorbar": {
             "outlinewidth": 0,
             "ticks": ""
            },
            "type": "choropleth"
           }
          ],
          "contour": [
           {
            "colorbar": {
             "outlinewidth": 0,
             "ticks": ""
            },
            "colorscale": [
             [
              0,
              "#0d0887"
             ],
             [
              0.1111111111111111,
              "#46039f"
             ],
             [
              0.2222222222222222,
              "#7201a8"
             ],
             [
              0.3333333333333333,
              "#9c179e"
             ],
             [
              0.4444444444444444,
              "#bd3786"
             ],
             [
              0.5555555555555556,
              "#d8576b"
             ],
             [
              0.6666666666666666,
              "#ed7953"
             ],
             [
              0.7777777777777778,
              "#fb9f3a"
             ],
             [
              0.8888888888888888,
              "#fdca26"
             ],
             [
              1,
              "#f0f921"
             ]
            ],
            "type": "contour"
           }
          ],
          "contourcarpet": [
           {
            "colorbar": {
             "outlinewidth": 0,
             "ticks": ""
            },
            "type": "contourcarpet"
           }
          ],
          "heatmap": [
           {
            "colorbar": {
             "outlinewidth": 0,
             "ticks": ""
            },
            "colorscale": [
             [
              0,
              "#0d0887"
             ],
             [
              0.1111111111111111,
              "#46039f"
             ],
             [
              0.2222222222222222,
              "#7201a8"
             ],
             [
              0.3333333333333333,
              "#9c179e"
             ],
             [
              0.4444444444444444,
              "#bd3786"
             ],
             [
              0.5555555555555556,
              "#d8576b"
             ],
             [
              0.6666666666666666,
              "#ed7953"
             ],
             [
              0.7777777777777778,
              "#fb9f3a"
             ],
             [
              0.8888888888888888,
              "#fdca26"
             ],
             [
              1,
              "#f0f921"
             ]
            ],
            "type": "heatmap"
           }
          ],
          "heatmapgl": [
           {
            "colorbar": {
             "outlinewidth": 0,
             "ticks": ""
            },
            "colorscale": [
             [
              0,
              "#0d0887"
             ],
             [
              0.1111111111111111,
              "#46039f"
             ],
             [
              0.2222222222222222,
              "#7201a8"
             ],
             [
              0.3333333333333333,
              "#9c179e"
             ],
             [
              0.4444444444444444,
              "#bd3786"
             ],
             [
              0.5555555555555556,
              "#d8576b"
             ],
             [
              0.6666666666666666,
              "#ed7953"
             ],
             [
              0.7777777777777778,
              "#fb9f3a"
             ],
             [
              0.8888888888888888,
              "#fdca26"
             ],
             [
              1,
              "#f0f921"
             ]
            ],
            "type": "heatmapgl"
           }
          ],
          "histogram": [
           {
            "marker": {
             "colorbar": {
              "outlinewidth": 0,
              "ticks": ""
             }
            },
            "type": "histogram"
           }
          ],
          "histogram2d": [
           {
            "colorbar": {
             "outlinewidth": 0,
             "ticks": ""
            },
            "colorscale": [
             [
              0,
              "#0d0887"
             ],
             [
              0.1111111111111111,
              "#46039f"
             ],
             [
              0.2222222222222222,
              "#7201a8"
             ],
             [
              0.3333333333333333,
              "#9c179e"
             ],
             [
              0.4444444444444444,
              "#bd3786"
             ],
             [
              0.5555555555555556,
              "#d8576b"
             ],
             [
              0.6666666666666666,
              "#ed7953"
             ],
             [
              0.7777777777777778,
              "#fb9f3a"
             ],
             [
              0.8888888888888888,
              "#fdca26"
             ],
             [
              1,
              "#f0f921"
             ]
            ],
            "type": "histogram2d"
           }
          ],
          "histogram2dcontour": [
           {
            "colorbar": {
             "outlinewidth": 0,
             "ticks": ""
            },
            "colorscale": [
             [
              0,
              "#0d0887"
             ],
             [
              0.1111111111111111,
              "#46039f"
             ],
             [
              0.2222222222222222,
              "#7201a8"
             ],
             [
              0.3333333333333333,
              "#9c179e"
             ],
             [
              0.4444444444444444,
              "#bd3786"
             ],
             [
              0.5555555555555556,
              "#d8576b"
             ],
             [
              0.6666666666666666,
              "#ed7953"
             ],
             [
              0.7777777777777778,
              "#fb9f3a"
             ],
             [
              0.8888888888888888,
              "#fdca26"
             ],
             [
              1,
              "#f0f921"
             ]
            ],
            "type": "histogram2dcontour"
           }
          ],
          "mesh3d": [
           {
            "colorbar": {
             "outlinewidth": 0,
             "ticks": ""
            },
            "type": "mesh3d"
           }
          ],
          "parcoords": [
           {
            "line": {
             "colorbar": {
              "outlinewidth": 0,
              "ticks": ""
             }
            },
            "type": "parcoords"
           }
          ],
          "pie": [
           {
            "automargin": true,
            "type": "pie"
           }
          ],
          "scatter": [
           {
            "marker": {
             "colorbar": {
              "outlinewidth": 0,
              "ticks": ""
             }
            },
            "type": "scatter"
           }
          ],
          "scatter3d": [
           {
            "line": {
             "colorbar": {
              "outlinewidth": 0,
              "ticks": ""
             }
            },
            "marker": {
             "colorbar": {
              "outlinewidth": 0,
              "ticks": ""
             }
            },
            "type": "scatter3d"
           }
          ],
          "scattercarpet": [
           {
            "marker": {
             "colorbar": {
              "outlinewidth": 0,
              "ticks": ""
             }
            },
            "type": "scattercarpet"
           }
          ],
          "scattergeo": [
           {
            "marker": {
             "colorbar": {
              "outlinewidth": 0,
              "ticks": ""
             }
            },
            "type": "scattergeo"
           }
          ],
          "scattergl": [
           {
            "marker": {
             "colorbar": {
              "outlinewidth": 0,
              "ticks": ""
             }
            },
            "type": "scattergl"
           }
          ],
          "scattermapbox": [
           {
            "marker": {
             "colorbar": {
              "outlinewidth": 0,
              "ticks": ""
             }
            },
            "type": "scattermapbox"
           }
          ],
          "scatterpolar": [
           {
            "marker": {
             "colorbar": {
              "outlinewidth": 0,
              "ticks": ""
             }
            },
            "type": "scatterpolar"
           }
          ],
          "scatterpolargl": [
           {
            "marker": {
             "colorbar": {
              "outlinewidth": 0,
              "ticks": ""
             }
            },
            "type": "scatterpolargl"
           }
          ],
          "scatterternary": [
           {
            "marker": {
             "colorbar": {
              "outlinewidth": 0,
              "ticks": ""
             }
            },
            "type": "scatterternary"
           }
          ],
          "surface": [
           {
            "colorbar": {
             "outlinewidth": 0,
             "ticks": ""
            },
            "colorscale": [
             [
              0,
              "#0d0887"
             ],
             [
              0.1111111111111111,
              "#46039f"
             ],
             [
              0.2222222222222222,
              "#7201a8"
             ],
             [
              0.3333333333333333,
              "#9c179e"
             ],
             [
              0.4444444444444444,
              "#bd3786"
             ],
             [
              0.5555555555555556,
              "#d8576b"
             ],
             [
              0.6666666666666666,
              "#ed7953"
             ],
             [
              0.7777777777777778,
              "#fb9f3a"
             ],
             [
              0.8888888888888888,
              "#fdca26"
             ],
             [
              1,
              "#f0f921"
             ]
            ],
            "type": "surface"
           }
          ],
          "table": [
           {
            "cells": {
             "fill": {
              "color": "#EBF0F8"
             },
             "line": {
              "color": "white"
             }
            },
            "header": {
             "fill": {
              "color": "#C8D4E3"
             },
             "line": {
              "color": "white"
             }
            },
            "type": "table"
           }
          ]
         },
         "layout": {
          "annotationdefaults": {
           "arrowcolor": "#2a3f5f",
           "arrowhead": 0,
           "arrowwidth": 1
          },
          "coloraxis": {
           "colorbar": {
            "outlinewidth": 0,
            "ticks": ""
           }
          },
          "colorscale": {
           "diverging": [
            [
             0,
             "#8e0152"
            ],
            [
             0.1,
             "#c51b7d"
            ],
            [
             0.2,
             "#de77ae"
            ],
            [
             0.3,
             "#f1b6da"
            ],
            [
             0.4,
             "#fde0ef"
            ],
            [
             0.5,
             "#f7f7f7"
            ],
            [
             0.6,
             "#e6f5d0"
            ],
            [
             0.7,
             "#b8e186"
            ],
            [
             0.8,
             "#7fbc41"
            ],
            [
             0.9,
             "#4d9221"
            ],
            [
             1,
             "#276419"
            ]
           ],
           "sequential": [
            [
             0,
             "#0d0887"
            ],
            [
             0.1111111111111111,
             "#46039f"
            ],
            [
             0.2222222222222222,
             "#7201a8"
            ],
            [
             0.3333333333333333,
             "#9c179e"
            ],
            [
             0.4444444444444444,
             "#bd3786"
            ],
            [
             0.5555555555555556,
             "#d8576b"
            ],
            [
             0.6666666666666666,
             "#ed7953"
            ],
            [
             0.7777777777777778,
             "#fb9f3a"
            ],
            [
             0.8888888888888888,
             "#fdca26"
            ],
            [
             1,
             "#f0f921"
            ]
           ],
           "sequentialminus": [
            [
             0,
             "#0d0887"
            ],
            [
             0.1111111111111111,
             "#46039f"
            ],
            [
             0.2222222222222222,
             "#7201a8"
            ],
            [
             0.3333333333333333,
             "#9c179e"
            ],
            [
             0.4444444444444444,
             "#bd3786"
            ],
            [
             0.5555555555555556,
             "#d8576b"
            ],
            [
             0.6666666666666666,
             "#ed7953"
            ],
            [
             0.7777777777777778,
             "#fb9f3a"
            ],
            [
             0.8888888888888888,
             "#fdca26"
            ],
            [
             1,
             "#f0f921"
            ]
           ]
          },
          "colorway": [
           "#636efa",
           "#EF553B",
           "#00cc96",
           "#ab63fa",
           "#FFA15A",
           "#19d3f3",
           "#FF6692",
           "#B6E880",
           "#FF97FF",
           "#FECB52"
          ],
          "font": {
           "color": "#2a3f5f"
          },
          "geo": {
           "bgcolor": "white",
           "lakecolor": "white",
           "landcolor": "#E5ECF6",
           "showlakes": true,
           "showland": true,
           "subunitcolor": "white"
          },
          "hoverlabel": {
           "align": "left"
          },
          "hovermode": "closest",
          "mapbox": {
           "style": "light"
          },
          "paper_bgcolor": "white",
          "plot_bgcolor": "#E5ECF6",
          "polar": {
           "angularaxis": {
            "gridcolor": "white",
            "linecolor": "white",
            "ticks": ""
           },
           "bgcolor": "#E5ECF6",
           "radialaxis": {
            "gridcolor": "white",
            "linecolor": "white",
            "ticks": ""
           }
          },
          "scene": {
           "xaxis": {
            "backgroundcolor": "#E5ECF6",
            "gridcolor": "white",
            "gridwidth": 2,
            "linecolor": "white",
            "showbackground": true,
            "ticks": "",
            "zerolinecolor": "white"
           },
           "yaxis": {
            "backgroundcolor": "#E5ECF6",
            "gridcolor": "white",
            "gridwidth": 2,
            "linecolor": "white",
            "showbackground": true,
            "ticks": "",
            "zerolinecolor": "white"
           },
           "zaxis": {
            "backgroundcolor": "#E5ECF6",
            "gridcolor": "white",
            "gridwidth": 2,
            "linecolor": "white",
            "showbackground": true,
            "ticks": "",
            "zerolinecolor": "white"
           }
          },
          "shapedefaults": {
           "line": {
            "color": "#2a3f5f"
           }
          },
          "ternary": {
           "aaxis": {
            "gridcolor": "white",
            "linecolor": "white",
            "ticks": ""
           },
           "baxis": {
            "gridcolor": "white",
            "linecolor": "white",
            "ticks": ""
           },
           "bgcolor": "#E5ECF6",
           "caxis": {
            "gridcolor": "white",
            "linecolor": "white",
            "ticks": ""
           }
          },
          "title": {
           "x": 0.05
          },
          "xaxis": {
           "automargin": true,
           "gridcolor": "white",
           "linecolor": "white",
           "ticks": "",
           "title": {
            "standoff": 15
           },
           "zerolinecolor": "white",
           "zerolinewidth": 2
          },
          "yaxis": {
           "automargin": true,
           "gridcolor": "white",
           "linecolor": "white",
           "ticks": "",
           "title": {
            "standoff": 15
           },
           "zerolinecolor": "white",
           "zerolinewidth": 2
          }
         }
        },
        "title": {
         "text": "Recovered, US"
        },
        "xaxis": {
         "anchor": "y",
         "domain": [
          0,
          0.94
         ]
        },
        "yaxis": {
         "anchor": "x",
         "domain": [
          0,
          1
         ]
        },
        "yaxis2": {
         "anchor": "x",
         "overlaying": "y",
         "side": "right"
        }
       }
      },
      "text/html": [
       "<div>\n",
       "        \n",
       "        \n",
       "            <div id=\"48e19dd5-e07c-4b43-850a-29e839d36458\" class=\"plotly-graph-div\" style=\"height:525px; width:100%;\"></div>\n",
       "            <script type=\"text/javascript\">\n",
       "                require([\"plotly\"], function(Plotly) {\n",
       "                    window.PLOTLYENV=window.PLOTLYENV || {};\n",
       "                    \n",
       "                if (document.getElementById(\"48e19dd5-e07c-4b43-850a-29e839d36458\")) {\n",
       "                    Plotly.newPlot(\n",
       "                        '48e19dd5-e07c-4b43-850a-29e839d36458',\n",
       "                        [{\"mode\": \"markers\", \"name\": \"# Cases\", \"type\": \"scatter\", \"x\": [\"2020-01-22T00:00:00\", \"2020-01-23T00:00:00\", \"2020-01-24T00:00:00\", \"2020-01-25T00:00:00\", \"2020-01-26T00:00:00\", \"2020-01-27T00:00:00\", \"2020-01-28T00:00:00\", \"2020-01-29T00:00:00\", \"2020-01-30T00:00:00\", \"2020-01-31T00:00:00\", \"2020-02-01T00:00:00\", \"2020-02-02T00:00:00\", \"2020-02-03T00:00:00\", \"2020-02-04T00:00:00\", \"2020-02-05T00:00:00\", \"2020-02-06T00:00:00\", \"2020-02-07T00:00:00\", \"2020-02-08T00:00:00\", \"2020-02-09T00:00:00\", \"2020-02-10T00:00:00\", \"2020-02-11T00:00:00\", \"2020-02-12T00:00:00\", \"2020-02-13T00:00:00\", \"2020-02-14T00:00:00\", \"2020-02-15T00:00:00\", \"2020-02-16T00:00:00\", \"2020-02-17T00:00:00\", \"2020-02-18T00:00:00\", \"2020-02-19T00:00:00\", \"2020-02-20T00:00:00\", \"2020-02-21T00:00:00\", \"2020-02-22T00:00:00\", \"2020-02-23T00:00:00\", \"2020-02-24T00:00:00\", \"2020-02-25T00:00:00\", \"2020-02-26T00:00:00\", \"2020-02-27T00:00:00\", \"2020-02-28T00:00:00\", \"2020-02-29T00:00:00\", \"2020-03-01T00:00:00\", \"2020-03-02T00:00:00\", \"2020-03-03T00:00:00\", \"2020-03-04T00:00:00\", \"2020-03-05T00:00:00\", \"2020-03-06T00:00:00\", \"2020-03-07T00:00:00\"], \"xaxis\": \"x\", \"y\": [0, 0, 0, 0, 0, 0, 0, 0, 0, 0, 0, 0, 0, 0, 0, 0, 0, 0, 3, 3, 3, 3, 3, 3, 3, 3, 3, 3, 3, 3, 5, 5, 5, 5, 6, 6, 6, 7, 7, 7, 7, 8, 8, 8, 8, 8], \"yaxis\": \"y\"}, {\"mode\": \"markers\", \"name\": \"DJIA Close\", \"type\": \"scatter\", \"x\": [\"2020-01-22T00:00:00\", \"2020-01-23T00:00:00\", \"2020-01-24T00:00:00\", \"2020-01-25T00:00:00\", \"2020-01-26T00:00:00\", \"2020-01-27T00:00:00\", \"2020-01-28T00:00:00\", \"2020-01-29T00:00:00\", \"2020-01-30T00:00:00\", \"2020-01-31T00:00:00\", \"2020-02-01T00:00:00\", \"2020-02-02T00:00:00\", \"2020-02-03T00:00:00\", \"2020-02-04T00:00:00\", \"2020-02-05T00:00:00\", \"2020-02-06T00:00:00\", \"2020-02-07T00:00:00\", \"2020-02-08T00:00:00\", \"2020-02-09T00:00:00\", \"2020-02-10T00:00:00\", \"2020-02-11T00:00:00\", \"2020-02-12T00:00:00\", \"2020-02-13T00:00:00\", \"2020-02-14T00:00:00\", \"2020-02-15T00:00:00\", \"2020-02-16T00:00:00\", \"2020-02-17T00:00:00\", \"2020-02-18T00:00:00\", \"2020-02-19T00:00:00\", \"2020-02-20T00:00:00\", \"2020-02-21T00:00:00\", \"2020-02-22T00:00:00\", \"2020-02-23T00:00:00\", \"2020-02-24T00:00:00\", \"2020-02-25T00:00:00\", \"2020-02-26T00:00:00\", \"2020-02-27T00:00:00\", \"2020-02-28T00:00:00\", \"2020-02-29T00:00:00\", \"2020-03-01T00:00:00\", \"2020-03-02T00:00:00\", \"2020-03-03T00:00:00\", \"2020-03-04T00:00:00\", \"2020-03-05T00:00:00\", \"2020-03-06T00:00:00\", \"2020-03-07T00:00:00\"], \"xaxis\": \"x\", \"y\": [29186.269531, 29160.089844, 28989.730469, null, null, 28535.800781, 28722.849608999997, 28734.449219, 28859.439452999995, 28256.029297000005, null, null, 28399.810547000005, 28807.630858999997, 29290.849608999997, 29379.769531, 29102.509766000003, null, null, 29276.820313, 29276.339844, 29551.419922000005, 29423.310547000005, 29398.080077999995, null, null, null, 29232.189452999995, 29348.029297000005, 29219.980469, 28992.410156, null, null, 27960.800781, 27081.359375, 26957.589844, 25766.640625, 25409.359375, null, null, 26703.320313, 25917.410156, 27090.859375, 26121.279297, 25864.779297, null], \"yaxis\": \"y2\"}, {\"mode\": \"markers\", \"name\": \"DJIA Open\", \"type\": \"scatter\", \"x\": [\"2020-01-22T00:00:00\", \"2020-01-23T00:00:00\", \"2020-01-24T00:00:00\", \"2020-01-25T00:00:00\", \"2020-01-26T00:00:00\", \"2020-01-27T00:00:00\", \"2020-01-28T00:00:00\", \"2020-01-29T00:00:00\", \"2020-01-30T00:00:00\", \"2020-01-31T00:00:00\", \"2020-02-01T00:00:00\", \"2020-02-02T00:00:00\", \"2020-02-03T00:00:00\", \"2020-02-04T00:00:00\", \"2020-02-05T00:00:00\", \"2020-02-06T00:00:00\", \"2020-02-07T00:00:00\", \"2020-02-08T00:00:00\", \"2020-02-09T00:00:00\", \"2020-02-10T00:00:00\", \"2020-02-11T00:00:00\", \"2020-02-12T00:00:00\", \"2020-02-13T00:00:00\", \"2020-02-14T00:00:00\", \"2020-02-15T00:00:00\", \"2020-02-16T00:00:00\", \"2020-02-17T00:00:00\", \"2020-02-18T00:00:00\", \"2020-02-19T00:00:00\", \"2020-02-20T00:00:00\", \"2020-02-21T00:00:00\", \"2020-02-22T00:00:00\", \"2020-02-23T00:00:00\", \"2020-02-24T00:00:00\", \"2020-02-25T00:00:00\", \"2020-02-26T00:00:00\", \"2020-02-27T00:00:00\", \"2020-02-28T00:00:00\", \"2020-02-29T00:00:00\", \"2020-03-01T00:00:00\", \"2020-03-02T00:00:00\", \"2020-03-03T00:00:00\", \"2020-03-04T00:00:00\", \"2020-03-05T00:00:00\", \"2020-03-06T00:00:00\", \"2020-03-07T00:00:00\"], \"xaxis\": \"x\", \"y\": [29263.630858999997, 29111.019531, 29230.390625, null, null, 28542.490233999997, 28594.279297000005, 28820.529297000005, 28640.160156, 28813.039063, null, null, 28319.650391000003, 28696.740233999997, 29048.730469, 29388.580077999995, 29286.919922000005, null, null, 28995.660156, 29390.710938, 29406.75, 29436.029297000005, 29440.470702999995, null, null, null, 29282.779297000005, 29312.699219, 29296.25, 29146.529297000005, null, null, 28402.929688, 28037.650391000003, 27159.460938, 26526.0, 25270.830078, null, null, 25590.509766, 26762.470703, 26383.679688, 26671.919922, 25457.210938, null], \"yaxis\": \"y2\"}],\n",
       "                        {\"template\": {\"data\": {\"bar\": [{\"error_x\": {\"color\": \"#2a3f5f\"}, \"error_y\": {\"color\": \"#2a3f5f\"}, \"marker\": {\"line\": {\"color\": \"#E5ECF6\", \"width\": 0.5}}, \"type\": \"bar\"}], \"barpolar\": [{\"marker\": {\"line\": {\"color\": \"#E5ECF6\", \"width\": 0.5}}, \"type\": \"barpolar\"}], \"carpet\": [{\"aaxis\": {\"endlinecolor\": \"#2a3f5f\", \"gridcolor\": \"white\", \"linecolor\": \"white\", \"minorgridcolor\": \"white\", \"startlinecolor\": \"#2a3f5f\"}, \"baxis\": {\"endlinecolor\": \"#2a3f5f\", \"gridcolor\": \"white\", \"linecolor\": \"white\", \"minorgridcolor\": \"white\", \"startlinecolor\": \"#2a3f5f\"}, \"type\": \"carpet\"}], \"choropleth\": [{\"colorbar\": {\"outlinewidth\": 0, \"ticks\": \"\"}, \"type\": \"choropleth\"}], \"contour\": [{\"colorbar\": {\"outlinewidth\": 0, \"ticks\": \"\"}, \"colorscale\": [[0.0, \"#0d0887\"], [0.1111111111111111, \"#46039f\"], [0.2222222222222222, \"#7201a8\"], [0.3333333333333333, \"#9c179e\"], [0.4444444444444444, \"#bd3786\"], [0.5555555555555556, \"#d8576b\"], [0.6666666666666666, \"#ed7953\"], [0.7777777777777778, \"#fb9f3a\"], [0.8888888888888888, \"#fdca26\"], [1.0, \"#f0f921\"]], \"type\": \"contour\"}], \"contourcarpet\": [{\"colorbar\": {\"outlinewidth\": 0, \"ticks\": \"\"}, \"type\": \"contourcarpet\"}], \"heatmap\": [{\"colorbar\": {\"outlinewidth\": 0, \"ticks\": \"\"}, \"colorscale\": [[0.0, \"#0d0887\"], [0.1111111111111111, \"#46039f\"], [0.2222222222222222, \"#7201a8\"], [0.3333333333333333, \"#9c179e\"], [0.4444444444444444, \"#bd3786\"], [0.5555555555555556, \"#d8576b\"], [0.6666666666666666, \"#ed7953\"], [0.7777777777777778, \"#fb9f3a\"], [0.8888888888888888, \"#fdca26\"], [1.0, \"#f0f921\"]], \"type\": \"heatmap\"}], \"heatmapgl\": [{\"colorbar\": {\"outlinewidth\": 0, \"ticks\": \"\"}, \"colorscale\": [[0.0, \"#0d0887\"], [0.1111111111111111, \"#46039f\"], [0.2222222222222222, \"#7201a8\"], [0.3333333333333333, \"#9c179e\"], [0.4444444444444444, \"#bd3786\"], [0.5555555555555556, \"#d8576b\"], [0.6666666666666666, \"#ed7953\"], [0.7777777777777778, \"#fb9f3a\"], [0.8888888888888888, \"#fdca26\"], [1.0, \"#f0f921\"]], \"type\": \"heatmapgl\"}], \"histogram\": [{\"marker\": {\"colorbar\": {\"outlinewidth\": 0, \"ticks\": \"\"}}, \"type\": \"histogram\"}], \"histogram2d\": [{\"colorbar\": {\"outlinewidth\": 0, \"ticks\": \"\"}, \"colorscale\": [[0.0, \"#0d0887\"], [0.1111111111111111, \"#46039f\"], [0.2222222222222222, \"#7201a8\"], [0.3333333333333333, \"#9c179e\"], [0.4444444444444444, \"#bd3786\"], [0.5555555555555556, \"#d8576b\"], [0.6666666666666666, \"#ed7953\"], [0.7777777777777778, \"#fb9f3a\"], [0.8888888888888888, \"#fdca26\"], [1.0, \"#f0f921\"]], \"type\": \"histogram2d\"}], \"histogram2dcontour\": [{\"colorbar\": {\"outlinewidth\": 0, \"ticks\": \"\"}, \"colorscale\": [[0.0, \"#0d0887\"], [0.1111111111111111, \"#46039f\"], [0.2222222222222222, \"#7201a8\"], [0.3333333333333333, \"#9c179e\"], [0.4444444444444444, \"#bd3786\"], [0.5555555555555556, \"#d8576b\"], [0.6666666666666666, \"#ed7953\"], [0.7777777777777778, \"#fb9f3a\"], [0.8888888888888888, \"#fdca26\"], [1.0, \"#f0f921\"]], \"type\": \"histogram2dcontour\"}], \"mesh3d\": [{\"colorbar\": {\"outlinewidth\": 0, \"ticks\": \"\"}, \"type\": \"mesh3d\"}], \"parcoords\": [{\"line\": {\"colorbar\": {\"outlinewidth\": 0, \"ticks\": \"\"}}, \"type\": \"parcoords\"}], \"pie\": [{\"automargin\": true, \"type\": \"pie\"}], \"scatter\": [{\"marker\": {\"colorbar\": {\"outlinewidth\": 0, \"ticks\": \"\"}}, \"type\": \"scatter\"}], \"scatter3d\": [{\"line\": {\"colorbar\": {\"outlinewidth\": 0, \"ticks\": \"\"}}, \"marker\": {\"colorbar\": {\"outlinewidth\": 0, \"ticks\": \"\"}}, \"type\": \"scatter3d\"}], \"scattercarpet\": [{\"marker\": {\"colorbar\": {\"outlinewidth\": 0, \"ticks\": \"\"}}, \"type\": \"scattercarpet\"}], \"scattergeo\": [{\"marker\": {\"colorbar\": {\"outlinewidth\": 0, \"ticks\": \"\"}}, \"type\": \"scattergeo\"}], \"scattergl\": [{\"marker\": {\"colorbar\": {\"outlinewidth\": 0, \"ticks\": \"\"}}, \"type\": \"scattergl\"}], \"scattermapbox\": [{\"marker\": {\"colorbar\": {\"outlinewidth\": 0, \"ticks\": \"\"}}, \"type\": \"scattermapbox\"}], \"scatterpolar\": [{\"marker\": {\"colorbar\": {\"outlinewidth\": 0, \"ticks\": \"\"}}, \"type\": \"scatterpolar\"}], \"scatterpolargl\": [{\"marker\": {\"colorbar\": {\"outlinewidth\": 0, \"ticks\": \"\"}}, \"type\": \"scatterpolargl\"}], \"scatterternary\": [{\"marker\": {\"colorbar\": {\"outlinewidth\": 0, \"ticks\": \"\"}}, \"type\": \"scatterternary\"}], \"surface\": [{\"colorbar\": {\"outlinewidth\": 0, \"ticks\": \"\"}, \"colorscale\": [[0.0, \"#0d0887\"], [0.1111111111111111, \"#46039f\"], [0.2222222222222222, \"#7201a8\"], [0.3333333333333333, \"#9c179e\"], [0.4444444444444444, \"#bd3786\"], [0.5555555555555556, \"#d8576b\"], [0.6666666666666666, \"#ed7953\"], [0.7777777777777778, \"#fb9f3a\"], [0.8888888888888888, \"#fdca26\"], [1.0, \"#f0f921\"]], \"type\": \"surface\"}], \"table\": [{\"cells\": {\"fill\": {\"color\": \"#EBF0F8\"}, \"line\": {\"color\": \"white\"}}, \"header\": {\"fill\": {\"color\": \"#C8D4E3\"}, \"line\": {\"color\": \"white\"}}, \"type\": \"table\"}]}, \"layout\": {\"annotationdefaults\": {\"arrowcolor\": \"#2a3f5f\", \"arrowhead\": 0, \"arrowwidth\": 1}, \"coloraxis\": {\"colorbar\": {\"outlinewidth\": 0, \"ticks\": \"\"}}, \"colorscale\": {\"diverging\": [[0, \"#8e0152\"], [0.1, \"#c51b7d\"], [0.2, \"#de77ae\"], [0.3, \"#f1b6da\"], [0.4, \"#fde0ef\"], [0.5, \"#f7f7f7\"], [0.6, \"#e6f5d0\"], [0.7, \"#b8e186\"], [0.8, \"#7fbc41\"], [0.9, \"#4d9221\"], [1, \"#276419\"]], \"sequential\": [[0.0, \"#0d0887\"], [0.1111111111111111, \"#46039f\"], [0.2222222222222222, \"#7201a8\"], [0.3333333333333333, \"#9c179e\"], [0.4444444444444444, \"#bd3786\"], [0.5555555555555556, \"#d8576b\"], [0.6666666666666666, \"#ed7953\"], [0.7777777777777778, \"#fb9f3a\"], [0.8888888888888888, \"#fdca26\"], [1.0, \"#f0f921\"]], \"sequentialminus\": [[0.0, \"#0d0887\"], [0.1111111111111111, \"#46039f\"], [0.2222222222222222, \"#7201a8\"], [0.3333333333333333, \"#9c179e\"], [0.4444444444444444, \"#bd3786\"], [0.5555555555555556, \"#d8576b\"], [0.6666666666666666, \"#ed7953\"], [0.7777777777777778, \"#fb9f3a\"], [0.8888888888888888, \"#fdca26\"], [1.0, \"#f0f921\"]]}, \"colorway\": [\"#636efa\", \"#EF553B\", \"#00cc96\", \"#ab63fa\", \"#FFA15A\", \"#19d3f3\", \"#FF6692\", \"#B6E880\", \"#FF97FF\", \"#FECB52\"], \"font\": {\"color\": \"#2a3f5f\"}, \"geo\": {\"bgcolor\": \"white\", \"lakecolor\": \"white\", \"landcolor\": \"#E5ECF6\", \"showlakes\": true, \"showland\": true, \"subunitcolor\": \"white\"}, \"hoverlabel\": {\"align\": \"left\"}, \"hovermode\": \"closest\", \"mapbox\": {\"style\": \"light\"}, \"paper_bgcolor\": \"white\", \"plot_bgcolor\": \"#E5ECF6\", \"polar\": {\"angularaxis\": {\"gridcolor\": \"white\", \"linecolor\": \"white\", \"ticks\": \"\"}, \"bgcolor\": \"#E5ECF6\", \"radialaxis\": {\"gridcolor\": \"white\", \"linecolor\": \"white\", \"ticks\": \"\"}}, \"scene\": {\"xaxis\": {\"backgroundcolor\": \"#E5ECF6\", \"gridcolor\": \"white\", \"gridwidth\": 2, \"linecolor\": \"white\", \"showbackground\": true, \"ticks\": \"\", \"zerolinecolor\": \"white\"}, \"yaxis\": {\"backgroundcolor\": \"#E5ECF6\", \"gridcolor\": \"white\", \"gridwidth\": 2, \"linecolor\": \"white\", \"showbackground\": true, \"ticks\": \"\", \"zerolinecolor\": \"white\"}, \"zaxis\": {\"backgroundcolor\": \"#E5ECF6\", \"gridcolor\": \"white\", \"gridwidth\": 2, \"linecolor\": \"white\", \"showbackground\": true, \"ticks\": \"\", \"zerolinecolor\": \"white\"}}, \"shapedefaults\": {\"line\": {\"color\": \"#2a3f5f\"}}, \"ternary\": {\"aaxis\": {\"gridcolor\": \"white\", \"linecolor\": \"white\", \"ticks\": \"\"}, \"baxis\": {\"gridcolor\": \"white\", \"linecolor\": \"white\", \"ticks\": \"\"}, \"bgcolor\": \"#E5ECF6\", \"caxis\": {\"gridcolor\": \"white\", \"linecolor\": \"white\", \"ticks\": \"\"}}, \"title\": {\"x\": 0.05}, \"xaxis\": {\"automargin\": true, \"gridcolor\": \"white\", \"linecolor\": \"white\", \"ticks\": \"\", \"title\": {\"standoff\": 15}, \"zerolinecolor\": \"white\", \"zerolinewidth\": 2}, \"yaxis\": {\"automargin\": true, \"gridcolor\": \"white\", \"linecolor\": \"white\", \"ticks\": \"\", \"title\": {\"standoff\": 15}, \"zerolinecolor\": \"white\", \"zerolinewidth\": 2}}}, \"title\": {\"text\": \"Recovered, US\"}, \"xaxis\": {\"anchor\": \"y\", \"domain\": [0.0, 0.94]}, \"yaxis\": {\"anchor\": \"x\", \"domain\": [0.0, 1.0]}, \"yaxis2\": {\"anchor\": \"x\", \"overlaying\": \"y\", \"side\": \"right\"}},\n",
       "                        {\"responsive\": true}\n",
       "                    ).then(function(){\n",
       "                            \n",
       "var gd = document.getElementById('48e19dd5-e07c-4b43-850a-29e839d36458');\n",
       "var x = new MutationObserver(function (mutations, observer) {{\n",
       "        var display = window.getComputedStyle(gd).display;\n",
       "        if (!display || display === 'none') {{\n",
       "            console.log([gd, 'removed!']);\n",
       "            Plotly.purge(gd);\n",
       "            observer.disconnect();\n",
       "        }}\n",
       "}});\n",
       "\n",
       "// Listen for the removal of the full notebook cells\n",
       "var notebookContainer = gd.closest('#notebook-container');\n",
       "if (notebookContainer) {{\n",
       "    x.observe(notebookContainer, {childList: true});\n",
       "}}\n",
       "\n",
       "// Listen for the clearing of the current output cell\n",
       "var outputEl = gd.closest('.output');\n",
       "if (outputEl) {{\n",
       "    x.observe(outputEl, {childList: true});\n",
       "}}\n",
       "\n",
       "                        })\n",
       "                };\n",
       "                });\n",
       "            </script>\n",
       "        </div>"
      ]
     },
     "metadata": {},
     "output_type": "display_data"
    }
   ],
   "source": [
    "loc = 'US'\n",
    "case_type = 'Recovered'\n",
    "\n",
    "plot_df = tidy_df[(tidy_df['US']==loc)&(tidy_df['Type']==case_type)]\n",
    "\n",
    "\n",
    "fig = make_subplots(specs=[[{\"secondary_y\": True}]])\n",
    "fig.add_trace(\n",
    "    go.Scatter(x=plot_df['Date'], y=plot_df['Count'], mode='markers', name='# Cases'),\n",
    "    secondary_y=False,\n",
    ")\n",
    "fig.add_trace(\n",
    "    go.Scatter(x=plot_df['Date'], y=plot_df['Close'], mode='markers', name='DJIA Close'),\n",
    "    secondary_y=True,\n",
    ")\n",
    "fig.add_trace(\n",
    "    go.Scatter(x=plot_df['Date'], y=plot_df['Open'], mode='markers', name='DJIA Open'),\n",
    "    secondary_y=True,\n",
    ")\n",
    "\n",
    "fig.update_layout(\n",
    "    title=\"{}, {}\".format(case_type, loc)\n",
    ")"
   ]
  },
  {
   "cell_type": "code",
   "execution_count": 62,
   "metadata": {},
   "outputs": [
    {
     "data": {
      "application/vnd.plotly.v1+json": {
       "config": {
        "plotlyServerURL": "https://plot.ly"
       },
       "data": [
        {
         "mode": "markers",
         "name": "# Cases",
         "type": "scatter",
         "x": [
          "2020-01-22T00:00:00",
          "2020-01-23T00:00:00",
          "2020-01-24T00:00:00",
          "2020-01-25T00:00:00",
          "2020-01-26T00:00:00",
          "2020-01-27T00:00:00",
          "2020-01-28T00:00:00",
          "2020-01-29T00:00:00",
          "2020-01-30T00:00:00",
          "2020-01-31T00:00:00",
          "2020-02-01T00:00:00",
          "2020-02-02T00:00:00",
          "2020-02-03T00:00:00",
          "2020-02-04T00:00:00",
          "2020-02-05T00:00:00",
          "2020-02-06T00:00:00",
          "2020-02-07T00:00:00",
          "2020-02-08T00:00:00",
          "2020-02-09T00:00:00",
          "2020-02-10T00:00:00",
          "2020-02-11T00:00:00",
          "2020-02-12T00:00:00",
          "2020-02-13T00:00:00",
          "2020-02-14T00:00:00",
          "2020-02-15T00:00:00",
          "2020-02-16T00:00:00",
          "2020-02-17T00:00:00",
          "2020-02-18T00:00:00",
          "2020-02-19T00:00:00",
          "2020-02-20T00:00:00",
          "2020-02-21T00:00:00",
          "2020-02-22T00:00:00",
          "2020-02-23T00:00:00",
          "2020-02-24T00:00:00",
          "2020-02-25T00:00:00",
          "2020-02-26T00:00:00",
          "2020-02-27T00:00:00",
          "2020-02-28T00:00:00",
          "2020-02-29T00:00:00",
          "2020-03-01T00:00:00",
          "2020-03-02T00:00:00",
          "2020-03-03T00:00:00",
          "2020-03-04T00:00:00",
          "2020-03-05T00:00:00",
          "2020-03-06T00:00:00",
          "2020-03-07T00:00:00"
         ],
         "xaxis": "x",
         "y": [
          554,
          652,
          939,
          1432,
          2113,
          2922,
          5573,
          6161,
          8229,
          9920,
          12030,
          16779,
          19870,
          23881,
          27624,
          30806,
          34380,
          37109,
          40139,
          42751,
          44790,
          45209,
          60355,
          66872,
          69017,
          71211,
          73245,
          75123,
          75626,
          76184,
          76808,
          78564,
          78950,
          79517,
          80362,
          81338,
          82696,
          84060,
          85943,
          88295,
          90208,
          92722,
          94971,
          97665,
          101522,
          105419
         ],
         "yaxis": "y"
        },
        {
         "mode": "markers",
         "name": "DJIA Close",
         "type": "scatter",
         "x": [
          "2020-01-22T00:00:00",
          "2020-01-23T00:00:00",
          "2020-01-24T00:00:00",
          "2020-01-25T00:00:00",
          "2020-01-26T00:00:00",
          "2020-01-27T00:00:00",
          "2020-01-28T00:00:00",
          "2020-01-29T00:00:00",
          "2020-01-30T00:00:00",
          "2020-01-31T00:00:00",
          "2020-02-01T00:00:00",
          "2020-02-02T00:00:00",
          "2020-02-03T00:00:00",
          "2020-02-04T00:00:00",
          "2020-02-05T00:00:00",
          "2020-02-06T00:00:00",
          "2020-02-07T00:00:00",
          "2020-02-08T00:00:00",
          "2020-02-09T00:00:00",
          "2020-02-10T00:00:00",
          "2020-02-11T00:00:00",
          "2020-02-12T00:00:00",
          "2020-02-13T00:00:00",
          "2020-02-14T00:00:00",
          "2020-02-15T00:00:00",
          "2020-02-16T00:00:00",
          "2020-02-17T00:00:00",
          "2020-02-18T00:00:00",
          "2020-02-19T00:00:00",
          "2020-02-20T00:00:00",
          "2020-02-21T00:00:00",
          "2020-02-22T00:00:00",
          "2020-02-23T00:00:00",
          "2020-02-24T00:00:00",
          "2020-02-25T00:00:00",
          "2020-02-26T00:00:00",
          "2020-02-27T00:00:00",
          "2020-02-28T00:00:00",
          "2020-02-29T00:00:00",
          "2020-03-01T00:00:00",
          "2020-03-02T00:00:00",
          "2020-03-03T00:00:00",
          "2020-03-04T00:00:00",
          "2020-03-05T00:00:00",
          "2020-03-06T00:00:00",
          "2020-03-07T00:00:00"
         ],
         "xaxis": "x",
         "y": [
          29186.269531,
          29160.089844,
          28989.730469,
          null,
          null,
          28535.800781,
          28722.849608999997,
          28734.449219,
          28859.439452999995,
          28256.029297000005,
          null,
          null,
          28399.810547000005,
          28807.630858999997,
          29290.849608999997,
          29379.769531,
          29102.509766000003,
          null,
          null,
          29276.820313,
          29276.339844,
          29551.419922000005,
          29423.310547000005,
          29398.080077999995,
          null,
          null,
          null,
          29232.189452999995,
          29348.029297000005,
          29219.980469,
          28992.410156,
          null,
          null,
          27960.800781,
          27081.359375,
          26957.589844,
          25766.640625,
          25409.359375,
          null,
          null,
          26703.320313,
          25917.410156,
          27090.859375,
          26121.279297,
          25864.779297,
          null
         ],
         "yaxis": "y2"
        },
        {
         "mode": "markers",
         "name": "DJIA Open",
         "type": "scatter",
         "x": [
          "2020-01-22T00:00:00",
          "2020-01-23T00:00:00",
          "2020-01-24T00:00:00",
          "2020-01-25T00:00:00",
          "2020-01-26T00:00:00",
          "2020-01-27T00:00:00",
          "2020-01-28T00:00:00",
          "2020-01-29T00:00:00",
          "2020-01-30T00:00:00",
          "2020-01-31T00:00:00",
          "2020-02-01T00:00:00",
          "2020-02-02T00:00:00",
          "2020-02-03T00:00:00",
          "2020-02-04T00:00:00",
          "2020-02-05T00:00:00",
          "2020-02-06T00:00:00",
          "2020-02-07T00:00:00",
          "2020-02-08T00:00:00",
          "2020-02-09T00:00:00",
          "2020-02-10T00:00:00",
          "2020-02-11T00:00:00",
          "2020-02-12T00:00:00",
          "2020-02-13T00:00:00",
          "2020-02-14T00:00:00",
          "2020-02-15T00:00:00",
          "2020-02-16T00:00:00",
          "2020-02-17T00:00:00",
          "2020-02-18T00:00:00",
          "2020-02-19T00:00:00",
          "2020-02-20T00:00:00",
          "2020-02-21T00:00:00",
          "2020-02-22T00:00:00",
          "2020-02-23T00:00:00",
          "2020-02-24T00:00:00",
          "2020-02-25T00:00:00",
          "2020-02-26T00:00:00",
          "2020-02-27T00:00:00",
          "2020-02-28T00:00:00",
          "2020-02-29T00:00:00",
          "2020-03-01T00:00:00",
          "2020-03-02T00:00:00",
          "2020-03-03T00:00:00",
          "2020-03-04T00:00:00",
          "2020-03-05T00:00:00",
          "2020-03-06T00:00:00",
          "2020-03-07T00:00:00"
         ],
         "xaxis": "x",
         "y": [
          29263.630858999997,
          29111.019531,
          29230.390625,
          null,
          null,
          28542.490233999997,
          28594.279297000005,
          28820.529297000005,
          28640.160156,
          28813.039063,
          null,
          null,
          28319.650391000003,
          28696.740233999997,
          29048.730469,
          29388.580077999995,
          29286.919922000005,
          null,
          null,
          28995.660156,
          29390.710938,
          29406.75,
          29436.029297000005,
          29440.470702999995,
          null,
          null,
          null,
          29282.779297000005,
          29312.699219,
          29296.25,
          29146.529297000005,
          null,
          null,
          28402.929688,
          28037.650391000003,
          27159.460938,
          26526,
          25270.830078,
          null,
          null,
          25590.509766,
          26762.470703,
          26383.679688,
          26671.919922,
          25457.210938,
          null
         ],
         "yaxis": "y2"
        }
       ],
       "layout": {
        "template": {
         "data": {
          "bar": [
           {
            "error_x": {
             "color": "#2a3f5f"
            },
            "error_y": {
             "color": "#2a3f5f"
            },
            "marker": {
             "line": {
              "color": "#E5ECF6",
              "width": 0.5
             }
            },
            "type": "bar"
           }
          ],
          "barpolar": [
           {
            "marker": {
             "line": {
              "color": "#E5ECF6",
              "width": 0.5
             }
            },
            "type": "barpolar"
           }
          ],
          "carpet": [
           {
            "aaxis": {
             "endlinecolor": "#2a3f5f",
             "gridcolor": "white",
             "linecolor": "white",
             "minorgridcolor": "white",
             "startlinecolor": "#2a3f5f"
            },
            "baxis": {
             "endlinecolor": "#2a3f5f",
             "gridcolor": "white",
             "linecolor": "white",
             "minorgridcolor": "white",
             "startlinecolor": "#2a3f5f"
            },
            "type": "carpet"
           }
          ],
          "choropleth": [
           {
            "colorbar": {
             "outlinewidth": 0,
             "ticks": ""
            },
            "type": "choropleth"
           }
          ],
          "contour": [
           {
            "colorbar": {
             "outlinewidth": 0,
             "ticks": ""
            },
            "colorscale": [
             [
              0,
              "#0d0887"
             ],
             [
              0.1111111111111111,
              "#46039f"
             ],
             [
              0.2222222222222222,
              "#7201a8"
             ],
             [
              0.3333333333333333,
              "#9c179e"
             ],
             [
              0.4444444444444444,
              "#bd3786"
             ],
             [
              0.5555555555555556,
              "#d8576b"
             ],
             [
              0.6666666666666666,
              "#ed7953"
             ],
             [
              0.7777777777777778,
              "#fb9f3a"
             ],
             [
              0.8888888888888888,
              "#fdca26"
             ],
             [
              1,
              "#f0f921"
             ]
            ],
            "type": "contour"
           }
          ],
          "contourcarpet": [
           {
            "colorbar": {
             "outlinewidth": 0,
             "ticks": ""
            },
            "type": "contourcarpet"
           }
          ],
          "heatmap": [
           {
            "colorbar": {
             "outlinewidth": 0,
             "ticks": ""
            },
            "colorscale": [
             [
              0,
              "#0d0887"
             ],
             [
              0.1111111111111111,
              "#46039f"
             ],
             [
              0.2222222222222222,
              "#7201a8"
             ],
             [
              0.3333333333333333,
              "#9c179e"
             ],
             [
              0.4444444444444444,
              "#bd3786"
             ],
             [
              0.5555555555555556,
              "#d8576b"
             ],
             [
              0.6666666666666666,
              "#ed7953"
             ],
             [
              0.7777777777777778,
              "#fb9f3a"
             ],
             [
              0.8888888888888888,
              "#fdca26"
             ],
             [
              1,
              "#f0f921"
             ]
            ],
            "type": "heatmap"
           }
          ],
          "heatmapgl": [
           {
            "colorbar": {
             "outlinewidth": 0,
             "ticks": ""
            },
            "colorscale": [
             [
              0,
              "#0d0887"
             ],
             [
              0.1111111111111111,
              "#46039f"
             ],
             [
              0.2222222222222222,
              "#7201a8"
             ],
             [
              0.3333333333333333,
              "#9c179e"
             ],
             [
              0.4444444444444444,
              "#bd3786"
             ],
             [
              0.5555555555555556,
              "#d8576b"
             ],
             [
              0.6666666666666666,
              "#ed7953"
             ],
             [
              0.7777777777777778,
              "#fb9f3a"
             ],
             [
              0.8888888888888888,
              "#fdca26"
             ],
             [
              1,
              "#f0f921"
             ]
            ],
            "type": "heatmapgl"
           }
          ],
          "histogram": [
           {
            "marker": {
             "colorbar": {
              "outlinewidth": 0,
              "ticks": ""
             }
            },
            "type": "histogram"
           }
          ],
          "histogram2d": [
           {
            "colorbar": {
             "outlinewidth": 0,
             "ticks": ""
            },
            "colorscale": [
             [
              0,
              "#0d0887"
             ],
             [
              0.1111111111111111,
              "#46039f"
             ],
             [
              0.2222222222222222,
              "#7201a8"
             ],
             [
              0.3333333333333333,
              "#9c179e"
             ],
             [
              0.4444444444444444,
              "#bd3786"
             ],
             [
              0.5555555555555556,
              "#d8576b"
             ],
             [
              0.6666666666666666,
              "#ed7953"
             ],
             [
              0.7777777777777778,
              "#fb9f3a"
             ],
             [
              0.8888888888888888,
              "#fdca26"
             ],
             [
              1,
              "#f0f921"
             ]
            ],
            "type": "histogram2d"
           }
          ],
          "histogram2dcontour": [
           {
            "colorbar": {
             "outlinewidth": 0,
             "ticks": ""
            },
            "colorscale": [
             [
              0,
              "#0d0887"
             ],
             [
              0.1111111111111111,
              "#46039f"
             ],
             [
              0.2222222222222222,
              "#7201a8"
             ],
             [
              0.3333333333333333,
              "#9c179e"
             ],
             [
              0.4444444444444444,
              "#bd3786"
             ],
             [
              0.5555555555555556,
              "#d8576b"
             ],
             [
              0.6666666666666666,
              "#ed7953"
             ],
             [
              0.7777777777777778,
              "#fb9f3a"
             ],
             [
              0.8888888888888888,
              "#fdca26"
             ],
             [
              1,
              "#f0f921"
             ]
            ],
            "type": "histogram2dcontour"
           }
          ],
          "mesh3d": [
           {
            "colorbar": {
             "outlinewidth": 0,
             "ticks": ""
            },
            "type": "mesh3d"
           }
          ],
          "parcoords": [
           {
            "line": {
             "colorbar": {
              "outlinewidth": 0,
              "ticks": ""
             }
            },
            "type": "parcoords"
           }
          ],
          "pie": [
           {
            "automargin": true,
            "type": "pie"
           }
          ],
          "scatter": [
           {
            "marker": {
             "colorbar": {
              "outlinewidth": 0,
              "ticks": ""
             }
            },
            "type": "scatter"
           }
          ],
          "scatter3d": [
           {
            "line": {
             "colorbar": {
              "outlinewidth": 0,
              "ticks": ""
             }
            },
            "marker": {
             "colorbar": {
              "outlinewidth": 0,
              "ticks": ""
             }
            },
            "type": "scatter3d"
           }
          ],
          "scattercarpet": [
           {
            "marker": {
             "colorbar": {
              "outlinewidth": 0,
              "ticks": ""
             }
            },
            "type": "scattercarpet"
           }
          ],
          "scattergeo": [
           {
            "marker": {
             "colorbar": {
              "outlinewidth": 0,
              "ticks": ""
             }
            },
            "type": "scattergeo"
           }
          ],
          "scattergl": [
           {
            "marker": {
             "colorbar": {
              "outlinewidth": 0,
              "ticks": ""
             }
            },
            "type": "scattergl"
           }
          ],
          "scattermapbox": [
           {
            "marker": {
             "colorbar": {
              "outlinewidth": 0,
              "ticks": ""
             }
            },
            "type": "scattermapbox"
           }
          ],
          "scatterpolar": [
           {
            "marker": {
             "colorbar": {
              "outlinewidth": 0,
              "ticks": ""
             }
            },
            "type": "scatterpolar"
           }
          ],
          "scatterpolargl": [
           {
            "marker": {
             "colorbar": {
              "outlinewidth": 0,
              "ticks": ""
             }
            },
            "type": "scatterpolargl"
           }
          ],
          "scatterternary": [
           {
            "marker": {
             "colorbar": {
              "outlinewidth": 0,
              "ticks": ""
             }
            },
            "type": "scatterternary"
           }
          ],
          "surface": [
           {
            "colorbar": {
             "outlinewidth": 0,
             "ticks": ""
            },
            "colorscale": [
             [
              0,
              "#0d0887"
             ],
             [
              0.1111111111111111,
              "#46039f"
             ],
             [
              0.2222222222222222,
              "#7201a8"
             ],
             [
              0.3333333333333333,
              "#9c179e"
             ],
             [
              0.4444444444444444,
              "#bd3786"
             ],
             [
              0.5555555555555556,
              "#d8576b"
             ],
             [
              0.6666666666666666,
              "#ed7953"
             ],
             [
              0.7777777777777778,
              "#fb9f3a"
             ],
             [
              0.8888888888888888,
              "#fdca26"
             ],
             [
              1,
              "#f0f921"
             ]
            ],
            "type": "surface"
           }
          ],
          "table": [
           {
            "cells": {
             "fill": {
              "color": "#EBF0F8"
             },
             "line": {
              "color": "white"
             }
            },
            "header": {
             "fill": {
              "color": "#C8D4E3"
             },
             "line": {
              "color": "white"
             }
            },
            "type": "table"
           }
          ]
         },
         "layout": {
          "annotationdefaults": {
           "arrowcolor": "#2a3f5f",
           "arrowhead": 0,
           "arrowwidth": 1
          },
          "coloraxis": {
           "colorbar": {
            "outlinewidth": 0,
            "ticks": ""
           }
          },
          "colorscale": {
           "diverging": [
            [
             0,
             "#8e0152"
            ],
            [
             0.1,
             "#c51b7d"
            ],
            [
             0.2,
             "#de77ae"
            ],
            [
             0.3,
             "#f1b6da"
            ],
            [
             0.4,
             "#fde0ef"
            ],
            [
             0.5,
             "#f7f7f7"
            ],
            [
             0.6,
             "#e6f5d0"
            ],
            [
             0.7,
             "#b8e186"
            ],
            [
             0.8,
             "#7fbc41"
            ],
            [
             0.9,
             "#4d9221"
            ],
            [
             1,
             "#276419"
            ]
           ],
           "sequential": [
            [
             0,
             "#0d0887"
            ],
            [
             0.1111111111111111,
             "#46039f"
            ],
            [
             0.2222222222222222,
             "#7201a8"
            ],
            [
             0.3333333333333333,
             "#9c179e"
            ],
            [
             0.4444444444444444,
             "#bd3786"
            ],
            [
             0.5555555555555556,
             "#d8576b"
            ],
            [
             0.6666666666666666,
             "#ed7953"
            ],
            [
             0.7777777777777778,
             "#fb9f3a"
            ],
            [
             0.8888888888888888,
             "#fdca26"
            ],
            [
             1,
             "#f0f921"
            ]
           ],
           "sequentialminus": [
            [
             0,
             "#0d0887"
            ],
            [
             0.1111111111111111,
             "#46039f"
            ],
            [
             0.2222222222222222,
             "#7201a8"
            ],
            [
             0.3333333333333333,
             "#9c179e"
            ],
            [
             0.4444444444444444,
             "#bd3786"
            ],
            [
             0.5555555555555556,
             "#d8576b"
            ],
            [
             0.6666666666666666,
             "#ed7953"
            ],
            [
             0.7777777777777778,
             "#fb9f3a"
            ],
            [
             0.8888888888888888,
             "#fdca26"
            ],
            [
             1,
             "#f0f921"
            ]
           ]
          },
          "colorway": [
           "#636efa",
           "#EF553B",
           "#00cc96",
           "#ab63fa",
           "#FFA15A",
           "#19d3f3",
           "#FF6692",
           "#B6E880",
           "#FF97FF",
           "#FECB52"
          ],
          "font": {
           "color": "#2a3f5f"
          },
          "geo": {
           "bgcolor": "white",
           "lakecolor": "white",
           "landcolor": "#E5ECF6",
           "showlakes": true,
           "showland": true,
           "subunitcolor": "white"
          },
          "hoverlabel": {
           "align": "left"
          },
          "hovermode": "closest",
          "mapbox": {
           "style": "light"
          },
          "paper_bgcolor": "white",
          "plot_bgcolor": "#E5ECF6",
          "polar": {
           "angularaxis": {
            "gridcolor": "white",
            "linecolor": "white",
            "ticks": ""
           },
           "bgcolor": "#E5ECF6",
           "radialaxis": {
            "gridcolor": "white",
            "linecolor": "white",
            "ticks": ""
           }
          },
          "scene": {
           "xaxis": {
            "backgroundcolor": "#E5ECF6",
            "gridcolor": "white",
            "gridwidth": 2,
            "linecolor": "white",
            "showbackground": true,
            "ticks": "",
            "zerolinecolor": "white"
           },
           "yaxis": {
            "backgroundcolor": "#E5ECF6",
            "gridcolor": "white",
            "gridwidth": 2,
            "linecolor": "white",
            "showbackground": true,
            "ticks": "",
            "zerolinecolor": "white"
           },
           "zaxis": {
            "backgroundcolor": "#E5ECF6",
            "gridcolor": "white",
            "gridwidth": 2,
            "linecolor": "white",
            "showbackground": true,
            "ticks": "",
            "zerolinecolor": "white"
           }
          },
          "shapedefaults": {
           "line": {
            "color": "#2a3f5f"
           }
          },
          "ternary": {
           "aaxis": {
            "gridcolor": "white",
            "linecolor": "white",
            "ticks": ""
           },
           "baxis": {
            "gridcolor": "white",
            "linecolor": "white",
            "ticks": ""
           },
           "bgcolor": "#E5ECF6",
           "caxis": {
            "gridcolor": "white",
            "linecolor": "white",
            "ticks": ""
           }
          },
          "title": {
           "x": 0.05
          },
          "xaxis": {
           "automargin": true,
           "gridcolor": "white",
           "linecolor": "white",
           "ticks": "",
           "title": {
            "standoff": 15
           },
           "zerolinecolor": "white",
           "zerolinewidth": 2
          },
          "yaxis": {
           "automargin": true,
           "gridcolor": "white",
           "linecolor": "white",
           "ticks": "",
           "title": {
            "standoff": 15
           },
           "zerolinecolor": "white",
           "zerolinewidth": 2
          }
         }
        },
        "title": {
         "text": "Confirmed, Non-US"
        },
        "xaxis": {
         "anchor": "y",
         "domain": [
          0,
          0.94
         ]
        },
        "yaxis": {
         "anchor": "x",
         "domain": [
          0,
          1
         ]
        },
        "yaxis2": {
         "anchor": "x",
         "overlaying": "y",
         "side": "right"
        }
       }
      },
      "text/html": [
       "<div>\n",
       "        \n",
       "        \n",
       "            <div id=\"37aba420-4001-4944-bef7-79c67a1c84da\" class=\"plotly-graph-div\" style=\"height:525px; width:100%;\"></div>\n",
       "            <script type=\"text/javascript\">\n",
       "                require([\"plotly\"], function(Plotly) {\n",
       "                    window.PLOTLYENV=window.PLOTLYENV || {};\n",
       "                    \n",
       "                if (document.getElementById(\"37aba420-4001-4944-bef7-79c67a1c84da\")) {\n",
       "                    Plotly.newPlot(\n",
       "                        '37aba420-4001-4944-bef7-79c67a1c84da',\n",
       "                        [{\"mode\": \"markers\", \"name\": \"# Cases\", \"type\": \"scatter\", \"x\": [\"2020-01-22T00:00:00\", \"2020-01-23T00:00:00\", \"2020-01-24T00:00:00\", \"2020-01-25T00:00:00\", \"2020-01-26T00:00:00\", \"2020-01-27T00:00:00\", \"2020-01-28T00:00:00\", \"2020-01-29T00:00:00\", \"2020-01-30T00:00:00\", \"2020-01-31T00:00:00\", \"2020-02-01T00:00:00\", \"2020-02-02T00:00:00\", \"2020-02-03T00:00:00\", \"2020-02-04T00:00:00\", \"2020-02-05T00:00:00\", \"2020-02-06T00:00:00\", \"2020-02-07T00:00:00\", \"2020-02-08T00:00:00\", \"2020-02-09T00:00:00\", \"2020-02-10T00:00:00\", \"2020-02-11T00:00:00\", \"2020-02-12T00:00:00\", \"2020-02-13T00:00:00\", \"2020-02-14T00:00:00\", \"2020-02-15T00:00:00\", \"2020-02-16T00:00:00\", \"2020-02-17T00:00:00\", \"2020-02-18T00:00:00\", \"2020-02-19T00:00:00\", \"2020-02-20T00:00:00\", \"2020-02-21T00:00:00\", \"2020-02-22T00:00:00\", \"2020-02-23T00:00:00\", \"2020-02-24T00:00:00\", \"2020-02-25T00:00:00\", \"2020-02-26T00:00:00\", \"2020-02-27T00:00:00\", \"2020-02-28T00:00:00\", \"2020-02-29T00:00:00\", \"2020-03-01T00:00:00\", \"2020-03-02T00:00:00\", \"2020-03-03T00:00:00\", \"2020-03-04T00:00:00\", \"2020-03-05T00:00:00\", \"2020-03-06T00:00:00\", \"2020-03-07T00:00:00\"], \"xaxis\": \"x\", \"y\": [554, 652, 939, 1432, 2113, 2922, 5573, 6161, 8229, 9920, 12030, 16779, 19870, 23881, 27624, 30806, 34380, 37109, 40139, 42751, 44790, 45209, 60355, 66872, 69017, 71211, 73245, 75123, 75626, 76184, 76808, 78564, 78950, 79517, 80362, 81338, 82696, 84060, 85943, 88295, 90208, 92722, 94971, 97665, 101522, 105419], \"yaxis\": \"y\"}, {\"mode\": \"markers\", \"name\": \"DJIA Close\", \"type\": \"scatter\", \"x\": [\"2020-01-22T00:00:00\", \"2020-01-23T00:00:00\", \"2020-01-24T00:00:00\", \"2020-01-25T00:00:00\", \"2020-01-26T00:00:00\", \"2020-01-27T00:00:00\", \"2020-01-28T00:00:00\", \"2020-01-29T00:00:00\", \"2020-01-30T00:00:00\", \"2020-01-31T00:00:00\", \"2020-02-01T00:00:00\", \"2020-02-02T00:00:00\", \"2020-02-03T00:00:00\", \"2020-02-04T00:00:00\", \"2020-02-05T00:00:00\", \"2020-02-06T00:00:00\", \"2020-02-07T00:00:00\", \"2020-02-08T00:00:00\", \"2020-02-09T00:00:00\", \"2020-02-10T00:00:00\", \"2020-02-11T00:00:00\", \"2020-02-12T00:00:00\", \"2020-02-13T00:00:00\", \"2020-02-14T00:00:00\", \"2020-02-15T00:00:00\", \"2020-02-16T00:00:00\", \"2020-02-17T00:00:00\", \"2020-02-18T00:00:00\", \"2020-02-19T00:00:00\", \"2020-02-20T00:00:00\", \"2020-02-21T00:00:00\", \"2020-02-22T00:00:00\", \"2020-02-23T00:00:00\", \"2020-02-24T00:00:00\", \"2020-02-25T00:00:00\", \"2020-02-26T00:00:00\", \"2020-02-27T00:00:00\", \"2020-02-28T00:00:00\", \"2020-02-29T00:00:00\", \"2020-03-01T00:00:00\", \"2020-03-02T00:00:00\", \"2020-03-03T00:00:00\", \"2020-03-04T00:00:00\", \"2020-03-05T00:00:00\", \"2020-03-06T00:00:00\", \"2020-03-07T00:00:00\"], \"xaxis\": \"x\", \"y\": [29186.269531, 29160.089844, 28989.730469, null, null, 28535.800781, 28722.849608999997, 28734.449219, 28859.439452999995, 28256.029297000005, null, null, 28399.810547000005, 28807.630858999997, 29290.849608999997, 29379.769531, 29102.509766000003, null, null, 29276.820313, 29276.339844, 29551.419922000005, 29423.310547000005, 29398.080077999995, null, null, null, 29232.189452999995, 29348.029297000005, 29219.980469, 28992.410156, null, null, 27960.800781, 27081.359375, 26957.589844, 25766.640625, 25409.359375, null, null, 26703.320313, 25917.410156, 27090.859375, 26121.279297, 25864.779297, null], \"yaxis\": \"y2\"}, {\"mode\": \"markers\", \"name\": \"DJIA Open\", \"type\": \"scatter\", \"x\": [\"2020-01-22T00:00:00\", \"2020-01-23T00:00:00\", \"2020-01-24T00:00:00\", \"2020-01-25T00:00:00\", \"2020-01-26T00:00:00\", \"2020-01-27T00:00:00\", \"2020-01-28T00:00:00\", \"2020-01-29T00:00:00\", \"2020-01-30T00:00:00\", \"2020-01-31T00:00:00\", \"2020-02-01T00:00:00\", \"2020-02-02T00:00:00\", \"2020-02-03T00:00:00\", \"2020-02-04T00:00:00\", \"2020-02-05T00:00:00\", \"2020-02-06T00:00:00\", \"2020-02-07T00:00:00\", \"2020-02-08T00:00:00\", \"2020-02-09T00:00:00\", \"2020-02-10T00:00:00\", \"2020-02-11T00:00:00\", \"2020-02-12T00:00:00\", \"2020-02-13T00:00:00\", \"2020-02-14T00:00:00\", \"2020-02-15T00:00:00\", \"2020-02-16T00:00:00\", \"2020-02-17T00:00:00\", \"2020-02-18T00:00:00\", \"2020-02-19T00:00:00\", \"2020-02-20T00:00:00\", \"2020-02-21T00:00:00\", \"2020-02-22T00:00:00\", \"2020-02-23T00:00:00\", \"2020-02-24T00:00:00\", \"2020-02-25T00:00:00\", \"2020-02-26T00:00:00\", \"2020-02-27T00:00:00\", \"2020-02-28T00:00:00\", \"2020-02-29T00:00:00\", \"2020-03-01T00:00:00\", \"2020-03-02T00:00:00\", \"2020-03-03T00:00:00\", \"2020-03-04T00:00:00\", \"2020-03-05T00:00:00\", \"2020-03-06T00:00:00\", \"2020-03-07T00:00:00\"], \"xaxis\": \"x\", \"y\": [29263.630858999997, 29111.019531, 29230.390625, null, null, 28542.490233999997, 28594.279297000005, 28820.529297000005, 28640.160156, 28813.039063, null, null, 28319.650391000003, 28696.740233999997, 29048.730469, 29388.580077999995, 29286.919922000005, null, null, 28995.660156, 29390.710938, 29406.75, 29436.029297000005, 29440.470702999995, null, null, null, 29282.779297000005, 29312.699219, 29296.25, 29146.529297000005, null, null, 28402.929688, 28037.650391000003, 27159.460938, 26526.0, 25270.830078, null, null, 25590.509766, 26762.470703, 26383.679688, 26671.919922, 25457.210938, null], \"yaxis\": \"y2\"}],\n",
       "                        {\"template\": {\"data\": {\"bar\": [{\"error_x\": {\"color\": \"#2a3f5f\"}, \"error_y\": {\"color\": \"#2a3f5f\"}, \"marker\": {\"line\": {\"color\": \"#E5ECF6\", \"width\": 0.5}}, \"type\": \"bar\"}], \"barpolar\": [{\"marker\": {\"line\": {\"color\": \"#E5ECF6\", \"width\": 0.5}}, \"type\": \"barpolar\"}], \"carpet\": [{\"aaxis\": {\"endlinecolor\": \"#2a3f5f\", \"gridcolor\": \"white\", \"linecolor\": \"white\", \"minorgridcolor\": \"white\", \"startlinecolor\": \"#2a3f5f\"}, \"baxis\": {\"endlinecolor\": \"#2a3f5f\", \"gridcolor\": \"white\", \"linecolor\": \"white\", \"minorgridcolor\": \"white\", \"startlinecolor\": \"#2a3f5f\"}, \"type\": \"carpet\"}], \"choropleth\": [{\"colorbar\": {\"outlinewidth\": 0, \"ticks\": \"\"}, \"type\": \"choropleth\"}], \"contour\": [{\"colorbar\": {\"outlinewidth\": 0, \"ticks\": \"\"}, \"colorscale\": [[0.0, \"#0d0887\"], [0.1111111111111111, \"#46039f\"], [0.2222222222222222, \"#7201a8\"], [0.3333333333333333, \"#9c179e\"], [0.4444444444444444, \"#bd3786\"], [0.5555555555555556, \"#d8576b\"], [0.6666666666666666, \"#ed7953\"], [0.7777777777777778, \"#fb9f3a\"], [0.8888888888888888, \"#fdca26\"], [1.0, \"#f0f921\"]], \"type\": \"contour\"}], \"contourcarpet\": [{\"colorbar\": {\"outlinewidth\": 0, \"ticks\": \"\"}, \"type\": \"contourcarpet\"}], \"heatmap\": [{\"colorbar\": {\"outlinewidth\": 0, \"ticks\": \"\"}, \"colorscale\": [[0.0, \"#0d0887\"], [0.1111111111111111, \"#46039f\"], [0.2222222222222222, \"#7201a8\"], [0.3333333333333333, \"#9c179e\"], [0.4444444444444444, \"#bd3786\"], [0.5555555555555556, \"#d8576b\"], [0.6666666666666666, \"#ed7953\"], [0.7777777777777778, \"#fb9f3a\"], [0.8888888888888888, \"#fdca26\"], [1.0, \"#f0f921\"]], \"type\": \"heatmap\"}], \"heatmapgl\": [{\"colorbar\": {\"outlinewidth\": 0, \"ticks\": \"\"}, \"colorscale\": [[0.0, \"#0d0887\"], [0.1111111111111111, \"#46039f\"], [0.2222222222222222, \"#7201a8\"], [0.3333333333333333, \"#9c179e\"], [0.4444444444444444, \"#bd3786\"], [0.5555555555555556, \"#d8576b\"], [0.6666666666666666, \"#ed7953\"], [0.7777777777777778, \"#fb9f3a\"], [0.8888888888888888, \"#fdca26\"], [1.0, \"#f0f921\"]], \"type\": \"heatmapgl\"}], \"histogram\": [{\"marker\": {\"colorbar\": {\"outlinewidth\": 0, \"ticks\": \"\"}}, \"type\": \"histogram\"}], \"histogram2d\": [{\"colorbar\": {\"outlinewidth\": 0, \"ticks\": \"\"}, \"colorscale\": [[0.0, \"#0d0887\"], [0.1111111111111111, \"#46039f\"], [0.2222222222222222, \"#7201a8\"], [0.3333333333333333, \"#9c179e\"], [0.4444444444444444, \"#bd3786\"], [0.5555555555555556, \"#d8576b\"], [0.6666666666666666, \"#ed7953\"], [0.7777777777777778, \"#fb9f3a\"], [0.8888888888888888, \"#fdca26\"], [1.0, \"#f0f921\"]], \"type\": \"histogram2d\"}], \"histogram2dcontour\": [{\"colorbar\": {\"outlinewidth\": 0, \"ticks\": \"\"}, \"colorscale\": [[0.0, \"#0d0887\"], [0.1111111111111111, \"#46039f\"], [0.2222222222222222, \"#7201a8\"], [0.3333333333333333, \"#9c179e\"], [0.4444444444444444, \"#bd3786\"], [0.5555555555555556, \"#d8576b\"], [0.6666666666666666, \"#ed7953\"], [0.7777777777777778, \"#fb9f3a\"], [0.8888888888888888, \"#fdca26\"], [1.0, \"#f0f921\"]], \"type\": \"histogram2dcontour\"}], \"mesh3d\": [{\"colorbar\": {\"outlinewidth\": 0, \"ticks\": \"\"}, \"type\": \"mesh3d\"}], \"parcoords\": [{\"line\": {\"colorbar\": {\"outlinewidth\": 0, \"ticks\": \"\"}}, \"type\": \"parcoords\"}], \"pie\": [{\"automargin\": true, \"type\": \"pie\"}], \"scatter\": [{\"marker\": {\"colorbar\": {\"outlinewidth\": 0, \"ticks\": \"\"}}, \"type\": \"scatter\"}], \"scatter3d\": [{\"line\": {\"colorbar\": {\"outlinewidth\": 0, \"ticks\": \"\"}}, \"marker\": {\"colorbar\": {\"outlinewidth\": 0, \"ticks\": \"\"}}, \"type\": \"scatter3d\"}], \"scattercarpet\": [{\"marker\": {\"colorbar\": {\"outlinewidth\": 0, \"ticks\": \"\"}}, \"type\": \"scattercarpet\"}], \"scattergeo\": [{\"marker\": {\"colorbar\": {\"outlinewidth\": 0, \"ticks\": \"\"}}, \"type\": \"scattergeo\"}], \"scattergl\": [{\"marker\": {\"colorbar\": {\"outlinewidth\": 0, \"ticks\": \"\"}}, \"type\": \"scattergl\"}], \"scattermapbox\": [{\"marker\": {\"colorbar\": {\"outlinewidth\": 0, \"ticks\": \"\"}}, \"type\": \"scattermapbox\"}], \"scatterpolar\": [{\"marker\": {\"colorbar\": {\"outlinewidth\": 0, \"ticks\": \"\"}}, \"type\": \"scatterpolar\"}], \"scatterpolargl\": [{\"marker\": {\"colorbar\": {\"outlinewidth\": 0, \"ticks\": \"\"}}, \"type\": \"scatterpolargl\"}], \"scatterternary\": [{\"marker\": {\"colorbar\": {\"outlinewidth\": 0, \"ticks\": \"\"}}, \"type\": \"scatterternary\"}], \"surface\": [{\"colorbar\": {\"outlinewidth\": 0, \"ticks\": \"\"}, \"colorscale\": [[0.0, \"#0d0887\"], [0.1111111111111111, \"#46039f\"], [0.2222222222222222, \"#7201a8\"], [0.3333333333333333, \"#9c179e\"], [0.4444444444444444, \"#bd3786\"], [0.5555555555555556, \"#d8576b\"], [0.6666666666666666, \"#ed7953\"], [0.7777777777777778, \"#fb9f3a\"], [0.8888888888888888, \"#fdca26\"], [1.0, \"#f0f921\"]], \"type\": \"surface\"}], \"table\": [{\"cells\": {\"fill\": {\"color\": \"#EBF0F8\"}, \"line\": {\"color\": \"white\"}}, \"header\": {\"fill\": {\"color\": \"#C8D4E3\"}, \"line\": {\"color\": \"white\"}}, \"type\": \"table\"}]}, \"layout\": {\"annotationdefaults\": {\"arrowcolor\": \"#2a3f5f\", \"arrowhead\": 0, \"arrowwidth\": 1}, \"coloraxis\": {\"colorbar\": {\"outlinewidth\": 0, \"ticks\": \"\"}}, \"colorscale\": {\"diverging\": [[0, \"#8e0152\"], [0.1, \"#c51b7d\"], [0.2, \"#de77ae\"], [0.3, \"#f1b6da\"], [0.4, \"#fde0ef\"], [0.5, \"#f7f7f7\"], [0.6, \"#e6f5d0\"], [0.7, \"#b8e186\"], [0.8, \"#7fbc41\"], [0.9, \"#4d9221\"], [1, \"#276419\"]], \"sequential\": [[0.0, \"#0d0887\"], [0.1111111111111111, \"#46039f\"], [0.2222222222222222, \"#7201a8\"], [0.3333333333333333, \"#9c179e\"], [0.4444444444444444, \"#bd3786\"], [0.5555555555555556, \"#d8576b\"], [0.6666666666666666, \"#ed7953\"], [0.7777777777777778, \"#fb9f3a\"], [0.8888888888888888, \"#fdca26\"], [1.0, \"#f0f921\"]], \"sequentialminus\": [[0.0, \"#0d0887\"], [0.1111111111111111, \"#46039f\"], [0.2222222222222222, \"#7201a8\"], [0.3333333333333333, \"#9c179e\"], [0.4444444444444444, \"#bd3786\"], [0.5555555555555556, \"#d8576b\"], [0.6666666666666666, \"#ed7953\"], [0.7777777777777778, \"#fb9f3a\"], [0.8888888888888888, \"#fdca26\"], [1.0, \"#f0f921\"]]}, \"colorway\": [\"#636efa\", \"#EF553B\", \"#00cc96\", \"#ab63fa\", \"#FFA15A\", \"#19d3f3\", \"#FF6692\", \"#B6E880\", \"#FF97FF\", \"#FECB52\"], \"font\": {\"color\": \"#2a3f5f\"}, \"geo\": {\"bgcolor\": \"white\", \"lakecolor\": \"white\", \"landcolor\": \"#E5ECF6\", \"showlakes\": true, \"showland\": true, \"subunitcolor\": \"white\"}, \"hoverlabel\": {\"align\": \"left\"}, \"hovermode\": \"closest\", \"mapbox\": {\"style\": \"light\"}, \"paper_bgcolor\": \"white\", \"plot_bgcolor\": \"#E5ECF6\", \"polar\": {\"angularaxis\": {\"gridcolor\": \"white\", \"linecolor\": \"white\", \"ticks\": \"\"}, \"bgcolor\": \"#E5ECF6\", \"radialaxis\": {\"gridcolor\": \"white\", \"linecolor\": \"white\", \"ticks\": \"\"}}, \"scene\": {\"xaxis\": {\"backgroundcolor\": \"#E5ECF6\", \"gridcolor\": \"white\", \"gridwidth\": 2, \"linecolor\": \"white\", \"showbackground\": true, \"ticks\": \"\", \"zerolinecolor\": \"white\"}, \"yaxis\": {\"backgroundcolor\": \"#E5ECF6\", \"gridcolor\": \"white\", \"gridwidth\": 2, \"linecolor\": \"white\", \"showbackground\": true, \"ticks\": \"\", \"zerolinecolor\": \"white\"}, \"zaxis\": {\"backgroundcolor\": \"#E5ECF6\", \"gridcolor\": \"white\", \"gridwidth\": 2, \"linecolor\": \"white\", \"showbackground\": true, \"ticks\": \"\", \"zerolinecolor\": \"white\"}}, \"shapedefaults\": {\"line\": {\"color\": \"#2a3f5f\"}}, \"ternary\": {\"aaxis\": {\"gridcolor\": \"white\", \"linecolor\": \"white\", \"ticks\": \"\"}, \"baxis\": {\"gridcolor\": \"white\", \"linecolor\": \"white\", \"ticks\": \"\"}, \"bgcolor\": \"#E5ECF6\", \"caxis\": {\"gridcolor\": \"white\", \"linecolor\": \"white\", \"ticks\": \"\"}}, \"title\": {\"x\": 0.05}, \"xaxis\": {\"automargin\": true, \"gridcolor\": \"white\", \"linecolor\": \"white\", \"ticks\": \"\", \"title\": {\"standoff\": 15}, \"zerolinecolor\": \"white\", \"zerolinewidth\": 2}, \"yaxis\": {\"automargin\": true, \"gridcolor\": \"white\", \"linecolor\": \"white\", \"ticks\": \"\", \"title\": {\"standoff\": 15}, \"zerolinecolor\": \"white\", \"zerolinewidth\": 2}}}, \"title\": {\"text\": \"Confirmed, Non-US\"}, \"xaxis\": {\"anchor\": \"y\", \"domain\": [0.0, 0.94]}, \"yaxis\": {\"anchor\": \"x\", \"domain\": [0.0, 1.0]}, \"yaxis2\": {\"anchor\": \"x\", \"overlaying\": \"y\", \"side\": \"right\"}},\n",
       "                        {\"responsive\": true}\n",
       "                    ).then(function(){\n",
       "                            \n",
       "var gd = document.getElementById('37aba420-4001-4944-bef7-79c67a1c84da');\n",
       "var x = new MutationObserver(function (mutations, observer) {{\n",
       "        var display = window.getComputedStyle(gd).display;\n",
       "        if (!display || display === 'none') {{\n",
       "            console.log([gd, 'removed!']);\n",
       "            Plotly.purge(gd);\n",
       "            observer.disconnect();\n",
       "        }}\n",
       "}});\n",
       "\n",
       "// Listen for the removal of the full notebook cells\n",
       "var notebookContainer = gd.closest('#notebook-container');\n",
       "if (notebookContainer) {{\n",
       "    x.observe(notebookContainer, {childList: true});\n",
       "}}\n",
       "\n",
       "// Listen for the clearing of the current output cell\n",
       "var outputEl = gd.closest('.output');\n",
       "if (outputEl) {{\n",
       "    x.observe(outputEl, {childList: true});\n",
       "}}\n",
       "\n",
       "                        })\n",
       "                };\n",
       "                });\n",
       "            </script>\n",
       "        </div>"
      ]
     },
     "metadata": {},
     "output_type": "display_data"
    }
   ],
   "source": [
    "loc = 'Non-US'\n",
    "case_type = 'Confirmed'\n",
    "\n",
    "plot_df = tidy_df[(tidy_df['US']==loc)&(tidy_df['Type']==case_type)]\n",
    "\n",
    "\n",
    "fig = make_subplots(specs=[[{\"secondary_y\": True}]])\n",
    "fig.add_trace(\n",
    "    go.Scatter(x=plot_df['Date'], y=plot_df['Count'], mode='markers', name='# Cases'),\n",
    "    secondary_y=False,\n",
    ")\n",
    "fig.add_trace(\n",
    "    go.Scatter(x=plot_df['Date'], y=plot_df['Close'], mode='markers', name='DJIA Close'),\n",
    "    secondary_y=True,\n",
    ")\n",
    "fig.add_trace(\n",
    "    go.Scatter(x=plot_df['Date'], y=plot_df['Open'], mode='markers', name='DJIA Open'),\n",
    "    secondary_y=True,\n",
    ")\n",
    "\n",
    "fig.update_layout(\n",
    "    title=\"{}, {}\".format(case_type, loc)\n",
    ")"
   ]
  },
  {
   "cell_type": "code",
   "execution_count": 63,
   "metadata": {},
   "outputs": [
    {
     "data": {
      "application/vnd.plotly.v1+json": {
       "config": {
        "plotlyServerURL": "https://plot.ly"
       },
       "data": [
        {
         "mode": "markers",
         "name": "# Cases",
         "type": "scatter",
         "x": [
          "2020-01-22T00:00:00",
          "2020-01-23T00:00:00",
          "2020-01-24T00:00:00",
          "2020-01-25T00:00:00",
          "2020-01-26T00:00:00",
          "2020-01-27T00:00:00",
          "2020-01-28T00:00:00",
          "2020-01-29T00:00:00",
          "2020-01-30T00:00:00",
          "2020-01-31T00:00:00",
          "2020-02-01T00:00:00",
          "2020-02-02T00:00:00",
          "2020-02-03T00:00:00",
          "2020-02-04T00:00:00",
          "2020-02-05T00:00:00",
          "2020-02-06T00:00:00",
          "2020-02-07T00:00:00",
          "2020-02-08T00:00:00",
          "2020-02-09T00:00:00",
          "2020-02-10T00:00:00",
          "2020-02-11T00:00:00",
          "2020-02-12T00:00:00",
          "2020-02-13T00:00:00",
          "2020-02-14T00:00:00",
          "2020-02-15T00:00:00",
          "2020-02-16T00:00:00",
          "2020-02-17T00:00:00",
          "2020-02-18T00:00:00",
          "2020-02-19T00:00:00",
          "2020-02-20T00:00:00",
          "2020-02-21T00:00:00",
          "2020-02-22T00:00:00",
          "2020-02-23T00:00:00",
          "2020-02-24T00:00:00",
          "2020-02-25T00:00:00",
          "2020-02-26T00:00:00",
          "2020-02-27T00:00:00",
          "2020-02-28T00:00:00",
          "2020-02-29T00:00:00",
          "2020-03-01T00:00:00",
          "2020-03-02T00:00:00",
          "2020-03-03T00:00:00",
          "2020-03-04T00:00:00",
          "2020-03-05T00:00:00",
          "2020-03-06T00:00:00",
          "2020-03-07T00:00:00"
         ],
         "xaxis": "x",
         "y": [
          17,
          18,
          26,
          42,
          56,
          82,
          131,
          133,
          171,
          213,
          259,
          362,
          426,
          492,
          564,
          634,
          719,
          806,
          906,
          1013,
          1113,
          1118,
          1371,
          1523,
          1666,
          1770,
          1868,
          2007,
          2122,
          2247,
          2251,
          2458,
          2469,
          2629,
          2708,
          2770,
          2814,
          2872,
          2940,
          2995,
          3079,
          3153,
          3243,
          3336,
          3446,
          3541
         ],
         "yaxis": "y"
        },
        {
         "mode": "markers",
         "name": "DJIA Close",
         "type": "scatter",
         "x": [
          "2020-01-22T00:00:00",
          "2020-01-23T00:00:00",
          "2020-01-24T00:00:00",
          "2020-01-25T00:00:00",
          "2020-01-26T00:00:00",
          "2020-01-27T00:00:00",
          "2020-01-28T00:00:00",
          "2020-01-29T00:00:00",
          "2020-01-30T00:00:00",
          "2020-01-31T00:00:00",
          "2020-02-01T00:00:00",
          "2020-02-02T00:00:00",
          "2020-02-03T00:00:00",
          "2020-02-04T00:00:00",
          "2020-02-05T00:00:00",
          "2020-02-06T00:00:00",
          "2020-02-07T00:00:00",
          "2020-02-08T00:00:00",
          "2020-02-09T00:00:00",
          "2020-02-10T00:00:00",
          "2020-02-11T00:00:00",
          "2020-02-12T00:00:00",
          "2020-02-13T00:00:00",
          "2020-02-14T00:00:00",
          "2020-02-15T00:00:00",
          "2020-02-16T00:00:00",
          "2020-02-17T00:00:00",
          "2020-02-18T00:00:00",
          "2020-02-19T00:00:00",
          "2020-02-20T00:00:00",
          "2020-02-21T00:00:00",
          "2020-02-22T00:00:00",
          "2020-02-23T00:00:00",
          "2020-02-24T00:00:00",
          "2020-02-25T00:00:00",
          "2020-02-26T00:00:00",
          "2020-02-27T00:00:00",
          "2020-02-28T00:00:00",
          "2020-02-29T00:00:00",
          "2020-03-01T00:00:00",
          "2020-03-02T00:00:00",
          "2020-03-03T00:00:00",
          "2020-03-04T00:00:00",
          "2020-03-05T00:00:00",
          "2020-03-06T00:00:00",
          "2020-03-07T00:00:00"
         ],
         "xaxis": "x",
         "y": [
          29186.269531,
          29160.089844,
          28989.730469,
          null,
          null,
          28535.800781,
          28722.849608999997,
          28734.449219,
          28859.439452999995,
          28256.029297000005,
          null,
          null,
          28399.810547000005,
          28807.630858999997,
          29290.849608999997,
          29379.769531,
          29102.509766000003,
          null,
          null,
          29276.820313,
          29276.339844,
          29551.419922000005,
          29423.310547000005,
          29398.080077999995,
          null,
          null,
          null,
          29232.189452999995,
          29348.029297000005,
          29219.980469,
          28992.410156,
          null,
          null,
          27960.800781,
          27081.359375,
          26957.589844,
          25766.640625,
          25409.359375,
          null,
          null,
          26703.320313,
          25917.410156,
          27090.859375,
          26121.279297,
          25864.779297,
          null
         ],
         "yaxis": "y2"
        },
        {
         "mode": "markers",
         "name": "DJIA Open",
         "type": "scatter",
         "x": [
          "2020-01-22T00:00:00",
          "2020-01-23T00:00:00",
          "2020-01-24T00:00:00",
          "2020-01-25T00:00:00",
          "2020-01-26T00:00:00",
          "2020-01-27T00:00:00",
          "2020-01-28T00:00:00",
          "2020-01-29T00:00:00",
          "2020-01-30T00:00:00",
          "2020-01-31T00:00:00",
          "2020-02-01T00:00:00",
          "2020-02-02T00:00:00",
          "2020-02-03T00:00:00",
          "2020-02-04T00:00:00",
          "2020-02-05T00:00:00",
          "2020-02-06T00:00:00",
          "2020-02-07T00:00:00",
          "2020-02-08T00:00:00",
          "2020-02-09T00:00:00",
          "2020-02-10T00:00:00",
          "2020-02-11T00:00:00",
          "2020-02-12T00:00:00",
          "2020-02-13T00:00:00",
          "2020-02-14T00:00:00",
          "2020-02-15T00:00:00",
          "2020-02-16T00:00:00",
          "2020-02-17T00:00:00",
          "2020-02-18T00:00:00",
          "2020-02-19T00:00:00",
          "2020-02-20T00:00:00",
          "2020-02-21T00:00:00",
          "2020-02-22T00:00:00",
          "2020-02-23T00:00:00",
          "2020-02-24T00:00:00",
          "2020-02-25T00:00:00",
          "2020-02-26T00:00:00",
          "2020-02-27T00:00:00",
          "2020-02-28T00:00:00",
          "2020-02-29T00:00:00",
          "2020-03-01T00:00:00",
          "2020-03-02T00:00:00",
          "2020-03-03T00:00:00",
          "2020-03-04T00:00:00",
          "2020-03-05T00:00:00",
          "2020-03-06T00:00:00",
          "2020-03-07T00:00:00"
         ],
         "xaxis": "x",
         "y": [
          29263.630858999997,
          29111.019531,
          29230.390625,
          null,
          null,
          28542.490233999997,
          28594.279297000005,
          28820.529297000005,
          28640.160156,
          28813.039063,
          null,
          null,
          28319.650391000003,
          28696.740233999997,
          29048.730469,
          29388.580077999995,
          29286.919922000005,
          null,
          null,
          28995.660156,
          29390.710938,
          29406.75,
          29436.029297000005,
          29440.470702999995,
          null,
          null,
          null,
          29282.779297000005,
          29312.699219,
          29296.25,
          29146.529297000005,
          null,
          null,
          28402.929688,
          28037.650391000003,
          27159.460938,
          26526,
          25270.830078,
          null,
          null,
          25590.509766,
          26762.470703,
          26383.679688,
          26671.919922,
          25457.210938,
          null
         ],
         "yaxis": "y2"
        }
       ],
       "layout": {
        "template": {
         "data": {
          "bar": [
           {
            "error_x": {
             "color": "#2a3f5f"
            },
            "error_y": {
             "color": "#2a3f5f"
            },
            "marker": {
             "line": {
              "color": "#E5ECF6",
              "width": 0.5
             }
            },
            "type": "bar"
           }
          ],
          "barpolar": [
           {
            "marker": {
             "line": {
              "color": "#E5ECF6",
              "width": 0.5
             }
            },
            "type": "barpolar"
           }
          ],
          "carpet": [
           {
            "aaxis": {
             "endlinecolor": "#2a3f5f",
             "gridcolor": "white",
             "linecolor": "white",
             "minorgridcolor": "white",
             "startlinecolor": "#2a3f5f"
            },
            "baxis": {
             "endlinecolor": "#2a3f5f",
             "gridcolor": "white",
             "linecolor": "white",
             "minorgridcolor": "white",
             "startlinecolor": "#2a3f5f"
            },
            "type": "carpet"
           }
          ],
          "choropleth": [
           {
            "colorbar": {
             "outlinewidth": 0,
             "ticks": ""
            },
            "type": "choropleth"
           }
          ],
          "contour": [
           {
            "colorbar": {
             "outlinewidth": 0,
             "ticks": ""
            },
            "colorscale": [
             [
              0,
              "#0d0887"
             ],
             [
              0.1111111111111111,
              "#46039f"
             ],
             [
              0.2222222222222222,
              "#7201a8"
             ],
             [
              0.3333333333333333,
              "#9c179e"
             ],
             [
              0.4444444444444444,
              "#bd3786"
             ],
             [
              0.5555555555555556,
              "#d8576b"
             ],
             [
              0.6666666666666666,
              "#ed7953"
             ],
             [
              0.7777777777777778,
              "#fb9f3a"
             ],
             [
              0.8888888888888888,
              "#fdca26"
             ],
             [
              1,
              "#f0f921"
             ]
            ],
            "type": "contour"
           }
          ],
          "contourcarpet": [
           {
            "colorbar": {
             "outlinewidth": 0,
             "ticks": ""
            },
            "type": "contourcarpet"
           }
          ],
          "heatmap": [
           {
            "colorbar": {
             "outlinewidth": 0,
             "ticks": ""
            },
            "colorscale": [
             [
              0,
              "#0d0887"
             ],
             [
              0.1111111111111111,
              "#46039f"
             ],
             [
              0.2222222222222222,
              "#7201a8"
             ],
             [
              0.3333333333333333,
              "#9c179e"
             ],
             [
              0.4444444444444444,
              "#bd3786"
             ],
             [
              0.5555555555555556,
              "#d8576b"
             ],
             [
              0.6666666666666666,
              "#ed7953"
             ],
             [
              0.7777777777777778,
              "#fb9f3a"
             ],
             [
              0.8888888888888888,
              "#fdca26"
             ],
             [
              1,
              "#f0f921"
             ]
            ],
            "type": "heatmap"
           }
          ],
          "heatmapgl": [
           {
            "colorbar": {
             "outlinewidth": 0,
             "ticks": ""
            },
            "colorscale": [
             [
              0,
              "#0d0887"
             ],
             [
              0.1111111111111111,
              "#46039f"
             ],
             [
              0.2222222222222222,
              "#7201a8"
             ],
             [
              0.3333333333333333,
              "#9c179e"
             ],
             [
              0.4444444444444444,
              "#bd3786"
             ],
             [
              0.5555555555555556,
              "#d8576b"
             ],
             [
              0.6666666666666666,
              "#ed7953"
             ],
             [
              0.7777777777777778,
              "#fb9f3a"
             ],
             [
              0.8888888888888888,
              "#fdca26"
             ],
             [
              1,
              "#f0f921"
             ]
            ],
            "type": "heatmapgl"
           }
          ],
          "histogram": [
           {
            "marker": {
             "colorbar": {
              "outlinewidth": 0,
              "ticks": ""
             }
            },
            "type": "histogram"
           }
          ],
          "histogram2d": [
           {
            "colorbar": {
             "outlinewidth": 0,
             "ticks": ""
            },
            "colorscale": [
             [
              0,
              "#0d0887"
             ],
             [
              0.1111111111111111,
              "#46039f"
             ],
             [
              0.2222222222222222,
              "#7201a8"
             ],
             [
              0.3333333333333333,
              "#9c179e"
             ],
             [
              0.4444444444444444,
              "#bd3786"
             ],
             [
              0.5555555555555556,
              "#d8576b"
             ],
             [
              0.6666666666666666,
              "#ed7953"
             ],
             [
              0.7777777777777778,
              "#fb9f3a"
             ],
             [
              0.8888888888888888,
              "#fdca26"
             ],
             [
              1,
              "#f0f921"
             ]
            ],
            "type": "histogram2d"
           }
          ],
          "histogram2dcontour": [
           {
            "colorbar": {
             "outlinewidth": 0,
             "ticks": ""
            },
            "colorscale": [
             [
              0,
              "#0d0887"
             ],
             [
              0.1111111111111111,
              "#46039f"
             ],
             [
              0.2222222222222222,
              "#7201a8"
             ],
             [
              0.3333333333333333,
              "#9c179e"
             ],
             [
              0.4444444444444444,
              "#bd3786"
             ],
             [
              0.5555555555555556,
              "#d8576b"
             ],
             [
              0.6666666666666666,
              "#ed7953"
             ],
             [
              0.7777777777777778,
              "#fb9f3a"
             ],
             [
              0.8888888888888888,
              "#fdca26"
             ],
             [
              1,
              "#f0f921"
             ]
            ],
            "type": "histogram2dcontour"
           }
          ],
          "mesh3d": [
           {
            "colorbar": {
             "outlinewidth": 0,
             "ticks": ""
            },
            "type": "mesh3d"
           }
          ],
          "parcoords": [
           {
            "line": {
             "colorbar": {
              "outlinewidth": 0,
              "ticks": ""
             }
            },
            "type": "parcoords"
           }
          ],
          "pie": [
           {
            "automargin": true,
            "type": "pie"
           }
          ],
          "scatter": [
           {
            "marker": {
             "colorbar": {
              "outlinewidth": 0,
              "ticks": ""
             }
            },
            "type": "scatter"
           }
          ],
          "scatter3d": [
           {
            "line": {
             "colorbar": {
              "outlinewidth": 0,
              "ticks": ""
             }
            },
            "marker": {
             "colorbar": {
              "outlinewidth": 0,
              "ticks": ""
             }
            },
            "type": "scatter3d"
           }
          ],
          "scattercarpet": [
           {
            "marker": {
             "colorbar": {
              "outlinewidth": 0,
              "ticks": ""
             }
            },
            "type": "scattercarpet"
           }
          ],
          "scattergeo": [
           {
            "marker": {
             "colorbar": {
              "outlinewidth": 0,
              "ticks": ""
             }
            },
            "type": "scattergeo"
           }
          ],
          "scattergl": [
           {
            "marker": {
             "colorbar": {
              "outlinewidth": 0,
              "ticks": ""
             }
            },
            "type": "scattergl"
           }
          ],
          "scattermapbox": [
           {
            "marker": {
             "colorbar": {
              "outlinewidth": 0,
              "ticks": ""
             }
            },
            "type": "scattermapbox"
           }
          ],
          "scatterpolar": [
           {
            "marker": {
             "colorbar": {
              "outlinewidth": 0,
              "ticks": ""
             }
            },
            "type": "scatterpolar"
           }
          ],
          "scatterpolargl": [
           {
            "marker": {
             "colorbar": {
              "outlinewidth": 0,
              "ticks": ""
             }
            },
            "type": "scatterpolargl"
           }
          ],
          "scatterternary": [
           {
            "marker": {
             "colorbar": {
              "outlinewidth": 0,
              "ticks": ""
             }
            },
            "type": "scatterternary"
           }
          ],
          "surface": [
           {
            "colorbar": {
             "outlinewidth": 0,
             "ticks": ""
            },
            "colorscale": [
             [
              0,
              "#0d0887"
             ],
             [
              0.1111111111111111,
              "#46039f"
             ],
             [
              0.2222222222222222,
              "#7201a8"
             ],
             [
              0.3333333333333333,
              "#9c179e"
             ],
             [
              0.4444444444444444,
              "#bd3786"
             ],
             [
              0.5555555555555556,
              "#d8576b"
             ],
             [
              0.6666666666666666,
              "#ed7953"
             ],
             [
              0.7777777777777778,
              "#fb9f3a"
             ],
             [
              0.8888888888888888,
              "#fdca26"
             ],
             [
              1,
              "#f0f921"
             ]
            ],
            "type": "surface"
           }
          ],
          "table": [
           {
            "cells": {
             "fill": {
              "color": "#EBF0F8"
             },
             "line": {
              "color": "white"
             }
            },
            "header": {
             "fill": {
              "color": "#C8D4E3"
             },
             "line": {
              "color": "white"
             }
            },
            "type": "table"
           }
          ]
         },
         "layout": {
          "annotationdefaults": {
           "arrowcolor": "#2a3f5f",
           "arrowhead": 0,
           "arrowwidth": 1
          },
          "coloraxis": {
           "colorbar": {
            "outlinewidth": 0,
            "ticks": ""
           }
          },
          "colorscale": {
           "diverging": [
            [
             0,
             "#8e0152"
            ],
            [
             0.1,
             "#c51b7d"
            ],
            [
             0.2,
             "#de77ae"
            ],
            [
             0.3,
             "#f1b6da"
            ],
            [
             0.4,
             "#fde0ef"
            ],
            [
             0.5,
             "#f7f7f7"
            ],
            [
             0.6,
             "#e6f5d0"
            ],
            [
             0.7,
             "#b8e186"
            ],
            [
             0.8,
             "#7fbc41"
            ],
            [
             0.9,
             "#4d9221"
            ],
            [
             1,
             "#276419"
            ]
           ],
           "sequential": [
            [
             0,
             "#0d0887"
            ],
            [
             0.1111111111111111,
             "#46039f"
            ],
            [
             0.2222222222222222,
             "#7201a8"
            ],
            [
             0.3333333333333333,
             "#9c179e"
            ],
            [
             0.4444444444444444,
             "#bd3786"
            ],
            [
             0.5555555555555556,
             "#d8576b"
            ],
            [
             0.6666666666666666,
             "#ed7953"
            ],
            [
             0.7777777777777778,
             "#fb9f3a"
            ],
            [
             0.8888888888888888,
             "#fdca26"
            ],
            [
             1,
             "#f0f921"
            ]
           ],
           "sequentialminus": [
            [
             0,
             "#0d0887"
            ],
            [
             0.1111111111111111,
             "#46039f"
            ],
            [
             0.2222222222222222,
             "#7201a8"
            ],
            [
             0.3333333333333333,
             "#9c179e"
            ],
            [
             0.4444444444444444,
             "#bd3786"
            ],
            [
             0.5555555555555556,
             "#d8576b"
            ],
            [
             0.6666666666666666,
             "#ed7953"
            ],
            [
             0.7777777777777778,
             "#fb9f3a"
            ],
            [
             0.8888888888888888,
             "#fdca26"
            ],
            [
             1,
             "#f0f921"
            ]
           ]
          },
          "colorway": [
           "#636efa",
           "#EF553B",
           "#00cc96",
           "#ab63fa",
           "#FFA15A",
           "#19d3f3",
           "#FF6692",
           "#B6E880",
           "#FF97FF",
           "#FECB52"
          ],
          "font": {
           "color": "#2a3f5f"
          },
          "geo": {
           "bgcolor": "white",
           "lakecolor": "white",
           "landcolor": "#E5ECF6",
           "showlakes": true,
           "showland": true,
           "subunitcolor": "white"
          },
          "hoverlabel": {
           "align": "left"
          },
          "hovermode": "closest",
          "mapbox": {
           "style": "light"
          },
          "paper_bgcolor": "white",
          "plot_bgcolor": "#E5ECF6",
          "polar": {
           "angularaxis": {
            "gridcolor": "white",
            "linecolor": "white",
            "ticks": ""
           },
           "bgcolor": "#E5ECF6",
           "radialaxis": {
            "gridcolor": "white",
            "linecolor": "white",
            "ticks": ""
           }
          },
          "scene": {
           "xaxis": {
            "backgroundcolor": "#E5ECF6",
            "gridcolor": "white",
            "gridwidth": 2,
            "linecolor": "white",
            "showbackground": true,
            "ticks": "",
            "zerolinecolor": "white"
           },
           "yaxis": {
            "backgroundcolor": "#E5ECF6",
            "gridcolor": "white",
            "gridwidth": 2,
            "linecolor": "white",
            "showbackground": true,
            "ticks": "",
            "zerolinecolor": "white"
           },
           "zaxis": {
            "backgroundcolor": "#E5ECF6",
            "gridcolor": "white",
            "gridwidth": 2,
            "linecolor": "white",
            "showbackground": true,
            "ticks": "",
            "zerolinecolor": "white"
           }
          },
          "shapedefaults": {
           "line": {
            "color": "#2a3f5f"
           }
          },
          "ternary": {
           "aaxis": {
            "gridcolor": "white",
            "linecolor": "white",
            "ticks": ""
           },
           "baxis": {
            "gridcolor": "white",
            "linecolor": "white",
            "ticks": ""
           },
           "bgcolor": "#E5ECF6",
           "caxis": {
            "gridcolor": "white",
            "linecolor": "white",
            "ticks": ""
           }
          },
          "title": {
           "x": 0.05
          },
          "xaxis": {
           "automargin": true,
           "gridcolor": "white",
           "linecolor": "white",
           "ticks": "",
           "title": {
            "standoff": 15
           },
           "zerolinecolor": "white",
           "zerolinewidth": 2
          },
          "yaxis": {
           "automargin": true,
           "gridcolor": "white",
           "linecolor": "white",
           "ticks": "",
           "title": {
            "standoff": 15
           },
           "zerolinecolor": "white",
           "zerolinewidth": 2
          }
         }
        },
        "title": {
         "text": "Deaths, Non-US"
        },
        "xaxis": {
         "anchor": "y",
         "domain": [
          0,
          0.94
         ]
        },
        "yaxis": {
         "anchor": "x",
         "domain": [
          0,
          1
         ]
        },
        "yaxis2": {
         "anchor": "x",
         "overlaying": "y",
         "side": "right"
        }
       }
      },
      "text/html": [
       "<div>\n",
       "        \n",
       "        \n",
       "            <div id=\"8c287e78-3907-4001-84dc-dedffbe5adaa\" class=\"plotly-graph-div\" style=\"height:525px; width:100%;\"></div>\n",
       "            <script type=\"text/javascript\">\n",
       "                require([\"plotly\"], function(Plotly) {\n",
       "                    window.PLOTLYENV=window.PLOTLYENV || {};\n",
       "                    \n",
       "                if (document.getElementById(\"8c287e78-3907-4001-84dc-dedffbe5adaa\")) {\n",
       "                    Plotly.newPlot(\n",
       "                        '8c287e78-3907-4001-84dc-dedffbe5adaa',\n",
       "                        [{\"mode\": \"markers\", \"name\": \"# Cases\", \"type\": \"scatter\", \"x\": [\"2020-01-22T00:00:00\", \"2020-01-23T00:00:00\", \"2020-01-24T00:00:00\", \"2020-01-25T00:00:00\", \"2020-01-26T00:00:00\", \"2020-01-27T00:00:00\", \"2020-01-28T00:00:00\", \"2020-01-29T00:00:00\", \"2020-01-30T00:00:00\", \"2020-01-31T00:00:00\", \"2020-02-01T00:00:00\", \"2020-02-02T00:00:00\", \"2020-02-03T00:00:00\", \"2020-02-04T00:00:00\", \"2020-02-05T00:00:00\", \"2020-02-06T00:00:00\", \"2020-02-07T00:00:00\", \"2020-02-08T00:00:00\", \"2020-02-09T00:00:00\", \"2020-02-10T00:00:00\", \"2020-02-11T00:00:00\", \"2020-02-12T00:00:00\", \"2020-02-13T00:00:00\", \"2020-02-14T00:00:00\", \"2020-02-15T00:00:00\", \"2020-02-16T00:00:00\", \"2020-02-17T00:00:00\", \"2020-02-18T00:00:00\", \"2020-02-19T00:00:00\", \"2020-02-20T00:00:00\", \"2020-02-21T00:00:00\", \"2020-02-22T00:00:00\", \"2020-02-23T00:00:00\", \"2020-02-24T00:00:00\", \"2020-02-25T00:00:00\", \"2020-02-26T00:00:00\", \"2020-02-27T00:00:00\", \"2020-02-28T00:00:00\", \"2020-02-29T00:00:00\", \"2020-03-01T00:00:00\", \"2020-03-02T00:00:00\", \"2020-03-03T00:00:00\", \"2020-03-04T00:00:00\", \"2020-03-05T00:00:00\", \"2020-03-06T00:00:00\", \"2020-03-07T00:00:00\"], \"xaxis\": \"x\", \"y\": [17, 18, 26, 42, 56, 82, 131, 133, 171, 213, 259, 362, 426, 492, 564, 634, 719, 806, 906, 1013, 1113, 1118, 1371, 1523, 1666, 1770, 1868, 2007, 2122, 2247, 2251, 2458, 2469, 2629, 2708, 2770, 2814, 2872, 2940, 2995, 3079, 3153, 3243, 3336, 3446, 3541], \"yaxis\": \"y\"}, {\"mode\": \"markers\", \"name\": \"DJIA Close\", \"type\": \"scatter\", \"x\": [\"2020-01-22T00:00:00\", \"2020-01-23T00:00:00\", \"2020-01-24T00:00:00\", \"2020-01-25T00:00:00\", \"2020-01-26T00:00:00\", \"2020-01-27T00:00:00\", \"2020-01-28T00:00:00\", \"2020-01-29T00:00:00\", \"2020-01-30T00:00:00\", \"2020-01-31T00:00:00\", \"2020-02-01T00:00:00\", \"2020-02-02T00:00:00\", \"2020-02-03T00:00:00\", \"2020-02-04T00:00:00\", \"2020-02-05T00:00:00\", \"2020-02-06T00:00:00\", \"2020-02-07T00:00:00\", \"2020-02-08T00:00:00\", \"2020-02-09T00:00:00\", \"2020-02-10T00:00:00\", \"2020-02-11T00:00:00\", \"2020-02-12T00:00:00\", \"2020-02-13T00:00:00\", \"2020-02-14T00:00:00\", \"2020-02-15T00:00:00\", \"2020-02-16T00:00:00\", \"2020-02-17T00:00:00\", \"2020-02-18T00:00:00\", \"2020-02-19T00:00:00\", \"2020-02-20T00:00:00\", \"2020-02-21T00:00:00\", \"2020-02-22T00:00:00\", \"2020-02-23T00:00:00\", \"2020-02-24T00:00:00\", \"2020-02-25T00:00:00\", \"2020-02-26T00:00:00\", \"2020-02-27T00:00:00\", \"2020-02-28T00:00:00\", \"2020-02-29T00:00:00\", \"2020-03-01T00:00:00\", \"2020-03-02T00:00:00\", \"2020-03-03T00:00:00\", \"2020-03-04T00:00:00\", \"2020-03-05T00:00:00\", \"2020-03-06T00:00:00\", \"2020-03-07T00:00:00\"], \"xaxis\": \"x\", \"y\": [29186.269531, 29160.089844, 28989.730469, null, null, 28535.800781, 28722.849608999997, 28734.449219, 28859.439452999995, 28256.029297000005, null, null, 28399.810547000005, 28807.630858999997, 29290.849608999997, 29379.769531, 29102.509766000003, null, null, 29276.820313, 29276.339844, 29551.419922000005, 29423.310547000005, 29398.080077999995, null, null, null, 29232.189452999995, 29348.029297000005, 29219.980469, 28992.410156, null, null, 27960.800781, 27081.359375, 26957.589844, 25766.640625, 25409.359375, null, null, 26703.320313, 25917.410156, 27090.859375, 26121.279297, 25864.779297, null], \"yaxis\": \"y2\"}, {\"mode\": \"markers\", \"name\": \"DJIA Open\", \"type\": \"scatter\", \"x\": [\"2020-01-22T00:00:00\", \"2020-01-23T00:00:00\", \"2020-01-24T00:00:00\", \"2020-01-25T00:00:00\", \"2020-01-26T00:00:00\", \"2020-01-27T00:00:00\", \"2020-01-28T00:00:00\", \"2020-01-29T00:00:00\", \"2020-01-30T00:00:00\", \"2020-01-31T00:00:00\", \"2020-02-01T00:00:00\", \"2020-02-02T00:00:00\", \"2020-02-03T00:00:00\", \"2020-02-04T00:00:00\", \"2020-02-05T00:00:00\", \"2020-02-06T00:00:00\", \"2020-02-07T00:00:00\", \"2020-02-08T00:00:00\", \"2020-02-09T00:00:00\", \"2020-02-10T00:00:00\", \"2020-02-11T00:00:00\", \"2020-02-12T00:00:00\", \"2020-02-13T00:00:00\", \"2020-02-14T00:00:00\", \"2020-02-15T00:00:00\", \"2020-02-16T00:00:00\", \"2020-02-17T00:00:00\", \"2020-02-18T00:00:00\", \"2020-02-19T00:00:00\", \"2020-02-20T00:00:00\", \"2020-02-21T00:00:00\", \"2020-02-22T00:00:00\", \"2020-02-23T00:00:00\", \"2020-02-24T00:00:00\", \"2020-02-25T00:00:00\", \"2020-02-26T00:00:00\", \"2020-02-27T00:00:00\", \"2020-02-28T00:00:00\", \"2020-02-29T00:00:00\", \"2020-03-01T00:00:00\", \"2020-03-02T00:00:00\", \"2020-03-03T00:00:00\", \"2020-03-04T00:00:00\", \"2020-03-05T00:00:00\", \"2020-03-06T00:00:00\", \"2020-03-07T00:00:00\"], \"xaxis\": \"x\", \"y\": [29263.630858999997, 29111.019531, 29230.390625, null, null, 28542.490233999997, 28594.279297000005, 28820.529297000005, 28640.160156, 28813.039063, null, null, 28319.650391000003, 28696.740233999997, 29048.730469, 29388.580077999995, 29286.919922000005, null, null, 28995.660156, 29390.710938, 29406.75, 29436.029297000005, 29440.470702999995, null, null, null, 29282.779297000005, 29312.699219, 29296.25, 29146.529297000005, null, null, 28402.929688, 28037.650391000003, 27159.460938, 26526.0, 25270.830078, null, null, 25590.509766, 26762.470703, 26383.679688, 26671.919922, 25457.210938, null], \"yaxis\": \"y2\"}],\n",
       "                        {\"template\": {\"data\": {\"bar\": [{\"error_x\": {\"color\": \"#2a3f5f\"}, \"error_y\": {\"color\": \"#2a3f5f\"}, \"marker\": {\"line\": {\"color\": \"#E5ECF6\", \"width\": 0.5}}, \"type\": \"bar\"}], \"barpolar\": [{\"marker\": {\"line\": {\"color\": \"#E5ECF6\", \"width\": 0.5}}, \"type\": \"barpolar\"}], \"carpet\": [{\"aaxis\": {\"endlinecolor\": \"#2a3f5f\", \"gridcolor\": \"white\", \"linecolor\": \"white\", \"minorgridcolor\": \"white\", \"startlinecolor\": \"#2a3f5f\"}, \"baxis\": {\"endlinecolor\": \"#2a3f5f\", \"gridcolor\": \"white\", \"linecolor\": \"white\", \"minorgridcolor\": \"white\", \"startlinecolor\": \"#2a3f5f\"}, \"type\": \"carpet\"}], \"choropleth\": [{\"colorbar\": {\"outlinewidth\": 0, \"ticks\": \"\"}, \"type\": \"choropleth\"}], \"contour\": [{\"colorbar\": {\"outlinewidth\": 0, \"ticks\": \"\"}, \"colorscale\": [[0.0, \"#0d0887\"], [0.1111111111111111, \"#46039f\"], [0.2222222222222222, \"#7201a8\"], [0.3333333333333333, \"#9c179e\"], [0.4444444444444444, \"#bd3786\"], [0.5555555555555556, \"#d8576b\"], [0.6666666666666666, \"#ed7953\"], [0.7777777777777778, \"#fb9f3a\"], [0.8888888888888888, \"#fdca26\"], [1.0, \"#f0f921\"]], \"type\": \"contour\"}], \"contourcarpet\": [{\"colorbar\": {\"outlinewidth\": 0, \"ticks\": \"\"}, \"type\": \"contourcarpet\"}], \"heatmap\": [{\"colorbar\": {\"outlinewidth\": 0, \"ticks\": \"\"}, \"colorscale\": [[0.0, \"#0d0887\"], [0.1111111111111111, \"#46039f\"], [0.2222222222222222, \"#7201a8\"], [0.3333333333333333, \"#9c179e\"], [0.4444444444444444, \"#bd3786\"], [0.5555555555555556, \"#d8576b\"], [0.6666666666666666, \"#ed7953\"], [0.7777777777777778, \"#fb9f3a\"], [0.8888888888888888, \"#fdca26\"], [1.0, \"#f0f921\"]], \"type\": \"heatmap\"}], \"heatmapgl\": [{\"colorbar\": {\"outlinewidth\": 0, \"ticks\": \"\"}, \"colorscale\": [[0.0, \"#0d0887\"], [0.1111111111111111, \"#46039f\"], [0.2222222222222222, \"#7201a8\"], [0.3333333333333333, \"#9c179e\"], [0.4444444444444444, \"#bd3786\"], [0.5555555555555556, \"#d8576b\"], [0.6666666666666666, \"#ed7953\"], [0.7777777777777778, \"#fb9f3a\"], [0.8888888888888888, \"#fdca26\"], [1.0, \"#f0f921\"]], \"type\": \"heatmapgl\"}], \"histogram\": [{\"marker\": {\"colorbar\": {\"outlinewidth\": 0, \"ticks\": \"\"}}, \"type\": \"histogram\"}], \"histogram2d\": [{\"colorbar\": {\"outlinewidth\": 0, \"ticks\": \"\"}, \"colorscale\": [[0.0, \"#0d0887\"], [0.1111111111111111, \"#46039f\"], [0.2222222222222222, \"#7201a8\"], [0.3333333333333333, \"#9c179e\"], [0.4444444444444444, \"#bd3786\"], [0.5555555555555556, \"#d8576b\"], [0.6666666666666666, \"#ed7953\"], [0.7777777777777778, \"#fb9f3a\"], [0.8888888888888888, \"#fdca26\"], [1.0, \"#f0f921\"]], \"type\": \"histogram2d\"}], \"histogram2dcontour\": [{\"colorbar\": {\"outlinewidth\": 0, \"ticks\": \"\"}, \"colorscale\": [[0.0, \"#0d0887\"], [0.1111111111111111, \"#46039f\"], [0.2222222222222222, \"#7201a8\"], [0.3333333333333333, \"#9c179e\"], [0.4444444444444444, \"#bd3786\"], [0.5555555555555556, \"#d8576b\"], [0.6666666666666666, \"#ed7953\"], [0.7777777777777778, \"#fb9f3a\"], [0.8888888888888888, \"#fdca26\"], [1.0, \"#f0f921\"]], \"type\": \"histogram2dcontour\"}], \"mesh3d\": [{\"colorbar\": {\"outlinewidth\": 0, \"ticks\": \"\"}, \"type\": \"mesh3d\"}], \"parcoords\": [{\"line\": {\"colorbar\": {\"outlinewidth\": 0, \"ticks\": \"\"}}, \"type\": \"parcoords\"}], \"pie\": [{\"automargin\": true, \"type\": \"pie\"}], \"scatter\": [{\"marker\": {\"colorbar\": {\"outlinewidth\": 0, \"ticks\": \"\"}}, \"type\": \"scatter\"}], \"scatter3d\": [{\"line\": {\"colorbar\": {\"outlinewidth\": 0, \"ticks\": \"\"}}, \"marker\": {\"colorbar\": {\"outlinewidth\": 0, \"ticks\": \"\"}}, \"type\": \"scatter3d\"}], \"scattercarpet\": [{\"marker\": {\"colorbar\": {\"outlinewidth\": 0, \"ticks\": \"\"}}, \"type\": \"scattercarpet\"}], \"scattergeo\": [{\"marker\": {\"colorbar\": {\"outlinewidth\": 0, \"ticks\": \"\"}}, \"type\": \"scattergeo\"}], \"scattergl\": [{\"marker\": {\"colorbar\": {\"outlinewidth\": 0, \"ticks\": \"\"}}, \"type\": \"scattergl\"}], \"scattermapbox\": [{\"marker\": {\"colorbar\": {\"outlinewidth\": 0, \"ticks\": \"\"}}, \"type\": \"scattermapbox\"}], \"scatterpolar\": [{\"marker\": {\"colorbar\": {\"outlinewidth\": 0, \"ticks\": \"\"}}, \"type\": \"scatterpolar\"}], \"scatterpolargl\": [{\"marker\": {\"colorbar\": {\"outlinewidth\": 0, \"ticks\": \"\"}}, \"type\": \"scatterpolargl\"}], \"scatterternary\": [{\"marker\": {\"colorbar\": {\"outlinewidth\": 0, \"ticks\": \"\"}}, \"type\": \"scatterternary\"}], \"surface\": [{\"colorbar\": {\"outlinewidth\": 0, \"ticks\": \"\"}, \"colorscale\": [[0.0, \"#0d0887\"], [0.1111111111111111, \"#46039f\"], [0.2222222222222222, \"#7201a8\"], [0.3333333333333333, \"#9c179e\"], [0.4444444444444444, \"#bd3786\"], [0.5555555555555556, \"#d8576b\"], [0.6666666666666666, \"#ed7953\"], [0.7777777777777778, \"#fb9f3a\"], [0.8888888888888888, \"#fdca26\"], [1.0, \"#f0f921\"]], \"type\": \"surface\"}], \"table\": [{\"cells\": {\"fill\": {\"color\": \"#EBF0F8\"}, \"line\": {\"color\": \"white\"}}, \"header\": {\"fill\": {\"color\": \"#C8D4E3\"}, \"line\": {\"color\": \"white\"}}, \"type\": \"table\"}]}, \"layout\": {\"annotationdefaults\": {\"arrowcolor\": \"#2a3f5f\", \"arrowhead\": 0, \"arrowwidth\": 1}, \"coloraxis\": {\"colorbar\": {\"outlinewidth\": 0, \"ticks\": \"\"}}, \"colorscale\": {\"diverging\": [[0, \"#8e0152\"], [0.1, \"#c51b7d\"], [0.2, \"#de77ae\"], [0.3, \"#f1b6da\"], [0.4, \"#fde0ef\"], [0.5, \"#f7f7f7\"], [0.6, \"#e6f5d0\"], [0.7, \"#b8e186\"], [0.8, \"#7fbc41\"], [0.9, \"#4d9221\"], [1, \"#276419\"]], \"sequential\": [[0.0, \"#0d0887\"], [0.1111111111111111, \"#46039f\"], [0.2222222222222222, \"#7201a8\"], [0.3333333333333333, \"#9c179e\"], [0.4444444444444444, \"#bd3786\"], [0.5555555555555556, \"#d8576b\"], [0.6666666666666666, \"#ed7953\"], [0.7777777777777778, \"#fb9f3a\"], [0.8888888888888888, \"#fdca26\"], [1.0, \"#f0f921\"]], \"sequentialminus\": [[0.0, \"#0d0887\"], [0.1111111111111111, \"#46039f\"], [0.2222222222222222, \"#7201a8\"], [0.3333333333333333, \"#9c179e\"], [0.4444444444444444, \"#bd3786\"], [0.5555555555555556, \"#d8576b\"], [0.6666666666666666, \"#ed7953\"], [0.7777777777777778, \"#fb9f3a\"], [0.8888888888888888, \"#fdca26\"], [1.0, \"#f0f921\"]]}, \"colorway\": [\"#636efa\", \"#EF553B\", \"#00cc96\", \"#ab63fa\", \"#FFA15A\", \"#19d3f3\", \"#FF6692\", \"#B6E880\", \"#FF97FF\", \"#FECB52\"], \"font\": {\"color\": \"#2a3f5f\"}, \"geo\": {\"bgcolor\": \"white\", \"lakecolor\": \"white\", \"landcolor\": \"#E5ECF6\", \"showlakes\": true, \"showland\": true, \"subunitcolor\": \"white\"}, \"hoverlabel\": {\"align\": \"left\"}, \"hovermode\": \"closest\", \"mapbox\": {\"style\": \"light\"}, \"paper_bgcolor\": \"white\", \"plot_bgcolor\": \"#E5ECF6\", \"polar\": {\"angularaxis\": {\"gridcolor\": \"white\", \"linecolor\": \"white\", \"ticks\": \"\"}, \"bgcolor\": \"#E5ECF6\", \"radialaxis\": {\"gridcolor\": \"white\", \"linecolor\": \"white\", \"ticks\": \"\"}}, \"scene\": {\"xaxis\": {\"backgroundcolor\": \"#E5ECF6\", \"gridcolor\": \"white\", \"gridwidth\": 2, \"linecolor\": \"white\", \"showbackground\": true, \"ticks\": \"\", \"zerolinecolor\": \"white\"}, \"yaxis\": {\"backgroundcolor\": \"#E5ECF6\", \"gridcolor\": \"white\", \"gridwidth\": 2, \"linecolor\": \"white\", \"showbackground\": true, \"ticks\": \"\", \"zerolinecolor\": \"white\"}, \"zaxis\": {\"backgroundcolor\": \"#E5ECF6\", \"gridcolor\": \"white\", \"gridwidth\": 2, \"linecolor\": \"white\", \"showbackground\": true, \"ticks\": \"\", \"zerolinecolor\": \"white\"}}, \"shapedefaults\": {\"line\": {\"color\": \"#2a3f5f\"}}, \"ternary\": {\"aaxis\": {\"gridcolor\": \"white\", \"linecolor\": \"white\", \"ticks\": \"\"}, \"baxis\": {\"gridcolor\": \"white\", \"linecolor\": \"white\", \"ticks\": \"\"}, \"bgcolor\": \"#E5ECF6\", \"caxis\": {\"gridcolor\": \"white\", \"linecolor\": \"white\", \"ticks\": \"\"}}, \"title\": {\"x\": 0.05}, \"xaxis\": {\"automargin\": true, \"gridcolor\": \"white\", \"linecolor\": \"white\", \"ticks\": \"\", \"title\": {\"standoff\": 15}, \"zerolinecolor\": \"white\", \"zerolinewidth\": 2}, \"yaxis\": {\"automargin\": true, \"gridcolor\": \"white\", \"linecolor\": \"white\", \"ticks\": \"\", \"title\": {\"standoff\": 15}, \"zerolinecolor\": \"white\", \"zerolinewidth\": 2}}}, \"title\": {\"text\": \"Deaths, Non-US\"}, \"xaxis\": {\"anchor\": \"y\", \"domain\": [0.0, 0.94]}, \"yaxis\": {\"anchor\": \"x\", \"domain\": [0.0, 1.0]}, \"yaxis2\": {\"anchor\": \"x\", \"overlaying\": \"y\", \"side\": \"right\"}},\n",
       "                        {\"responsive\": true}\n",
       "                    ).then(function(){\n",
       "                            \n",
       "var gd = document.getElementById('8c287e78-3907-4001-84dc-dedffbe5adaa');\n",
       "var x = new MutationObserver(function (mutations, observer) {{\n",
       "        var display = window.getComputedStyle(gd).display;\n",
       "        if (!display || display === 'none') {{\n",
       "            console.log([gd, 'removed!']);\n",
       "            Plotly.purge(gd);\n",
       "            observer.disconnect();\n",
       "        }}\n",
       "}});\n",
       "\n",
       "// Listen for the removal of the full notebook cells\n",
       "var notebookContainer = gd.closest('#notebook-container');\n",
       "if (notebookContainer) {{\n",
       "    x.observe(notebookContainer, {childList: true});\n",
       "}}\n",
       "\n",
       "// Listen for the clearing of the current output cell\n",
       "var outputEl = gd.closest('.output');\n",
       "if (outputEl) {{\n",
       "    x.observe(outputEl, {childList: true});\n",
       "}}\n",
       "\n",
       "                        })\n",
       "                };\n",
       "                });\n",
       "            </script>\n",
       "        </div>"
      ]
     },
     "metadata": {},
     "output_type": "display_data"
    }
   ],
   "source": [
    "loc = 'Non-US'\n",
    "case_type = 'Deaths'\n",
    "\n",
    "plot_df = tidy_df[(tidy_df['US']==loc)&(tidy_df['Type']==case_type)]\n",
    "\n",
    "\n",
    "fig = make_subplots(specs=[[{\"secondary_y\": True}]])\n",
    "fig.add_trace(\n",
    "    go.Scatter(x=plot_df['Date'], y=plot_df['Count'], mode='markers', name='# Cases'),\n",
    "    secondary_y=False,\n",
    ")\n",
    "fig.add_trace(\n",
    "    go.Scatter(x=plot_df['Date'], y=plot_df['Close'], mode='markers', name='DJIA Close'),\n",
    "    secondary_y=True,\n",
    ")\n",
    "fig.add_trace(\n",
    "    go.Scatter(x=plot_df['Date'], y=plot_df['Open'], mode='markers', name='DJIA Open'),\n",
    "    secondary_y=True,\n",
    ")\n",
    "\n",
    "fig.update_layout(\n",
    "    title=\"{}, {}\".format(case_type, loc)\n",
    ")"
   ]
  },
  {
   "cell_type": "code",
   "execution_count": 64,
   "metadata": {},
   "outputs": [
    {
     "data": {
      "application/vnd.plotly.v1+json": {
       "config": {
        "plotlyServerURL": "https://plot.ly"
       },
       "data": [
        {
         "mode": "markers",
         "name": "# Cases",
         "type": "scatter",
         "x": [
          "2020-01-22T00:00:00",
          "2020-01-23T00:00:00",
          "2020-01-24T00:00:00",
          "2020-01-25T00:00:00",
          "2020-01-26T00:00:00",
          "2020-01-27T00:00:00",
          "2020-01-28T00:00:00",
          "2020-01-29T00:00:00",
          "2020-01-30T00:00:00",
          "2020-01-31T00:00:00",
          "2020-02-01T00:00:00",
          "2020-02-02T00:00:00",
          "2020-02-03T00:00:00",
          "2020-02-04T00:00:00",
          "2020-02-05T00:00:00",
          "2020-02-06T00:00:00",
          "2020-02-07T00:00:00",
          "2020-02-08T00:00:00",
          "2020-02-09T00:00:00",
          "2020-02-10T00:00:00",
          "2020-02-11T00:00:00",
          "2020-02-12T00:00:00",
          "2020-02-13T00:00:00",
          "2020-02-14T00:00:00",
          "2020-02-15T00:00:00",
          "2020-02-16T00:00:00",
          "2020-02-17T00:00:00",
          "2020-02-18T00:00:00",
          "2020-02-19T00:00:00",
          "2020-02-20T00:00:00",
          "2020-02-21T00:00:00",
          "2020-02-22T00:00:00",
          "2020-02-23T00:00:00",
          "2020-02-24T00:00:00",
          "2020-02-25T00:00:00",
          "2020-02-26T00:00:00",
          "2020-02-27T00:00:00",
          "2020-02-28T00:00:00",
          "2020-02-29T00:00:00",
          "2020-03-01T00:00:00",
          "2020-03-02T00:00:00",
          "2020-03-03T00:00:00",
          "2020-03-04T00:00:00",
          "2020-03-05T00:00:00",
          "2020-03-06T00:00:00",
          "2020-03-07T00:00:00"
         ],
         "xaxis": "x",
         "y": [
          28,
          30,
          36,
          39,
          52,
          61,
          107,
          126,
          143,
          222,
          284,
          472,
          623,
          852,
          1124,
          1487,
          2011,
          2616,
          3241,
          3943,
          4680,
          5147,
          6292,
          8055,
          9392,
          10862,
          12580,
          14349,
          16118,
          18174,
          18885,
          22881,
          23389,
          25222,
          27899,
          30378,
          33271,
          36704,
          39775,
          42709,
          45595,
          48221,
          51163,
          53789,
          55858,
          58351
         ],
         "yaxis": "y"
        },
        {
         "mode": "markers",
         "name": "DJIA Close",
         "type": "scatter",
         "x": [
          "2020-01-22T00:00:00",
          "2020-01-23T00:00:00",
          "2020-01-24T00:00:00",
          "2020-01-25T00:00:00",
          "2020-01-26T00:00:00",
          "2020-01-27T00:00:00",
          "2020-01-28T00:00:00",
          "2020-01-29T00:00:00",
          "2020-01-30T00:00:00",
          "2020-01-31T00:00:00",
          "2020-02-01T00:00:00",
          "2020-02-02T00:00:00",
          "2020-02-03T00:00:00",
          "2020-02-04T00:00:00",
          "2020-02-05T00:00:00",
          "2020-02-06T00:00:00",
          "2020-02-07T00:00:00",
          "2020-02-08T00:00:00",
          "2020-02-09T00:00:00",
          "2020-02-10T00:00:00",
          "2020-02-11T00:00:00",
          "2020-02-12T00:00:00",
          "2020-02-13T00:00:00",
          "2020-02-14T00:00:00",
          "2020-02-15T00:00:00",
          "2020-02-16T00:00:00",
          "2020-02-17T00:00:00",
          "2020-02-18T00:00:00",
          "2020-02-19T00:00:00",
          "2020-02-20T00:00:00",
          "2020-02-21T00:00:00",
          "2020-02-22T00:00:00",
          "2020-02-23T00:00:00",
          "2020-02-24T00:00:00",
          "2020-02-25T00:00:00",
          "2020-02-26T00:00:00",
          "2020-02-27T00:00:00",
          "2020-02-28T00:00:00",
          "2020-02-29T00:00:00",
          "2020-03-01T00:00:00",
          "2020-03-02T00:00:00",
          "2020-03-03T00:00:00",
          "2020-03-04T00:00:00",
          "2020-03-05T00:00:00",
          "2020-03-06T00:00:00",
          "2020-03-07T00:00:00"
         ],
         "xaxis": "x",
         "y": [
          29186.269531,
          29160.089844,
          28989.730469,
          null,
          null,
          28535.800781,
          28722.849608999997,
          28734.449219,
          28859.439452999995,
          28256.029297000005,
          null,
          null,
          28399.810547000005,
          28807.630858999997,
          29290.849608999997,
          29379.769531,
          29102.509766000003,
          null,
          null,
          29276.820313,
          29276.339844,
          29551.419922000005,
          29423.310547000005,
          29398.080077999995,
          null,
          null,
          null,
          29232.189452999995,
          29348.029297000005,
          29219.980469,
          28992.410156,
          null,
          null,
          27960.800781,
          27081.359375,
          26957.589844,
          25766.640625,
          25409.359375,
          null,
          null,
          26703.320313,
          25917.410156,
          27090.859375,
          26121.279297,
          25864.779297,
          null
         ],
         "yaxis": "y2"
        },
        {
         "mode": "markers",
         "name": "DJIA Open",
         "type": "scatter",
         "x": [
          "2020-01-22T00:00:00",
          "2020-01-23T00:00:00",
          "2020-01-24T00:00:00",
          "2020-01-25T00:00:00",
          "2020-01-26T00:00:00",
          "2020-01-27T00:00:00",
          "2020-01-28T00:00:00",
          "2020-01-29T00:00:00",
          "2020-01-30T00:00:00",
          "2020-01-31T00:00:00",
          "2020-02-01T00:00:00",
          "2020-02-02T00:00:00",
          "2020-02-03T00:00:00",
          "2020-02-04T00:00:00",
          "2020-02-05T00:00:00",
          "2020-02-06T00:00:00",
          "2020-02-07T00:00:00",
          "2020-02-08T00:00:00",
          "2020-02-09T00:00:00",
          "2020-02-10T00:00:00",
          "2020-02-11T00:00:00",
          "2020-02-12T00:00:00",
          "2020-02-13T00:00:00",
          "2020-02-14T00:00:00",
          "2020-02-15T00:00:00",
          "2020-02-16T00:00:00",
          "2020-02-17T00:00:00",
          "2020-02-18T00:00:00",
          "2020-02-19T00:00:00",
          "2020-02-20T00:00:00",
          "2020-02-21T00:00:00",
          "2020-02-22T00:00:00",
          "2020-02-23T00:00:00",
          "2020-02-24T00:00:00",
          "2020-02-25T00:00:00",
          "2020-02-26T00:00:00",
          "2020-02-27T00:00:00",
          "2020-02-28T00:00:00",
          "2020-02-29T00:00:00",
          "2020-03-01T00:00:00",
          "2020-03-02T00:00:00",
          "2020-03-03T00:00:00",
          "2020-03-04T00:00:00",
          "2020-03-05T00:00:00",
          "2020-03-06T00:00:00",
          "2020-03-07T00:00:00"
         ],
         "xaxis": "x",
         "y": [
          29263.630858999997,
          29111.019531,
          29230.390625,
          null,
          null,
          28542.490233999997,
          28594.279297000005,
          28820.529297000005,
          28640.160156,
          28813.039063,
          null,
          null,
          28319.650391000003,
          28696.740233999997,
          29048.730469,
          29388.580077999995,
          29286.919922000005,
          null,
          null,
          28995.660156,
          29390.710938,
          29406.75,
          29436.029297000005,
          29440.470702999995,
          null,
          null,
          null,
          29282.779297000005,
          29312.699219,
          29296.25,
          29146.529297000005,
          null,
          null,
          28402.929688,
          28037.650391000003,
          27159.460938,
          26526,
          25270.830078,
          null,
          null,
          25590.509766,
          26762.470703,
          26383.679688,
          26671.919922,
          25457.210938,
          null
         ],
         "yaxis": "y2"
        }
       ],
       "layout": {
        "template": {
         "data": {
          "bar": [
           {
            "error_x": {
             "color": "#2a3f5f"
            },
            "error_y": {
             "color": "#2a3f5f"
            },
            "marker": {
             "line": {
              "color": "#E5ECF6",
              "width": 0.5
             }
            },
            "type": "bar"
           }
          ],
          "barpolar": [
           {
            "marker": {
             "line": {
              "color": "#E5ECF6",
              "width": 0.5
             }
            },
            "type": "barpolar"
           }
          ],
          "carpet": [
           {
            "aaxis": {
             "endlinecolor": "#2a3f5f",
             "gridcolor": "white",
             "linecolor": "white",
             "minorgridcolor": "white",
             "startlinecolor": "#2a3f5f"
            },
            "baxis": {
             "endlinecolor": "#2a3f5f",
             "gridcolor": "white",
             "linecolor": "white",
             "minorgridcolor": "white",
             "startlinecolor": "#2a3f5f"
            },
            "type": "carpet"
           }
          ],
          "choropleth": [
           {
            "colorbar": {
             "outlinewidth": 0,
             "ticks": ""
            },
            "type": "choropleth"
           }
          ],
          "contour": [
           {
            "colorbar": {
             "outlinewidth": 0,
             "ticks": ""
            },
            "colorscale": [
             [
              0,
              "#0d0887"
             ],
             [
              0.1111111111111111,
              "#46039f"
             ],
             [
              0.2222222222222222,
              "#7201a8"
             ],
             [
              0.3333333333333333,
              "#9c179e"
             ],
             [
              0.4444444444444444,
              "#bd3786"
             ],
             [
              0.5555555555555556,
              "#d8576b"
             ],
             [
              0.6666666666666666,
              "#ed7953"
             ],
             [
              0.7777777777777778,
              "#fb9f3a"
             ],
             [
              0.8888888888888888,
              "#fdca26"
             ],
             [
              1,
              "#f0f921"
             ]
            ],
            "type": "contour"
           }
          ],
          "contourcarpet": [
           {
            "colorbar": {
             "outlinewidth": 0,
             "ticks": ""
            },
            "type": "contourcarpet"
           }
          ],
          "heatmap": [
           {
            "colorbar": {
             "outlinewidth": 0,
             "ticks": ""
            },
            "colorscale": [
             [
              0,
              "#0d0887"
             ],
             [
              0.1111111111111111,
              "#46039f"
             ],
             [
              0.2222222222222222,
              "#7201a8"
             ],
             [
              0.3333333333333333,
              "#9c179e"
             ],
             [
              0.4444444444444444,
              "#bd3786"
             ],
             [
              0.5555555555555556,
              "#d8576b"
             ],
             [
              0.6666666666666666,
              "#ed7953"
             ],
             [
              0.7777777777777778,
              "#fb9f3a"
             ],
             [
              0.8888888888888888,
              "#fdca26"
             ],
             [
              1,
              "#f0f921"
             ]
            ],
            "type": "heatmap"
           }
          ],
          "heatmapgl": [
           {
            "colorbar": {
             "outlinewidth": 0,
             "ticks": ""
            },
            "colorscale": [
             [
              0,
              "#0d0887"
             ],
             [
              0.1111111111111111,
              "#46039f"
             ],
             [
              0.2222222222222222,
              "#7201a8"
             ],
             [
              0.3333333333333333,
              "#9c179e"
             ],
             [
              0.4444444444444444,
              "#bd3786"
             ],
             [
              0.5555555555555556,
              "#d8576b"
             ],
             [
              0.6666666666666666,
              "#ed7953"
             ],
             [
              0.7777777777777778,
              "#fb9f3a"
             ],
             [
              0.8888888888888888,
              "#fdca26"
             ],
             [
              1,
              "#f0f921"
             ]
            ],
            "type": "heatmapgl"
           }
          ],
          "histogram": [
           {
            "marker": {
             "colorbar": {
              "outlinewidth": 0,
              "ticks": ""
             }
            },
            "type": "histogram"
           }
          ],
          "histogram2d": [
           {
            "colorbar": {
             "outlinewidth": 0,
             "ticks": ""
            },
            "colorscale": [
             [
              0,
              "#0d0887"
             ],
             [
              0.1111111111111111,
              "#46039f"
             ],
             [
              0.2222222222222222,
              "#7201a8"
             ],
             [
              0.3333333333333333,
              "#9c179e"
             ],
             [
              0.4444444444444444,
              "#bd3786"
             ],
             [
              0.5555555555555556,
              "#d8576b"
             ],
             [
              0.6666666666666666,
              "#ed7953"
             ],
             [
              0.7777777777777778,
              "#fb9f3a"
             ],
             [
              0.8888888888888888,
              "#fdca26"
             ],
             [
              1,
              "#f0f921"
             ]
            ],
            "type": "histogram2d"
           }
          ],
          "histogram2dcontour": [
           {
            "colorbar": {
             "outlinewidth": 0,
             "ticks": ""
            },
            "colorscale": [
             [
              0,
              "#0d0887"
             ],
             [
              0.1111111111111111,
              "#46039f"
             ],
             [
              0.2222222222222222,
              "#7201a8"
             ],
             [
              0.3333333333333333,
              "#9c179e"
             ],
             [
              0.4444444444444444,
              "#bd3786"
             ],
             [
              0.5555555555555556,
              "#d8576b"
             ],
             [
              0.6666666666666666,
              "#ed7953"
             ],
             [
              0.7777777777777778,
              "#fb9f3a"
             ],
             [
              0.8888888888888888,
              "#fdca26"
             ],
             [
              1,
              "#f0f921"
             ]
            ],
            "type": "histogram2dcontour"
           }
          ],
          "mesh3d": [
           {
            "colorbar": {
             "outlinewidth": 0,
             "ticks": ""
            },
            "type": "mesh3d"
           }
          ],
          "parcoords": [
           {
            "line": {
             "colorbar": {
              "outlinewidth": 0,
              "ticks": ""
             }
            },
            "type": "parcoords"
           }
          ],
          "pie": [
           {
            "automargin": true,
            "type": "pie"
           }
          ],
          "scatter": [
           {
            "marker": {
             "colorbar": {
              "outlinewidth": 0,
              "ticks": ""
             }
            },
            "type": "scatter"
           }
          ],
          "scatter3d": [
           {
            "line": {
             "colorbar": {
              "outlinewidth": 0,
              "ticks": ""
             }
            },
            "marker": {
             "colorbar": {
              "outlinewidth": 0,
              "ticks": ""
             }
            },
            "type": "scatter3d"
           }
          ],
          "scattercarpet": [
           {
            "marker": {
             "colorbar": {
              "outlinewidth": 0,
              "ticks": ""
             }
            },
            "type": "scattercarpet"
           }
          ],
          "scattergeo": [
           {
            "marker": {
             "colorbar": {
              "outlinewidth": 0,
              "ticks": ""
             }
            },
            "type": "scattergeo"
           }
          ],
          "scattergl": [
           {
            "marker": {
             "colorbar": {
              "outlinewidth": 0,
              "ticks": ""
             }
            },
            "type": "scattergl"
           }
          ],
          "scattermapbox": [
           {
            "marker": {
             "colorbar": {
              "outlinewidth": 0,
              "ticks": ""
             }
            },
            "type": "scattermapbox"
           }
          ],
          "scatterpolar": [
           {
            "marker": {
             "colorbar": {
              "outlinewidth": 0,
              "ticks": ""
             }
            },
            "type": "scatterpolar"
           }
          ],
          "scatterpolargl": [
           {
            "marker": {
             "colorbar": {
              "outlinewidth": 0,
              "ticks": ""
             }
            },
            "type": "scatterpolargl"
           }
          ],
          "scatterternary": [
           {
            "marker": {
             "colorbar": {
              "outlinewidth": 0,
              "ticks": ""
             }
            },
            "type": "scatterternary"
           }
          ],
          "surface": [
           {
            "colorbar": {
             "outlinewidth": 0,
             "ticks": ""
            },
            "colorscale": [
             [
              0,
              "#0d0887"
             ],
             [
              0.1111111111111111,
              "#46039f"
             ],
             [
              0.2222222222222222,
              "#7201a8"
             ],
             [
              0.3333333333333333,
              "#9c179e"
             ],
             [
              0.4444444444444444,
              "#bd3786"
             ],
             [
              0.5555555555555556,
              "#d8576b"
             ],
             [
              0.6666666666666666,
              "#ed7953"
             ],
             [
              0.7777777777777778,
              "#fb9f3a"
             ],
             [
              0.8888888888888888,
              "#fdca26"
             ],
             [
              1,
              "#f0f921"
             ]
            ],
            "type": "surface"
           }
          ],
          "table": [
           {
            "cells": {
             "fill": {
              "color": "#EBF0F8"
             },
             "line": {
              "color": "white"
             }
            },
            "header": {
             "fill": {
              "color": "#C8D4E3"
             },
             "line": {
              "color": "white"
             }
            },
            "type": "table"
           }
          ]
         },
         "layout": {
          "annotationdefaults": {
           "arrowcolor": "#2a3f5f",
           "arrowhead": 0,
           "arrowwidth": 1
          },
          "coloraxis": {
           "colorbar": {
            "outlinewidth": 0,
            "ticks": ""
           }
          },
          "colorscale": {
           "diverging": [
            [
             0,
             "#8e0152"
            ],
            [
             0.1,
             "#c51b7d"
            ],
            [
             0.2,
             "#de77ae"
            ],
            [
             0.3,
             "#f1b6da"
            ],
            [
             0.4,
             "#fde0ef"
            ],
            [
             0.5,
             "#f7f7f7"
            ],
            [
             0.6,
             "#e6f5d0"
            ],
            [
             0.7,
             "#b8e186"
            ],
            [
             0.8,
             "#7fbc41"
            ],
            [
             0.9,
             "#4d9221"
            ],
            [
             1,
             "#276419"
            ]
           ],
           "sequential": [
            [
             0,
             "#0d0887"
            ],
            [
             0.1111111111111111,
             "#46039f"
            ],
            [
             0.2222222222222222,
             "#7201a8"
            ],
            [
             0.3333333333333333,
             "#9c179e"
            ],
            [
             0.4444444444444444,
             "#bd3786"
            ],
            [
             0.5555555555555556,
             "#d8576b"
            ],
            [
             0.6666666666666666,
             "#ed7953"
            ],
            [
             0.7777777777777778,
             "#fb9f3a"
            ],
            [
             0.8888888888888888,
             "#fdca26"
            ],
            [
             1,
             "#f0f921"
            ]
           ],
           "sequentialminus": [
            [
             0,
             "#0d0887"
            ],
            [
             0.1111111111111111,
             "#46039f"
            ],
            [
             0.2222222222222222,
             "#7201a8"
            ],
            [
             0.3333333333333333,
             "#9c179e"
            ],
            [
             0.4444444444444444,
             "#bd3786"
            ],
            [
             0.5555555555555556,
             "#d8576b"
            ],
            [
             0.6666666666666666,
             "#ed7953"
            ],
            [
             0.7777777777777778,
             "#fb9f3a"
            ],
            [
             0.8888888888888888,
             "#fdca26"
            ],
            [
             1,
             "#f0f921"
            ]
           ]
          },
          "colorway": [
           "#636efa",
           "#EF553B",
           "#00cc96",
           "#ab63fa",
           "#FFA15A",
           "#19d3f3",
           "#FF6692",
           "#B6E880",
           "#FF97FF",
           "#FECB52"
          ],
          "font": {
           "color": "#2a3f5f"
          },
          "geo": {
           "bgcolor": "white",
           "lakecolor": "white",
           "landcolor": "#E5ECF6",
           "showlakes": true,
           "showland": true,
           "subunitcolor": "white"
          },
          "hoverlabel": {
           "align": "left"
          },
          "hovermode": "closest",
          "mapbox": {
           "style": "light"
          },
          "paper_bgcolor": "white",
          "plot_bgcolor": "#E5ECF6",
          "polar": {
           "angularaxis": {
            "gridcolor": "white",
            "linecolor": "white",
            "ticks": ""
           },
           "bgcolor": "#E5ECF6",
           "radialaxis": {
            "gridcolor": "white",
            "linecolor": "white",
            "ticks": ""
           }
          },
          "scene": {
           "xaxis": {
            "backgroundcolor": "#E5ECF6",
            "gridcolor": "white",
            "gridwidth": 2,
            "linecolor": "white",
            "showbackground": true,
            "ticks": "",
            "zerolinecolor": "white"
           },
           "yaxis": {
            "backgroundcolor": "#E5ECF6",
            "gridcolor": "white",
            "gridwidth": 2,
            "linecolor": "white",
            "showbackground": true,
            "ticks": "",
            "zerolinecolor": "white"
           },
           "zaxis": {
            "backgroundcolor": "#E5ECF6",
            "gridcolor": "white",
            "gridwidth": 2,
            "linecolor": "white",
            "showbackground": true,
            "ticks": "",
            "zerolinecolor": "white"
           }
          },
          "shapedefaults": {
           "line": {
            "color": "#2a3f5f"
           }
          },
          "ternary": {
           "aaxis": {
            "gridcolor": "white",
            "linecolor": "white",
            "ticks": ""
           },
           "baxis": {
            "gridcolor": "white",
            "linecolor": "white",
            "ticks": ""
           },
           "bgcolor": "#E5ECF6",
           "caxis": {
            "gridcolor": "white",
            "linecolor": "white",
            "ticks": ""
           }
          },
          "title": {
           "x": 0.05
          },
          "xaxis": {
           "automargin": true,
           "gridcolor": "white",
           "linecolor": "white",
           "ticks": "",
           "title": {
            "standoff": 15
           },
           "zerolinecolor": "white",
           "zerolinewidth": 2
          },
          "yaxis": {
           "automargin": true,
           "gridcolor": "white",
           "linecolor": "white",
           "ticks": "",
           "title": {
            "standoff": 15
           },
           "zerolinecolor": "white",
           "zerolinewidth": 2
          }
         }
        },
        "title": {
         "text": "Recovered, Non-US"
        },
        "xaxis": {
         "anchor": "y",
         "domain": [
          0,
          0.94
         ]
        },
        "yaxis": {
         "anchor": "x",
         "domain": [
          0,
          1
         ]
        },
        "yaxis2": {
         "anchor": "x",
         "overlaying": "y",
         "side": "right"
        }
       }
      },
      "text/html": [
       "<div>\n",
       "        \n",
       "        \n",
       "            <div id=\"f1130db3-03d9-4a12-aed8-2553254821bf\" class=\"plotly-graph-div\" style=\"height:525px; width:100%;\"></div>\n",
       "            <script type=\"text/javascript\">\n",
       "                require([\"plotly\"], function(Plotly) {\n",
       "                    window.PLOTLYENV=window.PLOTLYENV || {};\n",
       "                    \n",
       "                if (document.getElementById(\"f1130db3-03d9-4a12-aed8-2553254821bf\")) {\n",
       "                    Plotly.newPlot(\n",
       "                        'f1130db3-03d9-4a12-aed8-2553254821bf',\n",
       "                        [{\"mode\": \"markers\", \"name\": \"# Cases\", \"type\": \"scatter\", \"x\": [\"2020-01-22T00:00:00\", \"2020-01-23T00:00:00\", \"2020-01-24T00:00:00\", \"2020-01-25T00:00:00\", \"2020-01-26T00:00:00\", \"2020-01-27T00:00:00\", \"2020-01-28T00:00:00\", \"2020-01-29T00:00:00\", \"2020-01-30T00:00:00\", \"2020-01-31T00:00:00\", \"2020-02-01T00:00:00\", \"2020-02-02T00:00:00\", \"2020-02-03T00:00:00\", \"2020-02-04T00:00:00\", \"2020-02-05T00:00:00\", \"2020-02-06T00:00:00\", \"2020-02-07T00:00:00\", \"2020-02-08T00:00:00\", \"2020-02-09T00:00:00\", \"2020-02-10T00:00:00\", \"2020-02-11T00:00:00\", \"2020-02-12T00:00:00\", \"2020-02-13T00:00:00\", \"2020-02-14T00:00:00\", \"2020-02-15T00:00:00\", \"2020-02-16T00:00:00\", \"2020-02-17T00:00:00\", \"2020-02-18T00:00:00\", \"2020-02-19T00:00:00\", \"2020-02-20T00:00:00\", \"2020-02-21T00:00:00\", \"2020-02-22T00:00:00\", \"2020-02-23T00:00:00\", \"2020-02-24T00:00:00\", \"2020-02-25T00:00:00\", \"2020-02-26T00:00:00\", \"2020-02-27T00:00:00\", \"2020-02-28T00:00:00\", \"2020-02-29T00:00:00\", \"2020-03-01T00:00:00\", \"2020-03-02T00:00:00\", \"2020-03-03T00:00:00\", \"2020-03-04T00:00:00\", \"2020-03-05T00:00:00\", \"2020-03-06T00:00:00\", \"2020-03-07T00:00:00\"], \"xaxis\": \"x\", \"y\": [28, 30, 36, 39, 52, 61, 107, 126, 143, 222, 284, 472, 623, 852, 1124, 1487, 2011, 2616, 3241, 3943, 4680, 5147, 6292, 8055, 9392, 10862, 12580, 14349, 16118, 18174, 18885, 22881, 23389, 25222, 27899, 30378, 33271, 36704, 39775, 42709, 45595, 48221, 51163, 53789, 55858, 58351], \"yaxis\": \"y\"}, {\"mode\": \"markers\", \"name\": \"DJIA Close\", \"type\": \"scatter\", \"x\": [\"2020-01-22T00:00:00\", \"2020-01-23T00:00:00\", \"2020-01-24T00:00:00\", \"2020-01-25T00:00:00\", \"2020-01-26T00:00:00\", \"2020-01-27T00:00:00\", \"2020-01-28T00:00:00\", \"2020-01-29T00:00:00\", \"2020-01-30T00:00:00\", \"2020-01-31T00:00:00\", \"2020-02-01T00:00:00\", \"2020-02-02T00:00:00\", \"2020-02-03T00:00:00\", \"2020-02-04T00:00:00\", \"2020-02-05T00:00:00\", \"2020-02-06T00:00:00\", \"2020-02-07T00:00:00\", \"2020-02-08T00:00:00\", \"2020-02-09T00:00:00\", \"2020-02-10T00:00:00\", \"2020-02-11T00:00:00\", \"2020-02-12T00:00:00\", \"2020-02-13T00:00:00\", \"2020-02-14T00:00:00\", \"2020-02-15T00:00:00\", \"2020-02-16T00:00:00\", \"2020-02-17T00:00:00\", \"2020-02-18T00:00:00\", \"2020-02-19T00:00:00\", \"2020-02-20T00:00:00\", \"2020-02-21T00:00:00\", \"2020-02-22T00:00:00\", \"2020-02-23T00:00:00\", \"2020-02-24T00:00:00\", \"2020-02-25T00:00:00\", \"2020-02-26T00:00:00\", \"2020-02-27T00:00:00\", \"2020-02-28T00:00:00\", \"2020-02-29T00:00:00\", \"2020-03-01T00:00:00\", \"2020-03-02T00:00:00\", \"2020-03-03T00:00:00\", \"2020-03-04T00:00:00\", \"2020-03-05T00:00:00\", \"2020-03-06T00:00:00\", \"2020-03-07T00:00:00\"], \"xaxis\": \"x\", \"y\": [29186.269531, 29160.089844, 28989.730469, null, null, 28535.800781, 28722.849608999997, 28734.449219, 28859.439452999995, 28256.029297000005, null, null, 28399.810547000005, 28807.630858999997, 29290.849608999997, 29379.769531, 29102.509766000003, null, null, 29276.820313, 29276.339844, 29551.419922000005, 29423.310547000005, 29398.080077999995, null, null, null, 29232.189452999995, 29348.029297000005, 29219.980469, 28992.410156, null, null, 27960.800781, 27081.359375, 26957.589844, 25766.640625, 25409.359375, null, null, 26703.320313, 25917.410156, 27090.859375, 26121.279297, 25864.779297, null], \"yaxis\": \"y2\"}, {\"mode\": \"markers\", \"name\": \"DJIA Open\", \"type\": \"scatter\", \"x\": [\"2020-01-22T00:00:00\", \"2020-01-23T00:00:00\", \"2020-01-24T00:00:00\", \"2020-01-25T00:00:00\", \"2020-01-26T00:00:00\", \"2020-01-27T00:00:00\", \"2020-01-28T00:00:00\", \"2020-01-29T00:00:00\", \"2020-01-30T00:00:00\", \"2020-01-31T00:00:00\", \"2020-02-01T00:00:00\", \"2020-02-02T00:00:00\", \"2020-02-03T00:00:00\", \"2020-02-04T00:00:00\", \"2020-02-05T00:00:00\", \"2020-02-06T00:00:00\", \"2020-02-07T00:00:00\", \"2020-02-08T00:00:00\", \"2020-02-09T00:00:00\", \"2020-02-10T00:00:00\", \"2020-02-11T00:00:00\", \"2020-02-12T00:00:00\", \"2020-02-13T00:00:00\", \"2020-02-14T00:00:00\", \"2020-02-15T00:00:00\", \"2020-02-16T00:00:00\", \"2020-02-17T00:00:00\", \"2020-02-18T00:00:00\", \"2020-02-19T00:00:00\", \"2020-02-20T00:00:00\", \"2020-02-21T00:00:00\", \"2020-02-22T00:00:00\", \"2020-02-23T00:00:00\", \"2020-02-24T00:00:00\", \"2020-02-25T00:00:00\", \"2020-02-26T00:00:00\", \"2020-02-27T00:00:00\", \"2020-02-28T00:00:00\", \"2020-02-29T00:00:00\", \"2020-03-01T00:00:00\", \"2020-03-02T00:00:00\", \"2020-03-03T00:00:00\", \"2020-03-04T00:00:00\", \"2020-03-05T00:00:00\", \"2020-03-06T00:00:00\", \"2020-03-07T00:00:00\"], \"xaxis\": \"x\", \"y\": [29263.630858999997, 29111.019531, 29230.390625, null, null, 28542.490233999997, 28594.279297000005, 28820.529297000005, 28640.160156, 28813.039063, null, null, 28319.650391000003, 28696.740233999997, 29048.730469, 29388.580077999995, 29286.919922000005, null, null, 28995.660156, 29390.710938, 29406.75, 29436.029297000005, 29440.470702999995, null, null, null, 29282.779297000005, 29312.699219, 29296.25, 29146.529297000005, null, null, 28402.929688, 28037.650391000003, 27159.460938, 26526.0, 25270.830078, null, null, 25590.509766, 26762.470703, 26383.679688, 26671.919922, 25457.210938, null], \"yaxis\": \"y2\"}],\n",
       "                        {\"template\": {\"data\": {\"bar\": [{\"error_x\": {\"color\": \"#2a3f5f\"}, \"error_y\": {\"color\": \"#2a3f5f\"}, \"marker\": {\"line\": {\"color\": \"#E5ECF6\", \"width\": 0.5}}, \"type\": \"bar\"}], \"barpolar\": [{\"marker\": {\"line\": {\"color\": \"#E5ECF6\", \"width\": 0.5}}, \"type\": \"barpolar\"}], \"carpet\": [{\"aaxis\": {\"endlinecolor\": \"#2a3f5f\", \"gridcolor\": \"white\", \"linecolor\": \"white\", \"minorgridcolor\": \"white\", \"startlinecolor\": \"#2a3f5f\"}, \"baxis\": {\"endlinecolor\": \"#2a3f5f\", \"gridcolor\": \"white\", \"linecolor\": \"white\", \"minorgridcolor\": \"white\", \"startlinecolor\": \"#2a3f5f\"}, \"type\": \"carpet\"}], \"choropleth\": [{\"colorbar\": {\"outlinewidth\": 0, \"ticks\": \"\"}, \"type\": \"choropleth\"}], \"contour\": [{\"colorbar\": {\"outlinewidth\": 0, \"ticks\": \"\"}, \"colorscale\": [[0.0, \"#0d0887\"], [0.1111111111111111, \"#46039f\"], [0.2222222222222222, \"#7201a8\"], [0.3333333333333333, \"#9c179e\"], [0.4444444444444444, \"#bd3786\"], [0.5555555555555556, \"#d8576b\"], [0.6666666666666666, \"#ed7953\"], [0.7777777777777778, \"#fb9f3a\"], [0.8888888888888888, \"#fdca26\"], [1.0, \"#f0f921\"]], \"type\": \"contour\"}], \"contourcarpet\": [{\"colorbar\": {\"outlinewidth\": 0, \"ticks\": \"\"}, \"type\": \"contourcarpet\"}], \"heatmap\": [{\"colorbar\": {\"outlinewidth\": 0, \"ticks\": \"\"}, \"colorscale\": [[0.0, \"#0d0887\"], [0.1111111111111111, \"#46039f\"], [0.2222222222222222, \"#7201a8\"], [0.3333333333333333, \"#9c179e\"], [0.4444444444444444, \"#bd3786\"], [0.5555555555555556, \"#d8576b\"], [0.6666666666666666, \"#ed7953\"], [0.7777777777777778, \"#fb9f3a\"], [0.8888888888888888, \"#fdca26\"], [1.0, \"#f0f921\"]], \"type\": \"heatmap\"}], \"heatmapgl\": [{\"colorbar\": {\"outlinewidth\": 0, \"ticks\": \"\"}, \"colorscale\": [[0.0, \"#0d0887\"], [0.1111111111111111, \"#46039f\"], [0.2222222222222222, \"#7201a8\"], [0.3333333333333333, \"#9c179e\"], [0.4444444444444444, \"#bd3786\"], [0.5555555555555556, \"#d8576b\"], [0.6666666666666666, \"#ed7953\"], [0.7777777777777778, \"#fb9f3a\"], [0.8888888888888888, \"#fdca26\"], [1.0, \"#f0f921\"]], \"type\": \"heatmapgl\"}], \"histogram\": [{\"marker\": {\"colorbar\": {\"outlinewidth\": 0, \"ticks\": \"\"}}, \"type\": \"histogram\"}], \"histogram2d\": [{\"colorbar\": {\"outlinewidth\": 0, \"ticks\": \"\"}, \"colorscale\": [[0.0, \"#0d0887\"], [0.1111111111111111, \"#46039f\"], [0.2222222222222222, \"#7201a8\"], [0.3333333333333333, \"#9c179e\"], [0.4444444444444444, \"#bd3786\"], [0.5555555555555556, \"#d8576b\"], [0.6666666666666666, \"#ed7953\"], [0.7777777777777778, \"#fb9f3a\"], [0.8888888888888888, \"#fdca26\"], [1.0, \"#f0f921\"]], \"type\": \"histogram2d\"}], \"histogram2dcontour\": [{\"colorbar\": {\"outlinewidth\": 0, \"ticks\": \"\"}, \"colorscale\": [[0.0, \"#0d0887\"], [0.1111111111111111, \"#46039f\"], [0.2222222222222222, \"#7201a8\"], [0.3333333333333333, \"#9c179e\"], [0.4444444444444444, \"#bd3786\"], [0.5555555555555556, \"#d8576b\"], [0.6666666666666666, \"#ed7953\"], [0.7777777777777778, \"#fb9f3a\"], [0.8888888888888888, \"#fdca26\"], [1.0, \"#f0f921\"]], \"type\": \"histogram2dcontour\"}], \"mesh3d\": [{\"colorbar\": {\"outlinewidth\": 0, \"ticks\": \"\"}, \"type\": \"mesh3d\"}], \"parcoords\": [{\"line\": {\"colorbar\": {\"outlinewidth\": 0, \"ticks\": \"\"}}, \"type\": \"parcoords\"}], \"pie\": [{\"automargin\": true, \"type\": \"pie\"}], \"scatter\": [{\"marker\": {\"colorbar\": {\"outlinewidth\": 0, \"ticks\": \"\"}}, \"type\": \"scatter\"}], \"scatter3d\": [{\"line\": {\"colorbar\": {\"outlinewidth\": 0, \"ticks\": \"\"}}, \"marker\": {\"colorbar\": {\"outlinewidth\": 0, \"ticks\": \"\"}}, \"type\": \"scatter3d\"}], \"scattercarpet\": [{\"marker\": {\"colorbar\": {\"outlinewidth\": 0, \"ticks\": \"\"}}, \"type\": \"scattercarpet\"}], \"scattergeo\": [{\"marker\": {\"colorbar\": {\"outlinewidth\": 0, \"ticks\": \"\"}}, \"type\": \"scattergeo\"}], \"scattergl\": [{\"marker\": {\"colorbar\": {\"outlinewidth\": 0, \"ticks\": \"\"}}, \"type\": \"scattergl\"}], \"scattermapbox\": [{\"marker\": {\"colorbar\": {\"outlinewidth\": 0, \"ticks\": \"\"}}, \"type\": \"scattermapbox\"}], \"scatterpolar\": [{\"marker\": {\"colorbar\": {\"outlinewidth\": 0, \"ticks\": \"\"}}, \"type\": \"scatterpolar\"}], \"scatterpolargl\": [{\"marker\": {\"colorbar\": {\"outlinewidth\": 0, \"ticks\": \"\"}}, \"type\": \"scatterpolargl\"}], \"scatterternary\": [{\"marker\": {\"colorbar\": {\"outlinewidth\": 0, \"ticks\": \"\"}}, \"type\": \"scatterternary\"}], \"surface\": [{\"colorbar\": {\"outlinewidth\": 0, \"ticks\": \"\"}, \"colorscale\": [[0.0, \"#0d0887\"], [0.1111111111111111, \"#46039f\"], [0.2222222222222222, \"#7201a8\"], [0.3333333333333333, \"#9c179e\"], [0.4444444444444444, \"#bd3786\"], [0.5555555555555556, \"#d8576b\"], [0.6666666666666666, \"#ed7953\"], [0.7777777777777778, \"#fb9f3a\"], [0.8888888888888888, \"#fdca26\"], [1.0, \"#f0f921\"]], \"type\": \"surface\"}], \"table\": [{\"cells\": {\"fill\": {\"color\": \"#EBF0F8\"}, \"line\": {\"color\": \"white\"}}, \"header\": {\"fill\": {\"color\": \"#C8D4E3\"}, \"line\": {\"color\": \"white\"}}, \"type\": \"table\"}]}, \"layout\": {\"annotationdefaults\": {\"arrowcolor\": \"#2a3f5f\", \"arrowhead\": 0, \"arrowwidth\": 1}, \"coloraxis\": {\"colorbar\": {\"outlinewidth\": 0, \"ticks\": \"\"}}, \"colorscale\": {\"diverging\": [[0, \"#8e0152\"], [0.1, \"#c51b7d\"], [0.2, \"#de77ae\"], [0.3, \"#f1b6da\"], [0.4, \"#fde0ef\"], [0.5, \"#f7f7f7\"], [0.6, \"#e6f5d0\"], [0.7, \"#b8e186\"], [0.8, \"#7fbc41\"], [0.9, \"#4d9221\"], [1, \"#276419\"]], \"sequential\": [[0.0, \"#0d0887\"], [0.1111111111111111, \"#46039f\"], [0.2222222222222222, \"#7201a8\"], [0.3333333333333333, \"#9c179e\"], [0.4444444444444444, \"#bd3786\"], [0.5555555555555556, \"#d8576b\"], [0.6666666666666666, \"#ed7953\"], [0.7777777777777778, \"#fb9f3a\"], [0.8888888888888888, \"#fdca26\"], [1.0, \"#f0f921\"]], \"sequentialminus\": [[0.0, \"#0d0887\"], [0.1111111111111111, \"#46039f\"], [0.2222222222222222, \"#7201a8\"], [0.3333333333333333, \"#9c179e\"], [0.4444444444444444, \"#bd3786\"], [0.5555555555555556, \"#d8576b\"], [0.6666666666666666, \"#ed7953\"], [0.7777777777777778, \"#fb9f3a\"], [0.8888888888888888, \"#fdca26\"], [1.0, \"#f0f921\"]]}, \"colorway\": [\"#636efa\", \"#EF553B\", \"#00cc96\", \"#ab63fa\", \"#FFA15A\", \"#19d3f3\", \"#FF6692\", \"#B6E880\", \"#FF97FF\", \"#FECB52\"], \"font\": {\"color\": \"#2a3f5f\"}, \"geo\": {\"bgcolor\": \"white\", \"lakecolor\": \"white\", \"landcolor\": \"#E5ECF6\", \"showlakes\": true, \"showland\": true, \"subunitcolor\": \"white\"}, \"hoverlabel\": {\"align\": \"left\"}, \"hovermode\": \"closest\", \"mapbox\": {\"style\": \"light\"}, \"paper_bgcolor\": \"white\", \"plot_bgcolor\": \"#E5ECF6\", \"polar\": {\"angularaxis\": {\"gridcolor\": \"white\", \"linecolor\": \"white\", \"ticks\": \"\"}, \"bgcolor\": \"#E5ECF6\", \"radialaxis\": {\"gridcolor\": \"white\", \"linecolor\": \"white\", \"ticks\": \"\"}}, \"scene\": {\"xaxis\": {\"backgroundcolor\": \"#E5ECF6\", \"gridcolor\": \"white\", \"gridwidth\": 2, \"linecolor\": \"white\", \"showbackground\": true, \"ticks\": \"\", \"zerolinecolor\": \"white\"}, \"yaxis\": {\"backgroundcolor\": \"#E5ECF6\", \"gridcolor\": \"white\", \"gridwidth\": 2, \"linecolor\": \"white\", \"showbackground\": true, \"ticks\": \"\", \"zerolinecolor\": \"white\"}, \"zaxis\": {\"backgroundcolor\": \"#E5ECF6\", \"gridcolor\": \"white\", \"gridwidth\": 2, \"linecolor\": \"white\", \"showbackground\": true, \"ticks\": \"\", \"zerolinecolor\": \"white\"}}, \"shapedefaults\": {\"line\": {\"color\": \"#2a3f5f\"}}, \"ternary\": {\"aaxis\": {\"gridcolor\": \"white\", \"linecolor\": \"white\", \"ticks\": \"\"}, \"baxis\": {\"gridcolor\": \"white\", \"linecolor\": \"white\", \"ticks\": \"\"}, \"bgcolor\": \"#E5ECF6\", \"caxis\": {\"gridcolor\": \"white\", \"linecolor\": \"white\", \"ticks\": \"\"}}, \"title\": {\"x\": 0.05}, \"xaxis\": {\"automargin\": true, \"gridcolor\": \"white\", \"linecolor\": \"white\", \"ticks\": \"\", \"title\": {\"standoff\": 15}, \"zerolinecolor\": \"white\", \"zerolinewidth\": 2}, \"yaxis\": {\"automargin\": true, \"gridcolor\": \"white\", \"linecolor\": \"white\", \"ticks\": \"\", \"title\": {\"standoff\": 15}, \"zerolinecolor\": \"white\", \"zerolinewidth\": 2}}}, \"title\": {\"text\": \"Recovered, Non-US\"}, \"xaxis\": {\"anchor\": \"y\", \"domain\": [0.0, 0.94]}, \"yaxis\": {\"anchor\": \"x\", \"domain\": [0.0, 1.0]}, \"yaxis2\": {\"anchor\": \"x\", \"overlaying\": \"y\", \"side\": \"right\"}},\n",
       "                        {\"responsive\": true}\n",
       "                    ).then(function(){\n",
       "                            \n",
       "var gd = document.getElementById('f1130db3-03d9-4a12-aed8-2553254821bf');\n",
       "var x = new MutationObserver(function (mutations, observer) {{\n",
       "        var display = window.getComputedStyle(gd).display;\n",
       "        if (!display || display === 'none') {{\n",
       "            console.log([gd, 'removed!']);\n",
       "            Plotly.purge(gd);\n",
       "            observer.disconnect();\n",
       "        }}\n",
       "}});\n",
       "\n",
       "// Listen for the removal of the full notebook cells\n",
       "var notebookContainer = gd.closest('#notebook-container');\n",
       "if (notebookContainer) {{\n",
       "    x.observe(notebookContainer, {childList: true});\n",
       "}}\n",
       "\n",
       "// Listen for the clearing of the current output cell\n",
       "var outputEl = gd.closest('.output');\n",
       "if (outputEl) {{\n",
       "    x.observe(outputEl, {childList: true});\n",
       "}}\n",
       "\n",
       "                        })\n",
       "                };\n",
       "                });\n",
       "            </script>\n",
       "        </div>"
      ]
     },
     "metadata": {},
     "output_type": "display_data"
    }
   ],
   "source": [
    "loc = 'Non-US'\n",
    "case_type = 'Recovered'\n",
    "\n",
    "plot_df = tidy_df[(tidy_df['US']==loc)&(tidy_df['Type']==case_type)]\n",
    "\n",
    "\n",
    "fig = make_subplots(specs=[[{\"secondary_y\": True}]])\n",
    "fig.add_trace(\n",
    "    go.Scatter(x=plot_df['Date'], y=plot_df['Count'], mode='markers', name='# Cases'),\n",
    "    secondary_y=False,\n",
    ")\n",
    "fig.add_trace(\n",
    "    go.Scatter(x=plot_df['Date'], y=plot_df['Close'], mode='markers', name='DJIA Close'),\n",
    "    secondary_y=True,\n",
    ")\n",
    "fig.add_trace(\n",
    "    go.Scatter(x=plot_df['Date'], y=plot_df['Open'], mode='markers', name='DJIA Open'),\n",
    "    secondary_y=True,\n",
    ")\n",
    "\n",
    "fig.update_layout(\n",
    "    title=\"{}, {}\".format(case_type, loc)\n",
    ")"
   ]
  },
  {
   "cell_type": "code",
   "execution_count": null,
   "metadata": {},
   "outputs": [],
   "source": []
  },
  {
   "cell_type": "code",
   "execution_count": null,
   "metadata": {},
   "outputs": [],
   "source": []
  },
  {
   "cell_type": "code",
   "execution_count": null,
   "metadata": {},
   "outputs": [],
   "source": []
  },
  {
   "cell_type": "code",
   "execution_count": null,
   "metadata": {},
   "outputs": [],
   "source": []
  },
  {
   "cell_type": "markdown",
   "metadata": {},
   "source": [
    "## Sentiment Analysis"
   ]
  },
  {
   "cell_type": "code",
   "execution_count": 46,
   "metadata": {},
   "outputs": [
    {
     "ename": "AssertionError",
     "evalue": "",
     "output_type": "error",
     "traceback": [
      "\u001b[1;31m---------------------------------------------------------------------------\u001b[0m",
      "\u001b[1;31mAssertionError\u001b[0m                            Traceback (most recent call last)",
      "\u001b[1;32m<ipython-input-46-a871fdc9ebee>\u001b[0m in \u001b[0;36m<module>\u001b[1;34m\u001b[0m\n\u001b[1;32m----> 1\u001b[1;33m \u001b[1;32massert\u001b[0m \u001b[1;32mFalse\u001b[0m\u001b[1;33m\u001b[0m\u001b[1;33m\u001b[0m\u001b[0m\n\u001b[0m",
      "\u001b[1;31mAssertionError\u001b[0m: "
     ]
    }
   ],
   "source": [
    "assert False"
   ]
  },
  {
   "cell_type": "code",
   "execution_count": null,
   "metadata": {},
   "outputs": [],
   "source": [
    "from textblob import TextBlob\n",
    "import sqlite3\n",
    "import scipy.stats as stats"
   ]
  },
  {
   "cell_type": "code",
   "execution_count": 47,
   "metadata": {},
   "outputs": [],
   "source": [
    "with sqlite3.connect('data/newspaper.db') as conn:\n",
    "    articles = pd.read_sql(\"\"\"\n",
    "                            SELECT * FROM articles\n",
    "                            WHERE date NOT NULL\n",
    "                            AND text NOT NULL\n",
    "                            \"\"\", conn)"
   ]
  },
  {
   "cell_type": "code",
   "execution_count": 23,
   "metadata": {},
   "outputs": [],
   "source": [
    "articles['date'] = articles['date'].apply(lambda x: datetime.strptime(x, '%Y-%m-%d'))"
   ]
  },
  {
   "cell_type": "code",
   "execution_count": 24,
   "metadata": {},
   "outputs": [],
   "source": [
    "articles = articles[~articles['text'].isna()]"
   ]
  },
  {
   "cell_type": "code",
   "execution_count": 26,
   "metadata": {},
   "outputs": [
    {
     "data": {
      "application/vnd.plotly.v1+json": {
       "config": {
        "plotlyServerURL": "https://plot.ly"
       },
       "data": [
        {
         "hoverlabel": {
          "namelength": 0
         },
         "hovertemplate": "date=%{x}<br>site=%{y}",
         "legendgroup": "",
         "marker": {
          "color": "#636efa",
          "symbol": "circle"
         },
         "mode": "markers",
         "name": "",
         "showlegend": false,
         "type": "scattergl",
         "x": [
          "2020-03-04T00:00:00",
          "2020-03-04T00:00:00",
          "2020-03-04T00:00:00",
          "2020-03-04T00:00:00",
          "2020-03-04T00:00:00",
          "2020-03-04T00:00:00",
          "2020-03-04T00:00:00",
          "2020-03-04T00:00:00",
          "2020-03-03T00:00:00",
          "2020-03-04T00:00:00",
          "2020-03-04T00:00:00",
          "2020-03-04T00:00:00",
          "2020-03-04T00:00:00",
          "2020-03-03T00:00:00",
          "2020-03-04T00:00:00",
          "2020-03-04T00:00:00",
          "2020-03-04T00:00:00",
          "2020-03-04T00:00:00",
          "2020-03-04T00:00:00",
          "2020-03-04T00:00:00",
          "2020-03-04T00:00:00",
          "2020-03-04T00:00:00",
          "2020-03-04T00:00:00",
          "2020-03-04T00:00:00",
          "2020-03-04T00:00:00",
          "2020-03-04T00:00:00",
          "2020-03-04T00:00:00",
          "2020-03-04T00:00:00",
          "2020-03-04T00:00:00",
          "2020-03-04T00:00:00",
          "2020-03-04T00:00:00",
          "2020-03-04T00:00:00",
          "2020-03-04T00:00:00",
          "2020-03-04T00:00:00",
          "2020-03-04T00:00:00",
          "2020-03-02T00:00:00",
          "2020-03-03T00:00:00",
          "2020-03-04T00:00:00",
          "2020-03-04T00:00:00",
          "2020-03-03T00:00:00",
          "2020-03-04T00:00:00",
          "2020-03-04T00:00:00",
          "2020-03-04T00:00:00",
          "2020-03-04T00:00:00",
          "2020-01-29T00:00:00",
          "2020-03-04T00:00:00",
          "2020-03-04T00:00:00",
          "2020-03-03T00:00:00",
          "2020-03-04T00:00:00",
          "2020-03-04T00:00:00",
          "2020-03-03T00:00:00",
          "2020-03-03T00:00:00",
          "2020-03-03T00:00:00",
          "2020-03-03T00:00:00",
          "2020-03-03T00:00:00",
          "2020-03-03T00:00:00",
          "2020-03-03T00:00:00",
          "2020-03-03T00:00:00",
          "2020-03-03T00:00:00",
          "2020-03-03T00:00:00",
          "2020-03-02T00:00:00",
          "2020-03-03T00:00:00",
          "2020-03-03T00:00:00",
          "2020-03-03T00:00:00",
          "2020-03-03T00:00:00",
          "2020-03-03T00:00:00",
          "2020-03-03T00:00:00",
          "2020-03-03T00:00:00",
          "2020-03-03T00:00:00",
          "2020-03-03T00:00:00",
          "2020-03-03T00:00:00",
          "2020-03-03T00:00:00",
          "2020-03-03T00:00:00",
          "2020-03-03T00:00:00",
          "2020-03-03T00:00:00",
          "2020-03-03T00:00:00",
          "2020-03-03T00:00:00",
          "2020-03-03T00:00:00",
          "2020-03-03T00:00:00",
          "2020-03-03T00:00:00",
          "2020-03-03T00:00:00",
          "2020-03-03T00:00:00",
          "2020-03-01T00:00:00",
          "2020-03-03T00:00:00",
          "2020-03-03T00:00:00",
          "2020-03-03T00:00:00",
          "2020-03-03T00:00:00",
          "2020-03-03T00:00:00",
          "2020-03-03T00:00:00",
          "2020-03-03T00:00:00",
          "2020-03-03T00:00:00",
          "2020-03-03T00:00:00",
          "2020-03-03T00:00:00",
          "2020-03-03T00:00:00",
          "2020-03-03T00:00:00",
          "2020-03-02T00:00:00",
          "2020-03-02T00:00:00",
          "2020-03-02T00:00:00",
          "2020-03-02T00:00:00",
          "2020-03-03T00:00:00",
          "2020-03-02T00:00:00",
          "2020-03-02T00:00:00",
          "2020-03-02T00:00:00",
          "2020-03-02T00:00:00",
          "2020-03-02T00:00:00",
          "2020-03-02T00:00:00",
          "2020-03-02T00:00:00",
          "2020-03-02T00:00:00",
          "2020-03-02T00:00:00",
          "2020-03-02T00:00:00",
          "2020-02-16T00:00:00",
          "2020-03-02T00:00:00",
          "2020-03-02T00:00:00",
          "2020-03-02T00:00:00",
          "2020-03-02T00:00:00",
          "2020-03-02T00:00:00",
          "2020-03-02T00:00:00",
          "2020-03-02T00:00:00",
          "2020-03-02T00:00:00",
          "2020-03-02T00:00:00",
          "2020-03-02T00:00:00",
          "2020-03-02T00:00:00",
          "2020-02-29T00:00:00",
          "2020-03-02T00:00:00",
          "2020-03-02T00:00:00",
          "2020-03-02T00:00:00",
          "2020-03-02T00:00:00",
          "2020-03-02T00:00:00",
          "2020-03-02T00:00:00",
          "2020-03-02T00:00:00",
          "2020-03-02T00:00:00",
          "2020-03-02T00:00:00",
          "2020-03-02T00:00:00",
          "2020-03-02T00:00:00",
          "2020-03-02T00:00:00",
          "2020-02-29T00:00:00",
          "2020-02-28T00:00:00",
          "2020-02-06T00:00:00",
          "2020-03-02T00:00:00",
          "2020-03-01T00:00:00",
          "2020-03-02T00:00:00",
          "2020-03-02T00:00:00",
          "2020-02-29T00:00:00",
          "2020-03-02T00:00:00",
          "2020-02-26T00:00:00",
          "2020-03-01T00:00:00",
          "2020-03-02T00:00:00",
          "2020-03-02T00:00:00",
          "2020-03-02T00:00:00",
          "2020-03-01T00:00:00",
          "2020-03-02T00:00:00",
          "2020-03-02T00:00:00",
          "2020-03-02T00:00:00",
          "2020-03-02T00:00:00",
          "2020-03-01T00:00:00",
          "2020-03-01T00:00:00",
          "2020-03-01T00:00:00",
          "2020-03-01T00:00:00",
          "2020-03-01T00:00:00",
          "2020-03-01T00:00:00",
          "2020-03-01T00:00:00",
          "2020-03-01T00:00:00",
          "2020-03-01T00:00:00",
          "2020-03-01T00:00:00",
          "2020-03-01T00:00:00",
          "2020-03-01T00:00:00",
          "2020-03-01T00:00:00",
          "2020-03-01T00:00:00",
          "2020-03-01T00:00:00",
          "2020-03-01T00:00:00",
          "2020-03-01T00:00:00",
          "2020-03-01T00:00:00",
          "2020-03-01T00:00:00",
          "2020-02-29T00:00:00",
          "2020-03-01T00:00:00",
          "2020-03-01T00:00:00",
          "2020-03-01T00:00:00",
          "2020-02-29T00:00:00",
          "2020-02-29T00:00:00",
          "2020-02-29T00:00:00",
          "2020-02-29T00:00:00",
          "2020-02-29T00:00:00",
          "2020-02-29T00:00:00",
          "2020-02-29T00:00:00",
          "2020-02-29T00:00:00",
          "2020-02-26T00:00:00",
          "2020-02-29T00:00:00",
          "2020-02-28T00:00:00",
          "2020-02-29T00:00:00",
          "2020-02-29T00:00:00",
          "2020-02-29T00:00:00",
          "2020-02-29T00:00:00",
          "2020-02-29T00:00:00",
          "2020-02-29T00:00:00",
          "2020-02-29T00:00:00",
          "2020-02-28T00:00:00",
          "2020-02-28T00:00:00",
          "2020-02-28T00:00:00",
          "2020-02-28T00:00:00",
          "2020-02-26T00:00:00",
          "2020-02-27T00:00:00",
          "2020-02-28T00:00:00",
          "2020-02-28T00:00:00",
          "2020-02-28T00:00:00",
          "2020-02-28T00:00:00",
          "2016-07-14T00:00:00",
          "2020-02-28T00:00:00",
          "2020-02-28T00:00:00",
          "2020-02-28T00:00:00",
          "2020-02-28T00:00:00",
          "2020-02-28T00:00:00",
          "2020-02-28T00:00:00",
          "2020-02-28T00:00:00",
          "2020-02-28T00:00:00",
          "2020-02-28T00:00:00",
          "2020-02-28T00:00:00",
          "2020-02-28T00:00:00",
          "2020-02-26T00:00:00",
          "2020-02-28T00:00:00",
          "2020-02-28T00:00:00",
          "2020-02-27T00:00:00",
          "2020-02-28T00:00:00",
          "2020-02-28T00:00:00",
          "2020-02-28T00:00:00",
          "2020-02-28T00:00:00",
          "2020-02-28T00:00:00",
          "2020-02-28T00:00:00",
          "2020-02-28T00:00:00",
          "2020-02-27T00:00:00",
          "2020-02-28T00:00:00",
          "2020-02-28T00:00:00",
          "2020-02-27T00:00:00",
          "2020-02-28T00:00:00",
          "2020-02-28T00:00:00",
          "2020-02-28T00:00:00",
          "2020-02-27T00:00:00",
          "2020-02-28T00:00:00",
          "2020-02-27T00:00:00",
          "2020-02-28T00:00:00",
          "2020-02-27T00:00:00",
          "2020-02-26T00:00:00",
          "2020-02-28T00:00:00",
          "2020-02-28T00:00:00",
          "2020-02-27T00:00:00",
          "2020-02-25T00:00:00",
          "2020-02-28T00:00:00",
          "2020-02-28T00:00:00",
          "2020-02-27T00:00:00",
          "2020-02-27T00:00:00",
          "2020-02-27T00:00:00",
          "2020-02-27T00:00:00",
          "2020-02-27T00:00:00",
          "2020-02-27T00:00:00",
          "2020-02-27T00:00:00",
          "2020-02-26T00:00:00",
          "2020-02-27T00:00:00",
          "2020-02-27T00:00:00",
          "2020-02-27T00:00:00",
          "2020-02-27T00:00:00",
          "2020-02-27T00:00:00",
          "2020-02-27T00:00:00",
          "2020-02-27T00:00:00",
          "2020-02-27T00:00:00",
          "2020-02-11T00:00:00",
          "2020-02-27T00:00:00",
          "2020-02-27T00:00:00",
          "2020-02-27T00:00:00",
          "2020-02-27T00:00:00",
          "2020-02-27T00:00:00",
          "2020-02-27T00:00:00",
          "2020-02-27T00:00:00",
          "2020-02-27T00:00:00",
          "2020-02-27T00:00:00",
          "2020-02-27T00:00:00",
          "2020-02-27T00:00:00",
          "2020-02-27T00:00:00",
          "2020-02-27T00:00:00",
          "2020-02-27T00:00:00",
          "2020-02-27T00:00:00",
          "2020-02-26T00:00:00",
          "2020-02-26T00:00:00",
          "2020-02-27T00:00:00",
          "2020-02-27T00:00:00",
          "2020-02-26T00:00:00",
          "2020-02-27T00:00:00",
          "2020-02-26T00:00:00",
          "2020-02-26T00:00:00",
          "2020-02-27T00:00:00",
          "2020-02-27T00:00:00",
          "2020-02-27T00:00:00",
          "2020-02-26T00:00:00",
          "2020-02-26T00:00:00",
          "2020-02-27T00:00:00",
          "2020-02-26T00:00:00",
          "2020-02-26T00:00:00",
          "2020-02-26T00:00:00",
          "2020-02-26T00:00:00",
          "2020-02-26T00:00:00",
          "2020-02-26T00:00:00",
          "2020-02-26T00:00:00",
          "2020-02-26T00:00:00",
          "2020-02-26T00:00:00",
          "2020-02-26T00:00:00",
          "2020-02-26T00:00:00",
          "2020-02-26T00:00:00",
          "2020-02-26T00:00:00",
          "2020-02-26T00:00:00",
          "2020-02-26T00:00:00",
          "2020-02-26T00:00:00",
          "2020-02-26T00:00:00",
          "2020-02-26T00:00:00",
          "2020-02-26T00:00:00",
          "2020-02-25T00:00:00",
          "2020-02-25T00:00:00",
          "2020-02-26T00:00:00",
          "2020-02-25T00:00:00",
          "2020-02-26T00:00:00",
          "2020-02-25T00:00:00",
          "2020-02-26T00:00:00",
          "2020-02-26T00:00:00",
          "2020-02-25T00:00:00",
          "2020-02-26T00:00:00",
          "2020-02-26T00:00:00",
          "2020-02-26T00:00:00",
          "2020-02-25T00:00:00",
          "2020-02-26T00:00:00",
          "2020-02-25T00:00:00",
          "2020-02-26T00:00:00",
          "2020-02-25T00:00:00",
          "2020-02-25T00:00:00",
          "2020-02-25T00:00:00",
          "2020-02-26T00:00:00",
          "2020-02-25T00:00:00",
          "2020-02-25T00:00:00",
          "2020-02-25T00:00:00",
          "2020-02-25T00:00:00",
          "2020-02-25T00:00:00",
          "2020-02-25T00:00:00",
          "2020-02-25T00:00:00",
          "2020-02-25T00:00:00",
          "2020-02-25T00:00:00",
          "2020-02-25T00:00:00",
          "2020-02-25T00:00:00",
          "2020-02-25T00:00:00",
          "2020-02-24T00:00:00",
          "2020-02-25T00:00:00",
          "2020-02-25T00:00:00",
          "2020-02-24T00:00:00",
          "2020-02-25T00:00:00",
          "2020-02-25T00:00:00",
          "2020-02-24T00:00:00",
          "2020-02-25T00:00:00",
          "2020-02-25T00:00:00",
          "2020-02-24T00:00:00",
          "2020-02-24T00:00:00",
          "2020-02-24T00:00:00",
          "2020-02-25T00:00:00",
          "2020-02-25T00:00:00",
          "2020-02-24T00:00:00",
          "2020-02-24T00:00:00",
          "2020-02-24T00:00:00",
          "2020-02-23T00:00:00",
          "2020-02-24T00:00:00",
          "2020-02-23T00:00:00",
          "2020-02-24T00:00:00",
          "2020-02-24T00:00:00",
          "2020-02-23T00:00:00",
          "2020-02-24T00:00:00",
          "2020-02-24T00:00:00",
          "2020-02-23T00:00:00",
          "2020-02-24T00:00:00",
          "2020-02-24T00:00:00",
          "2020-02-24T00:00:00",
          "2020-02-24T00:00:00",
          "2020-02-23T00:00:00",
          "2020-02-19T00:00:00",
          "2020-02-23T00:00:00",
          "2020-02-22T00:00:00",
          "2020-02-22T00:00:00",
          "2020-02-23T00:00:00",
          "2020-02-22T00:00:00",
          "2020-02-23T00:00:00",
          "2020-01-31T00:00:00",
          "2020-02-22T00:00:00",
          "2020-02-22T00:00:00",
          "2020-02-22T00:00:00",
          "2020-02-21T00:00:00",
          "2020-02-21T00:00:00",
          "2020-02-21T00:00:00",
          "2020-02-21T00:00:00",
          "2020-02-21T00:00:00",
          "2020-02-20T00:00:00",
          "2020-02-20T00:00:00",
          "2020-02-21T00:00:00",
          "2020-02-21T00:00:00",
          "2020-02-21T00:00:00",
          "2020-02-21T00:00:00",
          "2020-02-21T00:00:00",
          "2020-02-21T00:00:00",
          "2020-02-21T00:00:00",
          "2020-02-21T00:00:00",
          "2020-02-21T00:00:00",
          "2020-02-20T00:00:00",
          "2020-02-20T00:00:00",
          "2020-02-20T00:00:00",
          "2020-02-20T00:00:00",
          "2020-02-20T00:00:00",
          "2020-02-20T00:00:00",
          "2020-02-20T00:00:00",
          "2020-02-20T00:00:00",
          "2020-02-19T00:00:00",
          "2020-02-20T00:00:00",
          "2020-02-05T00:00:00",
          "2020-02-20T00:00:00",
          "2020-02-19T00:00:00",
          "2020-02-20T00:00:00",
          "2020-02-20T00:00:00",
          "2020-02-19T00:00:00",
          "2020-02-19T00:00:00",
          "2020-02-18T00:00:00",
          "2020-02-19T00:00:00",
          "2020-02-19T00:00:00",
          "2020-02-19T00:00:00",
          "2020-02-19T00:00:00",
          "2020-02-18T00:00:00",
          "2020-02-17T00:00:00",
          "2020-02-19T00:00:00",
          "2020-02-19T00:00:00",
          "2020-01-30T00:00:00",
          "2020-02-19T00:00:00",
          "2020-02-19T00:00:00",
          "2020-02-19T00:00:00",
          "2020-02-18T00:00:00",
          "2020-02-18T00:00:00",
          "2020-02-18T00:00:00",
          "2020-02-18T00:00:00",
          "2020-02-18T00:00:00",
          "2020-02-18T00:00:00",
          "2020-02-18T00:00:00",
          "2020-02-18T00:00:00",
          "2020-02-17T00:00:00",
          "2020-02-18T00:00:00",
          "2020-02-17T00:00:00",
          "2020-02-18T00:00:00",
          "2020-02-17T00:00:00",
          "2020-02-18T00:00:00",
          "2020-02-17T00:00:00",
          "2020-02-18T00:00:00",
          "2020-02-18T00:00:00",
          "2020-02-17T00:00:00",
          "2020-02-18T00:00:00",
          "2020-02-18T00:00:00",
          "2020-01-20T00:00:00",
          "2020-02-17T00:00:00",
          "2020-02-17T00:00:00",
          "2020-02-17T00:00:00",
          "2020-02-17T00:00:00",
          "2020-02-17T00:00:00",
          "2020-02-17T00:00:00",
          "2020-02-16T00:00:00",
          "2020-02-17T00:00:00",
          "2020-02-17T00:00:00",
          "2020-02-16T00:00:00",
          "2020-02-17T00:00:00",
          "2020-02-16T00:00:00",
          "2020-02-17T00:00:00",
          "2020-02-17T00:00:00",
          "2020-02-17T00:00:00",
          "2020-02-14T00:00:00",
          "2020-02-15T00:00:00",
          "2020-02-16T00:00:00",
          "2020-02-16T00:00:00",
          "2020-02-15T00:00:00",
          "2020-02-15T00:00:00",
          "2020-02-14T00:00:00",
          "2020-02-15T00:00:00",
          "2020-02-14T00:00:00",
          "2020-02-15T00:00:00",
          "2020-02-14T00:00:00",
          "2020-02-14T00:00:00",
          "2020-02-14T00:00:00",
          "2020-02-14T00:00:00",
          "2020-02-13T00:00:00",
          "2020-02-14T00:00:00",
          "2020-02-14T00:00:00",
          "2020-02-14T00:00:00",
          "2020-02-13T00:00:00",
          "2020-02-14T00:00:00",
          "2020-02-14T00:00:00",
          "2020-02-13T00:00:00",
          "2020-02-14T00:00:00",
          "2020-02-14T00:00:00",
          "2020-02-14T00:00:00",
          "2020-02-13T00:00:00",
          "2020-02-13T00:00:00",
          "2020-02-13T00:00:00",
          "2020-02-10T00:00:00",
          "2020-02-13T00:00:00",
          "2020-02-13T00:00:00",
          "2020-02-13T00:00:00",
          "2020-02-13T00:00:00",
          "2020-01-27T00:00:00",
          "2020-02-13T00:00:00",
          "2020-02-13T00:00:00",
          "2020-02-13T00:00:00",
          "2020-02-13T00:00:00",
          "2020-02-13T00:00:00",
          "2020-02-13T00:00:00",
          "2020-02-13T00:00:00",
          "2020-02-12T00:00:00",
          "2020-02-13T00:00:00",
          "2020-02-12T00:00:00",
          "2020-02-13T00:00:00",
          "2020-02-13T00:00:00",
          "2020-02-13T00:00:00",
          "2020-02-13T00:00:00",
          "2020-02-05T00:00:00",
          "2020-02-12T00:00:00",
          "2020-02-12T00:00:00",
          "2020-02-12T00:00:00",
          "2020-02-12T00:00:00",
          "2020-02-12T00:00:00",
          "2020-02-12T00:00:00",
          "2020-02-12T00:00:00",
          "2020-02-10T00:00:00",
          "2020-02-12T00:00:00",
          "2020-02-12T00:00:00",
          "2020-02-11T00:00:00",
          "2020-02-10T00:00:00",
          "2020-02-11T00:00:00",
          "2020-02-11T00:00:00",
          "2020-02-11T00:00:00",
          "2020-02-11T00:00:00",
          "2020-02-11T00:00:00",
          "2020-02-10T00:00:00",
          "2020-02-11T00:00:00",
          "2020-02-11T00:00:00",
          "2020-02-11T00:00:00",
          "2020-02-11T00:00:00",
          "2020-02-11T00:00:00",
          "2020-02-11T00:00:00",
          "2020-02-10T00:00:00",
          "2020-02-11T00:00:00",
          "2020-02-10T00:00:00",
          "2020-02-09T00:00:00",
          "2020-02-11T00:00:00",
          "2020-02-10T00:00:00",
          "2020-02-11T00:00:00",
          "2020-02-11T00:00:00",
          "2020-02-11T00:00:00",
          "2020-02-11T00:00:00",
          "2020-02-08T00:00:00",
          "2020-02-10T00:00:00",
          "2020-02-10T00:00:00",
          "2020-02-10T00:00:00",
          "2020-02-09T00:00:00",
          "2020-02-10T00:00:00",
          "2020-02-10T00:00:00",
          "2020-02-10T00:00:00",
          "2020-02-10T00:00:00",
          "2020-02-10T00:00:00",
          "2020-02-09T00:00:00",
          "2020-02-10T00:00:00",
          "2020-02-10T00:00:00",
          "2020-02-10T00:00:00",
          "2020-02-10T00:00:00",
          "2020-02-08T00:00:00",
          "2020-02-09T00:00:00",
          "2020-02-09T00:00:00",
          "2020-02-09T00:00:00",
          "2020-02-09T00:00:00",
          "2020-02-09T00:00:00",
          "2020-02-09T00:00:00",
          "2020-02-08T00:00:00",
          "2020-02-08T00:00:00",
          "2020-02-08T00:00:00",
          "2020-02-07T00:00:00",
          "2020-02-08T00:00:00",
          "2020-02-07T00:00:00",
          "2020-02-07T00:00:00",
          "2020-02-07T00:00:00",
          "2020-02-07T00:00:00",
          "2020-02-07T00:00:00",
          "2020-02-07T00:00:00",
          "2020-02-07T00:00:00",
          "2020-02-07T00:00:00",
          "2020-02-07T00:00:00",
          "2020-02-07T00:00:00",
          "2020-02-07T00:00:00",
          "2020-02-07T00:00:00",
          "2020-02-07T00:00:00",
          "2020-02-07T00:00:00",
          "2020-02-07T00:00:00",
          "2020-02-07T00:00:00",
          "2020-02-07T00:00:00",
          "2020-02-07T00:00:00",
          "2020-02-07T00:00:00",
          "2020-02-07T00:00:00",
          "2020-02-07T00:00:00",
          "2020-02-07T00:00:00",
          "2020-02-07T00:00:00",
          "2020-02-07T00:00:00",
          "2020-02-07T00:00:00",
          "2020-02-06T00:00:00",
          "2020-02-07T00:00:00",
          "2020-02-06T00:00:00",
          "2020-02-06T00:00:00",
          "2020-02-06T00:00:00",
          "2020-02-07T00:00:00",
          "2020-02-06T00:00:00",
          "2020-02-06T00:00:00",
          "2020-02-06T00:00:00",
          "2020-02-06T00:00:00",
          "2020-02-06T00:00:00",
          "2020-02-06T00:00:00",
          "2020-02-06T00:00:00",
          "2020-02-06T00:00:00",
          "2020-02-05T00:00:00",
          "2020-02-06T00:00:00",
          "2020-02-06T00:00:00",
          "2020-02-06T00:00:00",
          "2020-02-06T00:00:00",
          "2020-02-06T00:00:00",
          "2020-02-06T00:00:00",
          "2020-02-05T00:00:00",
          "2020-02-06T00:00:00",
          "2020-02-05T00:00:00",
          "2020-02-06T00:00:00",
          "2020-02-05T00:00:00",
          "2020-02-05T00:00:00",
          "2020-02-05T00:00:00",
          "2020-02-05T00:00:00",
          "2020-02-05T00:00:00",
          "2020-02-05T00:00:00",
          "2020-02-05T00:00:00",
          "2020-02-05T00:00:00",
          "2020-02-05T00:00:00",
          "2020-02-05T00:00:00",
          "2020-02-04T00:00:00",
          "2020-02-05T00:00:00",
          "2020-02-05T00:00:00",
          "2020-02-05T00:00:00",
          "2020-02-05T00:00:00",
          "2020-02-05T00:00:00",
          "2020-02-05T00:00:00",
          "2020-02-05T00:00:00",
          "2020-02-05T00:00:00",
          "2020-02-05T00:00:00",
          "2020-02-05T00:00:00",
          "2020-02-04T00:00:00",
          "2020-02-05T00:00:00",
          "2020-02-04T00:00:00",
          "2020-02-04T00:00:00",
          "2020-02-04T00:00:00",
          "2020-02-04T00:00:00",
          "2020-02-04T00:00:00",
          "2020-01-31T00:00:00",
          "2020-02-04T00:00:00",
          "2020-02-04T00:00:00",
          "2020-02-04T00:00:00",
          "2020-02-04T00:00:00",
          "2020-02-04T00:00:00",
          "2020-02-04T00:00:00",
          "2020-02-04T00:00:00",
          "2020-02-04T00:00:00",
          "2020-02-04T00:00:00",
          "2020-02-03T00:00:00",
          "2020-02-04T00:00:00",
          "2020-02-04T00:00:00",
          "2020-02-04T00:00:00",
          "2020-02-04T00:00:00",
          "2020-02-03T00:00:00",
          "2020-02-03T00:00:00",
          "2020-02-03T00:00:00",
          "2020-02-03T00:00:00",
          "2020-02-03T00:00:00",
          "2020-02-03T00:00:00",
          "2020-02-03T00:00:00",
          "2020-02-03T00:00:00",
          "2020-02-03T00:00:00",
          "2020-02-03T00:00:00",
          "2020-02-03T00:00:00",
          "2020-02-03T00:00:00",
          "2020-02-03T00:00:00",
          "2020-02-02T00:00:00",
          "2020-02-01T00:00:00",
          "2020-02-03T00:00:00",
          "2020-02-03T00:00:00",
          "2020-02-03T00:00:00",
          "2020-01-31T00:00:00",
          "2020-02-02T00:00:00",
          "2020-02-02T00:00:00",
          "2020-02-02T00:00:00",
          "2020-02-02T00:00:00",
          "2020-02-01T00:00:00",
          "2020-02-02T00:00:00",
          "2020-02-02T00:00:00",
          "2020-01-29T00:00:00",
          "2020-02-01T00:00:00",
          "2020-02-01T00:00:00",
          "2020-02-01T00:00:00",
          "2020-02-01T00:00:00",
          "2020-02-01T00:00:00",
          "2020-02-01T00:00:00",
          "2020-01-31T00:00:00",
          "2020-01-31T00:00:00",
          "2020-01-30T00:00:00",
          "2020-01-31T00:00:00",
          "2020-01-31T00:00:00",
          "2020-01-22T00:00:00",
          "2020-01-31T00:00:00",
          "2020-01-31T00:00:00",
          "2020-01-31T00:00:00",
          "2020-01-31T00:00:00",
          "2020-01-31T00:00:00",
          "2020-01-31T00:00:00",
          "2020-01-31T00:00:00",
          "2020-01-31T00:00:00",
          "2020-01-31T00:00:00",
          "2020-01-31T00:00:00",
          "2020-01-31T00:00:00",
          "2020-01-31T00:00:00",
          "2020-01-31T00:00:00",
          "2020-01-30T00:00:00",
          "2020-01-31T00:00:00",
          "2020-01-31T00:00:00",
          "2020-01-31T00:00:00",
          "2020-01-30T00:00:00",
          "2020-01-30T00:00:00",
          "2020-01-31T00:00:00",
          "2020-01-30T00:00:00",
          "2020-01-30T00:00:00",
          "2020-01-30T00:00:00",
          "2020-01-29T00:00:00",
          "2020-01-30T00:00:00",
          "2020-01-30T00:00:00",
          "2020-01-30T00:00:00",
          "2020-01-30T00:00:00",
          "2020-01-30T00:00:00",
          "2020-01-30T00:00:00",
          "2020-01-30T00:00:00",
          "2020-01-30T00:00:00",
          "2020-01-30T00:00:00",
          "2020-01-30T00:00:00",
          "2020-01-28T00:00:00",
          "2020-01-30T00:00:00",
          "2020-01-30T00:00:00",
          "2020-01-30T00:00:00",
          "2020-01-29T00:00:00",
          "2020-01-29T00:00:00",
          "2020-01-29T00:00:00",
          "2020-01-30T00:00:00",
          "2020-01-30T00:00:00",
          "2020-01-30T00:00:00",
          "2020-01-29T00:00:00",
          "2020-01-30T00:00:00",
          "2020-01-29T00:00:00",
          "2020-01-30T00:00:00",
          "2020-01-29T00:00:00",
          "2020-01-29T00:00:00",
          "2020-01-29T00:00:00",
          "2020-01-29T00:00:00",
          "2020-01-29T00:00:00",
          "2020-01-28T00:00:00",
          "2020-01-28T00:00:00",
          "2020-01-28T00:00:00",
          "2020-01-28T00:00:00",
          "2020-01-29T00:00:00",
          "2020-01-29T00:00:00",
          "2020-01-29T00:00:00",
          "2020-01-29T00:00:00",
          "2020-01-29T00:00:00",
          "2020-01-29T00:00:00",
          "2020-01-29T00:00:00",
          "2020-01-28T00:00:00",
          "2020-01-29T00:00:00",
          "2020-01-29T00:00:00",
          "2020-01-29T00:00:00",
          "2020-01-28T00:00:00",
          "2020-01-28T00:00:00",
          "2020-01-28T00:00:00",
          "2020-01-28T00:00:00",
          "2020-01-28T00:00:00",
          "2020-01-28T00:00:00",
          "2020-01-27T00:00:00",
          "2020-01-28T00:00:00",
          "2020-01-28T00:00:00",
          "2020-01-28T00:00:00",
          "2020-01-28T00:00:00",
          "2020-01-27T00:00:00",
          "2020-01-28T00:00:00",
          "2020-01-28T00:00:00",
          "2020-01-26T00:00:00",
          "2020-01-28T00:00:00",
          "2020-01-27T00:00:00",
          "2020-01-27T00:00:00",
          "2020-01-27T00:00:00",
          "2020-01-27T00:00:00",
          "2020-01-27T00:00:00",
          "2020-01-27T00:00:00",
          "2020-01-27T00:00:00",
          "2020-01-26T00:00:00",
          "2020-01-27T00:00:00",
          "2020-01-27T00:00:00",
          "2020-01-22T00:00:00",
          "2020-01-27T00:00:00",
          "2020-01-27T00:00:00",
          "2020-01-26T00:00:00",
          "2020-01-27T00:00:00",
          "2020-01-27T00:00:00",
          "2020-01-26T00:00:00",
          "2020-01-26T00:00:00",
          "2020-01-26T00:00:00",
          "2020-01-26T00:00:00",
          "2020-01-26T00:00:00",
          "2020-01-25T00:00:00",
          "2020-01-26T00:00:00",
          "2020-01-25T00:00:00",
          "2020-01-25T00:00:00",
          "2020-01-25T00:00:00",
          "2020-01-24T00:00:00",
          "2020-01-24T00:00:00",
          "2020-01-24T00:00:00",
          "2020-01-24T00:00:00",
          "2020-01-24T00:00:00",
          "2020-01-24T00:00:00",
          "2020-01-22T00:00:00",
          "2020-01-23T00:00:00",
          "2020-01-24T00:00:00",
          "2020-01-24T00:00:00",
          "2020-01-24T00:00:00",
          "2020-01-24T00:00:00",
          "2020-01-23T00:00:00",
          "2020-01-23T00:00:00",
          "2020-01-23T00:00:00",
          "2020-01-24T00:00:00",
          "2020-01-23T00:00:00",
          "2020-01-23T00:00:00",
          "2020-01-23T00:00:00",
          "2020-01-23T00:00:00",
          "2020-01-23T00:00:00",
          "2020-01-23T00:00:00",
          "2020-01-23T00:00:00",
          "2020-01-23T00:00:00",
          "2020-01-23T00:00:00",
          "2020-01-23T00:00:00",
          "2020-01-22T00:00:00",
          "2020-01-22T00:00:00",
          "2020-01-22T00:00:00",
          "2020-01-22T00:00:00",
          "2020-01-22T00:00:00",
          "2020-01-22T00:00:00",
          "2020-01-22T00:00:00",
          "2020-01-22T00:00:00",
          "2020-01-21T00:00:00",
          "2020-01-21T00:00:00",
          "2020-01-21T00:00:00",
          "2020-01-21T00:00:00",
          "2020-01-21T00:00:00",
          "2020-01-20T00:00:00",
          "2020-01-21T00:00:00",
          "2020-01-21T00:00:00",
          "2020-01-21T00:00:00",
          "2020-01-19T00:00:00",
          "2020-01-20T00:00:00",
          "2020-01-20T00:00:00",
          "2020-01-20T00:00:00",
          "2020-01-19T00:00:00",
          "2020-01-18T00:00:00",
          "2020-01-17T00:00:00",
          "2020-01-16T00:00:00",
          "2020-01-15T00:00:00",
          "2020-01-08T00:00:00",
          "2020-01-06T00:00:00",
          "2019-10-24T00:00:00",
          "2014-05-02T00:00:00",
          "2014-04-29T00:00:00",
          "2014-05-01T00:00:00",
          "2014-05-01T00:00:00",
          "2014-04-30T00:00:00",
          "2014-04-27T00:00:00",
          "2014-04-26T00:00:00",
          "2014-04-21T00:00:00",
          "2013-08-29T00:00:00",
          "2013-07-13T00:00:00",
          "2013-06-14T00:00:00",
          "2013-06-05T00:00:00",
          "2020-03-04T00:00:00",
          "2020-03-04T00:00:00",
          "2020-03-04T00:00:00",
          "2020-03-04T00:00:00",
          "2020-03-05T00:00:00",
          "2020-03-05T00:00:00",
          "2020-03-05T00:00:00",
          "2020-03-05T00:00:00",
          "2020-03-05T00:00:00",
          "2020-03-05T00:00:00",
          "2020-03-04T00:00:00",
          "2020-03-05T00:00:00",
          "2020-03-05T00:00:00",
          "2020-03-05T00:00:00",
          "2020-03-05T00:00:00",
          "2020-03-05T00:00:00",
          "2020-03-05T00:00:00",
          "2020-03-05T00:00:00",
          "2020-03-05T00:00:00",
          "2020-03-05T00:00:00",
          "2020-03-05T00:00:00",
          "2020-03-05T00:00:00",
          "2020-03-04T00:00:00",
          "2020-03-05T00:00:00",
          "2020-03-05T00:00:00",
          "2020-03-05T00:00:00",
          "2020-03-05T00:00:00",
          "2020-03-05T00:00:00",
          "2020-03-04T00:00:00",
          "2020-03-04T00:00:00",
          "2020-03-05T00:00:00",
          "2020-03-05T00:00:00",
          "2020-03-05T00:00:00",
          "2020-03-05T00:00:00",
          "2020-03-05T00:00:00",
          "2020-03-05T00:00:00",
          "2020-03-05T00:00:00",
          "2020-03-05T00:00:00",
          "2020-03-05T00:00:00",
          "2020-03-05T00:00:00",
          "2020-02-01T00:00:00",
          "2020-02-01T00:00:00",
          "2020-02-01T00:00:00",
          "2020-02-01T00:00:00",
          "2020-02-01T00:00:00",
          "2020-02-01T00:00:00",
          "2020-01-31T00:00:00",
          "2020-01-31T00:00:00",
          "2020-01-31T00:00:00",
          "2020-01-31T00:00:00",
          "2020-01-31T00:00:00",
          "2020-01-31T00:00:00",
          "2020-01-31T00:00:00",
          "2020-01-31T00:00:00",
          "2020-01-31T00:00:00",
          "2020-01-31T00:00:00",
          "2020-01-31T00:00:00",
          "2020-01-31T00:00:00",
          "2020-01-31T00:00:00",
          "2020-01-31T00:00:00",
          "2020-01-31T00:00:00",
          "2020-01-31T00:00:00",
          "2020-01-31T00:00:00",
          "2020-01-31T00:00:00",
          "2020-01-31T00:00:00",
          "2020-01-31T00:00:00",
          "2020-01-30T00:00:00",
          "2020-01-30T00:00:00",
          "2020-01-30T00:00:00",
          "2020-01-30T00:00:00",
          "2020-01-30T00:00:00",
          "2020-01-30T00:00:00",
          "2020-01-30T00:00:00",
          "2020-01-30T00:00:00",
          "2020-01-30T00:00:00",
          "2020-01-30T00:00:00",
          "2020-01-30T00:00:00",
          "2020-01-30T00:00:00",
          "2020-01-30T00:00:00",
          "2020-01-30T00:00:00",
          "2020-01-30T00:00:00",
          "2020-01-30T00:00:00",
          "2020-01-30T00:00:00",
          "2020-01-30T00:00:00",
          "2020-01-30T00:00:00",
          "2020-01-30T00:00:00",
          "2020-01-30T00:00:00",
          "2020-01-29T00:00:00",
          "2020-01-29T00:00:00",
          "2020-01-29T00:00:00",
          "2020-01-29T00:00:00",
          "2020-01-29T00:00:00",
          "2020-01-29T00:00:00",
          "2020-01-29T00:00:00",
          "2020-01-29T00:00:00",
          "2020-01-29T00:00:00",
          "2020-01-29T00:00:00",
          "2020-01-29T00:00:00",
          "2020-01-29T00:00:00",
          "2020-01-29T00:00:00",
          "2020-01-29T00:00:00",
          "2020-01-29T00:00:00",
          "2020-01-29T00:00:00",
          "2020-01-29T00:00:00",
          "2020-01-29T00:00:00",
          "2020-01-29T00:00:00",
          "2020-01-28T00:00:00",
          "2020-01-28T00:00:00",
          "2020-01-28T00:00:00",
          "2020-01-28T00:00:00",
          "2020-01-28T00:00:00",
          "2020-01-28T00:00:00",
          "2020-01-28T00:00:00",
          "2020-01-28T00:00:00",
          "2020-01-28T00:00:00",
          "2020-01-28T00:00:00",
          "2020-01-28T00:00:00",
          "2020-01-28T00:00:00",
          "2020-01-28T00:00:00",
          "2020-01-28T00:00:00",
          "2020-01-28T00:00:00",
          "2020-01-28T00:00:00",
          "2020-01-28T00:00:00",
          "2020-01-28T00:00:00",
          "2020-01-28T00:00:00",
          "2020-01-28T00:00:00",
          "2020-01-28T00:00:00",
          "2020-01-27T00:00:00",
          "2020-01-27T00:00:00",
          "2020-01-27T00:00:00",
          "2020-01-27T00:00:00",
          "2020-01-27T00:00:00",
          "2020-01-27T00:00:00",
          "2020-01-27T00:00:00",
          "2020-01-27T00:00:00",
          "2020-01-27T00:00:00",
          "2020-01-27T00:00:00",
          "2020-01-27T00:00:00",
          "2020-01-27T00:00:00",
          "2020-01-27T00:00:00",
          "2020-01-26T00:00:00",
          "2020-01-26T00:00:00",
          "2020-01-26T00:00:00",
          "2020-01-26T00:00:00",
          "2020-01-26T00:00:00",
          "2020-01-26T00:00:00",
          "2020-01-26T00:00:00",
          "2020-01-26T00:00:00",
          "2020-01-25T00:00:00",
          "2020-01-25T00:00:00",
          "2020-01-25T00:00:00",
          "2020-01-25T00:00:00",
          "2020-01-24T00:00:00",
          "2020-01-24T00:00:00",
          "2020-01-24T00:00:00",
          "2020-01-24T00:00:00",
          "2020-01-24T00:00:00",
          "2020-01-24T00:00:00",
          "2020-01-24T00:00:00",
          "2020-01-24T00:00:00",
          "2020-01-24T00:00:00",
          "2020-01-24T00:00:00",
          "2020-01-24T00:00:00",
          "2020-01-24T00:00:00",
          "2020-01-24T00:00:00",
          "2020-01-23T00:00:00",
          "2020-01-23T00:00:00",
          "2020-01-23T00:00:00",
          "2020-01-23T00:00:00",
          "2020-01-23T00:00:00",
          "2020-01-23T00:00:00",
          "2020-01-23T00:00:00",
          "2020-01-23T00:00:00",
          "2020-01-23T00:00:00",
          "2020-01-25T00:00:00",
          "2020-01-23T00:00:00",
          "2020-01-23T00:00:00",
          "2020-01-23T00:00:00",
          "2020-01-23T00:00:00",
          "2020-01-23T00:00:00",
          "2020-01-23T00:00:00",
          "2020-01-23T00:00:00",
          "2020-01-22T00:00:00",
          "2020-01-22T00:00:00",
          "2020-01-22T00:00:00",
          "2020-01-22T00:00:00",
          "2020-01-22T00:00:00",
          "2020-01-22T00:00:00",
          "2020-01-22T00:00:00",
          "2020-01-22T00:00:00",
          "2020-01-22T00:00:00",
          "2020-01-22T00:00:00",
          "2020-01-22T00:00:00",
          "2020-01-21T00:00:00",
          "2020-01-21T00:00:00",
          "2020-01-21T00:00:00",
          "2020-01-21T00:00:00",
          "2020-01-21T00:00:00",
          "2020-01-21T00:00:00",
          "2020-01-21T00:00:00",
          "2020-01-21T00:00:00",
          "2020-01-20T00:00:00",
          "2020-01-20T00:00:00",
          "2020-01-20T00:00:00",
          "2020-01-18T00:00:00",
          "2020-01-17T00:00:00",
          "2020-01-15T00:00:00",
          "2020-01-10T00:00:00",
          "2020-01-08T00:00:00",
          "2020-02-08T00:00:00",
          "2020-02-08T00:00:00",
          "2020-02-08T00:00:00",
          "2020-02-08T00:00:00",
          "2020-02-08T00:00:00",
          "2020-02-08T00:00:00",
          "2020-02-07T00:00:00",
          "2020-02-07T00:00:00",
          "2020-02-07T00:00:00",
          "2020-02-07T00:00:00",
          "2020-02-07T00:00:00",
          "2020-02-07T00:00:00",
          "2020-02-07T00:00:00",
          "2020-02-07T00:00:00",
          "2020-02-07T00:00:00",
          "2020-02-07T00:00:00",
          "2020-02-07T00:00:00",
          "2020-02-07T00:00:00",
          "2020-02-07T00:00:00",
          "2020-02-07T00:00:00",
          "2020-02-07T00:00:00",
          "2020-02-07T00:00:00",
          "2020-02-07T00:00:00",
          "2020-02-07T00:00:00",
          "2020-02-07T00:00:00",
          "2020-02-07T00:00:00",
          "2020-02-07T00:00:00",
          "2020-02-07T00:00:00",
          "2020-02-07T00:00:00",
          "2020-02-07T00:00:00",
          "2020-02-07T00:00:00",
          "2020-02-06T00:00:00",
          "2020-02-06T00:00:00",
          "2020-02-06T00:00:00",
          "2020-02-06T00:00:00",
          "2020-02-06T00:00:00",
          "2020-02-06T00:00:00",
          "2020-02-06T00:00:00",
          "2020-02-06T00:00:00",
          "2020-02-06T00:00:00",
          "2020-02-06T00:00:00",
          "2020-02-06T00:00:00",
          "2020-02-06T00:00:00",
          "2020-02-06T00:00:00",
          "2020-02-06T00:00:00",
          "2020-02-06T00:00:00",
          "2020-02-06T00:00:00",
          "2020-02-06T00:00:00",
          "2020-02-06T00:00:00",
          "2020-02-06T00:00:00",
          "2020-02-06T00:00:00",
          "2020-02-06T00:00:00",
          "2020-02-06T00:00:00",
          "2020-02-06T00:00:00",
          "2020-02-06T00:00:00",
          "2020-02-05T00:00:00",
          "2020-02-05T00:00:00",
          "2020-02-05T00:00:00",
          "2020-02-05T00:00:00",
          "2020-02-05T00:00:00",
          "2020-02-05T00:00:00",
          "2020-02-05T00:00:00",
          "2020-02-05T00:00:00",
          "2020-02-05T00:00:00",
          "2020-02-05T00:00:00",
          "2020-02-05T00:00:00",
          "2020-02-05T00:00:00",
          "2020-02-05T00:00:00",
          "2020-02-05T00:00:00",
          "2020-02-05T00:00:00",
          "2020-02-05T00:00:00",
          "2020-02-05T00:00:00",
          "2020-02-05T00:00:00",
          "2020-02-05T00:00:00",
          "2020-02-05T00:00:00",
          "2020-02-05T00:00:00",
          "2020-02-05T00:00:00",
          "2020-02-05T00:00:00",
          "2020-02-04T00:00:00",
          "2020-02-04T00:00:00",
          "2020-02-04T00:00:00",
          "2020-02-04T00:00:00",
          "2020-02-04T00:00:00",
          "2020-02-04T00:00:00",
          "2020-02-04T00:00:00",
          "2020-02-04T00:00:00",
          "2020-02-04T00:00:00",
          "2020-02-04T00:00:00",
          "2020-02-04T00:00:00",
          "2020-02-04T00:00:00",
          "2020-02-04T00:00:00",
          "2020-02-04T00:00:00",
          "2020-02-04T00:00:00",
          "2020-02-04T00:00:00",
          "2020-02-04T00:00:00",
          "2020-02-04T00:00:00",
          "2020-02-04T00:00:00",
          "2020-02-04T00:00:00",
          "2020-02-04T00:00:00",
          "2020-02-04T00:00:00",
          "2020-02-04T00:00:00",
          "2020-02-04T00:00:00",
          "2020-02-04T00:00:00",
          "2020-02-04T00:00:00",
          "2020-02-04T00:00:00",
          "2020-02-04T00:00:00",
          "2020-02-04T00:00:00",
          "2020-02-04T00:00:00",
          "2020-02-04T00:00:00",
          "2020-02-03T00:00:00",
          "2020-02-03T00:00:00",
          "2020-02-03T00:00:00",
          "2020-02-03T00:00:00",
          "2020-02-03T00:00:00",
          "2020-02-03T00:00:00",
          "2020-02-03T00:00:00",
          "2020-02-03T00:00:00",
          "2020-02-03T00:00:00",
          "2020-02-03T00:00:00",
          "2020-02-03T00:00:00",
          "2020-02-03T00:00:00",
          "2020-02-03T00:00:00",
          "2020-02-03T00:00:00",
          "2020-02-03T00:00:00",
          "2020-02-03T00:00:00",
          "2020-02-03T00:00:00",
          "2020-02-03T00:00:00",
          "2020-02-03T00:00:00",
          "2020-02-03T00:00:00",
          "2020-02-02T00:00:00",
          "2020-02-02T00:00:00",
          "2020-02-02T00:00:00",
          "2020-02-02T00:00:00",
          "2020-02-02T00:00:00",
          "2020-02-02T00:00:00",
          "2020-02-02T00:00:00",
          "2020-02-02T00:00:00",
          "2020-02-02T00:00:00",
          "2020-02-02T00:00:00",
          "2020-02-02T00:00:00",
          "2020-02-02T00:00:00",
          "2020-02-02T00:00:00",
          "2020-02-02T00:00:00",
          "2020-02-02T00:00:00",
          "2020-02-15T00:00:00",
          "2020-02-15T00:00:00",
          "2020-02-15T00:00:00",
          "2020-02-15T00:00:00",
          "2020-02-15T00:00:00",
          "2020-02-15T00:00:00",
          "2020-02-15T00:00:00",
          "2020-02-15T00:00:00",
          "2020-02-14T00:00:00",
          "2020-02-14T00:00:00",
          "2020-02-14T00:00:00",
          "2020-02-14T00:00:00",
          "2020-02-14T00:00:00",
          "2020-02-14T00:00:00",
          "2020-02-14T00:00:00",
          "2020-02-14T00:00:00",
          "2020-02-14T00:00:00",
          "2020-02-14T00:00:00",
          "2020-02-14T00:00:00",
          "2020-02-14T00:00:00",
          "2020-02-14T00:00:00",
          "2020-02-14T00:00:00",
          "2020-02-14T00:00:00",
          "2020-02-14T00:00:00",
          "2020-02-14T00:00:00",
          "2020-02-14T00:00:00",
          "2020-02-14T00:00:00",
          "2020-02-14T00:00:00",
          "2020-02-13T00:00:00",
          "2020-02-13T00:00:00",
          "2020-02-13T00:00:00",
          "2020-02-13T00:00:00",
          "2020-02-13T00:00:00",
          "2020-02-13T00:00:00",
          "2020-02-13T00:00:00",
          "2020-02-13T00:00:00",
          "2020-02-13T00:00:00",
          "2020-02-13T00:00:00",
          "2020-02-13T00:00:00",
          "2020-02-13T00:00:00",
          "2020-02-13T00:00:00",
          "2020-02-13T00:00:00",
          "2020-02-13T00:00:00",
          "2020-02-13T00:00:00",
          "2020-02-13T00:00:00",
          "2020-02-13T00:00:00",
          "2020-02-13T00:00:00",
          "2020-02-13T00:00:00",
          "2020-02-13T00:00:00",
          "2020-02-13T00:00:00",
          "2020-02-13T00:00:00",
          "2020-02-12T00:00:00",
          "2020-02-12T00:00:00",
          "2020-02-12T00:00:00",
          "2020-02-12T00:00:00",
          "2020-02-12T00:00:00",
          "2020-02-12T00:00:00",
          "2020-02-12T00:00:00",
          "2020-02-12T00:00:00",
          "2020-02-12T00:00:00",
          "2020-02-12T00:00:00",
          "2020-02-12T00:00:00",
          "2020-02-12T00:00:00",
          "2020-02-12T00:00:00",
          "2020-02-12T00:00:00",
          "2020-02-12T00:00:00",
          "2020-02-12T00:00:00",
          "2020-02-12T00:00:00",
          "2020-02-12T00:00:00",
          "2020-02-11T00:00:00",
          "2020-02-11T00:00:00",
          "2020-02-11T00:00:00",
          "2020-02-11T00:00:00",
          "2020-02-11T00:00:00",
          "2020-02-11T00:00:00",
          "2020-02-11T00:00:00",
          "2020-02-11T00:00:00",
          "2020-02-11T00:00:00",
          "2020-02-11T00:00:00",
          "2020-02-11T00:00:00",
          "2020-02-11T00:00:00",
          "2020-02-11T00:00:00",
          "2020-02-11T00:00:00",
          "2020-02-11T00:00:00",
          "2020-02-11T00:00:00",
          "2020-02-11T00:00:00",
          "2020-02-11T00:00:00",
          "2020-02-11T00:00:00",
          "2020-02-11T00:00:00",
          "2020-02-11T00:00:00",
          "2020-02-11T00:00:00",
          "2020-02-11T00:00:00",
          "2020-02-11T00:00:00",
          "2020-02-10T00:00:00",
          "2020-02-10T00:00:00",
          "2020-02-10T00:00:00",
          "2020-02-10T00:00:00",
          "2020-02-10T00:00:00",
          "2020-02-10T00:00:00",
          "2020-02-10T00:00:00",
          "2020-02-10T00:00:00",
          "2020-02-10T00:00:00",
          "2020-02-10T00:00:00",
          "2020-02-10T00:00:00",
          "2020-02-10T00:00:00",
          "2020-02-10T00:00:00",
          "2020-02-10T00:00:00",
          "2020-02-10T00:00:00",
          "2020-02-10T00:00:00",
          "2020-02-10T00:00:00",
          "2020-02-09T00:00:00",
          "2020-02-09T00:00:00",
          "2020-02-09T00:00:00",
          "2020-02-09T00:00:00",
          "2020-02-09T00:00:00",
          "2020-02-09T00:00:00",
          "2020-02-09T00:00:00",
          "2020-02-09T00:00:00",
          "2020-02-09T00:00:00",
          "2020-02-22T00:00:00",
          "2020-02-22T00:00:00",
          "2020-02-22T00:00:00",
          "2020-02-22T00:00:00",
          "2020-02-22T00:00:00",
          "2020-02-22T00:00:00",
          "2020-02-22T00:00:00",
          "2020-02-22T00:00:00",
          "2020-02-22T00:00:00",
          "2020-02-21T00:00:00",
          "2020-02-21T00:00:00",
          "2020-02-21T00:00:00",
          "2020-02-21T00:00:00",
          "2020-02-21T00:00:00",
          "2020-02-21T00:00:00",
          "2020-02-21T00:00:00",
          "2020-02-21T00:00:00",
          "2020-02-21T00:00:00",
          "2020-02-21T00:00:00",
          "2020-02-21T00:00:00",
          "2020-02-20T00:00:00",
          "2020-02-20T00:00:00",
          "2020-02-20T00:00:00",
          "2020-02-20T00:00:00",
          "2020-02-20T00:00:00",
          "2020-02-20T00:00:00",
          "2020-02-20T00:00:00",
          "2020-02-20T00:00:00",
          "2020-02-20T00:00:00",
          "2020-02-20T00:00:00",
          "2020-02-20T00:00:00",
          "2020-02-20T00:00:00",
          "2020-02-20T00:00:00",
          "2020-02-20T00:00:00",
          "2020-02-20T00:00:00",
          "2020-02-20T00:00:00",
          "2020-02-20T00:00:00",
          "2020-02-20T00:00:00",
          "2020-02-20T00:00:00",
          "2020-02-20T00:00:00",
          "2020-02-20T00:00:00",
          "2020-02-20T00:00:00",
          "2020-02-20T00:00:00",
          "2020-02-19T00:00:00",
          "2020-02-19T00:00:00",
          "2020-02-19T00:00:00",
          "2020-02-19T00:00:00",
          "2020-02-19T00:00:00",
          "2020-02-19T00:00:00",
          "2020-02-19T00:00:00",
          "2020-02-19T00:00:00",
          "2020-02-19T00:00:00",
          "2020-02-19T00:00:00",
          "2020-02-19T00:00:00",
          "2020-02-19T00:00:00",
          "2020-02-19T00:00:00",
          "2020-02-19T00:00:00",
          "2020-02-18T00:00:00",
          "2020-02-18T00:00:00",
          "2020-02-18T00:00:00",
          "2020-02-18T00:00:00",
          "2020-02-18T00:00:00",
          "2020-02-18T00:00:00",
          "2020-02-18T00:00:00",
          "2020-02-18T00:00:00",
          "2020-02-18T00:00:00",
          "2020-02-18T00:00:00",
          "2020-02-18T00:00:00",
          "2020-02-18T00:00:00",
          "2020-02-18T00:00:00",
          "2020-02-18T00:00:00",
          "2020-02-18T00:00:00",
          "2020-02-18T00:00:00",
          "2020-02-18T00:00:00",
          "2020-02-18T00:00:00",
          "2020-02-18T00:00:00",
          "2020-02-18T00:00:00",
          "2020-02-18T00:00:00",
          "2020-02-18T00:00:00",
          "2020-02-17T00:00:00",
          "2020-02-17T00:00:00",
          "2020-02-17T00:00:00",
          "2020-02-17T00:00:00",
          "2020-02-17T00:00:00",
          "2020-02-17T00:00:00",
          "2020-02-17T00:00:00",
          "2020-02-17T00:00:00",
          "2020-02-17T00:00:00",
          "2020-02-17T00:00:00",
          "2020-02-17T00:00:00",
          "2020-02-17T00:00:00",
          "2020-02-17T00:00:00",
          "2020-02-17T00:00:00",
          "2020-02-17T00:00:00",
          "2020-02-17T00:00:00",
          "2020-02-17T00:00:00",
          "2020-02-17T00:00:00",
          "2020-02-16T00:00:00",
          "2020-02-16T00:00:00",
          "2020-02-16T00:00:00",
          "2020-02-16T00:00:00",
          "2020-02-16T00:00:00",
          "2020-02-16T00:00:00",
          "2020-02-16T00:00:00",
          "2020-02-16T00:00:00",
          "2020-02-15T00:00:00",
          "2020-02-15T00:00:00",
          "2020-02-26T00:00:00",
          "2020-02-26T00:00:00",
          "2020-02-26T00:00:00",
          "2020-02-26T00:00:00",
          "2020-02-26T00:00:00",
          "2020-02-26T00:00:00",
          "2020-02-26T00:00:00",
          "2020-02-26T00:00:00",
          "2020-02-26T00:00:00",
          "2020-02-26T00:00:00",
          "2020-02-25T00:00:00",
          "2020-02-25T00:00:00",
          "2020-02-25T00:00:00",
          "2020-02-25T00:00:00",
          "2020-02-25T00:00:00",
          "2020-02-25T00:00:00",
          "2020-02-25T00:00:00",
          "2020-02-25T00:00:00",
          "2020-02-25T00:00:00",
          "2020-02-25T00:00:00",
          "2020-02-25T00:00:00",
          "2020-02-25T00:00:00",
          "2020-02-25T00:00:00",
          "2020-02-25T00:00:00",
          "2020-02-25T00:00:00",
          "2020-02-25T00:00:00",
          "2020-02-25T00:00:00",
          "2020-02-25T00:00:00",
          "2020-02-25T00:00:00",
          "2020-02-25T00:00:00",
          "2020-02-25T00:00:00",
          "2020-02-25T00:00:00",
          "2020-02-25T00:00:00",
          "2020-02-25T00:00:00",
          "2020-02-25T00:00:00",
          "2020-02-25T00:00:00",
          "2020-02-25T00:00:00",
          "2020-02-25T00:00:00",
          "2020-02-25T00:00:00",
          "2020-02-25T00:00:00",
          "2020-02-25T00:00:00",
          "2020-02-25T00:00:00",
          "2020-02-25T00:00:00",
          "2020-02-25T00:00:00",
          "2020-02-25T00:00:00",
          "2020-02-25T00:00:00",
          "2020-02-25T00:00:00",
          "2020-02-25T00:00:00",
          "2020-02-25T00:00:00",
          "2020-02-25T00:00:00",
          "2020-02-25T00:00:00",
          "2020-02-25T00:00:00",
          "2020-02-25T00:00:00",
          "2020-02-25T00:00:00",
          "2020-02-25T00:00:00",
          "2020-02-25T00:00:00",
          "2020-02-25T00:00:00",
          "2020-02-25T00:00:00",
          "2020-02-25T00:00:00",
          "2020-02-25T00:00:00",
          "2020-02-25T00:00:00",
          "2020-02-25T00:00:00",
          "2020-02-25T00:00:00",
          "2020-02-25T00:00:00",
          "2020-02-25T00:00:00",
          "2020-02-25T00:00:00",
          "2020-02-25T00:00:00",
          "2020-02-25T00:00:00",
          "2020-02-25T00:00:00",
          "2020-02-25T00:00:00",
          "2020-02-25T00:00:00",
          "2020-02-25T00:00:00",
          "2020-02-25T00:00:00",
          "2020-02-25T00:00:00",
          "2020-02-25T00:00:00",
          "2020-02-25T00:00:00",
          "2020-02-25T00:00:00",
          "2020-02-25T00:00:00",
          "2020-02-25T00:00:00",
          "2020-02-25T00:00:00",
          "2020-02-25T00:00:00",
          "2020-02-25T00:00:00",
          "2020-02-25T00:00:00",
          "2020-02-25T00:00:00",
          "2020-02-25T00:00:00",
          "2020-02-25T00:00:00",
          "2020-02-25T00:00:00",
          "2020-02-25T00:00:00",
          "2020-02-25T00:00:00",
          "2020-02-25T00:00:00",
          "2020-02-25T00:00:00",
          "2020-02-25T00:00:00",
          "2020-02-25T00:00:00",
          "2020-02-25T00:00:00",
          "2020-02-25T00:00:00",
          "2020-02-25T00:00:00",
          "2020-02-25T00:00:00",
          "2020-02-25T00:00:00",
          "2020-02-25T00:00:00",
          "2020-02-25T00:00:00",
          "2020-02-25T00:00:00",
          "2020-02-25T00:00:00",
          "2020-02-25T00:00:00",
          "2020-02-25T00:00:00",
          "2020-02-25T00:00:00",
          "2020-02-25T00:00:00",
          "2020-02-25T00:00:00",
          "2020-02-25T00:00:00",
          "2020-02-25T00:00:00",
          "2020-02-25T00:00:00",
          "2020-02-25T00:00:00",
          "2020-02-25T00:00:00",
          "2020-02-25T00:00:00",
          "2020-02-25T00:00:00",
          "2020-02-25T00:00:00",
          "2020-02-25T00:00:00",
          "2020-02-25T00:00:00",
          "2020-02-25T00:00:00",
          "2020-02-25T00:00:00",
          "2020-02-25T00:00:00",
          "2020-02-25T00:00:00",
          "2020-02-25T00:00:00",
          "2020-02-25T00:00:00",
          "2020-02-25T00:00:00",
          "2020-02-25T00:00:00",
          "2020-02-25T00:00:00",
          "2020-02-25T00:00:00",
          "2020-02-25T00:00:00",
          "2020-02-25T00:00:00",
          "2020-02-25T00:00:00",
          "2020-02-25T00:00:00",
          "2020-02-25T00:00:00",
          "2020-02-25T00:00:00",
          "2020-02-25T00:00:00",
          "2020-02-25T00:00:00",
          "2020-02-25T00:00:00",
          "2020-02-25T00:00:00",
          "2020-02-25T00:00:00",
          "2020-02-25T00:00:00",
          "2020-02-25T00:00:00",
          "2020-02-25T00:00:00",
          "2020-02-25T00:00:00",
          "2020-02-25T00:00:00",
          "2020-02-25T00:00:00",
          "2020-02-25T00:00:00",
          "2020-02-25T00:00:00",
          "2020-02-25T00:00:00",
          "2020-02-24T00:00:00",
          "2020-02-24T00:00:00",
          "2020-02-24T00:00:00",
          "2020-02-24T00:00:00",
          "2020-02-24T00:00:00",
          "2020-02-24T00:00:00",
          "2020-02-24T00:00:00",
          "2020-02-24T00:00:00",
          "2020-02-24T00:00:00",
          "2020-02-24T00:00:00",
          "2020-02-24T00:00:00",
          "2020-02-24T00:00:00",
          "2020-02-24T00:00:00",
          "2020-02-24T00:00:00",
          "2020-02-24T00:00:00",
          "2020-02-24T00:00:00",
          "2020-02-24T00:00:00",
          "2020-02-24T00:00:00",
          "2020-02-24T00:00:00",
          "2020-02-24T00:00:00",
          "2020-02-24T00:00:00",
          "2020-02-24T00:00:00",
          "2020-02-24T00:00:00",
          "2020-02-24T00:00:00",
          "2020-02-24T00:00:00",
          "2020-02-24T00:00:00",
          "2020-02-24T00:00:00",
          "2020-02-24T00:00:00",
          "2020-02-24T00:00:00",
          "2020-02-24T00:00:00",
          "2020-02-24T00:00:00",
          "2020-02-24T00:00:00",
          "2020-02-24T00:00:00",
          "2020-02-24T00:00:00",
          "2020-02-24T00:00:00",
          "2020-02-24T00:00:00",
          "2020-02-24T00:00:00",
          "2020-02-24T00:00:00",
          "2020-02-24T00:00:00",
          "2020-02-24T00:00:00",
          "2020-02-24T00:00:00",
          "2020-02-24T00:00:00",
          "2020-02-24T00:00:00",
          "2020-02-24T00:00:00",
          "2020-02-24T00:00:00",
          "2020-02-24T00:00:00",
          "2020-02-24T00:00:00",
          "2020-02-24T00:00:00",
          "2020-02-24T00:00:00",
          "2020-02-24T00:00:00",
          "2020-02-24T00:00:00",
          "2020-02-24T00:00:00",
          "2020-02-24T00:00:00",
          "2020-02-24T00:00:00",
          "2020-02-24T00:00:00",
          "2020-02-24T00:00:00",
          "2020-02-24T00:00:00",
          "2020-02-24T00:00:00",
          "2020-02-24T00:00:00",
          "2020-02-24T00:00:00",
          "2020-02-24T00:00:00",
          "2020-02-24T00:00:00",
          "2020-02-24T00:00:00",
          "2020-02-24T00:00:00",
          "2020-02-24T00:00:00",
          "2020-02-24T00:00:00",
          "2020-02-24T00:00:00",
          "2020-02-24T00:00:00",
          "2020-02-24T00:00:00",
          "2020-02-24T00:00:00",
          "2020-02-24T00:00:00",
          "2020-02-24T00:00:00",
          "2020-02-24T00:00:00",
          "2020-02-24T00:00:00",
          "2020-02-24T00:00:00",
          "2020-02-24T00:00:00",
          "2020-02-24T00:00:00",
          "2020-02-24T00:00:00",
          "2020-02-24T00:00:00",
          "2020-02-24T00:00:00",
          "2020-02-24T00:00:00",
          "2020-02-24T00:00:00",
          "2020-02-24T00:00:00",
          "2020-02-24T00:00:00",
          "2020-02-24T00:00:00",
          "2020-02-24T00:00:00",
          "2020-02-24T00:00:00",
          "2020-02-24T00:00:00",
          "2020-02-24T00:00:00",
          "2020-02-24T00:00:00",
          "2020-02-24T00:00:00",
          "2020-02-24T00:00:00",
          "2020-02-24T00:00:00",
          "2020-02-24T00:00:00",
          "2020-02-24T00:00:00",
          "2020-02-24T00:00:00",
          "2020-02-24T00:00:00",
          "2020-02-24T00:00:00",
          "2020-02-24T00:00:00",
          "2020-02-24T00:00:00",
          "2020-02-24T00:00:00",
          "2020-02-24T00:00:00",
          "2020-02-24T00:00:00",
          "2020-02-24T00:00:00",
          "2020-02-24T00:00:00",
          "2020-02-24T00:00:00",
          "2020-02-24T00:00:00",
          "2020-02-24T00:00:00",
          "2020-02-24T00:00:00",
          "2020-02-24T00:00:00",
          "2020-02-24T00:00:00",
          "2020-02-24T00:00:00",
          "2020-02-24T00:00:00",
          "2020-02-24T00:00:00",
          "2020-02-24T00:00:00",
          "2020-02-24T00:00:00",
          "2020-02-24T00:00:00",
          "2020-02-24T00:00:00",
          "2020-02-24T00:00:00",
          "2020-02-24T00:00:00",
          "2020-02-24T00:00:00",
          "2020-02-24T00:00:00",
          "2020-02-24T00:00:00",
          "2020-02-24T00:00:00",
          "2020-02-24T00:00:00",
          "2020-02-24T00:00:00",
          "2020-02-24T00:00:00",
          "2020-02-24T00:00:00",
          "2020-02-24T00:00:00",
          "2020-02-24T00:00:00",
          "2020-02-24T00:00:00",
          "2020-02-24T00:00:00",
          "2020-02-24T00:00:00",
          "2020-02-24T00:00:00",
          "2020-02-24T00:00:00",
          "2020-02-24T00:00:00",
          "2020-02-24T00:00:00",
          "2020-02-24T00:00:00",
          "2020-02-24T00:00:00",
          "2020-02-24T00:00:00",
          "2020-02-24T00:00:00",
          "2020-02-24T00:00:00",
          "2020-02-24T00:00:00",
          "2020-02-24T00:00:00",
          "2020-02-24T00:00:00",
          "2020-02-24T00:00:00",
          "2020-02-24T00:00:00",
          "2020-02-24T00:00:00",
          "2020-02-24T00:00:00",
          "2020-02-24T00:00:00",
          "2020-02-24T00:00:00",
          "2020-02-24T00:00:00",
          "2020-02-24T00:00:00",
          "2020-02-24T00:00:00",
          "2020-02-24T00:00:00",
          "2020-02-24T00:00:00",
          "2020-02-24T00:00:00",
          "2020-02-24T00:00:00",
          "2020-02-24T00:00:00",
          "2020-02-24T00:00:00",
          "2020-02-24T00:00:00",
          "2020-02-24T00:00:00",
          "2020-02-24T00:00:00",
          "2020-02-24T00:00:00",
          "2020-02-23T00:00:00",
          "2020-02-23T00:00:00",
          "2020-02-23T00:00:00",
          "2020-02-23T00:00:00",
          "2020-02-23T00:00:00",
          "2020-02-23T00:00:00",
          "2020-02-23T00:00:00",
          "2020-02-23T00:00:00",
          "2020-02-23T00:00:00",
          "2020-02-23T00:00:00",
          "2020-02-23T00:00:00",
          "2020-02-23T00:00:00",
          "2020-02-23T00:00:00",
          "2020-02-23T00:00:00",
          "2020-02-23T00:00:00",
          "2020-02-23T00:00:00",
          "2020-02-23T00:00:00",
          "2020-02-23T00:00:00",
          "2020-02-23T00:00:00",
          "2020-02-23T00:00:00",
          "2020-02-23T00:00:00",
          "2020-02-23T00:00:00",
          "2020-02-23T00:00:00",
          "2020-02-23T00:00:00",
          "2020-02-23T00:00:00",
          "2020-02-23T00:00:00",
          "2020-02-23T00:00:00",
          "2020-02-23T00:00:00",
          "2020-02-23T00:00:00",
          "2020-02-23T00:00:00",
          "2020-02-23T00:00:00",
          "2020-02-23T00:00:00",
          "2020-02-23T00:00:00",
          "2020-02-23T00:00:00",
          "2020-02-23T00:00:00",
          "2020-02-22T00:00:00",
          "2020-02-22T00:00:00",
          "2020-02-28T00:00:00",
          "2020-02-28T00:00:00",
          "2020-02-28T00:00:00",
          "2020-02-28T00:00:00",
          "2020-02-28T00:00:00",
          "2020-02-28T00:00:00",
          "2020-02-28T00:00:00",
          "2020-02-28T00:00:00",
          "2020-02-28T00:00:00",
          "2020-02-28T00:00:00",
          "2020-03-05T00:00:00",
          "2020-03-05T00:00:00",
          "2020-03-05T00:00:00",
          "2020-03-05T00:00:00",
          "2020-03-05T00:00:00",
          "2020-03-05T00:00:00",
          "2020-03-05T00:00:00",
          "2020-03-05T00:00:00",
          "2020-03-05T00:00:00",
          "2020-03-05T00:00:00",
          "2020-02-28T00:00:00",
          "2020-02-28T00:00:00",
          "2020-02-28T00:00:00",
          "2020-02-28T00:00:00",
          "2020-02-28T00:00:00",
          "2020-02-28T00:00:00",
          "2020-02-28T00:00:00",
          "2020-02-28T00:00:00",
          "2020-02-28T00:00:00",
          "2020-02-28T00:00:00",
          "2020-02-28T00:00:00",
          "2020-02-28T00:00:00",
          "2020-02-28T00:00:00",
          "2020-02-28T00:00:00",
          "2020-02-28T00:00:00",
          "2020-02-28T00:00:00",
          "2020-02-28T00:00:00",
          "2020-02-28T00:00:00",
          "2020-02-28T00:00:00",
          "2020-02-28T00:00:00",
          "2020-02-28T00:00:00",
          "2020-02-28T00:00:00",
          "2020-02-28T00:00:00",
          "2020-02-28T00:00:00",
          "2020-02-28T00:00:00",
          "2020-02-28T00:00:00",
          "2020-02-28T00:00:00",
          "2020-02-28T00:00:00",
          "2020-02-28T00:00:00",
          "2020-02-28T00:00:00",
          "2020-02-28T00:00:00",
          "2020-02-28T00:00:00",
          "2020-02-28T00:00:00",
          "2020-02-28T00:00:00",
          "2020-02-28T00:00:00",
          "2020-02-28T00:00:00",
          "2020-02-28T00:00:00",
          "2020-02-28T00:00:00",
          "2020-02-28T00:00:00",
          "2020-02-28T00:00:00",
          "2020-02-28T00:00:00",
          "2020-02-28T00:00:00",
          "2020-02-28T00:00:00",
          "2020-02-28T00:00:00",
          "2020-02-28T00:00:00",
          "2020-02-28T00:00:00",
          "2020-02-28T00:00:00",
          "2020-02-28T00:00:00",
          "2020-02-28T00:00:00",
          "2020-02-28T00:00:00",
          "2020-02-28T00:00:00",
          "2020-02-28T00:00:00",
          "2020-02-28T00:00:00",
          "2020-02-28T00:00:00",
          "2020-02-28T00:00:00",
          "2020-02-28T00:00:00",
          "2020-02-28T00:00:00",
          "2020-02-28T00:00:00",
          "2020-02-28T00:00:00",
          "2020-02-28T00:00:00",
          "2020-02-28T00:00:00",
          "2020-02-28T00:00:00",
          "2020-02-28T00:00:00",
          "2020-02-28T00:00:00",
          "2020-02-28T00:00:00",
          "2020-02-28T00:00:00",
          "2020-02-28T00:00:00",
          "2020-02-28T00:00:00",
          "2020-02-28T00:00:00",
          "2020-02-28T00:00:00",
          "2020-02-28T00:00:00",
          "2020-02-28T00:00:00",
          "2020-02-28T00:00:00",
          "2020-02-28T00:00:00",
          "2020-02-28T00:00:00",
          "2020-02-28T00:00:00",
          "2020-02-28T00:00:00",
          "2020-02-28T00:00:00",
          "2020-02-28T00:00:00",
          "2020-02-28T00:00:00",
          "2020-02-28T00:00:00",
          "2020-02-28T00:00:00",
          "2020-02-28T00:00:00",
          "2020-02-28T00:00:00",
          "2020-02-28T00:00:00",
          "2020-02-28T00:00:00",
          "2020-02-28T00:00:00",
          "2020-02-28T00:00:00",
          "2020-02-28T00:00:00",
          "2020-02-28T00:00:00",
          "2020-02-28T00:00:00",
          "2020-02-28T00:00:00",
          "2020-02-28T00:00:00",
          "2020-02-28T00:00:00",
          "2020-02-28T00:00:00",
          "2020-02-28T00:00:00",
          "2020-02-28T00:00:00",
          "2020-02-28T00:00:00",
          "2020-02-28T00:00:00",
          "2020-02-28T00:00:00",
          "2020-02-28T00:00:00",
          "2020-02-28T00:00:00",
          "2020-02-28T00:00:00",
          "2020-02-28T00:00:00",
          "2020-02-28T00:00:00",
          "2020-02-28T00:00:00",
          "2020-02-28T00:00:00",
          "2020-02-28T00:00:00",
          "2020-02-28T00:00:00",
          "2020-02-28T00:00:00",
          "2020-02-28T00:00:00",
          "2020-02-28T00:00:00",
          "2020-02-28T00:00:00",
          "2020-02-28T00:00:00",
          "2020-02-28T00:00:00",
          "2020-02-28T00:00:00",
          "2020-02-28T00:00:00",
          "2020-02-28T00:00:00",
          "2020-02-28T00:00:00",
          "2020-02-28T00:00:00",
          "2020-02-28T00:00:00",
          "2020-02-28T00:00:00",
          "2020-02-28T00:00:00",
          "2020-02-28T00:00:00",
          "2020-02-28T00:00:00",
          "2020-02-28T00:00:00",
          "2020-02-28T00:00:00",
          "2020-02-28T00:00:00",
          "2020-02-28T00:00:00",
          "2020-02-28T00:00:00",
          "2020-02-28T00:00:00",
          "2020-02-28T00:00:00",
          "2020-02-28T00:00:00",
          "2020-02-28T00:00:00",
          "2020-02-28T00:00:00",
          "2020-02-28T00:00:00",
          "2020-02-28T00:00:00",
          "2020-02-28T00:00:00",
          "2020-02-28T00:00:00",
          "2020-02-28T00:00:00",
          "2020-02-28T00:00:00",
          "2020-02-28T00:00:00",
          "2020-02-28T00:00:00",
          "2020-02-28T00:00:00",
          "2020-02-28T00:00:00",
          "2020-02-28T00:00:00",
          "2020-02-28T00:00:00",
          "2020-02-28T00:00:00",
          "2020-02-28T00:00:00",
          "2020-02-28T00:00:00",
          "2020-02-28T00:00:00",
          "2020-02-28T00:00:00",
          "2020-02-28T00:00:00",
          "2020-02-28T00:00:00",
          "2020-02-28T00:00:00",
          "2020-02-28T00:00:00",
          "2020-02-28T00:00:00",
          "2020-02-28T00:00:00",
          "2020-02-28T00:00:00",
          "2020-02-28T00:00:00",
          "2020-02-28T00:00:00",
          "2020-02-28T00:00:00",
          "2020-02-28T00:00:00",
          "2020-02-28T00:00:00",
          "2020-02-28T00:00:00",
          "2020-02-28T00:00:00",
          "2020-02-28T00:00:00",
          "2020-02-28T00:00:00",
          "2020-02-28T00:00:00",
          "2020-02-28T00:00:00",
          "2020-02-28T00:00:00",
          "2020-02-28T00:00:00",
          "2020-02-28T00:00:00",
          "2020-02-28T00:00:00",
          "2020-02-28T00:00:00",
          "2020-02-28T00:00:00",
          "2020-02-28T00:00:00",
          "2020-02-28T00:00:00",
          "2020-02-28T00:00:00",
          "2020-02-28T00:00:00",
          "2020-02-28T00:00:00",
          "2020-02-28T00:00:00",
          "2020-02-28T00:00:00",
          "2020-02-28T00:00:00",
          "2020-02-28T00:00:00",
          "2020-02-28T00:00:00",
          "2020-02-28T00:00:00",
          "2020-02-28T00:00:00",
          "2020-02-28T00:00:00",
          "2020-02-28T00:00:00",
          "2020-02-28T00:00:00",
          "2020-02-28T00:00:00",
          "2020-02-28T00:00:00",
          "2020-02-28T00:00:00",
          "2020-02-28T00:00:00",
          "2020-02-28T00:00:00",
          "2020-02-28T00:00:00",
          "2020-02-28T00:00:00",
          "2020-02-28T00:00:00",
          "2020-02-28T00:00:00",
          "2020-02-28T00:00:00",
          "2020-02-28T00:00:00",
          "2020-02-28T00:00:00",
          "2020-02-28T00:00:00",
          "2020-02-28T00:00:00",
          "2020-02-28T00:00:00",
          "2020-02-28T00:00:00",
          "2020-02-28T00:00:00",
          "2020-02-28T00:00:00",
          "2020-02-28T00:00:00",
          "2020-02-28T00:00:00",
          "2020-02-28T00:00:00",
          "2020-02-28T00:00:00",
          "2020-02-28T00:00:00",
          "2020-02-28T00:00:00",
          "2020-02-28T00:00:00",
          "2020-02-28T00:00:00",
          "2020-02-28T00:00:00",
          "2020-02-28T00:00:00",
          "2020-02-28T00:00:00",
          "2020-02-28T00:00:00",
          "2020-02-28T00:00:00",
          "2020-02-28T00:00:00",
          "2020-02-28T00:00:00",
          "2020-02-28T00:00:00",
          "2020-02-28T00:00:00",
          "2020-02-28T00:00:00",
          "2020-02-28T00:00:00",
          "2020-02-28T00:00:00",
          "2020-02-28T00:00:00",
          "2020-02-28T00:00:00",
          "2020-02-28T00:00:00",
          "2020-02-28T00:00:00",
          "2020-02-28T00:00:00",
          "2020-02-28T00:00:00",
          "2020-02-28T00:00:00",
          "2020-02-28T00:00:00",
          "2020-02-28T00:00:00",
          "2020-02-28T00:00:00",
          "2020-02-28T00:00:00",
          "2020-02-28T00:00:00",
          "2020-02-28T00:00:00",
          "2020-02-27T00:00:00",
          "2020-02-27T00:00:00",
          "2020-02-27T00:00:00",
          "2020-02-27T00:00:00",
          "2020-02-27T00:00:00",
          "2020-02-27T00:00:00",
          "2020-02-27T00:00:00",
          "2020-02-27T00:00:00",
          "2020-02-27T00:00:00",
          "2020-02-27T00:00:00",
          "2020-02-27T00:00:00",
          "2020-02-27T00:00:00",
          "2020-02-27T00:00:00",
          "2020-02-27T00:00:00",
          "2020-02-27T00:00:00",
          "2020-02-27T00:00:00",
          "2020-02-27T00:00:00",
          "2020-02-27T00:00:00",
          "2020-02-27T00:00:00",
          "2020-02-27T00:00:00",
          "2020-02-27T00:00:00",
          "2020-02-27T00:00:00",
          "2020-02-27T00:00:00",
          "2020-02-27T00:00:00",
          "2020-02-27T00:00:00",
          "2020-02-27T00:00:00",
          "2020-02-27T00:00:00",
          "2020-02-27T00:00:00",
          "2020-02-27T00:00:00",
          "2020-02-27T00:00:00",
          "2020-02-27T00:00:00",
          "2020-02-27T00:00:00",
          "2020-02-27T00:00:00",
          "2020-02-27T00:00:00",
          "2020-02-27T00:00:00",
          "2020-02-27T00:00:00",
          "2020-02-27T00:00:00",
          "2020-02-27T00:00:00",
          "2020-02-27T00:00:00",
          "2020-02-27T00:00:00",
          "2020-02-27T00:00:00",
          "2020-02-27T00:00:00",
          "2020-02-27T00:00:00",
          "2020-02-27T00:00:00",
          "2020-02-27T00:00:00",
          "2020-02-27T00:00:00",
          "2020-02-27T00:00:00",
          "2020-02-27T00:00:00",
          "2020-02-27T00:00:00",
          "2020-02-27T00:00:00",
          "2020-02-27T00:00:00",
          "2020-02-27T00:00:00",
          "2020-02-27T00:00:00",
          "2020-02-27T00:00:00",
          "2020-02-27T00:00:00",
          "2020-02-27T00:00:00",
          "2020-02-27T00:00:00",
          "2020-02-27T00:00:00",
          "2020-02-27T00:00:00",
          "2020-02-27T00:00:00",
          "2020-02-27T00:00:00",
          "2020-02-27T00:00:00",
          "2020-02-27T00:00:00",
          "2020-02-27T00:00:00",
          "2020-02-27T00:00:00",
          "2020-02-27T00:00:00",
          "2020-02-27T00:00:00",
          "2020-02-27T00:00:00",
          "2020-02-27T00:00:00",
          "2020-02-27T00:00:00",
          "2020-02-27T00:00:00",
          "2020-02-27T00:00:00",
          "2020-02-27T00:00:00",
          "2020-02-27T00:00:00",
          "2020-02-27T00:00:00",
          "2020-02-27T00:00:00",
          "2020-02-27T00:00:00",
          "2020-02-27T00:00:00",
          "2020-02-27T00:00:00",
          "2020-02-27T00:00:00",
          "2020-02-27T00:00:00",
          "2020-02-27T00:00:00",
          "2020-02-27T00:00:00",
          "2020-02-27T00:00:00",
          "2020-02-27T00:00:00",
          "2020-02-27T00:00:00",
          "2020-02-27T00:00:00",
          "2020-02-27T00:00:00",
          "2020-02-27T00:00:00",
          "2020-02-27T00:00:00",
          "2020-02-27T00:00:00",
          "2020-02-27T00:00:00",
          "2020-02-27T00:00:00",
          "2020-02-27T00:00:00",
          "2020-02-27T00:00:00",
          "2020-02-27T00:00:00",
          "2020-02-27T00:00:00",
          "2020-02-27T00:00:00",
          "2020-02-27T00:00:00",
          "2020-02-27T00:00:00",
          "2020-02-27T00:00:00",
          "2020-02-27T00:00:00",
          "2020-02-27T00:00:00",
          "2020-02-27T00:00:00",
          "2020-02-27T00:00:00",
          "2020-02-27T00:00:00",
          "2020-02-27T00:00:00",
          "2020-02-27T00:00:00",
          "2020-02-27T00:00:00",
          "2020-02-27T00:00:00",
          "2020-02-27T00:00:00",
          "2020-02-27T00:00:00",
          "2020-02-27T00:00:00",
          "2020-02-27T00:00:00",
          "2020-02-27T00:00:00",
          "2020-02-27T00:00:00",
          "2020-02-27T00:00:00",
          "2020-02-27T00:00:00",
          "2020-02-27T00:00:00",
          "2020-02-27T00:00:00",
          "2020-02-27T00:00:00",
          "2020-02-27T00:00:00",
          "2020-02-27T00:00:00",
          "2020-02-27T00:00:00",
          "2020-02-27T00:00:00",
          "2020-02-27T00:00:00",
          "2020-02-27T00:00:00",
          "2020-02-27T00:00:00",
          "2020-02-27T00:00:00",
          "2020-02-27T00:00:00",
          "2020-02-27T00:00:00",
          "2020-02-27T00:00:00",
          "2020-02-27T00:00:00",
          "2020-02-27T00:00:00",
          "2020-02-27T00:00:00",
          "2020-02-27T00:00:00",
          "2020-02-27T00:00:00",
          "2020-02-27T00:00:00",
          "2020-02-27T00:00:00",
          "2020-02-27T00:00:00",
          "2020-02-27T00:00:00",
          "2020-02-27T00:00:00",
          "2020-02-27T00:00:00",
          "2020-02-27T00:00:00",
          "2020-02-27T00:00:00",
          "2020-02-27T00:00:00",
          "2020-02-27T00:00:00",
          "2020-02-27T00:00:00",
          "2020-02-27T00:00:00",
          "2020-02-27T00:00:00",
          "2020-02-27T00:00:00",
          "2020-02-27T00:00:00",
          "2020-02-27T00:00:00",
          "2020-02-27T00:00:00",
          "2020-02-27T00:00:00",
          "2020-02-27T00:00:00",
          "2020-02-27T00:00:00",
          "2020-02-27T00:00:00",
          "2020-02-27T00:00:00",
          "2020-02-27T00:00:00",
          "2020-02-27T00:00:00",
          "2020-02-27T00:00:00",
          "2020-02-27T00:00:00",
          "2020-02-27T00:00:00",
          "2020-02-27T00:00:00",
          "2020-02-27T00:00:00",
          "2020-02-27T00:00:00",
          "2020-02-27T00:00:00",
          "2020-02-27T00:00:00",
          "2020-02-27T00:00:00",
          "2020-02-27T00:00:00",
          "2020-02-27T00:00:00",
          "2020-02-27T00:00:00",
          "2020-02-27T00:00:00",
          "2020-02-27T00:00:00",
          "2020-02-27T00:00:00",
          "2020-02-27T00:00:00",
          "2020-02-27T00:00:00",
          "2020-02-27T00:00:00",
          "2020-02-27T00:00:00",
          "2020-02-27T00:00:00",
          "2020-02-27T00:00:00",
          "2020-02-27T00:00:00",
          "2020-02-27T00:00:00",
          "2020-02-27T00:00:00",
          "2020-02-27T00:00:00",
          "2020-02-27T00:00:00",
          "2020-02-27T00:00:00",
          "2020-02-27T00:00:00",
          "2020-02-27T00:00:00",
          "2020-02-27T00:00:00",
          "2020-02-27T00:00:00",
          "2020-02-27T00:00:00",
          "2020-02-27T00:00:00",
          "2020-02-27T00:00:00",
          "2020-02-27T00:00:00",
          "2020-02-27T00:00:00",
          "2020-02-27T00:00:00",
          "2020-02-27T00:00:00",
          "2020-02-27T00:00:00",
          "2020-02-27T00:00:00",
          "2020-02-27T00:00:00",
          "2020-02-27T00:00:00",
          "2020-02-27T00:00:00",
          "2020-02-27T00:00:00",
          "2020-02-27T00:00:00",
          "2020-02-27T00:00:00",
          "2020-02-27T00:00:00",
          "2020-02-27T00:00:00",
          "2020-02-27T00:00:00",
          "2020-02-27T00:00:00",
          "2020-02-27T00:00:00",
          "2020-02-27T00:00:00",
          "2020-02-27T00:00:00",
          "2020-02-27T00:00:00",
          "2020-02-27T00:00:00",
          "2020-02-27T00:00:00",
          "2020-02-27T00:00:00",
          "2020-02-27T00:00:00",
          "2020-02-27T00:00:00",
          "2020-02-27T00:00:00",
          "2020-02-27T00:00:00",
          "2020-02-27T00:00:00",
          "2020-02-27T00:00:00",
          "2020-02-27T00:00:00",
          "2020-02-27T00:00:00",
          "2020-02-27T00:00:00",
          "2020-02-27T00:00:00",
          "2020-02-27T00:00:00",
          "2020-02-27T00:00:00",
          "2020-02-27T00:00:00",
          "2020-02-27T00:00:00",
          "2020-02-27T00:00:00",
          "2020-02-27T00:00:00",
          "2020-02-27T00:00:00",
          "2020-02-27T00:00:00",
          "2020-02-27T00:00:00",
          "2020-02-27T00:00:00",
          "2020-02-27T00:00:00",
          "2020-02-27T00:00:00",
          "2020-02-27T00:00:00",
          "2020-02-27T00:00:00",
          "2020-02-27T00:00:00",
          "2020-02-27T00:00:00",
          "2020-02-27T00:00:00",
          "2020-02-27T00:00:00",
          "2020-02-27T00:00:00",
          "2020-02-27T00:00:00",
          "2020-02-27T00:00:00",
          "2020-02-27T00:00:00",
          "2020-02-27T00:00:00",
          "2020-02-27T00:00:00",
          "2020-02-27T00:00:00",
          "2020-02-27T00:00:00",
          "2020-02-27T00:00:00",
          "2020-02-27T00:00:00",
          "2020-02-27T00:00:00",
          "2020-02-27T00:00:00",
          "2020-02-27T00:00:00",
          "2020-02-27T00:00:00",
          "2020-02-27T00:00:00",
          "2020-02-27T00:00:00",
          "2020-02-27T00:00:00",
          "2020-02-26T00:00:00",
          "2020-02-26T00:00:00",
          "2020-02-26T00:00:00",
          "2020-02-26T00:00:00",
          "2020-02-26T00:00:00",
          "2020-02-26T00:00:00",
          "2020-02-26T00:00:00",
          "2020-02-26T00:00:00",
          "2020-02-26T00:00:00",
          "2020-02-26T00:00:00",
          "2020-02-26T00:00:00",
          "2020-02-26T00:00:00",
          "2020-02-26T00:00:00",
          "2020-02-26T00:00:00",
          "2020-02-26T00:00:00",
          "2020-02-26T00:00:00",
          "2020-02-26T00:00:00",
          "2020-02-26T00:00:00",
          "2020-02-26T00:00:00",
          "2020-02-26T00:00:00",
          "2020-02-26T00:00:00",
          "2020-02-26T00:00:00",
          "2020-02-26T00:00:00",
          "2020-02-26T00:00:00",
          "2020-02-26T00:00:00",
          "2020-02-26T00:00:00",
          "2020-02-26T00:00:00",
          "2020-02-26T00:00:00",
          "2020-02-26T00:00:00",
          "2020-02-26T00:00:00",
          "2020-02-26T00:00:00",
          "2020-02-26T00:00:00",
          "2020-02-26T00:00:00",
          "2020-02-26T00:00:00",
          "2020-02-26T00:00:00",
          "2020-02-26T00:00:00",
          "2020-02-26T00:00:00",
          "2020-02-26T00:00:00",
          "2020-02-26T00:00:00",
          "2020-02-26T00:00:00",
          "2020-02-26T00:00:00",
          "2020-02-26T00:00:00",
          "2020-02-26T00:00:00",
          "2020-02-26T00:00:00",
          "2020-02-26T00:00:00",
          "2020-02-26T00:00:00",
          "2020-02-26T00:00:00",
          "2020-02-26T00:00:00",
          "2020-02-26T00:00:00",
          "2020-02-26T00:00:00",
          "2020-02-26T00:00:00",
          "2020-02-26T00:00:00",
          "2020-02-26T00:00:00",
          "2020-02-26T00:00:00",
          "2020-02-26T00:00:00",
          "2020-02-26T00:00:00",
          "2020-02-26T00:00:00",
          "2020-02-26T00:00:00",
          "2020-02-26T00:00:00",
          "2020-02-26T00:00:00",
          "2020-02-26T00:00:00",
          "2020-02-26T00:00:00",
          "2020-02-26T00:00:00",
          "2020-02-26T00:00:00",
          "2020-02-26T00:00:00",
          "2020-02-26T00:00:00",
          "2020-02-26T00:00:00",
          "2020-02-26T00:00:00",
          "2020-02-26T00:00:00",
          "2020-02-26T00:00:00",
          "2020-02-26T00:00:00",
          "2020-02-26T00:00:00",
          "2020-02-26T00:00:00",
          "2020-02-26T00:00:00",
          "2020-02-26T00:00:00",
          "2020-02-26T00:00:00",
          "2020-02-26T00:00:00",
          "2020-02-26T00:00:00",
          "2020-02-26T00:00:00",
          "2020-02-26T00:00:00",
          "2020-02-26T00:00:00",
          "2020-02-26T00:00:00",
          "2020-02-26T00:00:00",
          "2020-02-26T00:00:00",
          "2020-02-26T00:00:00",
          "2020-02-26T00:00:00",
          "2020-02-26T00:00:00",
          "2020-02-26T00:00:00",
          "2020-02-26T00:00:00",
          "2020-02-26T00:00:00",
          "2020-02-26T00:00:00",
          "2020-02-26T00:00:00",
          "2020-02-26T00:00:00",
          "2020-02-26T00:00:00",
          "2020-02-26T00:00:00",
          "2020-02-26T00:00:00",
          "2020-02-26T00:00:00",
          "2020-02-26T00:00:00",
          "2020-02-26T00:00:00",
          "2020-02-26T00:00:00",
          "2020-02-26T00:00:00",
          "2020-02-26T00:00:00",
          "2020-02-26T00:00:00",
          "2020-02-26T00:00:00",
          "2020-02-26T00:00:00",
          "2020-02-26T00:00:00",
          "2020-02-26T00:00:00",
          "2020-02-26T00:00:00",
          "2020-02-26T00:00:00",
          "2020-02-26T00:00:00",
          "2020-02-26T00:00:00",
          "2020-02-26T00:00:00",
          "2020-02-26T00:00:00",
          "2020-02-26T00:00:00",
          "2020-02-26T00:00:00",
          "2020-02-26T00:00:00",
          "2020-02-26T00:00:00",
          "2020-02-26T00:00:00",
          "2020-02-26T00:00:00",
          "2020-02-26T00:00:00",
          "2020-02-26T00:00:00",
          "2020-02-26T00:00:00",
          "2020-02-26T00:00:00",
          "2020-02-26T00:00:00",
          "2020-02-26T00:00:00",
          "2020-02-26T00:00:00",
          "2020-02-26T00:00:00",
          "2020-02-26T00:00:00",
          "2020-02-26T00:00:00",
          "2020-02-26T00:00:00",
          "2020-02-26T00:00:00",
          "2020-02-26T00:00:00",
          "2020-02-26T00:00:00",
          "2020-02-26T00:00:00",
          "2020-02-26T00:00:00",
          "2020-02-26T00:00:00",
          "2020-02-26T00:00:00",
          "2020-02-26T00:00:00",
          "2020-02-26T00:00:00",
          "2020-02-26T00:00:00",
          "2020-02-26T00:00:00",
          "2020-02-26T00:00:00",
          "2020-02-26T00:00:00",
          "2020-02-26T00:00:00",
          "2020-02-26T00:00:00",
          "2020-02-26T00:00:00",
          "2020-02-26T00:00:00",
          "2020-02-26T00:00:00",
          "2020-02-26T00:00:00",
          "2020-02-26T00:00:00",
          "2020-02-26T00:00:00",
          "2020-02-26T00:00:00",
          "2020-02-26T00:00:00",
          "2020-02-26T00:00:00",
          "2020-02-26T00:00:00",
          "2020-02-26T00:00:00",
          "2020-02-26T00:00:00",
          "2020-02-26T00:00:00",
          "2020-02-26T00:00:00",
          "2020-02-26T00:00:00",
          "2020-02-26T00:00:00",
          "2020-02-26T00:00:00",
          "2020-02-26T00:00:00",
          "2020-02-26T00:00:00",
          "2020-03-03T00:00:00",
          "2020-03-03T00:00:00",
          "2020-03-03T00:00:00",
          "2020-03-03T00:00:00",
          "2020-03-03T00:00:00",
          "2020-03-03T00:00:00",
          "2020-03-03T00:00:00",
          "2020-03-03T00:00:00",
          "2020-03-03T00:00:00",
          "2020-03-03T00:00:00",
          "2020-02-26T00:00:00",
          "2020-02-26T00:00:00",
          "2020-02-26T00:00:00",
          "2020-02-26T00:00:00",
          "2020-02-26T00:00:00",
          "2020-02-26T00:00:00",
          "2020-02-26T00:00:00",
          "2020-02-26T00:00:00",
          "2020-02-26T00:00:00",
          "2020-02-26T00:00:00",
          "2020-02-26T00:00:00",
          "2020-02-26T00:00:00",
          "2020-02-26T00:00:00",
          "2020-02-26T00:00:00",
          "2020-02-26T00:00:00",
          "2020-02-26T00:00:00",
          "2020-02-26T00:00:00",
          "2020-02-26T00:00:00",
          "2020-02-26T00:00:00",
          "2020-02-26T00:00:00",
          "2020-02-26T00:00:00",
          "2020-02-26T00:00:00",
          "2020-02-26T00:00:00",
          "2020-02-26T00:00:00",
          "2020-02-26T00:00:00",
          "2020-02-26T00:00:00",
          "2020-02-26T00:00:00",
          "2020-02-26T00:00:00",
          "2020-02-26T00:00:00",
          "2020-02-26T00:00:00",
          "2020-02-26T00:00:00",
          "2020-02-26T00:00:00",
          "2020-02-26T00:00:00",
          "2020-02-26T00:00:00",
          "2020-02-26T00:00:00",
          "2020-02-26T00:00:00",
          "2020-02-26T00:00:00",
          "2020-02-26T00:00:00",
          "2020-02-26T00:00:00",
          "2020-02-26T00:00:00",
          "2020-02-26T00:00:00",
          "2020-02-26T00:00:00",
          "2020-02-26T00:00:00",
          "2020-02-26T00:00:00",
          "2020-02-26T00:00:00",
          "2020-02-26T00:00:00",
          "2020-02-26T00:00:00",
          "2020-02-26T00:00:00",
          "2020-02-26T00:00:00",
          "2020-02-26T00:00:00",
          "2020-02-26T00:00:00",
          "2020-02-26T00:00:00",
          "2020-02-25T00:00:00",
          "2020-02-25T00:00:00",
          "2020-02-25T00:00:00",
          "2020-02-25T00:00:00",
          "2020-02-25T00:00:00",
          "2020-02-25T00:00:00",
          "2020-02-25T00:00:00",
          "2020-02-25T00:00:00",
          "2020-02-25T00:00:00",
          "2020-02-25T00:00:00",
          "2020-02-25T00:00:00",
          "2020-02-25T00:00:00",
          "2020-02-25T00:00:00",
          "2020-02-25T00:00:00",
          "2020-02-25T00:00:00",
          "2020-02-25T00:00:00",
          "2020-02-25T00:00:00",
          "2020-02-25T00:00:00",
          "2020-02-25T00:00:00",
          "2020-02-25T00:00:00",
          "2020-02-25T00:00:00",
          "2020-02-25T00:00:00",
          "2020-02-25T00:00:00",
          "2020-02-25T00:00:00",
          "2020-02-25T00:00:00",
          "2020-02-25T00:00:00",
          "2020-02-25T00:00:00",
          "2020-03-02T00:00:00",
          "2020-03-02T00:00:00",
          "2020-03-02T00:00:00",
          "2020-03-02T00:00:00",
          "2020-03-02T00:00:00",
          "2020-03-02T00:00:00",
          "2020-03-02T00:00:00",
          "2020-03-02T00:00:00",
          "2020-03-02T00:00:00",
          "2020-03-02T00:00:00",
          "2020-03-02T00:00:00",
          "2020-03-02T00:00:00",
          "2020-03-02T00:00:00",
          "2020-03-02T00:00:00",
          "2020-03-02T00:00:00",
          "2020-03-02T00:00:00",
          "2020-03-02T00:00:00",
          "2020-03-02T00:00:00",
          "2020-03-02T00:00:00",
          "2020-03-02T00:00:00",
          "2020-03-02T00:00:00",
          "2020-03-02T00:00:00",
          "2020-03-02T00:00:00",
          "2020-03-02T00:00:00",
          "2020-03-02T00:00:00",
          "2020-03-02T00:00:00",
          "2020-03-02T00:00:00",
          "2020-03-02T00:00:00",
          "2020-03-02T00:00:00",
          "2020-03-02T00:00:00",
          "2020-03-02T00:00:00",
          "2020-03-02T00:00:00",
          "2020-03-02T00:00:00",
          "2020-03-02T00:00:00",
          "2020-03-02T00:00:00",
          "2020-03-02T00:00:00",
          "2020-03-02T00:00:00",
          "2020-03-02T00:00:00",
          "2020-03-02T00:00:00",
          "2020-03-02T00:00:00",
          "2020-03-02T00:00:00",
          "2020-03-02T00:00:00",
          "2020-03-02T00:00:00",
          "2020-03-02T00:00:00",
          "2020-03-02T00:00:00",
          "2020-03-02T00:00:00",
          "2020-03-02T00:00:00",
          "2020-03-02T00:00:00",
          "2020-03-02T00:00:00",
          "2020-03-02T00:00:00",
          "2020-03-02T00:00:00",
          "2020-03-02T00:00:00",
          "2020-03-02T00:00:00",
          "2020-03-02T00:00:00",
          "2020-03-02T00:00:00",
          "2020-03-02T00:00:00",
          "2020-03-02T00:00:00",
          "2020-03-02T00:00:00",
          "2020-03-02T00:00:00",
          "2020-03-02T00:00:00",
          "2020-03-02T00:00:00",
          "2020-03-02T00:00:00",
          "2020-03-02T00:00:00",
          "2020-03-02T00:00:00",
          "2020-03-02T00:00:00",
          "2020-03-02T00:00:00",
          "2020-03-02T00:00:00",
          "2020-03-02T00:00:00",
          "2020-03-02T00:00:00",
          "2020-03-02T00:00:00",
          "2020-03-02T00:00:00",
          "2020-03-02T00:00:00",
          "2020-03-02T00:00:00",
          "2020-03-02T00:00:00",
          "2020-03-02T00:00:00",
          "2020-03-02T00:00:00",
          "2020-03-02T00:00:00",
          "2020-03-02T00:00:00",
          "2020-03-02T00:00:00",
          "2020-03-02T00:00:00",
          "2020-03-02T00:00:00",
          "2020-03-02T00:00:00",
          "2020-03-02T00:00:00",
          "2020-03-02T00:00:00",
          "2020-03-02T00:00:00",
          "2020-03-02T00:00:00",
          "2020-03-02T00:00:00",
          "2020-03-02T00:00:00",
          "2020-03-02T00:00:00",
          "2020-03-02T00:00:00",
          "2020-03-02T00:00:00",
          "2020-03-02T00:00:00",
          "2020-03-02T00:00:00",
          "2020-03-02T00:00:00",
          "2020-03-02T00:00:00",
          "2020-03-02T00:00:00",
          "2020-03-02T00:00:00",
          "2020-03-02T00:00:00",
          "2020-03-02T00:00:00",
          "2020-03-02T00:00:00",
          "2020-03-02T00:00:00",
          "2020-03-02T00:00:00",
          "2020-03-02T00:00:00",
          "2020-03-02T00:00:00",
          "2020-03-02T00:00:00",
          "2020-03-02T00:00:00",
          "2020-03-02T00:00:00",
          "2020-03-02T00:00:00",
          "2020-03-02T00:00:00",
          "2020-03-02T00:00:00",
          "2020-03-02T00:00:00",
          "2020-03-02T00:00:00",
          "2020-03-02T00:00:00",
          "2020-03-02T00:00:00",
          "2020-03-02T00:00:00",
          "2020-03-02T00:00:00",
          "2020-03-02T00:00:00",
          "2020-03-02T00:00:00",
          "2020-03-02T00:00:00",
          "2020-03-02T00:00:00",
          "2020-03-02T00:00:00",
          "2020-03-02T00:00:00",
          "2020-03-02T00:00:00",
          "2020-03-02T00:00:00",
          "2020-03-02T00:00:00",
          "2020-03-02T00:00:00",
          "2020-03-02T00:00:00",
          "2020-03-02T00:00:00",
          "2020-03-02T00:00:00",
          "2020-03-02T00:00:00",
          "2020-03-02T00:00:00",
          "2020-03-02T00:00:00",
          "2020-03-02T00:00:00",
          "2020-03-02T00:00:00",
          "2020-03-02T00:00:00",
          "2020-03-02T00:00:00",
          "2020-03-02T00:00:00",
          "2020-03-02T00:00:00",
          "2020-03-02T00:00:00",
          "2020-03-02T00:00:00",
          "2020-03-02T00:00:00",
          "2020-03-02T00:00:00",
          "2020-03-02T00:00:00",
          "2020-03-02T00:00:00",
          "2020-03-02T00:00:00",
          "2020-03-02T00:00:00",
          "2020-03-02T00:00:00",
          "2020-03-02T00:00:00",
          "2020-03-02T00:00:00",
          "2020-03-02T00:00:00",
          "2020-03-02T00:00:00",
          "2020-03-02T00:00:00",
          "2020-03-02T00:00:00",
          "2020-03-02T00:00:00",
          "2020-03-02T00:00:00",
          "2020-03-02T00:00:00",
          "2020-03-02T00:00:00",
          "2020-03-02T00:00:00",
          "2020-03-02T00:00:00",
          "2020-03-02T00:00:00",
          "2020-03-02T00:00:00",
          "2020-03-02T00:00:00",
          "2020-03-02T00:00:00",
          "2020-03-02T00:00:00",
          "2020-03-02T00:00:00",
          "2020-03-02T00:00:00",
          "2020-03-02T00:00:00",
          "2020-03-02T00:00:00",
          "2020-03-02T00:00:00",
          "2020-03-02T00:00:00",
          "2020-03-02T00:00:00",
          "2020-03-02T00:00:00",
          "2020-03-02T00:00:00",
          "2020-03-02T00:00:00",
          "2020-03-02T00:00:00",
          "2020-03-02T00:00:00",
          "2020-03-02T00:00:00",
          "2020-03-02T00:00:00",
          "2020-03-02T00:00:00",
          "2020-03-02T00:00:00",
          "2020-03-02T00:00:00",
          "2020-03-02T00:00:00",
          "2020-03-02T00:00:00",
          "2020-03-02T00:00:00",
          "2020-03-02T00:00:00",
          "2020-03-02T00:00:00",
          "2020-03-02T00:00:00",
          "2020-03-02T00:00:00",
          "2020-03-02T00:00:00",
          "2020-03-02T00:00:00",
          "2020-03-02T00:00:00",
          "2020-03-02T00:00:00",
          "2020-03-02T00:00:00",
          "2020-03-02T00:00:00",
          "2020-03-02T00:00:00",
          "2020-03-02T00:00:00",
          "2020-03-02T00:00:00",
          "2020-03-02T00:00:00",
          "2020-03-02T00:00:00",
          "2020-03-02T00:00:00",
          "2020-03-02T00:00:00",
          "2020-03-02T00:00:00",
          "2020-03-02T00:00:00",
          "2020-03-02T00:00:00",
          "2020-03-02T00:00:00",
          "2020-03-02T00:00:00",
          "2020-03-02T00:00:00",
          "2020-03-02T00:00:00",
          "2020-03-02T00:00:00",
          "2020-03-02T00:00:00",
          "2020-03-02T00:00:00",
          "2020-03-02T00:00:00",
          "2020-03-02T00:00:00",
          "2020-03-02T00:00:00",
          "2020-03-02T00:00:00",
          "2020-03-02T00:00:00",
          "2020-03-02T00:00:00",
          "2020-03-01T00:00:00",
          "2020-03-01T00:00:00",
          "2020-03-01T00:00:00",
          "2020-03-01T00:00:00",
          "2020-03-01T00:00:00",
          "2020-03-01T00:00:00",
          "2020-03-01T00:00:00",
          "2020-03-01T00:00:00",
          "2020-03-01T00:00:00",
          "2020-03-01T00:00:00",
          "2020-03-01T00:00:00",
          "2020-03-01T00:00:00",
          "2020-03-01T00:00:00",
          "2020-03-01T00:00:00",
          "2020-03-01T00:00:00",
          "2020-03-01T00:00:00",
          "2020-03-01T00:00:00",
          "2020-03-01T00:00:00",
          "2020-03-01T00:00:00",
          "2020-03-01T00:00:00",
          "2020-03-01T00:00:00",
          "2020-03-01T00:00:00",
          "2020-03-01T00:00:00",
          "2020-03-01T00:00:00",
          "2020-03-01T00:00:00",
          "2020-03-01T00:00:00",
          "2020-03-01T00:00:00",
          "2020-03-01T00:00:00",
          "2020-03-01T00:00:00",
          "2020-03-01T00:00:00",
          "2020-03-01T00:00:00",
          "2020-03-01T00:00:00",
          "2020-03-01T00:00:00",
          "2020-03-01T00:00:00",
          "2020-03-01T00:00:00",
          "2020-03-01T00:00:00",
          "2020-03-01T00:00:00",
          "2020-03-01T00:00:00",
          "2020-03-01T00:00:00",
          "2020-03-01T00:00:00",
          "2020-03-01T00:00:00",
          "2020-03-01T00:00:00",
          "2020-03-01T00:00:00",
          "2020-03-01T00:00:00",
          "2020-03-01T00:00:00",
          "2020-03-01T00:00:00",
          "2020-03-01T00:00:00",
          "2020-03-01T00:00:00",
          "2020-03-01T00:00:00",
          "2020-03-01T00:00:00",
          "2020-03-01T00:00:00",
          "2020-03-01T00:00:00",
          "2020-03-01T00:00:00",
          "2020-03-01T00:00:00",
          "2020-03-01T00:00:00",
          "2020-03-01T00:00:00",
          "2020-03-01T00:00:00",
          "2020-03-01T00:00:00",
          "2020-03-01T00:00:00",
          "2020-03-01T00:00:00",
          "2020-03-01T00:00:00",
          "2020-03-01T00:00:00",
          "2020-03-01T00:00:00",
          "2020-03-01T00:00:00",
          "2020-03-01T00:00:00",
          "2020-03-01T00:00:00",
          "2020-03-01T00:00:00",
          "2020-03-01T00:00:00",
          "2020-03-01T00:00:00",
          "2020-03-01T00:00:00",
          "2020-03-01T00:00:00",
          "2020-03-01T00:00:00",
          "2020-03-01T00:00:00",
          "2020-03-01T00:00:00",
          "2020-03-01T00:00:00",
          "2020-03-01T00:00:00",
          "2020-03-01T00:00:00",
          "2020-03-01T00:00:00",
          "2020-03-01T00:00:00",
          "2020-03-01T00:00:00",
          "2020-03-01T00:00:00",
          "2020-03-01T00:00:00",
          "2020-03-01T00:00:00",
          "2020-03-01T00:00:00",
          "2020-03-01T00:00:00",
          "2020-03-01T00:00:00",
          "2020-03-01T00:00:00",
          "2020-03-01T00:00:00",
          "2020-03-01T00:00:00",
          "2020-03-01T00:00:00",
          "2020-03-01T00:00:00",
          "2020-03-01T00:00:00",
          "2020-03-01T00:00:00",
          "2020-03-01T00:00:00",
          "2020-03-01T00:00:00",
          "2020-03-01T00:00:00",
          "2020-03-01T00:00:00",
          "2020-03-01T00:00:00",
          "2020-03-01T00:00:00",
          "2020-03-01T00:00:00",
          "2020-03-01T00:00:00",
          "2020-03-01T00:00:00",
          "2020-03-01T00:00:00",
          "2020-03-01T00:00:00",
          "2020-03-01T00:00:00",
          "2020-03-01T00:00:00",
          "2020-03-01T00:00:00",
          "2020-03-01T00:00:00",
          "2020-03-01T00:00:00",
          "2020-03-01T00:00:00",
          "2020-03-01T00:00:00",
          "2020-03-01T00:00:00",
          "2020-03-01T00:00:00",
          "2020-03-01T00:00:00",
          "2020-03-01T00:00:00",
          "2020-03-01T00:00:00",
          "2020-03-01T00:00:00",
          "2020-03-01T00:00:00",
          "2020-03-01T00:00:00",
          "2020-03-01T00:00:00",
          "2020-03-01T00:00:00",
          "2020-03-01T00:00:00",
          "2020-03-01T00:00:00",
          "2020-03-01T00:00:00",
          "2020-03-01T00:00:00",
          "2020-03-01T00:00:00",
          "2020-03-01T00:00:00",
          "2020-03-01T00:00:00",
          "2020-03-01T00:00:00",
          "2020-03-01T00:00:00",
          "2020-03-01T00:00:00",
          "2020-03-01T00:00:00",
          "2020-03-01T00:00:00",
          "2020-03-01T00:00:00",
          "2020-03-01T00:00:00",
          "2020-03-01T00:00:00",
          "2020-03-01T00:00:00",
          "2020-03-01T00:00:00",
          "2020-03-01T00:00:00",
          "2020-03-01T00:00:00",
          "2020-03-01T00:00:00",
          "2020-03-01T00:00:00",
          "2020-03-01T00:00:00",
          "2020-03-01T00:00:00",
          "2020-03-01T00:00:00",
          "2020-03-01T00:00:00",
          "2020-03-01T00:00:00",
          "2020-03-01T00:00:00",
          "2020-03-01T00:00:00",
          "2020-03-01T00:00:00",
          "2020-03-01T00:00:00",
          "2020-03-01T00:00:00",
          "2020-03-01T00:00:00",
          "2020-03-01T00:00:00",
          "2020-03-01T00:00:00",
          "2020-03-01T00:00:00",
          "2020-03-01T00:00:00",
          "2020-03-01T00:00:00",
          "2020-03-01T00:00:00",
          "2020-03-01T00:00:00",
          "2020-03-01T00:00:00",
          "2020-03-01T00:00:00",
          "2020-03-01T00:00:00",
          "2020-02-29T00:00:00",
          "2020-02-29T00:00:00",
          "2020-02-29T00:00:00",
          "2020-02-29T00:00:00",
          "2020-02-29T00:00:00",
          "2020-02-29T00:00:00",
          "2020-02-29T00:00:00",
          "2020-02-29T00:00:00",
          "2020-02-29T00:00:00",
          "2020-02-29T00:00:00",
          "2020-02-29T00:00:00",
          "2020-02-29T00:00:00",
          "2020-02-29T00:00:00",
          "2020-02-29T00:00:00",
          "2020-02-29T00:00:00",
          "2020-02-29T00:00:00",
          "2020-02-29T00:00:00",
          "2020-02-29T00:00:00",
          "2020-02-29T00:00:00",
          "2020-02-29T00:00:00",
          "2020-02-29T00:00:00",
          "2020-02-29T00:00:00",
          "2020-02-29T00:00:00",
          "2020-02-29T00:00:00",
          "2020-02-29T00:00:00",
          "2020-02-29T00:00:00",
          "2020-02-29T00:00:00",
          "2020-02-29T00:00:00",
          "2020-02-29T00:00:00",
          "2020-02-29T00:00:00",
          "2020-02-29T00:00:00",
          "2020-02-29T00:00:00",
          "2020-02-29T00:00:00",
          "2020-02-29T00:00:00",
          "2020-02-29T00:00:00",
          "2020-02-29T00:00:00",
          "2020-02-29T00:00:00",
          "2020-02-29T00:00:00",
          "2020-02-29T00:00:00",
          "2020-02-29T00:00:00",
          "2020-02-29T00:00:00",
          "2020-02-29T00:00:00",
          "2020-02-29T00:00:00",
          "2020-02-29T00:00:00",
          "2020-02-29T00:00:00",
          "2020-02-29T00:00:00",
          "2020-02-29T00:00:00",
          "2020-02-29T00:00:00",
          "2020-02-29T00:00:00",
          "2020-02-29T00:00:00",
          "2020-02-29T00:00:00",
          "2020-02-29T00:00:00",
          "2020-02-29T00:00:00",
          "2020-02-29T00:00:00",
          "2020-02-29T00:00:00",
          "2020-02-29T00:00:00",
          "2020-02-29T00:00:00",
          "2020-02-29T00:00:00",
          "2020-02-29T00:00:00",
          "2020-02-29T00:00:00",
          "2020-02-29T00:00:00",
          "2020-02-29T00:00:00",
          "2020-02-29T00:00:00",
          "2020-02-29T00:00:00",
          "2020-02-29T00:00:00",
          "2020-02-29T00:00:00",
          "2020-02-29T00:00:00",
          "2020-02-29T00:00:00",
          "2020-02-29T00:00:00",
          "2020-02-29T00:00:00",
          "2020-02-29T00:00:00",
          "2020-02-29T00:00:00",
          "2020-02-29T00:00:00",
          "2020-02-29T00:00:00",
          "2020-02-29T00:00:00",
          "2020-02-29T00:00:00",
          "2020-02-29T00:00:00",
          "2020-02-29T00:00:00",
          "2020-02-29T00:00:00",
          "2020-02-29T00:00:00",
          "2020-02-29T00:00:00",
          "2020-02-29T00:00:00",
          "2020-02-29T00:00:00",
          "2020-02-29T00:00:00",
          "2020-02-29T00:00:00",
          "2020-02-29T00:00:00",
          "2020-02-29T00:00:00",
          "2020-02-29T00:00:00",
          "2020-02-29T00:00:00",
          "2020-02-29T00:00:00",
          "2020-02-29T00:00:00",
          "2020-02-29T00:00:00",
          "2020-02-29T00:00:00",
          "2020-02-29T00:00:00",
          "2020-02-29T00:00:00",
          "2020-02-29T00:00:00",
          "2020-02-29T00:00:00",
          "2020-02-29T00:00:00",
          "2020-02-29T00:00:00",
          "2020-02-29T00:00:00",
          "2020-02-29T00:00:00",
          "2020-02-29T00:00:00",
          "2020-02-29T00:00:00",
          "2020-02-29T00:00:00",
          "2020-02-29T00:00:00",
          "2020-02-29T00:00:00",
          "2020-02-29T00:00:00",
          "2020-02-29T00:00:00",
          "2020-02-29T00:00:00",
          "2020-02-29T00:00:00",
          "2020-02-29T00:00:00",
          "2020-02-29T00:00:00",
          "2020-02-29T00:00:00",
          "2020-02-29T00:00:00",
          "2020-02-29T00:00:00",
          "2020-02-29T00:00:00",
          "2020-02-29T00:00:00",
          "2020-02-29T00:00:00",
          "2020-02-29T00:00:00",
          "2020-02-29T00:00:00",
          "2020-02-29T00:00:00",
          "2020-02-29T00:00:00",
          "2020-02-29T00:00:00",
          "2020-02-29T00:00:00",
          "2020-02-29T00:00:00",
          "2020-02-29T00:00:00",
          "2020-02-29T00:00:00",
          "2020-02-29T00:00:00",
          "2020-02-28T00:00:00",
          "2020-02-28T00:00:00",
          "2020-02-28T00:00:00",
          "2020-02-28T00:00:00",
          "2020-02-28T00:00:00",
          "2020-02-28T00:00:00",
          "2020-02-28T00:00:00",
          "2020-02-28T00:00:00",
          "2020-02-28T00:00:00",
          "2020-02-28T00:00:00",
          "2020-02-28T00:00:00",
          "2020-02-28T00:00:00",
          "2020-02-28T00:00:00",
          "2020-02-28T00:00:00",
          "2020-02-28T00:00:00",
          "2020-02-28T00:00:00",
          "2020-02-28T00:00:00",
          "2020-02-28T00:00:00",
          "2020-02-28T00:00:00",
          "2020-02-28T00:00:00",
          "2020-02-28T00:00:00",
          "2020-02-28T00:00:00",
          "2020-02-28T00:00:00",
          "2020-02-28T00:00:00",
          "2020-02-28T00:00:00",
          "2020-02-28T00:00:00",
          "2020-02-28T00:00:00",
          "2020-02-28T00:00:00",
          "2020-02-28T00:00:00",
          "2020-03-06T00:00:00",
          "2020-03-06T00:00:00",
          "2020-03-06T00:00:00",
          "2020-03-06T00:00:00",
          "2020-03-06T00:00:00",
          "2020-03-06T00:00:00",
          "2020-03-05T00:00:00",
          "2020-03-06T00:00:00",
          "2020-03-06T00:00:00",
          "2020-03-06T00:00:00",
          "2020-03-06T00:00:00",
          "2020-03-06T00:00:00",
          "2020-03-05T00:00:00",
          "2020-03-06T00:00:00",
          "2020-03-06T00:00:00",
          "2020-03-06T00:00:00",
          "2020-03-05T00:00:00",
          "2020-03-06T00:00:00",
          "2020-03-05T00:00:00",
          "2020-03-06T00:00:00",
          "2020-03-06T00:00:00",
          "2020-03-06T00:00:00",
          "2020-03-06T00:00:00",
          "2020-03-05T00:00:00",
          "2020-03-05T00:00:00",
          "2020-03-05T00:00:00",
          "2020-03-05T00:00:00",
          "2020-03-05T00:00:00",
          "2020-03-05T00:00:00",
          "2020-03-05T00:00:00",
          "2020-03-05T00:00:00",
          "2020-03-05T00:00:00",
          "2020-03-05T00:00:00",
          "2020-03-05T00:00:00",
          "2020-03-05T00:00:00",
          "2020-03-05T00:00:00",
          "2020-03-05T00:00:00",
          "2020-03-05T00:00:00",
          "2020-03-05T00:00:00",
          "2020-03-05T00:00:00",
          "2020-03-05T00:00:00",
          "2020-03-05T00:00:00",
          "2020-03-05T00:00:00",
          "2020-03-05T00:00:00",
          "2020-03-05T00:00:00",
          "2020-03-05T00:00:00",
          "2020-03-05T00:00:00",
          "2020-03-05T00:00:00",
          "2020-03-05T00:00:00",
          "2020-03-04T00:00:00",
          "2020-03-04T00:00:00",
          "2020-03-04T00:00:00",
          "2020-03-04T00:00:00",
          "2020-03-04T00:00:00",
          "2020-03-04T00:00:00",
          "2020-03-04T00:00:00",
          "2020-03-04T00:00:00",
          "2020-03-04T00:00:00",
          "2020-03-04T00:00:00",
          "2020-03-04T00:00:00",
          "2020-03-04T00:00:00",
          "2020-03-04T00:00:00",
          "2020-03-04T00:00:00",
          "2020-03-04T00:00:00",
          "2020-03-04T00:00:00",
          "2020-03-04T00:00:00",
          "2020-03-04T00:00:00",
          "2020-03-04T00:00:00",
          "2020-03-04T00:00:00",
          "2020-03-04T00:00:00",
          "2020-03-04T00:00:00",
          "2020-03-04T00:00:00",
          "2020-03-04T00:00:00",
          "2020-03-04T00:00:00",
          "2020-03-04T00:00:00",
          "2020-03-04T00:00:00",
          "2020-03-04T00:00:00",
          "2020-03-04T00:00:00",
          "2020-03-04T00:00:00",
          "2020-03-04T00:00:00",
          "2020-03-04T00:00:00",
          "2020-03-04T00:00:00",
          "2020-03-04T00:00:00",
          "2020-03-04T00:00:00",
          "2020-03-04T00:00:00",
          "2020-03-04T00:00:00",
          "2020-03-04T00:00:00",
          "2020-03-04T00:00:00",
          "2020-03-04T00:00:00",
          "2020-03-04T00:00:00",
          "2020-03-04T00:00:00",
          "2020-03-04T00:00:00",
          "2020-03-04T00:00:00",
          "2020-03-04T00:00:00",
          "2020-03-04T00:00:00",
          "2020-03-04T00:00:00",
          "2020-03-04T00:00:00",
          "2020-03-04T00:00:00",
          "2020-03-04T00:00:00",
          "2020-03-04T00:00:00",
          "2020-03-04T00:00:00",
          "2020-03-04T00:00:00",
          "2020-03-04T00:00:00",
          "2020-03-04T00:00:00",
          "2020-03-04T00:00:00",
          "2020-03-04T00:00:00",
          "2020-03-04T00:00:00",
          "2020-03-04T00:00:00",
          "2020-03-04T00:00:00",
          "2020-03-04T00:00:00",
          "2020-03-04T00:00:00",
          "2020-03-04T00:00:00",
          "2020-03-04T00:00:00",
          "2020-03-04T00:00:00",
          "2020-03-04T00:00:00",
          "2020-03-04T00:00:00",
          "2020-03-04T00:00:00",
          "2020-03-04T00:00:00",
          "2020-03-04T00:00:00",
          "2020-03-04T00:00:00",
          "2020-03-04T00:00:00",
          "2020-03-04T00:00:00",
          "2020-03-04T00:00:00",
          "2020-03-04T00:00:00",
          "2020-03-04T00:00:00",
          "2020-03-04T00:00:00",
          "2020-03-04T00:00:00",
          "2020-03-04T00:00:00",
          "2020-03-04T00:00:00",
          "2020-03-04T00:00:00",
          "2020-03-04T00:00:00",
          "2020-03-04T00:00:00",
          "2020-03-04T00:00:00",
          "2020-03-04T00:00:00",
          "2020-03-04T00:00:00",
          "2020-03-04T00:00:00",
          "2020-03-04T00:00:00",
          "2020-03-04T00:00:00",
          "2020-03-04T00:00:00",
          "2020-03-04T00:00:00",
          "2020-03-04T00:00:00",
          "2020-03-04T00:00:00",
          "2020-03-04T00:00:00",
          "2020-03-04T00:00:00",
          "2020-03-04T00:00:00",
          "2020-03-04T00:00:00",
          "2020-03-04T00:00:00",
          "2020-03-04T00:00:00",
          "2020-03-04T00:00:00",
          "2020-03-04T00:00:00",
          "2020-03-04T00:00:00",
          "2020-03-04T00:00:00",
          "2020-03-04T00:00:00",
          "2020-03-04T00:00:00",
          "2020-03-04T00:00:00",
          "2020-03-04T00:00:00",
          "2020-03-04T00:00:00",
          "2020-03-04T00:00:00",
          "2020-03-04T00:00:00",
          "2020-03-04T00:00:00",
          "2020-03-04T00:00:00",
          "2020-03-04T00:00:00",
          "2020-03-04T00:00:00",
          "2020-03-04T00:00:00",
          "2020-03-04T00:00:00",
          "2020-03-04T00:00:00",
          "2020-03-04T00:00:00",
          "2020-03-04T00:00:00",
          "2020-03-04T00:00:00",
          "2020-03-04T00:00:00",
          "2020-03-04T00:00:00",
          "2020-03-04T00:00:00",
          "2020-03-04T00:00:00",
          "2020-03-04T00:00:00",
          "2020-03-04T00:00:00",
          "2020-03-04T00:00:00",
          "2020-03-04T00:00:00",
          "2020-03-04T00:00:00",
          "2020-03-04T00:00:00",
          "2020-03-04T00:00:00",
          "2020-03-04T00:00:00",
          "2020-03-04T00:00:00",
          "2020-03-04T00:00:00",
          "2020-03-04T00:00:00",
          "2020-03-04T00:00:00",
          "2020-03-04T00:00:00",
          "2020-03-04T00:00:00",
          "2020-03-04T00:00:00",
          "2020-03-04T00:00:00",
          "2020-03-04T00:00:00",
          "2020-03-04T00:00:00",
          "2020-03-04T00:00:00",
          "2020-03-04T00:00:00",
          "2020-03-04T00:00:00",
          "2020-03-04T00:00:00",
          "2020-03-04T00:00:00",
          "2020-03-04T00:00:00",
          "2020-03-04T00:00:00",
          "2020-03-04T00:00:00",
          "2020-03-04T00:00:00",
          "2020-03-04T00:00:00",
          "2020-03-04T00:00:00",
          "2020-03-04T00:00:00",
          "2020-03-04T00:00:00",
          "2020-03-04T00:00:00",
          "2020-03-04T00:00:00",
          "2020-03-04T00:00:00",
          "2020-03-04T00:00:00",
          "2020-03-04T00:00:00",
          "2020-03-04T00:00:00",
          "2020-03-04T00:00:00",
          "2020-03-04T00:00:00",
          "2020-03-04T00:00:00",
          "2020-03-04T00:00:00",
          "2020-03-04T00:00:00",
          "2020-03-04T00:00:00",
          "2020-03-04T00:00:00",
          "2020-03-04T00:00:00",
          "2020-03-04T00:00:00",
          "2020-03-04T00:00:00",
          "2020-03-04T00:00:00",
          "2020-03-04T00:00:00",
          "2020-03-04T00:00:00",
          "2020-03-04T00:00:00",
          "2020-03-04T00:00:00",
          "2020-03-04T00:00:00",
          "2020-03-04T00:00:00",
          "2020-03-04T00:00:00",
          "2020-03-04T00:00:00",
          "2020-03-04T00:00:00",
          "2020-03-04T00:00:00",
          "2020-03-04T00:00:00",
          "2020-03-04T00:00:00",
          "2020-03-04T00:00:00",
          "2020-03-04T00:00:00",
          "2020-03-04T00:00:00",
          "2020-03-04T00:00:00",
          "2020-03-04T00:00:00",
          "2020-03-04T00:00:00",
          "2020-03-04T00:00:00",
          "2020-03-04T00:00:00",
          "2020-03-04T00:00:00",
          "2020-03-04T00:00:00",
          "2020-03-04T00:00:00",
          "2020-03-04T00:00:00",
          "2020-03-04T00:00:00",
          "2020-03-04T00:00:00",
          "2020-03-04T00:00:00",
          "2020-03-04T00:00:00",
          "2020-03-04T00:00:00",
          "2020-03-04T00:00:00",
          "2020-03-04T00:00:00",
          "2020-03-04T00:00:00",
          "2020-03-04T00:00:00",
          "2020-03-04T00:00:00",
          "2020-03-04T00:00:00",
          "2020-03-04T00:00:00",
          "2020-03-04T00:00:00",
          "2020-03-04T00:00:00",
          "2020-03-04T00:00:00",
          "2020-03-04T00:00:00",
          "2020-03-04T00:00:00",
          "2020-03-04T00:00:00",
          "2020-03-04T00:00:00",
          "2020-03-04T00:00:00",
          "2020-03-04T00:00:00",
          "2020-03-04T00:00:00",
          "2020-03-04T00:00:00",
          "2020-03-04T00:00:00",
          "2020-03-04T00:00:00",
          "2020-03-04T00:00:00",
          "2020-03-04T00:00:00",
          "2020-03-04T00:00:00",
          "2020-03-04T00:00:00",
          "2020-03-04T00:00:00",
          "2020-03-04T00:00:00",
          "2020-03-04T00:00:00",
          "2020-03-04T00:00:00",
          "2020-03-04T00:00:00",
          "2020-03-04T00:00:00",
          "2020-03-04T00:00:00",
          "2020-03-04T00:00:00",
          "2020-03-04T00:00:00",
          "2020-03-04T00:00:00",
          "2020-03-04T00:00:00",
          "2020-03-04T00:00:00",
          "2020-03-04T00:00:00",
          "2020-03-04T00:00:00",
          "2020-03-04T00:00:00",
          "2020-03-04T00:00:00",
          "2020-03-04T00:00:00",
          "2020-03-04T00:00:00",
          "2020-03-04T00:00:00",
          "2020-03-04T00:00:00",
          "2020-03-04T00:00:00",
          "2020-03-04T00:00:00",
          "2020-03-04T00:00:00",
          "2020-03-04T00:00:00",
          "2020-03-04T00:00:00",
          "2020-03-04T00:00:00",
          "2020-03-04T00:00:00",
          "2020-03-04T00:00:00",
          "2020-03-04T00:00:00",
          "2020-03-04T00:00:00",
          "2020-03-03T00:00:00",
          "2020-03-03T00:00:00",
          "2020-03-03T00:00:00",
          "2020-03-03T00:00:00",
          "2020-03-03T00:00:00",
          "2020-03-03T00:00:00",
          "2020-03-03T00:00:00",
          "2020-03-03T00:00:00",
          "2020-03-03T00:00:00",
          "2020-03-03T00:00:00",
          "2020-03-03T00:00:00",
          "2020-03-03T00:00:00",
          "2020-03-03T00:00:00",
          "2020-03-03T00:00:00",
          "2020-03-03T00:00:00",
          "2020-03-03T00:00:00",
          "2020-03-03T00:00:00",
          "2020-03-03T00:00:00",
          "2020-03-03T00:00:00",
          "2020-03-03T00:00:00",
          "2020-03-03T00:00:00",
          "2020-03-03T00:00:00",
          "2020-03-03T00:00:00",
          "2020-03-03T00:00:00",
          "2020-03-03T00:00:00",
          "2020-03-03T00:00:00",
          "2020-03-03T00:00:00",
          "2020-03-03T00:00:00",
          "2020-03-03T00:00:00",
          "2020-03-03T00:00:00",
          "2020-03-03T00:00:00",
          "2020-03-03T00:00:00",
          "2020-03-03T00:00:00",
          "2020-03-03T00:00:00",
          "2020-03-03T00:00:00",
          "2020-03-03T00:00:00",
          "2020-03-03T00:00:00",
          "2020-03-03T00:00:00",
          "2020-03-03T00:00:00",
          "2020-03-03T00:00:00",
          "2020-03-03T00:00:00",
          "2020-03-03T00:00:00",
          "2020-03-03T00:00:00",
          "2020-03-03T00:00:00",
          "2020-03-03T00:00:00",
          "2020-03-05T00:00:00",
          "2020-03-05T00:00:00",
          "2020-03-05T00:00:00",
          "2020-03-05T00:00:00",
          "2020-03-05T00:00:00",
          "2020-03-05T00:00:00",
          "2020-03-05T00:00:00",
          "2020-03-05T00:00:00",
          "2020-03-05T00:00:00",
          "2020-03-05T00:00:00",
          "2020-03-05T00:00:00",
          "2020-03-05T00:00:00",
          "2020-03-05T00:00:00",
          "2020-03-05T00:00:00",
          "2020-03-05T00:00:00",
          "2020-03-05T00:00:00",
          "2020-03-05T00:00:00",
          "2020-03-05T00:00:00",
          "2020-03-05T00:00:00",
          "2020-03-05T00:00:00",
          "2020-03-05T00:00:00",
          "2020-03-05T00:00:00",
          "2020-03-05T00:00:00",
          "2020-03-05T00:00:00",
          "2020-03-05T00:00:00",
          "2020-03-05T00:00:00",
          "2020-03-05T00:00:00",
          "2020-03-05T00:00:00",
          "2020-03-05T00:00:00",
          "2020-03-05T00:00:00",
          "2020-03-05T00:00:00",
          "2020-03-05T00:00:00",
          "2020-03-05T00:00:00",
          "2020-03-05T00:00:00",
          "2020-03-05T00:00:00",
          "2020-03-05T00:00:00",
          "2020-03-05T00:00:00",
          "2020-03-05T00:00:00",
          "2020-03-05T00:00:00",
          "2020-03-05T00:00:00",
          "2020-03-05T00:00:00",
          "2020-03-05T00:00:00",
          "2020-03-05T00:00:00",
          "2020-03-05T00:00:00",
          "2020-03-05T00:00:00",
          "2020-03-05T00:00:00",
          "2020-03-05T00:00:00",
          "2020-03-05T00:00:00",
          "2020-03-05T00:00:00",
          "2020-03-05T00:00:00",
          "2020-03-05T00:00:00",
          "2020-03-05T00:00:00",
          "2020-03-05T00:00:00",
          "2020-03-05T00:00:00",
          "2020-03-05T00:00:00",
          "2020-03-05T00:00:00",
          "2020-03-05T00:00:00",
          "2020-03-05T00:00:00",
          "2020-03-05T00:00:00",
          "2020-03-05T00:00:00",
          "2020-03-05T00:00:00",
          "2020-03-05T00:00:00",
          "2020-03-05T00:00:00",
          "2020-03-05T00:00:00",
          "2020-03-05T00:00:00",
          "2020-03-05T00:00:00",
          "2020-03-05T00:00:00",
          "2020-03-05T00:00:00",
          "2020-03-05T00:00:00",
          "2020-03-05T00:00:00",
          "2020-03-05T00:00:00",
          "2020-03-05T00:00:00",
          "2020-03-05T00:00:00",
          "2020-03-05T00:00:00",
          "2020-03-05T00:00:00",
          "2020-03-05T00:00:00",
          "2020-03-05T00:00:00",
          "2020-03-05T00:00:00",
          "2020-03-05T00:00:00",
          "2020-03-05T00:00:00",
          "2020-03-05T00:00:00",
          "2020-03-05T00:00:00",
          "2020-03-05T00:00:00",
          "2020-03-05T00:00:00",
          "2020-03-05T00:00:00",
          "2020-03-05T00:00:00",
          "2020-03-05T00:00:00",
          "2020-03-05T00:00:00",
          "2020-03-05T00:00:00",
          "2020-03-05T00:00:00",
          "2020-03-05T00:00:00",
          "2020-03-05T00:00:00",
          "2020-03-05T00:00:00",
          "2020-03-05T00:00:00",
          "2020-03-05T00:00:00",
          "2020-03-05T00:00:00",
          "2020-03-05T00:00:00",
          "2020-03-05T00:00:00",
          "2020-03-05T00:00:00",
          "2020-03-05T00:00:00",
          "2020-03-05T00:00:00",
          "2020-03-05T00:00:00",
          "2020-03-05T00:00:00",
          "2020-03-05T00:00:00",
          "2020-03-05T00:00:00",
          "2020-03-05T00:00:00",
          "2020-03-05T00:00:00",
          "2020-03-05T00:00:00",
          "2020-03-05T00:00:00",
          "2020-03-05T00:00:00",
          "2020-03-05T00:00:00",
          "2020-03-05T00:00:00",
          "2020-03-05T00:00:00",
          "2020-03-05T00:00:00",
          "2020-03-05T00:00:00",
          "2020-03-05T00:00:00",
          "2020-03-05T00:00:00",
          "2020-03-05T00:00:00",
          "2020-03-05T00:00:00",
          "2020-03-05T00:00:00",
          "2020-03-05T00:00:00",
          "2020-03-05T00:00:00",
          "2020-03-05T00:00:00",
          "2020-03-05T00:00:00",
          "2020-03-05T00:00:00",
          "2020-03-05T00:00:00",
          "2020-03-05T00:00:00",
          "2020-03-05T00:00:00",
          "2020-03-05T00:00:00",
          "2020-03-05T00:00:00",
          "2020-03-05T00:00:00",
          "2020-03-05T00:00:00",
          "2020-03-05T00:00:00",
          "2020-03-05T00:00:00",
          "2020-03-05T00:00:00",
          "2020-03-05T00:00:00",
          "2020-03-05T00:00:00",
          "2020-03-05T00:00:00",
          "2020-03-05T00:00:00",
          "2020-03-05T00:00:00",
          "2020-03-05T00:00:00",
          "2020-03-05T00:00:00",
          "2020-03-05T00:00:00",
          "2020-03-05T00:00:00",
          "2020-03-05T00:00:00",
          "2020-03-05T00:00:00",
          "2020-03-05T00:00:00",
          "2020-03-05T00:00:00",
          "2020-03-05T00:00:00",
          "2020-03-05T00:00:00",
          "2020-03-05T00:00:00",
          "2020-03-05T00:00:00",
          "2020-03-05T00:00:00",
          "2020-03-05T00:00:00",
          "2020-03-05T00:00:00",
          "2020-03-05T00:00:00",
          "2020-03-05T00:00:00",
          "2020-03-05T00:00:00",
          "2020-03-05T00:00:00",
          "2020-03-05T00:00:00",
          "2020-03-05T00:00:00",
          "2020-03-05T00:00:00",
          "2020-03-05T00:00:00",
          "2020-03-05T00:00:00",
          "2020-03-05T00:00:00",
          "2020-03-05T00:00:00",
          "2020-03-05T00:00:00",
          "2020-03-05T00:00:00",
          "2020-03-05T00:00:00",
          "2020-03-05T00:00:00",
          "2020-03-05T00:00:00",
          "2020-03-05T00:00:00",
          "2020-03-05T00:00:00",
          "2020-03-05T00:00:00",
          "2020-03-05T00:00:00",
          "2020-03-05T00:00:00",
          "2020-03-05T00:00:00",
          "2020-03-05T00:00:00",
          "2020-03-05T00:00:00",
          "2020-03-05T00:00:00",
          "2020-03-05T00:00:00",
          "2020-03-05T00:00:00",
          "2020-03-05T00:00:00",
          "2020-03-05T00:00:00",
          "2020-03-05T00:00:00",
          "2020-03-05T00:00:00",
          "2020-03-05T00:00:00",
          "2020-03-05T00:00:00",
          "2020-03-05T00:00:00",
          "2020-03-05T00:00:00",
          "2020-03-05T00:00:00",
          "2020-03-05T00:00:00",
          "2020-03-05T00:00:00",
          "2020-03-05T00:00:00",
          "2020-03-05T00:00:00",
          "2020-03-05T00:00:00",
          "2020-03-05T00:00:00",
          "2020-03-05T00:00:00",
          "2020-03-05T00:00:00",
          "2020-03-05T00:00:00",
          "2020-03-05T00:00:00",
          "2020-03-05T00:00:00",
          "2020-03-05T00:00:00",
          "2020-03-05T00:00:00",
          "2020-03-05T00:00:00",
          "2020-03-05T00:00:00",
          "2020-03-05T00:00:00",
          "2020-03-05T00:00:00",
          "2020-03-05T00:00:00",
          "2020-03-05T00:00:00",
          "2020-03-05T00:00:00",
          "2020-03-05T00:00:00",
          "2020-03-05T00:00:00",
          "2020-03-05T00:00:00",
          "2020-03-05T00:00:00",
          "2020-03-05T00:00:00",
          "2020-03-05T00:00:00",
          "2020-03-05T00:00:00",
          "2020-03-05T00:00:00",
          "2020-03-05T00:00:00",
          "2020-03-05T00:00:00",
          "2020-03-05T00:00:00",
          "2020-03-05T00:00:00",
          "2020-03-05T00:00:00",
          "2020-03-05T00:00:00",
          "2020-03-05T00:00:00",
          "2020-03-05T00:00:00",
          "2020-03-05T00:00:00",
          "2020-03-05T00:00:00",
          "2020-03-05T00:00:00",
          "2020-03-05T00:00:00",
          "2020-03-05T00:00:00",
          "2020-03-05T00:00:00",
          "2020-03-05T00:00:00",
          "2020-03-05T00:00:00",
          "2020-03-05T00:00:00",
          "2020-03-05T00:00:00",
          "2020-03-05T00:00:00",
          "2020-03-05T00:00:00",
          "2020-03-05T00:00:00",
          "2020-03-05T00:00:00",
          "2020-03-05T00:00:00",
          "2020-03-05T00:00:00",
          "2020-03-05T00:00:00",
          "2020-03-05T00:00:00",
          "2020-03-05T00:00:00",
          "2020-03-05T00:00:00",
          "2020-03-05T00:00:00",
          "2020-03-05T00:00:00",
          "2020-03-05T00:00:00",
          "2020-03-05T00:00:00",
          "2020-03-05T00:00:00",
          "2020-03-05T00:00:00",
          "2020-03-05T00:00:00",
          "2020-03-05T00:00:00",
          "2020-03-05T00:00:00",
          "2020-03-04T00:00:00",
          "2020-03-04T00:00:00",
          "2020-03-04T00:00:00",
          "2020-03-04T00:00:00",
          "2020-03-04T00:00:00",
          "2020-03-04T00:00:00",
          "2020-03-04T00:00:00",
          "2020-03-04T00:00:00",
          "2020-03-04T00:00:00",
          "2020-03-04T00:00:00",
          "2020-03-04T00:00:00",
          "2020-03-04T00:00:00",
          "2020-03-04T00:00:00",
          "2020-03-04T00:00:00",
          "2020-03-04T00:00:00",
          "2020-03-04T00:00:00",
          "2020-03-04T00:00:00",
          "2020-03-04T00:00:00",
          "2020-03-04T00:00:00",
          "2020-03-04T00:00:00",
          "2020-03-04T00:00:00",
          "2020-03-04T00:00:00",
          "2020-03-04T00:00:00",
          "2020-03-04T00:00:00",
          "2020-03-04T00:00:00",
          "2020-03-04T00:00:00",
          "2020-03-04T00:00:00",
          "2020-03-04T00:00:00",
          "2020-03-04T00:00:00",
          "2020-03-06T00:00:00",
          "2020-03-06T00:00:00",
          "2020-03-06T00:00:00",
          "2020-03-06T00:00:00",
          "2020-03-06T00:00:00",
          "2020-03-06T00:00:00",
          "2020-03-06T00:00:00",
          "2020-03-06T00:00:00",
          "2020-03-06T00:00:00",
          "2020-03-06T00:00:00",
          "2020-03-06T00:00:00",
          "2020-03-06T00:00:00",
          "2020-03-06T00:00:00",
          "2020-03-06T00:00:00",
          "2020-03-06T00:00:00",
          "2020-03-06T00:00:00",
          "2020-03-06T00:00:00",
          "2020-03-06T00:00:00",
          "2020-03-06T00:00:00",
          "2020-03-06T00:00:00",
          "2020-03-06T00:00:00",
          "2020-03-06T00:00:00",
          "2020-03-06T00:00:00",
          "2020-03-06T00:00:00",
          "2020-03-06T00:00:00",
          "2020-03-06T00:00:00",
          "2020-03-06T00:00:00",
          "2020-03-06T00:00:00",
          "2020-03-06T00:00:00",
          "2020-03-06T00:00:00",
          "2020-03-06T00:00:00",
          "2020-03-06T00:00:00",
          "2020-03-06T00:00:00",
          "2020-03-06T00:00:00",
          "2020-03-06T00:00:00",
          "2020-03-06T00:00:00",
          "2020-03-06T00:00:00",
          "2020-03-06T00:00:00",
          "2020-03-06T00:00:00",
          "2020-03-06T00:00:00",
          "2020-03-06T00:00:00",
          "2020-03-06T00:00:00",
          "2020-03-06T00:00:00",
          "2020-03-06T00:00:00",
          "2020-03-06T00:00:00",
          "2020-03-06T00:00:00",
          "2020-03-06T00:00:00",
          "2020-03-06T00:00:00",
          "2020-03-06T00:00:00",
          "2020-03-06T00:00:00",
          "2020-03-06T00:00:00",
          "2020-03-06T00:00:00",
          "2020-03-06T00:00:00",
          "2020-03-06T00:00:00",
          "2020-03-06T00:00:00",
          "2020-03-06T00:00:00",
          "2020-03-06T00:00:00",
          "2020-03-06T00:00:00",
          "2020-03-06T00:00:00",
          "2020-03-06T00:00:00",
          "2020-03-06T00:00:00",
          "2020-03-06T00:00:00",
          "2020-03-06T00:00:00",
          "2020-03-06T00:00:00",
          "2020-03-06T00:00:00",
          "2020-03-06T00:00:00",
          "2020-03-06T00:00:00",
          "2020-03-06T00:00:00",
          "2020-03-06T00:00:00",
          "2020-03-06T00:00:00",
          "2020-03-06T00:00:00",
          "2020-03-06T00:00:00",
          "2020-03-06T00:00:00",
          "2020-03-06T00:00:00",
          "2020-03-06T00:00:00",
          "2020-03-06T00:00:00",
          "2020-03-06T00:00:00",
          "2020-03-06T00:00:00",
          "2020-03-06T00:00:00",
          "2020-03-06T00:00:00",
          "2020-03-06T00:00:00",
          "2020-03-06T00:00:00",
          "2020-03-06T00:00:00",
          "2020-03-06T00:00:00",
          "2020-03-06T00:00:00",
          "2020-03-06T00:00:00",
          "2020-03-06T00:00:00",
          "2020-03-06T00:00:00",
          "2020-03-06T00:00:00",
          "2020-03-06T00:00:00",
          "2020-03-06T00:00:00",
          "2020-03-06T00:00:00",
          "2020-03-06T00:00:00",
          "2020-03-06T00:00:00",
          "2020-03-06T00:00:00",
          "2020-03-06T00:00:00",
          "2020-03-06T00:00:00",
          "2020-03-06T00:00:00",
          "2020-03-06T00:00:00",
          "2020-03-06T00:00:00",
          "2020-03-06T00:00:00",
          "2020-03-06T00:00:00",
          "2020-03-06T00:00:00",
          "2020-03-06T00:00:00",
          "2020-03-06T00:00:00",
          "2020-03-06T00:00:00",
          "2020-03-06T00:00:00",
          "2020-03-06T00:00:00",
          "2020-03-06T00:00:00",
          "2020-03-06T00:00:00",
          "2020-03-06T00:00:00",
          "2020-03-06T00:00:00",
          "2020-03-06T00:00:00",
          "2020-03-06T00:00:00",
          "2020-03-06T00:00:00",
          "2020-03-06T00:00:00",
          "2020-03-06T00:00:00",
          "2020-03-06T00:00:00",
          "2020-03-06T00:00:00",
          "2020-03-06T00:00:00",
          "2020-03-06T00:00:00",
          "2020-03-06T00:00:00",
          "2020-03-06T00:00:00",
          "2020-03-06T00:00:00",
          "2020-03-06T00:00:00",
          "2020-03-06T00:00:00",
          "2020-03-06T00:00:00",
          "2020-03-06T00:00:00",
          "2020-03-06T00:00:00",
          "2020-03-06T00:00:00",
          "2020-03-06T00:00:00",
          "2020-03-06T00:00:00",
          "2020-03-06T00:00:00",
          "2020-03-06T00:00:00",
          "2020-03-06T00:00:00",
          "2020-03-06T00:00:00",
          "2020-03-06T00:00:00",
          "2020-03-06T00:00:00",
          "2020-03-06T00:00:00",
          "2020-03-06T00:00:00",
          "2020-03-06T00:00:00",
          "2020-03-06T00:00:00",
          "2020-03-06T00:00:00",
          "2020-03-06T00:00:00",
          "2020-03-06T00:00:00",
          "2020-03-06T00:00:00",
          "2020-03-06T00:00:00",
          "2020-03-06T00:00:00",
          "2020-03-06T00:00:00",
          "2020-03-06T00:00:00",
          "2020-03-06T00:00:00",
          "2020-03-06T00:00:00",
          "2020-03-06T00:00:00",
          "2020-03-06T00:00:00",
          "2020-03-06T00:00:00",
          "2020-03-06T00:00:00",
          "2020-03-06T00:00:00",
          "2020-03-06T00:00:00",
          "2020-03-06T00:00:00",
          "2020-03-06T00:00:00",
          "2020-03-06T00:00:00",
          "2020-03-06T00:00:00",
          "2020-03-06T00:00:00",
          "2020-03-06T00:00:00",
          "2020-03-06T00:00:00",
          "2020-03-06T00:00:00",
          "2020-03-06T00:00:00",
          "2020-03-06T00:00:00",
          "2020-03-06T00:00:00",
          "2020-03-06T00:00:00",
          "2020-03-06T00:00:00",
          "2020-03-06T00:00:00",
          "2020-03-06T00:00:00",
          "2020-03-06T00:00:00",
          "2020-03-06T00:00:00",
          "2020-03-06T00:00:00",
          "2020-03-06T00:00:00",
          "2020-03-06T00:00:00",
          "2020-03-06T00:00:00",
          "2020-03-06T00:00:00",
          "2020-03-06T00:00:00",
          "2020-03-06T00:00:00",
          "2020-03-06T00:00:00",
          "2020-03-06T00:00:00",
          "2020-03-06T00:00:00",
          "2020-03-06T00:00:00",
          "2020-03-06T00:00:00",
          "2020-03-06T00:00:00",
          "2020-03-06T00:00:00",
          "2020-03-06T00:00:00",
          "2020-03-06T00:00:00",
          "2020-03-06T00:00:00",
          "2020-03-06T00:00:00",
          "2020-03-06T00:00:00",
          "2020-03-06T00:00:00",
          "2020-03-06T00:00:00",
          "2020-03-06T00:00:00",
          "2020-03-06T00:00:00",
          "2020-03-06T00:00:00",
          "2020-03-06T00:00:00",
          "2020-03-06T00:00:00",
          "2020-03-06T00:00:00",
          "2020-03-06T00:00:00",
          "2020-03-06T00:00:00",
          "2020-03-06T00:00:00",
          "2020-03-06T00:00:00",
          "2020-03-06T00:00:00",
          "2020-03-06T00:00:00",
          "2020-03-06T00:00:00",
          "2020-03-06T00:00:00",
          "2020-03-06T00:00:00",
          "2020-03-06T00:00:00",
          "2020-03-06T00:00:00",
          "2020-03-06T00:00:00",
          "2020-03-06T00:00:00",
          "2020-03-06T00:00:00",
          "2020-03-06T00:00:00",
          "2020-03-06T00:00:00",
          "2020-03-06T00:00:00",
          "2020-03-06T00:00:00",
          "2020-03-06T00:00:00",
          "2020-03-06T00:00:00",
          "2020-03-06T00:00:00",
          "2020-03-06T00:00:00",
          "2020-03-06T00:00:00",
          "2020-03-06T00:00:00",
          "2020-03-06T00:00:00",
          "2020-03-06T00:00:00",
          "2020-03-06T00:00:00",
          "2020-03-06T00:00:00",
          "2020-03-06T00:00:00",
          "2020-03-06T00:00:00",
          "2020-03-06T00:00:00",
          "2020-03-06T00:00:00",
          "2020-03-06T00:00:00",
          "2020-03-06T00:00:00",
          "2020-03-06T00:00:00",
          "2020-03-06T00:00:00",
          "2020-03-06T00:00:00",
          "2020-03-06T00:00:00",
          "2020-03-06T00:00:00",
          "2020-03-06T00:00:00",
          "2020-03-06T00:00:00",
          "2020-03-06T00:00:00",
          "2020-03-06T00:00:00",
          "2020-03-06T00:00:00",
          "2020-03-06T00:00:00",
          "2020-03-06T00:00:00",
          "2020-03-06T00:00:00",
          "2020-03-06T00:00:00",
          "2020-03-06T00:00:00",
          "2020-03-06T00:00:00",
          "2020-03-06T00:00:00",
          "2020-03-06T00:00:00",
          "2020-03-06T00:00:00",
          "2020-03-06T00:00:00",
          "2020-03-06T00:00:00",
          "2020-03-05T00:00:00",
          "2020-03-05T00:00:00",
          "2020-03-05T00:00:00",
          "2020-03-05T00:00:00",
          "2020-03-05T00:00:00",
          "2020-03-05T00:00:00",
          "2020-03-05T00:00:00",
          "2020-03-05T00:00:00",
          "2020-03-05T00:00:00",
          "2020-03-05T00:00:00",
          "2020-03-05T00:00:00",
          "2020-03-05T00:00:00",
          "2020-03-05T00:00:00",
          "2020-03-05T00:00:00",
          "2020-03-05T00:00:00",
          "2020-03-05T00:00:00",
          "2020-03-05T00:00:00",
          "2020-03-05T00:00:00",
          "2020-03-05T00:00:00",
          "2020-03-05T00:00:00",
          "2020-03-05T00:00:00",
          "2020-03-05T00:00:00",
          "2020-03-05T00:00:00",
          "2020-03-05T00:00:00",
          "2020-03-05T00:00:00",
          "2020-03-05T00:00:00",
          "2020-03-05T00:00:00",
          "2020-03-05T00:00:00",
          "2020-03-05T00:00:00",
          "2020-03-05T00:00:00",
          "2020-03-05T00:00:00",
          "2020-03-05T00:00:00",
          "2020-03-05T00:00:00",
          "2020-03-05T00:00:00",
          "2020-03-05T00:00:00",
          "2020-03-05T00:00:00",
          "2020-03-05T00:00:00",
          "2020-03-05T00:00:00",
          "2020-03-05T00:00:00",
          "2020-03-05T00:00:00",
          "2020-03-05T00:00:00",
          "2020-03-05T00:00:00",
          "2020-03-05T00:00:00",
          "2020-03-05T00:00:00",
          "2020-03-08T00:00:00",
          "2020-03-08T00:00:00",
          "2020-03-08T00:00:00",
          "2020-03-08T00:00:00",
          "2020-03-07T00:00:00",
          "2020-03-08T00:00:00",
          "2020-03-08T00:00:00",
          "2020-03-08T00:00:00",
          "2020-03-07T00:00:00",
          "2020-03-08T00:00:00",
          "2020-03-08T00:00:00",
          "2020-03-08T00:00:00",
          "2020-03-08T00:00:00",
          "2020-03-07T00:00:00",
          "2020-03-08T00:00:00",
          "2020-03-06T00:00:00",
          "2020-03-07T00:00:00",
          "2020-03-07T00:00:00",
          "2020-03-07T00:00:00",
          "2020-03-07T00:00:00",
          "2020-03-07T00:00:00",
          "2020-03-07T00:00:00",
          "2020-03-07T00:00:00",
          "2020-03-07T00:00:00",
          "2020-03-07T00:00:00",
          "2020-03-07T00:00:00",
          "2020-03-07T00:00:00",
          "2020-03-07T00:00:00",
          "2020-03-07T00:00:00",
          "2020-03-07T00:00:00",
          "2020-03-07T00:00:00",
          "2020-03-07T00:00:00",
          "2020-03-07T00:00:00",
          "2020-03-07T00:00:00",
          "2020-03-07T00:00:00",
          "2020-03-07T00:00:00",
          "2020-03-07T00:00:00",
          "2020-03-06T00:00:00",
          "2020-03-07T00:00:00",
          "2020-03-07T00:00:00",
          "2020-03-07T00:00:00",
          "2020-03-06T00:00:00",
          "2020-03-06T00:00:00",
          "2020-03-07T00:00:00",
          "2020-03-07T00:00:00",
          "2020-03-07T00:00:00",
          "2020-03-06T00:00:00",
          "2020-03-07T00:00:00",
          "2020-03-06T00:00:00",
          "2020-03-06T00:00:00",
          "2020-03-06T00:00:00",
          "2020-03-06T00:00:00",
          "2020-03-06T00:00:00",
          "2020-03-06T00:00:00",
          "2020-03-06T00:00:00",
          "2020-03-06T00:00:00",
          "2020-03-06T00:00:00",
          "2020-03-06T00:00:00",
          "2020-03-06T00:00:00",
          "2020-03-06T00:00:00",
          "2020-03-06T00:00:00",
          "2020-03-06T00:00:00",
          "2020-03-06T00:00:00",
          "2020-03-06T00:00:00",
          "2020-03-06T00:00:00",
          "2020-03-06T00:00:00",
          "2020-03-06T00:00:00",
          "2020-03-06T00:00:00",
          "2020-03-06T00:00:00",
          "2020-03-06T00:00:00",
          "2020-03-06T00:00:00",
          "2020-03-06T00:00:00",
          "2020-03-06T00:00:00",
          "2020-03-06T00:00:00",
          "2020-03-06T00:00:00",
          "2020-03-06T00:00:00",
          "2020-03-06T00:00:00",
          "2020-03-06T00:00:00",
          "2020-03-06T00:00:00",
          "2020-03-06T00:00:00",
          "2020-03-06T00:00:00",
          "2020-03-06T00:00:00",
          "2020-03-06T00:00:00",
          "2020-03-06T00:00:00",
          "2020-03-06T00:00:00",
          "2020-03-07T00:00:00",
          "2020-03-07T00:00:00",
          "2020-03-07T00:00:00",
          "2020-03-07T00:00:00",
          "2020-03-07T00:00:00",
          "2020-03-07T00:00:00",
          "2020-03-07T00:00:00",
          "2020-03-07T00:00:00",
          "2020-03-07T00:00:00",
          "2020-03-07T00:00:00",
          "2020-03-07T00:00:00",
          "2020-03-07T00:00:00",
          "2020-03-07T00:00:00",
          "2020-03-07T00:00:00",
          "2020-03-07T00:00:00",
          "2020-03-07T00:00:00",
          "2020-03-07T00:00:00",
          "2020-03-07T00:00:00",
          "2020-03-07T00:00:00",
          "2020-03-07T00:00:00",
          "2020-03-07T00:00:00",
          "2020-03-07T00:00:00",
          "2020-03-07T00:00:00",
          "2020-03-07T00:00:00",
          "2020-03-07T00:00:00",
          "2020-03-07T00:00:00",
          "2020-03-07T00:00:00",
          "2020-03-07T00:00:00",
          "2020-03-07T00:00:00",
          "2020-03-07T00:00:00",
          "2020-03-07T00:00:00",
          "2020-03-07T00:00:00",
          "2020-03-07T00:00:00",
          "2020-03-07T00:00:00",
          "2020-03-07T00:00:00",
          "2020-03-07T00:00:00",
          "2020-03-07T00:00:00",
          "2020-03-07T00:00:00",
          "2020-03-07T00:00:00",
          "2020-03-07T00:00:00",
          "2020-03-07T00:00:00",
          "2020-03-07T00:00:00",
          "2020-03-07T00:00:00",
          "2020-03-07T00:00:00",
          "2020-03-07T00:00:00",
          "2020-03-07T00:00:00",
          "2020-03-07T00:00:00",
          "2020-03-07T00:00:00",
          "2020-03-07T00:00:00",
          "2020-03-07T00:00:00",
          "2020-03-07T00:00:00",
          "2020-03-07T00:00:00",
          "2020-03-07T00:00:00",
          "2020-03-07T00:00:00",
          "2020-03-07T00:00:00",
          "2020-03-07T00:00:00",
          "2020-03-07T00:00:00",
          "2020-03-07T00:00:00",
          "2020-03-07T00:00:00",
          "2020-03-07T00:00:00",
          "2020-03-07T00:00:00",
          "2020-03-07T00:00:00",
          "2020-03-07T00:00:00",
          "2020-03-07T00:00:00",
          "2020-03-07T00:00:00",
          "2020-03-07T00:00:00",
          "2020-03-07T00:00:00",
          "2020-03-07T00:00:00",
          "2020-03-07T00:00:00",
          "2020-03-07T00:00:00",
          "2020-03-07T00:00:00",
          "2020-03-07T00:00:00",
          "2020-03-07T00:00:00",
          "2020-03-07T00:00:00",
          "2020-03-07T00:00:00",
          "2020-03-07T00:00:00",
          "2020-03-07T00:00:00",
          "2020-03-07T00:00:00",
          "2020-03-07T00:00:00",
          "2020-03-07T00:00:00",
          "2020-03-07T00:00:00",
          "2020-03-07T00:00:00",
          "2020-03-07T00:00:00",
          "2020-03-07T00:00:00",
          "2020-03-07T00:00:00",
          "2020-03-07T00:00:00",
          "2020-03-07T00:00:00",
          "2020-03-07T00:00:00",
          "2020-03-07T00:00:00",
          "2020-03-07T00:00:00",
          "2020-03-07T00:00:00",
          "2020-03-07T00:00:00",
          "2020-03-07T00:00:00",
          "2020-03-07T00:00:00",
          "2020-03-07T00:00:00",
          "2020-03-07T00:00:00",
          "2020-03-07T00:00:00",
          "2020-03-07T00:00:00",
          "2020-03-07T00:00:00",
          "2020-03-07T00:00:00",
          "2020-03-07T00:00:00",
          "2020-03-07T00:00:00",
          "2020-03-07T00:00:00",
          "2020-03-07T00:00:00",
          "2020-03-07T00:00:00",
          "2020-03-07T00:00:00",
          "2020-03-07T00:00:00",
          "2020-03-07T00:00:00",
          "2020-03-07T00:00:00",
          "2020-03-07T00:00:00",
          "2020-03-07T00:00:00",
          "2020-03-07T00:00:00",
          "2020-03-07T00:00:00",
          "2020-03-07T00:00:00",
          "2020-03-07T00:00:00",
          "2020-03-07T00:00:00",
          "2020-03-07T00:00:00",
          "2020-03-07T00:00:00",
          "2020-03-07T00:00:00",
          "2020-03-07T00:00:00",
          "2020-03-07T00:00:00",
          "2020-03-07T00:00:00",
          "2020-03-07T00:00:00",
          "2020-03-07T00:00:00",
          "2020-03-07T00:00:00",
          "2020-03-07T00:00:00",
          "2020-03-07T00:00:00",
          "2020-03-07T00:00:00",
          "2020-03-07T00:00:00",
          "2020-03-07T00:00:00",
          "2020-03-06T00:00:00",
          "2020-03-06T00:00:00",
          "2020-03-06T00:00:00",
          "2020-03-06T00:00:00",
          "2020-03-06T00:00:00",
          "2020-03-06T00:00:00",
          "2020-03-06T00:00:00",
          "2020-03-06T00:00:00",
          "2020-03-06T00:00:00",
          "2020-03-06T00:00:00",
          "2020-03-06T00:00:00",
          "2020-03-06T00:00:00",
          "2020-03-06T00:00:00",
          "2020-03-06T00:00:00",
          "2020-03-06T00:00:00",
          "2020-03-06T00:00:00",
          "2020-03-06T00:00:00",
          "2020-03-06T00:00:00",
          "2020-03-06T00:00:00",
          "2020-03-06T00:00:00",
          "2020-03-06T00:00:00",
          "2020-03-06T00:00:00",
          "2020-03-06T00:00:00",
          "2020-03-06T00:00:00",
          "2020-03-06T00:00:00",
          "2020-03-06T00:00:00",
          "2020-03-06T00:00:00",
          "2020-03-06T00:00:00",
          "2020-03-06T00:00:00",
          "2020-03-06T00:00:00",
          "2020-03-06T00:00:00",
          "2020-03-06T00:00:00",
          "2020-03-06T00:00:00",
          "2020-03-06T00:00:00",
          "2020-03-06T00:00:00",
          "2020-03-06T00:00:00",
          "2020-03-06T00:00:00",
          "2020-03-06T00:00:00",
          "2020-03-06T00:00:00",
          "2020-03-06T00:00:00",
          "2020-03-06T00:00:00",
          "2020-03-06T00:00:00",
          "2020-03-06T00:00:00",
          "2020-03-06T00:00:00",
          "2020-03-06T00:00:00",
          "2020-03-06T00:00:00",
          "2020-03-06T00:00:00",
          "2020-03-06T00:00:00",
          "2020-03-06T00:00:00",
          "2020-03-06T00:00:00",
          "2020-03-06T00:00:00",
          "2020-03-06T00:00:00",
          "2020-03-06T00:00:00",
          "2020-03-06T00:00:00",
          "2020-03-08T00:00:00",
          "2020-03-08T00:00:00",
          "2020-03-08T00:00:00",
          "2020-03-08T00:00:00",
          "2020-03-08T00:00:00",
          "2020-03-08T00:00:00",
          "2020-03-08T00:00:00",
          "2020-03-08T00:00:00",
          "2020-03-08T00:00:00",
          "2020-03-08T00:00:00",
          "2020-03-08T00:00:00",
          "2020-03-08T00:00:00",
          "2020-03-08T00:00:00",
          "2020-03-08T00:00:00",
          "2020-03-08T00:00:00",
          "2020-03-08T00:00:00",
          "2020-03-08T00:00:00",
          "2020-03-08T00:00:00",
          "2020-03-08T00:00:00",
          "2020-03-08T00:00:00",
          "2020-03-08T00:00:00",
          "2020-03-08T00:00:00",
          "2020-03-08T00:00:00",
          "2020-03-08T00:00:00",
          "2020-03-08T00:00:00",
          "2020-03-08T00:00:00",
          "2020-03-08T00:00:00",
          "2020-03-08T00:00:00",
          "2020-03-08T00:00:00",
          "2020-03-08T00:00:00",
          "2020-03-08T00:00:00",
          "2020-03-08T00:00:00",
          "2020-03-08T00:00:00",
          "2020-03-08T00:00:00",
          "2020-03-08T00:00:00",
          "2020-03-08T00:00:00",
          "2020-03-08T00:00:00",
          "2020-03-08T00:00:00",
          "2020-03-08T00:00:00",
          "2020-03-08T00:00:00",
          "2020-03-08T00:00:00",
          "2020-03-08T00:00:00",
          "2020-03-08T00:00:00",
          "2020-03-08T00:00:00",
          "2020-03-08T00:00:00",
          "2020-03-08T00:00:00",
          "2020-03-08T00:00:00",
          "2020-03-08T00:00:00",
          "2020-03-08T00:00:00",
          "2020-03-08T00:00:00",
          "2020-03-08T00:00:00",
          "2020-03-08T00:00:00",
          "2020-03-08T00:00:00",
          "2020-03-08T00:00:00",
          "2020-03-08T00:00:00",
          "2020-03-08T00:00:00",
          "2020-03-08T00:00:00",
          "2020-03-08T00:00:00",
          "2020-03-08T00:00:00",
          "2020-03-08T00:00:00",
          "2020-03-08T00:00:00",
          "2020-03-08T00:00:00",
          "2020-03-08T00:00:00",
          "2020-03-08T00:00:00",
          "2020-03-08T00:00:00",
          "2020-03-08T00:00:00",
          "2020-03-08T00:00:00",
          "2020-03-08T00:00:00"
         ],
         "xaxis": "x",
         "y": [
          "cnn",
          "cnn",
          "cnn",
          "cnn",
          "cnn",
          "cnn",
          "cnn",
          "cnn",
          "cnn",
          "cnn",
          "cnn",
          "cnn",
          "cnn",
          "cnn",
          "cnn",
          "cnn",
          "cnn",
          "cnn",
          "cnn",
          "cnn",
          "cnn",
          "cnn",
          "cnn",
          "cnn",
          "cnn",
          "cnn",
          "cnn",
          "cnn",
          "cnn",
          "cnn",
          "cnn",
          "cnn",
          "cnn",
          "cnn",
          "cnn",
          "cnn",
          "cnn",
          "cnn",
          "cnn",
          "cnn",
          "cnn",
          "cnn",
          "cnn",
          "cnn",
          "cnn",
          "cnn",
          "cnn",
          "cnn",
          "cnn",
          "cnn",
          "cnn",
          "cnn",
          "cnn",
          "cnn",
          "cnn",
          "cnn",
          "cnn",
          "cnn",
          "cnn",
          "cnn",
          "cnn",
          "cnn",
          "cnn",
          "cnn",
          "cnn",
          "cnn",
          "cnn",
          "cnn",
          "cnn",
          "cnn",
          "cnn",
          "cnn",
          "cnn",
          "cnn",
          "cnn",
          "cnn",
          "cnn",
          "cnn",
          "cnn",
          "cnn",
          "cnn",
          "cnn",
          "cnn",
          "cnn",
          "cnn",
          "cnn",
          "cnn",
          "cnn",
          "cnn",
          "cnn",
          "cnn",
          "cnn",
          "cnn",
          "cnn",
          "cnn",
          "cnn",
          "cnn",
          "cnn",
          "cnn",
          "cnn",
          "cnn",
          "cnn",
          "cnn",
          "cnn",
          "cnn",
          "cnn",
          "cnn",
          "cnn",
          "cnn",
          "cnn",
          "cnn",
          "cnn",
          "cnn",
          "cnn",
          "cnn",
          "cnn",
          "cnn",
          "cnn",
          "cnn",
          "cnn",
          "cnn",
          "cnn",
          "cnn",
          "cnn",
          "cnn",
          "cnn",
          "cnn",
          "cnn",
          "cnn",
          "cnn",
          "cnn",
          "cnn",
          "cnn",
          "cnn",
          "cnn",
          "cnn",
          "cnn",
          "cnn",
          "cnn",
          "cnn",
          "cnn",
          "cnn",
          "cnn",
          "cnn",
          "cnn",
          "cnn",
          "cnn",
          "cnn",
          "cnn",
          "cnn",
          "cnn",
          "cnn",
          "cnn",
          "cnn",
          "cnn",
          "cnn",
          "cnn",
          "cnn",
          "cnn",
          "cnn",
          "cnn",
          "cnn",
          "cnn",
          "cnn",
          "cnn",
          "cnn",
          "cnn",
          "cnn",
          "cnn",
          "cnn",
          "cnn",
          "cnn",
          "cnn",
          "cnn",
          "cnn",
          "cnn",
          "cnn",
          "cnn",
          "cnn",
          "cnn",
          "cnn",
          "cnn",
          "cnn",
          "cnn",
          "cnn",
          "cnn",
          "cnn",
          "cnn",
          "cnn",
          "cnn",
          "cnn",
          "cnn",
          "cnn",
          "cnn",
          "cnn",
          "cnn",
          "cnn",
          "cnn",
          "cnn",
          "cnn",
          "cnn",
          "cnn",
          "cnn",
          "cnn",
          "cnn",
          "cnn",
          "cnn",
          "cnn",
          "cnn",
          "cnn",
          "cnn",
          "cnn",
          "cnn",
          "cnn",
          "cnn",
          "cnn",
          "cnn",
          "cnn",
          "cnn",
          "cnn",
          "cnn",
          "cnn",
          "cnn",
          "cnn",
          "cnn",
          "cnn",
          "cnn",
          "cnn",
          "cnn",
          "cnn",
          "cnn",
          "cnn",
          "cnn",
          "cnn",
          "cnn",
          "cnn",
          "cnn",
          "cnn",
          "cnn",
          "cnn",
          "cnn",
          "cnn",
          "cnn",
          "cnn",
          "cnn",
          "cnn",
          "cnn",
          "cnn",
          "cnn",
          "cnn",
          "cnn",
          "cnn",
          "cnn",
          "cnn",
          "cnn",
          "cnn",
          "cnn",
          "cnn",
          "cnn",
          "cnn",
          "cnn",
          "cnn",
          "cnn",
          "cnn",
          "cnn",
          "cnn",
          "cnn",
          "cnn",
          "cnn",
          "cnn",
          "cnn",
          "cnn",
          "cnn",
          "cnn",
          "cnn",
          "cnn",
          "cnn",
          "cnn",
          "cnn",
          "cnn",
          "cnn",
          "cnn",
          "cnn",
          "cnn",
          "cnn",
          "cnn",
          "cnn",
          "cnn",
          "cnn",
          "cnn",
          "cnn",
          "cnn",
          "cnn",
          "cnn",
          "cnn",
          "cnn",
          "cnn",
          "cnn",
          "cnn",
          "cnn",
          "cnn",
          "cnn",
          "cnn",
          "cnn",
          "cnn",
          "cnn",
          "cnn",
          "cnn",
          "cnn",
          "cnn",
          "cnn",
          "cnn",
          "cnn",
          "cnn",
          "cnn",
          "cnn",
          "cnn",
          "cnn",
          "cnn",
          "cnn",
          "cnn",
          "cnn",
          "cnn",
          "cnn",
          "cnn",
          "cnn",
          "cnn",
          "cnn",
          "cnn",
          "cnn",
          "cnn",
          "cnn",
          "cnn",
          "cnn",
          "cnn",
          "cnn",
          "cnn",
          "cnn",
          "cnn",
          "cnn",
          "cnn",
          "cnn",
          "cnn",
          "cnn",
          "cnn",
          "cnn",
          "cnn",
          "cnn",
          "cnn",
          "cnn",
          "cnn",
          "cnn",
          "cnn",
          "cnn",
          "cnn",
          "cnn",
          "cnn",
          "cnn",
          "cnn",
          "cnn",
          "cnn",
          "cnn",
          "cnn",
          "cnn",
          "cnn",
          "cnn",
          "cnn",
          "cnn",
          "cnn",
          "cnn",
          "cnn",
          "cnn",
          "cnn",
          "cnn",
          "cnn",
          "cnn",
          "cnn",
          "cnn",
          "cnn",
          "cnn",
          "cnn",
          "cnn",
          "cnn",
          "cnn",
          "cnn",
          "cnn",
          "cnn",
          "cnn",
          "cnn",
          "cnn",
          "cnn",
          "cnn",
          "cnn",
          "cnn",
          "cnn",
          "cnn",
          "cnn",
          "cnn",
          "cnn",
          "cnn",
          "cnn",
          "cnn",
          "cnn",
          "cnn",
          "cnn",
          "cnn",
          "cnn",
          "cnn",
          "cnn",
          "cnn",
          "cnn",
          "cnn",
          "cnn",
          "cnn",
          "cnn",
          "cnn",
          "cnn",
          "cnn",
          "cnn",
          "cnn",
          "cnn",
          "cnn",
          "cnn",
          "cnn",
          "cnn",
          "cnn",
          "cnn",
          "cnn",
          "cnn",
          "cnn",
          "cnn",
          "cnn",
          "cnn",
          "cnn",
          "cnn",
          "cnn",
          "cnn",
          "cnn",
          "cnn",
          "cnn",
          "cnn",
          "cnn",
          "cnn",
          "cnn",
          "cnn",
          "cnn",
          "cnn",
          "cnn",
          "cnn",
          "cnn",
          "cnn",
          "cnn",
          "cnn",
          "cnn",
          "cnn",
          "cnn",
          "cnn",
          "cnn",
          "cnn",
          "cnn",
          "cnn",
          "cnn",
          "cnn",
          "cnn",
          "cnn",
          "cnn",
          "cnn",
          "cnn",
          "cnn",
          "cnn",
          "cnn",
          "cnn",
          "cnn",
          "cnn",
          "cnn",
          "cnn",
          "cnn",
          "cnn",
          "cnn",
          "cnn",
          "cnn",
          "cnn",
          "cnn",
          "cnn",
          "cnn",
          "cnn",
          "cnn",
          "cnn",
          "cnn",
          "cnn",
          "cnn",
          "cnn",
          "cnn",
          "cnn",
          "cnn",
          "cnn",
          "cnn",
          "cnn",
          "cnn",
          "cnn",
          "cnn",
          "cnn",
          "cnn",
          "cnn",
          "cnn",
          "cnn",
          "cnn",
          "cnn",
          "cnn",
          "cnn",
          "cnn",
          "cnn",
          "cnn",
          "cnn",
          "cnn",
          "cnn",
          "cnn",
          "cnn",
          "cnn",
          "cnn",
          "cnn",
          "cnn",
          "cnn",
          "cnn",
          "cnn",
          "cnn",
          "cnn",
          "cnn",
          "cnn",
          "cnn",
          "cnn",
          "cnn",
          "cnn",
          "cnn",
          "cnn",
          "cnn",
          "cnn",
          "cnn",
          "cnn",
          "cnn",
          "cnn",
          "cnn",
          "cnn",
          "cnn",
          "cnn",
          "cnn",
          "cnn",
          "cnn",
          "cnn",
          "cnn",
          "cnn",
          "cnn",
          "cnn",
          "cnn",
          "cnn",
          "cnn",
          "cnn",
          "cnn",
          "cnn",
          "cnn",
          "cnn",
          "cnn",
          "cnn",
          "cnn",
          "cnn",
          "cnn",
          "cnn",
          "cnn",
          "cnn",
          "cnn",
          "cnn",
          "cnn",
          "cnn",
          "cnn",
          "cnn",
          "cnn",
          "cnn",
          "cnn",
          "cnn",
          "cnn",
          "cnn",
          "cnn",
          "cnn",
          "cnn",
          "cnn",
          "cnn",
          "cnn",
          "cnn",
          "cnn",
          "cnn",
          "cnn",
          "cnn",
          "cnn",
          "cnn",
          "cnn",
          "cnn",
          "cnn",
          "cnn",
          "cnn",
          "cnn",
          "cnn",
          "cnn",
          "cnn",
          "cnn",
          "cnn",
          "cnn",
          "cnn",
          "cnn",
          "cnn",
          "cnn",
          "cnn",
          "cnn",
          "cnn",
          "cnn",
          "cnn",
          "cnn",
          "cnn",
          "cnn",
          "cnn",
          "cnn",
          "cnn",
          "cnn",
          "cnn",
          "cnn",
          "cnn",
          "cnn",
          "cnn",
          "cnn",
          "cnn",
          "cnn",
          "cnn",
          "cnn",
          "cnn",
          "cnn",
          "cnn",
          "cnn",
          "cnn",
          "cnn",
          "cnn",
          "cnn",
          "cnn",
          "cnn",
          "cnn",
          "cnn",
          "cnn",
          "cnn",
          "cnn",
          "cnn",
          "cnn",
          "cnn",
          "cnn",
          "cnn",
          "cnn",
          "cnn",
          "cnn",
          "cnn",
          "cnn",
          "cnn",
          "cnn",
          "cnn",
          "cnn",
          "cnn",
          "cnn",
          "cnn",
          "cnn",
          "cnn",
          "cnn",
          "cnn",
          "cnn",
          "cnn",
          "cnn",
          "cnn",
          "cnn",
          "cnn",
          "cnn",
          "cnn",
          "cnn",
          "cnn",
          "cnn",
          "cnn",
          "cnn",
          "cnn",
          "cnn",
          "cnn",
          "cnn",
          "cnn",
          "cnn",
          "cnn",
          "cnn",
          "cnn",
          "cnn",
          "cnn",
          "cnn",
          "cnn",
          "cnn",
          "cnn",
          "cnn",
          "cnn",
          "cnn",
          "cnn",
          "cnn",
          "cnn",
          "cnn",
          "cnn",
          "cnn",
          "cnn",
          "cnn",
          "cnn",
          "cnn",
          "cnn",
          "cnn",
          "cnn",
          "cnn",
          "cnn",
          "cnn",
          "cnn",
          "cnn",
          "cnn",
          "cnn",
          "cnn",
          "cnn",
          "cnn",
          "cnn",
          "cnn",
          "cnn",
          "cnn",
          "cnn",
          "cnn",
          "cnn",
          "cnn",
          "cnn",
          "cnn",
          "cnn",
          "cnn",
          "cnn",
          "cnn",
          "cnn",
          "cnn",
          "cnn",
          "cnn",
          "cnn",
          "cnn",
          "cnn",
          "cnn",
          "cnn",
          "cnn",
          "cnn",
          "cnn",
          "cnn",
          "cnn",
          "cnn",
          "cnn",
          "cnn",
          "cnn",
          "cnn",
          "cnn",
          "cnn",
          "cnn",
          "cnn",
          "cnn",
          "cnn",
          "cnn",
          "cnn",
          "cnn",
          "cnn",
          "cnn",
          "cnn",
          "cnn",
          "cnn",
          "cnn",
          "cnn",
          "cnn",
          "cnn",
          "cnn",
          "cnn",
          "cnn",
          "cnn",
          "cnn",
          "cnn",
          "cnn",
          "cnn",
          "cnn",
          "cnn",
          "cnn",
          "cnn",
          "cnn",
          "cnn",
          "cnn",
          "cnn",
          "cnn",
          "cnn",
          "cnn",
          "cnn",
          "cnn",
          "cnn",
          "cnn",
          "cnn",
          "cnn",
          "cnn",
          "cnn",
          "cnn",
          "cnn",
          "cnn",
          "cnn",
          "cnn",
          "cnn",
          "cnn",
          "cnn",
          "cnn",
          "cnn",
          "cnn",
          "cnn",
          "cnn",
          "cnn",
          "cnn",
          "cnn",
          "cnn",
          "cnn",
          "cnn",
          "cnn",
          "cnn",
          "cnn",
          "cnn",
          "cnn",
          "cnn",
          "cnn",
          "cnn",
          "cnn",
          "cnn",
          "cnn",
          "cnn",
          "cnn",
          "cnn",
          "cnn",
          "cnn",
          "cnn",
          "cnn",
          "cnn",
          "cnn",
          "cnn",
          "cnn",
          "cnn",
          "cnn",
          "cnn",
          "cnn",
          "cnn",
          "cnn",
          "cnn",
          "cnn",
          "cnn",
          "cnn",
          "cnn",
          "cnn",
          "cnn",
          "cnn",
          "cnn",
          "cnn",
          "cnn",
          "cnn",
          "cnn",
          "cnn",
          "cnn",
          "cnn",
          "cnn",
          "cnn",
          "cnn",
          "cnn",
          "cnn",
          "cnn",
          "cnn",
          "cnn",
          "cnn",
          "cnn",
          "cnn",
          "cnn",
          "cnn",
          "cnn",
          "cnn",
          "cnn",
          "cnn",
          "cnn",
          "cnn",
          "cnn",
          "cnn",
          "cnn",
          "cnn",
          "cnn",
          "cnn",
          "cnn",
          "cnn",
          "cnn",
          "cnn",
          "cnn",
          "cnn",
          "cnn",
          "cnn",
          "cnn",
          "cnn",
          "cnn",
          "cnn",
          "cnn",
          "cnn",
          "cnn",
          "cnn",
          "cnn",
          "cnn",
          "cnn",
          "cnn",
          "cnn",
          "cnn",
          "cnn",
          "cnn",
          "cnn",
          "cnn",
          "cnn",
          "cnn",
          "cnn",
          "nytimes",
          "nytimes",
          "nytimes",
          "nytimes",
          "nytimes",
          "nytimes",
          "nytimes",
          "nytimes",
          "nytimes",
          "nytimes",
          "nytimes",
          "nytimes",
          "nytimes",
          "nytimes",
          "nytimes",
          "nytimes",
          "nytimes",
          "nytimes",
          "nytimes",
          "nytimes",
          "nytimes",
          "nytimes",
          "nytimes",
          "nytimes",
          "nytimes",
          "nytimes",
          "nytimes",
          "nytimes",
          "nytimes",
          "nytimes",
          "nytimes",
          "nytimes",
          "nytimes",
          "nytimes",
          "nytimes",
          "nytimes",
          "nytimes",
          "nytimes",
          "nytimes",
          "nytimes",
          "nytimes",
          "nytimes",
          "nytimes",
          "nytimes",
          "nytimes",
          "nytimes",
          "nytimes",
          "nytimes",
          "nytimes",
          "nytimes",
          "nytimes",
          "nytimes",
          "nytimes",
          "nytimes",
          "nytimes",
          "nytimes",
          "nytimes",
          "nytimes",
          "nytimes",
          "nytimes",
          "nytimes",
          "nytimes",
          "nytimes",
          "nytimes",
          "nytimes",
          "nytimes",
          "nytimes",
          "nytimes",
          "nytimes",
          "nytimes",
          "nytimes",
          "nytimes",
          "nytimes",
          "nytimes",
          "nytimes",
          "nytimes",
          "nytimes",
          "nytimes",
          "nytimes",
          "nytimes",
          "nytimes",
          "nytimes",
          "nytimes",
          "nytimes",
          "nytimes",
          "nytimes",
          "nytimes",
          "nytimes",
          "nytimes",
          "nytimes",
          "nytimes",
          "nytimes",
          "nytimes",
          "nytimes",
          "nytimes",
          "nytimes",
          "nytimes",
          "nytimes",
          "nytimes",
          "nytimes",
          "nytimes",
          "nytimes",
          "nytimes",
          "nytimes",
          "nytimes",
          "nytimes",
          "nytimes",
          "nytimes",
          "nytimes",
          "nytimes",
          "nytimes",
          "nytimes",
          "nytimes",
          "nytimes",
          "nytimes",
          "nytimes",
          "nytimes",
          "nytimes",
          "nytimes",
          "nytimes",
          "nytimes",
          "nytimes",
          "nytimes",
          "nytimes",
          "nytimes",
          "nytimes",
          "nytimes",
          "nytimes",
          "nytimes",
          "nytimes",
          "nytimes",
          "nytimes",
          "nytimes",
          "nytimes",
          "nytimes",
          "nytimes",
          "nytimes",
          "nytimes",
          "nytimes",
          "nytimes",
          "nytimes",
          "nytimes",
          "nytimes",
          "nytimes",
          "nytimes",
          "nytimes",
          "nytimes",
          "nytimes",
          "nytimes",
          "nytimes",
          "nytimes",
          "nytimes",
          "nytimes",
          "nytimes",
          "nytimes",
          "nytimes",
          "nytimes",
          "nytimes",
          "nytimes",
          "nytimes",
          "nytimes",
          "nytimes",
          "nytimes",
          "nytimes",
          "nytimes",
          "nytimes",
          "nytimes",
          "nytimes",
          "nytimes",
          "nytimes",
          "nytimes",
          "nytimes",
          "nytimes",
          "nytimes",
          "nytimes",
          "nytimes",
          "nytimes",
          "nytimes",
          "nytimes",
          "nytimes",
          "nytimes",
          "nytimes",
          "nytimes",
          "nytimes",
          "nytimes",
          "nytimes",
          "nytimes",
          "nytimes",
          "nytimes",
          "nytimes",
          "nytimes",
          "nytimes",
          "nytimes",
          "nytimes",
          "nytimes",
          "nytimes",
          "nytimes",
          "nytimes",
          "nytimes",
          "nytimes",
          "nytimes",
          "nytimes",
          "nytimes",
          "nytimes",
          "nytimes",
          "nytimes",
          "nytimes",
          "nytimes",
          "nytimes",
          "nytimes",
          "nytimes",
          "nytimes",
          "nytimes",
          "nytimes",
          "nytimes",
          "nytimes",
          "nytimes",
          "nytimes",
          "nytimes",
          "nytimes",
          "nytimes",
          "nytimes",
          "nytimes",
          "nytimes",
          "nytimes",
          "nytimes",
          "nytimes",
          "nytimes",
          "nytimes",
          "nytimes",
          "nytimes",
          "nytimes",
          "nytimes",
          "nytimes",
          "nytimes",
          "nytimes",
          "nytimes",
          "nytimes",
          "nytimes",
          "nytimes",
          "nytimes",
          "nytimes",
          "nytimes",
          "nytimes",
          "nytimes",
          "nytimes",
          "nytimes",
          "nytimes",
          "nytimes",
          "nytimes",
          "nytimes",
          "nytimes",
          "nytimes",
          "nytimes",
          "nytimes",
          "nytimes",
          "nytimes",
          "nytimes",
          "nytimes",
          "nytimes",
          "nytimes",
          "nytimes",
          "nytimes",
          "nytimes",
          "nytimes",
          "nytimes",
          "nytimes",
          "nytimes",
          "nytimes",
          "nytimes",
          "nytimes",
          "nytimes",
          "nytimes",
          "nytimes",
          "nytimes",
          "nytimes",
          "nytimes",
          "nytimes",
          "nytimes",
          "nytimes",
          "nytimes",
          "nytimes",
          "nytimes",
          "nytimes",
          "nytimes",
          "nytimes",
          "nytimes",
          "nytimes",
          "nytimes",
          "nytimes",
          "nytimes",
          "nytimes",
          "nytimes",
          "nytimes",
          "nytimes",
          "nytimes",
          "nytimes",
          "nytimes",
          "nytimes",
          "nytimes",
          "nytimes",
          "nytimes",
          "nytimes",
          "nytimes",
          "nytimes",
          "nytimes",
          "nytimes",
          "nytimes",
          "nytimes",
          "nytimes",
          "nytimes",
          "nytimes",
          "nytimes",
          "nytimes",
          "nytimes",
          "nytimes",
          "nytimes",
          "nytimes",
          "nytimes",
          "nytimes",
          "nytimes",
          "nytimes",
          "nytimes",
          "nytimes",
          "nytimes",
          "nytimes",
          "nytimes",
          "nytimes",
          "nytimes",
          "nytimes",
          "nytimes",
          "nytimes",
          "nytimes",
          "nytimes",
          "nytimes",
          "nytimes",
          "nytimes",
          "nytimes",
          "nytimes",
          "nytimes",
          "nytimes",
          "nytimes",
          "nytimes",
          "nytimes",
          "nytimes",
          "nytimes",
          "nytimes",
          "nytimes",
          "nytimes",
          "nytimes",
          "nytimes",
          "nytimes",
          "nytimes",
          "nytimes",
          "nytimes",
          "nytimes",
          "nytimes",
          "nytimes",
          "nytimes",
          "nytimes",
          "nytimes",
          "nytimes",
          "nytimes",
          "nytimes",
          "nytimes",
          "nytimes",
          "nytimes",
          "nytimes",
          "nytimes",
          "nytimes",
          "nytimes",
          "nytimes",
          "nytimes",
          "nytimes",
          "nytimes",
          "nytimes",
          "nytimes",
          "nytimes",
          "nytimes",
          "nytimes",
          "nytimes",
          "nytimes",
          "nytimes",
          "nytimes",
          "nytimes",
          "nytimes",
          "nytimes",
          "nytimes",
          "nytimes",
          "nytimes",
          "nytimes",
          "nytimes",
          "nytimes",
          "nytimes",
          "nytimes",
          "nytimes",
          "nytimes",
          "nytimes",
          "nytimes",
          "nytimes",
          "nytimes",
          "nytimes",
          "nytimes",
          "nytimes",
          "nytimes",
          "nytimes",
          "nytimes",
          "nytimes",
          "nytimes",
          "nytimes",
          "nytimes",
          "nytimes",
          "nytimes",
          "nytimes",
          "nytimes",
          "nytimes",
          "nytimes",
          "nytimes",
          "nytimes",
          "nytimes",
          "nytimes",
          "nytimes",
          "nytimes",
          "nytimes",
          "nytimes",
          "nytimes",
          "nytimes",
          "nytimes",
          "nytimes",
          "nytimes",
          "nytimes",
          "nytimes",
          "nytimes",
          "nytimes",
          "nytimes",
          "nytimes",
          "nytimes",
          "nytimes",
          "nytimes",
          "nytimes",
          "nytimes",
          "nytimes",
          "nytimes",
          "nytimes",
          "nytimes",
          "nytimes",
          "nytimes",
          "nytimes",
          "nytimes",
          "nytimes",
          "nytimes",
          "nytimes",
          "nytimes",
          "nytimes",
          "nytimes",
          "nytimes",
          "nytimes",
          "nytimes",
          "nytimes",
          "nytimes",
          "nytimes",
          "nytimes",
          "nytimes",
          "nytimes",
          "nytimes",
          "nytimes",
          "nytimes",
          "nytimes",
          "nytimes",
          "nytimes",
          "nytimes",
          "nytimes",
          "nytimes",
          "nytimes",
          "nytimes",
          "nytimes",
          "nytimes",
          "nytimes",
          "nytimes",
          "nytimes",
          "nytimes",
          "nytimes",
          "nytimes",
          "nytimes",
          "nytimes",
          "nytimes",
          "nytimes",
          "nytimes",
          "nytimes",
          "nytimes",
          "nytimes",
          "nytimes",
          "nytimes",
          "nytimes",
          "nytimes",
          "nytimes",
          "nytimes",
          "nytimes",
          "nytimes",
          "nytimes",
          "nytimes",
          "nytimes",
          "nytimes",
          "nytimes",
          "nytimes",
          "nytimes",
          "nytimes",
          "nytimes",
          "nytimes",
          "nytimes",
          "nytimes",
          "nytimes",
          "nytimes",
          "nytimes",
          "nytimes",
          "nytimes",
          "nytimes",
          "nytimes",
          "nytimes",
          "nytimes",
          "nytimes",
          "nytimes",
          "nytimes",
          "nytimes",
          "nytimes",
          "nytimes",
          "nytimes",
          "nytimes",
          "nytimes",
          "nytimes",
          "nytimes",
          "nytimes",
          "nytimes",
          "nytimes",
          "nytimes",
          "nytimes",
          "nytimes",
          "nytimes",
          "nytimes",
          "nytimes",
          "nytimes",
          "nytimes",
          "nytimes",
          "nytimes",
          "nytimes",
          "nytimes",
          "nytimes",
          "nytimes",
          "nytimes",
          "nytimes",
          "nytimes",
          "nytimes",
          "nytimes",
          "nytimes",
          "nytimes",
          "nytimes",
          "nytimes",
          "nytimes",
          "nytimes",
          "nytimes",
          "nytimes",
          "nytimes",
          "nytimes",
          "nytimes",
          "nytimes",
          "nytimes",
          "nytimes",
          "nytimes",
          "nytimes",
          "nytimes",
          "nytimes",
          "nytimes",
          "nytimes",
          "nytimes",
          "nytimes",
          "nytimes",
          "nytimes",
          "nytimes",
          "nytimes",
          "nytimes",
          "nytimes",
          "nytimes",
          "nytimes",
          "nytimes",
          "nytimes",
          "nytimes",
          "nytimes",
          "nytimes",
          "nytimes",
          "nytimes",
          "nytimes",
          "nytimes",
          "nytimes",
          "nytimes",
          "nytimes",
          "nytimes",
          "nytimes",
          "nytimes",
          "nytimes",
          "nytimes",
          "nytimes",
          "nytimes",
          "nytimes",
          "nytimes",
          "nytimes",
          "nytimes",
          "nytimes",
          "nytimes",
          "nytimes",
          "nytimes",
          "nytimes",
          "nytimes",
          "nytimes",
          "nytimes",
          "nytimes",
          "nytimes",
          "nytimes",
          "nytimes",
          "nytimes",
          "nytimes",
          "nytimes",
          "nytimes",
          "nytimes",
          "nytimes",
          "nytimes",
          "nytimes",
          "nytimes",
          "nytimes",
          "nytimes",
          "nytimes",
          "nytimes",
          "nytimes",
          "nytimes",
          "nytimes",
          "nytimes",
          "nytimes",
          "nytimes",
          "nytimes",
          "nytimes",
          "nytimes",
          "nytimes",
          "nytimes",
          "nytimes",
          "nytimes",
          "nytimes",
          "nytimes",
          "nytimes",
          "nytimes",
          "nytimes",
          "nytimes",
          "nytimes",
          "nytimes",
          "nytimes",
          "nytimes",
          "nytimes",
          "nytimes",
          "nytimes",
          "nytimes",
          "nytimes",
          "nytimes",
          "nytimes",
          "nytimes",
          "nytimes",
          "nytimes",
          "nytimes",
          "nytimes",
          "nytimes",
          "nytimes",
          "nytimes",
          "nytimes",
          "nytimes",
          "nytimes",
          "nytimes",
          "nytimes",
          "nytimes",
          "nytimes",
          "nytimes",
          "nytimes",
          "nytimes",
          "nytimes",
          "nytimes",
          "nytimes",
          "nytimes",
          "nytimes",
          "nytimes",
          "nytimes",
          "nytimes",
          "nytimes",
          "nytimes",
          "nytimes",
          "nytimes",
          "nytimes",
          "nytimes",
          "nytimes",
          "nytimes",
          "nytimes",
          "nytimes",
          "nytimes",
          "nytimes",
          "nytimes",
          "nytimes",
          "nytimes",
          "nytimes",
          "nytimes",
          "nytimes",
          "nytimes",
          "nytimes",
          "nytimes",
          "nytimes",
          "nytimes",
          "nytimes",
          "nytimes",
          "nytimes",
          "nytimes",
          "nytimes",
          "nytimes",
          "nytimes",
          "nytimes",
          "nytimes",
          "nytimes",
          "nytimes",
          "nytimes",
          "nytimes",
          "nytimes",
          "nytimes",
          "nytimes",
          "nytimes",
          "nytimes",
          "nytimes",
          "nytimes",
          "nytimes",
          "nytimes",
          "nytimes",
          "nytimes",
          "nytimes",
          "nytimes",
          "nytimes",
          "nytimes",
          "nytimes",
          "nytimes",
          "nytimes",
          "nytimes",
          "nytimes",
          "nytimes",
          "nytimes",
          "nytimes",
          "nytimes",
          "nytimes",
          "nytimes",
          "nytimes",
          "nytimes",
          "nytimes",
          "nytimes",
          "nytimes",
          "nytimes",
          "nytimes",
          "nytimes",
          "nytimes",
          "nytimes",
          "nytimes",
          "nytimes",
          "nytimes",
          "nytimes",
          "nytimes",
          "nytimes",
          "nytimes",
          "nytimes",
          "nytimes",
          "nytimes",
          "nytimes",
          "nytimes",
          "nytimes",
          "nytimes",
          "nytimes",
          "nytimes",
          "nytimes",
          "nytimes",
          "nytimes",
          "nytimes",
          "nytimes",
          "nytimes",
          "nytimes",
          "nytimes",
          "nytimes",
          "nytimes",
          "nytimes",
          "nytimes",
          "nytimes",
          "nytimes",
          "nytimes",
          "nytimes",
          "nytimes",
          "nytimes",
          "nytimes",
          "nytimes",
          "nytimes",
          "nytimes",
          "nytimes",
          "nytimes",
          "nytimes",
          "nytimes",
          "nytimes",
          "nytimes",
          "nytimes",
          "nytimes",
          "nytimes",
          "nytimes",
          "nytimes",
          "nytimes",
          "nytimes",
          "nytimes",
          "nytimes",
          "nytimes",
          "nytimes",
          "nytimes",
          "nytimes",
          "nytimes",
          "nytimes",
          "nytimes",
          "nytimes",
          "nytimes",
          "nytimes",
          "nytimes",
          "nytimes",
          "nytimes",
          "nytimes",
          "nytimes",
          "nytimes",
          "nytimes",
          "nytimes",
          "nytimes",
          "nytimes",
          "nytimes",
          "nytimes",
          "nytimes",
          "nytimes",
          "nytimes",
          "nytimes",
          "nytimes",
          "nytimes",
          "nytimes",
          "nytimes",
          "nytimes",
          "nytimes",
          "nytimes",
          "nytimes",
          "nytimes",
          "nytimes",
          "nytimes",
          "nytimes",
          "nytimes",
          "nytimes",
          "nytimes",
          "nytimes",
          "nytimes",
          "nytimes",
          "nytimes",
          "nytimes",
          "nytimes",
          "nytimes",
          "nytimes",
          "nytimes",
          "nytimes",
          "nytimes",
          "nytimes",
          "nytimes",
          "nytimes",
          "nytimes",
          "nytimes",
          "nytimes",
          "nytimes",
          "nytimes",
          "nytimes",
          "nytimes",
          "nytimes",
          "nytimes",
          "nytimes",
          "nytimes",
          "nytimes",
          "nytimes",
          "nytimes",
          "nytimes",
          "nytimes",
          "nytimes",
          "nytimes",
          "nytimes",
          "nytimes",
          "nytimes",
          "nytimes",
          "nytimes",
          "nytimes",
          "nytimes",
          "nytimes",
          "nytimes",
          "nytimes",
          "nytimes",
          "nytimes",
          "nytimes",
          "nytimes",
          "nytimes",
          "nytimes",
          "nytimes",
          "nytimes",
          "nytimes",
          "nytimes",
          "nytimes",
          "nytimes",
          "nytimes",
          "nytimes",
          "nytimes",
          "nytimes",
          "nytimes",
          "nytimes",
          "nytimes",
          "nytimes",
          "nytimes",
          "nytimes",
          "nytimes",
          "nytimes",
          "nytimes",
          "nytimes",
          "nytimes",
          "nytimes",
          "nytimes",
          "nytimes",
          "nytimes",
          "nytimes",
          "nytimes",
          "nytimes",
          "nytimes",
          "nytimes",
          "nytimes",
          "nytimes",
          "nytimes",
          "nytimes",
          "nytimes",
          "nytimes",
          "nytimes",
          "nytimes",
          "nytimes",
          "nytimes",
          "nytimes",
          "nytimes",
          "nytimes",
          "nytimes",
          "nytimes",
          "nytimes",
          "nytimes",
          "nytimes",
          "nytimes",
          "nytimes",
          "nytimes",
          "nytimes",
          "nytimes",
          "nytimes",
          "nytimes",
          "nytimes",
          "nytimes",
          "nytimes",
          "nytimes",
          "nytimes",
          "nytimes",
          "nytimes",
          "nytimes",
          "nytimes",
          "nytimes",
          "nytimes",
          "nytimes",
          "nytimes",
          "nytimes",
          "nytimes",
          "nytimes",
          "nytimes",
          "nytimes",
          "nytimes",
          "nytimes",
          "nytimes",
          "nytimes",
          "nytimes",
          "nytimes",
          "nytimes",
          "nytimes",
          "nytimes",
          "nytimes",
          "nytimes",
          "nytimes",
          "nytimes",
          "nytimes",
          "nytimes",
          "nytimes",
          "nytimes",
          "nytimes",
          "nytimes",
          "nytimes",
          "nytimes",
          "nytimes",
          "nytimes",
          "nytimes",
          "nytimes",
          "nytimes",
          "nytimes",
          "nytimes",
          "nytimes",
          "nytimes",
          "nytimes",
          "nytimes",
          "nytimes",
          "nytimes",
          "nytimes",
          "nytimes",
          "nytimes",
          "nytimes",
          "nytimes",
          "nytimes",
          "nytimes",
          "nytimes",
          "nytimes",
          "nytimes",
          "nytimes",
          "nytimes",
          "nytimes",
          "nytimes",
          "nytimes",
          "nytimes",
          "nytimes",
          "nytimes",
          "nytimes",
          "nytimes",
          "nytimes",
          "nytimes",
          "nytimes",
          "nytimes",
          "nytimes",
          "nytimes",
          "nytimes",
          "nytimes",
          "nytimes",
          "nytimes",
          "nytimes",
          "nytimes",
          "nytimes",
          "nytimes",
          "nytimes",
          "nytimes",
          "nytimes",
          "nytimes",
          "nytimes",
          "nytimes",
          "nytimes",
          "nytimes",
          "nytimes",
          "nytimes",
          "nytimes",
          "nytimes",
          "nytimes",
          "nytimes",
          "nytimes",
          "nytimes",
          "nytimes",
          "nytimes",
          "nytimes",
          "nytimes",
          "nytimes",
          "nytimes",
          "nytimes",
          "nytimes",
          "nytimes",
          "nytimes",
          "nytimes",
          "nytimes",
          "nytimes",
          "nytimes",
          "nytimes",
          "nytimes",
          "nytimes",
          "nytimes",
          "nytimes",
          "nytimes",
          "nytimes",
          "nytimes",
          "nytimes",
          "nytimes",
          "nytimes",
          "nytimes",
          "nytimes",
          "nytimes",
          "nytimes",
          "nytimes",
          "nytimes",
          "nytimes",
          "nytimes",
          "nytimes",
          "nytimes",
          "nytimes",
          "nytimes",
          "nytimes",
          "nytimes",
          "nytimes",
          "nytimes",
          "nytimes",
          "nytimes",
          "nytimes",
          "nytimes",
          "nytimes",
          "nytimes",
          "nytimes",
          "nytimes",
          "nytimes",
          "nytimes",
          "nytimes",
          "nytimes",
          "nytimes",
          "nytimes",
          "nytimes",
          "nytimes",
          "nytimes",
          "nytimes",
          "nytimes",
          "nytimes",
          "nytimes",
          "nytimes",
          "nytimes",
          "nytimes",
          "nytimes",
          "nytimes",
          "nytimes",
          "nytimes",
          "nytimes",
          "nytimes",
          "nytimes",
          "nytimes",
          "nytimes",
          "nytimes",
          "nytimes",
          "nytimes",
          "nytimes",
          "nytimes",
          "nytimes",
          "nytimes",
          "nytimes",
          "nytimes",
          "nytimes",
          "nytimes",
          "nytimes",
          "nytimes",
          "nytimes",
          "nytimes",
          "nytimes",
          "nytimes",
          "nytimes",
          "nytimes",
          "nytimes",
          "nytimes",
          "nytimes",
          "nytimes",
          "nytimes",
          "nytimes",
          "nytimes",
          "nytimes",
          "nytimes",
          "nytimes",
          "nytimes",
          "nytimes",
          "nytimes",
          "nytimes",
          "nytimes",
          "nytimes",
          "nytimes",
          "nytimes",
          "nytimes",
          "nytimes",
          "nytimes",
          "nytimes",
          "nytimes",
          "nytimes",
          "nytimes",
          "nytimes",
          "nytimes",
          "nytimes",
          "nytimes",
          "nytimes",
          "nytimes",
          "nytimes",
          "nytimes",
          "nytimes",
          "nytimes",
          "nytimes",
          "nytimes",
          "nytimes",
          "nytimes",
          "nytimes",
          "nytimes",
          "nytimes",
          "nytimes",
          "nytimes",
          "nytimes",
          "nytimes",
          "nytimes",
          "nytimes",
          "nytimes",
          "nytimes",
          "nytimes",
          "nytimes",
          "nytimes",
          "nytimes",
          "nytimes",
          "nytimes",
          "nytimes",
          "nytimes",
          "nytimes",
          "nytimes",
          "nytimes",
          "nytimes",
          "nytimes",
          "nytimes",
          "nytimes",
          "nytimes",
          "nytimes",
          "nytimes",
          "nytimes",
          "nytimes",
          "nytimes",
          "nytimes",
          "nytimes",
          "nytimes",
          "nytimes",
          "nytimes",
          "nytimes",
          "nytimes",
          "nytimes",
          "nytimes",
          "nytimes",
          "nytimes",
          "nytimes",
          "nytimes",
          "nytimes",
          "nytimes",
          "nytimes",
          "nytimes",
          "nytimes",
          "nytimes",
          "nytimes",
          "nytimes",
          "nytimes",
          "nytimes",
          "nytimes",
          "nytimes",
          "nytimes",
          "nytimes",
          "nytimes",
          "nytimes",
          "nytimes",
          "nytimes",
          "nytimes",
          "nytimes",
          "nytimes",
          "nytimes",
          "nytimes",
          "nytimes",
          "nytimes",
          "nytimes",
          "nytimes",
          "nytimes",
          "nytimes",
          "nytimes",
          "nytimes",
          "nytimes",
          "nytimes",
          "nytimes",
          "nytimes",
          "nytimes",
          "nytimes",
          "nytimes",
          "nytimes",
          "nytimes",
          "nytimes",
          "nytimes",
          "nytimes",
          "nytimes",
          "nytimes",
          "nytimes",
          "nytimes",
          "nytimes",
          "nytimes",
          "nytimes",
          "nytimes",
          "nytimes",
          "nytimes",
          "nytimes",
          "nytimes",
          "nytimes",
          "nytimes",
          "nytimes",
          "nytimes",
          "nytimes",
          "nytimes",
          "nytimes",
          "nytimes",
          "nytimes",
          "nytimes",
          "nytimes",
          "nytimes",
          "nytimes",
          "nytimes",
          "nytimes",
          "nytimes",
          "nytimes",
          "nytimes",
          "nytimes",
          "nytimes",
          "nytimes",
          "nytimes",
          "nytimes",
          "nytimes",
          "nytimes",
          "nytimes",
          "nytimes",
          "nytimes",
          "nytimes",
          "nytimes",
          "nytimes",
          "nytimes",
          "nytimes",
          "nytimes",
          "nytimes",
          "nytimes",
          "nytimes",
          "nytimes",
          "nytimes",
          "nytimes",
          "nytimes",
          "nytimes",
          "nytimes",
          "nytimes",
          "nytimes",
          "nytimes",
          "nytimes",
          "nytimes",
          "nytimes",
          "nytimes",
          "nytimes",
          "nytimes",
          "nytimes",
          "nytimes",
          "nytimes",
          "nytimes",
          "nytimes",
          "nytimes",
          "nytimes",
          "nytimes",
          "nytimes",
          "nytimes",
          "nytimes",
          "nytimes",
          "nytimes",
          "nytimes",
          "nytimes",
          "nytimes",
          "nytimes",
          "nytimes",
          "nytimes",
          "nytimes",
          "nytimes",
          "nytimes",
          "nytimes",
          "nytimes",
          "nytimes",
          "nytimes",
          "nytimes",
          "nytimes",
          "nytimes",
          "nytimes",
          "nytimes",
          "nytimes",
          "nytimes",
          "nytimes",
          "nytimes",
          "nytimes",
          "nytimes",
          "nytimes",
          "nytimes",
          "nytimes",
          "nytimes",
          "nytimes",
          "nytimes",
          "nytimes",
          "nytimes",
          "nytimes",
          "nytimes",
          "nytimes",
          "nytimes",
          "nytimes",
          "nytimes",
          "nytimes",
          "nytimes",
          "nytimes",
          "nytimes",
          "nytimes",
          "nytimes",
          "nytimes",
          "nytimes",
          "nytimes",
          "nytimes",
          "nytimes",
          "nytimes",
          "nytimes",
          "nytimes",
          "nytimes",
          "nytimes",
          "nytimes",
          "nytimes",
          "nytimes",
          "nytimes",
          "nytimes",
          "nytimes",
          "nytimes",
          "nytimes",
          "nytimes",
          "nytimes",
          "nytimes",
          "nytimes",
          "nytimes",
          "nytimes",
          "nytimes",
          "nytimes",
          "nytimes",
          "nytimes",
          "nytimes",
          "nytimes",
          "nytimes",
          "nytimes",
          "nytimes",
          "nytimes",
          "nytimes",
          "nytimes",
          "nytimes",
          "nytimes",
          "nytimes",
          "nytimes",
          "nytimes",
          "nytimes",
          "nytimes",
          "nytimes",
          "nytimes",
          "nytimes",
          "nytimes",
          "nytimes",
          "nytimes",
          "nytimes",
          "nytimes",
          "nytimes",
          "nytimes",
          "nytimes",
          "nytimes",
          "nytimes",
          "nytimes",
          "nytimes",
          "nytimes",
          "nytimes",
          "nytimes",
          "nytimes",
          "nytimes",
          "nytimes",
          "nytimes",
          "nytimes",
          "nytimes",
          "nytimes",
          "nytimes",
          "nytimes",
          "nytimes",
          "nytimes",
          "nytimes",
          "nytimes",
          "nytimes",
          "nytimes",
          "nytimes",
          "nytimes",
          "nytimes",
          "nytimes",
          "nytimes",
          "nytimes",
          "nytimes",
          "nytimes",
          "nytimes",
          "nytimes",
          "nytimes",
          "nytimes",
          "nytimes",
          "nytimes",
          "nytimes",
          "nytimes",
          "nytimes",
          "nytimes",
          "nytimes",
          "nytimes",
          "nytimes",
          "nytimes",
          "nytimes",
          "nytimes",
          "nytimes",
          "nytimes",
          "nytimes",
          "nytimes",
          "nytimes",
          "nytimes",
          "nytimes",
          "nytimes",
          "nytimes",
          "nytimes",
          "nytimes",
          "nytimes",
          "nytimes",
          "nytimes",
          "nytimes",
          "nytimes",
          "nytimes",
          "nytimes",
          "nytimes",
          "nytimes",
          "nytimes",
          "nytimes",
          "nytimes",
          "nytimes",
          "nytimes",
          "nytimes",
          "nytimes",
          "nytimes",
          "nytimes",
          "nytimes",
          "nytimes",
          "nytimes",
          "nytimes",
          "nytimes",
          "nytimes",
          "nytimes",
          "nytimes",
          "nytimes",
          "nytimes",
          "nytimes",
          "nytimes",
          "nytimes",
          "nytimes",
          "nytimes",
          "nytimes",
          "nytimes",
          "nytimes",
          "nytimes",
          "nytimes",
          "nytimes",
          "nytimes",
          "nytimes",
          "nytimes",
          "nytimes",
          "nytimes",
          "nytimes",
          "nytimes",
          "nytimes",
          "nytimes",
          "nytimes",
          "nytimes",
          "nytimes",
          "nytimes",
          "nytimes",
          "nytimes",
          "nytimes",
          "nytimes",
          "nytimes",
          "nytimes",
          "nytimes",
          "nytimes",
          "nytimes",
          "nytimes",
          "nytimes",
          "nytimes",
          "nytimes",
          "nytimes",
          "nytimes",
          "nytimes",
          "nytimes",
          "nytimes",
          "nytimes",
          "nytimes",
          "nytimes",
          "nytimes",
          "nytimes",
          "nytimes",
          "nytimes",
          "nytimes",
          "nytimes",
          "nytimes",
          "nytimes",
          "nytimes",
          "nytimes",
          "nytimes",
          "nytimes",
          "nytimes",
          "nytimes",
          "nytimes",
          "nytimes",
          "nytimes",
          "nytimes",
          "nytimes",
          "nytimes",
          "nytimes",
          "nytimes",
          "nytimes",
          "nytimes",
          "nytimes",
          "nytimes",
          "nytimes",
          "nytimes",
          "nytimes",
          "nytimes",
          "nytimes",
          "nytimes",
          "nytimes",
          "nytimes",
          "nytimes",
          "nytimes",
          "nytimes",
          "nytimes",
          "nytimes",
          "nytimes",
          "nytimes",
          "nytimes",
          "nytimes",
          "nytimes",
          "nytimes",
          "nytimes",
          "nytimes",
          "nytimes",
          "nytimes",
          "nytimes",
          "nytimes",
          "nytimes",
          "nytimes",
          "nytimes",
          "nytimes",
          "nytimes",
          "nytimes",
          "nytimes",
          "nytimes",
          "nytimes",
          "nytimes",
          "nytimes",
          "nytimes",
          "nytimes",
          "nytimes",
          "nytimes",
          "nytimes",
          "nytimes",
          "nytimes",
          "nytimes",
          "nytimes",
          "nytimes",
          "nytimes",
          "nytimes",
          "nytimes",
          "nytimes",
          "nytimes",
          "nytimes",
          "nytimes",
          "nytimes",
          "nytimes",
          "nytimes",
          "nytimes",
          "nytimes",
          "nytimes",
          "nytimes",
          "nytimes",
          "nytimes",
          "nytimes",
          "nytimes",
          "nytimes",
          "nytimes",
          "nytimes",
          "nytimes",
          "nytimes",
          "nytimes",
          "nytimes",
          "nytimes",
          "nytimes",
          "nytimes",
          "nytimes",
          "nytimes",
          "nytimes",
          "nytimes",
          "nytimes",
          "nytimes",
          "nytimes",
          "nytimes",
          "nytimes",
          "nytimes",
          "nytimes",
          "nytimes",
          "nytimes",
          "nytimes",
          "nytimes",
          "nytimes",
          "nytimes",
          "nytimes",
          "nytimes",
          "nytimes",
          "nytimes",
          "nytimes",
          "nytimes",
          "nytimes",
          "nytimes",
          "nytimes",
          "nytimes",
          "nytimes",
          "nytimes",
          "nytimes",
          "nytimes",
          "nytimes",
          "nytimes",
          "nytimes",
          "nytimes",
          "nytimes",
          "nytimes",
          "nytimes",
          "nytimes",
          "nytimes",
          "nytimes",
          "nytimes",
          "nytimes",
          "nytimes",
          "nytimes",
          "nytimes",
          "nytimes",
          "nytimes",
          "nytimes",
          "nytimes",
          "nytimes",
          "nytimes",
          "nytimes",
          "nytimes",
          "nytimes",
          "nytimes",
          "nytimes",
          "nytimes",
          "nytimes",
          "nytimes",
          "nytimes",
          "nytimes",
          "nytimes",
          "nytimes",
          "nytimes",
          "nytimes",
          "nytimes",
          "nytimes",
          "nytimes",
          "nytimes",
          "nytimes",
          "nytimes",
          "nytimes",
          "nytimes",
          "nytimes",
          "nytimes",
          "nytimes",
          "nytimes",
          "nytimes",
          "nytimes",
          "nytimes",
          "nytimes",
          "nytimes",
          "nytimes",
          "nytimes",
          "nytimes",
          "nytimes",
          "nytimes",
          "nytimes",
          "nytimes",
          "nytimes",
          "nytimes",
          "nytimes",
          "nytimes",
          "nytimes",
          "nytimes",
          "nytimes",
          "nytimes",
          "nytimes",
          "nytimes",
          "nytimes",
          "nytimes",
          "nytimes",
          "nytimes",
          "nytimes",
          "nytimes",
          "nytimes",
          "nytimes",
          "nytimes",
          "nytimes",
          "nytimes",
          "nytimes",
          "nytimes",
          "nytimes",
          "nytimes",
          "nytimes",
          "nytimes",
          "nytimes",
          "nytimes",
          "nytimes",
          "nytimes",
          "nytimes",
          "nytimes",
          "nytimes",
          "nytimes",
          "nytimes",
          "nytimes",
          "nytimes",
          "nytimes",
          "nytimes",
          "nytimes",
          "nytimes",
          "nytimes",
          "nytimes",
          "nytimes",
          "nytimes",
          "nytimes",
          "nytimes",
          "nytimes",
          "nytimes",
          "nytimes",
          "nytimes",
          "nytimes",
          "nytimes",
          "nytimes",
          "nytimes",
          "nytimes",
          "nytimes",
          "nytimes",
          "nytimes",
          "nytimes",
          "nytimes",
          "nytimes",
          "nytimes",
          "nytimes",
          "nytimes",
          "nytimes",
          "nytimes",
          "nytimes",
          "nytimes",
          "nytimes",
          "nytimes",
          "nytimes",
          "nytimes",
          "nytimes",
          "nytimes",
          "nytimes",
          "nytimes",
          "nytimes",
          "nytimes",
          "nytimes",
          "nytimes",
          "nytimes",
          "nytimes",
          "nytimes",
          "nytimes",
          "nytimes",
          "nytimes",
          "nytimes",
          "nytimes",
          "nytimes",
          "nytimes",
          "nytimes",
          "nytimes",
          "nytimes",
          "nytimes",
          "nytimes",
          "nytimes",
          "nytimes",
          "nytimes",
          "nytimes",
          "nytimes",
          "nytimes",
          "nytimes",
          "nytimes",
          "nytimes",
          "nytimes",
          "nytimes",
          "nytimes",
          "nytimes",
          "nytimes",
          "nytimes",
          "nytimes",
          "nytimes",
          "nytimes",
          "nytimes",
          "nytimes",
          "nytimes",
          "nytimes",
          "nytimes",
          "nytimes",
          "nytimes",
          "nytimes",
          "nytimes",
          "nytimes",
          "nytimes",
          "nytimes",
          "nytimes",
          "nytimes",
          "nytimes",
          "nytimes",
          "nytimes",
          "nytimes",
          "nytimes",
          "nytimes",
          "nytimes",
          "nytimes",
          "nytimes",
          "nytimes",
          "nytimes",
          "nytimes",
          "nytimes",
          "nytimes",
          "nytimes",
          "nytimes",
          "nytimes",
          "nytimes",
          "nytimes",
          "nytimes",
          "nytimes",
          "nytimes",
          "nytimes",
          "nytimes",
          "nytimes",
          "nytimes",
          "nytimes",
          "nytimes",
          "nytimes",
          "nytimes",
          "nytimes",
          "nytimes",
          "nytimes",
          "nytimes",
          "nytimes",
          "nytimes",
          "nytimes",
          "nytimes",
          "nytimes",
          "nytimes",
          "nytimes",
          "nytimes",
          "nytimes",
          "nytimes",
          "nytimes",
          "nytimes",
          "nytimes",
          "nytimes",
          "nytimes",
          "nytimes",
          "nytimes",
          "nytimes",
          "nytimes",
          "nytimes",
          "nytimes",
          "nytimes",
          "nytimes",
          "nytimes",
          "nytimes",
          "nytimes",
          "nytimes",
          "nytimes",
          "nytimes",
          "nytimes",
          "nytimes",
          "nytimes",
          "nytimes",
          "nytimes",
          "nytimes",
          "nytimes",
          "nytimes",
          "nytimes",
          "nytimes",
          "nytimes",
          "nytimes",
          "nytimes",
          "nytimes",
          "nytimes",
          "nytimes",
          "nytimes",
          "nytimes",
          "nytimes",
          "nytimes",
          "nytimes",
          "nytimes",
          "nytimes",
          "nytimes",
          "nytimes",
          "nytimes",
          "nytimes",
          "nytimes",
          "nytimes",
          "nytimes",
          "nytimes",
          "nytimes",
          "nytimes",
          "nytimes",
          "nytimes",
          "nytimes",
          "nytimes",
          "nytimes",
          "nytimes",
          "nytimes",
          "nytimes",
          "nytimes",
          "nytimes",
          "nytimes",
          "nytimes",
          "nytimes",
          "nytimes",
          "nytimes",
          "nytimes",
          "nytimes",
          "nytimes",
          "nytimes",
          "nytimes",
          "nytimes",
          "nytimes",
          "nytimes",
          "nytimes",
          "nytimes",
          "nytimes",
          "nytimes",
          "nytimes",
          "nytimes",
          "nytimes",
          "nytimes",
          "nytimes",
          "nytimes",
          "nytimes",
          "nytimes",
          "nytimes",
          "nytimes",
          "nytimes",
          "nytimes",
          "nytimes",
          "nytimes",
          "nytimes",
          "nytimes",
          "nytimes",
          "nytimes",
          "nytimes",
          "nytimes",
          "nytimes",
          "nytimes",
          "nytimes",
          "nytimes",
          "nytimes",
          "nytimes",
          "nytimes",
          "nytimes",
          "nytimes",
          "nytimes",
          "nytimes",
          "nytimes",
          "nytimes",
          "nytimes",
          "nytimes",
          "nytimes",
          "nytimes",
          "nytimes",
          "nytimes",
          "nytimes",
          "nytimes",
          "nytimes",
          "nytimes",
          "nytimes",
          "nytimes",
          "nytimes",
          "nytimes",
          "nytimes",
          "nytimes",
          "nytimes",
          "nytimes",
          "nytimes",
          "nytimes",
          "nytimes",
          "nytimes",
          "nytimes",
          "nytimes",
          "nytimes",
          "nytimes",
          "nytimes",
          "nytimes",
          "nytimes",
          "nytimes",
          "nytimes",
          "nytimes",
          "nytimes",
          "nytimes",
          "nytimes",
          "nytimes",
          "nytimes",
          "nytimes",
          "nytimes",
          "nytimes",
          "nytimes",
          "nytimes",
          "nytimes",
          "nytimes",
          "nytimes",
          "nytimes",
          "nytimes",
          "nytimes",
          "nytimes",
          "nytimes",
          "nytimes",
          "nytimes",
          "nytimes",
          "nytimes",
          "nytimes",
          "nytimes",
          "nytimes",
          "nytimes",
          "nytimes",
          "nytimes",
          "nytimes",
          "nytimes",
          "nytimes",
          "nytimes",
          "nytimes",
          "nytimes",
          "nytimes",
          "nytimes",
          "nytimes",
          "nytimes",
          "nytimes",
          "nytimes",
          "nytimes",
          "nytimes",
          "nytimes",
          "nytimes",
          "nytimes",
          "nytimes",
          "nytimes",
          "nytimes",
          "nytimes",
          "nytimes",
          "nytimes",
          "nytimes",
          "nytimes",
          "nytimes",
          "nytimes",
          "nytimes",
          "nytimes",
          "nytimes",
          "nytimes",
          "nytimes",
          "nytimes",
          "nytimes",
          "nytimes",
          "nytimes",
          "nytimes",
          "nytimes",
          "nytimes",
          "nytimes",
          "nytimes",
          "nytimes",
          "nytimes",
          "nytimes",
          "nytimes",
          "nytimes",
          "nytimes",
          "nytimes",
          "nytimes",
          "nytimes",
          "nytimes",
          "nytimes",
          "nytimes",
          "nytimes",
          "nytimes",
          "nytimes",
          "nytimes",
          "nytimes",
          "nytimes",
          "nytimes",
          "nytimes",
          "nytimes",
          "nytimes",
          "nytimes",
          "nytimes",
          "nytimes",
          "nytimes",
          "nytimes",
          "nytimes",
          "nytimes",
          "nytimes",
          "nytimes",
          "nytimes",
          "nytimes",
          "nytimes",
          "nytimes",
          "nytimes",
          "nytimes",
          "nytimes",
          "nytimes",
          "nytimes",
          "nytimes",
          "nytimes",
          "nytimes",
          "nytimes",
          "nytimes",
          "nytimes",
          "nytimes",
          "nytimes",
          "nytimes",
          "nytimes",
          "nytimes",
          "nytimes",
          "nytimes",
          "cnn",
          "cnn",
          "cnn",
          "cnn",
          "cnn",
          "cnn",
          "cnn",
          "cnn",
          "cnn",
          "cnn",
          "cnn",
          "cnn",
          "cnn",
          "cnn",
          "cnn",
          "cnn",
          "cnn",
          "cnn",
          "cnn",
          "cnn",
          "cnn",
          "cnn",
          "cnn",
          "cnn",
          "cnn",
          "cnn",
          "cnn",
          "cnn",
          "cnn",
          "cnn",
          "cnn",
          "cnn",
          "cnn",
          "cnn",
          "cnn",
          "cnn",
          "cnn",
          "cnn",
          "cnn",
          "cnn",
          "cnn",
          "cnn",
          "cnn",
          "cnn",
          "cnn",
          "cnn",
          "cnn",
          "cnn",
          "cnn",
          "nytimes",
          "nytimes",
          "nytimes",
          "nytimes",
          "nytimes",
          "nytimes",
          "nytimes",
          "nytimes",
          "nytimes",
          "nytimes",
          "nytimes",
          "nytimes",
          "nytimes",
          "nytimes",
          "nytimes",
          "nytimes",
          "nytimes",
          "nytimes",
          "nytimes",
          "nytimes",
          "nytimes",
          "nytimes",
          "nytimes",
          "nytimes",
          "nytimes",
          "nytimes",
          "nytimes",
          "nytimes",
          "nytimes",
          "nytimes",
          "nytimes",
          "nytimes",
          "nytimes",
          "nytimes",
          "nytimes",
          "nytimes",
          "nytimes",
          "nytimes",
          "nytimes",
          "nytimes",
          "nytimes",
          "nytimes",
          "nytimes",
          "nytimes",
          "nytimes",
          "nytimes",
          "nytimes",
          "nytimes",
          "nytimes",
          "nytimes",
          "nytimes",
          "nytimes",
          "nytimes",
          "nytimes",
          "nytimes",
          "nytimes",
          "nytimes",
          "nytimes",
          "nytimes",
          "nytimes",
          "nytimes",
          "nytimes",
          "nytimes",
          "nytimes",
          "nytimes",
          "nytimes",
          "nytimes",
          "nytimes",
          "nytimes",
          "nytimes",
          "nytimes",
          "nytimes",
          "nytimes",
          "nytimes",
          "nytimes",
          "nytimes",
          "nytimes",
          "nytimes",
          "nytimes",
          "nytimes",
          "nytimes",
          "nytimes",
          "nytimes",
          "nytimes",
          "nytimes",
          "nytimes",
          "nytimes",
          "nytimes",
          "nytimes",
          "nytimes",
          "nytimes",
          "nytimes",
          "nytimes",
          "nytimes",
          "nytimes",
          "nytimes",
          "nytimes",
          "nytimes",
          "nytimes",
          "nytimes",
          "nytimes",
          "nytimes",
          "nytimes",
          "nytimes",
          "nytimes",
          "nytimes",
          "nytimes",
          "nytimes",
          "nytimes",
          "nytimes",
          "nytimes",
          "nytimes",
          "nytimes",
          "nytimes",
          "nytimes",
          "nytimes",
          "nytimes",
          "nytimes",
          "nytimes",
          "nytimes",
          "nytimes",
          "nytimes",
          "nytimes",
          "nytimes",
          "nytimes",
          "nytimes",
          "nytimes",
          "nytimes",
          "nytimes",
          "nytimes",
          "nytimes",
          "nytimes",
          "nytimes",
          "nytimes",
          "nytimes",
          "nytimes",
          "nytimes",
          "nytimes",
          "nytimes",
          "nytimes",
          "nytimes",
          "nytimes",
          "nytimes",
          "nytimes",
          "nytimes",
          "nytimes",
          "nytimes",
          "nytimes",
          "nytimes",
          "nytimes",
          "nytimes",
          "nytimes",
          "nytimes",
          "nytimes",
          "nytimes",
          "nytimes",
          "nytimes",
          "nytimes",
          "nytimes",
          "nytimes",
          "nytimes",
          "nytimes",
          "nytimes",
          "nytimes",
          "nytimes",
          "nytimes",
          "nytimes",
          "nytimes",
          "nytimes",
          "nytimes",
          "nytimes",
          "nytimes",
          "nytimes",
          "nytimes",
          "nytimes",
          "nytimes",
          "nytimes",
          "nytimes",
          "nytimes",
          "nytimes",
          "nytimes",
          "nytimes",
          "nytimes",
          "nytimes",
          "nytimes",
          "nytimes",
          "nytimes",
          "nytimes",
          "nytimes",
          "nytimes",
          "nytimes",
          "nytimes",
          "nytimes",
          "nytimes",
          "nytimes",
          "nytimes",
          "nytimes",
          "nytimes",
          "nytimes",
          "nytimes",
          "nytimes",
          "nytimes",
          "nytimes",
          "nytimes",
          "nytimes",
          "nytimes",
          "nytimes",
          "nytimes",
          "nytimes",
          "nytimes",
          "nytimes",
          "nytimes",
          "nytimes",
          "nytimes",
          "nytimes",
          "nytimes",
          "nytimes",
          "nytimes",
          "nytimes",
          "nytimes",
          "nytimes",
          "nytimes",
          "nytimes",
          "nytimes",
          "nytimes",
          "nytimes",
          "nytimes",
          "nytimes",
          "nytimes",
          "nytimes",
          "nytimes",
          "nytimes",
          "nytimes",
          "nytimes",
          "nytimes",
          "nytimes",
          "nytimes",
          "nytimes",
          "nytimes",
          "nytimes",
          "nytimes",
          "nytimes",
          "nytimes",
          "nytimes",
          "nytimes",
          "nytimes",
          "nytimes",
          "nytimes",
          "nytimes",
          "nytimes",
          "nytimes",
          "nytimes",
          "nytimes",
          "nytimes",
          "nytimes",
          "nytimes",
          "nytimes",
          "nytimes",
          "nytimes",
          "nytimes",
          "nytimes",
          "nytimes",
          "nytimes",
          "nytimes",
          "nytimes",
          "nytimes",
          "nytimes",
          "nytimes",
          "nytimes",
          "nytimes",
          "nytimes",
          "nytimes",
          "nytimes",
          "nytimes",
          "nytimes",
          "nytimes",
          "nytimes",
          "nytimes",
          "nytimes",
          "nytimes",
          "nytimes",
          "nytimes",
          "nytimes",
          "nytimes",
          "nytimes",
          "nytimes",
          "nytimes",
          "nytimes",
          "nytimes",
          "nytimes",
          "nytimes",
          "nytimes",
          "nytimes",
          "nytimes",
          "nytimes",
          "nytimes",
          "nytimes",
          "nytimes",
          "nytimes",
          "nytimes",
          "nytimes",
          "nytimes",
          "nytimes",
          "nytimes",
          "nytimes",
          "nytimes",
          "nytimes",
          "nytimes",
          "nytimes",
          "nytimes",
          "nytimes",
          "nytimes",
          "nytimes",
          "nytimes",
          "nytimes",
          "nytimes",
          "nytimes",
          "nytimes",
          "nytimes",
          "nytimes",
          "nytimes",
          "nytimes",
          "nytimes",
          "nytimes",
          "nytimes",
          "nytimes",
          "nytimes",
          "nytimes",
          "nytimes",
          "nytimes",
          "nytimes",
          "nytimes",
          "nytimes",
          "nytimes",
          "nytimes",
          "nytimes",
          "nytimes",
          "nytimes",
          "nytimes",
          "nytimes",
          "nytimes",
          "nytimes",
          "nytimes",
          "nytimes",
          "nytimes",
          "nytimes",
          "nytimes",
          "nytimes",
          "nytimes",
          "nytimes",
          "nytimes",
          "nytimes",
          "nytimes",
          "nytimes",
          "nytimes",
          "nytimes",
          "nytimes",
          "nytimes",
          "nytimes",
          "nytimes",
          "nytimes",
          "nytimes",
          "nytimes",
          "nytimes",
          "nytimes",
          "nytimes",
          "nytimes",
          "nytimes",
          "nytimes",
          "nytimes",
          "nytimes",
          "nytimes",
          "nytimes",
          "nytimes",
          "nytimes",
          "nytimes",
          "nytimes",
          "nytimes",
          "nytimes",
          "nytimes",
          "nytimes",
          "nytimes",
          "nytimes",
          "nytimes",
          "nytimes",
          "nytimes",
          "nytimes",
          "nytimes",
          "nytimes",
          "nytimes",
          "nytimes",
          "nytimes",
          "nytimes",
          "nytimes",
          "nytimes",
          "nytimes",
          "nytimes",
          "nytimes",
          "nytimes",
          "nytimes",
          "nytimes",
          "nytimes",
          "nytimes",
          "nytimes",
          "nytimes",
          "nytimes",
          "nytimes",
          "nytimes",
          "nytimes",
          "nytimes",
          "nytimes",
          "nytimes",
          "nytimes",
          "nytimes",
          "nytimes",
          "nytimes",
          "nytimes",
          "nytimes",
          "nytimes",
          "nytimes",
          "nytimes",
          "nytimes",
          "nytimes",
          "nytimes",
          "nytimes",
          "nytimes",
          "nytimes",
          "nytimes",
          "nytimes",
          "nytimes",
          "nytimes",
          "nytimes",
          "nytimes",
          "nytimes",
          "nytimes",
          "nytimes",
          "nytimes",
          "nytimes",
          "nytimes",
          "nytimes",
          "nytimes",
          "nytimes",
          "nytimes",
          "nytimes",
          "nytimes",
          "nytimes",
          "nytimes",
          "nytimes",
          "nytimes",
          "nytimes",
          "nytimes",
          "nytimes",
          "nytimes",
          "nytimes",
          "nytimes",
          "nytimes",
          "nytimes",
          "nytimes",
          "nytimes",
          "nytimes",
          "nytimes",
          "nytimes",
          "nytimes",
          "nytimes",
          "nytimes",
          "nytimes",
          "nytimes",
          "nytimes",
          "nytimes",
          "nytimes",
          "nytimes",
          "nytimes",
          "nytimes",
          "nytimes",
          "nytimes",
          "nytimes",
          "nytimes",
          "nytimes",
          "nytimes",
          "nytimes",
          "nytimes",
          "nytimes",
          "nytimes",
          "nytimes",
          "nytimes",
          "nytimes",
          "nytimes",
          "nytimes",
          "nytimes",
          "nytimes",
          "nytimes",
          "nytimes",
          "nytimes",
          "nytimes",
          "nytimes",
          "nytimes",
          "nytimes",
          "nytimes",
          "nytimes",
          "nytimes",
          "nytimes",
          "nytimes",
          "nytimes",
          "nytimes",
          "nytimes",
          "nytimes",
          "nytimes",
          "nytimes",
          "nytimes",
          "nytimes",
          "nytimes",
          "nytimes",
          "nytimes",
          "nytimes",
          "nytimes",
          "nytimes",
          "nytimes",
          "nytimes",
          "nytimes",
          "nytimes",
          "nytimes",
          "nytimes",
          "nytimes",
          "nytimes",
          "nytimes",
          "nytimes",
          "nytimes",
          "nytimes",
          "nytimes",
          "nytimes",
          "nytimes",
          "nytimes",
          "nytimes",
          "nytimes",
          "nytimes",
          "nytimes",
          "nytimes",
          "nytimes",
          "nytimes",
          "nytimes",
          "nytimes",
          "nytimes",
          "nytimes",
          "nytimes",
          "nytimes",
          "nytimes",
          "nytimes",
          "nytimes",
          "nytimes",
          "nytimes",
          "nytimes",
          "nytimes",
          "nytimes",
          "nytimes",
          "nytimes",
          "nytimes",
          "nytimes",
          "nytimes",
          "nytimes",
          "nytimes",
          "nytimes",
          "nytimes",
          "nytimes",
          "nytimes",
          "nytimes",
          "nytimes",
          "nytimes",
          "nytimes",
          "nytimes",
          "nytimes",
          "nytimes",
          "nytimes",
          "nytimes",
          "nytimes",
          "nytimes",
          "nytimes",
          "nytimes",
          "nytimes",
          "nytimes",
          "nytimes",
          "nytimes",
          "nytimes",
          "nytimes",
          "nytimes",
          "nytimes",
          "nytimes",
          "nytimes",
          "nytimes",
          "nytimes",
          "nytimes",
          "nytimes",
          "nytimes",
          "nytimes",
          "nytimes",
          "nytimes",
          "nytimes",
          "nytimes",
          "nytimes",
          "nytimes",
          "nytimes",
          "nytimes",
          "nytimes",
          "nytimes",
          "nytimes",
          "nytimes",
          "nytimes",
          "nytimes",
          "nytimes",
          "nytimes",
          "nytimes",
          "nytimes",
          "nytimes",
          "nytimes",
          "nytimes",
          "nytimes",
          "nytimes",
          "nytimes",
          "nytimes",
          "nytimes",
          "nytimes",
          "nytimes",
          "nytimes",
          "nytimes",
          "nytimes",
          "nytimes",
          "nytimes",
          "nytimes",
          "nytimes",
          "nytimes",
          "nytimes",
          "nytimes",
          "nytimes",
          "nytimes",
          "nytimes",
          "nytimes",
          "nytimes",
          "nytimes",
          "nytimes",
          "nytimes",
          "nytimes",
          "nytimes",
          "nytimes",
          "nytimes",
          "nytimes",
          "nytimes",
          "nytimes",
          "nytimes",
          "nytimes",
          "nytimes",
          "nytimes",
          "nytimes",
          "nytimes",
          "nytimes",
          "nytimes",
          "nytimes",
          "nytimes",
          "nytimes",
          "nytimes",
          "nytimes",
          "nytimes",
          "nytimes",
          "nytimes",
          "nytimes",
          "nytimes",
          "nytimes",
          "nytimes",
          "nytimes",
          "nytimes",
          "nytimes",
          "nytimes",
          "nytimes",
          "nytimes",
          "nytimes",
          "nytimes",
          "nytimes",
          "nytimes",
          "nytimes",
          "nytimes",
          "nytimes",
          "nytimes",
          "nytimes",
          "nytimes",
          "nytimes",
          "nytimes",
          "nytimes",
          "nytimes",
          "nytimes",
          "nytimes",
          "nytimes",
          "nytimes",
          "nytimes",
          "nytimes",
          "nytimes",
          "nytimes",
          "nytimes",
          "nytimes",
          "nytimes",
          "nytimes",
          "nytimes",
          "nytimes",
          "nytimes",
          "nytimes",
          "nytimes",
          "nytimes",
          "nytimes",
          "nytimes",
          "nytimes",
          "nytimes",
          "nytimes",
          "nytimes",
          "nytimes",
          "nytimes",
          "nytimes",
          "nytimes",
          "nytimes",
          "nytimes",
          "nytimes",
          "nytimes",
          "nytimes",
          "nytimes",
          "nytimes",
          "nytimes",
          "nytimes",
          "nytimes",
          "nytimes",
          "nytimes",
          "nytimes",
          "nytimes",
          "nytimes",
          "nytimes",
          "nytimes",
          "nytimes",
          "nytimes",
          "nytimes",
          "nytimes",
          "nytimes",
          "nytimes",
          "nytimes",
          "nytimes",
          "nytimes",
          "nytimes",
          "nytimes",
          "nytimes",
          "nytimes",
          "nytimes",
          "nytimes",
          "nytimes",
          "nytimes",
          "nytimes",
          "nytimes",
          "nytimes",
          "nytimes",
          "nytimes",
          "nytimes",
          "nytimes",
          "nytimes",
          "nytimes",
          "nytimes",
          "nytimes",
          "nytimes",
          "nytimes",
          "nytimes",
          "nytimes",
          "nytimes",
          "nytimes",
          "nytimes",
          "nytimes",
          "nytimes",
          "nytimes",
          "nytimes",
          "nytimes",
          "nytimes",
          "nytimes",
          "nytimes",
          "nytimes",
          "nytimes",
          "nytimes",
          "nytimes",
          "nytimes",
          "nytimes",
          "nytimes",
          "nytimes",
          "nytimes",
          "nytimes",
          "nytimes",
          "nytimes",
          "nytimes",
          "nytimes",
          "nytimes",
          "nytimes",
          "nytimes",
          "nytimes",
          "nytimes",
          "nytimes",
          "nytimes",
          "nytimes",
          "nytimes",
          "nytimes",
          "nytimes",
          "nytimes",
          "nytimes",
          "nytimes",
          "nytimes",
          "nytimes",
          "nytimes",
          "nytimes",
          "nytimes",
          "nytimes",
          "nytimes",
          "nytimes",
          "nytimes",
          "nytimes",
          "nytimes",
          "nytimes",
          "nytimes",
          "nytimes",
          "nytimes",
          "nytimes",
          "nytimes",
          "nytimes",
          "nytimes",
          "nytimes",
          "nytimes",
          "nytimes",
          "nytimes",
          "nytimes",
          "nytimes",
          "nytimes",
          "nytimes",
          "nytimes",
          "nytimes",
          "nytimes",
          "nytimes",
          "nytimes",
          "nytimes",
          "nytimes",
          "nytimes",
          "nytimes",
          "nytimes",
          "nytimes",
          "nytimes",
          "nytimes",
          "nytimes",
          "nytimes",
          "nytimes",
          "nytimes",
          "nytimes",
          "nytimes",
          "nytimes",
          "nytimes",
          "nytimes",
          "nytimes",
          "nytimes",
          "nytimes",
          "nytimes",
          "nytimes",
          "nytimes",
          "nytimes",
          "nytimes",
          "nytimes",
          "nytimes",
          "nytimes",
          "nytimes",
          "nytimes",
          "nytimes",
          "nytimes",
          "nytimes",
          "nytimes",
          "nytimes",
          "nytimes",
          "nytimes",
          "nytimes",
          "nytimes",
          "nytimes",
          "nytimes",
          "nytimes",
          "nytimes",
          "nytimes",
          "nytimes",
          "nytimes",
          "nytimes",
          "nytimes",
          "nytimes",
          "nytimes",
          "nytimes",
          "nytimes",
          "cnn",
          "cnn",
          "cnn",
          "cnn",
          "cnn",
          "cnn",
          "cnn",
          "cnn",
          "cnn",
          "cnn",
          "cnn",
          "cnn",
          "cnn",
          "cnn",
          "cnn",
          "cnn",
          "cnn",
          "cnn",
          "cnn",
          "cnn",
          "cnn",
          "cnn",
          "cnn",
          "cnn",
          "cnn",
          "cnn",
          "cnn",
          "cnn",
          "cnn",
          "cnn",
          "cnn",
          "cnn",
          "cnn",
          "cnn",
          "cnn",
          "cnn",
          "cnn",
          "cnn",
          "cnn",
          "cnn",
          "cnn",
          "cnn",
          "cnn",
          "cnn",
          "cnn",
          "cnn",
          "cnn",
          "cnn",
          "cnn",
          "cnn",
          "cnn",
          "cnn",
          "cnn",
          "cnn",
          "cnn",
          "cnn",
          "cnn",
          "cnn",
          "cnn",
          "cnn",
          "cnn",
          "cnn",
          "cnn",
          "cnn",
          "cnn",
          "cnn",
          "cnn",
          "cnn",
          "cnn",
          "cnn",
          "cnn",
          "cnn",
          "cnn",
          "cnn",
          "cnn",
          "cnn",
          "cnn",
          "cnn",
          "cnn",
          "nytimes",
          "nytimes",
          "nytimes",
          "nytimes",
          "nytimes",
          "nytimes",
          "nytimes",
          "nytimes",
          "nytimes",
          "nytimes",
          "nytimes",
          "nytimes",
          "nytimes",
          "nytimes",
          "nytimes",
          "nytimes",
          "nytimes",
          "nytimes",
          "nytimes",
          "nytimes",
          "nytimes",
          "nytimes",
          "nytimes",
          "nytimes",
          "nytimes",
          "nytimes",
          "nytimes",
          "nytimes",
          "nytimes",
          "nytimes",
          "nytimes",
          "nytimes",
          "nytimes",
          "nytimes",
          "nytimes",
          "nytimes",
          "nytimes",
          "nytimes",
          "nytimes",
          "nytimes",
          "nytimes",
          "nytimes",
          "nytimes",
          "nytimes",
          "nytimes",
          "nytimes",
          "nytimes",
          "nytimes",
          "nytimes",
          "nytimes",
          "nytimes",
          "nytimes",
          "nytimes",
          "nytimes",
          "nytimes",
          "nytimes",
          "nytimes",
          "nytimes",
          "nytimes",
          "nytimes",
          "nytimes",
          "nytimes",
          "nytimes",
          "nytimes",
          "nytimes",
          "nytimes",
          "nytimes",
          "nytimes",
          "nytimes",
          "nytimes",
          "nytimes",
          "nytimes",
          "nytimes",
          "nytimes",
          "nytimes",
          "nytimes",
          "nytimes",
          "nytimes",
          "nytimes",
          "nytimes",
          "nytimes",
          "nytimes",
          "nytimes",
          "nytimes",
          "nytimes",
          "nytimes",
          "nytimes",
          "nytimes",
          "nytimes",
          "nytimes",
          "nytimes",
          "nytimes",
          "nytimes",
          "nytimes",
          "nytimes",
          "nytimes",
          "nytimes",
          "nytimes",
          "nytimes",
          "nytimes",
          "nytimes",
          "nytimes",
          "nytimes",
          "nytimes",
          "nytimes",
          "nytimes",
          "nytimes",
          "nytimes",
          "nytimes",
          "nytimes",
          "nytimes",
          "nytimes",
          "nytimes",
          "nytimes",
          "nytimes",
          "nytimes",
          "nytimes",
          "nytimes",
          "nytimes",
          "nytimes",
          "nytimes",
          "nytimes",
          "nytimes",
          "nytimes",
          "nytimes",
          "nytimes",
          "nytimes",
          "nytimes",
          "nytimes",
          "nytimes",
          "nytimes",
          "nytimes",
          "nytimes",
          "nytimes",
          "nytimes",
          "nytimes",
          "nytimes",
          "nytimes",
          "nytimes",
          "nytimes",
          "nytimes",
          "nytimes",
          "nytimes",
          "nytimes",
          "nytimes",
          "nytimes",
          "nytimes",
          "nytimes",
          "nytimes",
          "nytimes",
          "nytimes",
          "nytimes",
          "nytimes",
          "nytimes",
          "nytimes",
          "nytimes",
          "nytimes",
          "nytimes",
          "nytimes",
          "nytimes",
          "nytimes",
          "nytimes",
          "nytimes",
          "nytimes",
          "nytimes",
          "nytimes",
          "nytimes",
          "nytimes",
          "nytimes",
          "nytimes",
          "nytimes",
          "nytimes",
          "nytimes",
          "nytimes",
          "nytimes",
          "nytimes",
          "nytimes",
          "nytimes",
          "nytimes",
          "nytimes",
          "nytimes",
          "nytimes",
          "nytimes",
          "nytimes",
          "nytimes",
          "nytimes",
          "nytimes",
          "nytimes",
          "nytimes",
          "nytimes",
          "cnn",
          "cnn",
          "cnn",
          "cnn",
          "cnn",
          "cnn",
          "cnn",
          "cnn",
          "nytimes",
          "nytimes",
          "nytimes",
          "nytimes",
          "nytimes",
          "nytimes",
          "nytimes",
          "nytimes",
          "nytimes",
          "nytimes",
          "nytimes",
          "nytimes",
          "nytimes",
          "nytimes",
          "nytimes",
          "nytimes",
          "nytimes",
          "nytimes",
          "nytimes",
          "nytimes",
          "nytimes",
          "nytimes",
          "nytimes",
          "nytimes",
          "nytimes",
          "nytimes",
          "nytimes",
          "nytimes",
          "nytimes",
          "nytimes",
          "nytimes",
          "nytimes",
          "nytimes",
          "nytimes",
          "nytimes",
          "nytimes",
          "nytimes",
          "nytimes",
          "nytimes",
          "nytimes",
          "nytimes",
          "nytimes",
          "nytimes",
          "nytimes",
          "nytimes",
          "nytimes",
          "nytimes",
          "nytimes",
          "nytimes",
          "nytimes",
          "nytimes",
          "nytimes",
          "nytimes",
          "nytimes",
          "nytimes",
          "nytimes",
          "nytimes",
          "nytimes",
          "nytimes",
          "nytimes"
         ],
         "yaxis": "y"
        }
       ],
       "layout": {
        "legend": {
         "tracegroupgap": 0
        },
        "margin": {
         "t": 60
        },
        "template": {
         "data": {
          "bar": [
           {
            "error_x": {
             "color": "#2a3f5f"
            },
            "error_y": {
             "color": "#2a3f5f"
            },
            "marker": {
             "line": {
              "color": "#E5ECF6",
              "width": 0.5
             }
            },
            "type": "bar"
           }
          ],
          "barpolar": [
           {
            "marker": {
             "line": {
              "color": "#E5ECF6",
              "width": 0.5
             }
            },
            "type": "barpolar"
           }
          ],
          "carpet": [
           {
            "aaxis": {
             "endlinecolor": "#2a3f5f",
             "gridcolor": "white",
             "linecolor": "white",
             "minorgridcolor": "white",
             "startlinecolor": "#2a3f5f"
            },
            "baxis": {
             "endlinecolor": "#2a3f5f",
             "gridcolor": "white",
             "linecolor": "white",
             "minorgridcolor": "white",
             "startlinecolor": "#2a3f5f"
            },
            "type": "carpet"
           }
          ],
          "choropleth": [
           {
            "colorbar": {
             "outlinewidth": 0,
             "ticks": ""
            },
            "type": "choropleth"
           }
          ],
          "contour": [
           {
            "colorbar": {
             "outlinewidth": 0,
             "ticks": ""
            },
            "colorscale": [
             [
              0,
              "#0d0887"
             ],
             [
              0.1111111111111111,
              "#46039f"
             ],
             [
              0.2222222222222222,
              "#7201a8"
             ],
             [
              0.3333333333333333,
              "#9c179e"
             ],
             [
              0.4444444444444444,
              "#bd3786"
             ],
             [
              0.5555555555555556,
              "#d8576b"
             ],
             [
              0.6666666666666666,
              "#ed7953"
             ],
             [
              0.7777777777777778,
              "#fb9f3a"
             ],
             [
              0.8888888888888888,
              "#fdca26"
             ],
             [
              1,
              "#f0f921"
             ]
            ],
            "type": "contour"
           }
          ],
          "contourcarpet": [
           {
            "colorbar": {
             "outlinewidth": 0,
             "ticks": ""
            },
            "type": "contourcarpet"
           }
          ],
          "heatmap": [
           {
            "colorbar": {
             "outlinewidth": 0,
             "ticks": ""
            },
            "colorscale": [
             [
              0,
              "#0d0887"
             ],
             [
              0.1111111111111111,
              "#46039f"
             ],
             [
              0.2222222222222222,
              "#7201a8"
             ],
             [
              0.3333333333333333,
              "#9c179e"
             ],
             [
              0.4444444444444444,
              "#bd3786"
             ],
             [
              0.5555555555555556,
              "#d8576b"
             ],
             [
              0.6666666666666666,
              "#ed7953"
             ],
             [
              0.7777777777777778,
              "#fb9f3a"
             ],
             [
              0.8888888888888888,
              "#fdca26"
             ],
             [
              1,
              "#f0f921"
             ]
            ],
            "type": "heatmap"
           }
          ],
          "heatmapgl": [
           {
            "colorbar": {
             "outlinewidth": 0,
             "ticks": ""
            },
            "colorscale": [
             [
              0,
              "#0d0887"
             ],
             [
              0.1111111111111111,
              "#46039f"
             ],
             [
              0.2222222222222222,
              "#7201a8"
             ],
             [
              0.3333333333333333,
              "#9c179e"
             ],
             [
              0.4444444444444444,
              "#bd3786"
             ],
             [
              0.5555555555555556,
              "#d8576b"
             ],
             [
              0.6666666666666666,
              "#ed7953"
             ],
             [
              0.7777777777777778,
              "#fb9f3a"
             ],
             [
              0.8888888888888888,
              "#fdca26"
             ],
             [
              1,
              "#f0f921"
             ]
            ],
            "type": "heatmapgl"
           }
          ],
          "histogram": [
           {
            "marker": {
             "colorbar": {
              "outlinewidth": 0,
              "ticks": ""
             }
            },
            "type": "histogram"
           }
          ],
          "histogram2d": [
           {
            "colorbar": {
             "outlinewidth": 0,
             "ticks": ""
            },
            "colorscale": [
             [
              0,
              "#0d0887"
             ],
             [
              0.1111111111111111,
              "#46039f"
             ],
             [
              0.2222222222222222,
              "#7201a8"
             ],
             [
              0.3333333333333333,
              "#9c179e"
             ],
             [
              0.4444444444444444,
              "#bd3786"
             ],
             [
              0.5555555555555556,
              "#d8576b"
             ],
             [
              0.6666666666666666,
              "#ed7953"
             ],
             [
              0.7777777777777778,
              "#fb9f3a"
             ],
             [
              0.8888888888888888,
              "#fdca26"
             ],
             [
              1,
              "#f0f921"
             ]
            ],
            "type": "histogram2d"
           }
          ],
          "histogram2dcontour": [
           {
            "colorbar": {
             "outlinewidth": 0,
             "ticks": ""
            },
            "colorscale": [
             [
              0,
              "#0d0887"
             ],
             [
              0.1111111111111111,
              "#46039f"
             ],
             [
              0.2222222222222222,
              "#7201a8"
             ],
             [
              0.3333333333333333,
              "#9c179e"
             ],
             [
              0.4444444444444444,
              "#bd3786"
             ],
             [
              0.5555555555555556,
              "#d8576b"
             ],
             [
              0.6666666666666666,
              "#ed7953"
             ],
             [
              0.7777777777777778,
              "#fb9f3a"
             ],
             [
              0.8888888888888888,
              "#fdca26"
             ],
             [
              1,
              "#f0f921"
             ]
            ],
            "type": "histogram2dcontour"
           }
          ],
          "mesh3d": [
           {
            "colorbar": {
             "outlinewidth": 0,
             "ticks": ""
            },
            "type": "mesh3d"
           }
          ],
          "parcoords": [
           {
            "line": {
             "colorbar": {
              "outlinewidth": 0,
              "ticks": ""
             }
            },
            "type": "parcoords"
           }
          ],
          "pie": [
           {
            "automargin": true,
            "type": "pie"
           }
          ],
          "scatter": [
           {
            "marker": {
             "colorbar": {
              "outlinewidth": 0,
              "ticks": ""
             }
            },
            "type": "scatter"
           }
          ],
          "scatter3d": [
           {
            "line": {
             "colorbar": {
              "outlinewidth": 0,
              "ticks": ""
             }
            },
            "marker": {
             "colorbar": {
              "outlinewidth": 0,
              "ticks": ""
             }
            },
            "type": "scatter3d"
           }
          ],
          "scattercarpet": [
           {
            "marker": {
             "colorbar": {
              "outlinewidth": 0,
              "ticks": ""
             }
            },
            "type": "scattercarpet"
           }
          ],
          "scattergeo": [
           {
            "marker": {
             "colorbar": {
              "outlinewidth": 0,
              "ticks": ""
             }
            },
            "type": "scattergeo"
           }
          ],
          "scattergl": [
           {
            "marker": {
             "colorbar": {
              "outlinewidth": 0,
              "ticks": ""
             }
            },
            "type": "scattergl"
           }
          ],
          "scattermapbox": [
           {
            "marker": {
             "colorbar": {
              "outlinewidth": 0,
              "ticks": ""
             }
            },
            "type": "scattermapbox"
           }
          ],
          "scatterpolar": [
           {
            "marker": {
             "colorbar": {
              "outlinewidth": 0,
              "ticks": ""
             }
            },
            "type": "scatterpolar"
           }
          ],
          "scatterpolargl": [
           {
            "marker": {
             "colorbar": {
              "outlinewidth": 0,
              "ticks": ""
             }
            },
            "type": "scatterpolargl"
           }
          ],
          "scatterternary": [
           {
            "marker": {
             "colorbar": {
              "outlinewidth": 0,
              "ticks": ""
             }
            },
            "type": "scatterternary"
           }
          ],
          "surface": [
           {
            "colorbar": {
             "outlinewidth": 0,
             "ticks": ""
            },
            "colorscale": [
             [
              0,
              "#0d0887"
             ],
             [
              0.1111111111111111,
              "#46039f"
             ],
             [
              0.2222222222222222,
              "#7201a8"
             ],
             [
              0.3333333333333333,
              "#9c179e"
             ],
             [
              0.4444444444444444,
              "#bd3786"
             ],
             [
              0.5555555555555556,
              "#d8576b"
             ],
             [
              0.6666666666666666,
              "#ed7953"
             ],
             [
              0.7777777777777778,
              "#fb9f3a"
             ],
             [
              0.8888888888888888,
              "#fdca26"
             ],
             [
              1,
              "#f0f921"
             ]
            ],
            "type": "surface"
           }
          ],
          "table": [
           {
            "cells": {
             "fill": {
              "color": "#EBF0F8"
             },
             "line": {
              "color": "white"
             }
            },
            "header": {
             "fill": {
              "color": "#C8D4E3"
             },
             "line": {
              "color": "white"
             }
            },
            "type": "table"
           }
          ]
         },
         "layout": {
          "annotationdefaults": {
           "arrowcolor": "#2a3f5f",
           "arrowhead": 0,
           "arrowwidth": 1
          },
          "coloraxis": {
           "colorbar": {
            "outlinewidth": 0,
            "ticks": ""
           }
          },
          "colorscale": {
           "diverging": [
            [
             0,
             "#8e0152"
            ],
            [
             0.1,
             "#c51b7d"
            ],
            [
             0.2,
             "#de77ae"
            ],
            [
             0.3,
             "#f1b6da"
            ],
            [
             0.4,
             "#fde0ef"
            ],
            [
             0.5,
             "#f7f7f7"
            ],
            [
             0.6,
             "#e6f5d0"
            ],
            [
             0.7,
             "#b8e186"
            ],
            [
             0.8,
             "#7fbc41"
            ],
            [
             0.9,
             "#4d9221"
            ],
            [
             1,
             "#276419"
            ]
           ],
           "sequential": [
            [
             0,
             "#0d0887"
            ],
            [
             0.1111111111111111,
             "#46039f"
            ],
            [
             0.2222222222222222,
             "#7201a8"
            ],
            [
             0.3333333333333333,
             "#9c179e"
            ],
            [
             0.4444444444444444,
             "#bd3786"
            ],
            [
             0.5555555555555556,
             "#d8576b"
            ],
            [
             0.6666666666666666,
             "#ed7953"
            ],
            [
             0.7777777777777778,
             "#fb9f3a"
            ],
            [
             0.8888888888888888,
             "#fdca26"
            ],
            [
             1,
             "#f0f921"
            ]
           ],
           "sequentialminus": [
            [
             0,
             "#0d0887"
            ],
            [
             0.1111111111111111,
             "#46039f"
            ],
            [
             0.2222222222222222,
             "#7201a8"
            ],
            [
             0.3333333333333333,
             "#9c179e"
            ],
            [
             0.4444444444444444,
             "#bd3786"
            ],
            [
             0.5555555555555556,
             "#d8576b"
            ],
            [
             0.6666666666666666,
             "#ed7953"
            ],
            [
             0.7777777777777778,
             "#fb9f3a"
            ],
            [
             0.8888888888888888,
             "#fdca26"
            ],
            [
             1,
             "#f0f921"
            ]
           ]
          },
          "colorway": [
           "#636efa",
           "#EF553B",
           "#00cc96",
           "#ab63fa",
           "#FFA15A",
           "#19d3f3",
           "#FF6692",
           "#B6E880",
           "#FF97FF",
           "#FECB52"
          ],
          "font": {
           "color": "#2a3f5f"
          },
          "geo": {
           "bgcolor": "white",
           "lakecolor": "white",
           "landcolor": "#E5ECF6",
           "showlakes": true,
           "showland": true,
           "subunitcolor": "white"
          },
          "hoverlabel": {
           "align": "left"
          },
          "hovermode": "closest",
          "mapbox": {
           "style": "light"
          },
          "paper_bgcolor": "white",
          "plot_bgcolor": "#E5ECF6",
          "polar": {
           "angularaxis": {
            "gridcolor": "white",
            "linecolor": "white",
            "ticks": ""
           },
           "bgcolor": "#E5ECF6",
           "radialaxis": {
            "gridcolor": "white",
            "linecolor": "white",
            "ticks": ""
           }
          },
          "scene": {
           "xaxis": {
            "backgroundcolor": "#E5ECF6",
            "gridcolor": "white",
            "gridwidth": 2,
            "linecolor": "white",
            "showbackground": true,
            "ticks": "",
            "zerolinecolor": "white"
           },
           "yaxis": {
            "backgroundcolor": "#E5ECF6",
            "gridcolor": "white",
            "gridwidth": 2,
            "linecolor": "white",
            "showbackground": true,
            "ticks": "",
            "zerolinecolor": "white"
           },
           "zaxis": {
            "backgroundcolor": "#E5ECF6",
            "gridcolor": "white",
            "gridwidth": 2,
            "linecolor": "white",
            "showbackground": true,
            "ticks": "",
            "zerolinecolor": "white"
           }
          },
          "shapedefaults": {
           "line": {
            "color": "#2a3f5f"
           }
          },
          "ternary": {
           "aaxis": {
            "gridcolor": "white",
            "linecolor": "white",
            "ticks": ""
           },
           "baxis": {
            "gridcolor": "white",
            "linecolor": "white",
            "ticks": ""
           },
           "bgcolor": "#E5ECF6",
           "caxis": {
            "gridcolor": "white",
            "linecolor": "white",
            "ticks": ""
           }
          },
          "title": {
           "x": 0.05
          },
          "xaxis": {
           "automargin": true,
           "gridcolor": "white",
           "linecolor": "white",
           "ticks": "",
           "title": {
            "standoff": 15
           },
           "zerolinecolor": "white",
           "zerolinewidth": 2
          },
          "yaxis": {
           "automargin": true,
           "gridcolor": "white",
           "linecolor": "white",
           "ticks": "",
           "title": {
            "standoff": 15
           },
           "zerolinecolor": "white",
           "zerolinewidth": 2
          }
         }
        },
        "xaxis": {
         "anchor": "y",
         "domain": [
          0,
          1
         ],
         "title": {
          "text": "date"
         }
        },
        "yaxis": {
         "anchor": "x",
         "domain": [
          0,
          1
         ],
         "title": {
          "text": "site"
         }
        }
       }
      },
      "text/html": [
       "<div>\n",
       "        \n",
       "        \n",
       "            <div id=\"24a7e0bb-cf42-4778-8a7d-7ba66b20fdc7\" class=\"plotly-graph-div\" style=\"height:525px; width:100%;\"></div>\n",
       "            <script type=\"text/javascript\">\n",
       "                require([\"plotly\"], function(Plotly) {\n",
       "                    window.PLOTLYENV=window.PLOTLYENV || {};\n",
       "                    \n",
       "                if (document.getElementById(\"24a7e0bb-cf42-4778-8a7d-7ba66b20fdc7\")) {\n",
       "                    Plotly.newPlot(\n",
       "                        '24a7e0bb-cf42-4778-8a7d-7ba66b20fdc7',\n",
       "                        [{\"hoverlabel\": {\"namelength\": 0}, \"hovertemplate\": \"date=%{x}<br>site=%{y}\", \"legendgroup\": \"\", \"marker\": {\"color\": \"#636efa\", \"symbol\": \"circle\"}, \"mode\": \"markers\", \"name\": \"\", \"showlegend\": false, \"type\": \"scattergl\", \"x\": [\"2020-03-04T00:00:00\", \"2020-03-04T00:00:00\", \"2020-03-04T00:00:00\", \"2020-03-04T00:00:00\", \"2020-03-04T00:00:00\", \"2020-03-04T00:00:00\", \"2020-03-04T00:00:00\", \"2020-03-04T00:00:00\", \"2020-03-03T00:00:00\", \"2020-03-04T00:00:00\", \"2020-03-04T00:00:00\", \"2020-03-04T00:00:00\", \"2020-03-04T00:00:00\", \"2020-03-03T00:00:00\", \"2020-03-04T00:00:00\", \"2020-03-04T00:00:00\", \"2020-03-04T00:00:00\", \"2020-03-04T00:00:00\", \"2020-03-04T00:00:00\", \"2020-03-04T00:00:00\", \"2020-03-04T00:00:00\", \"2020-03-04T00:00:00\", \"2020-03-04T00:00:00\", \"2020-03-04T00:00:00\", \"2020-03-04T00:00:00\", \"2020-03-04T00:00:00\", \"2020-03-04T00:00:00\", \"2020-03-04T00:00:00\", \"2020-03-04T00:00:00\", \"2020-03-04T00:00:00\", \"2020-03-04T00:00:00\", \"2020-03-04T00:00:00\", \"2020-03-04T00:00:00\", \"2020-03-04T00:00:00\", \"2020-03-04T00:00:00\", \"2020-03-02T00:00:00\", \"2020-03-03T00:00:00\", \"2020-03-04T00:00:00\", \"2020-03-04T00:00:00\", \"2020-03-03T00:00:00\", \"2020-03-04T00:00:00\", \"2020-03-04T00:00:00\", \"2020-03-04T00:00:00\", \"2020-03-04T00:00:00\", \"2020-01-29T00:00:00\", \"2020-03-04T00:00:00\", \"2020-03-04T00:00:00\", \"2020-03-03T00:00:00\", \"2020-03-04T00:00:00\", \"2020-03-04T00:00:00\", \"2020-03-03T00:00:00\", \"2020-03-03T00:00:00\", \"2020-03-03T00:00:00\", \"2020-03-03T00:00:00\", \"2020-03-03T00:00:00\", \"2020-03-03T00:00:00\", \"2020-03-03T00:00:00\", \"2020-03-03T00:00:00\", \"2020-03-03T00:00:00\", \"2020-03-03T00:00:00\", \"2020-03-02T00:00:00\", \"2020-03-03T00:00:00\", \"2020-03-03T00:00:00\", \"2020-03-03T00:00:00\", \"2020-03-03T00:00:00\", \"2020-03-03T00:00:00\", \"2020-03-03T00:00:00\", \"2020-03-03T00:00:00\", \"2020-03-03T00:00:00\", \"2020-03-03T00:00:00\", \"2020-03-03T00:00:00\", \"2020-03-03T00:00:00\", \"2020-03-03T00:00:00\", \"2020-03-03T00:00:00\", \"2020-03-03T00:00:00\", \"2020-03-03T00:00:00\", \"2020-03-03T00:00:00\", \"2020-03-03T00:00:00\", \"2020-03-03T00:00:00\", \"2020-03-03T00:00:00\", \"2020-03-03T00:00:00\", \"2020-03-03T00:00:00\", \"2020-03-01T00:00:00\", \"2020-03-03T00:00:00\", \"2020-03-03T00:00:00\", \"2020-03-03T00:00:00\", \"2020-03-03T00:00:00\", \"2020-03-03T00:00:00\", \"2020-03-03T00:00:00\", \"2020-03-03T00:00:00\", \"2020-03-03T00:00:00\", \"2020-03-03T00:00:00\", \"2020-03-03T00:00:00\", \"2020-03-03T00:00:00\", \"2020-03-03T00:00:00\", \"2020-03-02T00:00:00\", \"2020-03-02T00:00:00\", \"2020-03-02T00:00:00\", \"2020-03-02T00:00:00\", \"2020-03-03T00:00:00\", \"2020-03-02T00:00:00\", \"2020-03-02T00:00:00\", \"2020-03-02T00:00:00\", \"2020-03-02T00:00:00\", \"2020-03-02T00:00:00\", \"2020-03-02T00:00:00\", \"2020-03-02T00:00:00\", \"2020-03-02T00:00:00\", \"2020-03-02T00:00:00\", \"2020-03-02T00:00:00\", \"2020-02-16T00:00:00\", \"2020-03-02T00:00:00\", \"2020-03-02T00:00:00\", \"2020-03-02T00:00:00\", \"2020-03-02T00:00:00\", \"2020-03-02T00:00:00\", \"2020-03-02T00:00:00\", \"2020-03-02T00:00:00\", \"2020-03-02T00:00:00\", \"2020-03-02T00:00:00\", \"2020-03-02T00:00:00\", \"2020-03-02T00:00:00\", \"2020-02-29T00:00:00\", \"2020-03-02T00:00:00\", \"2020-03-02T00:00:00\", \"2020-03-02T00:00:00\", \"2020-03-02T00:00:00\", \"2020-03-02T00:00:00\", \"2020-03-02T00:00:00\", \"2020-03-02T00:00:00\", \"2020-03-02T00:00:00\", \"2020-03-02T00:00:00\", \"2020-03-02T00:00:00\", \"2020-03-02T00:00:00\", \"2020-03-02T00:00:00\", \"2020-02-29T00:00:00\", \"2020-02-28T00:00:00\", \"2020-02-06T00:00:00\", \"2020-03-02T00:00:00\", \"2020-03-01T00:00:00\", \"2020-03-02T00:00:00\", \"2020-03-02T00:00:00\", \"2020-02-29T00:00:00\", \"2020-03-02T00:00:00\", \"2020-02-26T00:00:00\", \"2020-03-01T00:00:00\", \"2020-03-02T00:00:00\", \"2020-03-02T00:00:00\", \"2020-03-02T00:00:00\", \"2020-03-01T00:00:00\", \"2020-03-02T00:00:00\", \"2020-03-02T00:00:00\", \"2020-03-02T00:00:00\", \"2020-03-02T00:00:00\", \"2020-03-01T00:00:00\", \"2020-03-01T00:00:00\", \"2020-03-01T00:00:00\", \"2020-03-01T00:00:00\", \"2020-03-01T00:00:00\", \"2020-03-01T00:00:00\", \"2020-03-01T00:00:00\", \"2020-03-01T00:00:00\", \"2020-03-01T00:00:00\", \"2020-03-01T00:00:00\", \"2020-03-01T00:00:00\", \"2020-03-01T00:00:00\", \"2020-03-01T00:00:00\", \"2020-03-01T00:00:00\", \"2020-03-01T00:00:00\", \"2020-03-01T00:00:00\", \"2020-03-01T00:00:00\", \"2020-03-01T00:00:00\", \"2020-03-01T00:00:00\", \"2020-02-29T00:00:00\", \"2020-03-01T00:00:00\", \"2020-03-01T00:00:00\", \"2020-03-01T00:00:00\", \"2020-02-29T00:00:00\", \"2020-02-29T00:00:00\", \"2020-02-29T00:00:00\", \"2020-02-29T00:00:00\", \"2020-02-29T00:00:00\", \"2020-02-29T00:00:00\", \"2020-02-29T00:00:00\", \"2020-02-29T00:00:00\", \"2020-02-26T00:00:00\", \"2020-02-29T00:00:00\", \"2020-02-28T00:00:00\", \"2020-02-29T00:00:00\", \"2020-02-29T00:00:00\", \"2020-02-29T00:00:00\", \"2020-02-29T00:00:00\", \"2020-02-29T00:00:00\", \"2020-02-29T00:00:00\", \"2020-02-29T00:00:00\", \"2020-02-28T00:00:00\", \"2020-02-28T00:00:00\", \"2020-02-28T00:00:00\", \"2020-02-28T00:00:00\", \"2020-02-26T00:00:00\", \"2020-02-27T00:00:00\", \"2020-02-28T00:00:00\", \"2020-02-28T00:00:00\", \"2020-02-28T00:00:00\", \"2020-02-28T00:00:00\", \"2016-07-14T00:00:00\", \"2020-02-28T00:00:00\", \"2020-02-28T00:00:00\", \"2020-02-28T00:00:00\", \"2020-02-28T00:00:00\", \"2020-02-28T00:00:00\", \"2020-02-28T00:00:00\", \"2020-02-28T00:00:00\", \"2020-02-28T00:00:00\", \"2020-02-28T00:00:00\", \"2020-02-28T00:00:00\", \"2020-02-28T00:00:00\", \"2020-02-26T00:00:00\", \"2020-02-28T00:00:00\", \"2020-02-28T00:00:00\", \"2020-02-27T00:00:00\", \"2020-02-28T00:00:00\", \"2020-02-28T00:00:00\", \"2020-02-28T00:00:00\", \"2020-02-28T00:00:00\", \"2020-02-28T00:00:00\", \"2020-02-28T00:00:00\", \"2020-02-28T00:00:00\", \"2020-02-27T00:00:00\", \"2020-02-28T00:00:00\", \"2020-02-28T00:00:00\", \"2020-02-27T00:00:00\", \"2020-02-28T00:00:00\", \"2020-02-28T00:00:00\", \"2020-02-28T00:00:00\", \"2020-02-27T00:00:00\", \"2020-02-28T00:00:00\", \"2020-02-27T00:00:00\", \"2020-02-28T00:00:00\", \"2020-02-27T00:00:00\", \"2020-02-26T00:00:00\", \"2020-02-28T00:00:00\", \"2020-02-28T00:00:00\", \"2020-02-27T00:00:00\", \"2020-02-25T00:00:00\", \"2020-02-28T00:00:00\", \"2020-02-28T00:00:00\", \"2020-02-27T00:00:00\", \"2020-02-27T00:00:00\", \"2020-02-27T00:00:00\", \"2020-02-27T00:00:00\", \"2020-02-27T00:00:00\", \"2020-02-27T00:00:00\", \"2020-02-27T00:00:00\", \"2020-02-26T00:00:00\", \"2020-02-27T00:00:00\", \"2020-02-27T00:00:00\", \"2020-02-27T00:00:00\", \"2020-02-27T00:00:00\", \"2020-02-27T00:00:00\", \"2020-02-27T00:00:00\", \"2020-02-27T00:00:00\", \"2020-02-27T00:00:00\", \"2020-02-11T00:00:00\", \"2020-02-27T00:00:00\", \"2020-02-27T00:00:00\", \"2020-02-27T00:00:00\", \"2020-02-27T00:00:00\", \"2020-02-27T00:00:00\", \"2020-02-27T00:00:00\", \"2020-02-27T00:00:00\", \"2020-02-27T00:00:00\", \"2020-02-27T00:00:00\", \"2020-02-27T00:00:00\", \"2020-02-27T00:00:00\", \"2020-02-27T00:00:00\", \"2020-02-27T00:00:00\", \"2020-02-27T00:00:00\", \"2020-02-27T00:00:00\", \"2020-02-26T00:00:00\", \"2020-02-26T00:00:00\", \"2020-02-27T00:00:00\", \"2020-02-27T00:00:00\", \"2020-02-26T00:00:00\", \"2020-02-27T00:00:00\", \"2020-02-26T00:00:00\", \"2020-02-26T00:00:00\", \"2020-02-27T00:00:00\", \"2020-02-27T00:00:00\", \"2020-02-27T00:00:00\", \"2020-02-26T00:00:00\", \"2020-02-26T00:00:00\", \"2020-02-27T00:00:00\", \"2020-02-26T00:00:00\", \"2020-02-26T00:00:00\", \"2020-02-26T00:00:00\", \"2020-02-26T00:00:00\", \"2020-02-26T00:00:00\", \"2020-02-26T00:00:00\", \"2020-02-26T00:00:00\", \"2020-02-26T00:00:00\", \"2020-02-26T00:00:00\", \"2020-02-26T00:00:00\", \"2020-02-26T00:00:00\", \"2020-02-26T00:00:00\", \"2020-02-26T00:00:00\", \"2020-02-26T00:00:00\", \"2020-02-26T00:00:00\", \"2020-02-26T00:00:00\", \"2020-02-26T00:00:00\", \"2020-02-26T00:00:00\", \"2020-02-26T00:00:00\", \"2020-02-25T00:00:00\", \"2020-02-25T00:00:00\", \"2020-02-26T00:00:00\", \"2020-02-25T00:00:00\", \"2020-02-26T00:00:00\", \"2020-02-25T00:00:00\", \"2020-02-26T00:00:00\", \"2020-02-26T00:00:00\", \"2020-02-25T00:00:00\", \"2020-02-26T00:00:00\", \"2020-02-26T00:00:00\", \"2020-02-26T00:00:00\", \"2020-02-25T00:00:00\", \"2020-02-26T00:00:00\", \"2020-02-25T00:00:00\", \"2020-02-26T00:00:00\", \"2020-02-25T00:00:00\", \"2020-02-25T00:00:00\", \"2020-02-25T00:00:00\", \"2020-02-26T00:00:00\", \"2020-02-25T00:00:00\", \"2020-02-25T00:00:00\", \"2020-02-25T00:00:00\", \"2020-02-25T00:00:00\", \"2020-02-25T00:00:00\", \"2020-02-25T00:00:00\", \"2020-02-25T00:00:00\", \"2020-02-25T00:00:00\", \"2020-02-25T00:00:00\", \"2020-02-25T00:00:00\", \"2020-02-25T00:00:00\", \"2020-02-25T00:00:00\", \"2020-02-24T00:00:00\", \"2020-02-25T00:00:00\", \"2020-02-25T00:00:00\", \"2020-02-24T00:00:00\", \"2020-02-25T00:00:00\", \"2020-02-25T00:00:00\", \"2020-02-24T00:00:00\", \"2020-02-25T00:00:00\", \"2020-02-25T00:00:00\", \"2020-02-24T00:00:00\", \"2020-02-24T00:00:00\", \"2020-02-24T00:00:00\", \"2020-02-25T00:00:00\", \"2020-02-25T00:00:00\", \"2020-02-24T00:00:00\", \"2020-02-24T00:00:00\", \"2020-02-24T00:00:00\", \"2020-02-23T00:00:00\", \"2020-02-24T00:00:00\", \"2020-02-23T00:00:00\", \"2020-02-24T00:00:00\", \"2020-02-24T00:00:00\", \"2020-02-23T00:00:00\", \"2020-02-24T00:00:00\", \"2020-02-24T00:00:00\", \"2020-02-23T00:00:00\", \"2020-02-24T00:00:00\", \"2020-02-24T00:00:00\", \"2020-02-24T00:00:00\", \"2020-02-24T00:00:00\", \"2020-02-23T00:00:00\", \"2020-02-19T00:00:00\", \"2020-02-23T00:00:00\", \"2020-02-22T00:00:00\", \"2020-02-22T00:00:00\", \"2020-02-23T00:00:00\", \"2020-02-22T00:00:00\", \"2020-02-23T00:00:00\", \"2020-01-31T00:00:00\", \"2020-02-22T00:00:00\", \"2020-02-22T00:00:00\", \"2020-02-22T00:00:00\", \"2020-02-21T00:00:00\", \"2020-02-21T00:00:00\", \"2020-02-21T00:00:00\", \"2020-02-21T00:00:00\", \"2020-02-21T00:00:00\", \"2020-02-20T00:00:00\", \"2020-02-20T00:00:00\", \"2020-02-21T00:00:00\", \"2020-02-21T00:00:00\", \"2020-02-21T00:00:00\", \"2020-02-21T00:00:00\", \"2020-02-21T00:00:00\", \"2020-02-21T00:00:00\", \"2020-02-21T00:00:00\", \"2020-02-21T00:00:00\", \"2020-02-21T00:00:00\", \"2020-02-20T00:00:00\", \"2020-02-20T00:00:00\", \"2020-02-20T00:00:00\", \"2020-02-20T00:00:00\", \"2020-02-20T00:00:00\", \"2020-02-20T00:00:00\", \"2020-02-20T00:00:00\", \"2020-02-20T00:00:00\", \"2020-02-19T00:00:00\", \"2020-02-20T00:00:00\", \"2020-02-05T00:00:00\", \"2020-02-20T00:00:00\", \"2020-02-19T00:00:00\", \"2020-02-20T00:00:00\", \"2020-02-20T00:00:00\", \"2020-02-19T00:00:00\", \"2020-02-19T00:00:00\", \"2020-02-18T00:00:00\", \"2020-02-19T00:00:00\", \"2020-02-19T00:00:00\", \"2020-02-19T00:00:00\", \"2020-02-19T00:00:00\", \"2020-02-18T00:00:00\", \"2020-02-17T00:00:00\", \"2020-02-19T00:00:00\", \"2020-02-19T00:00:00\", \"2020-01-30T00:00:00\", \"2020-02-19T00:00:00\", \"2020-02-19T00:00:00\", \"2020-02-19T00:00:00\", \"2020-02-18T00:00:00\", \"2020-02-18T00:00:00\", \"2020-02-18T00:00:00\", \"2020-02-18T00:00:00\", \"2020-02-18T00:00:00\", \"2020-02-18T00:00:00\", \"2020-02-18T00:00:00\", \"2020-02-18T00:00:00\", \"2020-02-17T00:00:00\", \"2020-02-18T00:00:00\", \"2020-02-17T00:00:00\", \"2020-02-18T00:00:00\", \"2020-02-17T00:00:00\", \"2020-02-18T00:00:00\", \"2020-02-17T00:00:00\", \"2020-02-18T00:00:00\", \"2020-02-18T00:00:00\", \"2020-02-17T00:00:00\", \"2020-02-18T00:00:00\", \"2020-02-18T00:00:00\", \"2020-01-20T00:00:00\", \"2020-02-17T00:00:00\", \"2020-02-17T00:00:00\", \"2020-02-17T00:00:00\", \"2020-02-17T00:00:00\", \"2020-02-17T00:00:00\", \"2020-02-17T00:00:00\", \"2020-02-16T00:00:00\", \"2020-02-17T00:00:00\", \"2020-02-17T00:00:00\", \"2020-02-16T00:00:00\", \"2020-02-17T00:00:00\", \"2020-02-16T00:00:00\", \"2020-02-17T00:00:00\", \"2020-02-17T00:00:00\", \"2020-02-17T00:00:00\", \"2020-02-14T00:00:00\", \"2020-02-15T00:00:00\", \"2020-02-16T00:00:00\", \"2020-02-16T00:00:00\", \"2020-02-15T00:00:00\", \"2020-02-15T00:00:00\", \"2020-02-14T00:00:00\", \"2020-02-15T00:00:00\", \"2020-02-14T00:00:00\", \"2020-02-15T00:00:00\", \"2020-02-14T00:00:00\", \"2020-02-14T00:00:00\", \"2020-02-14T00:00:00\", \"2020-02-14T00:00:00\", \"2020-02-13T00:00:00\", \"2020-02-14T00:00:00\", \"2020-02-14T00:00:00\", \"2020-02-14T00:00:00\", \"2020-02-13T00:00:00\", \"2020-02-14T00:00:00\", \"2020-02-14T00:00:00\", \"2020-02-13T00:00:00\", \"2020-02-14T00:00:00\", \"2020-02-14T00:00:00\", \"2020-02-14T00:00:00\", \"2020-02-13T00:00:00\", \"2020-02-13T00:00:00\", \"2020-02-13T00:00:00\", \"2020-02-10T00:00:00\", \"2020-02-13T00:00:00\", \"2020-02-13T00:00:00\", \"2020-02-13T00:00:00\", \"2020-02-13T00:00:00\", \"2020-01-27T00:00:00\", \"2020-02-13T00:00:00\", \"2020-02-13T00:00:00\", \"2020-02-13T00:00:00\", \"2020-02-13T00:00:00\", \"2020-02-13T00:00:00\", \"2020-02-13T00:00:00\", \"2020-02-13T00:00:00\", \"2020-02-12T00:00:00\", \"2020-02-13T00:00:00\", \"2020-02-12T00:00:00\", \"2020-02-13T00:00:00\", \"2020-02-13T00:00:00\", \"2020-02-13T00:00:00\", \"2020-02-13T00:00:00\", \"2020-02-05T00:00:00\", \"2020-02-12T00:00:00\", \"2020-02-12T00:00:00\", \"2020-02-12T00:00:00\", \"2020-02-12T00:00:00\", \"2020-02-12T00:00:00\", \"2020-02-12T00:00:00\", \"2020-02-12T00:00:00\", \"2020-02-10T00:00:00\", \"2020-02-12T00:00:00\", \"2020-02-12T00:00:00\", \"2020-02-11T00:00:00\", \"2020-02-10T00:00:00\", \"2020-02-11T00:00:00\", \"2020-02-11T00:00:00\", \"2020-02-11T00:00:00\", \"2020-02-11T00:00:00\", \"2020-02-11T00:00:00\", \"2020-02-10T00:00:00\", \"2020-02-11T00:00:00\", \"2020-02-11T00:00:00\", \"2020-02-11T00:00:00\", \"2020-02-11T00:00:00\", \"2020-02-11T00:00:00\", \"2020-02-11T00:00:00\", \"2020-02-10T00:00:00\", \"2020-02-11T00:00:00\", \"2020-02-10T00:00:00\", \"2020-02-09T00:00:00\", \"2020-02-11T00:00:00\", \"2020-02-10T00:00:00\", \"2020-02-11T00:00:00\", \"2020-02-11T00:00:00\", \"2020-02-11T00:00:00\", \"2020-02-11T00:00:00\", \"2020-02-08T00:00:00\", \"2020-02-10T00:00:00\", \"2020-02-10T00:00:00\", \"2020-02-10T00:00:00\", \"2020-02-09T00:00:00\", \"2020-02-10T00:00:00\", \"2020-02-10T00:00:00\", \"2020-02-10T00:00:00\", \"2020-02-10T00:00:00\", \"2020-02-10T00:00:00\", \"2020-02-09T00:00:00\", \"2020-02-10T00:00:00\", \"2020-02-10T00:00:00\", \"2020-02-10T00:00:00\", \"2020-02-10T00:00:00\", \"2020-02-08T00:00:00\", \"2020-02-09T00:00:00\", \"2020-02-09T00:00:00\", \"2020-02-09T00:00:00\", \"2020-02-09T00:00:00\", \"2020-02-09T00:00:00\", \"2020-02-09T00:00:00\", \"2020-02-08T00:00:00\", \"2020-02-08T00:00:00\", \"2020-02-08T00:00:00\", \"2020-02-07T00:00:00\", \"2020-02-08T00:00:00\", \"2020-02-07T00:00:00\", \"2020-02-07T00:00:00\", \"2020-02-07T00:00:00\", \"2020-02-07T00:00:00\", \"2020-02-07T00:00:00\", \"2020-02-07T00:00:00\", \"2020-02-07T00:00:00\", \"2020-02-07T00:00:00\", \"2020-02-07T00:00:00\", \"2020-02-07T00:00:00\", \"2020-02-07T00:00:00\", \"2020-02-07T00:00:00\", \"2020-02-07T00:00:00\", \"2020-02-07T00:00:00\", \"2020-02-07T00:00:00\", \"2020-02-07T00:00:00\", \"2020-02-07T00:00:00\", \"2020-02-07T00:00:00\", \"2020-02-07T00:00:00\", \"2020-02-07T00:00:00\", \"2020-02-07T00:00:00\", \"2020-02-07T00:00:00\", \"2020-02-07T00:00:00\", \"2020-02-07T00:00:00\", \"2020-02-07T00:00:00\", \"2020-02-06T00:00:00\", \"2020-02-07T00:00:00\", \"2020-02-06T00:00:00\", \"2020-02-06T00:00:00\", \"2020-02-06T00:00:00\", \"2020-02-07T00:00:00\", \"2020-02-06T00:00:00\", \"2020-02-06T00:00:00\", \"2020-02-06T00:00:00\", \"2020-02-06T00:00:00\", \"2020-02-06T00:00:00\", \"2020-02-06T00:00:00\", \"2020-02-06T00:00:00\", \"2020-02-06T00:00:00\", \"2020-02-05T00:00:00\", \"2020-02-06T00:00:00\", \"2020-02-06T00:00:00\", \"2020-02-06T00:00:00\", \"2020-02-06T00:00:00\", \"2020-02-06T00:00:00\", \"2020-02-06T00:00:00\", \"2020-02-05T00:00:00\", \"2020-02-06T00:00:00\", \"2020-02-05T00:00:00\", \"2020-02-06T00:00:00\", \"2020-02-05T00:00:00\", \"2020-02-05T00:00:00\", \"2020-02-05T00:00:00\", \"2020-02-05T00:00:00\", \"2020-02-05T00:00:00\", \"2020-02-05T00:00:00\", \"2020-02-05T00:00:00\", \"2020-02-05T00:00:00\", \"2020-02-05T00:00:00\", \"2020-02-05T00:00:00\", \"2020-02-04T00:00:00\", \"2020-02-05T00:00:00\", \"2020-02-05T00:00:00\", \"2020-02-05T00:00:00\", \"2020-02-05T00:00:00\", \"2020-02-05T00:00:00\", \"2020-02-05T00:00:00\", \"2020-02-05T00:00:00\", \"2020-02-05T00:00:00\", \"2020-02-05T00:00:00\", \"2020-02-05T00:00:00\", \"2020-02-04T00:00:00\", \"2020-02-05T00:00:00\", \"2020-02-04T00:00:00\", \"2020-02-04T00:00:00\", \"2020-02-04T00:00:00\", \"2020-02-04T00:00:00\", \"2020-02-04T00:00:00\", \"2020-01-31T00:00:00\", \"2020-02-04T00:00:00\", \"2020-02-04T00:00:00\", \"2020-02-04T00:00:00\", \"2020-02-04T00:00:00\", \"2020-02-04T00:00:00\", \"2020-02-04T00:00:00\", \"2020-02-04T00:00:00\", \"2020-02-04T00:00:00\", \"2020-02-04T00:00:00\", \"2020-02-03T00:00:00\", \"2020-02-04T00:00:00\", \"2020-02-04T00:00:00\", \"2020-02-04T00:00:00\", \"2020-02-04T00:00:00\", \"2020-02-03T00:00:00\", \"2020-02-03T00:00:00\", \"2020-02-03T00:00:00\", \"2020-02-03T00:00:00\", \"2020-02-03T00:00:00\", \"2020-02-03T00:00:00\", \"2020-02-03T00:00:00\", \"2020-02-03T00:00:00\", \"2020-02-03T00:00:00\", \"2020-02-03T00:00:00\", \"2020-02-03T00:00:00\", \"2020-02-03T00:00:00\", \"2020-02-03T00:00:00\", \"2020-02-02T00:00:00\", \"2020-02-01T00:00:00\", \"2020-02-03T00:00:00\", \"2020-02-03T00:00:00\", \"2020-02-03T00:00:00\", \"2020-01-31T00:00:00\", \"2020-02-02T00:00:00\", \"2020-02-02T00:00:00\", \"2020-02-02T00:00:00\", \"2020-02-02T00:00:00\", \"2020-02-01T00:00:00\", \"2020-02-02T00:00:00\", \"2020-02-02T00:00:00\", \"2020-01-29T00:00:00\", \"2020-02-01T00:00:00\", \"2020-02-01T00:00:00\", \"2020-02-01T00:00:00\", \"2020-02-01T00:00:00\", \"2020-02-01T00:00:00\", \"2020-02-01T00:00:00\", \"2020-01-31T00:00:00\", \"2020-01-31T00:00:00\", \"2020-01-30T00:00:00\", \"2020-01-31T00:00:00\", \"2020-01-31T00:00:00\", \"2020-01-22T00:00:00\", \"2020-01-31T00:00:00\", \"2020-01-31T00:00:00\", \"2020-01-31T00:00:00\", \"2020-01-31T00:00:00\", \"2020-01-31T00:00:00\", \"2020-01-31T00:00:00\", \"2020-01-31T00:00:00\", \"2020-01-31T00:00:00\", \"2020-01-31T00:00:00\", \"2020-01-31T00:00:00\", \"2020-01-31T00:00:00\", \"2020-01-31T00:00:00\", \"2020-01-31T00:00:00\", \"2020-01-30T00:00:00\", \"2020-01-31T00:00:00\", \"2020-01-31T00:00:00\", \"2020-01-31T00:00:00\", \"2020-01-30T00:00:00\", \"2020-01-30T00:00:00\", \"2020-01-31T00:00:00\", \"2020-01-30T00:00:00\", \"2020-01-30T00:00:00\", \"2020-01-30T00:00:00\", \"2020-01-29T00:00:00\", \"2020-01-30T00:00:00\", \"2020-01-30T00:00:00\", \"2020-01-30T00:00:00\", \"2020-01-30T00:00:00\", \"2020-01-30T00:00:00\", \"2020-01-30T00:00:00\", \"2020-01-30T00:00:00\", \"2020-01-30T00:00:00\", \"2020-01-30T00:00:00\", \"2020-01-30T00:00:00\", \"2020-01-28T00:00:00\", \"2020-01-30T00:00:00\", \"2020-01-30T00:00:00\", \"2020-01-30T00:00:00\", \"2020-01-29T00:00:00\", \"2020-01-29T00:00:00\", \"2020-01-29T00:00:00\", \"2020-01-30T00:00:00\", \"2020-01-30T00:00:00\", \"2020-01-30T00:00:00\", \"2020-01-29T00:00:00\", \"2020-01-30T00:00:00\", \"2020-01-29T00:00:00\", \"2020-01-30T00:00:00\", \"2020-01-29T00:00:00\", \"2020-01-29T00:00:00\", \"2020-01-29T00:00:00\", \"2020-01-29T00:00:00\", \"2020-01-29T00:00:00\", \"2020-01-28T00:00:00\", \"2020-01-28T00:00:00\", \"2020-01-28T00:00:00\", \"2020-01-28T00:00:00\", \"2020-01-29T00:00:00\", \"2020-01-29T00:00:00\", \"2020-01-29T00:00:00\", \"2020-01-29T00:00:00\", \"2020-01-29T00:00:00\", \"2020-01-29T00:00:00\", \"2020-01-29T00:00:00\", \"2020-01-28T00:00:00\", \"2020-01-29T00:00:00\", \"2020-01-29T00:00:00\", \"2020-01-29T00:00:00\", \"2020-01-28T00:00:00\", \"2020-01-28T00:00:00\", \"2020-01-28T00:00:00\", \"2020-01-28T00:00:00\", \"2020-01-28T00:00:00\", \"2020-01-28T00:00:00\", \"2020-01-27T00:00:00\", \"2020-01-28T00:00:00\", \"2020-01-28T00:00:00\", \"2020-01-28T00:00:00\", \"2020-01-28T00:00:00\", \"2020-01-27T00:00:00\", \"2020-01-28T00:00:00\", \"2020-01-28T00:00:00\", \"2020-01-26T00:00:00\", \"2020-01-28T00:00:00\", \"2020-01-27T00:00:00\", \"2020-01-27T00:00:00\", \"2020-01-27T00:00:00\", \"2020-01-27T00:00:00\", \"2020-01-27T00:00:00\", \"2020-01-27T00:00:00\", \"2020-01-27T00:00:00\", \"2020-01-26T00:00:00\", \"2020-01-27T00:00:00\", \"2020-01-27T00:00:00\", \"2020-01-22T00:00:00\", \"2020-01-27T00:00:00\", \"2020-01-27T00:00:00\", \"2020-01-26T00:00:00\", \"2020-01-27T00:00:00\", \"2020-01-27T00:00:00\", \"2020-01-26T00:00:00\", \"2020-01-26T00:00:00\", \"2020-01-26T00:00:00\", \"2020-01-26T00:00:00\", \"2020-01-26T00:00:00\", \"2020-01-25T00:00:00\", \"2020-01-26T00:00:00\", \"2020-01-25T00:00:00\", \"2020-01-25T00:00:00\", \"2020-01-25T00:00:00\", \"2020-01-24T00:00:00\", \"2020-01-24T00:00:00\", \"2020-01-24T00:00:00\", \"2020-01-24T00:00:00\", \"2020-01-24T00:00:00\", \"2020-01-24T00:00:00\", \"2020-01-22T00:00:00\", \"2020-01-23T00:00:00\", \"2020-01-24T00:00:00\", \"2020-01-24T00:00:00\", \"2020-01-24T00:00:00\", \"2020-01-24T00:00:00\", \"2020-01-23T00:00:00\", \"2020-01-23T00:00:00\", \"2020-01-23T00:00:00\", \"2020-01-24T00:00:00\", \"2020-01-23T00:00:00\", \"2020-01-23T00:00:00\", \"2020-01-23T00:00:00\", \"2020-01-23T00:00:00\", \"2020-01-23T00:00:00\", \"2020-01-23T00:00:00\", \"2020-01-23T00:00:00\", \"2020-01-23T00:00:00\", \"2020-01-23T00:00:00\", \"2020-01-23T00:00:00\", \"2020-01-22T00:00:00\", \"2020-01-22T00:00:00\", \"2020-01-22T00:00:00\", \"2020-01-22T00:00:00\", \"2020-01-22T00:00:00\", \"2020-01-22T00:00:00\", \"2020-01-22T00:00:00\", \"2020-01-22T00:00:00\", \"2020-01-21T00:00:00\", \"2020-01-21T00:00:00\", \"2020-01-21T00:00:00\", \"2020-01-21T00:00:00\", \"2020-01-21T00:00:00\", \"2020-01-20T00:00:00\", \"2020-01-21T00:00:00\", \"2020-01-21T00:00:00\", \"2020-01-21T00:00:00\", \"2020-01-19T00:00:00\", \"2020-01-20T00:00:00\", \"2020-01-20T00:00:00\", \"2020-01-20T00:00:00\", \"2020-01-19T00:00:00\", \"2020-01-18T00:00:00\", \"2020-01-17T00:00:00\", \"2020-01-16T00:00:00\", \"2020-01-15T00:00:00\", \"2020-01-08T00:00:00\", \"2020-01-06T00:00:00\", \"2019-10-24T00:00:00\", \"2014-05-02T00:00:00\", \"2014-04-29T00:00:00\", \"2014-05-01T00:00:00\", \"2014-05-01T00:00:00\", \"2014-04-30T00:00:00\", \"2014-04-27T00:00:00\", \"2014-04-26T00:00:00\", \"2014-04-21T00:00:00\", \"2013-08-29T00:00:00\", \"2013-07-13T00:00:00\", \"2013-06-14T00:00:00\", \"2013-06-05T00:00:00\", \"2020-03-04T00:00:00\", \"2020-03-04T00:00:00\", \"2020-03-04T00:00:00\", \"2020-03-04T00:00:00\", \"2020-03-05T00:00:00\", \"2020-03-05T00:00:00\", \"2020-03-05T00:00:00\", \"2020-03-05T00:00:00\", \"2020-03-05T00:00:00\", \"2020-03-05T00:00:00\", \"2020-03-04T00:00:00\", \"2020-03-05T00:00:00\", \"2020-03-05T00:00:00\", \"2020-03-05T00:00:00\", \"2020-03-05T00:00:00\", \"2020-03-05T00:00:00\", \"2020-03-05T00:00:00\", \"2020-03-05T00:00:00\", \"2020-03-05T00:00:00\", \"2020-03-05T00:00:00\", \"2020-03-05T00:00:00\", \"2020-03-05T00:00:00\", \"2020-03-04T00:00:00\", \"2020-03-05T00:00:00\", \"2020-03-05T00:00:00\", \"2020-03-05T00:00:00\", \"2020-03-05T00:00:00\", \"2020-03-05T00:00:00\", \"2020-03-04T00:00:00\", \"2020-03-04T00:00:00\", \"2020-03-05T00:00:00\", \"2020-03-05T00:00:00\", \"2020-03-05T00:00:00\", \"2020-03-05T00:00:00\", \"2020-03-05T00:00:00\", \"2020-03-05T00:00:00\", \"2020-03-05T00:00:00\", \"2020-03-05T00:00:00\", \"2020-03-05T00:00:00\", \"2020-03-05T00:00:00\", \"2020-02-01T00:00:00\", \"2020-02-01T00:00:00\", \"2020-02-01T00:00:00\", \"2020-02-01T00:00:00\", \"2020-02-01T00:00:00\", \"2020-02-01T00:00:00\", \"2020-01-31T00:00:00\", \"2020-01-31T00:00:00\", \"2020-01-31T00:00:00\", \"2020-01-31T00:00:00\", \"2020-01-31T00:00:00\", \"2020-01-31T00:00:00\", \"2020-01-31T00:00:00\", \"2020-01-31T00:00:00\", \"2020-01-31T00:00:00\", \"2020-01-31T00:00:00\", \"2020-01-31T00:00:00\", \"2020-01-31T00:00:00\", \"2020-01-31T00:00:00\", \"2020-01-31T00:00:00\", \"2020-01-31T00:00:00\", \"2020-01-31T00:00:00\", \"2020-01-31T00:00:00\", \"2020-01-31T00:00:00\", \"2020-01-31T00:00:00\", \"2020-01-31T00:00:00\", \"2020-01-30T00:00:00\", \"2020-01-30T00:00:00\", \"2020-01-30T00:00:00\", \"2020-01-30T00:00:00\", \"2020-01-30T00:00:00\", \"2020-01-30T00:00:00\", \"2020-01-30T00:00:00\", \"2020-01-30T00:00:00\", \"2020-01-30T00:00:00\", \"2020-01-30T00:00:00\", \"2020-01-30T00:00:00\", \"2020-01-30T00:00:00\", \"2020-01-30T00:00:00\", \"2020-01-30T00:00:00\", \"2020-01-30T00:00:00\", \"2020-01-30T00:00:00\", \"2020-01-30T00:00:00\", \"2020-01-30T00:00:00\", \"2020-01-30T00:00:00\", \"2020-01-30T00:00:00\", \"2020-01-30T00:00:00\", \"2020-01-29T00:00:00\", \"2020-01-29T00:00:00\", \"2020-01-29T00:00:00\", \"2020-01-29T00:00:00\", \"2020-01-29T00:00:00\", \"2020-01-29T00:00:00\", \"2020-01-29T00:00:00\", \"2020-01-29T00:00:00\", \"2020-01-29T00:00:00\", \"2020-01-29T00:00:00\", \"2020-01-29T00:00:00\", \"2020-01-29T00:00:00\", \"2020-01-29T00:00:00\", \"2020-01-29T00:00:00\", \"2020-01-29T00:00:00\", \"2020-01-29T00:00:00\", \"2020-01-29T00:00:00\", \"2020-01-29T00:00:00\", \"2020-01-29T00:00:00\", \"2020-01-28T00:00:00\", \"2020-01-28T00:00:00\", \"2020-01-28T00:00:00\", \"2020-01-28T00:00:00\", \"2020-01-28T00:00:00\", \"2020-01-28T00:00:00\", \"2020-01-28T00:00:00\", \"2020-01-28T00:00:00\", \"2020-01-28T00:00:00\", \"2020-01-28T00:00:00\", \"2020-01-28T00:00:00\", \"2020-01-28T00:00:00\", \"2020-01-28T00:00:00\", \"2020-01-28T00:00:00\", \"2020-01-28T00:00:00\", \"2020-01-28T00:00:00\", \"2020-01-28T00:00:00\", \"2020-01-28T00:00:00\", \"2020-01-28T00:00:00\", \"2020-01-28T00:00:00\", \"2020-01-28T00:00:00\", \"2020-01-27T00:00:00\", \"2020-01-27T00:00:00\", \"2020-01-27T00:00:00\", \"2020-01-27T00:00:00\", \"2020-01-27T00:00:00\", \"2020-01-27T00:00:00\", \"2020-01-27T00:00:00\", \"2020-01-27T00:00:00\", \"2020-01-27T00:00:00\", \"2020-01-27T00:00:00\", \"2020-01-27T00:00:00\", \"2020-01-27T00:00:00\", \"2020-01-27T00:00:00\", \"2020-01-26T00:00:00\", \"2020-01-26T00:00:00\", \"2020-01-26T00:00:00\", \"2020-01-26T00:00:00\", \"2020-01-26T00:00:00\", \"2020-01-26T00:00:00\", \"2020-01-26T00:00:00\", \"2020-01-26T00:00:00\", \"2020-01-25T00:00:00\", \"2020-01-25T00:00:00\", \"2020-01-25T00:00:00\", \"2020-01-25T00:00:00\", \"2020-01-24T00:00:00\", \"2020-01-24T00:00:00\", \"2020-01-24T00:00:00\", \"2020-01-24T00:00:00\", \"2020-01-24T00:00:00\", \"2020-01-24T00:00:00\", \"2020-01-24T00:00:00\", \"2020-01-24T00:00:00\", \"2020-01-24T00:00:00\", \"2020-01-24T00:00:00\", \"2020-01-24T00:00:00\", \"2020-01-24T00:00:00\", \"2020-01-24T00:00:00\", \"2020-01-23T00:00:00\", \"2020-01-23T00:00:00\", \"2020-01-23T00:00:00\", \"2020-01-23T00:00:00\", \"2020-01-23T00:00:00\", \"2020-01-23T00:00:00\", \"2020-01-23T00:00:00\", \"2020-01-23T00:00:00\", \"2020-01-23T00:00:00\", \"2020-01-25T00:00:00\", \"2020-01-23T00:00:00\", \"2020-01-23T00:00:00\", \"2020-01-23T00:00:00\", \"2020-01-23T00:00:00\", \"2020-01-23T00:00:00\", \"2020-01-23T00:00:00\", \"2020-01-23T00:00:00\", \"2020-01-22T00:00:00\", \"2020-01-22T00:00:00\", \"2020-01-22T00:00:00\", \"2020-01-22T00:00:00\", \"2020-01-22T00:00:00\", \"2020-01-22T00:00:00\", \"2020-01-22T00:00:00\", \"2020-01-22T00:00:00\", \"2020-01-22T00:00:00\", \"2020-01-22T00:00:00\", \"2020-01-22T00:00:00\", \"2020-01-21T00:00:00\", \"2020-01-21T00:00:00\", \"2020-01-21T00:00:00\", \"2020-01-21T00:00:00\", \"2020-01-21T00:00:00\", \"2020-01-21T00:00:00\", \"2020-01-21T00:00:00\", \"2020-01-21T00:00:00\", \"2020-01-20T00:00:00\", \"2020-01-20T00:00:00\", \"2020-01-20T00:00:00\", \"2020-01-18T00:00:00\", \"2020-01-17T00:00:00\", \"2020-01-15T00:00:00\", \"2020-01-10T00:00:00\", \"2020-01-08T00:00:00\", \"2020-02-08T00:00:00\", \"2020-02-08T00:00:00\", \"2020-02-08T00:00:00\", \"2020-02-08T00:00:00\", \"2020-02-08T00:00:00\", \"2020-02-08T00:00:00\", \"2020-02-07T00:00:00\", \"2020-02-07T00:00:00\", \"2020-02-07T00:00:00\", \"2020-02-07T00:00:00\", \"2020-02-07T00:00:00\", \"2020-02-07T00:00:00\", \"2020-02-07T00:00:00\", \"2020-02-07T00:00:00\", \"2020-02-07T00:00:00\", \"2020-02-07T00:00:00\", \"2020-02-07T00:00:00\", \"2020-02-07T00:00:00\", \"2020-02-07T00:00:00\", \"2020-02-07T00:00:00\", \"2020-02-07T00:00:00\", \"2020-02-07T00:00:00\", \"2020-02-07T00:00:00\", \"2020-02-07T00:00:00\", \"2020-02-07T00:00:00\", \"2020-02-07T00:00:00\", \"2020-02-07T00:00:00\", \"2020-02-07T00:00:00\", \"2020-02-07T00:00:00\", \"2020-02-07T00:00:00\", \"2020-02-07T00:00:00\", \"2020-02-06T00:00:00\", \"2020-02-06T00:00:00\", \"2020-02-06T00:00:00\", \"2020-02-06T00:00:00\", \"2020-02-06T00:00:00\", \"2020-02-06T00:00:00\", \"2020-02-06T00:00:00\", \"2020-02-06T00:00:00\", \"2020-02-06T00:00:00\", \"2020-02-06T00:00:00\", \"2020-02-06T00:00:00\", \"2020-02-06T00:00:00\", \"2020-02-06T00:00:00\", \"2020-02-06T00:00:00\", \"2020-02-06T00:00:00\", \"2020-02-06T00:00:00\", \"2020-02-06T00:00:00\", \"2020-02-06T00:00:00\", \"2020-02-06T00:00:00\", \"2020-02-06T00:00:00\", \"2020-02-06T00:00:00\", \"2020-02-06T00:00:00\", \"2020-02-06T00:00:00\", \"2020-02-06T00:00:00\", \"2020-02-05T00:00:00\", \"2020-02-05T00:00:00\", \"2020-02-05T00:00:00\", \"2020-02-05T00:00:00\", \"2020-02-05T00:00:00\", \"2020-02-05T00:00:00\", \"2020-02-05T00:00:00\", \"2020-02-05T00:00:00\", \"2020-02-05T00:00:00\", \"2020-02-05T00:00:00\", \"2020-02-05T00:00:00\", \"2020-02-05T00:00:00\", \"2020-02-05T00:00:00\", \"2020-02-05T00:00:00\", \"2020-02-05T00:00:00\", \"2020-02-05T00:00:00\", \"2020-02-05T00:00:00\", \"2020-02-05T00:00:00\", \"2020-02-05T00:00:00\", \"2020-02-05T00:00:00\", \"2020-02-05T00:00:00\", \"2020-02-05T00:00:00\", \"2020-02-05T00:00:00\", \"2020-02-04T00:00:00\", \"2020-02-04T00:00:00\", \"2020-02-04T00:00:00\", \"2020-02-04T00:00:00\", \"2020-02-04T00:00:00\", \"2020-02-04T00:00:00\", \"2020-02-04T00:00:00\", \"2020-02-04T00:00:00\", \"2020-02-04T00:00:00\", \"2020-02-04T00:00:00\", \"2020-02-04T00:00:00\", \"2020-02-04T00:00:00\", \"2020-02-04T00:00:00\", \"2020-02-04T00:00:00\", \"2020-02-04T00:00:00\", \"2020-02-04T00:00:00\", \"2020-02-04T00:00:00\", \"2020-02-04T00:00:00\", \"2020-02-04T00:00:00\", \"2020-02-04T00:00:00\", \"2020-02-04T00:00:00\", \"2020-02-04T00:00:00\", \"2020-02-04T00:00:00\", \"2020-02-04T00:00:00\", \"2020-02-04T00:00:00\", \"2020-02-04T00:00:00\", \"2020-02-04T00:00:00\", \"2020-02-04T00:00:00\", \"2020-02-04T00:00:00\", \"2020-02-04T00:00:00\", \"2020-02-04T00:00:00\", \"2020-02-03T00:00:00\", \"2020-02-03T00:00:00\", \"2020-02-03T00:00:00\", \"2020-02-03T00:00:00\", \"2020-02-03T00:00:00\", \"2020-02-03T00:00:00\", \"2020-02-03T00:00:00\", \"2020-02-03T00:00:00\", \"2020-02-03T00:00:00\", \"2020-02-03T00:00:00\", \"2020-02-03T00:00:00\", \"2020-02-03T00:00:00\", \"2020-02-03T00:00:00\", \"2020-02-03T00:00:00\", \"2020-02-03T00:00:00\", \"2020-02-03T00:00:00\", \"2020-02-03T00:00:00\", \"2020-02-03T00:00:00\", \"2020-02-03T00:00:00\", \"2020-02-03T00:00:00\", \"2020-02-02T00:00:00\", \"2020-02-02T00:00:00\", \"2020-02-02T00:00:00\", \"2020-02-02T00:00:00\", \"2020-02-02T00:00:00\", \"2020-02-02T00:00:00\", \"2020-02-02T00:00:00\", \"2020-02-02T00:00:00\", \"2020-02-02T00:00:00\", \"2020-02-02T00:00:00\", \"2020-02-02T00:00:00\", \"2020-02-02T00:00:00\", \"2020-02-02T00:00:00\", \"2020-02-02T00:00:00\", \"2020-02-02T00:00:00\", \"2020-02-15T00:00:00\", \"2020-02-15T00:00:00\", \"2020-02-15T00:00:00\", \"2020-02-15T00:00:00\", \"2020-02-15T00:00:00\", \"2020-02-15T00:00:00\", \"2020-02-15T00:00:00\", \"2020-02-15T00:00:00\", \"2020-02-14T00:00:00\", \"2020-02-14T00:00:00\", \"2020-02-14T00:00:00\", \"2020-02-14T00:00:00\", \"2020-02-14T00:00:00\", \"2020-02-14T00:00:00\", \"2020-02-14T00:00:00\", \"2020-02-14T00:00:00\", \"2020-02-14T00:00:00\", \"2020-02-14T00:00:00\", \"2020-02-14T00:00:00\", \"2020-02-14T00:00:00\", \"2020-02-14T00:00:00\", \"2020-02-14T00:00:00\", \"2020-02-14T00:00:00\", \"2020-02-14T00:00:00\", \"2020-02-14T00:00:00\", \"2020-02-14T00:00:00\", \"2020-02-14T00:00:00\", \"2020-02-14T00:00:00\", \"2020-02-13T00:00:00\", \"2020-02-13T00:00:00\", \"2020-02-13T00:00:00\", \"2020-02-13T00:00:00\", \"2020-02-13T00:00:00\", \"2020-02-13T00:00:00\", \"2020-02-13T00:00:00\", \"2020-02-13T00:00:00\", \"2020-02-13T00:00:00\", \"2020-02-13T00:00:00\", \"2020-02-13T00:00:00\", \"2020-02-13T00:00:00\", \"2020-02-13T00:00:00\", \"2020-02-13T00:00:00\", \"2020-02-13T00:00:00\", \"2020-02-13T00:00:00\", \"2020-02-13T00:00:00\", \"2020-02-13T00:00:00\", \"2020-02-13T00:00:00\", \"2020-02-13T00:00:00\", \"2020-02-13T00:00:00\", \"2020-02-13T00:00:00\", \"2020-02-13T00:00:00\", \"2020-02-12T00:00:00\", \"2020-02-12T00:00:00\", \"2020-02-12T00:00:00\", \"2020-02-12T00:00:00\", \"2020-02-12T00:00:00\", \"2020-02-12T00:00:00\", \"2020-02-12T00:00:00\", \"2020-02-12T00:00:00\", \"2020-02-12T00:00:00\", \"2020-02-12T00:00:00\", \"2020-02-12T00:00:00\", \"2020-02-12T00:00:00\", \"2020-02-12T00:00:00\", \"2020-02-12T00:00:00\", \"2020-02-12T00:00:00\", \"2020-02-12T00:00:00\", \"2020-02-12T00:00:00\", \"2020-02-12T00:00:00\", \"2020-02-11T00:00:00\", \"2020-02-11T00:00:00\", \"2020-02-11T00:00:00\", \"2020-02-11T00:00:00\", \"2020-02-11T00:00:00\", \"2020-02-11T00:00:00\", \"2020-02-11T00:00:00\", \"2020-02-11T00:00:00\", \"2020-02-11T00:00:00\", \"2020-02-11T00:00:00\", \"2020-02-11T00:00:00\", \"2020-02-11T00:00:00\", \"2020-02-11T00:00:00\", \"2020-02-11T00:00:00\", \"2020-02-11T00:00:00\", \"2020-02-11T00:00:00\", \"2020-02-11T00:00:00\", \"2020-02-11T00:00:00\", \"2020-02-11T00:00:00\", \"2020-02-11T00:00:00\", \"2020-02-11T00:00:00\", \"2020-02-11T00:00:00\", \"2020-02-11T00:00:00\", \"2020-02-11T00:00:00\", \"2020-02-10T00:00:00\", \"2020-02-10T00:00:00\", \"2020-02-10T00:00:00\", \"2020-02-10T00:00:00\", \"2020-02-10T00:00:00\", \"2020-02-10T00:00:00\", \"2020-02-10T00:00:00\", \"2020-02-10T00:00:00\", \"2020-02-10T00:00:00\", \"2020-02-10T00:00:00\", \"2020-02-10T00:00:00\", \"2020-02-10T00:00:00\", \"2020-02-10T00:00:00\", \"2020-02-10T00:00:00\", \"2020-02-10T00:00:00\", \"2020-02-10T00:00:00\", \"2020-02-10T00:00:00\", \"2020-02-09T00:00:00\", \"2020-02-09T00:00:00\", \"2020-02-09T00:00:00\", \"2020-02-09T00:00:00\", \"2020-02-09T00:00:00\", \"2020-02-09T00:00:00\", \"2020-02-09T00:00:00\", \"2020-02-09T00:00:00\", \"2020-02-09T00:00:00\", \"2020-02-22T00:00:00\", \"2020-02-22T00:00:00\", \"2020-02-22T00:00:00\", \"2020-02-22T00:00:00\", \"2020-02-22T00:00:00\", \"2020-02-22T00:00:00\", \"2020-02-22T00:00:00\", \"2020-02-22T00:00:00\", \"2020-02-22T00:00:00\", \"2020-02-21T00:00:00\", \"2020-02-21T00:00:00\", \"2020-02-21T00:00:00\", \"2020-02-21T00:00:00\", \"2020-02-21T00:00:00\", \"2020-02-21T00:00:00\", \"2020-02-21T00:00:00\", \"2020-02-21T00:00:00\", \"2020-02-21T00:00:00\", \"2020-02-21T00:00:00\", \"2020-02-21T00:00:00\", \"2020-02-20T00:00:00\", \"2020-02-20T00:00:00\", \"2020-02-20T00:00:00\", \"2020-02-20T00:00:00\", \"2020-02-20T00:00:00\", \"2020-02-20T00:00:00\", \"2020-02-20T00:00:00\", \"2020-02-20T00:00:00\", \"2020-02-20T00:00:00\", \"2020-02-20T00:00:00\", \"2020-02-20T00:00:00\", \"2020-02-20T00:00:00\", \"2020-02-20T00:00:00\", \"2020-02-20T00:00:00\", \"2020-02-20T00:00:00\", \"2020-02-20T00:00:00\", \"2020-02-20T00:00:00\", \"2020-02-20T00:00:00\", \"2020-02-20T00:00:00\", \"2020-02-20T00:00:00\", \"2020-02-20T00:00:00\", \"2020-02-20T00:00:00\", \"2020-02-20T00:00:00\", \"2020-02-19T00:00:00\", \"2020-02-19T00:00:00\", \"2020-02-19T00:00:00\", \"2020-02-19T00:00:00\", \"2020-02-19T00:00:00\", \"2020-02-19T00:00:00\", \"2020-02-19T00:00:00\", \"2020-02-19T00:00:00\", \"2020-02-19T00:00:00\", \"2020-02-19T00:00:00\", \"2020-02-19T00:00:00\", \"2020-02-19T00:00:00\", \"2020-02-19T00:00:00\", \"2020-02-19T00:00:00\", \"2020-02-18T00:00:00\", \"2020-02-18T00:00:00\", \"2020-02-18T00:00:00\", \"2020-02-18T00:00:00\", \"2020-02-18T00:00:00\", \"2020-02-18T00:00:00\", \"2020-02-18T00:00:00\", \"2020-02-18T00:00:00\", \"2020-02-18T00:00:00\", \"2020-02-18T00:00:00\", \"2020-02-18T00:00:00\", \"2020-02-18T00:00:00\", \"2020-02-18T00:00:00\", \"2020-02-18T00:00:00\", \"2020-02-18T00:00:00\", \"2020-02-18T00:00:00\", \"2020-02-18T00:00:00\", \"2020-02-18T00:00:00\", \"2020-02-18T00:00:00\", \"2020-02-18T00:00:00\", \"2020-02-18T00:00:00\", \"2020-02-18T00:00:00\", \"2020-02-17T00:00:00\", \"2020-02-17T00:00:00\", \"2020-02-17T00:00:00\", \"2020-02-17T00:00:00\", \"2020-02-17T00:00:00\", \"2020-02-17T00:00:00\", \"2020-02-17T00:00:00\", \"2020-02-17T00:00:00\", \"2020-02-17T00:00:00\", \"2020-02-17T00:00:00\", \"2020-02-17T00:00:00\", \"2020-02-17T00:00:00\", \"2020-02-17T00:00:00\", \"2020-02-17T00:00:00\", \"2020-02-17T00:00:00\", \"2020-02-17T00:00:00\", \"2020-02-17T00:00:00\", \"2020-02-17T00:00:00\", \"2020-02-16T00:00:00\", \"2020-02-16T00:00:00\", \"2020-02-16T00:00:00\", \"2020-02-16T00:00:00\", \"2020-02-16T00:00:00\", \"2020-02-16T00:00:00\", \"2020-02-16T00:00:00\", \"2020-02-16T00:00:00\", \"2020-02-15T00:00:00\", \"2020-02-15T00:00:00\", \"2020-02-26T00:00:00\", \"2020-02-26T00:00:00\", \"2020-02-26T00:00:00\", \"2020-02-26T00:00:00\", \"2020-02-26T00:00:00\", \"2020-02-26T00:00:00\", \"2020-02-26T00:00:00\", \"2020-02-26T00:00:00\", \"2020-02-26T00:00:00\", \"2020-02-26T00:00:00\", \"2020-02-25T00:00:00\", \"2020-02-25T00:00:00\", \"2020-02-25T00:00:00\", \"2020-02-25T00:00:00\", \"2020-02-25T00:00:00\", \"2020-02-25T00:00:00\", \"2020-02-25T00:00:00\", \"2020-02-25T00:00:00\", \"2020-02-25T00:00:00\", \"2020-02-25T00:00:00\", \"2020-02-25T00:00:00\", \"2020-02-25T00:00:00\", \"2020-02-25T00:00:00\", \"2020-02-25T00:00:00\", \"2020-02-25T00:00:00\", \"2020-02-25T00:00:00\", \"2020-02-25T00:00:00\", \"2020-02-25T00:00:00\", \"2020-02-25T00:00:00\", \"2020-02-25T00:00:00\", \"2020-02-25T00:00:00\", \"2020-02-25T00:00:00\", \"2020-02-25T00:00:00\", \"2020-02-25T00:00:00\", \"2020-02-25T00:00:00\", \"2020-02-25T00:00:00\", \"2020-02-25T00:00:00\", \"2020-02-25T00:00:00\", \"2020-02-25T00:00:00\", \"2020-02-25T00:00:00\", \"2020-02-25T00:00:00\", \"2020-02-25T00:00:00\", \"2020-02-25T00:00:00\", \"2020-02-25T00:00:00\", \"2020-02-25T00:00:00\", \"2020-02-25T00:00:00\", \"2020-02-25T00:00:00\", \"2020-02-25T00:00:00\", \"2020-02-25T00:00:00\", \"2020-02-25T00:00:00\", \"2020-02-25T00:00:00\", \"2020-02-25T00:00:00\", \"2020-02-25T00:00:00\", \"2020-02-25T00:00:00\", \"2020-02-25T00:00:00\", \"2020-02-25T00:00:00\", \"2020-02-25T00:00:00\", \"2020-02-25T00:00:00\", \"2020-02-25T00:00:00\", \"2020-02-25T00:00:00\", \"2020-02-25T00:00:00\", \"2020-02-25T00:00:00\", \"2020-02-25T00:00:00\", \"2020-02-25T00:00:00\", \"2020-02-25T00:00:00\", \"2020-02-25T00:00:00\", \"2020-02-25T00:00:00\", \"2020-02-25T00:00:00\", \"2020-02-25T00:00:00\", \"2020-02-25T00:00:00\", \"2020-02-25T00:00:00\", \"2020-02-25T00:00:00\", \"2020-02-25T00:00:00\", \"2020-02-25T00:00:00\", \"2020-02-25T00:00:00\", \"2020-02-25T00:00:00\", \"2020-02-25T00:00:00\", \"2020-02-25T00:00:00\", \"2020-02-25T00:00:00\", \"2020-02-25T00:00:00\", \"2020-02-25T00:00:00\", \"2020-02-25T00:00:00\", \"2020-02-25T00:00:00\", \"2020-02-25T00:00:00\", \"2020-02-25T00:00:00\", \"2020-02-25T00:00:00\", \"2020-02-25T00:00:00\", \"2020-02-25T00:00:00\", \"2020-02-25T00:00:00\", \"2020-02-25T00:00:00\", \"2020-02-25T00:00:00\", \"2020-02-25T00:00:00\", \"2020-02-25T00:00:00\", \"2020-02-25T00:00:00\", \"2020-02-25T00:00:00\", \"2020-02-25T00:00:00\", \"2020-02-25T00:00:00\", \"2020-02-25T00:00:00\", \"2020-02-25T00:00:00\", \"2020-02-25T00:00:00\", \"2020-02-25T00:00:00\", \"2020-02-25T00:00:00\", \"2020-02-25T00:00:00\", \"2020-02-25T00:00:00\", \"2020-02-25T00:00:00\", \"2020-02-25T00:00:00\", \"2020-02-25T00:00:00\", \"2020-02-25T00:00:00\", \"2020-02-25T00:00:00\", \"2020-02-25T00:00:00\", \"2020-02-25T00:00:00\", \"2020-02-25T00:00:00\", \"2020-02-25T00:00:00\", \"2020-02-25T00:00:00\", \"2020-02-25T00:00:00\", \"2020-02-25T00:00:00\", \"2020-02-25T00:00:00\", \"2020-02-25T00:00:00\", \"2020-02-25T00:00:00\", \"2020-02-25T00:00:00\", \"2020-02-25T00:00:00\", \"2020-02-25T00:00:00\", \"2020-02-25T00:00:00\", \"2020-02-25T00:00:00\", \"2020-02-25T00:00:00\", \"2020-02-25T00:00:00\", \"2020-02-25T00:00:00\", \"2020-02-25T00:00:00\", \"2020-02-25T00:00:00\", \"2020-02-25T00:00:00\", \"2020-02-25T00:00:00\", \"2020-02-25T00:00:00\", \"2020-02-25T00:00:00\", \"2020-02-25T00:00:00\", \"2020-02-25T00:00:00\", \"2020-02-25T00:00:00\", \"2020-02-25T00:00:00\", \"2020-02-25T00:00:00\", \"2020-02-25T00:00:00\", \"2020-02-25T00:00:00\", \"2020-02-25T00:00:00\", \"2020-02-25T00:00:00\", \"2020-02-25T00:00:00\", \"2020-02-25T00:00:00\", \"2020-02-25T00:00:00\", \"2020-02-25T00:00:00\", \"2020-02-25T00:00:00\", \"2020-02-24T00:00:00\", \"2020-02-24T00:00:00\", \"2020-02-24T00:00:00\", \"2020-02-24T00:00:00\", \"2020-02-24T00:00:00\", \"2020-02-24T00:00:00\", \"2020-02-24T00:00:00\", \"2020-02-24T00:00:00\", \"2020-02-24T00:00:00\", \"2020-02-24T00:00:00\", \"2020-02-24T00:00:00\", \"2020-02-24T00:00:00\", \"2020-02-24T00:00:00\", \"2020-02-24T00:00:00\", \"2020-02-24T00:00:00\", \"2020-02-24T00:00:00\", \"2020-02-24T00:00:00\", \"2020-02-24T00:00:00\", \"2020-02-24T00:00:00\", \"2020-02-24T00:00:00\", \"2020-02-24T00:00:00\", \"2020-02-24T00:00:00\", \"2020-02-24T00:00:00\", \"2020-02-24T00:00:00\", \"2020-02-24T00:00:00\", \"2020-02-24T00:00:00\", \"2020-02-24T00:00:00\", \"2020-02-24T00:00:00\", \"2020-02-24T00:00:00\", \"2020-02-24T00:00:00\", \"2020-02-24T00:00:00\", \"2020-02-24T00:00:00\", \"2020-02-24T00:00:00\", \"2020-02-24T00:00:00\", \"2020-02-24T00:00:00\", \"2020-02-24T00:00:00\", \"2020-02-24T00:00:00\", \"2020-02-24T00:00:00\", \"2020-02-24T00:00:00\", \"2020-02-24T00:00:00\", \"2020-02-24T00:00:00\", \"2020-02-24T00:00:00\", \"2020-02-24T00:00:00\", \"2020-02-24T00:00:00\", \"2020-02-24T00:00:00\", \"2020-02-24T00:00:00\", \"2020-02-24T00:00:00\", \"2020-02-24T00:00:00\", \"2020-02-24T00:00:00\", \"2020-02-24T00:00:00\", \"2020-02-24T00:00:00\", \"2020-02-24T00:00:00\", \"2020-02-24T00:00:00\", \"2020-02-24T00:00:00\", \"2020-02-24T00:00:00\", \"2020-02-24T00:00:00\", \"2020-02-24T00:00:00\", \"2020-02-24T00:00:00\", \"2020-02-24T00:00:00\", \"2020-02-24T00:00:00\", \"2020-02-24T00:00:00\", \"2020-02-24T00:00:00\", \"2020-02-24T00:00:00\", \"2020-02-24T00:00:00\", \"2020-02-24T00:00:00\", \"2020-02-24T00:00:00\", \"2020-02-24T00:00:00\", \"2020-02-24T00:00:00\", \"2020-02-24T00:00:00\", \"2020-02-24T00:00:00\", \"2020-02-24T00:00:00\", \"2020-02-24T00:00:00\", \"2020-02-24T00:00:00\", \"2020-02-24T00:00:00\", \"2020-02-24T00:00:00\", \"2020-02-24T00:00:00\", \"2020-02-24T00:00:00\", \"2020-02-24T00:00:00\", \"2020-02-24T00:00:00\", \"2020-02-24T00:00:00\", \"2020-02-24T00:00:00\", \"2020-02-24T00:00:00\", \"2020-02-24T00:00:00\", \"2020-02-24T00:00:00\", \"2020-02-24T00:00:00\", \"2020-02-24T00:00:00\", \"2020-02-24T00:00:00\", \"2020-02-24T00:00:00\", \"2020-02-24T00:00:00\", \"2020-02-24T00:00:00\", \"2020-02-24T00:00:00\", \"2020-02-24T00:00:00\", \"2020-02-24T00:00:00\", \"2020-02-24T00:00:00\", \"2020-02-24T00:00:00\", \"2020-02-24T00:00:00\", \"2020-02-24T00:00:00\", \"2020-02-24T00:00:00\", \"2020-02-24T00:00:00\", \"2020-02-24T00:00:00\", \"2020-02-24T00:00:00\", \"2020-02-24T00:00:00\", \"2020-02-24T00:00:00\", \"2020-02-24T00:00:00\", \"2020-02-24T00:00:00\", \"2020-02-24T00:00:00\", \"2020-02-24T00:00:00\", \"2020-02-24T00:00:00\", \"2020-02-24T00:00:00\", \"2020-02-24T00:00:00\", \"2020-02-24T00:00:00\", \"2020-02-24T00:00:00\", \"2020-02-24T00:00:00\", \"2020-02-24T00:00:00\", \"2020-02-24T00:00:00\", \"2020-02-24T00:00:00\", \"2020-02-24T00:00:00\", \"2020-02-24T00:00:00\", \"2020-02-24T00:00:00\", \"2020-02-24T00:00:00\", \"2020-02-24T00:00:00\", \"2020-02-24T00:00:00\", \"2020-02-24T00:00:00\", \"2020-02-24T00:00:00\", \"2020-02-24T00:00:00\", \"2020-02-24T00:00:00\", \"2020-02-24T00:00:00\", \"2020-02-24T00:00:00\", \"2020-02-24T00:00:00\", \"2020-02-24T00:00:00\", \"2020-02-24T00:00:00\", \"2020-02-24T00:00:00\", \"2020-02-24T00:00:00\", \"2020-02-24T00:00:00\", \"2020-02-24T00:00:00\", \"2020-02-24T00:00:00\", \"2020-02-24T00:00:00\", \"2020-02-24T00:00:00\", \"2020-02-24T00:00:00\", \"2020-02-24T00:00:00\", \"2020-02-24T00:00:00\", \"2020-02-24T00:00:00\", \"2020-02-24T00:00:00\", \"2020-02-24T00:00:00\", \"2020-02-24T00:00:00\", \"2020-02-24T00:00:00\", \"2020-02-24T00:00:00\", \"2020-02-24T00:00:00\", \"2020-02-24T00:00:00\", \"2020-02-24T00:00:00\", \"2020-02-24T00:00:00\", \"2020-02-24T00:00:00\", \"2020-02-24T00:00:00\", \"2020-02-24T00:00:00\", \"2020-02-24T00:00:00\", \"2020-02-24T00:00:00\", \"2020-02-24T00:00:00\", \"2020-02-24T00:00:00\", \"2020-02-24T00:00:00\", \"2020-02-24T00:00:00\", \"2020-02-24T00:00:00\", \"2020-02-24T00:00:00\", \"2020-02-24T00:00:00\", \"2020-02-24T00:00:00\", \"2020-02-23T00:00:00\", \"2020-02-23T00:00:00\", \"2020-02-23T00:00:00\", \"2020-02-23T00:00:00\", \"2020-02-23T00:00:00\", \"2020-02-23T00:00:00\", \"2020-02-23T00:00:00\", \"2020-02-23T00:00:00\", \"2020-02-23T00:00:00\", \"2020-02-23T00:00:00\", \"2020-02-23T00:00:00\", \"2020-02-23T00:00:00\", \"2020-02-23T00:00:00\", \"2020-02-23T00:00:00\", \"2020-02-23T00:00:00\", \"2020-02-23T00:00:00\", \"2020-02-23T00:00:00\", \"2020-02-23T00:00:00\", \"2020-02-23T00:00:00\", \"2020-02-23T00:00:00\", \"2020-02-23T00:00:00\", \"2020-02-23T00:00:00\", \"2020-02-23T00:00:00\", \"2020-02-23T00:00:00\", \"2020-02-23T00:00:00\", \"2020-02-23T00:00:00\", \"2020-02-23T00:00:00\", \"2020-02-23T00:00:00\", \"2020-02-23T00:00:00\", \"2020-02-23T00:00:00\", \"2020-02-23T00:00:00\", \"2020-02-23T00:00:00\", \"2020-02-23T00:00:00\", \"2020-02-23T00:00:00\", \"2020-02-23T00:00:00\", \"2020-02-22T00:00:00\", \"2020-02-22T00:00:00\", \"2020-02-28T00:00:00\", \"2020-02-28T00:00:00\", \"2020-02-28T00:00:00\", \"2020-02-28T00:00:00\", \"2020-02-28T00:00:00\", \"2020-02-28T00:00:00\", \"2020-02-28T00:00:00\", \"2020-02-28T00:00:00\", \"2020-02-28T00:00:00\", \"2020-02-28T00:00:00\", \"2020-03-05T00:00:00\", \"2020-03-05T00:00:00\", \"2020-03-05T00:00:00\", \"2020-03-05T00:00:00\", \"2020-03-05T00:00:00\", \"2020-03-05T00:00:00\", \"2020-03-05T00:00:00\", \"2020-03-05T00:00:00\", \"2020-03-05T00:00:00\", \"2020-03-05T00:00:00\", \"2020-02-28T00:00:00\", \"2020-02-28T00:00:00\", \"2020-02-28T00:00:00\", \"2020-02-28T00:00:00\", \"2020-02-28T00:00:00\", \"2020-02-28T00:00:00\", \"2020-02-28T00:00:00\", \"2020-02-28T00:00:00\", \"2020-02-28T00:00:00\", \"2020-02-28T00:00:00\", \"2020-02-28T00:00:00\", \"2020-02-28T00:00:00\", \"2020-02-28T00:00:00\", \"2020-02-28T00:00:00\", \"2020-02-28T00:00:00\", \"2020-02-28T00:00:00\", \"2020-02-28T00:00:00\", \"2020-02-28T00:00:00\", \"2020-02-28T00:00:00\", \"2020-02-28T00:00:00\", \"2020-02-28T00:00:00\", \"2020-02-28T00:00:00\", \"2020-02-28T00:00:00\", \"2020-02-28T00:00:00\", \"2020-02-28T00:00:00\", \"2020-02-28T00:00:00\", \"2020-02-28T00:00:00\", \"2020-02-28T00:00:00\", \"2020-02-28T00:00:00\", \"2020-02-28T00:00:00\", \"2020-02-28T00:00:00\", \"2020-02-28T00:00:00\", \"2020-02-28T00:00:00\", \"2020-02-28T00:00:00\", \"2020-02-28T00:00:00\", \"2020-02-28T00:00:00\", \"2020-02-28T00:00:00\", \"2020-02-28T00:00:00\", \"2020-02-28T00:00:00\", \"2020-02-28T00:00:00\", \"2020-02-28T00:00:00\", \"2020-02-28T00:00:00\", \"2020-02-28T00:00:00\", \"2020-02-28T00:00:00\", \"2020-02-28T00:00:00\", \"2020-02-28T00:00:00\", \"2020-02-28T00:00:00\", \"2020-02-28T00:00:00\", \"2020-02-28T00:00:00\", \"2020-02-28T00:00:00\", \"2020-02-28T00:00:00\", \"2020-02-28T00:00:00\", \"2020-02-28T00:00:00\", \"2020-02-28T00:00:00\", \"2020-02-28T00:00:00\", \"2020-02-28T00:00:00\", \"2020-02-28T00:00:00\", \"2020-02-28T00:00:00\", \"2020-02-28T00:00:00\", \"2020-02-28T00:00:00\", \"2020-02-28T00:00:00\", \"2020-02-28T00:00:00\", \"2020-02-28T00:00:00\", \"2020-02-28T00:00:00\", \"2020-02-28T00:00:00\", \"2020-02-28T00:00:00\", \"2020-02-28T00:00:00\", \"2020-02-28T00:00:00\", \"2020-02-28T00:00:00\", \"2020-02-28T00:00:00\", \"2020-02-28T00:00:00\", \"2020-02-28T00:00:00\", \"2020-02-28T00:00:00\", \"2020-02-28T00:00:00\", \"2020-02-28T00:00:00\", \"2020-02-28T00:00:00\", \"2020-02-28T00:00:00\", \"2020-02-28T00:00:00\", \"2020-02-28T00:00:00\", \"2020-02-28T00:00:00\", \"2020-02-28T00:00:00\", \"2020-02-28T00:00:00\", \"2020-02-28T00:00:00\", \"2020-02-28T00:00:00\", \"2020-02-28T00:00:00\", \"2020-02-28T00:00:00\", \"2020-02-28T00:00:00\", \"2020-02-28T00:00:00\", \"2020-02-28T00:00:00\", \"2020-02-28T00:00:00\", \"2020-02-28T00:00:00\", \"2020-02-28T00:00:00\", \"2020-02-28T00:00:00\", \"2020-02-28T00:00:00\", \"2020-02-28T00:00:00\", \"2020-02-28T00:00:00\", \"2020-02-28T00:00:00\", \"2020-02-28T00:00:00\", \"2020-02-28T00:00:00\", \"2020-02-28T00:00:00\", \"2020-02-28T00:00:00\", \"2020-02-28T00:00:00\", \"2020-02-28T00:00:00\", \"2020-02-28T00:00:00\", \"2020-02-28T00:00:00\", \"2020-02-28T00:00:00\", \"2020-02-28T00:00:00\", \"2020-02-28T00:00:00\", \"2020-02-28T00:00:00\", \"2020-02-28T00:00:00\", \"2020-02-28T00:00:00\", \"2020-02-28T00:00:00\", \"2020-02-28T00:00:00\", \"2020-02-28T00:00:00\", \"2020-02-28T00:00:00\", \"2020-02-28T00:00:00\", \"2020-02-28T00:00:00\", \"2020-02-28T00:00:00\", \"2020-02-28T00:00:00\", \"2020-02-28T00:00:00\", \"2020-02-28T00:00:00\", \"2020-02-28T00:00:00\", \"2020-02-28T00:00:00\", \"2020-02-28T00:00:00\", \"2020-02-28T00:00:00\", \"2020-02-28T00:00:00\", \"2020-02-28T00:00:00\", \"2020-02-28T00:00:00\", \"2020-02-28T00:00:00\", \"2020-02-28T00:00:00\", \"2020-02-28T00:00:00\", \"2020-02-28T00:00:00\", \"2020-02-28T00:00:00\", \"2020-02-28T00:00:00\", \"2020-02-28T00:00:00\", \"2020-02-28T00:00:00\", \"2020-02-28T00:00:00\", \"2020-02-28T00:00:00\", \"2020-02-28T00:00:00\", \"2020-02-28T00:00:00\", \"2020-02-28T00:00:00\", \"2020-02-28T00:00:00\", \"2020-02-28T00:00:00\", \"2020-02-28T00:00:00\", \"2020-02-28T00:00:00\", \"2020-02-28T00:00:00\", \"2020-02-28T00:00:00\", \"2020-02-28T00:00:00\", \"2020-02-28T00:00:00\", \"2020-02-28T00:00:00\", \"2020-02-28T00:00:00\", \"2020-02-28T00:00:00\", \"2020-02-28T00:00:00\", \"2020-02-28T00:00:00\", \"2020-02-28T00:00:00\", \"2020-02-28T00:00:00\", \"2020-02-28T00:00:00\", \"2020-02-28T00:00:00\", \"2020-02-28T00:00:00\", \"2020-02-28T00:00:00\", \"2020-02-28T00:00:00\", \"2020-02-28T00:00:00\", \"2020-02-28T00:00:00\", \"2020-02-28T00:00:00\", \"2020-02-28T00:00:00\", \"2020-02-28T00:00:00\", \"2020-02-28T00:00:00\", \"2020-02-28T00:00:00\", \"2020-02-28T00:00:00\", \"2020-02-28T00:00:00\", \"2020-02-28T00:00:00\", \"2020-02-28T00:00:00\", \"2020-02-28T00:00:00\", \"2020-02-28T00:00:00\", \"2020-02-28T00:00:00\", \"2020-02-28T00:00:00\", \"2020-02-28T00:00:00\", \"2020-02-28T00:00:00\", \"2020-02-28T00:00:00\", \"2020-02-28T00:00:00\", \"2020-02-28T00:00:00\", \"2020-02-28T00:00:00\", \"2020-02-28T00:00:00\", \"2020-02-28T00:00:00\", \"2020-02-28T00:00:00\", \"2020-02-28T00:00:00\", \"2020-02-28T00:00:00\", \"2020-02-28T00:00:00\", \"2020-02-28T00:00:00\", \"2020-02-28T00:00:00\", \"2020-02-28T00:00:00\", \"2020-02-28T00:00:00\", \"2020-02-28T00:00:00\", \"2020-02-28T00:00:00\", \"2020-02-28T00:00:00\", \"2020-02-28T00:00:00\", \"2020-02-28T00:00:00\", \"2020-02-28T00:00:00\", \"2020-02-28T00:00:00\", \"2020-02-28T00:00:00\", \"2020-02-28T00:00:00\", \"2020-02-28T00:00:00\", \"2020-02-28T00:00:00\", \"2020-02-28T00:00:00\", \"2020-02-28T00:00:00\", \"2020-02-28T00:00:00\", \"2020-02-28T00:00:00\", \"2020-02-28T00:00:00\", \"2020-02-28T00:00:00\", \"2020-02-28T00:00:00\", \"2020-02-28T00:00:00\", \"2020-02-28T00:00:00\", \"2020-02-28T00:00:00\", \"2020-02-28T00:00:00\", \"2020-02-28T00:00:00\", \"2020-02-28T00:00:00\", \"2020-02-28T00:00:00\", \"2020-02-28T00:00:00\", \"2020-02-28T00:00:00\", \"2020-02-28T00:00:00\", \"2020-02-28T00:00:00\", \"2020-02-28T00:00:00\", \"2020-02-28T00:00:00\", \"2020-02-28T00:00:00\", \"2020-02-28T00:00:00\", \"2020-02-28T00:00:00\", \"2020-02-28T00:00:00\", \"2020-02-28T00:00:00\", \"2020-02-28T00:00:00\", \"2020-02-28T00:00:00\", \"2020-02-28T00:00:00\", \"2020-02-28T00:00:00\", \"2020-02-28T00:00:00\", \"2020-02-28T00:00:00\", \"2020-02-28T00:00:00\", \"2020-02-28T00:00:00\", \"2020-02-28T00:00:00\", \"2020-02-28T00:00:00\", \"2020-02-28T00:00:00\", \"2020-02-28T00:00:00\", \"2020-02-28T00:00:00\", \"2020-02-28T00:00:00\", \"2020-02-27T00:00:00\", \"2020-02-27T00:00:00\", \"2020-02-27T00:00:00\", \"2020-02-27T00:00:00\", \"2020-02-27T00:00:00\", \"2020-02-27T00:00:00\", \"2020-02-27T00:00:00\", \"2020-02-27T00:00:00\", \"2020-02-27T00:00:00\", \"2020-02-27T00:00:00\", \"2020-02-27T00:00:00\", \"2020-02-27T00:00:00\", \"2020-02-27T00:00:00\", \"2020-02-27T00:00:00\", \"2020-02-27T00:00:00\", \"2020-02-27T00:00:00\", \"2020-02-27T00:00:00\", \"2020-02-27T00:00:00\", \"2020-02-27T00:00:00\", \"2020-02-27T00:00:00\", \"2020-02-27T00:00:00\", \"2020-02-27T00:00:00\", \"2020-02-27T00:00:00\", \"2020-02-27T00:00:00\", \"2020-02-27T00:00:00\", \"2020-02-27T00:00:00\", \"2020-02-27T00:00:00\", \"2020-02-27T00:00:00\", \"2020-02-27T00:00:00\", \"2020-02-27T00:00:00\", \"2020-02-27T00:00:00\", \"2020-02-27T00:00:00\", \"2020-02-27T00:00:00\", \"2020-02-27T00:00:00\", \"2020-02-27T00:00:00\", \"2020-02-27T00:00:00\", \"2020-02-27T00:00:00\", \"2020-02-27T00:00:00\", \"2020-02-27T00:00:00\", \"2020-02-27T00:00:00\", \"2020-02-27T00:00:00\", \"2020-02-27T00:00:00\", \"2020-02-27T00:00:00\", \"2020-02-27T00:00:00\", \"2020-02-27T00:00:00\", \"2020-02-27T00:00:00\", \"2020-02-27T00:00:00\", \"2020-02-27T00:00:00\", \"2020-02-27T00:00:00\", \"2020-02-27T00:00:00\", \"2020-02-27T00:00:00\", \"2020-02-27T00:00:00\", \"2020-02-27T00:00:00\", \"2020-02-27T00:00:00\", \"2020-02-27T00:00:00\", \"2020-02-27T00:00:00\", \"2020-02-27T00:00:00\", \"2020-02-27T00:00:00\", \"2020-02-27T00:00:00\", \"2020-02-27T00:00:00\", \"2020-02-27T00:00:00\", \"2020-02-27T00:00:00\", \"2020-02-27T00:00:00\", \"2020-02-27T00:00:00\", \"2020-02-27T00:00:00\", \"2020-02-27T00:00:00\", \"2020-02-27T00:00:00\", \"2020-02-27T00:00:00\", \"2020-02-27T00:00:00\", \"2020-02-27T00:00:00\", \"2020-02-27T00:00:00\", \"2020-02-27T00:00:00\", \"2020-02-27T00:00:00\", \"2020-02-27T00:00:00\", \"2020-02-27T00:00:00\", \"2020-02-27T00:00:00\", \"2020-02-27T00:00:00\", \"2020-02-27T00:00:00\", \"2020-02-27T00:00:00\", \"2020-02-27T00:00:00\", \"2020-02-27T00:00:00\", \"2020-02-27T00:00:00\", \"2020-02-27T00:00:00\", \"2020-02-27T00:00:00\", \"2020-02-27T00:00:00\", \"2020-02-27T00:00:00\", \"2020-02-27T00:00:00\", \"2020-02-27T00:00:00\", \"2020-02-27T00:00:00\", \"2020-02-27T00:00:00\", \"2020-02-27T00:00:00\", \"2020-02-27T00:00:00\", \"2020-02-27T00:00:00\", \"2020-02-27T00:00:00\", \"2020-02-27T00:00:00\", \"2020-02-27T00:00:00\", \"2020-02-27T00:00:00\", \"2020-02-27T00:00:00\", \"2020-02-27T00:00:00\", \"2020-02-27T00:00:00\", \"2020-02-27T00:00:00\", \"2020-02-27T00:00:00\", \"2020-02-27T00:00:00\", \"2020-02-27T00:00:00\", \"2020-02-27T00:00:00\", \"2020-02-27T00:00:00\", \"2020-02-27T00:00:00\", \"2020-02-27T00:00:00\", \"2020-02-27T00:00:00\", \"2020-02-27T00:00:00\", \"2020-02-27T00:00:00\", \"2020-02-27T00:00:00\", \"2020-02-27T00:00:00\", \"2020-02-27T00:00:00\", \"2020-02-27T00:00:00\", \"2020-02-27T00:00:00\", \"2020-02-27T00:00:00\", \"2020-02-27T00:00:00\", \"2020-02-27T00:00:00\", \"2020-02-27T00:00:00\", \"2020-02-27T00:00:00\", \"2020-02-27T00:00:00\", \"2020-02-27T00:00:00\", \"2020-02-27T00:00:00\", \"2020-02-27T00:00:00\", \"2020-02-27T00:00:00\", \"2020-02-27T00:00:00\", \"2020-02-27T00:00:00\", \"2020-02-27T00:00:00\", \"2020-02-27T00:00:00\", \"2020-02-27T00:00:00\", \"2020-02-27T00:00:00\", \"2020-02-27T00:00:00\", \"2020-02-27T00:00:00\", \"2020-02-27T00:00:00\", \"2020-02-27T00:00:00\", \"2020-02-27T00:00:00\", \"2020-02-27T00:00:00\", \"2020-02-27T00:00:00\", \"2020-02-27T00:00:00\", \"2020-02-27T00:00:00\", \"2020-02-27T00:00:00\", \"2020-02-27T00:00:00\", \"2020-02-27T00:00:00\", \"2020-02-27T00:00:00\", \"2020-02-27T00:00:00\", \"2020-02-27T00:00:00\", \"2020-02-27T00:00:00\", \"2020-02-27T00:00:00\", \"2020-02-27T00:00:00\", \"2020-02-27T00:00:00\", \"2020-02-27T00:00:00\", \"2020-02-27T00:00:00\", \"2020-02-27T00:00:00\", \"2020-02-27T00:00:00\", \"2020-02-27T00:00:00\", \"2020-02-27T00:00:00\", \"2020-02-27T00:00:00\", \"2020-02-27T00:00:00\", \"2020-02-27T00:00:00\", \"2020-02-27T00:00:00\", \"2020-02-27T00:00:00\", \"2020-02-27T00:00:00\", \"2020-02-27T00:00:00\", \"2020-02-27T00:00:00\", \"2020-02-27T00:00:00\", \"2020-02-27T00:00:00\", \"2020-02-27T00:00:00\", \"2020-02-27T00:00:00\", \"2020-02-27T00:00:00\", \"2020-02-27T00:00:00\", \"2020-02-27T00:00:00\", \"2020-02-27T00:00:00\", \"2020-02-27T00:00:00\", \"2020-02-27T00:00:00\", \"2020-02-27T00:00:00\", \"2020-02-27T00:00:00\", \"2020-02-27T00:00:00\", \"2020-02-27T00:00:00\", \"2020-02-27T00:00:00\", \"2020-02-27T00:00:00\", \"2020-02-27T00:00:00\", \"2020-02-27T00:00:00\", \"2020-02-27T00:00:00\", \"2020-02-27T00:00:00\", \"2020-02-27T00:00:00\", \"2020-02-27T00:00:00\", \"2020-02-27T00:00:00\", \"2020-02-27T00:00:00\", \"2020-02-27T00:00:00\", \"2020-02-27T00:00:00\", \"2020-02-27T00:00:00\", \"2020-02-27T00:00:00\", \"2020-02-27T00:00:00\", \"2020-02-27T00:00:00\", \"2020-02-27T00:00:00\", \"2020-02-27T00:00:00\", \"2020-02-27T00:00:00\", \"2020-02-27T00:00:00\", \"2020-02-27T00:00:00\", \"2020-02-27T00:00:00\", \"2020-02-27T00:00:00\", \"2020-02-27T00:00:00\", \"2020-02-27T00:00:00\", \"2020-02-27T00:00:00\", \"2020-02-27T00:00:00\", \"2020-02-27T00:00:00\", \"2020-02-27T00:00:00\", \"2020-02-27T00:00:00\", \"2020-02-27T00:00:00\", \"2020-02-27T00:00:00\", \"2020-02-27T00:00:00\", \"2020-02-27T00:00:00\", \"2020-02-27T00:00:00\", \"2020-02-27T00:00:00\", \"2020-02-27T00:00:00\", \"2020-02-27T00:00:00\", \"2020-02-27T00:00:00\", \"2020-02-27T00:00:00\", \"2020-02-27T00:00:00\", \"2020-02-27T00:00:00\", \"2020-02-27T00:00:00\", \"2020-02-27T00:00:00\", \"2020-02-27T00:00:00\", \"2020-02-27T00:00:00\", \"2020-02-27T00:00:00\", \"2020-02-27T00:00:00\", \"2020-02-27T00:00:00\", \"2020-02-27T00:00:00\", \"2020-02-27T00:00:00\", \"2020-02-27T00:00:00\", \"2020-02-27T00:00:00\", \"2020-02-27T00:00:00\", \"2020-02-27T00:00:00\", \"2020-02-27T00:00:00\", \"2020-02-27T00:00:00\", \"2020-02-27T00:00:00\", \"2020-02-27T00:00:00\", \"2020-02-27T00:00:00\", \"2020-02-27T00:00:00\", \"2020-02-27T00:00:00\", \"2020-02-27T00:00:00\", \"2020-02-27T00:00:00\", \"2020-02-27T00:00:00\", \"2020-02-27T00:00:00\", \"2020-02-27T00:00:00\", \"2020-02-27T00:00:00\", \"2020-02-27T00:00:00\", \"2020-02-27T00:00:00\", \"2020-02-27T00:00:00\", \"2020-02-27T00:00:00\", \"2020-02-27T00:00:00\", \"2020-02-27T00:00:00\", \"2020-02-27T00:00:00\", \"2020-02-27T00:00:00\", \"2020-02-27T00:00:00\", \"2020-02-27T00:00:00\", \"2020-02-27T00:00:00\", \"2020-02-27T00:00:00\", \"2020-02-27T00:00:00\", \"2020-02-27T00:00:00\", \"2020-02-27T00:00:00\", \"2020-02-27T00:00:00\", \"2020-02-26T00:00:00\", \"2020-02-26T00:00:00\", \"2020-02-26T00:00:00\", \"2020-02-26T00:00:00\", \"2020-02-26T00:00:00\", \"2020-02-26T00:00:00\", \"2020-02-26T00:00:00\", \"2020-02-26T00:00:00\", \"2020-02-26T00:00:00\", \"2020-02-26T00:00:00\", \"2020-02-26T00:00:00\", \"2020-02-26T00:00:00\", \"2020-02-26T00:00:00\", \"2020-02-26T00:00:00\", \"2020-02-26T00:00:00\", \"2020-02-26T00:00:00\", \"2020-02-26T00:00:00\", \"2020-02-26T00:00:00\", \"2020-02-26T00:00:00\", \"2020-02-26T00:00:00\", \"2020-02-26T00:00:00\", \"2020-02-26T00:00:00\", \"2020-02-26T00:00:00\", \"2020-02-26T00:00:00\", \"2020-02-26T00:00:00\", \"2020-02-26T00:00:00\", \"2020-02-26T00:00:00\", \"2020-02-26T00:00:00\", \"2020-02-26T00:00:00\", \"2020-02-26T00:00:00\", \"2020-02-26T00:00:00\", \"2020-02-26T00:00:00\", \"2020-02-26T00:00:00\", \"2020-02-26T00:00:00\", \"2020-02-26T00:00:00\", \"2020-02-26T00:00:00\", \"2020-02-26T00:00:00\", \"2020-02-26T00:00:00\", \"2020-02-26T00:00:00\", \"2020-02-26T00:00:00\", \"2020-02-26T00:00:00\", \"2020-02-26T00:00:00\", \"2020-02-26T00:00:00\", \"2020-02-26T00:00:00\", \"2020-02-26T00:00:00\", \"2020-02-26T00:00:00\", \"2020-02-26T00:00:00\", \"2020-02-26T00:00:00\", \"2020-02-26T00:00:00\", \"2020-02-26T00:00:00\", \"2020-02-26T00:00:00\", \"2020-02-26T00:00:00\", \"2020-02-26T00:00:00\", \"2020-02-26T00:00:00\", \"2020-02-26T00:00:00\", \"2020-02-26T00:00:00\", \"2020-02-26T00:00:00\", \"2020-02-26T00:00:00\", \"2020-02-26T00:00:00\", \"2020-02-26T00:00:00\", \"2020-02-26T00:00:00\", \"2020-02-26T00:00:00\", \"2020-02-26T00:00:00\", \"2020-02-26T00:00:00\", \"2020-02-26T00:00:00\", \"2020-02-26T00:00:00\", \"2020-02-26T00:00:00\", \"2020-02-26T00:00:00\", \"2020-02-26T00:00:00\", \"2020-02-26T00:00:00\", \"2020-02-26T00:00:00\", \"2020-02-26T00:00:00\", \"2020-02-26T00:00:00\", \"2020-02-26T00:00:00\", \"2020-02-26T00:00:00\", \"2020-02-26T00:00:00\", \"2020-02-26T00:00:00\", \"2020-02-26T00:00:00\", \"2020-02-26T00:00:00\", \"2020-02-26T00:00:00\", \"2020-02-26T00:00:00\", \"2020-02-26T00:00:00\", \"2020-02-26T00:00:00\", \"2020-02-26T00:00:00\", \"2020-02-26T00:00:00\", \"2020-02-26T00:00:00\", \"2020-02-26T00:00:00\", \"2020-02-26T00:00:00\", \"2020-02-26T00:00:00\", \"2020-02-26T00:00:00\", \"2020-02-26T00:00:00\", \"2020-02-26T00:00:00\", \"2020-02-26T00:00:00\", \"2020-02-26T00:00:00\", \"2020-02-26T00:00:00\", \"2020-02-26T00:00:00\", \"2020-02-26T00:00:00\", \"2020-02-26T00:00:00\", \"2020-02-26T00:00:00\", \"2020-02-26T00:00:00\", \"2020-02-26T00:00:00\", \"2020-02-26T00:00:00\", \"2020-02-26T00:00:00\", \"2020-02-26T00:00:00\", \"2020-02-26T00:00:00\", \"2020-02-26T00:00:00\", \"2020-02-26T00:00:00\", \"2020-02-26T00:00:00\", \"2020-02-26T00:00:00\", \"2020-02-26T00:00:00\", \"2020-02-26T00:00:00\", \"2020-02-26T00:00:00\", \"2020-02-26T00:00:00\", \"2020-02-26T00:00:00\", \"2020-02-26T00:00:00\", \"2020-02-26T00:00:00\", \"2020-02-26T00:00:00\", \"2020-02-26T00:00:00\", \"2020-02-26T00:00:00\", \"2020-02-26T00:00:00\", \"2020-02-26T00:00:00\", \"2020-02-26T00:00:00\", \"2020-02-26T00:00:00\", \"2020-02-26T00:00:00\", \"2020-02-26T00:00:00\", \"2020-02-26T00:00:00\", \"2020-02-26T00:00:00\", \"2020-02-26T00:00:00\", \"2020-02-26T00:00:00\", \"2020-02-26T00:00:00\", \"2020-02-26T00:00:00\", \"2020-02-26T00:00:00\", \"2020-02-26T00:00:00\", \"2020-02-26T00:00:00\", \"2020-02-26T00:00:00\", \"2020-02-26T00:00:00\", \"2020-02-26T00:00:00\", \"2020-02-26T00:00:00\", \"2020-02-26T00:00:00\", \"2020-02-26T00:00:00\", \"2020-02-26T00:00:00\", \"2020-02-26T00:00:00\", \"2020-02-26T00:00:00\", \"2020-02-26T00:00:00\", \"2020-02-26T00:00:00\", \"2020-02-26T00:00:00\", \"2020-02-26T00:00:00\", \"2020-02-26T00:00:00\", \"2020-02-26T00:00:00\", \"2020-02-26T00:00:00\", \"2020-02-26T00:00:00\", \"2020-02-26T00:00:00\", \"2020-02-26T00:00:00\", \"2020-02-26T00:00:00\", \"2020-02-26T00:00:00\", \"2020-02-26T00:00:00\", \"2020-02-26T00:00:00\", \"2020-02-26T00:00:00\", \"2020-02-26T00:00:00\", \"2020-02-26T00:00:00\", \"2020-02-26T00:00:00\", \"2020-02-26T00:00:00\", \"2020-02-26T00:00:00\", \"2020-02-26T00:00:00\", \"2020-03-03T00:00:00\", \"2020-03-03T00:00:00\", \"2020-03-03T00:00:00\", \"2020-03-03T00:00:00\", \"2020-03-03T00:00:00\", \"2020-03-03T00:00:00\", \"2020-03-03T00:00:00\", \"2020-03-03T00:00:00\", \"2020-03-03T00:00:00\", \"2020-03-03T00:00:00\", \"2020-02-26T00:00:00\", \"2020-02-26T00:00:00\", \"2020-02-26T00:00:00\", \"2020-02-26T00:00:00\", \"2020-02-26T00:00:00\", \"2020-02-26T00:00:00\", \"2020-02-26T00:00:00\", \"2020-02-26T00:00:00\", \"2020-02-26T00:00:00\", \"2020-02-26T00:00:00\", \"2020-02-26T00:00:00\", \"2020-02-26T00:00:00\", \"2020-02-26T00:00:00\", \"2020-02-26T00:00:00\", \"2020-02-26T00:00:00\", \"2020-02-26T00:00:00\", \"2020-02-26T00:00:00\", \"2020-02-26T00:00:00\", \"2020-02-26T00:00:00\", \"2020-02-26T00:00:00\", \"2020-02-26T00:00:00\", \"2020-02-26T00:00:00\", \"2020-02-26T00:00:00\", \"2020-02-26T00:00:00\", \"2020-02-26T00:00:00\", \"2020-02-26T00:00:00\", \"2020-02-26T00:00:00\", \"2020-02-26T00:00:00\", \"2020-02-26T00:00:00\", \"2020-02-26T00:00:00\", \"2020-02-26T00:00:00\", \"2020-02-26T00:00:00\", \"2020-02-26T00:00:00\", \"2020-02-26T00:00:00\", \"2020-02-26T00:00:00\", \"2020-02-26T00:00:00\", \"2020-02-26T00:00:00\", \"2020-02-26T00:00:00\", \"2020-02-26T00:00:00\", \"2020-02-26T00:00:00\", \"2020-02-26T00:00:00\", \"2020-02-26T00:00:00\", \"2020-02-26T00:00:00\", \"2020-02-26T00:00:00\", \"2020-02-26T00:00:00\", \"2020-02-26T00:00:00\", \"2020-02-26T00:00:00\", \"2020-02-26T00:00:00\", \"2020-02-26T00:00:00\", \"2020-02-26T00:00:00\", \"2020-02-26T00:00:00\", \"2020-02-26T00:00:00\", \"2020-02-25T00:00:00\", \"2020-02-25T00:00:00\", \"2020-02-25T00:00:00\", \"2020-02-25T00:00:00\", \"2020-02-25T00:00:00\", \"2020-02-25T00:00:00\", \"2020-02-25T00:00:00\", \"2020-02-25T00:00:00\", \"2020-02-25T00:00:00\", \"2020-02-25T00:00:00\", \"2020-02-25T00:00:00\", \"2020-02-25T00:00:00\", \"2020-02-25T00:00:00\", \"2020-02-25T00:00:00\", \"2020-02-25T00:00:00\", \"2020-02-25T00:00:00\", \"2020-02-25T00:00:00\", \"2020-02-25T00:00:00\", \"2020-02-25T00:00:00\", \"2020-02-25T00:00:00\", \"2020-02-25T00:00:00\", \"2020-02-25T00:00:00\", \"2020-02-25T00:00:00\", \"2020-02-25T00:00:00\", \"2020-02-25T00:00:00\", \"2020-02-25T00:00:00\", \"2020-02-25T00:00:00\", \"2020-03-02T00:00:00\", \"2020-03-02T00:00:00\", \"2020-03-02T00:00:00\", \"2020-03-02T00:00:00\", \"2020-03-02T00:00:00\", \"2020-03-02T00:00:00\", \"2020-03-02T00:00:00\", \"2020-03-02T00:00:00\", \"2020-03-02T00:00:00\", \"2020-03-02T00:00:00\", \"2020-03-02T00:00:00\", \"2020-03-02T00:00:00\", \"2020-03-02T00:00:00\", \"2020-03-02T00:00:00\", \"2020-03-02T00:00:00\", \"2020-03-02T00:00:00\", \"2020-03-02T00:00:00\", \"2020-03-02T00:00:00\", \"2020-03-02T00:00:00\", \"2020-03-02T00:00:00\", \"2020-03-02T00:00:00\", \"2020-03-02T00:00:00\", \"2020-03-02T00:00:00\", \"2020-03-02T00:00:00\", \"2020-03-02T00:00:00\", \"2020-03-02T00:00:00\", \"2020-03-02T00:00:00\", \"2020-03-02T00:00:00\", \"2020-03-02T00:00:00\", \"2020-03-02T00:00:00\", \"2020-03-02T00:00:00\", \"2020-03-02T00:00:00\", \"2020-03-02T00:00:00\", \"2020-03-02T00:00:00\", \"2020-03-02T00:00:00\", \"2020-03-02T00:00:00\", \"2020-03-02T00:00:00\", \"2020-03-02T00:00:00\", \"2020-03-02T00:00:00\", \"2020-03-02T00:00:00\", \"2020-03-02T00:00:00\", \"2020-03-02T00:00:00\", \"2020-03-02T00:00:00\", \"2020-03-02T00:00:00\", \"2020-03-02T00:00:00\", \"2020-03-02T00:00:00\", \"2020-03-02T00:00:00\", \"2020-03-02T00:00:00\", \"2020-03-02T00:00:00\", \"2020-03-02T00:00:00\", \"2020-03-02T00:00:00\", \"2020-03-02T00:00:00\", \"2020-03-02T00:00:00\", \"2020-03-02T00:00:00\", \"2020-03-02T00:00:00\", \"2020-03-02T00:00:00\", \"2020-03-02T00:00:00\", \"2020-03-02T00:00:00\", \"2020-03-02T00:00:00\", \"2020-03-02T00:00:00\", \"2020-03-02T00:00:00\", \"2020-03-02T00:00:00\", \"2020-03-02T00:00:00\", \"2020-03-02T00:00:00\", \"2020-03-02T00:00:00\", \"2020-03-02T00:00:00\", \"2020-03-02T00:00:00\", \"2020-03-02T00:00:00\", \"2020-03-02T00:00:00\", \"2020-03-02T00:00:00\", \"2020-03-02T00:00:00\", \"2020-03-02T00:00:00\", \"2020-03-02T00:00:00\", \"2020-03-02T00:00:00\", \"2020-03-02T00:00:00\", \"2020-03-02T00:00:00\", \"2020-03-02T00:00:00\", \"2020-03-02T00:00:00\", \"2020-03-02T00:00:00\", \"2020-03-02T00:00:00\", \"2020-03-02T00:00:00\", \"2020-03-02T00:00:00\", \"2020-03-02T00:00:00\", \"2020-03-02T00:00:00\", \"2020-03-02T00:00:00\", \"2020-03-02T00:00:00\", \"2020-03-02T00:00:00\", \"2020-03-02T00:00:00\", \"2020-03-02T00:00:00\", \"2020-03-02T00:00:00\", \"2020-03-02T00:00:00\", \"2020-03-02T00:00:00\", \"2020-03-02T00:00:00\", \"2020-03-02T00:00:00\", \"2020-03-02T00:00:00\", \"2020-03-02T00:00:00\", \"2020-03-02T00:00:00\", \"2020-03-02T00:00:00\", \"2020-03-02T00:00:00\", \"2020-03-02T00:00:00\", \"2020-03-02T00:00:00\", \"2020-03-02T00:00:00\", \"2020-03-02T00:00:00\", \"2020-03-02T00:00:00\", \"2020-03-02T00:00:00\", \"2020-03-02T00:00:00\", \"2020-03-02T00:00:00\", \"2020-03-02T00:00:00\", \"2020-03-02T00:00:00\", \"2020-03-02T00:00:00\", \"2020-03-02T00:00:00\", \"2020-03-02T00:00:00\", \"2020-03-02T00:00:00\", \"2020-03-02T00:00:00\", \"2020-03-02T00:00:00\", \"2020-03-02T00:00:00\", \"2020-03-02T00:00:00\", \"2020-03-02T00:00:00\", \"2020-03-02T00:00:00\", \"2020-03-02T00:00:00\", \"2020-03-02T00:00:00\", \"2020-03-02T00:00:00\", \"2020-03-02T00:00:00\", \"2020-03-02T00:00:00\", \"2020-03-02T00:00:00\", \"2020-03-02T00:00:00\", \"2020-03-02T00:00:00\", \"2020-03-02T00:00:00\", \"2020-03-02T00:00:00\", \"2020-03-02T00:00:00\", \"2020-03-02T00:00:00\", \"2020-03-02T00:00:00\", \"2020-03-02T00:00:00\", \"2020-03-02T00:00:00\", \"2020-03-02T00:00:00\", \"2020-03-02T00:00:00\", \"2020-03-02T00:00:00\", \"2020-03-02T00:00:00\", \"2020-03-02T00:00:00\", \"2020-03-02T00:00:00\", \"2020-03-02T00:00:00\", \"2020-03-02T00:00:00\", \"2020-03-02T00:00:00\", \"2020-03-02T00:00:00\", \"2020-03-02T00:00:00\", \"2020-03-02T00:00:00\", \"2020-03-02T00:00:00\", \"2020-03-02T00:00:00\", \"2020-03-02T00:00:00\", \"2020-03-02T00:00:00\", \"2020-03-02T00:00:00\", \"2020-03-02T00:00:00\", \"2020-03-02T00:00:00\", \"2020-03-02T00:00:00\", \"2020-03-02T00:00:00\", \"2020-03-02T00:00:00\", \"2020-03-02T00:00:00\", \"2020-03-02T00:00:00\", \"2020-03-02T00:00:00\", \"2020-03-02T00:00:00\", \"2020-03-02T00:00:00\", \"2020-03-02T00:00:00\", \"2020-03-02T00:00:00\", \"2020-03-02T00:00:00\", \"2020-03-02T00:00:00\", \"2020-03-02T00:00:00\", \"2020-03-02T00:00:00\", \"2020-03-02T00:00:00\", \"2020-03-02T00:00:00\", \"2020-03-02T00:00:00\", \"2020-03-02T00:00:00\", \"2020-03-02T00:00:00\", \"2020-03-02T00:00:00\", \"2020-03-02T00:00:00\", \"2020-03-02T00:00:00\", \"2020-03-02T00:00:00\", \"2020-03-02T00:00:00\", \"2020-03-02T00:00:00\", \"2020-03-02T00:00:00\", \"2020-03-02T00:00:00\", \"2020-03-02T00:00:00\", \"2020-03-02T00:00:00\", \"2020-03-02T00:00:00\", \"2020-03-02T00:00:00\", \"2020-03-02T00:00:00\", \"2020-03-02T00:00:00\", \"2020-03-02T00:00:00\", \"2020-03-02T00:00:00\", \"2020-03-02T00:00:00\", \"2020-03-02T00:00:00\", \"2020-03-02T00:00:00\", \"2020-03-02T00:00:00\", \"2020-03-02T00:00:00\", \"2020-03-02T00:00:00\", \"2020-03-02T00:00:00\", \"2020-03-02T00:00:00\", \"2020-03-02T00:00:00\", \"2020-03-02T00:00:00\", \"2020-03-02T00:00:00\", \"2020-03-02T00:00:00\", \"2020-03-02T00:00:00\", \"2020-03-02T00:00:00\", \"2020-03-02T00:00:00\", \"2020-03-02T00:00:00\", \"2020-03-02T00:00:00\", \"2020-03-02T00:00:00\", \"2020-03-02T00:00:00\", \"2020-03-02T00:00:00\", \"2020-03-02T00:00:00\", \"2020-03-02T00:00:00\", \"2020-03-02T00:00:00\", \"2020-03-02T00:00:00\", \"2020-03-02T00:00:00\", \"2020-03-02T00:00:00\", \"2020-03-02T00:00:00\", \"2020-03-02T00:00:00\", \"2020-03-02T00:00:00\", \"2020-03-01T00:00:00\", \"2020-03-01T00:00:00\", \"2020-03-01T00:00:00\", \"2020-03-01T00:00:00\", \"2020-03-01T00:00:00\", \"2020-03-01T00:00:00\", \"2020-03-01T00:00:00\", \"2020-03-01T00:00:00\", \"2020-03-01T00:00:00\", \"2020-03-01T00:00:00\", \"2020-03-01T00:00:00\", \"2020-03-01T00:00:00\", \"2020-03-01T00:00:00\", \"2020-03-01T00:00:00\", \"2020-03-01T00:00:00\", \"2020-03-01T00:00:00\", \"2020-03-01T00:00:00\", \"2020-03-01T00:00:00\", \"2020-03-01T00:00:00\", \"2020-03-01T00:00:00\", \"2020-03-01T00:00:00\", \"2020-03-01T00:00:00\", \"2020-03-01T00:00:00\", \"2020-03-01T00:00:00\", \"2020-03-01T00:00:00\", \"2020-03-01T00:00:00\", \"2020-03-01T00:00:00\", \"2020-03-01T00:00:00\", \"2020-03-01T00:00:00\", \"2020-03-01T00:00:00\", \"2020-03-01T00:00:00\", \"2020-03-01T00:00:00\", \"2020-03-01T00:00:00\", \"2020-03-01T00:00:00\", \"2020-03-01T00:00:00\", \"2020-03-01T00:00:00\", \"2020-03-01T00:00:00\", \"2020-03-01T00:00:00\", \"2020-03-01T00:00:00\", \"2020-03-01T00:00:00\", \"2020-03-01T00:00:00\", \"2020-03-01T00:00:00\", \"2020-03-01T00:00:00\", \"2020-03-01T00:00:00\", \"2020-03-01T00:00:00\", \"2020-03-01T00:00:00\", \"2020-03-01T00:00:00\", \"2020-03-01T00:00:00\", \"2020-03-01T00:00:00\", \"2020-03-01T00:00:00\", \"2020-03-01T00:00:00\", \"2020-03-01T00:00:00\", \"2020-03-01T00:00:00\", \"2020-03-01T00:00:00\", \"2020-03-01T00:00:00\", \"2020-03-01T00:00:00\", \"2020-03-01T00:00:00\", \"2020-03-01T00:00:00\", \"2020-03-01T00:00:00\", \"2020-03-01T00:00:00\", \"2020-03-01T00:00:00\", \"2020-03-01T00:00:00\", \"2020-03-01T00:00:00\", \"2020-03-01T00:00:00\", \"2020-03-01T00:00:00\", \"2020-03-01T00:00:00\", \"2020-03-01T00:00:00\", \"2020-03-01T00:00:00\", \"2020-03-01T00:00:00\", \"2020-03-01T00:00:00\", \"2020-03-01T00:00:00\", \"2020-03-01T00:00:00\", \"2020-03-01T00:00:00\", \"2020-03-01T00:00:00\", \"2020-03-01T00:00:00\", \"2020-03-01T00:00:00\", \"2020-03-01T00:00:00\", \"2020-03-01T00:00:00\", \"2020-03-01T00:00:00\", \"2020-03-01T00:00:00\", \"2020-03-01T00:00:00\", \"2020-03-01T00:00:00\", \"2020-03-01T00:00:00\", \"2020-03-01T00:00:00\", \"2020-03-01T00:00:00\", \"2020-03-01T00:00:00\", \"2020-03-01T00:00:00\", \"2020-03-01T00:00:00\", \"2020-03-01T00:00:00\", \"2020-03-01T00:00:00\", \"2020-03-01T00:00:00\", \"2020-03-01T00:00:00\", \"2020-03-01T00:00:00\", \"2020-03-01T00:00:00\", \"2020-03-01T00:00:00\", \"2020-03-01T00:00:00\", \"2020-03-01T00:00:00\", \"2020-03-01T00:00:00\", \"2020-03-01T00:00:00\", \"2020-03-01T00:00:00\", \"2020-03-01T00:00:00\", \"2020-03-01T00:00:00\", \"2020-03-01T00:00:00\", \"2020-03-01T00:00:00\", \"2020-03-01T00:00:00\", \"2020-03-01T00:00:00\", \"2020-03-01T00:00:00\", \"2020-03-01T00:00:00\", \"2020-03-01T00:00:00\", \"2020-03-01T00:00:00\", \"2020-03-01T00:00:00\", \"2020-03-01T00:00:00\", \"2020-03-01T00:00:00\", \"2020-03-01T00:00:00\", \"2020-03-01T00:00:00\", \"2020-03-01T00:00:00\", \"2020-03-01T00:00:00\", \"2020-03-01T00:00:00\", \"2020-03-01T00:00:00\", \"2020-03-01T00:00:00\", \"2020-03-01T00:00:00\", \"2020-03-01T00:00:00\", \"2020-03-01T00:00:00\", \"2020-03-01T00:00:00\", \"2020-03-01T00:00:00\", \"2020-03-01T00:00:00\", \"2020-03-01T00:00:00\", \"2020-03-01T00:00:00\", \"2020-03-01T00:00:00\", \"2020-03-01T00:00:00\", \"2020-03-01T00:00:00\", \"2020-03-01T00:00:00\", \"2020-03-01T00:00:00\", \"2020-03-01T00:00:00\", \"2020-03-01T00:00:00\", \"2020-03-01T00:00:00\", \"2020-03-01T00:00:00\", \"2020-03-01T00:00:00\", \"2020-03-01T00:00:00\", \"2020-03-01T00:00:00\", \"2020-03-01T00:00:00\", \"2020-03-01T00:00:00\", \"2020-03-01T00:00:00\", \"2020-03-01T00:00:00\", \"2020-03-01T00:00:00\", \"2020-03-01T00:00:00\", \"2020-03-01T00:00:00\", \"2020-03-01T00:00:00\", \"2020-03-01T00:00:00\", \"2020-03-01T00:00:00\", \"2020-03-01T00:00:00\", \"2020-03-01T00:00:00\", \"2020-03-01T00:00:00\", \"2020-03-01T00:00:00\", \"2020-03-01T00:00:00\", \"2020-03-01T00:00:00\", \"2020-03-01T00:00:00\", \"2020-03-01T00:00:00\", \"2020-03-01T00:00:00\", \"2020-03-01T00:00:00\", \"2020-03-01T00:00:00\", \"2020-03-01T00:00:00\", \"2020-03-01T00:00:00\", \"2020-02-29T00:00:00\", \"2020-02-29T00:00:00\", \"2020-02-29T00:00:00\", \"2020-02-29T00:00:00\", \"2020-02-29T00:00:00\", \"2020-02-29T00:00:00\", \"2020-02-29T00:00:00\", \"2020-02-29T00:00:00\", \"2020-02-29T00:00:00\", \"2020-02-29T00:00:00\", \"2020-02-29T00:00:00\", \"2020-02-29T00:00:00\", \"2020-02-29T00:00:00\", \"2020-02-29T00:00:00\", \"2020-02-29T00:00:00\", \"2020-02-29T00:00:00\", \"2020-02-29T00:00:00\", \"2020-02-29T00:00:00\", \"2020-02-29T00:00:00\", \"2020-02-29T00:00:00\", \"2020-02-29T00:00:00\", \"2020-02-29T00:00:00\", \"2020-02-29T00:00:00\", \"2020-02-29T00:00:00\", \"2020-02-29T00:00:00\", \"2020-02-29T00:00:00\", \"2020-02-29T00:00:00\", \"2020-02-29T00:00:00\", \"2020-02-29T00:00:00\", \"2020-02-29T00:00:00\", \"2020-02-29T00:00:00\", \"2020-02-29T00:00:00\", \"2020-02-29T00:00:00\", \"2020-02-29T00:00:00\", \"2020-02-29T00:00:00\", \"2020-02-29T00:00:00\", \"2020-02-29T00:00:00\", \"2020-02-29T00:00:00\", \"2020-02-29T00:00:00\", \"2020-02-29T00:00:00\", \"2020-02-29T00:00:00\", \"2020-02-29T00:00:00\", \"2020-02-29T00:00:00\", \"2020-02-29T00:00:00\", \"2020-02-29T00:00:00\", \"2020-02-29T00:00:00\", \"2020-02-29T00:00:00\", \"2020-02-29T00:00:00\", \"2020-02-29T00:00:00\", \"2020-02-29T00:00:00\", \"2020-02-29T00:00:00\", \"2020-02-29T00:00:00\", \"2020-02-29T00:00:00\", \"2020-02-29T00:00:00\", \"2020-02-29T00:00:00\", \"2020-02-29T00:00:00\", \"2020-02-29T00:00:00\", \"2020-02-29T00:00:00\", \"2020-02-29T00:00:00\", \"2020-02-29T00:00:00\", \"2020-02-29T00:00:00\", \"2020-02-29T00:00:00\", \"2020-02-29T00:00:00\", \"2020-02-29T00:00:00\", \"2020-02-29T00:00:00\", \"2020-02-29T00:00:00\", \"2020-02-29T00:00:00\", \"2020-02-29T00:00:00\", \"2020-02-29T00:00:00\", \"2020-02-29T00:00:00\", \"2020-02-29T00:00:00\", \"2020-02-29T00:00:00\", \"2020-02-29T00:00:00\", \"2020-02-29T00:00:00\", \"2020-02-29T00:00:00\", \"2020-02-29T00:00:00\", \"2020-02-29T00:00:00\", \"2020-02-29T00:00:00\", \"2020-02-29T00:00:00\", \"2020-02-29T00:00:00\", \"2020-02-29T00:00:00\", \"2020-02-29T00:00:00\", \"2020-02-29T00:00:00\", \"2020-02-29T00:00:00\", \"2020-02-29T00:00:00\", \"2020-02-29T00:00:00\", \"2020-02-29T00:00:00\", \"2020-02-29T00:00:00\", \"2020-02-29T00:00:00\", \"2020-02-29T00:00:00\", \"2020-02-29T00:00:00\", \"2020-02-29T00:00:00\", \"2020-02-29T00:00:00\", \"2020-02-29T00:00:00\", \"2020-02-29T00:00:00\", \"2020-02-29T00:00:00\", \"2020-02-29T00:00:00\", \"2020-02-29T00:00:00\", \"2020-02-29T00:00:00\", \"2020-02-29T00:00:00\", \"2020-02-29T00:00:00\", \"2020-02-29T00:00:00\", \"2020-02-29T00:00:00\", \"2020-02-29T00:00:00\", \"2020-02-29T00:00:00\", \"2020-02-29T00:00:00\", \"2020-02-29T00:00:00\", \"2020-02-29T00:00:00\", \"2020-02-29T00:00:00\", \"2020-02-29T00:00:00\", \"2020-02-29T00:00:00\", \"2020-02-29T00:00:00\", \"2020-02-29T00:00:00\", \"2020-02-29T00:00:00\", \"2020-02-29T00:00:00\", \"2020-02-29T00:00:00\", \"2020-02-29T00:00:00\", \"2020-02-29T00:00:00\", \"2020-02-29T00:00:00\", \"2020-02-29T00:00:00\", \"2020-02-29T00:00:00\", \"2020-02-29T00:00:00\", \"2020-02-29T00:00:00\", \"2020-02-29T00:00:00\", \"2020-02-29T00:00:00\", \"2020-02-29T00:00:00\", \"2020-02-29T00:00:00\", \"2020-02-29T00:00:00\", \"2020-02-28T00:00:00\", \"2020-02-28T00:00:00\", \"2020-02-28T00:00:00\", \"2020-02-28T00:00:00\", \"2020-02-28T00:00:00\", \"2020-02-28T00:00:00\", \"2020-02-28T00:00:00\", \"2020-02-28T00:00:00\", \"2020-02-28T00:00:00\", \"2020-02-28T00:00:00\", \"2020-02-28T00:00:00\", \"2020-02-28T00:00:00\", \"2020-02-28T00:00:00\", \"2020-02-28T00:00:00\", \"2020-02-28T00:00:00\", \"2020-02-28T00:00:00\", \"2020-02-28T00:00:00\", \"2020-02-28T00:00:00\", \"2020-02-28T00:00:00\", \"2020-02-28T00:00:00\", \"2020-02-28T00:00:00\", \"2020-02-28T00:00:00\", \"2020-02-28T00:00:00\", \"2020-02-28T00:00:00\", \"2020-02-28T00:00:00\", \"2020-02-28T00:00:00\", \"2020-02-28T00:00:00\", \"2020-02-28T00:00:00\", \"2020-02-28T00:00:00\", \"2020-03-06T00:00:00\", \"2020-03-06T00:00:00\", \"2020-03-06T00:00:00\", \"2020-03-06T00:00:00\", \"2020-03-06T00:00:00\", \"2020-03-06T00:00:00\", \"2020-03-05T00:00:00\", \"2020-03-06T00:00:00\", \"2020-03-06T00:00:00\", \"2020-03-06T00:00:00\", \"2020-03-06T00:00:00\", \"2020-03-06T00:00:00\", \"2020-03-05T00:00:00\", \"2020-03-06T00:00:00\", \"2020-03-06T00:00:00\", \"2020-03-06T00:00:00\", \"2020-03-05T00:00:00\", \"2020-03-06T00:00:00\", \"2020-03-05T00:00:00\", \"2020-03-06T00:00:00\", \"2020-03-06T00:00:00\", \"2020-03-06T00:00:00\", \"2020-03-06T00:00:00\", \"2020-03-05T00:00:00\", \"2020-03-05T00:00:00\", \"2020-03-05T00:00:00\", \"2020-03-05T00:00:00\", \"2020-03-05T00:00:00\", \"2020-03-05T00:00:00\", \"2020-03-05T00:00:00\", \"2020-03-05T00:00:00\", \"2020-03-05T00:00:00\", \"2020-03-05T00:00:00\", \"2020-03-05T00:00:00\", \"2020-03-05T00:00:00\", \"2020-03-05T00:00:00\", \"2020-03-05T00:00:00\", \"2020-03-05T00:00:00\", \"2020-03-05T00:00:00\", \"2020-03-05T00:00:00\", \"2020-03-05T00:00:00\", \"2020-03-05T00:00:00\", \"2020-03-05T00:00:00\", \"2020-03-05T00:00:00\", \"2020-03-05T00:00:00\", \"2020-03-05T00:00:00\", \"2020-03-05T00:00:00\", \"2020-03-05T00:00:00\", \"2020-03-05T00:00:00\", \"2020-03-04T00:00:00\", \"2020-03-04T00:00:00\", \"2020-03-04T00:00:00\", \"2020-03-04T00:00:00\", \"2020-03-04T00:00:00\", \"2020-03-04T00:00:00\", \"2020-03-04T00:00:00\", \"2020-03-04T00:00:00\", \"2020-03-04T00:00:00\", \"2020-03-04T00:00:00\", \"2020-03-04T00:00:00\", \"2020-03-04T00:00:00\", \"2020-03-04T00:00:00\", \"2020-03-04T00:00:00\", \"2020-03-04T00:00:00\", \"2020-03-04T00:00:00\", \"2020-03-04T00:00:00\", \"2020-03-04T00:00:00\", \"2020-03-04T00:00:00\", \"2020-03-04T00:00:00\", \"2020-03-04T00:00:00\", \"2020-03-04T00:00:00\", \"2020-03-04T00:00:00\", \"2020-03-04T00:00:00\", \"2020-03-04T00:00:00\", \"2020-03-04T00:00:00\", \"2020-03-04T00:00:00\", \"2020-03-04T00:00:00\", \"2020-03-04T00:00:00\", \"2020-03-04T00:00:00\", \"2020-03-04T00:00:00\", \"2020-03-04T00:00:00\", \"2020-03-04T00:00:00\", \"2020-03-04T00:00:00\", \"2020-03-04T00:00:00\", \"2020-03-04T00:00:00\", \"2020-03-04T00:00:00\", \"2020-03-04T00:00:00\", \"2020-03-04T00:00:00\", \"2020-03-04T00:00:00\", \"2020-03-04T00:00:00\", \"2020-03-04T00:00:00\", \"2020-03-04T00:00:00\", \"2020-03-04T00:00:00\", \"2020-03-04T00:00:00\", \"2020-03-04T00:00:00\", \"2020-03-04T00:00:00\", \"2020-03-04T00:00:00\", \"2020-03-04T00:00:00\", \"2020-03-04T00:00:00\", \"2020-03-04T00:00:00\", \"2020-03-04T00:00:00\", \"2020-03-04T00:00:00\", \"2020-03-04T00:00:00\", \"2020-03-04T00:00:00\", \"2020-03-04T00:00:00\", \"2020-03-04T00:00:00\", \"2020-03-04T00:00:00\", \"2020-03-04T00:00:00\", \"2020-03-04T00:00:00\", \"2020-03-04T00:00:00\", \"2020-03-04T00:00:00\", \"2020-03-04T00:00:00\", \"2020-03-04T00:00:00\", \"2020-03-04T00:00:00\", \"2020-03-04T00:00:00\", \"2020-03-04T00:00:00\", \"2020-03-04T00:00:00\", \"2020-03-04T00:00:00\", \"2020-03-04T00:00:00\", \"2020-03-04T00:00:00\", \"2020-03-04T00:00:00\", \"2020-03-04T00:00:00\", \"2020-03-04T00:00:00\", \"2020-03-04T00:00:00\", \"2020-03-04T00:00:00\", \"2020-03-04T00:00:00\", \"2020-03-04T00:00:00\", \"2020-03-04T00:00:00\", \"2020-03-04T00:00:00\", \"2020-03-04T00:00:00\", \"2020-03-04T00:00:00\", \"2020-03-04T00:00:00\", \"2020-03-04T00:00:00\", \"2020-03-04T00:00:00\", \"2020-03-04T00:00:00\", \"2020-03-04T00:00:00\", \"2020-03-04T00:00:00\", \"2020-03-04T00:00:00\", \"2020-03-04T00:00:00\", \"2020-03-04T00:00:00\", \"2020-03-04T00:00:00\", \"2020-03-04T00:00:00\", \"2020-03-04T00:00:00\", \"2020-03-04T00:00:00\", \"2020-03-04T00:00:00\", \"2020-03-04T00:00:00\", \"2020-03-04T00:00:00\", \"2020-03-04T00:00:00\", \"2020-03-04T00:00:00\", \"2020-03-04T00:00:00\", \"2020-03-04T00:00:00\", \"2020-03-04T00:00:00\", \"2020-03-04T00:00:00\", \"2020-03-04T00:00:00\", \"2020-03-04T00:00:00\", \"2020-03-04T00:00:00\", \"2020-03-04T00:00:00\", \"2020-03-04T00:00:00\", \"2020-03-04T00:00:00\", \"2020-03-04T00:00:00\", \"2020-03-04T00:00:00\", \"2020-03-04T00:00:00\", \"2020-03-04T00:00:00\", \"2020-03-04T00:00:00\", \"2020-03-04T00:00:00\", \"2020-03-04T00:00:00\", \"2020-03-04T00:00:00\", \"2020-03-04T00:00:00\", \"2020-03-04T00:00:00\", \"2020-03-04T00:00:00\", \"2020-03-04T00:00:00\", \"2020-03-04T00:00:00\", \"2020-03-04T00:00:00\", \"2020-03-04T00:00:00\", \"2020-03-04T00:00:00\", \"2020-03-04T00:00:00\", \"2020-03-04T00:00:00\", \"2020-03-04T00:00:00\", \"2020-03-04T00:00:00\", \"2020-03-04T00:00:00\", \"2020-03-04T00:00:00\", \"2020-03-04T00:00:00\", \"2020-03-04T00:00:00\", \"2020-03-04T00:00:00\", \"2020-03-04T00:00:00\", \"2020-03-04T00:00:00\", \"2020-03-04T00:00:00\", \"2020-03-04T00:00:00\", \"2020-03-04T00:00:00\", \"2020-03-04T00:00:00\", \"2020-03-04T00:00:00\", \"2020-03-04T00:00:00\", \"2020-03-04T00:00:00\", \"2020-03-04T00:00:00\", \"2020-03-04T00:00:00\", \"2020-03-04T00:00:00\", \"2020-03-04T00:00:00\", \"2020-03-04T00:00:00\", \"2020-03-04T00:00:00\", \"2020-03-04T00:00:00\", \"2020-03-04T00:00:00\", \"2020-03-04T00:00:00\", \"2020-03-04T00:00:00\", \"2020-03-04T00:00:00\", \"2020-03-04T00:00:00\", \"2020-03-04T00:00:00\", \"2020-03-04T00:00:00\", \"2020-03-04T00:00:00\", \"2020-03-04T00:00:00\", \"2020-03-04T00:00:00\", \"2020-03-04T00:00:00\", \"2020-03-04T00:00:00\", \"2020-03-04T00:00:00\", \"2020-03-04T00:00:00\", \"2020-03-04T00:00:00\", \"2020-03-04T00:00:00\", \"2020-03-04T00:00:00\", \"2020-03-04T00:00:00\", \"2020-03-04T00:00:00\", \"2020-03-04T00:00:00\", \"2020-03-04T00:00:00\", \"2020-03-04T00:00:00\", \"2020-03-04T00:00:00\", \"2020-03-04T00:00:00\", \"2020-03-04T00:00:00\", \"2020-03-04T00:00:00\", \"2020-03-04T00:00:00\", \"2020-03-04T00:00:00\", \"2020-03-04T00:00:00\", \"2020-03-04T00:00:00\", \"2020-03-04T00:00:00\", \"2020-03-04T00:00:00\", \"2020-03-04T00:00:00\", \"2020-03-04T00:00:00\", \"2020-03-04T00:00:00\", \"2020-03-04T00:00:00\", \"2020-03-04T00:00:00\", \"2020-03-04T00:00:00\", \"2020-03-04T00:00:00\", \"2020-03-04T00:00:00\", \"2020-03-04T00:00:00\", \"2020-03-04T00:00:00\", \"2020-03-04T00:00:00\", \"2020-03-04T00:00:00\", \"2020-03-04T00:00:00\", \"2020-03-04T00:00:00\", \"2020-03-04T00:00:00\", \"2020-03-04T00:00:00\", \"2020-03-04T00:00:00\", \"2020-03-04T00:00:00\", \"2020-03-04T00:00:00\", \"2020-03-04T00:00:00\", \"2020-03-04T00:00:00\", \"2020-03-04T00:00:00\", \"2020-03-04T00:00:00\", \"2020-03-04T00:00:00\", \"2020-03-04T00:00:00\", \"2020-03-04T00:00:00\", \"2020-03-04T00:00:00\", \"2020-03-04T00:00:00\", \"2020-03-04T00:00:00\", \"2020-03-04T00:00:00\", \"2020-03-04T00:00:00\", \"2020-03-04T00:00:00\", \"2020-03-04T00:00:00\", \"2020-03-04T00:00:00\", \"2020-03-04T00:00:00\", \"2020-03-04T00:00:00\", \"2020-03-04T00:00:00\", \"2020-03-04T00:00:00\", \"2020-03-04T00:00:00\", \"2020-03-04T00:00:00\", \"2020-03-04T00:00:00\", \"2020-03-04T00:00:00\", \"2020-03-04T00:00:00\", \"2020-03-04T00:00:00\", \"2020-03-04T00:00:00\", \"2020-03-04T00:00:00\", \"2020-03-04T00:00:00\", \"2020-03-04T00:00:00\", \"2020-03-04T00:00:00\", \"2020-03-04T00:00:00\", \"2020-03-04T00:00:00\", \"2020-03-04T00:00:00\", \"2020-03-04T00:00:00\", \"2020-03-04T00:00:00\", \"2020-03-04T00:00:00\", \"2020-03-04T00:00:00\", \"2020-03-04T00:00:00\", \"2020-03-04T00:00:00\", \"2020-03-04T00:00:00\", \"2020-03-04T00:00:00\", \"2020-03-04T00:00:00\", \"2020-03-04T00:00:00\", \"2020-03-04T00:00:00\", \"2020-03-04T00:00:00\", \"2020-03-04T00:00:00\", \"2020-03-04T00:00:00\", \"2020-03-04T00:00:00\", \"2020-03-04T00:00:00\", \"2020-03-04T00:00:00\", \"2020-03-04T00:00:00\", \"2020-03-04T00:00:00\", \"2020-03-04T00:00:00\", \"2020-03-03T00:00:00\", \"2020-03-03T00:00:00\", \"2020-03-03T00:00:00\", \"2020-03-03T00:00:00\", \"2020-03-03T00:00:00\", \"2020-03-03T00:00:00\", \"2020-03-03T00:00:00\", \"2020-03-03T00:00:00\", \"2020-03-03T00:00:00\", \"2020-03-03T00:00:00\", \"2020-03-03T00:00:00\", \"2020-03-03T00:00:00\", \"2020-03-03T00:00:00\", \"2020-03-03T00:00:00\", \"2020-03-03T00:00:00\", \"2020-03-03T00:00:00\", \"2020-03-03T00:00:00\", \"2020-03-03T00:00:00\", \"2020-03-03T00:00:00\", \"2020-03-03T00:00:00\", \"2020-03-03T00:00:00\", \"2020-03-03T00:00:00\", \"2020-03-03T00:00:00\", \"2020-03-03T00:00:00\", \"2020-03-03T00:00:00\", \"2020-03-03T00:00:00\", \"2020-03-03T00:00:00\", \"2020-03-03T00:00:00\", \"2020-03-03T00:00:00\", \"2020-03-03T00:00:00\", \"2020-03-03T00:00:00\", \"2020-03-03T00:00:00\", \"2020-03-03T00:00:00\", \"2020-03-03T00:00:00\", \"2020-03-03T00:00:00\", \"2020-03-03T00:00:00\", \"2020-03-03T00:00:00\", \"2020-03-03T00:00:00\", \"2020-03-03T00:00:00\", \"2020-03-03T00:00:00\", \"2020-03-03T00:00:00\", \"2020-03-03T00:00:00\", \"2020-03-03T00:00:00\", \"2020-03-03T00:00:00\", \"2020-03-03T00:00:00\", \"2020-03-05T00:00:00\", \"2020-03-05T00:00:00\", \"2020-03-05T00:00:00\", \"2020-03-05T00:00:00\", \"2020-03-05T00:00:00\", \"2020-03-05T00:00:00\", \"2020-03-05T00:00:00\", \"2020-03-05T00:00:00\", \"2020-03-05T00:00:00\", \"2020-03-05T00:00:00\", \"2020-03-05T00:00:00\", \"2020-03-05T00:00:00\", \"2020-03-05T00:00:00\", \"2020-03-05T00:00:00\", \"2020-03-05T00:00:00\", \"2020-03-05T00:00:00\", \"2020-03-05T00:00:00\", \"2020-03-05T00:00:00\", \"2020-03-05T00:00:00\", \"2020-03-05T00:00:00\", \"2020-03-05T00:00:00\", \"2020-03-05T00:00:00\", \"2020-03-05T00:00:00\", \"2020-03-05T00:00:00\", \"2020-03-05T00:00:00\", \"2020-03-05T00:00:00\", \"2020-03-05T00:00:00\", \"2020-03-05T00:00:00\", \"2020-03-05T00:00:00\", \"2020-03-05T00:00:00\", \"2020-03-05T00:00:00\", \"2020-03-05T00:00:00\", \"2020-03-05T00:00:00\", \"2020-03-05T00:00:00\", \"2020-03-05T00:00:00\", \"2020-03-05T00:00:00\", \"2020-03-05T00:00:00\", \"2020-03-05T00:00:00\", \"2020-03-05T00:00:00\", \"2020-03-05T00:00:00\", \"2020-03-05T00:00:00\", \"2020-03-05T00:00:00\", \"2020-03-05T00:00:00\", \"2020-03-05T00:00:00\", \"2020-03-05T00:00:00\", \"2020-03-05T00:00:00\", \"2020-03-05T00:00:00\", \"2020-03-05T00:00:00\", \"2020-03-05T00:00:00\", \"2020-03-05T00:00:00\", \"2020-03-05T00:00:00\", \"2020-03-05T00:00:00\", \"2020-03-05T00:00:00\", \"2020-03-05T00:00:00\", \"2020-03-05T00:00:00\", \"2020-03-05T00:00:00\", \"2020-03-05T00:00:00\", \"2020-03-05T00:00:00\", \"2020-03-05T00:00:00\", \"2020-03-05T00:00:00\", \"2020-03-05T00:00:00\", \"2020-03-05T00:00:00\", \"2020-03-05T00:00:00\", \"2020-03-05T00:00:00\", \"2020-03-05T00:00:00\", \"2020-03-05T00:00:00\", \"2020-03-05T00:00:00\", \"2020-03-05T00:00:00\", \"2020-03-05T00:00:00\", \"2020-03-05T00:00:00\", \"2020-03-05T00:00:00\", \"2020-03-05T00:00:00\", \"2020-03-05T00:00:00\", \"2020-03-05T00:00:00\", \"2020-03-05T00:00:00\", \"2020-03-05T00:00:00\", \"2020-03-05T00:00:00\", \"2020-03-05T00:00:00\", \"2020-03-05T00:00:00\", \"2020-03-05T00:00:00\", \"2020-03-05T00:00:00\", \"2020-03-05T00:00:00\", \"2020-03-05T00:00:00\", \"2020-03-05T00:00:00\", \"2020-03-05T00:00:00\", \"2020-03-05T00:00:00\", \"2020-03-05T00:00:00\", \"2020-03-05T00:00:00\", \"2020-03-05T00:00:00\", \"2020-03-05T00:00:00\", \"2020-03-05T00:00:00\", \"2020-03-05T00:00:00\", \"2020-03-05T00:00:00\", \"2020-03-05T00:00:00\", \"2020-03-05T00:00:00\", \"2020-03-05T00:00:00\", \"2020-03-05T00:00:00\", \"2020-03-05T00:00:00\", \"2020-03-05T00:00:00\", \"2020-03-05T00:00:00\", \"2020-03-05T00:00:00\", \"2020-03-05T00:00:00\", \"2020-03-05T00:00:00\", \"2020-03-05T00:00:00\", \"2020-03-05T00:00:00\", \"2020-03-05T00:00:00\", \"2020-03-05T00:00:00\", \"2020-03-05T00:00:00\", \"2020-03-05T00:00:00\", \"2020-03-05T00:00:00\", \"2020-03-05T00:00:00\", \"2020-03-05T00:00:00\", \"2020-03-05T00:00:00\", \"2020-03-05T00:00:00\", \"2020-03-05T00:00:00\", \"2020-03-05T00:00:00\", \"2020-03-05T00:00:00\", \"2020-03-05T00:00:00\", \"2020-03-05T00:00:00\", \"2020-03-05T00:00:00\", \"2020-03-05T00:00:00\", \"2020-03-05T00:00:00\", \"2020-03-05T00:00:00\", \"2020-03-05T00:00:00\", \"2020-03-05T00:00:00\", \"2020-03-05T00:00:00\", \"2020-03-05T00:00:00\", \"2020-03-05T00:00:00\", \"2020-03-05T00:00:00\", \"2020-03-05T00:00:00\", \"2020-03-05T00:00:00\", \"2020-03-05T00:00:00\", \"2020-03-05T00:00:00\", \"2020-03-05T00:00:00\", \"2020-03-05T00:00:00\", \"2020-03-05T00:00:00\", \"2020-03-05T00:00:00\", \"2020-03-05T00:00:00\", \"2020-03-05T00:00:00\", \"2020-03-05T00:00:00\", \"2020-03-05T00:00:00\", \"2020-03-05T00:00:00\", \"2020-03-05T00:00:00\", \"2020-03-05T00:00:00\", \"2020-03-05T00:00:00\", \"2020-03-05T00:00:00\", \"2020-03-05T00:00:00\", \"2020-03-05T00:00:00\", \"2020-03-05T00:00:00\", \"2020-03-05T00:00:00\", \"2020-03-05T00:00:00\", \"2020-03-05T00:00:00\", \"2020-03-05T00:00:00\", \"2020-03-05T00:00:00\", \"2020-03-05T00:00:00\", \"2020-03-05T00:00:00\", \"2020-03-05T00:00:00\", \"2020-03-05T00:00:00\", \"2020-03-05T00:00:00\", \"2020-03-05T00:00:00\", \"2020-03-05T00:00:00\", \"2020-03-05T00:00:00\", \"2020-03-05T00:00:00\", \"2020-03-05T00:00:00\", \"2020-03-05T00:00:00\", \"2020-03-05T00:00:00\", \"2020-03-05T00:00:00\", \"2020-03-05T00:00:00\", \"2020-03-05T00:00:00\", \"2020-03-05T00:00:00\", \"2020-03-05T00:00:00\", \"2020-03-05T00:00:00\", \"2020-03-05T00:00:00\", \"2020-03-05T00:00:00\", \"2020-03-05T00:00:00\", \"2020-03-05T00:00:00\", \"2020-03-05T00:00:00\", \"2020-03-05T00:00:00\", \"2020-03-05T00:00:00\", \"2020-03-05T00:00:00\", \"2020-03-05T00:00:00\", \"2020-03-05T00:00:00\", \"2020-03-05T00:00:00\", \"2020-03-05T00:00:00\", \"2020-03-05T00:00:00\", \"2020-03-05T00:00:00\", \"2020-03-05T00:00:00\", \"2020-03-05T00:00:00\", \"2020-03-05T00:00:00\", \"2020-03-05T00:00:00\", \"2020-03-05T00:00:00\", \"2020-03-05T00:00:00\", \"2020-03-05T00:00:00\", \"2020-03-05T00:00:00\", \"2020-03-05T00:00:00\", \"2020-03-05T00:00:00\", \"2020-03-05T00:00:00\", \"2020-03-05T00:00:00\", \"2020-03-05T00:00:00\", \"2020-03-05T00:00:00\", \"2020-03-05T00:00:00\", \"2020-03-05T00:00:00\", \"2020-03-05T00:00:00\", \"2020-03-05T00:00:00\", \"2020-03-05T00:00:00\", \"2020-03-05T00:00:00\", \"2020-03-05T00:00:00\", \"2020-03-05T00:00:00\", \"2020-03-05T00:00:00\", \"2020-03-05T00:00:00\", \"2020-03-05T00:00:00\", \"2020-03-05T00:00:00\", \"2020-03-05T00:00:00\", \"2020-03-05T00:00:00\", \"2020-03-05T00:00:00\", \"2020-03-05T00:00:00\", \"2020-03-05T00:00:00\", \"2020-03-05T00:00:00\", \"2020-03-05T00:00:00\", \"2020-03-05T00:00:00\", \"2020-03-05T00:00:00\", \"2020-03-05T00:00:00\", \"2020-03-05T00:00:00\", \"2020-03-05T00:00:00\", \"2020-03-05T00:00:00\", \"2020-03-05T00:00:00\", \"2020-03-05T00:00:00\", \"2020-03-05T00:00:00\", \"2020-03-05T00:00:00\", \"2020-03-05T00:00:00\", \"2020-03-05T00:00:00\", \"2020-03-05T00:00:00\", \"2020-03-05T00:00:00\", \"2020-03-05T00:00:00\", \"2020-03-05T00:00:00\", \"2020-03-05T00:00:00\", \"2020-03-05T00:00:00\", \"2020-03-05T00:00:00\", \"2020-03-05T00:00:00\", \"2020-03-05T00:00:00\", \"2020-03-05T00:00:00\", \"2020-03-05T00:00:00\", \"2020-03-05T00:00:00\", \"2020-03-05T00:00:00\", \"2020-03-05T00:00:00\", \"2020-03-05T00:00:00\", \"2020-03-05T00:00:00\", \"2020-03-05T00:00:00\", \"2020-03-05T00:00:00\", \"2020-03-05T00:00:00\", \"2020-03-05T00:00:00\", \"2020-03-05T00:00:00\", \"2020-03-05T00:00:00\", \"2020-03-05T00:00:00\", \"2020-03-05T00:00:00\", \"2020-03-05T00:00:00\", \"2020-03-04T00:00:00\", \"2020-03-04T00:00:00\", \"2020-03-04T00:00:00\", \"2020-03-04T00:00:00\", \"2020-03-04T00:00:00\", \"2020-03-04T00:00:00\", \"2020-03-04T00:00:00\", \"2020-03-04T00:00:00\", \"2020-03-04T00:00:00\", \"2020-03-04T00:00:00\", \"2020-03-04T00:00:00\", \"2020-03-04T00:00:00\", \"2020-03-04T00:00:00\", \"2020-03-04T00:00:00\", \"2020-03-04T00:00:00\", \"2020-03-04T00:00:00\", \"2020-03-04T00:00:00\", \"2020-03-04T00:00:00\", \"2020-03-04T00:00:00\", \"2020-03-04T00:00:00\", \"2020-03-04T00:00:00\", \"2020-03-04T00:00:00\", \"2020-03-04T00:00:00\", \"2020-03-04T00:00:00\", \"2020-03-04T00:00:00\", \"2020-03-04T00:00:00\", \"2020-03-04T00:00:00\", \"2020-03-04T00:00:00\", \"2020-03-04T00:00:00\", \"2020-03-06T00:00:00\", \"2020-03-06T00:00:00\", \"2020-03-06T00:00:00\", \"2020-03-06T00:00:00\", \"2020-03-06T00:00:00\", \"2020-03-06T00:00:00\", \"2020-03-06T00:00:00\", \"2020-03-06T00:00:00\", \"2020-03-06T00:00:00\", \"2020-03-06T00:00:00\", \"2020-03-06T00:00:00\", \"2020-03-06T00:00:00\", \"2020-03-06T00:00:00\", \"2020-03-06T00:00:00\", \"2020-03-06T00:00:00\", \"2020-03-06T00:00:00\", \"2020-03-06T00:00:00\", \"2020-03-06T00:00:00\", \"2020-03-06T00:00:00\", \"2020-03-06T00:00:00\", \"2020-03-06T00:00:00\", \"2020-03-06T00:00:00\", \"2020-03-06T00:00:00\", \"2020-03-06T00:00:00\", \"2020-03-06T00:00:00\", \"2020-03-06T00:00:00\", \"2020-03-06T00:00:00\", \"2020-03-06T00:00:00\", \"2020-03-06T00:00:00\", \"2020-03-06T00:00:00\", \"2020-03-06T00:00:00\", \"2020-03-06T00:00:00\", \"2020-03-06T00:00:00\", \"2020-03-06T00:00:00\", \"2020-03-06T00:00:00\", \"2020-03-06T00:00:00\", \"2020-03-06T00:00:00\", \"2020-03-06T00:00:00\", \"2020-03-06T00:00:00\", \"2020-03-06T00:00:00\", \"2020-03-06T00:00:00\", \"2020-03-06T00:00:00\", \"2020-03-06T00:00:00\", \"2020-03-06T00:00:00\", \"2020-03-06T00:00:00\", \"2020-03-06T00:00:00\", \"2020-03-06T00:00:00\", \"2020-03-06T00:00:00\", \"2020-03-06T00:00:00\", \"2020-03-06T00:00:00\", \"2020-03-06T00:00:00\", \"2020-03-06T00:00:00\", \"2020-03-06T00:00:00\", \"2020-03-06T00:00:00\", \"2020-03-06T00:00:00\", \"2020-03-06T00:00:00\", \"2020-03-06T00:00:00\", \"2020-03-06T00:00:00\", \"2020-03-06T00:00:00\", \"2020-03-06T00:00:00\", \"2020-03-06T00:00:00\", \"2020-03-06T00:00:00\", \"2020-03-06T00:00:00\", \"2020-03-06T00:00:00\", \"2020-03-06T00:00:00\", \"2020-03-06T00:00:00\", \"2020-03-06T00:00:00\", \"2020-03-06T00:00:00\", \"2020-03-06T00:00:00\", \"2020-03-06T00:00:00\", \"2020-03-06T00:00:00\", \"2020-03-06T00:00:00\", \"2020-03-06T00:00:00\", \"2020-03-06T00:00:00\", \"2020-03-06T00:00:00\", \"2020-03-06T00:00:00\", \"2020-03-06T00:00:00\", \"2020-03-06T00:00:00\", \"2020-03-06T00:00:00\", \"2020-03-06T00:00:00\", \"2020-03-06T00:00:00\", \"2020-03-06T00:00:00\", \"2020-03-06T00:00:00\", \"2020-03-06T00:00:00\", \"2020-03-06T00:00:00\", \"2020-03-06T00:00:00\", \"2020-03-06T00:00:00\", \"2020-03-06T00:00:00\", \"2020-03-06T00:00:00\", \"2020-03-06T00:00:00\", \"2020-03-06T00:00:00\", \"2020-03-06T00:00:00\", \"2020-03-06T00:00:00\", \"2020-03-06T00:00:00\", \"2020-03-06T00:00:00\", \"2020-03-06T00:00:00\", \"2020-03-06T00:00:00\", \"2020-03-06T00:00:00\", \"2020-03-06T00:00:00\", \"2020-03-06T00:00:00\", \"2020-03-06T00:00:00\", \"2020-03-06T00:00:00\", \"2020-03-06T00:00:00\", \"2020-03-06T00:00:00\", \"2020-03-06T00:00:00\", \"2020-03-06T00:00:00\", \"2020-03-06T00:00:00\", \"2020-03-06T00:00:00\", \"2020-03-06T00:00:00\", \"2020-03-06T00:00:00\", \"2020-03-06T00:00:00\", \"2020-03-06T00:00:00\", \"2020-03-06T00:00:00\", \"2020-03-06T00:00:00\", \"2020-03-06T00:00:00\", \"2020-03-06T00:00:00\", \"2020-03-06T00:00:00\", \"2020-03-06T00:00:00\", \"2020-03-06T00:00:00\", \"2020-03-06T00:00:00\", \"2020-03-06T00:00:00\", \"2020-03-06T00:00:00\", \"2020-03-06T00:00:00\", \"2020-03-06T00:00:00\", \"2020-03-06T00:00:00\", \"2020-03-06T00:00:00\", \"2020-03-06T00:00:00\", \"2020-03-06T00:00:00\", \"2020-03-06T00:00:00\", \"2020-03-06T00:00:00\", \"2020-03-06T00:00:00\", \"2020-03-06T00:00:00\", \"2020-03-06T00:00:00\", \"2020-03-06T00:00:00\", \"2020-03-06T00:00:00\", \"2020-03-06T00:00:00\", \"2020-03-06T00:00:00\", \"2020-03-06T00:00:00\", \"2020-03-06T00:00:00\", \"2020-03-06T00:00:00\", \"2020-03-06T00:00:00\", \"2020-03-06T00:00:00\", \"2020-03-06T00:00:00\", \"2020-03-06T00:00:00\", \"2020-03-06T00:00:00\", \"2020-03-06T00:00:00\", \"2020-03-06T00:00:00\", \"2020-03-06T00:00:00\", \"2020-03-06T00:00:00\", \"2020-03-06T00:00:00\", \"2020-03-06T00:00:00\", \"2020-03-06T00:00:00\", \"2020-03-06T00:00:00\", \"2020-03-06T00:00:00\", \"2020-03-06T00:00:00\", \"2020-03-06T00:00:00\", \"2020-03-06T00:00:00\", \"2020-03-06T00:00:00\", \"2020-03-06T00:00:00\", \"2020-03-06T00:00:00\", \"2020-03-06T00:00:00\", \"2020-03-06T00:00:00\", \"2020-03-06T00:00:00\", \"2020-03-06T00:00:00\", \"2020-03-06T00:00:00\", \"2020-03-06T00:00:00\", \"2020-03-06T00:00:00\", \"2020-03-06T00:00:00\", \"2020-03-06T00:00:00\", \"2020-03-06T00:00:00\", \"2020-03-06T00:00:00\", \"2020-03-06T00:00:00\", \"2020-03-06T00:00:00\", \"2020-03-06T00:00:00\", \"2020-03-06T00:00:00\", \"2020-03-06T00:00:00\", \"2020-03-06T00:00:00\", \"2020-03-06T00:00:00\", \"2020-03-06T00:00:00\", \"2020-03-06T00:00:00\", \"2020-03-06T00:00:00\", \"2020-03-06T00:00:00\", \"2020-03-06T00:00:00\", \"2020-03-06T00:00:00\", \"2020-03-06T00:00:00\", \"2020-03-06T00:00:00\", \"2020-03-06T00:00:00\", \"2020-03-06T00:00:00\", \"2020-03-06T00:00:00\", \"2020-03-06T00:00:00\", \"2020-03-06T00:00:00\", \"2020-03-06T00:00:00\", \"2020-03-06T00:00:00\", \"2020-03-06T00:00:00\", \"2020-03-06T00:00:00\", \"2020-03-06T00:00:00\", \"2020-03-06T00:00:00\", \"2020-03-06T00:00:00\", \"2020-03-06T00:00:00\", \"2020-03-06T00:00:00\", \"2020-03-06T00:00:00\", \"2020-03-06T00:00:00\", \"2020-03-06T00:00:00\", \"2020-03-06T00:00:00\", \"2020-03-06T00:00:00\", \"2020-03-06T00:00:00\", \"2020-03-06T00:00:00\", \"2020-03-06T00:00:00\", \"2020-03-06T00:00:00\", \"2020-03-06T00:00:00\", \"2020-03-06T00:00:00\", \"2020-03-06T00:00:00\", \"2020-03-06T00:00:00\", \"2020-03-06T00:00:00\", \"2020-03-06T00:00:00\", \"2020-03-06T00:00:00\", \"2020-03-06T00:00:00\", \"2020-03-06T00:00:00\", \"2020-03-06T00:00:00\", \"2020-03-06T00:00:00\", \"2020-03-06T00:00:00\", \"2020-03-06T00:00:00\", \"2020-03-06T00:00:00\", \"2020-03-06T00:00:00\", \"2020-03-06T00:00:00\", \"2020-03-06T00:00:00\", \"2020-03-06T00:00:00\", \"2020-03-06T00:00:00\", \"2020-03-06T00:00:00\", \"2020-03-06T00:00:00\", \"2020-03-06T00:00:00\", \"2020-03-06T00:00:00\", \"2020-03-06T00:00:00\", \"2020-03-06T00:00:00\", \"2020-03-06T00:00:00\", \"2020-03-06T00:00:00\", \"2020-03-06T00:00:00\", \"2020-03-06T00:00:00\", \"2020-03-06T00:00:00\", \"2020-03-06T00:00:00\", \"2020-03-06T00:00:00\", \"2020-03-06T00:00:00\", \"2020-03-06T00:00:00\", \"2020-03-06T00:00:00\", \"2020-03-06T00:00:00\", \"2020-03-06T00:00:00\", \"2020-03-06T00:00:00\", \"2020-03-06T00:00:00\", \"2020-03-06T00:00:00\", \"2020-03-06T00:00:00\", \"2020-03-06T00:00:00\", \"2020-03-06T00:00:00\", \"2020-03-06T00:00:00\", \"2020-03-06T00:00:00\", \"2020-03-06T00:00:00\", \"2020-03-06T00:00:00\", \"2020-03-06T00:00:00\", \"2020-03-05T00:00:00\", \"2020-03-05T00:00:00\", \"2020-03-05T00:00:00\", \"2020-03-05T00:00:00\", \"2020-03-05T00:00:00\", \"2020-03-05T00:00:00\", \"2020-03-05T00:00:00\", \"2020-03-05T00:00:00\", \"2020-03-05T00:00:00\", \"2020-03-05T00:00:00\", \"2020-03-05T00:00:00\", \"2020-03-05T00:00:00\", \"2020-03-05T00:00:00\", \"2020-03-05T00:00:00\", \"2020-03-05T00:00:00\", \"2020-03-05T00:00:00\", \"2020-03-05T00:00:00\", \"2020-03-05T00:00:00\", \"2020-03-05T00:00:00\", \"2020-03-05T00:00:00\", \"2020-03-05T00:00:00\", \"2020-03-05T00:00:00\", \"2020-03-05T00:00:00\", \"2020-03-05T00:00:00\", \"2020-03-05T00:00:00\", \"2020-03-05T00:00:00\", \"2020-03-05T00:00:00\", \"2020-03-05T00:00:00\", \"2020-03-05T00:00:00\", \"2020-03-05T00:00:00\", \"2020-03-05T00:00:00\", \"2020-03-05T00:00:00\", \"2020-03-05T00:00:00\", \"2020-03-05T00:00:00\", \"2020-03-05T00:00:00\", \"2020-03-05T00:00:00\", \"2020-03-05T00:00:00\", \"2020-03-05T00:00:00\", \"2020-03-05T00:00:00\", \"2020-03-05T00:00:00\", \"2020-03-05T00:00:00\", \"2020-03-05T00:00:00\", \"2020-03-05T00:00:00\", \"2020-03-05T00:00:00\", \"2020-03-08T00:00:00\", \"2020-03-08T00:00:00\", \"2020-03-08T00:00:00\", \"2020-03-08T00:00:00\", \"2020-03-07T00:00:00\", \"2020-03-08T00:00:00\", \"2020-03-08T00:00:00\", \"2020-03-08T00:00:00\", \"2020-03-07T00:00:00\", \"2020-03-08T00:00:00\", \"2020-03-08T00:00:00\", \"2020-03-08T00:00:00\", \"2020-03-08T00:00:00\", \"2020-03-07T00:00:00\", \"2020-03-08T00:00:00\", \"2020-03-06T00:00:00\", \"2020-03-07T00:00:00\", \"2020-03-07T00:00:00\", \"2020-03-07T00:00:00\", \"2020-03-07T00:00:00\", \"2020-03-07T00:00:00\", \"2020-03-07T00:00:00\", \"2020-03-07T00:00:00\", \"2020-03-07T00:00:00\", \"2020-03-07T00:00:00\", \"2020-03-07T00:00:00\", \"2020-03-07T00:00:00\", \"2020-03-07T00:00:00\", \"2020-03-07T00:00:00\", \"2020-03-07T00:00:00\", \"2020-03-07T00:00:00\", \"2020-03-07T00:00:00\", \"2020-03-07T00:00:00\", \"2020-03-07T00:00:00\", \"2020-03-07T00:00:00\", \"2020-03-07T00:00:00\", \"2020-03-07T00:00:00\", \"2020-03-06T00:00:00\", \"2020-03-07T00:00:00\", \"2020-03-07T00:00:00\", \"2020-03-07T00:00:00\", \"2020-03-06T00:00:00\", \"2020-03-06T00:00:00\", \"2020-03-07T00:00:00\", \"2020-03-07T00:00:00\", \"2020-03-07T00:00:00\", \"2020-03-06T00:00:00\", \"2020-03-07T00:00:00\", \"2020-03-06T00:00:00\", \"2020-03-06T00:00:00\", \"2020-03-06T00:00:00\", \"2020-03-06T00:00:00\", \"2020-03-06T00:00:00\", \"2020-03-06T00:00:00\", \"2020-03-06T00:00:00\", \"2020-03-06T00:00:00\", \"2020-03-06T00:00:00\", \"2020-03-06T00:00:00\", \"2020-03-06T00:00:00\", \"2020-03-06T00:00:00\", \"2020-03-06T00:00:00\", \"2020-03-06T00:00:00\", \"2020-03-06T00:00:00\", \"2020-03-06T00:00:00\", \"2020-03-06T00:00:00\", \"2020-03-06T00:00:00\", \"2020-03-06T00:00:00\", \"2020-03-06T00:00:00\", \"2020-03-06T00:00:00\", \"2020-03-06T00:00:00\", \"2020-03-06T00:00:00\", \"2020-03-06T00:00:00\", \"2020-03-06T00:00:00\", \"2020-03-06T00:00:00\", \"2020-03-06T00:00:00\", \"2020-03-06T00:00:00\", \"2020-03-06T00:00:00\", \"2020-03-06T00:00:00\", \"2020-03-06T00:00:00\", \"2020-03-06T00:00:00\", \"2020-03-06T00:00:00\", \"2020-03-06T00:00:00\", \"2020-03-06T00:00:00\", \"2020-03-06T00:00:00\", \"2020-03-06T00:00:00\", \"2020-03-07T00:00:00\", \"2020-03-07T00:00:00\", \"2020-03-07T00:00:00\", \"2020-03-07T00:00:00\", \"2020-03-07T00:00:00\", \"2020-03-07T00:00:00\", \"2020-03-07T00:00:00\", \"2020-03-07T00:00:00\", \"2020-03-07T00:00:00\", \"2020-03-07T00:00:00\", \"2020-03-07T00:00:00\", \"2020-03-07T00:00:00\", \"2020-03-07T00:00:00\", \"2020-03-07T00:00:00\", \"2020-03-07T00:00:00\", \"2020-03-07T00:00:00\", \"2020-03-07T00:00:00\", \"2020-03-07T00:00:00\", \"2020-03-07T00:00:00\", \"2020-03-07T00:00:00\", \"2020-03-07T00:00:00\", \"2020-03-07T00:00:00\", \"2020-03-07T00:00:00\", \"2020-03-07T00:00:00\", \"2020-03-07T00:00:00\", \"2020-03-07T00:00:00\", \"2020-03-07T00:00:00\", \"2020-03-07T00:00:00\", \"2020-03-07T00:00:00\", \"2020-03-07T00:00:00\", \"2020-03-07T00:00:00\", \"2020-03-07T00:00:00\", \"2020-03-07T00:00:00\", \"2020-03-07T00:00:00\", \"2020-03-07T00:00:00\", \"2020-03-07T00:00:00\", \"2020-03-07T00:00:00\", \"2020-03-07T00:00:00\", \"2020-03-07T00:00:00\", \"2020-03-07T00:00:00\", \"2020-03-07T00:00:00\", \"2020-03-07T00:00:00\", \"2020-03-07T00:00:00\", \"2020-03-07T00:00:00\", \"2020-03-07T00:00:00\", \"2020-03-07T00:00:00\", \"2020-03-07T00:00:00\", \"2020-03-07T00:00:00\", \"2020-03-07T00:00:00\", \"2020-03-07T00:00:00\", \"2020-03-07T00:00:00\", \"2020-03-07T00:00:00\", \"2020-03-07T00:00:00\", \"2020-03-07T00:00:00\", \"2020-03-07T00:00:00\", \"2020-03-07T00:00:00\", \"2020-03-07T00:00:00\", \"2020-03-07T00:00:00\", \"2020-03-07T00:00:00\", \"2020-03-07T00:00:00\", \"2020-03-07T00:00:00\", \"2020-03-07T00:00:00\", \"2020-03-07T00:00:00\", \"2020-03-07T00:00:00\", \"2020-03-07T00:00:00\", \"2020-03-07T00:00:00\", \"2020-03-07T00:00:00\", \"2020-03-07T00:00:00\", \"2020-03-07T00:00:00\", \"2020-03-07T00:00:00\", \"2020-03-07T00:00:00\", \"2020-03-07T00:00:00\", \"2020-03-07T00:00:00\", \"2020-03-07T00:00:00\", \"2020-03-07T00:00:00\", \"2020-03-07T00:00:00\", \"2020-03-07T00:00:00\", \"2020-03-07T00:00:00\", \"2020-03-07T00:00:00\", \"2020-03-07T00:00:00\", \"2020-03-07T00:00:00\", \"2020-03-07T00:00:00\", \"2020-03-07T00:00:00\", \"2020-03-07T00:00:00\", \"2020-03-07T00:00:00\", \"2020-03-07T00:00:00\", \"2020-03-07T00:00:00\", \"2020-03-07T00:00:00\", \"2020-03-07T00:00:00\", \"2020-03-07T00:00:00\", \"2020-03-07T00:00:00\", \"2020-03-07T00:00:00\", \"2020-03-07T00:00:00\", \"2020-03-07T00:00:00\", \"2020-03-07T00:00:00\", \"2020-03-07T00:00:00\", \"2020-03-07T00:00:00\", \"2020-03-07T00:00:00\", \"2020-03-07T00:00:00\", \"2020-03-07T00:00:00\", \"2020-03-07T00:00:00\", \"2020-03-07T00:00:00\", \"2020-03-07T00:00:00\", \"2020-03-07T00:00:00\", \"2020-03-07T00:00:00\", \"2020-03-07T00:00:00\", \"2020-03-07T00:00:00\", \"2020-03-07T00:00:00\", \"2020-03-07T00:00:00\", \"2020-03-07T00:00:00\", \"2020-03-07T00:00:00\", \"2020-03-07T00:00:00\", \"2020-03-07T00:00:00\", \"2020-03-07T00:00:00\", \"2020-03-07T00:00:00\", \"2020-03-07T00:00:00\", \"2020-03-07T00:00:00\", \"2020-03-07T00:00:00\", \"2020-03-07T00:00:00\", \"2020-03-07T00:00:00\", \"2020-03-07T00:00:00\", \"2020-03-07T00:00:00\", \"2020-03-07T00:00:00\", \"2020-03-07T00:00:00\", \"2020-03-07T00:00:00\", \"2020-03-07T00:00:00\", \"2020-03-07T00:00:00\", \"2020-03-07T00:00:00\", \"2020-03-07T00:00:00\", \"2020-03-07T00:00:00\", \"2020-03-06T00:00:00\", \"2020-03-06T00:00:00\", \"2020-03-06T00:00:00\", \"2020-03-06T00:00:00\", \"2020-03-06T00:00:00\", \"2020-03-06T00:00:00\", \"2020-03-06T00:00:00\", \"2020-03-06T00:00:00\", \"2020-03-06T00:00:00\", \"2020-03-06T00:00:00\", \"2020-03-06T00:00:00\", \"2020-03-06T00:00:00\", \"2020-03-06T00:00:00\", \"2020-03-06T00:00:00\", \"2020-03-06T00:00:00\", \"2020-03-06T00:00:00\", \"2020-03-06T00:00:00\", \"2020-03-06T00:00:00\", \"2020-03-06T00:00:00\", \"2020-03-06T00:00:00\", \"2020-03-06T00:00:00\", \"2020-03-06T00:00:00\", \"2020-03-06T00:00:00\", \"2020-03-06T00:00:00\", \"2020-03-06T00:00:00\", \"2020-03-06T00:00:00\", \"2020-03-06T00:00:00\", \"2020-03-06T00:00:00\", \"2020-03-06T00:00:00\", \"2020-03-06T00:00:00\", \"2020-03-06T00:00:00\", \"2020-03-06T00:00:00\", \"2020-03-06T00:00:00\", \"2020-03-06T00:00:00\", \"2020-03-06T00:00:00\", \"2020-03-06T00:00:00\", \"2020-03-06T00:00:00\", \"2020-03-06T00:00:00\", \"2020-03-06T00:00:00\", \"2020-03-06T00:00:00\", \"2020-03-06T00:00:00\", \"2020-03-06T00:00:00\", \"2020-03-06T00:00:00\", \"2020-03-06T00:00:00\", \"2020-03-06T00:00:00\", \"2020-03-06T00:00:00\", \"2020-03-06T00:00:00\", \"2020-03-06T00:00:00\", \"2020-03-06T00:00:00\", \"2020-03-06T00:00:00\", \"2020-03-06T00:00:00\", \"2020-03-06T00:00:00\", \"2020-03-06T00:00:00\", \"2020-03-06T00:00:00\", \"2020-03-08T00:00:00\", \"2020-03-08T00:00:00\", \"2020-03-08T00:00:00\", \"2020-03-08T00:00:00\", \"2020-03-08T00:00:00\", \"2020-03-08T00:00:00\", \"2020-03-08T00:00:00\", \"2020-03-08T00:00:00\", \"2020-03-08T00:00:00\", \"2020-03-08T00:00:00\", \"2020-03-08T00:00:00\", \"2020-03-08T00:00:00\", \"2020-03-08T00:00:00\", \"2020-03-08T00:00:00\", \"2020-03-08T00:00:00\", \"2020-03-08T00:00:00\", \"2020-03-08T00:00:00\", \"2020-03-08T00:00:00\", \"2020-03-08T00:00:00\", \"2020-03-08T00:00:00\", \"2020-03-08T00:00:00\", \"2020-03-08T00:00:00\", \"2020-03-08T00:00:00\", \"2020-03-08T00:00:00\", \"2020-03-08T00:00:00\", \"2020-03-08T00:00:00\", \"2020-03-08T00:00:00\", \"2020-03-08T00:00:00\", \"2020-03-08T00:00:00\", \"2020-03-08T00:00:00\", \"2020-03-08T00:00:00\", \"2020-03-08T00:00:00\", \"2020-03-08T00:00:00\", \"2020-03-08T00:00:00\", \"2020-03-08T00:00:00\", \"2020-03-08T00:00:00\", \"2020-03-08T00:00:00\", \"2020-03-08T00:00:00\", \"2020-03-08T00:00:00\", \"2020-03-08T00:00:00\", \"2020-03-08T00:00:00\", \"2020-03-08T00:00:00\", \"2020-03-08T00:00:00\", \"2020-03-08T00:00:00\", \"2020-03-08T00:00:00\", \"2020-03-08T00:00:00\", \"2020-03-08T00:00:00\", \"2020-03-08T00:00:00\", \"2020-03-08T00:00:00\", \"2020-03-08T00:00:00\", \"2020-03-08T00:00:00\", \"2020-03-08T00:00:00\", \"2020-03-08T00:00:00\", \"2020-03-08T00:00:00\", \"2020-03-08T00:00:00\", \"2020-03-08T00:00:00\", \"2020-03-08T00:00:00\", \"2020-03-08T00:00:00\", \"2020-03-08T00:00:00\", \"2020-03-08T00:00:00\", \"2020-03-08T00:00:00\", \"2020-03-08T00:00:00\", \"2020-03-08T00:00:00\", \"2020-03-08T00:00:00\", \"2020-03-08T00:00:00\", \"2020-03-08T00:00:00\", \"2020-03-08T00:00:00\", \"2020-03-08T00:00:00\"], \"xaxis\": \"x\", \"y\": [\"cnn\", \"cnn\", \"cnn\", \"cnn\", \"cnn\", \"cnn\", \"cnn\", \"cnn\", \"cnn\", \"cnn\", \"cnn\", \"cnn\", \"cnn\", \"cnn\", \"cnn\", \"cnn\", \"cnn\", \"cnn\", \"cnn\", \"cnn\", \"cnn\", \"cnn\", \"cnn\", \"cnn\", \"cnn\", \"cnn\", \"cnn\", \"cnn\", \"cnn\", \"cnn\", \"cnn\", \"cnn\", \"cnn\", \"cnn\", \"cnn\", \"cnn\", \"cnn\", \"cnn\", \"cnn\", \"cnn\", \"cnn\", \"cnn\", \"cnn\", \"cnn\", \"cnn\", \"cnn\", \"cnn\", \"cnn\", \"cnn\", \"cnn\", \"cnn\", \"cnn\", \"cnn\", \"cnn\", \"cnn\", \"cnn\", \"cnn\", \"cnn\", \"cnn\", \"cnn\", \"cnn\", \"cnn\", \"cnn\", \"cnn\", \"cnn\", \"cnn\", \"cnn\", \"cnn\", \"cnn\", \"cnn\", \"cnn\", \"cnn\", \"cnn\", \"cnn\", \"cnn\", \"cnn\", \"cnn\", \"cnn\", \"cnn\", \"cnn\", \"cnn\", \"cnn\", \"cnn\", \"cnn\", \"cnn\", \"cnn\", \"cnn\", \"cnn\", \"cnn\", \"cnn\", \"cnn\", \"cnn\", \"cnn\", \"cnn\", \"cnn\", \"cnn\", \"cnn\", \"cnn\", \"cnn\", \"cnn\", \"cnn\", \"cnn\", \"cnn\", \"cnn\", \"cnn\", \"cnn\", \"cnn\", \"cnn\", \"cnn\", \"cnn\", \"cnn\", \"cnn\", \"cnn\", \"cnn\", \"cnn\", \"cnn\", \"cnn\", \"cnn\", \"cnn\", \"cnn\", \"cnn\", \"cnn\", \"cnn\", \"cnn\", \"cnn\", \"cnn\", \"cnn\", \"cnn\", \"cnn\", \"cnn\", \"cnn\", \"cnn\", \"cnn\", \"cnn\", \"cnn\", \"cnn\", \"cnn\", \"cnn\", \"cnn\", \"cnn\", \"cnn\", \"cnn\", \"cnn\", \"cnn\", \"cnn\", \"cnn\", \"cnn\", \"cnn\", \"cnn\", \"cnn\", \"cnn\", \"cnn\", \"cnn\", \"cnn\", \"cnn\", \"cnn\", \"cnn\", \"cnn\", \"cnn\", \"cnn\", \"cnn\", \"cnn\", \"cnn\", \"cnn\", \"cnn\", \"cnn\", \"cnn\", \"cnn\", \"cnn\", \"cnn\", \"cnn\", \"cnn\", \"cnn\", \"cnn\", \"cnn\", \"cnn\", \"cnn\", \"cnn\", \"cnn\", \"cnn\", \"cnn\", \"cnn\", \"cnn\", \"cnn\", \"cnn\", \"cnn\", \"cnn\", \"cnn\", \"cnn\", \"cnn\", \"cnn\", \"cnn\", \"cnn\", \"cnn\", \"cnn\", \"cnn\", \"cnn\", \"cnn\", \"cnn\", \"cnn\", \"cnn\", \"cnn\", \"cnn\", \"cnn\", \"cnn\", \"cnn\", \"cnn\", \"cnn\", \"cnn\", \"cnn\", \"cnn\", \"cnn\", \"cnn\", \"cnn\", \"cnn\", \"cnn\", \"cnn\", \"cnn\", \"cnn\", \"cnn\", \"cnn\", \"cnn\", \"cnn\", \"cnn\", \"cnn\", \"cnn\", \"cnn\", \"cnn\", \"cnn\", \"cnn\", \"cnn\", \"cnn\", \"cnn\", \"cnn\", \"cnn\", \"cnn\", \"cnn\", \"cnn\", \"cnn\", \"cnn\", \"cnn\", \"cnn\", \"cnn\", \"cnn\", \"cnn\", \"cnn\", \"cnn\", \"cnn\", \"cnn\", \"cnn\", \"cnn\", \"cnn\", \"cnn\", \"cnn\", \"cnn\", \"cnn\", \"cnn\", \"cnn\", \"cnn\", \"cnn\", \"cnn\", \"cnn\", \"cnn\", \"cnn\", \"cnn\", \"cnn\", \"cnn\", \"cnn\", \"cnn\", \"cnn\", \"cnn\", \"cnn\", \"cnn\", \"cnn\", \"cnn\", \"cnn\", \"cnn\", \"cnn\", \"cnn\", \"cnn\", \"cnn\", \"cnn\", \"cnn\", \"cnn\", \"cnn\", \"cnn\", \"cnn\", \"cnn\", \"cnn\", \"cnn\", \"cnn\", \"cnn\", \"cnn\", \"cnn\", \"cnn\", \"cnn\", \"cnn\", \"cnn\", \"cnn\", \"cnn\", \"cnn\", \"cnn\", \"cnn\", \"cnn\", \"cnn\", \"cnn\", \"cnn\", \"cnn\", \"cnn\", \"cnn\", \"cnn\", \"cnn\", \"cnn\", \"cnn\", \"cnn\", \"cnn\", \"cnn\", \"cnn\", \"cnn\", \"cnn\", \"cnn\", \"cnn\", \"cnn\", \"cnn\", \"cnn\", \"cnn\", \"cnn\", \"cnn\", \"cnn\", \"cnn\", \"cnn\", \"cnn\", \"cnn\", \"cnn\", \"cnn\", \"cnn\", \"cnn\", \"cnn\", \"cnn\", \"cnn\", \"cnn\", \"cnn\", \"cnn\", \"cnn\", \"cnn\", \"cnn\", \"cnn\", \"cnn\", \"cnn\", \"cnn\", \"cnn\", \"cnn\", \"cnn\", \"cnn\", \"cnn\", \"cnn\", \"cnn\", \"cnn\", \"cnn\", \"cnn\", \"cnn\", \"cnn\", \"cnn\", \"cnn\", \"cnn\", \"cnn\", \"cnn\", \"cnn\", \"cnn\", \"cnn\", \"cnn\", \"cnn\", \"cnn\", \"cnn\", \"cnn\", \"cnn\", \"cnn\", \"cnn\", \"cnn\", \"cnn\", \"cnn\", \"cnn\", \"cnn\", \"cnn\", \"cnn\", \"cnn\", \"cnn\", \"cnn\", \"cnn\", \"cnn\", \"cnn\", \"cnn\", \"cnn\", \"cnn\", \"cnn\", \"cnn\", \"cnn\", \"cnn\", \"cnn\", \"cnn\", \"cnn\", \"cnn\", \"cnn\", \"cnn\", \"cnn\", \"cnn\", \"cnn\", \"cnn\", \"cnn\", \"cnn\", \"cnn\", \"cnn\", \"cnn\", \"cnn\", \"cnn\", \"cnn\", \"cnn\", \"cnn\", \"cnn\", \"cnn\", \"cnn\", \"cnn\", \"cnn\", \"cnn\", \"cnn\", \"cnn\", \"cnn\", \"cnn\", \"cnn\", \"cnn\", \"cnn\", \"cnn\", \"cnn\", \"cnn\", \"cnn\", \"cnn\", \"cnn\", \"cnn\", \"cnn\", \"cnn\", \"cnn\", \"cnn\", \"cnn\", \"cnn\", \"cnn\", \"cnn\", \"cnn\", \"cnn\", \"cnn\", \"cnn\", \"cnn\", \"cnn\", \"cnn\", \"cnn\", \"cnn\", \"cnn\", \"cnn\", \"cnn\", \"cnn\", \"cnn\", \"cnn\", \"cnn\", \"cnn\", \"cnn\", \"cnn\", \"cnn\", \"cnn\", \"cnn\", \"cnn\", \"cnn\", \"cnn\", \"cnn\", \"cnn\", \"cnn\", \"cnn\", \"cnn\", \"cnn\", \"cnn\", \"cnn\", \"cnn\", \"cnn\", \"cnn\", \"cnn\", \"cnn\", \"cnn\", \"cnn\", \"cnn\", \"cnn\", \"cnn\", \"cnn\", \"cnn\", \"cnn\", \"cnn\", \"cnn\", \"cnn\", \"cnn\", \"cnn\", \"cnn\", \"cnn\", \"cnn\", \"cnn\", \"cnn\", \"cnn\", \"cnn\", \"cnn\", \"cnn\", \"cnn\", \"cnn\", \"cnn\", \"cnn\", \"cnn\", \"cnn\", \"cnn\", \"cnn\", \"cnn\", \"cnn\", \"cnn\", \"cnn\", \"cnn\", \"cnn\", \"cnn\", \"cnn\", \"cnn\", \"cnn\", \"cnn\", \"cnn\", \"cnn\", \"cnn\", \"cnn\", \"cnn\", \"cnn\", \"cnn\", \"cnn\", \"cnn\", \"cnn\", \"cnn\", \"cnn\", \"cnn\", \"cnn\", \"cnn\", \"cnn\", \"cnn\", \"cnn\", \"cnn\", \"cnn\", \"cnn\", \"cnn\", \"cnn\", \"cnn\", \"cnn\", \"cnn\", \"cnn\", \"cnn\", \"cnn\", \"cnn\", \"cnn\", \"cnn\", \"cnn\", \"cnn\", \"cnn\", \"cnn\", \"cnn\", \"cnn\", \"cnn\", \"cnn\", \"cnn\", \"cnn\", \"cnn\", \"cnn\", \"cnn\", \"cnn\", \"cnn\", \"cnn\", \"cnn\", \"cnn\", \"cnn\", \"cnn\", \"cnn\", \"cnn\", \"cnn\", \"cnn\", \"cnn\", \"cnn\", \"cnn\", \"cnn\", \"cnn\", \"cnn\", \"cnn\", \"cnn\", \"cnn\", \"cnn\", \"cnn\", \"cnn\", \"cnn\", \"cnn\", \"cnn\", \"cnn\", \"cnn\", \"cnn\", \"cnn\", \"cnn\", \"cnn\", \"cnn\", \"cnn\", \"cnn\", \"cnn\", \"cnn\", \"cnn\", \"cnn\", \"cnn\", \"cnn\", \"cnn\", \"cnn\", \"cnn\", \"cnn\", \"cnn\", \"cnn\", \"cnn\", \"cnn\", \"cnn\", \"cnn\", \"cnn\", \"cnn\", \"cnn\", \"cnn\", \"cnn\", \"cnn\", \"cnn\", \"cnn\", \"cnn\", \"cnn\", \"cnn\", \"cnn\", \"cnn\", \"cnn\", \"cnn\", \"cnn\", \"cnn\", \"cnn\", \"cnn\", \"cnn\", \"cnn\", \"cnn\", \"cnn\", \"cnn\", \"cnn\", \"cnn\", \"cnn\", \"cnn\", \"cnn\", \"cnn\", \"cnn\", \"cnn\", \"cnn\", \"cnn\", \"cnn\", \"cnn\", \"cnn\", \"cnn\", \"cnn\", \"cnn\", \"cnn\", \"cnn\", \"cnn\", \"cnn\", \"cnn\", \"cnn\", \"cnn\", \"cnn\", \"cnn\", \"cnn\", \"cnn\", \"cnn\", \"cnn\", \"cnn\", \"cnn\", \"cnn\", \"cnn\", \"cnn\", \"cnn\", \"cnn\", \"cnn\", \"cnn\", \"cnn\", \"cnn\", \"cnn\", \"cnn\", \"cnn\", \"cnn\", \"cnn\", \"cnn\", \"cnn\", \"cnn\", \"cnn\", \"cnn\", \"cnn\", \"cnn\", \"cnn\", \"cnn\", \"cnn\", \"cnn\", \"cnn\", \"cnn\", \"cnn\", \"cnn\", \"cnn\", \"cnn\", \"cnn\", \"cnn\", \"cnn\", \"cnn\", \"cnn\", \"cnn\", \"cnn\", \"cnn\", \"cnn\", \"cnn\", \"cnn\", \"cnn\", \"cnn\", \"cnn\", \"cnn\", \"cnn\", \"cnn\", \"cnn\", \"cnn\", \"cnn\", \"cnn\", \"cnn\", \"cnn\", \"cnn\", \"cnn\", \"cnn\", \"cnn\", \"cnn\", \"cnn\", \"cnn\", \"cnn\", \"cnn\", \"cnn\", \"cnn\", \"cnn\", \"cnn\", \"cnn\", \"cnn\", \"cnn\", \"cnn\", \"cnn\", \"cnn\", \"cnn\", \"cnn\", \"cnn\", \"cnn\", \"cnn\", \"cnn\", \"cnn\", \"cnn\", \"cnn\", \"cnn\", \"cnn\", \"cnn\", \"cnn\", \"cnn\", \"cnn\", \"cnn\", \"cnn\", \"cnn\", \"cnn\", \"cnn\", \"cnn\", \"cnn\", \"cnn\", \"cnn\", \"cnn\", \"cnn\", \"cnn\", \"cnn\", \"cnn\", \"cnn\", \"cnn\", \"cnn\", \"cnn\", \"cnn\", \"cnn\", \"cnn\", \"cnn\", \"cnn\", \"cnn\", \"cnn\", \"cnn\", \"cnn\", \"cnn\", \"cnn\", \"cnn\", \"cnn\", \"cnn\", \"cnn\", \"cnn\", \"cnn\", \"cnn\", \"cnn\", \"cnn\", \"cnn\", \"cnn\", \"cnn\", \"cnn\", \"cnn\", \"cnn\", \"cnn\", \"cnn\", \"cnn\", \"cnn\", \"cnn\", \"cnn\", \"cnn\", \"cnn\", \"cnn\", \"cnn\", \"cnn\", \"cnn\", \"cnn\", \"cnn\", \"cnn\", \"cnn\", \"cnn\", \"cnn\", \"cnn\", \"cnn\", \"cnn\", \"cnn\", \"cnn\", \"cnn\", \"cnn\", \"cnn\", \"cnn\", \"cnn\", \"cnn\", \"cnn\", \"cnn\", \"cnn\", \"cnn\", \"cnn\", \"cnn\", \"cnn\", \"cnn\", \"cnn\", \"cnn\", \"cnn\", \"cnn\", \"cnn\", \"cnn\", \"cnn\", \"cnn\", \"cnn\", \"cnn\", \"cnn\", \"cnn\", \"cnn\", \"cnn\", \"cnn\", \"cnn\", \"cnn\", \"cnn\", \"cnn\", \"cnn\", \"cnn\", \"cnn\", \"cnn\", \"cnn\", \"cnn\", \"cnn\", \"cnn\", \"cnn\", \"cnn\", \"cnn\", \"cnn\", \"cnn\", \"cnn\", \"cnn\", \"cnn\", \"cnn\", \"cnn\", \"cnn\", \"cnn\", \"cnn\", \"cnn\", \"cnn\", \"cnn\", \"cnn\", \"cnn\", \"cnn\", \"cnn\", \"cnn\", \"cnn\", \"cnn\", \"cnn\", \"cnn\", \"cnn\", \"cnn\", \"cnn\", \"cnn\", \"cnn\", \"cnn\", \"cnn\", \"cnn\", \"cnn\", \"cnn\", \"cnn\", \"cnn\", \"cnn\", \"cnn\", \"cnn\", \"cnn\", \"cnn\", \"cnn\", \"cnn\", \"cnn\", \"nytimes\", \"nytimes\", \"nytimes\", \"nytimes\", \"nytimes\", \"nytimes\", \"nytimes\", \"nytimes\", \"nytimes\", \"nytimes\", \"nytimes\", \"nytimes\", \"nytimes\", \"nytimes\", \"nytimes\", \"nytimes\", \"nytimes\", \"nytimes\", \"nytimes\", \"nytimes\", \"nytimes\", \"nytimes\", \"nytimes\", \"nytimes\", \"nytimes\", \"nytimes\", \"nytimes\", \"nytimes\", \"nytimes\", \"nytimes\", \"nytimes\", \"nytimes\", \"nytimes\", \"nytimes\", \"nytimes\", \"nytimes\", \"nytimes\", \"nytimes\", \"nytimes\", \"nytimes\", \"nytimes\", \"nytimes\", \"nytimes\", \"nytimes\", \"nytimes\", \"nytimes\", \"nytimes\", \"nytimes\", \"nytimes\", \"nytimes\", \"nytimes\", \"nytimes\", \"nytimes\", \"nytimes\", \"nytimes\", \"nytimes\", \"nytimes\", \"nytimes\", \"nytimes\", \"nytimes\", \"nytimes\", \"nytimes\", \"nytimes\", \"nytimes\", \"nytimes\", \"nytimes\", \"nytimes\", \"nytimes\", \"nytimes\", \"nytimes\", \"nytimes\", \"nytimes\", \"nytimes\", \"nytimes\", \"nytimes\", \"nytimes\", \"nytimes\", \"nytimes\", \"nytimes\", \"nytimes\", \"nytimes\", \"nytimes\", \"nytimes\", \"nytimes\", \"nytimes\", \"nytimes\", \"nytimes\", \"nytimes\", \"nytimes\", \"nytimes\", \"nytimes\", \"nytimes\", \"nytimes\", \"nytimes\", \"nytimes\", \"nytimes\", \"nytimes\", \"nytimes\", \"nytimes\", \"nytimes\", \"nytimes\", \"nytimes\", \"nytimes\", \"nytimes\", \"nytimes\", \"nytimes\", \"nytimes\", \"nytimes\", \"nytimes\", \"nytimes\", \"nytimes\", \"nytimes\", \"nytimes\", \"nytimes\", \"nytimes\", \"nytimes\", \"nytimes\", \"nytimes\", \"nytimes\", \"nytimes\", \"nytimes\", \"nytimes\", \"nytimes\", \"nytimes\", \"nytimes\", \"nytimes\", \"nytimes\", \"nytimes\", \"nytimes\", \"nytimes\", \"nytimes\", \"nytimes\", \"nytimes\", \"nytimes\", \"nytimes\", \"nytimes\", \"nytimes\", \"nytimes\", \"nytimes\", \"nytimes\", \"nytimes\", \"nytimes\", \"nytimes\", \"nytimes\", \"nytimes\", \"nytimes\", \"nytimes\", \"nytimes\", \"nytimes\", \"nytimes\", \"nytimes\", \"nytimes\", \"nytimes\", \"nytimes\", \"nytimes\", \"nytimes\", \"nytimes\", \"nytimes\", \"nytimes\", \"nytimes\", \"nytimes\", \"nytimes\", \"nytimes\", \"nytimes\", \"nytimes\", \"nytimes\", \"nytimes\", \"nytimes\", \"nytimes\", \"nytimes\", \"nytimes\", \"nytimes\", \"nytimes\", \"nytimes\", \"nytimes\", \"nytimes\", \"nytimes\", \"nytimes\", \"nytimes\", \"nytimes\", \"nytimes\", \"nytimes\", \"nytimes\", \"nytimes\", \"nytimes\", \"nytimes\", \"nytimes\", \"nytimes\", \"nytimes\", \"nytimes\", \"nytimes\", \"nytimes\", \"nytimes\", \"nytimes\", \"nytimes\", \"nytimes\", \"nytimes\", \"nytimes\", \"nytimes\", \"nytimes\", \"nytimes\", \"nytimes\", \"nytimes\", \"nytimes\", \"nytimes\", \"nytimes\", \"nytimes\", \"nytimes\", \"nytimes\", \"nytimes\", \"nytimes\", \"nytimes\", \"nytimes\", \"nytimes\", \"nytimes\", \"nytimes\", \"nytimes\", \"nytimes\", \"nytimes\", \"nytimes\", \"nytimes\", \"nytimes\", \"nytimes\", \"nytimes\", \"nytimes\", \"nytimes\", \"nytimes\", \"nytimes\", \"nytimes\", \"nytimes\", \"nytimes\", \"nytimes\", \"nytimes\", \"nytimes\", \"nytimes\", \"nytimes\", \"nytimes\", \"nytimes\", \"nytimes\", \"nytimes\", \"nytimes\", \"nytimes\", \"nytimes\", \"nytimes\", \"nytimes\", \"nytimes\", \"nytimes\", \"nytimes\", \"nytimes\", \"nytimes\", \"nytimes\", \"nytimes\", \"nytimes\", \"nytimes\", \"nytimes\", \"nytimes\", \"nytimes\", \"nytimes\", \"nytimes\", \"nytimes\", \"nytimes\", \"nytimes\", \"nytimes\", \"nytimes\", \"nytimes\", \"nytimes\", \"nytimes\", \"nytimes\", \"nytimes\", \"nytimes\", \"nytimes\", \"nytimes\", \"nytimes\", \"nytimes\", \"nytimes\", \"nytimes\", \"nytimes\", \"nytimes\", \"nytimes\", \"nytimes\", \"nytimes\", \"nytimes\", \"nytimes\", \"nytimes\", \"nytimes\", \"nytimes\", \"nytimes\", \"nytimes\", \"nytimes\", \"nytimes\", \"nytimes\", \"nytimes\", \"nytimes\", \"nytimes\", \"nytimes\", \"nytimes\", \"nytimes\", \"nytimes\", \"nytimes\", \"nytimes\", \"nytimes\", \"nytimes\", \"nytimes\", \"nytimes\", \"nytimes\", \"nytimes\", \"nytimes\", \"nytimes\", \"nytimes\", \"nytimes\", \"nytimes\", \"nytimes\", \"nytimes\", \"nytimes\", \"nytimes\", \"nytimes\", \"nytimes\", \"nytimes\", \"nytimes\", \"nytimes\", \"nytimes\", \"nytimes\", \"nytimes\", \"nytimes\", \"nytimes\", \"nytimes\", \"nytimes\", \"nytimes\", \"nytimes\", \"nytimes\", \"nytimes\", \"nytimes\", \"nytimes\", \"nytimes\", \"nytimes\", \"nytimes\", \"nytimes\", \"nytimes\", \"nytimes\", \"nytimes\", \"nytimes\", \"nytimes\", \"nytimes\", \"nytimes\", \"nytimes\", \"nytimes\", \"nytimes\", \"nytimes\", \"nytimes\", \"nytimes\", \"nytimes\", \"nytimes\", \"nytimes\", \"nytimes\", \"nytimes\", \"nytimes\", \"nytimes\", \"nytimes\", \"nytimes\", \"nytimes\", \"nytimes\", \"nytimes\", \"nytimes\", \"nytimes\", \"nytimes\", \"nytimes\", \"nytimes\", \"nytimes\", \"nytimes\", \"nytimes\", \"nytimes\", \"nytimes\", \"nytimes\", \"nytimes\", \"nytimes\", \"nytimes\", \"nytimes\", \"nytimes\", \"nytimes\", \"nytimes\", \"nytimes\", \"nytimes\", \"nytimes\", \"nytimes\", \"nytimes\", \"nytimes\", \"nytimes\", \"nytimes\", \"nytimes\", \"nytimes\", \"nytimes\", \"nytimes\", \"nytimes\", \"nytimes\", \"nytimes\", \"nytimes\", \"nytimes\", \"nytimes\", \"nytimes\", \"nytimes\", \"nytimes\", \"nytimes\", \"nytimes\", \"nytimes\", \"nytimes\", \"nytimes\", \"nytimes\", \"nytimes\", \"nytimes\", \"nytimes\", \"nytimes\", \"nytimes\", \"nytimes\", \"nytimes\", \"nytimes\", \"nytimes\", \"nytimes\", \"nytimes\", \"nytimes\", \"nytimes\", \"nytimes\", \"nytimes\", \"nytimes\", \"nytimes\", \"nytimes\", \"nytimes\", \"nytimes\", \"nytimes\", \"nytimes\", \"nytimes\", \"nytimes\", \"nytimes\", \"nytimes\", \"nytimes\", \"nytimes\", \"nytimes\", \"nytimes\", \"nytimes\", \"nytimes\", \"nytimes\", \"nytimes\", \"nytimes\", \"nytimes\", \"nytimes\", \"nytimes\", \"nytimes\", \"nytimes\", \"nytimes\", \"nytimes\", \"nytimes\", \"nytimes\", \"nytimes\", \"nytimes\", \"nytimes\", \"nytimes\", \"nytimes\", \"nytimes\", \"nytimes\", \"nytimes\", \"nytimes\", \"nytimes\", \"nytimes\", \"nytimes\", \"nytimes\", \"nytimes\", \"nytimes\", \"nytimes\", \"nytimes\", \"nytimes\", \"nytimes\", \"nytimes\", \"nytimes\", \"nytimes\", \"nytimes\", \"nytimes\", \"nytimes\", \"nytimes\", \"nytimes\", \"nytimes\", \"nytimes\", \"nytimes\", \"nytimes\", \"nytimes\", \"nytimes\", \"nytimes\", \"nytimes\", \"nytimes\", \"nytimes\", \"nytimes\", \"nytimes\", \"nytimes\", \"nytimes\", \"nytimes\", \"nytimes\", \"nytimes\", \"nytimes\", \"nytimes\", \"nytimes\", \"nytimes\", \"nytimes\", \"nytimes\", \"nytimes\", \"nytimes\", \"nytimes\", \"nytimes\", \"nytimes\", \"nytimes\", \"nytimes\", \"nytimes\", \"nytimes\", \"nytimes\", \"nytimes\", \"nytimes\", \"nytimes\", \"nytimes\", \"nytimes\", \"nytimes\", \"nytimes\", \"nytimes\", \"nytimes\", \"nytimes\", \"nytimes\", \"nytimes\", \"nytimes\", \"nytimes\", \"nytimes\", \"nytimes\", \"nytimes\", \"nytimes\", \"nytimes\", \"nytimes\", \"nytimes\", \"nytimes\", \"nytimes\", \"nytimes\", \"nytimes\", \"nytimes\", \"nytimes\", \"nytimes\", \"nytimes\", \"nytimes\", \"nytimes\", \"nytimes\", \"nytimes\", \"nytimes\", \"nytimes\", \"nytimes\", \"nytimes\", \"nytimes\", \"nytimes\", \"nytimes\", \"nytimes\", \"nytimes\", \"nytimes\", \"nytimes\", \"nytimes\", \"nytimes\", \"nytimes\", \"nytimes\", \"nytimes\", \"nytimes\", \"nytimes\", \"nytimes\", \"nytimes\", \"nytimes\", \"nytimes\", \"nytimes\", \"nytimes\", \"nytimes\", \"nytimes\", \"nytimes\", \"nytimes\", \"nytimes\", \"nytimes\", \"nytimes\", \"nytimes\", \"nytimes\", \"nytimes\", \"nytimes\", \"nytimes\", \"nytimes\", \"nytimes\", \"nytimes\", \"nytimes\", \"nytimes\", \"nytimes\", \"nytimes\", \"nytimes\", \"nytimes\", \"nytimes\", \"nytimes\", \"nytimes\", \"nytimes\", \"nytimes\", \"nytimes\", \"nytimes\", \"nytimes\", \"nytimes\", \"nytimes\", \"nytimes\", \"nytimes\", \"nytimes\", \"nytimes\", \"nytimes\", \"nytimes\", \"nytimes\", \"nytimes\", \"nytimes\", \"nytimes\", \"nytimes\", \"nytimes\", \"nytimes\", \"nytimes\", \"nytimes\", \"nytimes\", \"nytimes\", \"nytimes\", \"nytimes\", \"nytimes\", \"nytimes\", \"nytimes\", \"nytimes\", \"nytimes\", \"nytimes\", \"nytimes\", \"nytimes\", \"nytimes\", \"nytimes\", \"nytimes\", \"nytimes\", \"nytimes\", \"nytimes\", \"nytimes\", \"nytimes\", \"nytimes\", \"nytimes\", \"nytimes\", \"nytimes\", \"nytimes\", \"nytimes\", \"nytimes\", \"nytimes\", \"nytimes\", \"nytimes\", \"nytimes\", \"nytimes\", \"nytimes\", \"nytimes\", \"nytimes\", \"nytimes\", \"nytimes\", \"nytimes\", \"nytimes\", \"nytimes\", \"nytimes\", \"nytimes\", \"nytimes\", \"nytimes\", \"nytimes\", \"nytimes\", \"nytimes\", \"nytimes\", \"nytimes\", \"nytimes\", \"nytimes\", \"nytimes\", \"nytimes\", \"nytimes\", \"nytimes\", \"nytimes\", \"nytimes\", \"nytimes\", \"nytimes\", \"nytimes\", \"nytimes\", \"nytimes\", \"nytimes\", \"nytimes\", \"nytimes\", \"nytimes\", \"nytimes\", \"nytimes\", \"nytimes\", \"nytimes\", \"nytimes\", \"nytimes\", \"nytimes\", \"nytimes\", \"nytimes\", \"nytimes\", \"nytimes\", \"nytimes\", \"nytimes\", \"nytimes\", \"nytimes\", \"nytimes\", \"nytimes\", \"nytimes\", \"nytimes\", \"nytimes\", \"nytimes\", \"nytimes\", \"nytimes\", \"nytimes\", \"nytimes\", \"nytimes\", \"nytimes\", \"nytimes\", \"nytimes\", \"nytimes\", \"nytimes\", \"nytimes\", \"nytimes\", \"nytimes\", \"nytimes\", \"nytimes\", \"nytimes\", \"nytimes\", \"nytimes\", \"nytimes\", \"nytimes\", \"nytimes\", \"nytimes\", \"nytimes\", \"nytimes\", \"nytimes\", \"nytimes\", \"nytimes\", \"nytimes\", \"nytimes\", \"nytimes\", \"nytimes\", \"nytimes\", \"nytimes\", \"nytimes\", \"nytimes\", \"nytimes\", \"nytimes\", \"nytimes\", \"nytimes\", \"nytimes\", \"nytimes\", \"nytimes\", \"nytimes\", \"nytimes\", \"nytimes\", \"nytimes\", \"nytimes\", \"nytimes\", \"nytimes\", \"nytimes\", \"nytimes\", \"nytimes\", \"nytimes\", \"nytimes\", \"nytimes\", \"nytimes\", \"nytimes\", \"nytimes\", \"nytimes\", \"nytimes\", \"nytimes\", \"nytimes\", \"nytimes\", \"nytimes\", \"nytimes\", \"nytimes\", \"nytimes\", \"nytimes\", \"nytimes\", \"nytimes\", \"nytimes\", \"nytimes\", \"nytimes\", \"nytimes\", \"nytimes\", \"nytimes\", \"nytimes\", \"nytimes\", \"nytimes\", \"nytimes\", \"nytimes\", \"nytimes\", \"nytimes\", \"nytimes\", \"nytimes\", \"nytimes\", \"nytimes\", \"nytimes\", \"nytimes\", \"nytimes\", \"nytimes\", \"nytimes\", \"nytimes\", \"nytimes\", \"nytimes\", \"nytimes\", \"nytimes\", \"nytimes\", \"nytimes\", \"nytimes\", \"nytimes\", \"nytimes\", \"nytimes\", \"nytimes\", \"nytimes\", \"nytimes\", \"nytimes\", \"nytimes\", \"nytimes\", \"nytimes\", \"nytimes\", \"nytimes\", \"nytimes\", \"nytimes\", \"nytimes\", \"nytimes\", \"nytimes\", \"nytimes\", \"nytimes\", \"nytimes\", \"nytimes\", \"nytimes\", \"nytimes\", \"nytimes\", \"nytimes\", \"nytimes\", \"nytimes\", \"nytimes\", \"nytimes\", \"nytimes\", \"nytimes\", \"nytimes\", \"nytimes\", \"nytimes\", \"nytimes\", \"nytimes\", \"nytimes\", \"nytimes\", \"nytimes\", \"nytimes\", \"nytimes\", \"nytimes\", \"nytimes\", \"nytimes\", \"nytimes\", \"nytimes\", \"nytimes\", \"nytimes\", \"nytimes\", \"nytimes\", \"nytimes\", \"nytimes\", \"nytimes\", \"nytimes\", \"nytimes\", \"nytimes\", \"nytimes\", \"nytimes\", \"nytimes\", \"nytimes\", \"nytimes\", \"nytimes\", \"nytimes\", \"nytimes\", \"nytimes\", \"nytimes\", \"nytimes\", \"nytimes\", \"nytimes\", \"nytimes\", \"nytimes\", \"nytimes\", \"nytimes\", \"nytimes\", \"nytimes\", \"nytimes\", \"nytimes\", \"nytimes\", \"nytimes\", \"nytimes\", \"nytimes\", \"nytimes\", \"nytimes\", \"nytimes\", \"nytimes\", \"nytimes\", \"nytimes\", \"nytimes\", \"nytimes\", \"nytimes\", \"nytimes\", \"nytimes\", \"nytimes\", \"nytimes\", \"nytimes\", \"nytimes\", \"nytimes\", \"nytimes\", \"nytimes\", \"nytimes\", \"nytimes\", \"nytimes\", \"nytimes\", \"nytimes\", \"nytimes\", \"nytimes\", \"nytimes\", \"nytimes\", \"nytimes\", \"nytimes\", \"nytimes\", \"nytimes\", \"nytimes\", \"nytimes\", \"nytimes\", \"nytimes\", \"nytimes\", \"nytimes\", \"nytimes\", \"nytimes\", \"nytimes\", \"nytimes\", \"nytimes\", \"nytimes\", \"nytimes\", \"nytimes\", \"nytimes\", \"nytimes\", \"nytimes\", \"nytimes\", \"nytimes\", \"nytimes\", \"nytimes\", \"nytimes\", \"nytimes\", \"nytimes\", \"nytimes\", \"nytimes\", \"nytimes\", \"nytimes\", \"nytimes\", \"nytimes\", \"nytimes\", \"nytimes\", \"nytimes\", \"nytimes\", \"nytimes\", \"nytimes\", \"nytimes\", \"nytimes\", \"nytimes\", \"nytimes\", \"nytimes\", \"nytimes\", \"nytimes\", \"nytimes\", \"nytimes\", \"nytimes\", \"nytimes\", \"nytimes\", \"nytimes\", \"nytimes\", \"nytimes\", \"nytimes\", \"nytimes\", \"nytimes\", \"nytimes\", \"nytimes\", \"nytimes\", \"nytimes\", \"nytimes\", \"nytimes\", \"nytimes\", \"nytimes\", \"nytimes\", \"nytimes\", \"nytimes\", \"nytimes\", \"nytimes\", \"nytimes\", \"nytimes\", \"nytimes\", \"nytimes\", \"nytimes\", \"nytimes\", \"nytimes\", \"nytimes\", \"nytimes\", \"nytimes\", \"nytimes\", \"nytimes\", \"nytimes\", \"nytimes\", \"nytimes\", \"nytimes\", \"nytimes\", \"nytimes\", \"nytimes\", \"nytimes\", \"nytimes\", \"nytimes\", \"nytimes\", \"nytimes\", \"nytimes\", \"nytimes\", \"nytimes\", \"nytimes\", \"nytimes\", \"nytimes\", \"nytimes\", \"nytimes\", \"nytimes\", \"nytimes\", \"nytimes\", \"nytimes\", \"nytimes\", \"nytimes\", \"nytimes\", \"nytimes\", \"nytimes\", \"nytimes\", \"nytimes\", \"nytimes\", \"nytimes\", \"nytimes\", \"nytimes\", \"nytimes\", \"nytimes\", \"nytimes\", \"nytimes\", \"nytimes\", \"nytimes\", \"nytimes\", \"nytimes\", \"nytimes\", \"nytimes\", \"nytimes\", \"nytimes\", \"nytimes\", \"nytimes\", \"nytimes\", \"nytimes\", \"nytimes\", \"nytimes\", \"nytimes\", \"nytimes\", \"nytimes\", \"nytimes\", \"nytimes\", \"nytimes\", \"nytimes\", \"nytimes\", \"nytimes\", \"nytimes\", \"nytimes\", \"nytimes\", \"nytimes\", \"nytimes\", \"nytimes\", \"nytimes\", \"nytimes\", \"nytimes\", \"nytimes\", \"nytimes\", \"nytimes\", \"nytimes\", \"nytimes\", \"nytimes\", \"nytimes\", \"nytimes\", \"nytimes\", \"nytimes\", \"nytimes\", \"nytimes\", \"nytimes\", \"nytimes\", \"nytimes\", \"nytimes\", \"nytimes\", \"nytimes\", \"nytimes\", \"nytimes\", \"nytimes\", \"nytimes\", \"nytimes\", \"nytimes\", \"nytimes\", \"nytimes\", \"nytimes\", \"nytimes\", \"nytimes\", \"nytimes\", \"nytimes\", \"nytimes\", \"nytimes\", \"nytimes\", \"nytimes\", \"nytimes\", \"nytimes\", \"nytimes\", \"nytimes\", \"nytimes\", \"nytimes\", \"nytimes\", \"nytimes\", \"nytimes\", \"nytimes\", \"nytimes\", \"nytimes\", \"nytimes\", \"nytimes\", \"nytimes\", \"nytimes\", \"nytimes\", \"nytimes\", \"nytimes\", \"nytimes\", \"nytimes\", \"nytimes\", \"nytimes\", \"nytimes\", \"nytimes\", \"nytimes\", \"nytimes\", \"nytimes\", \"nytimes\", \"nytimes\", \"nytimes\", \"nytimes\", \"nytimes\", \"nytimes\", \"nytimes\", \"nytimes\", \"nytimes\", \"nytimes\", \"nytimes\", \"nytimes\", \"nytimes\", \"nytimes\", \"nytimes\", \"nytimes\", \"nytimes\", \"nytimes\", \"nytimes\", \"nytimes\", \"nytimes\", \"nytimes\", \"nytimes\", \"nytimes\", \"nytimes\", \"nytimes\", \"nytimes\", \"nytimes\", \"nytimes\", \"nytimes\", \"nytimes\", \"nytimes\", \"nytimes\", \"nytimes\", \"nytimes\", \"nytimes\", \"nytimes\", \"nytimes\", \"nytimes\", \"nytimes\", \"nytimes\", \"nytimes\", \"nytimes\", \"nytimes\", \"nytimes\", \"nytimes\", \"nytimes\", \"nytimes\", \"nytimes\", \"nytimes\", \"nytimes\", \"nytimes\", \"nytimes\", \"nytimes\", \"nytimes\", \"nytimes\", \"nytimes\", \"nytimes\", \"nytimes\", \"nytimes\", \"nytimes\", \"nytimes\", \"nytimes\", \"nytimes\", \"nytimes\", \"nytimes\", \"nytimes\", \"nytimes\", \"nytimes\", \"nytimes\", \"nytimes\", \"nytimes\", \"nytimes\", \"nytimes\", \"nytimes\", \"nytimes\", \"nytimes\", \"nytimes\", \"nytimes\", \"nytimes\", \"nytimes\", \"nytimes\", \"nytimes\", \"nytimes\", \"nytimes\", \"nytimes\", \"nytimes\", \"nytimes\", \"nytimes\", \"nytimes\", \"nytimes\", \"nytimes\", \"nytimes\", \"nytimes\", \"nytimes\", \"nytimes\", \"nytimes\", \"nytimes\", \"nytimes\", \"nytimes\", \"nytimes\", \"nytimes\", \"nytimes\", \"nytimes\", \"nytimes\", \"nytimes\", \"nytimes\", \"nytimes\", \"nytimes\", \"nytimes\", \"nytimes\", \"nytimes\", \"nytimes\", \"nytimes\", \"nytimes\", \"nytimes\", \"nytimes\", \"nytimes\", \"nytimes\", \"nytimes\", \"nytimes\", \"nytimes\", \"nytimes\", \"nytimes\", \"nytimes\", \"nytimes\", \"nytimes\", \"nytimes\", \"nytimes\", \"nytimes\", \"nytimes\", \"nytimes\", \"nytimes\", \"nytimes\", \"nytimes\", \"nytimes\", \"nytimes\", \"nytimes\", \"nytimes\", \"nytimes\", \"nytimes\", \"nytimes\", \"nytimes\", \"nytimes\", \"nytimes\", \"nytimes\", \"nytimes\", \"nytimes\", \"nytimes\", \"nytimes\", \"nytimes\", \"nytimes\", \"nytimes\", \"nytimes\", \"nytimes\", \"nytimes\", \"nytimes\", \"nytimes\", \"nytimes\", \"nytimes\", \"nytimes\", \"nytimes\", \"nytimes\", \"nytimes\", \"nytimes\", \"nytimes\", \"nytimes\", \"nytimes\", \"nytimes\", \"nytimes\", \"nytimes\", \"nytimes\", \"nytimes\", \"nytimes\", \"nytimes\", \"nytimes\", \"nytimes\", \"nytimes\", \"nytimes\", \"nytimes\", \"nytimes\", \"nytimes\", \"nytimes\", \"nytimes\", \"nytimes\", \"nytimes\", \"nytimes\", \"nytimes\", \"nytimes\", \"nytimes\", \"nytimes\", \"nytimes\", \"nytimes\", \"nytimes\", \"nytimes\", \"nytimes\", \"nytimes\", \"nytimes\", \"nytimes\", \"nytimes\", \"nytimes\", \"nytimes\", \"nytimes\", \"nytimes\", \"nytimes\", \"nytimes\", \"nytimes\", \"nytimes\", \"nytimes\", \"nytimes\", \"nytimes\", \"nytimes\", \"nytimes\", \"nytimes\", \"nytimes\", \"nytimes\", \"nytimes\", \"nytimes\", \"nytimes\", \"nytimes\", \"nytimes\", \"nytimes\", \"nytimes\", \"nytimes\", \"nytimes\", \"nytimes\", \"nytimes\", \"nytimes\", \"nytimes\", \"nytimes\", \"nytimes\", \"nytimes\", \"nytimes\", \"nytimes\", \"nytimes\", \"nytimes\", \"nytimes\", \"nytimes\", \"nytimes\", \"nytimes\", \"nytimes\", \"nytimes\", \"nytimes\", \"nytimes\", \"nytimes\", \"nytimes\", \"nytimes\", \"nytimes\", \"nytimes\", \"nytimes\", \"nytimes\", \"nytimes\", \"nytimes\", \"nytimes\", \"nytimes\", \"nytimes\", \"nytimes\", \"nytimes\", \"nytimes\", \"nytimes\", \"nytimes\", \"nytimes\", \"nytimes\", \"nytimes\", \"nytimes\", \"nytimes\", \"nytimes\", \"nytimes\", \"nytimes\", \"nytimes\", \"nytimes\", \"nytimes\", \"nytimes\", \"nytimes\", \"nytimes\", \"nytimes\", \"nytimes\", \"nytimes\", \"nytimes\", \"nytimes\", \"nytimes\", \"nytimes\", \"nytimes\", \"nytimes\", \"nytimes\", \"nytimes\", \"nytimes\", \"nytimes\", \"nytimes\", \"nytimes\", \"nytimes\", \"nytimes\", \"nytimes\", \"nytimes\", \"nytimes\", \"nytimes\", \"nytimes\", \"nytimes\", \"nytimes\", \"nytimes\", \"nytimes\", \"nytimes\", \"nytimes\", \"nytimes\", \"nytimes\", \"nytimes\", \"nytimes\", \"nytimes\", \"nytimes\", \"nytimes\", \"nytimes\", \"nytimes\", \"nytimes\", \"nytimes\", \"nytimes\", \"nytimes\", \"nytimes\", \"nytimes\", \"nytimes\", \"nytimes\", \"nytimes\", \"nytimes\", \"nytimes\", \"nytimes\", \"nytimes\", \"nytimes\", \"nytimes\", \"nytimes\", \"nytimes\", \"nytimes\", \"nytimes\", \"nytimes\", \"nytimes\", \"nytimes\", \"nytimes\", \"nytimes\", \"nytimes\", \"nytimes\", \"nytimes\", \"nytimes\", \"nytimes\", \"nytimes\", \"nytimes\", \"nytimes\", \"nytimes\", \"nytimes\", \"nytimes\", \"nytimes\", \"nytimes\", \"nytimes\", \"nytimes\", \"nytimes\", \"nytimes\", \"nytimes\", \"nytimes\", \"nytimes\", \"nytimes\", \"nytimes\", \"nytimes\", \"nytimes\", \"nytimes\", \"nytimes\", \"nytimes\", \"nytimes\", \"nytimes\", \"nytimes\", \"nytimes\", \"nytimes\", \"nytimes\", \"nytimes\", \"nytimes\", \"nytimes\", \"nytimes\", \"nytimes\", \"nytimes\", \"nytimes\", \"nytimes\", \"nytimes\", \"nytimes\", \"nytimes\", \"nytimes\", \"nytimes\", \"nytimes\", \"nytimes\", \"nytimes\", \"nytimes\", \"nytimes\", \"nytimes\", \"nytimes\", \"nytimes\", \"nytimes\", \"nytimes\", \"nytimes\", \"nytimes\", \"nytimes\", \"nytimes\", \"nytimes\", \"nytimes\", \"nytimes\", \"nytimes\", \"nytimes\", \"nytimes\", \"nytimes\", \"nytimes\", \"nytimes\", \"nytimes\", \"nytimes\", \"nytimes\", \"nytimes\", \"nytimes\", \"nytimes\", \"nytimes\", \"nytimes\", \"nytimes\", \"nytimes\", \"nytimes\", \"nytimes\", \"nytimes\", \"nytimes\", \"nytimes\", \"nytimes\", \"nytimes\", \"nytimes\", \"nytimes\", \"nytimes\", \"nytimes\", \"nytimes\", \"nytimes\", \"nytimes\", \"nytimes\", \"nytimes\", \"nytimes\", \"nytimes\", \"nytimes\", \"nytimes\", \"nytimes\", \"nytimes\", \"nytimes\", \"nytimes\", \"nytimes\", \"nytimes\", \"nytimes\", \"nytimes\", \"nytimes\", \"nytimes\", \"nytimes\", \"nytimes\", \"nytimes\", \"nytimes\", \"nytimes\", \"nytimes\", \"nytimes\", \"nytimes\", \"nytimes\", \"nytimes\", \"nytimes\", \"nytimes\", \"nytimes\", \"nytimes\", \"nytimes\", \"nytimes\", \"nytimes\", \"nytimes\", \"nytimes\", \"nytimes\", \"nytimes\", \"nytimes\", \"nytimes\", \"nytimes\", \"nytimes\", \"nytimes\", \"nytimes\", \"nytimes\", \"nytimes\", \"nytimes\", \"nytimes\", \"nytimes\", \"nytimes\", \"nytimes\", \"nytimes\", \"nytimes\", \"nytimes\", \"nytimes\", \"nytimes\", \"nytimes\", \"nytimes\", \"nytimes\", \"nytimes\", \"nytimes\", \"nytimes\", \"nytimes\", \"nytimes\", \"nytimes\", \"nytimes\", \"nytimes\", \"nytimes\", \"nytimes\", \"nytimes\", \"nytimes\", \"nytimes\", \"nytimes\", \"nytimes\", \"nytimes\", \"nytimes\", \"nytimes\", \"nytimes\", \"nytimes\", \"nytimes\", \"nytimes\", \"nytimes\", \"nytimes\", \"nytimes\", \"nytimes\", \"nytimes\", \"nytimes\", \"nytimes\", \"nytimes\", \"nytimes\", \"nytimes\", \"nytimes\", \"nytimes\", \"nytimes\", \"nytimes\", \"nytimes\", \"nytimes\", \"nytimes\", \"nytimes\", \"nytimes\", \"nytimes\", \"nytimes\", \"nytimes\", \"nytimes\", \"nytimes\", \"nytimes\", \"nytimes\", \"nytimes\", \"nytimes\", \"nytimes\", \"nytimes\", \"nytimes\", \"nytimes\", \"nytimes\", \"nytimes\", \"nytimes\", \"nytimes\", \"nytimes\", \"nytimes\", \"nytimes\", \"nytimes\", \"nytimes\", \"nytimes\", \"nytimes\", \"nytimes\", \"nytimes\", \"nytimes\", \"nytimes\", \"nytimes\", \"nytimes\", \"nytimes\", \"nytimes\", \"nytimes\", \"nytimes\", \"nytimes\", \"nytimes\", \"nytimes\", \"nytimes\", \"nytimes\", \"nytimes\", \"nytimes\", \"nytimes\", \"nytimes\", \"nytimes\", \"nytimes\", \"nytimes\", \"nytimes\", \"nytimes\", \"nytimes\", \"nytimes\", \"nytimes\", \"nytimes\", \"nytimes\", \"nytimes\", \"nytimes\", \"nytimes\", \"nytimes\", \"nytimes\", \"nytimes\", \"nytimes\", \"nytimes\", \"nytimes\", \"nytimes\", \"nytimes\", \"nytimes\", \"nytimes\", \"nytimes\", \"nytimes\", \"nytimes\", \"nytimes\", \"nytimes\", \"nytimes\", \"nytimes\", \"nytimes\", \"nytimes\", \"nytimes\", \"nytimes\", \"nytimes\", \"nytimes\", \"nytimes\", \"nytimes\", \"nytimes\", \"nytimes\", \"nytimes\", \"nytimes\", \"nytimes\", \"nytimes\", \"nytimes\", \"nytimes\", \"nytimes\", \"nytimes\", \"nytimes\", \"nytimes\", \"nytimes\", \"nytimes\", \"nytimes\", \"nytimes\", \"nytimes\", \"nytimes\", \"nytimes\", \"nytimes\", \"nytimes\", \"nytimes\", \"nytimes\", \"nytimes\", \"nytimes\", \"nytimes\", \"nytimes\", \"nytimes\", \"nytimes\", \"nytimes\", \"nytimes\", \"nytimes\", \"nytimes\", \"nytimes\", \"nytimes\", \"nytimes\", \"nytimes\", \"nytimes\", \"nytimes\", \"nytimes\", \"nytimes\", \"nytimes\", \"nytimes\", \"nytimes\", \"nytimes\", \"nytimes\", \"nytimes\", \"nytimes\", \"nytimes\", \"nytimes\", \"nytimes\", \"nytimes\", \"nytimes\", \"nytimes\", \"nytimes\", \"nytimes\", \"nytimes\", \"nytimes\", \"nytimes\", \"nytimes\", \"nytimes\", \"nytimes\", \"nytimes\", \"nytimes\", \"nytimes\", \"nytimes\", \"nytimes\", \"nytimes\", \"nytimes\", \"nytimes\", \"nytimes\", \"nytimes\", \"nytimes\", \"nytimes\", \"nytimes\", \"nytimes\", \"nytimes\", \"nytimes\", \"nytimes\", \"nytimes\", \"nytimes\", \"nytimes\", \"nytimes\", \"nytimes\", \"nytimes\", \"nytimes\", \"nytimes\", \"nytimes\", \"nytimes\", \"nytimes\", \"nytimes\", \"nytimes\", \"nytimes\", \"nytimes\", \"nytimes\", \"nytimes\", \"nytimes\", \"nytimes\", \"nytimes\", \"nytimes\", \"nytimes\", \"nytimes\", \"nytimes\", \"nytimes\", \"nytimes\", \"nytimes\", \"nytimes\", \"nytimes\", \"nytimes\", \"nytimes\", \"nytimes\", \"nytimes\", \"nytimes\", \"nytimes\", \"nytimes\", \"nytimes\", \"nytimes\", \"nytimes\", \"nytimes\", \"nytimes\", \"nytimes\", \"nytimes\", \"nytimes\", \"nytimes\", \"nytimes\", \"nytimes\", \"nytimes\", \"nytimes\", \"nytimes\", \"nytimes\", \"nytimes\", \"nytimes\", \"nytimes\", \"nytimes\", \"nytimes\", \"nytimes\", \"nytimes\", \"nytimes\", \"nytimes\", \"nytimes\", \"nytimes\", \"nytimes\", \"nytimes\", \"nytimes\", \"nytimes\", \"nytimes\", \"nytimes\", \"nytimes\", \"nytimes\", \"nytimes\", \"nytimes\", \"nytimes\", \"nytimes\", \"nytimes\", \"nytimes\", \"nytimes\", \"nytimes\", \"nytimes\", \"nytimes\", \"nytimes\", \"nytimes\", \"nytimes\", \"nytimes\", \"nytimes\", \"nytimes\", \"nytimes\", \"nytimes\", \"nytimes\", \"nytimes\", \"nytimes\", \"nytimes\", \"nytimes\", \"nytimes\", \"nytimes\", \"nytimes\", \"nytimes\", \"nytimes\", \"nytimes\", \"nytimes\", \"nytimes\", \"nytimes\", \"nytimes\", \"nytimes\", \"nytimes\", \"nytimes\", \"nytimes\", \"nytimes\", \"nytimes\", \"nytimes\", \"nytimes\", \"nytimes\", \"nytimes\", \"nytimes\", \"nytimes\", \"nytimes\", \"nytimes\", \"nytimes\", \"nytimes\", \"nytimes\", \"nytimes\", \"nytimes\", \"nytimes\", \"nytimes\", \"nytimes\", \"nytimes\", \"nytimes\", \"nytimes\", \"nytimes\", \"nytimes\", \"nytimes\", \"nytimes\", \"nytimes\", \"nytimes\", \"nytimes\", \"nytimes\", \"nytimes\", \"nytimes\", \"nytimes\", \"nytimes\", \"nytimes\", \"nytimes\", \"nytimes\", \"nytimes\", \"nytimes\", \"nytimes\", \"nytimes\", \"nytimes\", \"nytimes\", \"nytimes\", \"nytimes\", \"nytimes\", \"nytimes\", \"nytimes\", \"nytimes\", \"nytimes\", \"nytimes\", \"nytimes\", \"nytimes\", \"nytimes\", \"nytimes\", \"nytimes\", \"nytimes\", \"nytimes\", \"nytimes\", \"nytimes\", \"nytimes\", \"nytimes\", \"nytimes\", \"nytimes\", \"nytimes\", \"nytimes\", \"nytimes\", \"nytimes\", \"nytimes\", \"nytimes\", \"nytimes\", \"nytimes\", \"nytimes\", \"nytimes\", \"nytimes\", \"nytimes\", \"nytimes\", \"nytimes\", \"nytimes\", \"nytimes\", \"nytimes\", \"nytimes\", \"nytimes\", \"nytimes\", \"nytimes\", \"nytimes\", \"nytimes\", \"nytimes\", \"nytimes\", \"nytimes\", \"nytimes\", \"nytimes\", \"nytimes\", \"nytimes\", \"nytimes\", \"nytimes\", \"nytimes\", \"nytimes\", \"nytimes\", \"nytimes\", \"nytimes\", \"nytimes\", \"nytimes\", \"nytimes\", \"nytimes\", \"nytimes\", \"nytimes\", \"nytimes\", \"nytimes\", \"nytimes\", \"nytimes\", \"nytimes\", \"nytimes\", \"nytimes\", \"nytimes\", \"nytimes\", \"nytimes\", \"nytimes\", \"nytimes\", \"nytimes\", \"nytimes\", \"nytimes\", \"nytimes\", \"nytimes\", \"nytimes\", \"nytimes\", \"nytimes\", \"nytimes\", \"nytimes\", \"nytimes\", \"nytimes\", \"nytimes\", \"nytimes\", \"nytimes\", \"nytimes\", \"nytimes\", \"nytimes\", \"nytimes\", \"nytimes\", \"nytimes\", \"nytimes\", \"nytimes\", \"nytimes\", \"nytimes\", \"nytimes\", \"nytimes\", \"nytimes\", \"nytimes\", \"nytimes\", \"nytimes\", \"nytimes\", \"nytimes\", \"nytimes\", \"nytimes\", \"nytimes\", \"nytimes\", \"nytimes\", \"nytimes\", \"nytimes\", \"nytimes\", \"nytimes\", \"nytimes\", \"nytimes\", \"nytimes\", \"nytimes\", \"nytimes\", \"nytimes\", \"nytimes\", \"nytimes\", \"nytimes\", \"nytimes\", \"nytimes\", \"nytimes\", \"nytimes\", \"nytimes\", \"nytimes\", \"nytimes\", \"nytimes\", \"nytimes\", \"nytimes\", \"nytimes\", \"nytimes\", \"nytimes\", \"nytimes\", \"nytimes\", \"nytimes\", \"nytimes\", \"nytimes\", \"nytimes\", \"nytimes\", \"nytimes\", \"nytimes\", \"nytimes\", \"nytimes\", \"nytimes\", \"nytimes\", \"nytimes\", \"nytimes\", \"nytimes\", \"nytimes\", \"nytimes\", \"nytimes\", \"nytimes\", \"nytimes\", \"nytimes\", \"nytimes\", \"nytimes\", \"nytimes\", \"nytimes\", \"nytimes\", \"nytimes\", \"nytimes\", \"nytimes\", \"nytimes\", \"nytimes\", \"nytimes\", \"nytimes\", \"nytimes\", \"nytimes\", \"nytimes\", \"nytimes\", \"nytimes\", \"nytimes\", \"nytimes\", \"nytimes\", \"nytimes\", \"nytimes\", \"nytimes\", \"nytimes\", \"nytimes\", \"nytimes\", \"nytimes\", \"nytimes\", \"nytimes\", \"nytimes\", \"nytimes\", \"nytimes\", \"nytimes\", \"nytimes\", \"nytimes\", \"nytimes\", \"nytimes\", \"nytimes\", \"nytimes\", \"nytimes\", \"nytimes\", \"nytimes\", \"nytimes\", \"nytimes\", \"nytimes\", \"nytimes\", \"nytimes\", \"nytimes\", \"nytimes\", \"nytimes\", \"nytimes\", \"nytimes\", \"nytimes\", \"nytimes\", \"nytimes\", \"nytimes\", \"nytimes\", \"nytimes\", \"nytimes\", \"nytimes\", \"nytimes\", \"nytimes\", \"nytimes\", \"nytimes\", \"nytimes\", \"nytimes\", \"nytimes\", \"nytimes\", \"nytimes\", \"nytimes\", \"nytimes\", \"nytimes\", \"nytimes\", \"nytimes\", \"nytimes\", \"nytimes\", \"nytimes\", \"nytimes\", \"nytimes\", \"nytimes\", \"nytimes\", \"nytimes\", \"nytimes\", \"nytimes\", \"nytimes\", \"nytimes\", \"nytimes\", \"cnn\", \"cnn\", \"cnn\", \"cnn\", \"cnn\", \"cnn\", \"cnn\", \"cnn\", \"cnn\", \"cnn\", \"cnn\", \"cnn\", \"cnn\", \"cnn\", \"cnn\", \"cnn\", \"cnn\", \"cnn\", \"cnn\", \"cnn\", \"cnn\", \"cnn\", \"cnn\", \"cnn\", \"cnn\", \"cnn\", \"cnn\", \"cnn\", \"cnn\", \"cnn\", \"cnn\", \"cnn\", \"cnn\", \"cnn\", \"cnn\", \"cnn\", \"cnn\", \"cnn\", \"cnn\", \"cnn\", \"cnn\", \"cnn\", \"cnn\", \"cnn\", \"cnn\", \"cnn\", \"cnn\", \"cnn\", \"cnn\", \"nytimes\", \"nytimes\", \"nytimes\", \"nytimes\", \"nytimes\", \"nytimes\", \"nytimes\", \"nytimes\", \"nytimes\", \"nytimes\", \"nytimes\", \"nytimes\", \"nytimes\", \"nytimes\", \"nytimes\", \"nytimes\", \"nytimes\", \"nytimes\", \"nytimes\", \"nytimes\", \"nytimes\", \"nytimes\", \"nytimes\", \"nytimes\", \"nytimes\", \"nytimes\", \"nytimes\", \"nytimes\", \"nytimes\", \"nytimes\", \"nytimes\", \"nytimes\", \"nytimes\", \"nytimes\", \"nytimes\", \"nytimes\", \"nytimes\", \"nytimes\", \"nytimes\", \"nytimes\", \"nytimes\", \"nytimes\", \"nytimes\", \"nytimes\", \"nytimes\", \"nytimes\", \"nytimes\", \"nytimes\", \"nytimes\", \"nytimes\", \"nytimes\", \"nytimes\", \"nytimes\", \"nytimes\", \"nytimes\", \"nytimes\", \"nytimes\", \"nytimes\", \"nytimes\", \"nytimes\", \"nytimes\", \"nytimes\", \"nytimes\", \"nytimes\", \"nytimes\", \"nytimes\", \"nytimes\", \"nytimes\", \"nytimes\", \"nytimes\", \"nytimes\", \"nytimes\", \"nytimes\", \"nytimes\", \"nytimes\", \"nytimes\", \"nytimes\", \"nytimes\", \"nytimes\", \"nytimes\", \"nytimes\", \"nytimes\", \"nytimes\", \"nytimes\", \"nytimes\", \"nytimes\", \"nytimes\", \"nytimes\", \"nytimes\", \"nytimes\", \"nytimes\", \"nytimes\", \"nytimes\", \"nytimes\", \"nytimes\", \"nytimes\", \"nytimes\", \"nytimes\", \"nytimes\", \"nytimes\", \"nytimes\", \"nytimes\", \"nytimes\", \"nytimes\", \"nytimes\", \"nytimes\", \"nytimes\", \"nytimes\", \"nytimes\", \"nytimes\", \"nytimes\", \"nytimes\", \"nytimes\", \"nytimes\", \"nytimes\", \"nytimes\", \"nytimes\", \"nytimes\", \"nytimes\", \"nytimes\", \"nytimes\", \"nytimes\", \"nytimes\", \"nytimes\", \"nytimes\", \"nytimes\", \"nytimes\", \"nytimes\", \"nytimes\", \"nytimes\", \"nytimes\", \"nytimes\", \"nytimes\", \"nytimes\", \"nytimes\", \"nytimes\", \"nytimes\", \"nytimes\", \"nytimes\", \"nytimes\", \"nytimes\", \"nytimes\", \"nytimes\", \"nytimes\", \"nytimes\", \"nytimes\", \"nytimes\", \"nytimes\", \"nytimes\", \"nytimes\", \"nytimes\", \"nytimes\", \"nytimes\", \"nytimes\", \"nytimes\", \"nytimes\", \"nytimes\", \"nytimes\", \"nytimes\", \"nytimes\", \"nytimes\", \"nytimes\", \"nytimes\", \"nytimes\", \"nytimes\", \"nytimes\", \"nytimes\", \"nytimes\", \"nytimes\", \"nytimes\", \"nytimes\", \"nytimes\", \"nytimes\", \"nytimes\", \"nytimes\", \"nytimes\", \"nytimes\", \"nytimes\", \"nytimes\", \"nytimes\", \"nytimes\", \"nytimes\", \"nytimes\", \"nytimes\", \"nytimes\", \"nytimes\", \"nytimes\", \"nytimes\", \"nytimes\", \"nytimes\", \"nytimes\", \"nytimes\", \"nytimes\", \"nytimes\", \"nytimes\", \"nytimes\", \"nytimes\", \"nytimes\", \"nytimes\", \"nytimes\", \"nytimes\", \"nytimes\", \"nytimes\", \"nytimes\", \"nytimes\", \"nytimes\", \"nytimes\", \"nytimes\", \"nytimes\", \"nytimes\", \"nytimes\", \"nytimes\", \"nytimes\", \"nytimes\", \"nytimes\", \"nytimes\", \"nytimes\", \"nytimes\", \"nytimes\", \"nytimes\", \"nytimes\", \"nytimes\", \"nytimes\", \"nytimes\", \"nytimes\", \"nytimes\", \"nytimes\", \"nytimes\", \"nytimes\", \"nytimes\", \"nytimes\", \"nytimes\", \"nytimes\", \"nytimes\", \"nytimes\", \"nytimes\", \"nytimes\", \"nytimes\", \"nytimes\", \"nytimes\", \"nytimes\", \"nytimes\", \"nytimes\", \"nytimes\", \"nytimes\", \"nytimes\", \"nytimes\", \"nytimes\", \"nytimes\", \"nytimes\", \"nytimes\", \"nytimes\", \"nytimes\", \"nytimes\", \"nytimes\", \"nytimes\", \"nytimes\", \"nytimes\", \"nytimes\", \"nytimes\", \"nytimes\", \"nytimes\", \"nytimes\", \"nytimes\", \"nytimes\", \"nytimes\", \"nytimes\", \"nytimes\", \"nytimes\", \"nytimes\", \"nytimes\", \"nytimes\", \"nytimes\", \"nytimes\", \"nytimes\", \"nytimes\", \"nytimes\", \"nytimes\", \"nytimes\", \"nytimes\", \"nytimes\", \"nytimes\", \"nytimes\", \"nytimes\", \"nytimes\", \"nytimes\", \"nytimes\", \"nytimes\", \"nytimes\", \"nytimes\", \"nytimes\", \"nytimes\", \"nytimes\", \"nytimes\", \"nytimes\", \"nytimes\", \"nytimes\", \"nytimes\", \"nytimes\", \"nytimes\", \"nytimes\", \"nytimes\", \"nytimes\", \"nytimes\", \"nytimes\", \"nytimes\", \"nytimes\", \"nytimes\", \"nytimes\", \"nytimes\", \"nytimes\", \"nytimes\", \"nytimes\", \"nytimes\", \"nytimes\", \"nytimes\", \"nytimes\", \"nytimes\", \"nytimes\", \"nytimes\", \"nytimes\", \"nytimes\", \"nytimes\", \"nytimes\", \"nytimes\", \"nytimes\", \"nytimes\", \"nytimes\", \"nytimes\", \"nytimes\", \"nytimes\", \"nytimes\", \"nytimes\", \"nytimes\", \"nytimes\", \"nytimes\", \"nytimes\", \"nytimes\", \"nytimes\", \"nytimes\", \"nytimes\", \"nytimes\", \"nytimes\", \"nytimes\", \"nytimes\", \"nytimes\", \"nytimes\", \"nytimes\", \"nytimes\", \"nytimes\", \"nytimes\", \"nytimes\", \"nytimes\", \"nytimes\", \"nytimes\", \"nytimes\", \"nytimes\", \"nytimes\", \"nytimes\", \"nytimes\", \"nytimes\", \"nytimes\", \"nytimes\", \"nytimes\", \"nytimes\", \"nytimes\", \"nytimes\", \"nytimes\", \"nytimes\", \"nytimes\", \"nytimes\", \"nytimes\", \"nytimes\", \"nytimes\", \"nytimes\", \"nytimes\", \"nytimes\", \"nytimes\", \"nytimes\", \"nytimes\", \"nytimes\", \"nytimes\", \"nytimes\", \"nytimes\", \"nytimes\", \"nytimes\", \"nytimes\", \"nytimes\", \"nytimes\", \"nytimes\", \"nytimes\", \"nytimes\", \"nytimes\", \"nytimes\", \"nytimes\", \"nytimes\", \"nytimes\", \"nytimes\", \"nytimes\", \"nytimes\", \"nytimes\", \"nytimes\", \"nytimes\", \"nytimes\", \"nytimes\", \"nytimes\", \"nytimes\", \"nytimes\", \"nytimes\", \"nytimes\", \"nytimes\", \"nytimes\", \"nytimes\", \"nytimes\", \"nytimes\", \"nytimes\", \"nytimes\", \"nytimes\", \"nytimes\", \"nytimes\", \"nytimes\", \"nytimes\", \"nytimes\", \"nytimes\", \"nytimes\", \"nytimes\", \"nytimes\", \"nytimes\", \"nytimes\", \"nytimes\", \"nytimes\", \"nytimes\", \"nytimes\", \"nytimes\", \"nytimes\", \"nytimes\", \"nytimes\", \"nytimes\", \"nytimes\", \"nytimes\", \"nytimes\", \"nytimes\", \"nytimes\", \"nytimes\", \"nytimes\", \"nytimes\", \"nytimes\", \"nytimes\", \"nytimes\", \"nytimes\", \"nytimes\", \"nytimes\", \"nytimes\", \"nytimes\", \"nytimes\", \"nytimes\", \"nytimes\", \"nytimes\", \"nytimes\", \"nytimes\", \"nytimes\", \"nytimes\", \"nytimes\", \"nytimes\", \"nytimes\", \"nytimes\", \"nytimes\", \"nytimes\", \"nytimes\", \"nytimes\", \"nytimes\", \"nytimes\", \"nytimes\", \"nytimes\", \"nytimes\", \"nytimes\", \"nytimes\", \"nytimes\", \"nytimes\", \"nytimes\", \"nytimes\", \"nytimes\", \"nytimes\", \"nytimes\", \"nytimes\", \"nytimes\", \"nytimes\", \"nytimes\", \"nytimes\", \"nytimes\", \"nytimes\", \"nytimes\", \"nytimes\", \"nytimes\", \"nytimes\", \"nytimes\", \"nytimes\", \"nytimes\", \"nytimes\", \"nytimes\", \"nytimes\", \"nytimes\", \"nytimes\", \"nytimes\", \"nytimes\", \"nytimes\", \"nytimes\", \"nytimes\", \"nytimes\", \"nytimes\", \"nytimes\", \"nytimes\", \"nytimes\", \"nytimes\", \"nytimes\", \"nytimes\", \"nytimes\", \"nytimes\", \"nytimes\", \"nytimes\", \"nytimes\", \"nytimes\", \"nytimes\", \"nytimes\", \"nytimes\", \"nytimes\", \"nytimes\", \"nytimes\", \"nytimes\", \"nytimes\", \"nytimes\", \"nytimes\", \"nytimes\", \"nytimes\", \"nytimes\", \"nytimes\", \"nytimes\", \"nytimes\", \"nytimes\", \"nytimes\", \"nytimes\", \"nytimes\", \"nytimes\", \"nytimes\", \"nytimes\", \"nytimes\", \"nytimes\", \"nytimes\", \"nytimes\", \"nytimes\", \"nytimes\", \"nytimes\", \"nytimes\", \"nytimes\", \"nytimes\", \"nytimes\", \"nytimes\", \"nytimes\", \"nytimes\", \"nytimes\", \"nytimes\", \"nytimes\", \"nytimes\", \"nytimes\", \"nytimes\", \"nytimes\", \"nytimes\", \"nytimes\", \"nytimes\", \"nytimes\", \"nytimes\", \"nytimes\", \"nytimes\", \"nytimes\", \"nytimes\", \"nytimes\", \"nytimes\", \"nytimes\", \"nytimes\", \"nytimes\", \"nytimes\", \"nytimes\", \"nytimes\", \"nytimes\", \"nytimes\", \"nytimes\", \"nytimes\", \"nytimes\", \"nytimes\", \"nytimes\", \"nytimes\", \"nytimes\", \"nytimes\", \"nytimes\", \"nytimes\", \"nytimes\", \"nytimes\", \"nytimes\", \"nytimes\", \"nytimes\", \"nytimes\", \"nytimes\", \"nytimes\", \"nytimes\", \"nytimes\", \"nytimes\", \"nytimes\", \"nytimes\", \"nytimes\", \"nytimes\", \"nytimes\", \"nytimes\", \"nytimes\", \"nytimes\", \"nytimes\", \"nytimes\", \"nytimes\", \"nytimes\", \"nytimes\", \"nytimes\", \"nytimes\", \"nytimes\", \"nytimes\", \"nytimes\", \"nytimes\", \"nytimes\", \"nytimes\", \"nytimes\", \"nytimes\", \"nytimes\", \"nytimes\", \"nytimes\", \"nytimes\", \"nytimes\", \"nytimes\", \"nytimes\", \"nytimes\", \"nytimes\", \"nytimes\", \"nytimes\", \"nytimes\", \"nytimes\", \"nytimes\", \"nytimes\", \"nytimes\", \"nytimes\", \"nytimes\", \"nytimes\", \"nytimes\", \"nytimes\", \"nytimes\", \"nytimes\", \"nytimes\", \"nytimes\", \"nytimes\", \"nytimes\", \"nytimes\", \"nytimes\", \"nytimes\", \"nytimes\", \"nytimes\", \"nytimes\", \"nytimes\", \"nytimes\", \"nytimes\", \"nytimes\", \"nytimes\", \"nytimes\", \"nytimes\", \"nytimes\", \"nytimes\", \"nytimes\", \"nytimes\", \"nytimes\", \"nytimes\", \"nytimes\", \"nytimes\", \"nytimes\", \"nytimes\", \"nytimes\", \"nytimes\", \"nytimes\", \"nytimes\", \"nytimes\", \"nytimes\", \"nytimes\", \"nytimes\", \"nytimes\", \"nytimes\", \"nytimes\", \"nytimes\", \"nytimes\", \"nytimes\", \"nytimes\", \"nytimes\", \"nytimes\", \"nytimes\", \"nytimes\", \"nytimes\", \"nytimes\", \"nytimes\", \"nytimes\", \"nytimes\", \"nytimes\", \"nytimes\", \"nytimes\", \"nytimes\", \"nytimes\", \"nytimes\", \"nytimes\", \"nytimes\", \"nytimes\", \"nytimes\", \"nytimes\", \"nytimes\", \"nytimes\", \"nytimes\", \"nytimes\", \"nytimes\", \"nytimes\", \"nytimes\", \"nytimes\", \"nytimes\", \"nytimes\", \"nytimes\", \"nytimes\", \"nytimes\", \"nytimes\", \"nytimes\", \"nytimes\", \"nytimes\", \"nytimes\", \"nytimes\", \"nytimes\", \"nytimes\", \"nytimes\", \"nytimes\", \"nytimes\", \"nytimes\", \"nytimes\", \"nytimes\", \"nytimes\", \"nytimes\", \"nytimes\", \"nytimes\", \"nytimes\", \"nytimes\", \"nytimes\", \"nytimes\", \"nytimes\", \"nytimes\", \"nytimes\", \"nytimes\", \"nytimes\", \"nytimes\", \"nytimes\", \"nytimes\", \"nytimes\", \"nytimes\", \"nytimes\", \"nytimes\", \"nytimes\", \"nytimes\", \"nytimes\", \"nytimes\", \"nytimes\", \"nytimes\", \"nytimes\", \"nytimes\", \"nytimes\", \"nytimes\", \"nytimes\", \"nytimes\", \"nytimes\", \"nytimes\", \"nytimes\", \"nytimes\", \"nytimes\", \"nytimes\", \"nytimes\", \"nytimes\", \"nytimes\", \"nytimes\", \"nytimes\", \"nytimes\", \"nytimes\", \"nytimes\", \"nytimes\", \"nytimes\", \"nytimes\", \"nytimes\", \"nytimes\", \"nytimes\", \"nytimes\", \"nytimes\", \"nytimes\", \"nytimes\", \"nytimes\", \"nytimes\", \"nytimes\", \"nytimes\", \"nytimes\", \"nytimes\", \"nytimes\", \"nytimes\", \"nytimes\", \"nytimes\", \"nytimes\", \"nytimes\", \"nytimes\", \"nytimes\", \"nytimes\", \"nytimes\", \"nytimes\", \"nytimes\", \"nytimes\", \"nytimes\", \"nytimes\", \"nytimes\", \"nytimes\", \"nytimes\", \"nytimes\", \"nytimes\", \"nytimes\", \"nytimes\", \"nytimes\", \"nytimes\", \"nytimes\", \"nytimes\", \"nytimes\", \"nytimes\", \"nytimes\", \"nytimes\", \"nytimes\", \"nytimes\", \"nytimes\", \"nytimes\", \"nytimes\", \"nytimes\", \"nytimes\", \"nytimes\", \"nytimes\", \"nytimes\", \"nytimes\", \"nytimes\", \"nytimes\", \"nytimes\", \"nytimes\", \"nytimes\", \"nytimes\", \"nytimes\", \"nytimes\", \"nytimes\", \"nytimes\", \"nytimes\", \"nytimes\", \"nytimes\", \"nytimes\", \"nytimes\", \"nytimes\", \"nytimes\", \"nytimes\", \"nytimes\", \"nytimes\", \"nytimes\", \"nytimes\", \"nytimes\", \"nytimes\", \"nytimes\", \"nytimes\", \"nytimes\", \"nytimes\", \"nytimes\", \"nytimes\", \"nytimes\", \"nytimes\", \"nytimes\", \"nytimes\", \"nytimes\", \"nytimes\", \"nytimes\", \"nytimes\", \"nytimes\", \"nytimes\", \"nytimes\", \"nytimes\", \"cnn\", \"cnn\", \"cnn\", \"cnn\", \"cnn\", \"cnn\", \"cnn\", \"cnn\", \"cnn\", \"cnn\", \"cnn\", \"cnn\", \"cnn\", \"cnn\", \"cnn\", \"cnn\", \"cnn\", \"cnn\", \"cnn\", \"cnn\", \"cnn\", \"cnn\", \"cnn\", \"cnn\", \"cnn\", \"cnn\", \"cnn\", \"cnn\", \"cnn\", \"cnn\", \"cnn\", \"cnn\", \"cnn\", \"cnn\", \"cnn\", \"cnn\", \"cnn\", \"cnn\", \"cnn\", \"cnn\", \"cnn\", \"cnn\", \"cnn\", \"cnn\", \"cnn\", \"cnn\", \"cnn\", \"cnn\", \"cnn\", \"cnn\", \"cnn\", \"cnn\", \"cnn\", \"cnn\", \"cnn\", \"cnn\", \"cnn\", \"cnn\", \"cnn\", \"cnn\", \"cnn\", \"cnn\", \"cnn\", \"cnn\", \"cnn\", \"cnn\", \"cnn\", \"cnn\", \"cnn\", \"cnn\", \"cnn\", \"cnn\", \"cnn\", \"cnn\", \"cnn\", \"cnn\", \"cnn\", \"cnn\", \"cnn\", \"nytimes\", \"nytimes\", \"nytimes\", \"nytimes\", \"nytimes\", \"nytimes\", \"nytimes\", \"nytimes\", \"nytimes\", \"nytimes\", \"nytimes\", \"nytimes\", \"nytimes\", \"nytimes\", \"nytimes\", \"nytimes\", \"nytimes\", \"nytimes\", \"nytimes\", \"nytimes\", \"nytimes\", \"nytimes\", \"nytimes\", \"nytimes\", \"nytimes\", \"nytimes\", \"nytimes\", \"nytimes\", \"nytimes\", \"nytimes\", \"nytimes\", \"nytimes\", \"nytimes\", \"nytimes\", \"nytimes\", \"nytimes\", \"nytimes\", \"nytimes\", \"nytimes\", \"nytimes\", \"nytimes\", \"nytimes\", \"nytimes\", \"nytimes\", \"nytimes\", \"nytimes\", \"nytimes\", \"nytimes\", \"nytimes\", \"nytimes\", \"nytimes\", \"nytimes\", \"nytimes\", \"nytimes\", \"nytimes\", \"nytimes\", \"nytimes\", \"nytimes\", \"nytimes\", \"nytimes\", \"nytimes\", \"nytimes\", \"nytimes\", \"nytimes\", \"nytimes\", \"nytimes\", \"nytimes\", \"nytimes\", \"nytimes\", \"nytimes\", \"nytimes\", \"nytimes\", \"nytimes\", \"nytimes\", \"nytimes\", \"nytimes\", \"nytimes\", \"nytimes\", \"nytimes\", \"nytimes\", \"nytimes\", \"nytimes\", \"nytimes\", \"nytimes\", \"nytimes\", \"nytimes\", \"nytimes\", \"nytimes\", \"nytimes\", \"nytimes\", \"nytimes\", \"nytimes\", \"nytimes\", \"nytimes\", \"nytimes\", \"nytimes\", \"nytimes\", \"nytimes\", \"nytimes\", \"nytimes\", \"nytimes\", \"nytimes\", \"nytimes\", \"nytimes\", \"nytimes\", \"nytimes\", \"nytimes\", \"nytimes\", \"nytimes\", \"nytimes\", \"nytimes\", \"nytimes\", \"nytimes\", \"nytimes\", \"nytimes\", \"nytimes\", \"nytimes\", \"nytimes\", \"nytimes\", \"nytimes\", \"nytimes\", \"nytimes\", \"nytimes\", \"nytimes\", \"nytimes\", \"nytimes\", \"nytimes\", \"nytimes\", \"nytimes\", \"nytimes\", \"nytimes\", \"nytimes\", \"nytimes\", \"nytimes\", \"nytimes\", \"nytimes\", \"nytimes\", \"nytimes\", \"nytimes\", \"nytimes\", \"nytimes\", \"nytimes\", \"nytimes\", \"nytimes\", \"nytimes\", \"nytimes\", \"nytimes\", \"nytimes\", \"nytimes\", \"nytimes\", \"nytimes\", \"nytimes\", \"nytimes\", \"nytimes\", \"nytimes\", \"nytimes\", \"nytimes\", \"nytimes\", \"nytimes\", \"nytimes\", \"nytimes\", \"nytimes\", \"nytimes\", \"nytimes\", \"nytimes\", \"nytimes\", \"nytimes\", \"nytimes\", \"nytimes\", \"nytimes\", \"nytimes\", \"nytimes\", \"nytimes\", \"nytimes\", \"nytimes\", \"nytimes\", \"nytimes\", \"nytimes\", \"nytimes\", \"nytimes\", \"nytimes\", \"nytimes\", \"nytimes\", \"nytimes\", \"nytimes\", \"nytimes\", \"nytimes\", \"nytimes\", \"nytimes\", \"nytimes\", \"cnn\", \"cnn\", \"cnn\", \"cnn\", \"cnn\", \"cnn\", \"cnn\", \"cnn\", \"nytimes\", \"nytimes\", \"nytimes\", \"nytimes\", \"nytimes\", \"nytimes\", \"nytimes\", \"nytimes\", \"nytimes\", \"nytimes\", \"nytimes\", \"nytimes\", \"nytimes\", \"nytimes\", \"nytimes\", \"nytimes\", \"nytimes\", \"nytimes\", \"nytimes\", \"nytimes\", \"nytimes\", \"nytimes\", \"nytimes\", \"nytimes\", \"nytimes\", \"nytimes\", \"nytimes\", \"nytimes\", \"nytimes\", \"nytimes\", \"nytimes\", \"nytimes\", \"nytimes\", \"nytimes\", \"nytimes\", \"nytimes\", \"nytimes\", \"nytimes\", \"nytimes\", \"nytimes\", \"nytimes\", \"nytimes\", \"nytimes\", \"nytimes\", \"nytimes\", \"nytimes\", \"nytimes\", \"nytimes\", \"nytimes\", \"nytimes\", \"nytimes\", \"nytimes\", \"nytimes\", \"nytimes\", \"nytimes\", \"nytimes\", \"nytimes\", \"nytimes\", \"nytimes\", \"nytimes\"], \"yaxis\": \"y\"}],\n",
       "                        {\"legend\": {\"tracegroupgap\": 0}, \"margin\": {\"t\": 60}, \"template\": {\"data\": {\"bar\": [{\"error_x\": {\"color\": \"#2a3f5f\"}, \"error_y\": {\"color\": \"#2a3f5f\"}, \"marker\": {\"line\": {\"color\": \"#E5ECF6\", \"width\": 0.5}}, \"type\": \"bar\"}], \"barpolar\": [{\"marker\": {\"line\": {\"color\": \"#E5ECF6\", \"width\": 0.5}}, \"type\": \"barpolar\"}], \"carpet\": [{\"aaxis\": {\"endlinecolor\": \"#2a3f5f\", \"gridcolor\": \"white\", \"linecolor\": \"white\", \"minorgridcolor\": \"white\", \"startlinecolor\": \"#2a3f5f\"}, \"baxis\": {\"endlinecolor\": \"#2a3f5f\", \"gridcolor\": \"white\", \"linecolor\": \"white\", \"minorgridcolor\": \"white\", \"startlinecolor\": \"#2a3f5f\"}, \"type\": \"carpet\"}], \"choropleth\": [{\"colorbar\": {\"outlinewidth\": 0, \"ticks\": \"\"}, \"type\": \"choropleth\"}], \"contour\": [{\"colorbar\": {\"outlinewidth\": 0, \"ticks\": \"\"}, \"colorscale\": [[0.0, \"#0d0887\"], [0.1111111111111111, \"#46039f\"], [0.2222222222222222, \"#7201a8\"], [0.3333333333333333, \"#9c179e\"], [0.4444444444444444, \"#bd3786\"], [0.5555555555555556, \"#d8576b\"], [0.6666666666666666, \"#ed7953\"], [0.7777777777777778, \"#fb9f3a\"], [0.8888888888888888, \"#fdca26\"], [1.0, \"#f0f921\"]], \"type\": \"contour\"}], \"contourcarpet\": [{\"colorbar\": {\"outlinewidth\": 0, \"ticks\": \"\"}, \"type\": \"contourcarpet\"}], \"heatmap\": [{\"colorbar\": {\"outlinewidth\": 0, \"ticks\": \"\"}, \"colorscale\": [[0.0, \"#0d0887\"], [0.1111111111111111, \"#46039f\"], [0.2222222222222222, \"#7201a8\"], [0.3333333333333333, \"#9c179e\"], [0.4444444444444444, \"#bd3786\"], [0.5555555555555556, \"#d8576b\"], [0.6666666666666666, \"#ed7953\"], [0.7777777777777778, \"#fb9f3a\"], [0.8888888888888888, \"#fdca26\"], [1.0, \"#f0f921\"]], \"type\": \"heatmap\"}], \"heatmapgl\": [{\"colorbar\": {\"outlinewidth\": 0, \"ticks\": \"\"}, \"colorscale\": [[0.0, \"#0d0887\"], [0.1111111111111111, \"#46039f\"], [0.2222222222222222, \"#7201a8\"], [0.3333333333333333, \"#9c179e\"], [0.4444444444444444, \"#bd3786\"], [0.5555555555555556, \"#d8576b\"], [0.6666666666666666, \"#ed7953\"], [0.7777777777777778, \"#fb9f3a\"], [0.8888888888888888, \"#fdca26\"], [1.0, \"#f0f921\"]], \"type\": \"heatmapgl\"}], \"histogram\": [{\"marker\": {\"colorbar\": {\"outlinewidth\": 0, \"ticks\": \"\"}}, \"type\": \"histogram\"}], \"histogram2d\": [{\"colorbar\": {\"outlinewidth\": 0, \"ticks\": \"\"}, \"colorscale\": [[0.0, \"#0d0887\"], [0.1111111111111111, \"#46039f\"], [0.2222222222222222, \"#7201a8\"], [0.3333333333333333, \"#9c179e\"], [0.4444444444444444, \"#bd3786\"], [0.5555555555555556, \"#d8576b\"], [0.6666666666666666, \"#ed7953\"], [0.7777777777777778, \"#fb9f3a\"], [0.8888888888888888, \"#fdca26\"], [1.0, \"#f0f921\"]], \"type\": \"histogram2d\"}], \"histogram2dcontour\": [{\"colorbar\": {\"outlinewidth\": 0, \"ticks\": \"\"}, \"colorscale\": [[0.0, \"#0d0887\"], [0.1111111111111111, \"#46039f\"], [0.2222222222222222, \"#7201a8\"], [0.3333333333333333, \"#9c179e\"], [0.4444444444444444, \"#bd3786\"], [0.5555555555555556, \"#d8576b\"], [0.6666666666666666, \"#ed7953\"], [0.7777777777777778, \"#fb9f3a\"], [0.8888888888888888, \"#fdca26\"], [1.0, \"#f0f921\"]], \"type\": \"histogram2dcontour\"}], \"mesh3d\": [{\"colorbar\": {\"outlinewidth\": 0, \"ticks\": \"\"}, \"type\": \"mesh3d\"}], \"parcoords\": [{\"line\": {\"colorbar\": {\"outlinewidth\": 0, \"ticks\": \"\"}}, \"type\": \"parcoords\"}], \"pie\": [{\"automargin\": true, \"type\": \"pie\"}], \"scatter\": [{\"marker\": {\"colorbar\": {\"outlinewidth\": 0, \"ticks\": \"\"}}, \"type\": \"scatter\"}], \"scatter3d\": [{\"line\": {\"colorbar\": {\"outlinewidth\": 0, \"ticks\": \"\"}}, \"marker\": {\"colorbar\": {\"outlinewidth\": 0, \"ticks\": \"\"}}, \"type\": \"scatter3d\"}], \"scattercarpet\": [{\"marker\": {\"colorbar\": {\"outlinewidth\": 0, \"ticks\": \"\"}}, \"type\": \"scattercarpet\"}], \"scattergeo\": [{\"marker\": {\"colorbar\": {\"outlinewidth\": 0, \"ticks\": \"\"}}, \"type\": \"scattergeo\"}], \"scattergl\": [{\"marker\": {\"colorbar\": {\"outlinewidth\": 0, \"ticks\": \"\"}}, \"type\": \"scattergl\"}], \"scattermapbox\": [{\"marker\": {\"colorbar\": {\"outlinewidth\": 0, \"ticks\": \"\"}}, \"type\": \"scattermapbox\"}], \"scatterpolar\": [{\"marker\": {\"colorbar\": {\"outlinewidth\": 0, \"ticks\": \"\"}}, \"type\": \"scatterpolar\"}], \"scatterpolargl\": [{\"marker\": {\"colorbar\": {\"outlinewidth\": 0, \"ticks\": \"\"}}, \"type\": \"scatterpolargl\"}], \"scatterternary\": [{\"marker\": {\"colorbar\": {\"outlinewidth\": 0, \"ticks\": \"\"}}, \"type\": \"scatterternary\"}], \"surface\": [{\"colorbar\": {\"outlinewidth\": 0, \"ticks\": \"\"}, \"colorscale\": [[0.0, \"#0d0887\"], [0.1111111111111111, \"#46039f\"], [0.2222222222222222, \"#7201a8\"], [0.3333333333333333, \"#9c179e\"], [0.4444444444444444, \"#bd3786\"], [0.5555555555555556, \"#d8576b\"], [0.6666666666666666, \"#ed7953\"], [0.7777777777777778, \"#fb9f3a\"], [0.8888888888888888, \"#fdca26\"], [1.0, \"#f0f921\"]], \"type\": \"surface\"}], \"table\": [{\"cells\": {\"fill\": {\"color\": \"#EBF0F8\"}, \"line\": {\"color\": \"white\"}}, \"header\": {\"fill\": {\"color\": \"#C8D4E3\"}, \"line\": {\"color\": \"white\"}}, \"type\": \"table\"}]}, \"layout\": {\"annotationdefaults\": {\"arrowcolor\": \"#2a3f5f\", \"arrowhead\": 0, \"arrowwidth\": 1}, \"coloraxis\": {\"colorbar\": {\"outlinewidth\": 0, \"ticks\": \"\"}}, \"colorscale\": {\"diverging\": [[0, \"#8e0152\"], [0.1, \"#c51b7d\"], [0.2, \"#de77ae\"], [0.3, \"#f1b6da\"], [0.4, \"#fde0ef\"], [0.5, \"#f7f7f7\"], [0.6, \"#e6f5d0\"], [0.7, \"#b8e186\"], [0.8, \"#7fbc41\"], [0.9, \"#4d9221\"], [1, \"#276419\"]], \"sequential\": [[0.0, \"#0d0887\"], [0.1111111111111111, \"#46039f\"], [0.2222222222222222, \"#7201a8\"], [0.3333333333333333, \"#9c179e\"], [0.4444444444444444, \"#bd3786\"], [0.5555555555555556, \"#d8576b\"], [0.6666666666666666, \"#ed7953\"], [0.7777777777777778, \"#fb9f3a\"], [0.8888888888888888, \"#fdca26\"], [1.0, \"#f0f921\"]], \"sequentialminus\": [[0.0, \"#0d0887\"], [0.1111111111111111, \"#46039f\"], [0.2222222222222222, \"#7201a8\"], [0.3333333333333333, \"#9c179e\"], [0.4444444444444444, \"#bd3786\"], [0.5555555555555556, \"#d8576b\"], [0.6666666666666666, \"#ed7953\"], [0.7777777777777778, \"#fb9f3a\"], [0.8888888888888888, \"#fdca26\"], [1.0, \"#f0f921\"]]}, \"colorway\": [\"#636efa\", \"#EF553B\", \"#00cc96\", \"#ab63fa\", \"#FFA15A\", \"#19d3f3\", \"#FF6692\", \"#B6E880\", \"#FF97FF\", \"#FECB52\"], \"font\": {\"color\": \"#2a3f5f\"}, \"geo\": {\"bgcolor\": \"white\", \"lakecolor\": \"white\", \"landcolor\": \"#E5ECF6\", \"showlakes\": true, \"showland\": true, \"subunitcolor\": \"white\"}, \"hoverlabel\": {\"align\": \"left\"}, \"hovermode\": \"closest\", \"mapbox\": {\"style\": \"light\"}, \"paper_bgcolor\": \"white\", \"plot_bgcolor\": \"#E5ECF6\", \"polar\": {\"angularaxis\": {\"gridcolor\": \"white\", \"linecolor\": \"white\", \"ticks\": \"\"}, \"bgcolor\": \"#E5ECF6\", \"radialaxis\": {\"gridcolor\": \"white\", \"linecolor\": \"white\", \"ticks\": \"\"}}, \"scene\": {\"xaxis\": {\"backgroundcolor\": \"#E5ECF6\", \"gridcolor\": \"white\", \"gridwidth\": 2, \"linecolor\": \"white\", \"showbackground\": true, \"ticks\": \"\", \"zerolinecolor\": \"white\"}, \"yaxis\": {\"backgroundcolor\": \"#E5ECF6\", \"gridcolor\": \"white\", \"gridwidth\": 2, \"linecolor\": \"white\", \"showbackground\": true, \"ticks\": \"\", \"zerolinecolor\": \"white\"}, \"zaxis\": {\"backgroundcolor\": \"#E5ECF6\", \"gridcolor\": \"white\", \"gridwidth\": 2, \"linecolor\": \"white\", \"showbackground\": true, \"ticks\": \"\", \"zerolinecolor\": \"white\"}}, \"shapedefaults\": {\"line\": {\"color\": \"#2a3f5f\"}}, \"ternary\": {\"aaxis\": {\"gridcolor\": \"white\", \"linecolor\": \"white\", \"ticks\": \"\"}, \"baxis\": {\"gridcolor\": \"white\", \"linecolor\": \"white\", \"ticks\": \"\"}, \"bgcolor\": \"#E5ECF6\", \"caxis\": {\"gridcolor\": \"white\", \"linecolor\": \"white\", \"ticks\": \"\"}}, \"title\": {\"x\": 0.05}, \"xaxis\": {\"automargin\": true, \"gridcolor\": \"white\", \"linecolor\": \"white\", \"ticks\": \"\", \"title\": {\"standoff\": 15}, \"zerolinecolor\": \"white\", \"zerolinewidth\": 2}, \"yaxis\": {\"automargin\": true, \"gridcolor\": \"white\", \"linecolor\": \"white\", \"ticks\": \"\", \"title\": {\"standoff\": 15}, \"zerolinecolor\": \"white\", \"zerolinewidth\": 2}}}, \"xaxis\": {\"anchor\": \"y\", \"domain\": [0.0, 1.0], \"title\": {\"text\": \"date\"}}, \"yaxis\": {\"anchor\": \"x\", \"domain\": [0.0, 1.0], \"title\": {\"text\": \"site\"}}},\n",
       "                        {\"responsive\": true}\n",
       "                    ).then(function(){\n",
       "                            \n",
       "var gd = document.getElementById('24a7e0bb-cf42-4778-8a7d-7ba66b20fdc7');\n",
       "var x = new MutationObserver(function (mutations, observer) {{\n",
       "        var display = window.getComputedStyle(gd).display;\n",
       "        if (!display || display === 'none') {{\n",
       "            console.log([gd, 'removed!']);\n",
       "            Plotly.purge(gd);\n",
       "            observer.disconnect();\n",
       "        }}\n",
       "}});\n",
       "\n",
       "// Listen for the removal of the full notebook cells\n",
       "var notebookContainer = gd.closest('#notebook-container');\n",
       "if (notebookContainer) {{\n",
       "    x.observe(notebookContainer, {childList: true});\n",
       "}}\n",
       "\n",
       "// Listen for the clearing of the current output cell\n",
       "var outputEl = gd.closest('.output');\n",
       "if (outputEl) {{\n",
       "    x.observe(outputEl, {childList: true});\n",
       "}}\n",
       "\n",
       "                        })\n",
       "                };\n",
       "                });\n",
       "            </script>\n",
       "        </div>"
      ]
     },
     "metadata": {},
     "output_type": "display_data"
    }
   ],
   "source": [
    "px.scatter(articles, x='date', y='site')"
   ]
  },
  {
   "cell_type": "code",
   "execution_count": null,
   "metadata": {},
   "outputs": [],
   "source": [
    "def sentiment_analysis(row):\n",
    "    text = TextBlob(row['text'])\n",
    "    \n",
    "    row['polarity'] = text.sentiment.polarity\n",
    "    row['subjectivity'] = text.sentiment.subjectivity\n",
    "    \n",
    "    return row"
   ]
  },
  {
   "cell_type": "code",
   "execution_count": null,
   "metadata": {},
   "outputs": [],
   "source": [
    "articles = articles.apply(sentiment_analysis, axis=1)"
   ]
  },
  {
   "cell_type": "code",
   "execution_count": null,
   "metadata": {},
   "outputs": [],
   "source": [
    "articles.sample(5)"
   ]
  },
  {
   "cell_type": "code",
   "execution_count": null,
   "metadata": {},
   "outputs": [],
   "source": [
    "articles[articles['polarity']==articles['polarity'].min()]['text']"
   ]
  },
  {
   "cell_type": "code",
   "execution_count": null,
   "metadata": {},
   "outputs": [],
   "source": [
    "sentiment = articles.groupby(['site', 'date'])['polarity'].describe().reset_index()"
   ]
  },
  {
   "cell_type": "code",
   "execution_count": null,
   "metadata": {},
   "outputs": [],
   "source": [
    "alpha = 0.05\n",
    "\n",
    "sentiment['sentiment_upper_bound'] = sentiment['mean'] + stats.t.ppf(1-(alpha/2), df=sentiment['count']-1)*sentiment['std']/np.sqrt(sentiment['count'])\n",
    "sentiment['sentiment_lower_bound'] = sentiment['mean'] - stats.t.ppf(1-(alpha/2), df=sentiment['count']-1)*sentiment['std']/np.sqrt(sentiment['count'])"
   ]
  },
  {
   "cell_type": "code",
   "execution_count": null,
   "metadata": {},
   "outputs": [],
   "source": [
    "sentiment.drop(['min', '25%', '50%', '75%', 'max', 'count', 'std'], axis=1, inplace=True)"
   ]
  },
  {
   "cell_type": "code",
   "execution_count": null,
   "metadata": {},
   "outputs": [],
   "source": [
    "px.scatter(sentiment.melt(id_vars=['date'], value_vars=['sentiment_upper_bound', 'sentiment_lower_bound']),\n",
    "           x='date',\n",
    "           y='value',\n",
    "           color='variable')"
   ]
  },
  {
   "cell_type": "code",
   "execution_count": null,
   "metadata": {},
   "outputs": [],
   "source": [
    "sentiment.merge(tidy_df[tidy_df['Type']=='Confirmed'], left_on='date', right_on='Date')"
   ]
  },
  {
   "cell_type": "code",
   "execution_count": null,
   "metadata": {},
   "outputs": [],
   "source": [
    "all_data = tidy_df[tidy_df['Type']=='Confirmed'].merge(sentiment, left_on='Date', right_on='date')"
   ]
  },
  {
   "cell_type": "code",
   "execution_count": null,
   "metadata": {},
   "outputs": [],
   "source": [
    "all_data.drop(['Type', 'Open', 'High', 'Low', 'Close', 'Volume', 'date'], axis=1, inplace=True)"
   ]
  },
  {
   "cell_type": "code",
   "execution_count": null,
   "metadata": {},
   "outputs": [],
   "source": [
    "all_data"
   ]
  }
 ],
 "metadata": {
  "kernelspec": {
   "display_name": "Python 3",
   "language": "python",
   "name": "python3"
  },
  "language_info": {
   "codemirror_mode": {
    "name": "ipython",
    "version": 3
   },
   "file_extension": ".py",
   "mimetype": "text/x-python",
   "name": "python",
   "nbconvert_exporter": "python",
   "pygments_lexer": "ipython3",
   "version": "3.7.4"
  }
 },
 "nbformat": 4,
 "nbformat_minor": 2
}
