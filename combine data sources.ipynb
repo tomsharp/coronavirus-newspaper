{
 "cells": [
  {
   "cell_type": "code",
   "execution_count": 1,
   "metadata": {},
   "outputs": [],
   "source": [
    "import pandas as pd\n",
    "import numpy as np\n",
    "import plotly.express as px"
   ]
  },
  {
   "cell_type": "code",
   "execution_count": 2,
   "metadata": {},
   "outputs": [],
   "source": [
    "djia = pd.read_csv(\"data/^DJI.csv\")\n",
    "confirmed = pd.read_csv(\"data/time_series_19-covid-Confirmed.csv\")\n",
    "deaths = pd.read_csv(\"data/time_series_19-covid-Deaths.csv\")\n",
    "recovered = pd.read_csv(\"data/time_series_19-covid-Recovered.csv\")"
   ]
  },
  {
   "cell_type": "code",
   "execution_count": 3,
   "metadata": {},
   "outputs": [],
   "source": [
    "djia = djia[djia['Date'] >= '2019-12-01']"
   ]
  },
  {
   "cell_type": "code",
   "execution_count": 9,
   "metadata": {},
   "outputs": [],
   "source": [
    "melt_ids = ['Province/State', 'Country/Region', 'Lat', 'Long']\n",
    "\n",
    "\n",
    "tidy_confirmed = confirmed.melt(id_vars=melt_ids, \n",
    "                               value_vars=[c for c in confirmed.columns \\\n",
    "                                           if c not in ['Province/State', 'Country/Region', 'Lat', 'Long']], \n",
    "                               var_name='Date', value_name='Confirmed')\n",
    "\n",
    "tidy_deaths = deaths.melt(id_vars=melt_ids, \n",
    "                               value_vars=[c for c in confirmed.columns \\\n",
    "                                           if c not in ['Province/State', 'Country/Region', 'Lat', 'Long']], \n",
    "                               var_name='Date', value_name='Deaths')\n",
    "\n",
    "tidy_recovered = recovered.melt(id_vars=melt_ids, \n",
    "                                value_vars=[c for c in confirmed.columns \\\n",
    "                                           if c not in ['Province/State', 'Country/Region', 'Lat', 'Long']], \n",
    "                                var_name='Date', value_name='Recovered')\n",
    "\n",
    "\n",
    "melt_ids.append('Date')\n",
    "df = pd.merge(pd.merge(tidy_confirmed, tidy_deaths, on=melt_ids), \n",
    "                         tidy_recovered, on=melt_ids)\n",
    "\n",
    "tidy_df = df.melt(id_vars=melt_ids, \n",
    "                  value_vars=['Confirmed', 'Deaths', 'Recovered'],\n",
    "                  var_name='Type', \n",
    "                  value_name='Count')"
   ]
  }
 ],
 "metadata": {
  "kernelspec": {
   "display_name": "Python 3",
   "language": "python",
   "name": "python3"
  },
  "language_info": {
   "codemirror_mode": {
    "name": "ipython",
    "version": 3
   },
   "file_extension": ".py",
   "mimetype": "text/x-python",
   "name": "python",
   "nbconvert_exporter": "python",
   "pygments_lexer": "ipython3",
   "version": "3.7.4"
  }
 },
 "nbformat": 4,
 "nbformat_minor": 2
}
