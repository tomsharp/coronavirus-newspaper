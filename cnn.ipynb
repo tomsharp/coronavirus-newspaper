{
 "cells": [
  {
   "cell_type": "code",
   "execution_count": 2,
   "metadata": {},
   "outputs": [],
   "source": [
    "import newspaper\n",
    "import requests\n",
    "from bs4 import BeautifulSoup\n",
    "from selenium import webdriver\n",
    "import sqlite3\n",
    "import pandas as pd\n",
    "import time\n",
    "from datetime import datetime"
   ]
  },
  {
   "cell_type": "code",
   "execution_count": null,
   "metadata": {},
   "outputs": [],
   "source": []
  },
  {
   "cell_type": "code",
   "execution_count": 18,
   "metadata": {},
   "outputs": [],
   "source": [
    "def scrape_cnn_links(driver):\n",
    "    els = driver.find_elements_by_class_name('cnn-search__results-list')\n",
    "    links = []\n",
    "    for article in els[0].find_elements_by_class_name('cnn-search__result--article'):\n",
    "        link = article.find_elements_by_class_name('cnn-search__result-contents')[0].\\\n",
    "                find_elements_by_class_name('cnn-search__result-headline')[0].\\\n",
    "                find_elements_by_tag_name('a')[0].get_attribute('href')\n",
    "\n",
    "        links.append(link)\n",
    "    return links"
   ]
  },
  {
   "cell_type": "code",
   "execution_count": 19,
   "metadata": {},
   "outputs": [],
   "source": [
    "def update_articles_table(links, site):\n",
    "    bad_links = []\n",
    "    with sqlite3.connect('data/newspaper.db') as conn:\n",
    "        c = conn.cursor()\n",
    "        for link in links:\n",
    "            c.execute(\"\"\"SELECT link\n",
    "                        FROM articles\n",
    "                        WHERE link=\"{}\"\n",
    "                        \"\"\".format(link))\n",
    "            \n",
    "            result = c.fetchone()\n",
    "            if result:\n",
    "                print(\"link already exists: {}\".format(link))\n",
    "                bad_links.append(link)\n",
    "            else:\n",
    "                c.execute(\"INSERT INTO articles VALUES (?, ?)\", (site, link))\n",
    "                conn.commit()\n",
    "        return bad_links "
   ]
  },
  {
   "cell_type": "code",
   "execution_count": 22,
   "metadata": {},
   "outputs": [],
   "source": [
    "driver = webdriver.Firefox()"
   ]
  },
  {
   "cell_type": "code",
   "execution_count": 23,
   "metadata": {},
   "outputs": [
    {
     "name": "stdout",
     "output_type": "stream",
     "text": [
      "0\n",
      "sleeping... 10:30:46\n",
      "link already exists: https://www.cnn.com/asia/live-news/coronavirus-outbreak-03-05-20-intl-hnk/index.html\n",
      "link already exists: https://www.cnn.com/2020/03/03/health/us-coronavirus-cases-state-by-state/index.html\n",
      "link already exists: https://www.cnn.com/2020/03/04/health/new-york-coronavirus-cases/index.html\n",
      "link already exists: https://www.cnn.com/2020/03/04/business/starbucks-coronavirus/index.html\n",
      "link already exists: https://www.cnn.com/2020/03/04/football/liverpool-chelsea-fa-cup-jurgen-klopp-spt-intl/index.html\n",
      "link already exists: https://www.cnn.com/2020/01/29/asia/coronavirus-cases-worldwide-intl-hnk/index.html\n",
      "link already exists: https://www.cnn.com/2020/03/02/asia/pets-coronavirus-spread-intl-hnk/index.html\n",
      "link already exists: https://www.cnn.com/2020/03/04/health/coronavirus-test-what-happens-explainer/index.html\n",
      "link already exists: https://www.cnn.com/business/live-news/stock-market-news-today-030420/index.html\n",
      "link already exists: https://www.cnn.com/2020/03/04/asia/coronavirus-countries-response-intl-hnk/index.html\n",
      "link already exists: https://www.cnn.com/2020/03/04/health/us-coronavirus-update-wednesday/index.html\n",
      "link already exists: https://www.cnn.com/2020/03/04/health/washington-state-nursing-facility-coronavirus-family/index.html\n",
      "link already exists: https://www.cnn.com/2020/03/04/politics/secret-service-protection-2020-candidates/index.html\n",
      "link already exists: https://www.cnn.com/2020/03/04/politics/donald-trump-obama-testing-lamar-alexander/index.html\n",
      "link already exists: https://www.cnn.com/asia/live-news/coronavirus-outbreak-03-04-20-intl-hnk/index.html\n",
      "link already exists: https://www.cnn.com/2020/03/04/business/united-us-flight-cuts-coronavirus/index.html\n",
      "link already exists: https://www.cnn.com/2020/03/04/politics/2020-vs-2016-democrats/index.html\n",
      "link already exists: https://www.cnn.com/2020/03/04/politics/bloomberg-end-most-expensive-campaign-failed-launch/index.html\n",
      "link already exists: https://www.cnn.com/2020/03/04/politics/telework-social-security-administration/index.html\n",
      "link already exists: https://www.cnn.com/2020/03/04/politics/coronavirus-screening-navy-air-force-army/index.html\n",
      "link already exists: https://www.cnn.com/2020/03/04/uk/prince-william-coronavirus-joke-intl-scli-gbr/index.html\n",
      "link already exists: https://www.cnn.com/2020/03/04/politics/gaetz-coronavirus-gas-mask/index.html\n",
      "link already exists: https://www.cnn.com/2020/03/04/politics/joe-biden-congress-investigations/index.html\n",
      "link already exists: https://www.cnn.com/2020/03/04/opinions/coronavirus-local-public-health-challenges-el-sayed/index.html\n",
      "link already exists: https://www.cnn.com/2020/03/03/politics/pence-coronavirus-any-american-tested/index.html\n",
      "link already exists: https://www.cnn.com/2020/03/04/politics/coronavirus-congress-funding-deal-reached/index.html\n",
      "link already exists: https://www.cnn.com/travel/article/coronavirus-travel-advice/index.html\n",
      "link already exists: https://www.cnn.com/politics/live-news/super-tuesday-results-2020/index.html\n",
      "link already exists: https://www.cnn.com/2020/03/04/business/oil-prices-opec/index.html\n",
      "link already exists: https://www.cnn.com/2020/03/04/us/washington-state-coronavirus-voting-trnd/index.html\n",
      "link already exists: https://www.cnn.com/2020/03/04/politics/wilkie-coronavirus-veteran-case-paulo-alto/index.html\n",
      "link already exists: https://www.cnn.com/2020/03/04/business/restaurant-coronavirus/index.html\n",
      "link already exists: https://www.cnn.com/2020/03/04/politics/donald-trump-coronavirus-economy/index.html\n",
      "link already exists: https://www.cnn.com/2020/03/04/politics/barack-obama-coronavirus-precautions/index.html\n",
      "link already exists: https://www.cnn.com/2020/03/04/investing/transportation-stocks-coronavirus-economy/index.html\n",
      "link already exists: https://www.cnn.com/2020/03/04/media/no-time-to-die-coronavirus/index.html\n",
      "link already exists: https://www.cnn.com/2020/03/04/tech/sxsw-not-canceled-coronavirus/index.html\n",
      "link already exists: https://www.cnn.com/2020/03/04/app-news-section/quickly-catch-up-march-4/index.html\n",
      "link already exists: https://www.cnn.com/2020/03/04/europe/italy-schools-closures-coronavirus-intl/index.html\n",
      "link already exists: https://www.cnn.com/2020/03/04/us/coronavirus-town-hall-questions/index.html\n",
      "link already exists: https://www.cnn.com/2020/03/04/economy/china-services-employment-coronavirus/index.html\n",
      "link already exists: https://www.cnn.com/2020/03/04/investing/fed-rate-cut-zero-coronavirus/index.html\n",
      "link already exists: https://www.cnn.com/2020/03/04/middleeast/iran-coronavirus-response-intl/index.html\n",
      "link already exists: https://www.cnn.com/2020/03/04/politics/trump-leadership-test-coronavirus/index.html\n",
      "link already exists: https://www.cnn.com/2020/03/04/uk/queen-gloves-ceremony-scli-intl-gbr/index.html\n",
      "link already exists: https://www.cnn.com/2020/03/04/investing/wall-street-biden/index.html\n",
      "link already exists: https://www.cnn.com/2020/03/04/sport/kanoa-igarashi-olympics-coronavirus-spt-intl/index.html\n",
      "link already exists: https://www.cnn.com/2020/03/04/health/nursing-home-infection-control-coronavirus-partner/index.html\n",
      "link already exists: https://www.cnn.com/2020/03/02/news/coronavirus-closures-tourist-attractions-and-events/index.html\n",
      "link already exists: https://www.cnn.com/2020/03/03/world/coronavirus-etiquette-intl-scli/index.html\n",
      "link already exists: https://www.cnn.com/2020/03/04/business/coronavirus-baby-yoda/index.html\n",
      "link already exists: https://www.cnn.com/2020/03/04/investing/premarket-stocks-trading/index.html\n",
      "1\n",
      "sleeping... 10:31:50\n",
      "link already exists: https://www.cnn.com/2020/03/03/investing/dow-futures-climb/index.html\n",
      "link already exists: https://www.cnn.com/2020/03/04/health/cdc-website-coronavirus-testing/index.html\n",
      "link already exists: https://www.cnn.com/2020/03/04/us/five-things-march-4-trnd/index.html\n",
      "link already exists: https://www.cnn.com/2020/03/04/cars/aston-martin-v12-speedster/index.html\n",
      "link already exists: https://www.cnn.com/2020/03/04/us/coronavirus-quarantine-word-history-trnd/index.html\n",
      "link already exists: https://www.cnn.com/2020/03/04/asia/novel-coronavirus-covid-19-intl-hnk/index.html\n",
      "link already exists: https://www.cnn.com/2020/03/03/health/us-coronavirus-updates-tuesday/index.html\n",
      "link already exists: https://www.cnn.com/2020/03/04/health/us-coronavirus-test-explainer/index.html\n",
      "link already exists: https://www.cnn.com/2020/03/04/health/debunking-coronavirus-myths-trnd/index.html\n",
      "link already exists: https://www.cnn.com/2020/03/03/uk/coronavirus-assault-student-london-scli-intl-gbr/index.html\n",
      "link already exists: https://www.cnn.com/asia/live-news/coronavirus-outbreak-03-03-20-intl-hnk/index.html\n",
      "link already exists: https://www.cnn.com/2020/03/03/politics/navy-coronavirus-self-quarantine-ships-europe/index.html\n",
      "link already exists: https://www.cnn.com/2020/03/03/us/san-antonio-texas-federal-government-coronavirus/index.html\n",
      "link already exists: https://www.cnn.com/2020/03/03/success/mortgage-rates/index.html\n",
      "link already exists: https://www.cnn.com/2020/03/03/health/coronavirus-outbreaks-resolutions/index.html\n",
      "link already exists: https://www.cnn.com/2020/03/03/us/north-carolina-coronavirus-case-washington/index.html\n",
      "link already exists: https://www.cnn.com/2020/03/03/cnn10/ten-content-weds/index.html\n",
      "link already exists: https://www.cnn.com/2020/03/03/politics/donald-trump-germaphobe-coronavirus/index.html\n",
      "link already exists: https://www.cnn.com/2020/03/03/business/jpmorgan-coronavirus-work-home/index.html\n",
      "link already exists: https://www.cnn.com/2020/03/03/politics/coronavirus-funding-fight-congress/index.html\n",
      "link already exists: https://www.cnn.com/2020/03/02/tech/facebook-sxsw-coronavirus/index.html\n",
      "link already exists: https://www.cnn.com/2020/03/03/politics/dnc-rnc-coronavirus-summer-conventions/index.html\n",
      "link already exists: https://www.cnn.com/2020/03/03/tech/google-i-o-canceled-coronavirus/index.html\n",
      "link already exists: https://www.cnn.com/2020/03/03/opinions/coronavirus-history-of-disease-medical-humanities-nixon/index.html\n",
      "link already exists: https://www.cnn.com/2020/03/03/investing/dow-stock-market-today/index.html\n",
      "link already exists: https://www.cnn.com/2020/03/03/investing/central-bank-calvary/index.html\n",
      "link already exists: https://www.cnn.com/middleeast/live-news/israel-election-march-2020/index.html\n",
      "link already exists: https://www.cnn.com/2020/03/03/economy/federal-reserve-rate-cut/index.html\n",
      "link already exists: https://www.cnn.com/2020/03/03/perspectives/coronavirus-economy-recession-fed-rate-cut/index.html\n",
      "link already exists: https://www.cnn.com/2020/03/03/opinions/israeli-elections-march-2020-miller/index.html\n",
      "link already exists: https://www.cnn.com/2020/03/03/app-news-section/quickly-catch-up-march-3/index.html\n",
      "link already exists: https://www.cnn.com/2020/03/03/media/comcast-olympics-coronavirus/index.html\n",
      "link already exists: https://www.cnn.com/2020/03/03/investing/federal-reserve-interest-rate-cut-coronavirus-emergency/index.html\n",
      "link already exists: https://www.cnn.com/2020/03/03/investing/10-year-treasury-yield-record-low/index.html\n",
      "link already exists: https://www.cnn.com/2020/03/03/entertainment/streaming-and-coronavirus/index.html\n",
      "link already exists: https://www.cnn.com/2020/03/03/politics/homeland-security-immigration-coronavirus-closure/index.html\n",
      "link already exists: https://www.cnn.com/2020/03/03/success/coronavirus-remote-work/index.html\n",
      "link already exists: https://www.cnn.com/2020/03/03/health/coronavirus-diy-hand-sanitizer-trnd/index.html\n",
      "link already exists: https://www.cnn.com/2020/03/03/business/global-markets-g7-coronavirus/index.html\n",
      "link already exists: https://www.cnn.com/2020/03/03/sport/olympics-tokyo-2020-thomas-bach-ioc-spt-intl/index.html\n",
      "link already exists: https://www.cnn.com/2020/03/03/investing/oil-prices-energy-stocks-junk-bonds-coronavirus/index.html\n",
      "link already exists: https://www.cnn.com/2020/03/03/business/panic-buying-coronavirus-retail-shopping/index.html\n",
      "link already exists: https://www.cnn.com/2020/03/03/football/inter-milan-juventus-steven-zhang-paolo-dal-pino-serie-a-spt-intl/index.html\n",
      "link already exists: https://www.cnn.com/2020/03/01/sport/coronavirus-olympics-spt-intl/index.html\n",
      "link already exists: https://www.cnn.com/2020/03/03/investing/premarket-stocks-trading/index.html\n",
      "link already exists: https://www.cnn.com/2020/03/03/tech/gig-economy-coronavirus/index.html\n",
      "link already exists: https://www.cnn.com/travel/article/airplane-hygiene-coronavirus/index.html\n",
      "link already exists: https://www.cnn.com/2020/03/03/motorsport/battista-anniversario-automobili-pininfarina-release-ev-spt-intl/index.html\n",
      "link already exists: https://www.cnn.com/2020/03/03/asia/novel-coronavirus-covid-19-intl-hnk/index.html\n",
      "link already exists: https://www.cnn.com/2020/03/03/football/coronavirus-euro-2020-uefa-aleksander-ceferin-spt-intl/index.html\n",
      "link already exists: https://www.cnn.com/2020/03/03/opinions/im-an-emergency-doctor-i-expect-to-get-coronavirus-phillips/index.html\n",
      "link already exists: https://www.cnn.com/2020/03/03/opinions/coronavirus-prepare-not-panic-opinion-adams/index.html\n",
      "link already exists: https://www.cnn.com/2020/03/03/tech/foxconn-coronavirus-apple/index.html\n",
      "link already exists: https://www.cnn.com/2020/03/03/health/life-care-center-nursing-home-coronavirus/index.html\n",
      "link already exists: https://www.cnn.com/2020/03/03/politics/donald-trump-coronavirus-mike-pence-preparation/index.html\n",
      "link already exists: https://www.cnn.com/2020/03/03/cars/bentley-bacalar/index.html\n",
      "link already exists: https://www.cnn.com/2020/03/03/us/five-things-march-3-trnd/index.html\n",
      "link already exists: https://www.cnn.com/2020/03/02/middleeast/israel-march-2020-election-exit-polls-intl/index.html\n",
      "link already exists: https://www.cnn.com/2020/03/02/politics/donald-trump-coronavirus-vaccine-push-back/index.html\n",
      "link already exists: https://www.cnn.com/2020/03/02/health/us-coronavirus-cases-monday/index.html\n",
      "link already exists: https://www.cnn.com/2020/03/03/us/coronavirus-nba-avoid-contact-spt/index.html\n",
      "link already exists: https://www.cnn.com/2020/03/02/asia/coronavirus-drive-through-south-korea-hnk-intl/index.html\n",
      "link already exists: https://www.cnn.com/politics/live-news/super-tuesday-2020-final-sprint/index.html\n",
      "link already exists: https://www.cnn.com/2020/03/02/health/washington-state-nursing-facility-coronavirus-investigation/index.html\n",
      "link already exists: https://www.cnn.com/2020/03/02/health/wuhan-evacuee-san-antonio/index.html\n",
      "link already exists: https://www.cnn.com/2020/03/02/politics/us-officials-airlines-collect-traveler-data/index.html\n",
      "link already exists: https://www.cnn.com/asia/live-news/coronavirus-outbreak-03-02-20-intl-hnk/index.html\n",
      "link already exists: https://www.cnn.com/2020/03/02/opinions/coronavirus-highlights-flawed-health-care-system-kerry/index.html\n",
      "link already exists: https://www.cnn.com/2020/03/02/middleeast/iran-coronavirus-supreme-leader-adviser-intl/index.html\n",
      "link already exists: https://www.cnn.com/2020/03/02/politics/super-tuesday-coronavirus-preparation-sanitizer/index.html\n",
      "link already exists: https://www.cnn.com/2020/03/02/health/coronavirus-nursing-home-outbreak/index.html\n",
      "link already exists: https://www.cnn.com/2020/03/02/politics/stephanie-grisham-fox-news-coronavirus-interview/index.html\n",
      "link already exists: https://www.cnn.com/2020/03/02/europe/greece-turkey-migrant-child-drowns-intl/index.html\n",
      "link already exists: https://www.cnn.com/2020/02/16/health/coronavirus-how-to-protect-yourself-trnd/index.html\n",
      "link already exists: https://www.cnn.com/2020/03/02/politics/affordable-care-act-supreme-court-analysis/index.html\n",
      "link already exists: https://www.cnn.com/2020/03/02/investing/dow-stock-market-today/index.html\n",
      "link already exists: https://www.cnn.com/2020/03/02/business/rothys-bags/index.html\n",
      "link already exists: https://www.cnn.com/2020/03/02/opinions/trump-failings-coronavirus-opinion-bergen/index.html\n"
     ]
    }
   ],
   "source": [
    "for i in range(0, 15):\n",
    "    print(i)\n",
    "    \n",
    "    if i == 0:\n",
    "        url = \"https://www.cnn.com/search?size=100&q=coronavirus&sort=newest\"\n",
    "    else:\n",
    "        url = \"https://www.cnn.com/search?size=100&q=coronavirus&sort=newest&from={}&page={}\".format(100*i, i+1)\n",
    "    \n",
    "    driver.get(url)\n",
    "    now = datetime.now()\n",
    "    current_time = now.strftime(\"%H:%M:%S\")\n",
    "    print('sleeping... {}'.format(current_time))\n",
    "    time.sleep(60)\n",
    "    \n",
    "    links = scrape_cnn_links(driver)\n",
    "    bad_links = update_articles_table(links, 'cnn')\n",
    "    if len(bad_links) == len(links):\n",
    "        break"
   ]
  },
  {
   "cell_type": "code",
   "execution_count": null,
   "metadata": {},
   "outputs": [],
   "source": []
  },
  {
   "cell_type": "code",
   "execution_count": null,
   "metadata": {},
   "outputs": [],
   "source": []
  },
  {
   "cell_type": "code",
   "execution_count": null,
   "metadata": {},
   "outputs": [],
   "source": []
  },
  {
   "cell_type": "code",
   "execution_count": null,
   "metadata": {},
   "outputs": [],
   "source": []
  },
  {
   "cell_type": "code",
   "execution_count": null,
   "metadata": {},
   "outputs": [],
   "source": []
  },
  {
   "cell_type": "code",
   "execution_count": 126,
   "metadata": {},
   "outputs": [],
   "source": [
    "article = newspaper.Article(links[1])\n",
    "article.download()\n",
    "article.parse()"
   ]
  },
  {
   "cell_type": "code",
   "execution_count": 128,
   "metadata": {},
   "outputs": [
    {
     "data": {
      "text/plain": [
       "'(CNN) The first novel coronavirus cases were reported in Florida and New York on Sunday while officials in Washington state confirmed the second US death from the outbreak.\\n\\nThe New York patient is a woman in her late 30s, who contracted the virus while traveling in Iran and is currently isolated in her home, New York Gov. Andrew Cuomo said.\\n\\nWe have learned of the 1st positive case of COVID-19 in NY. The patient contracted the virus while in Iran & is isolated There is no reason for undue anxiety—the general risk remains low in NY. We are diligently managing this situation &will provide info as it becomes available. pic.twitter.com/rLnObvrg3R\\n\\n\"The patient has respiratory symptoms, but is not in serious condition and has been in a controlled situation since arriving to New York,\" Cuomo\\'s statement read.\\n\\nThe New York State Department of Health said the patient went to a hospital in Manhattan after contracting the virus.\\n\\nCuomo said approval for state testing was granted Saturday and the positive test was confirmed by New York\\'s Wadsworth Lab in Albany.\\n\\n\"There is no cause for surprise -- this was expected,\" Cuomo said. \"As I said from the beginning, it was a matter of when, not if there would be a positive case of novel coronavirus in New York.\"\\n\\nDisease detectives in New York have already identified close contacts of the patient, according to New York City Health Commissioner Oxiris Barbot.\\n\\n\"As we confront this emerging outbreak, we need to separate facts from fear, and guard against stigma and panic,\" Barbot said.\\n\\nCoronavirus cases continue to rise in US\\n\\nOfficials in King County, Washington, confirmed the second US coronavirus death was a male patient in his 70s with underlying health conditions. He was hospitalized at Evergreen Health in Kirkland and died Saturday, according to a King County Public Health news release.\\n\\nVice President Mike Pence told CNN\\'s Jake Tapper on Sunday that more US deaths were \"possible.\"\\n\\n\"We could have more sad news,\" he said. \"But the American people should know the risk for the average American remains low.\"\\n\\nThe New York case was one of several reported Sunday. Two new presumptive positive cases were identified in Florida, according to a press release from the Florida Department of Health. These are the first cases in the state of Florida.\\n\\nSeven more cases were reported in Washington state, bringing the total to 13 cases. Three have been reported in Snohomish County and 10 have been reported in King County, including two deaths.\\n\\nBut those were just the latest developments in Washington state, where officials Saturday announced the first coronavirus death in the US and where authorities were investigating a nursing facility outside Seattle.\\n\\nOf the 88,443 cases confirmed globally, at least 3,041 have been fatal -- 2,912 of which were in China. The US has at least 89 confirmed cases of the virus, according to counts by the Centers for Disease Control and Prevention and state and local health authorities.\\n\\nPeople wear protective masks to fend off the coronavirus, while street vendors peddlel hand sanitizer and other disinfecting products in Queens, New York.\\n\\nOfficials investigate Washington nursing facility\\n\\nAmong the US cases are several believed to have been spread person-to-person with unknown origins, including the patient in Washington state who died, according to Dr. Robert Redfield, director of the CDC.\\n\\nThe patient was a man in his 50s with underlying health conditions, according to Dr. Jeffrey Duchin, health officer for Seattle and King County, Washington.\\n\\nOfficials announced two cases linked to Life Care Center, a nursing facility in Kirkland, Washington, including a 40-year-old health care worker and a woman in her 70s. The health care worker is in satisfactory condition at a local hospital, and the woman in her 70s is hospitalized in serious condition.\\n\\nJUST WATCHED Epidemiologist: This is just the tip of the iceberg Replay More Videos ... MUST WATCH Epidemiologist: This is just the tip of the iceberg 02:18\\n\\nBut more than 50 residents and staff at the facility are experiencing symptoms and will be tested for coronavirus, Duchin told reporters Saturday. Four new presumptive positive cases were detected Sunday, all of whom were residents of the Life Care Center, according to a press release from Seattle and King County Public Health. .\\n\\n\"We\\'re in the process of investigating this situation as an outbreak,\" he said.\\n\\n\"We take the event very seriously,\" a statement from the facility\\'s executive director said, in part. Life Care Center is not allowing visits from families, volunteers or vendors, and admissions have been placed on hold for the time being, the statement said.\\n\\nBut residents and staff weren\\'t the only ones impacted.\\n\\nAt least 25 firefighters and two police officers who responded to the Life Care Center have now been placed under quarantine \"out of an abundance of caution,\" according to a statement from the City of Kirkland. Firefighters are either under quarantine at home or at a Kirkland fire station, the statement said.\\n\\nThere were also concerns that 16 nursing students and a faculty member from Lake Washington Institute of Technology were exposed to the virus after visiting the center late last week, the school said in a statement. The campus will be closed Monday and Tuesday to be cleaned and disinfected.\\n\\nFive more cases identified in California\\n\\nA total of five new presumptive positive cases of coronavirus were identified in California Sunday, according to health departments in three counties.\\n\\nTwo patients are health care workers from Alameda County and Solano County, according to a joint press release from two localities. Both are employees at NorthBay VacaValley Hospital in Vacaville, California, according to the release. Vacaville is about 34 miles southwest of Sacramento.\\n\\nThe two patients came into contact with a community-acquired case currently hospitalized at UC Davis Medical Center in Sacramento, the release said. The patients are currently in isolation at home.\\n\\nThese cases are pending confirmatory testing from the US Centers for Disease Control and Prevention, the release said.\\n\\nThe three other cases were identified in Santa Clara County, according to the county\\'s health department. The total number of cases in the county is now seven, the release said.\\n\\nOne of the cases in Santa Clara is a woman with chronic health issues who is hospitalized, the release said. Officials have not said how this person contracted the virus.\\n\\nThe other two cases are a husband and wife, the release said. Both are hospitalized and the husband has chronic health conditions. Both recently traveled to Egypt, the release said.\\n\\nThe Rhode Island Department of Health announced the state\\'s first presumptive positive case on Sunday morning. The patient was said to be in their 40s and had in mid-February traveled in Europe, including Italy, where there were 1,694 cases as of Sunday.\\n\\nThe Rhode Island patient is being treated at an undisclosed hospital, and officials are reaching out to people who have had direct contact with the individual, the state Department of Health said in a statement. The patient has had limited travel within the state and hasn\\'t been to work since returning from Italy.\\n\\nRhode Island reported a second case later on Sunday, a teenage girl with mild symptoms.\\n\\nA second case was also reported in Oregon on Sunday. The Washington County adult had close household contact with the state\\'s initial case and did not require medical attention, the Oregon Health Authority said in a news release.\\n\\nAmong the US cases are 44 people who were aboard the Diamond Princess cruise ship, three people who were repatriated from China and 42 cases that were detected in the US.\\n\\nAt least 19 cases in the US are travel-related and at least 19 are linked to person-to-person spread, according to the CDC. Four are of unknown origin\\n\\nBut New York University doctors and other experts say the US probably has more cases than identified officially. That\\'s because of testing delays and the virus\\' ability to spread before an infected person shows any symptoms.\\n\\nThe New York Times reported Sunday the virus might have been in Washington state for weeks and up to 1,500 people might be infected there.\\n\\nUS expands travel restrictions\\n\\nThe vice president said Saturday the administration is expanding existing travel restrictions on Iran to include foreign nationals who had visited Iran in the last 14 days.\\n\\nThe US will also increase travel advisories for Italy and South Korea to Level 4 -- the highest level -- advising Americans not to travel to specific regions in those countries.\\n\\nOn Sunday, President Trump announced via Twitter new screening procedures for people arriving in the US if they are traveling from \"high-risk countries.\"\\n\\nKatie Miller, a spokeswoman for Vice President Pence, clarified to CNN what is covered under the screening measures Trump mentioned in his tweet:\\n\\n\"There is already screening for those coming into the United States for those who have been in China in the last 14 days. This will be expanded to Italy and South Korea. Additionally, we are currently working on exit screening from South Korea, Italy, and other European nations as needed,\" Miller said.'"
      ]
     },
     "execution_count": 128,
     "metadata": {},
     "output_type": "execute_result"
    }
   ],
   "source": [
    "article.text"
   ]
  },
  {
   "cell_type": "code",
   "execution_count": 130,
   "metadata": {},
   "outputs": [
    {
     "data": {
      "text/plain": [
       "'https://www.cnn.com/2020/03/01/health/us-coronavirus-sunday/index.html'"
      ]
     },
     "execution_count": 130,
     "metadata": {},
     "output_type": "execute_result"
    }
   ],
   "source": [
    "links[1]"
   ]
  }
 ],
 "metadata": {
  "kernelspec": {
   "display_name": "Python 3",
   "language": "python",
   "name": "python3"
  },
  "language_info": {
   "codemirror_mode": {
    "name": "ipython",
    "version": 3
   },
   "file_extension": ".py",
   "mimetype": "text/x-python",
   "name": "python",
   "nbconvert_exporter": "python",
   "pygments_lexer": "ipython3",
   "version": "3.7.4"
  }
 },
 "nbformat": 4,
 "nbformat_minor": 2
}
