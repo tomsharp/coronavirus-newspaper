{
 "cells": [
  {
   "cell_type": "code",
   "execution_count": 1,
   "metadata": {},
   "outputs": [],
   "source": [
    "import sqlite3\n",
    "import pandas as pd\n",
    "import numpy as np\n",
    "from newspaper import Article\n",
    "from newspaper import fulltext\n",
    "import requests\n",
    "from bs4 import BeautifulSoup"
   ]
  },
  {
   "cell_type": "code",
   "execution_count": 2,
   "metadata": {},
   "outputs": [],
   "source": [
    "def get_incomplete_rows(site):\n",
    "    with sqlite3.connect(\"data/newspaper.db\") as conn:\n",
    "        q = \"\"\"\n",
    "             SELECT * \n",
    "             FROM articles \n",
    "             WHERE site = \"{}\"\n",
    "             AND title IS NULL\n",
    "             AND authors IS NULL\n",
    "             AND date IS NULL\n",
    "             AND text IS NULL\n",
    "             \"\"\".format(site)\n",
    "        df = pd.read_sql(q, conn)\n",
    "        return df"
   ]
  },
  {
   "cell_type": "code",
   "execution_count": 3,
   "metadata": {},
   "outputs": [],
   "source": [
    "def build_article_data_cnn(row, db_path='data/newspaper.db'):\n",
    "    url = row['link']\n",
    "    article = Article(url)\n",
    "    article.download()\n",
    "    \n",
    "    try:\n",
    "        article.parse()\n",
    "\n",
    "        row['title'] = article.title\n",
    "        row['authors'] = \", \".join(article.authors)\n",
    "        date = article.publish_date\n",
    "        try:\n",
    "            date = date.date()\n",
    "        except:\n",
    "            pass\n",
    "        row['date'] = date\n",
    "\n",
    "        html = article.html\n",
    "        soup = BeautifulSoup(html, 'html.parser')\n",
    "        text_divs = soup.findAll(\"div\", {\"class\": \"zn-body__paragraph\"})\n",
    "        row['text'] = \" \".join([div.text for div in text_divs])\n",
    "\n",
    "        return row\n",
    "    \n",
    "    except:\n",
    "        row['title'] = np.nan \n",
    "        row['authors'] = np.nan \n",
    "        row['date'] = np.nan\n",
    "        row['text'] = np.nan \n",
    "        return row"
   ]
  },
  {
   "cell_type": "code",
   "execution_count": 32,
   "metadata": {},
   "outputs": [],
   "source": [
    "def build_article_data_nytimes(row, db_path='data/newspaper.db'):\n",
    "    url = row['link']\n",
    "    article = Article(url)\n",
    "    article.download()\n",
    "    \n",
    "    try:\n",
    "        article.parse()\n",
    "\n",
    "        row['title'] = article.title\n",
    "        row['authors'] = \", \".join(article.authors)\n",
    "        date = article.publish_date\n",
    "        try:\n",
    "            date = date.date()\n",
    "        except:\n",
    "            pass\n",
    "        row['date'] = date\n",
    "\n",
    "        html = article.html\n",
    "        soup = BeautifulSoup(html, 'html.parser')\n",
    "        text_divs = soup.findAll(\"p\")\n",
    "        row['text'] = \" \".join([div.text for div in text_divs])\n",
    "\n",
    "        return row\n",
    "    \n",
    "    except:\n",
    "        row['title'] = np.nan \n",
    "        row['authors'] = np.nan \n",
    "        row['date'] = np.nan\n",
    "        row['text'] = np.nan \n",
    "        return row"
   ]
  },
  {
   "cell_type": "code",
   "execution_count": 4,
   "metadata": {},
   "outputs": [],
   "source": [
    "def add_article_data(df, db_path=\"data/newspaper.db\"):\n",
    "    for i, row in df.iterrows():\n",
    "        values = list(row.values[2:])\n",
    "        values.append(row.values[1])\n",
    "        values = tuple(values)\n",
    "\n",
    "        with sqlite3.connect(db_path) as conn:\n",
    "            cur = conn.cursor()\n",
    "            cur.execute(\"\"\"\n",
    "                        UPDATE articles \n",
    "                        SET title=?, \n",
    "                            authors=?, \n",
    "                            date=?, \n",
    "                            text=?\n",
    "                        WHERE link=?;\n",
    "                        \"\"\", values)\n",
    "            conn.commit()"
   ]
  },
  {
   "cell_type": "code",
   "execution_count": null,
   "metadata": {},
   "outputs": [],
   "source": []
  },
  {
   "cell_type": "code",
   "execution_count": null,
   "metadata": {},
   "outputs": [],
   "source": []
  },
  {
   "cell_type": "code",
   "execution_count": null,
   "metadata": {},
   "outputs": [],
   "source": []
  },
  {
   "cell_type": "code",
   "execution_count": null,
   "metadata": {},
   "outputs": [],
   "source": []
  },
  {
   "cell_type": "code",
   "execution_count": 5,
   "metadata": {},
   "outputs": [],
   "source": [
    "cnn = get_incomplete_rows('cnn')"
   ]
  },
  {
   "cell_type": "code",
   "execution_count": 7,
   "metadata": {},
   "outputs": [],
   "source": [
    "assert len(cnn) != 0\n",
    "cnn = cnn.apply(build_article_data_cnn, axis=1)"
   ]
  },
  {
   "cell_type": "code",
   "execution_count": 9,
   "metadata": {},
   "outputs": [],
   "source": [
    "add_article_data(cnn)"
   ]
  },
  {
   "cell_type": "code",
   "execution_count": null,
   "metadata": {},
   "outputs": [],
   "source": []
  },
  {
   "cell_type": "code",
   "execution_count": 34,
   "metadata": {},
   "outputs": [],
   "source": [
    "nytimes = get_incomplete_rows('nytimes')"
   ]
  },
  {
   "cell_type": "code",
   "execution_count": 36,
   "metadata": {},
   "outputs": [],
   "source": [
    "assert len(nytimes) != 0\n",
    "nytimes = nytimes.apply(build_article_data_nytimes, axis=1)"
   ]
  },
  {
   "cell_type": "code",
   "execution_count": 37,
   "metadata": {},
   "outputs": [],
   "source": [
    "add_article_data(nytimes)"
   ]
  },
  {
   "cell_type": "code",
   "execution_count": null,
   "metadata": {},
   "outputs": [],
   "source": []
  },
  {
   "cell_type": "code",
   "execution_count": null,
   "metadata": {},
   "outputs": [],
   "source": []
  },
  {
   "cell_type": "code",
   "execution_count": null,
   "metadata": {},
   "outputs": [],
   "source": []
  },
  {
   "cell_type": "code",
   "execution_count": null,
   "metadata": {},
   "outputs": [],
   "source": []
  }
 ],
 "metadata": {
  "kernelspec": {
   "display_name": "Python 3",
   "language": "python",
   "name": "python3"
  },
  "language_info": {
   "codemirror_mode": {
    "name": "ipython",
    "version": 3
   },
   "file_extension": ".py",
   "mimetype": "text/x-python",
   "name": "python",
   "nbconvert_exporter": "python",
   "pygments_lexer": "ipython3",
   "version": "3.7.4"
  }
 },
 "nbformat": 4,
 "nbformat_minor": 2
}
